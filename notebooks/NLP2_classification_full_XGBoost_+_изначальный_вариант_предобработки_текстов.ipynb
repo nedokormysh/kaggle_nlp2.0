{
  "cells": [
    {
      "cell_type": "markdown",
      "metadata": {
        "id": "Bz_C_zm2sdE0"
      },
      "source": [
        "# Загрузка библиотек"
      ]
    },
    {
      "cell_type": "code",
      "execution_count": null,
      "metadata": {
        "colab": {
          "base_uri": "https://localhost:8080/"
        },
        "id": "6Jw7pD-noDpq",
        "outputId": "613437a9-949c-4255-9615-8c300bab519f"
      },
      "outputs": [
        {
          "output_type": "stream",
          "name": "stdout",
          "text": [
            "\u001b[2K     \u001b[90m━━━━━━━━━━━━━━━━━━━━━━━━━━━━━━━━━━━━━━━━\u001b[0m \u001b[32m413.4/413.4 kB\u001b[0m \u001b[31m3.2 MB/s\u001b[0m eta \u001b[36m0:00:00\u001b[0m\n",
            "\u001b[2K     \u001b[90m━━━━━━━━━━━━━━━━━━━━━━━━━━━━━━━━━━━━━━━━\u001b[0m \u001b[32m233.4/233.4 kB\u001b[0m \u001b[31m5.5 MB/s\u001b[0m eta \u001b[36m0:00:00\u001b[0m\n",
            "\u001b[2K     \u001b[90m━━━━━━━━━━━━━━━━━━━━━━━━━━━━━━━━━━━━━━━━\u001b[0m \u001b[32m78.6/78.6 kB\u001b[0m \u001b[31m5.7 MB/s\u001b[0m eta \u001b[36m0:00:00\u001b[0m\n",
            "\u001b[2K     \u001b[90m━━━━━━━━━━━━━━━━━━━━━━━━━━━━━━━━━━━━━━━━\u001b[0m \u001b[32m98.7/98.7 MB\u001b[0m \u001b[31m4.5 MB/s\u001b[0m eta \u001b[36m0:00:00\u001b[0m\n",
            "\u001b[2K     \u001b[90m━━━━━━━━━━━━━━━━━━━━━━━━━━━━━━━━━━━━━━━━\u001b[0m \u001b[32m34.4/34.4 MB\u001b[0m \u001b[31m29.0 MB/s\u001b[0m eta \u001b[36m0:00:00\u001b[0m\n",
            "\u001b[2K     \u001b[90m━━━━━━━━━━━━━━━━━━━━━━━━━━━━━━━━━━━━━━━━\u001b[0m \u001b[32m55.5/55.5 kB\u001b[0m \u001b[31m5.7 MB/s\u001b[0m eta \u001b[36m0:00:00\u001b[0m\n",
            "\u001b[2K     \u001b[90m━━━━━━━━━━━━━━━━━━━━━━━━━━━━━━━━━━━━━━━━\u001b[0m \u001b[32m46.7/46.7 kB\u001b[0m \u001b[31m4.1 MB/s\u001b[0m eta \u001b[36m0:00:00\u001b[0m\n",
            "\u001b[?25h  Preparing metadata (setup.py) ... \u001b[?25l\u001b[?25hdone\n",
            "\u001b[2K     \u001b[90m━━━━━━━━━━━━━━━━━━━━━━━━━━━━━━━━━━━━━━━━\u001b[0m \u001b[32m8.2/8.2 MB\u001b[0m \u001b[31m81.4 MB/s\u001b[0m eta \u001b[36m0:00:00\u001b[0m\n",
            "\u001b[?25h  Preparing metadata (setup.py) ... \u001b[?25l\u001b[?25hdone\n",
            "  Building wheel for docopt (setup.py) ... \u001b[?25l\u001b[?25hdone\n",
            "  Building wheel for intervaltree (setup.py) ... \u001b[?25l\u001b[?25hdone\n"
          ]
        }
      ],
      "source": [
        "!pip install optuna -q\n",
        "!pip install catboost -q\n",
        "!pip install natasha -q"
      ]
    },
    {
      "cell_type": "code",
      "execution_count": null,
      "metadata": {
        "colab": {
          "base_uri": "https://localhost:8080/"
        },
        "id": "aEAQCKcILUJi",
        "outputId": "a70c6bef-7a52-48f3-b6a3-31beec6ac08f"
      },
      "outputs": [
        {
          "output_type": "stream",
          "name": "stderr",
          "text": [
            "[nltk_data] Downloading package stopwords to /root/nltk_data...\n",
            "[nltk_data]   Unzipping corpora/stopwords.zip.\n"
          ]
        }
      ],
      "source": [
        "import pandas as pd\n",
        "import numpy as np\n",
        "\n",
        "from sklearn.model_selection import KFold, StratifiedKFold\n",
        "from sklearn.model_selection import train_test_split\n",
        "from sklearn.preprocessing import OneHotEncoder, MinMaxScaler, StandardScaler, LabelEncoder\n",
        "from sklearn.model_selection import GridSearchCV, RandomizedSearchCV\n",
        "from catboost import CatBoostClassifier, CatBoostRegressor, Pool\n",
        "import lightgbm as lgb\n",
        "from lightgbm import LGBMRegressor, early_stopping, Dataset, LGBMClassifier\n",
        "import xgboost as xgb\n",
        "from xgboost import XGBClassifier\n",
        "from mlxtend.feature_selection import ColumnSelector\n",
        "\n",
        "from sklearn.metrics import accuracy_score\n",
        "from sklearn.metrics import balanced_accuracy_score\n",
        "\n",
        "import optuna\n",
        "# from optuna.integration import CatBoostPruningCallback\n",
        "from optuna.integration import CatBoostPruningCallback, LightGBMPruningCallback, XGBoostPruningCallback\n",
        "\n",
        "import seaborn as sns\n",
        "import datetime\n",
        "from wordcloud import WordCloud, STOPWORDS\n",
        "\n",
        "import pickle\n",
        "\n",
        "import nltk\n",
        "from nltk.corpus import stopwords\n",
        "nltk.download(\"stopwords\")\n",
        "\n",
        "sns.set(style=\"darkgrid\")\n",
        "%matplotlib inline\n",
        "\n",
        "import warnings\n",
        "warnings.simplefilter('ignore')\n",
        "\n",
        "from collections import defaultdict\n",
        "from sklearn.feature_extraction.text import TfidfVectorizer\n",
        "from sklearn.linear_model import LogisticRegression\n",
        "from sklearn.pipeline import Pipeline\n",
        "from sklearn.metrics import classification_report\n",
        "from sklearn.naive_bayes import MultinomialNB\n",
        "from sklearn.svm import SVC\n",
        "\n",
        "import gensim.downloader\n",
        "from gensim.models import Word2Vec, KeyedVectors\n",
        "from gensim.models.fasttext import FastText\n",
        "from natasha import Doc, Segmenter, MorphVocab, NewsEmbedding, NewsMorphTagger"
      ]
    },
    {
      "cell_type": "markdown",
      "metadata": {
        "id": "F8mSAvwVw4HI"
      },
      "source": [
        "фонтанка, лента, риа, дзен?"
      ]
    },
    {
      "cell_type": "markdown",
      "metadata": {
        "id": "CuIfM_dix0ZM"
      },
      "source": [
        "# Фиксируем значения"
      ]
    },
    {
      "cell_type": "code",
      "execution_count": null,
      "metadata": {
        "id": "oNRCZM68xztd"
      },
      "outputs": [],
      "source": [
        "RND_STATE = 7575\n",
        "N_EST = 1000\n",
        "sampler = optuna.samplers.TPESampler(seed=RND_STATE)"
      ]
    },
    {
      "cell_type": "markdown",
      "metadata": {
        "id": "Nur52VsuXALf"
      },
      "source": [
        "# Загрузка данных"
      ]
    },
    {
      "cell_type": "code",
      "execution_count": null,
      "metadata": {
        "id": "glyHtS7Axdae"
      },
      "outputs": [],
      "source": [
        "from google.colab import drive\n",
        "drive.mount('/content/drive')"
      ]
    },
    {
      "cell_type": "markdown",
      "metadata": {
        "id": "Cx8Rp9usTKfW"
      },
      "source": [
        "Вероятно большая часть данных получена с сайта Лента.ру. Также видимо есть фонтанка. И возможно риа?"
      ]
    },
    {
      "cell_type": "code",
      "execution_count": null,
      "metadata": {
        "id": "uXwPGGqH0yOP"
      },
      "outputs": [],
      "source": [
        "# общий датасет собирался из трёх. Можно запустить эту часть кода и уже работать с разделом modeling\n",
        "# либо собрать датасет заново (разделы ниже)\n",
        "# тогда потребуется работать с новым собранным датасетом и изменить путь path_train\n",
        "\n",
        "class Paths:\n",
        "    path_train = '/content/drive/MyDrive/competitions/NLP2.0/data/parsing_data/df_5_fontanka_lenta.csv'\n",
        "    path_test = '/content/drive/MyDrive/competitions/NLP2.0/data/test_news.csv'\n",
        "    path_sub = '/content/drive/MyDrive/competitions/NLP2.0/data/base_submission_news.csv'\n",
        "    # path_trainw2v = '/content/drive/MyDrive/competitions/NLP2.0/tmp_data/train_prep_2.csv'\n",
        "    path_prep_test = '/content/drive/MyDrive/competitions/NLP2.0/data/prep_data/test_prep.csv'\n",
        "    path_prep_train_no_ria = '/content/drive/MyDrive/competitions/NLP2.0/data/prep_data/train_02.01_prep.csv'\n",
        "\n",
        "paths = Paths()"
      ]
    },
    {
      "cell_type": "code",
      "execution_count": null,
      "metadata": {
        "id": "U-wrKeMiWwrI"
      },
      "outputs": [],
      "source": [
        "pd.set_option('max_colwidth', 120)\n",
        "pd.set_option('display.width', 500)"
      ]
    },
    {
      "cell_type": "code",
      "execution_count": null,
      "metadata": {
        "id": "0EKaCb36Vuqv"
      },
      "outputs": [],
      "source": [
        "#df_test = pd.read_csv(paths.path_test)"
      ]
    },
    {
      "cell_type": "code",
      "execution_count": null,
      "metadata": {
        "colab": {
          "base_uri": "https://localhost:8080/",
          "height": 122
        },
        "id": "1jXPZQCBV-02",
        "outputId": "e65a49c5-4dce-4165-db50-7d1a46e60c13"
      },
      "outputs": [
        {
          "data": {
            "application/vnd.google.colaboratory.intrinsic+json": {
              "type": "string"
            },
            "text/plain": [
              "'Тренер баскетбольной команды средней школы в американском штате Нью-Джерси подвергся жестокому избиению со стороны своих подопечных. Видео опубликовано на TMZ Sports. Инцидент произошел 4 февраля. Полиция отреагировала на сообщение о том, что у дверей средней школы избивают одного из ее работников. На видео четверо молодых людей бьют мужчину руками и ногами. Как утверждает полиция, нападавшие — игроки школьной баскетбольной команды. Жертвой стал их тренер. Полиция Нью-Джерси не стала разглашать имена подозреваемых. Мэр города Ньюарк пообещал, что ученики школы понесут наказание.'"
            ]
          },
          "execution_count": 39,
          "metadata": {},
          "output_type": "execute_result"
        }
      ],
      "source": [
        "# df_test.iloc[23103].content"
      ]
    },
    {
      "cell_type": "markdown",
      "metadata": {
        "id": "TrANXjqRrf_R"
      },
      "source": [
        "## Fontanka"
      ]
    },
    {
      "cell_type": "code",
      "execution_count": null,
      "metadata": {
        "id": "Gy7JFpiIM5Vi"
      },
      "outputs": [],
      "source": [
        "# df_fontanka = pd.DataFrame()\n",
        "\n",
        "# for i in range(1, 13):\n",
        "#     df_ = pd.read_csv(f'https://raw.githubusercontent.com/nedokormysh/DP_NLP_bootcamp/parsing/data/fontanka_full_{i}.csv')\n",
        "#     df_fontanka = pd.concat([df_fontanka, df_])"
      ]
    },
    {
      "cell_type": "code",
      "execution_count": null,
      "metadata": {
        "colab": {
          "base_uri": "https://localhost:8080/"
        },
        "id": "y4WUNG2zteWI",
        "outputId": "29d6019c-5b61-4e90-e2b3-c796eeff0bd2"
      },
      "outputs": [
        {
          "data": {
            "text/plain": [
              "(26515, 6)"
            ]
          },
          "execution_count": 20,
          "metadata": {},
          "output_type": "execute_result"
        }
      ],
      "source": [
        "# # Удаляем дубли\n",
        "# df_fontanka.drop_duplicates(inplace=True)\n",
        "# # Удаляем пропуски\n",
        "# df_fontanka.dropna(inplace=True)\n",
        "# # Переводим тэги к нижнему регистру\n",
        "# df_fontanka['topic']= df_fontanka['topic'].apply(lambda x: x.lower())\n",
        "\n",
        "# df_fontanka.shape"
      ]
    },
    {
      "cell_type": "code",
      "execution_count": null,
      "metadata": {
        "id": "7057d89O54S_"
      },
      "outputs": [],
      "source": [
        "# df_fontanka.topic.unique()"
      ]
    },
    {
      "cell_type": "markdown",
      "metadata": {
        "id": "4F6NcxN6X1UQ"
      },
      "source": [
        "Изначальный анализ данных проводился на здесь https://github.com/nedokormysh/DP_NLP_bootcamp/tree/parsing"
      ]
    },
    {
      "cell_type": "code",
      "execution_count": null,
      "metadata": {
        "id": "mohykblfrUmB"
      },
      "outputs": [],
      "source": [
        "# # di = {'Общество/Россия' : '0',\n",
        "# #       'Экономика' : '1',\n",
        "# #       'Силовые структуры' : '2',\n",
        "# #       'Бывший СССР' : '3',\n",
        "# #       'Спорт' : '4',\n",
        "# #       'Забота о себе' : '5',\n",
        "# #       'Строительство' : '6',\n",
        "# #       'Туризм/Путешествия' : '7',\n",
        "# #       'Наука и техника' : '8',\n",
        "# #       }"
      ]
    },
    {
      "cell_type": "code",
      "execution_count": null,
      "metadata": {
        "id": "abW7Gc4cr_Bw"
      },
      "outputs": [],
      "source": [
        "# df_fontanka = df_fontanka[df_fontanka['topic'].isin(['общество',\n",
        "#                                                     #  'город',\n",
        "#                                                     #  'власть',\n",
        "#                                                     #  'политика',\n",
        "#                                                      'финансы',\n",
        "#                                                     #  'новости компаний',\n",
        "#                                                      'спорт',\n",
        "#                                                      'строительство',\n",
        "#                                                      'недвижимость',\n",
        "#                                                      'туризм',\n",
        "#                                                      'технологии',\n",
        "#                                                     #  'образ жизни'\n",
        "#                                                      ])]"
      ]
    },
    {
      "cell_type": "code",
      "execution_count": null,
      "metadata": {
        "id": "FPejeFy64b1H"
      },
      "outputs": [],
      "source": [
        "# di_fontanka = {'общество' : 0,\n",
        "#                'финансы' : 1,\n",
        "#                'спорт' : 4,\n",
        "#                'строительство' : 6,\n",
        "#                'недвижимость': 6,\n",
        "#                'туризм' : 7,\n",
        "#                'технологии' : 8}"
      ]
    },
    {
      "cell_type": "code",
      "execution_count": null,
      "metadata": {
        "id": "ibW7kh3n46bv"
      },
      "outputs": [],
      "source": [
        "# # Размер каждой категории\n",
        "# df_fontanka.topic.value_counts()"
      ]
    },
    {
      "cell_type": "code",
      "execution_count": null,
      "metadata": {
        "colab": {
          "base_uri": "https://localhost:8080/"
        },
        "id": "kCZFDBUV39aS",
        "outputId": "e7378d80-9e9c-4512-9022-f28edacfb0f5"
      },
      "outputs": [
        {
          "data": {
            "text/plain": [
              "0    7341\n",
              "4     980\n",
              "6     979\n",
              "1     418\n",
              "8     241\n",
              "7     128\n",
              "Name: topic, dtype: int64"
            ]
          },
          "execution_count": 23,
          "metadata": {},
          "output_type": "execute_result"
        }
      ],
      "source": [
        "# # закодируем темы числовым кодом\n",
        "# df_fontanka['topic'] = pd.Series(df_fontanka.topic.map(di_fontanka))\n",
        "# df_fontanka.topic.value_counts()"
      ]
    },
    {
      "cell_type": "code",
      "execution_count": null,
      "metadata": {
        "id": "wxPVjJrfuDy6"
      },
      "outputs": [],
      "source": [
        "# drop_lst_f = [\"url\", \"datetime\", \"views\", 'title']\n",
        "\n",
        "# df_fontanka.drop(drop_lst_f, axis=1, inplace=True)"
      ]
    },
    {
      "cell_type": "code",
      "execution_count": null,
      "metadata": {
        "id": "vf5Edddkt5_x"
      },
      "outputs": [],
      "source": [
        "# df_fontanka.head()"
      ]
    },
    {
      "cell_type": "markdown",
      "metadata": {
        "id": "pWjC4mg6rk93"
      },
      "source": [
        "## RIA"
      ]
    },
    {
      "cell_type": "code",
      "execution_count": null,
      "metadata": {
        "id": "cURhuq9oeClG"
      },
      "outputs": [],
      "source": [
        "# df_ria = pd.read_csv('/content/drive/MyDrive/competitions/NLP2.0/tmp_data/df_ria.csv')\n",
        "# df_ria_2 = pd.read_csv('/content/drive/MyDrive/competitions/NLP2.0/tmp_data/df_ria_2.csv')\n",
        "# df_ria2 = pd.read_csv('/content/drive/MyDrive/competitions/NLP2.0/tmp_data/df_ria2.csv')\n",
        "# df_ria_0 = pd.read_csv('/content/drive/MyDrive/competitions/NLP2.0/tmp_data/df_ria_0.csv')"
      ]
    },
    {
      "cell_type": "code",
      "execution_count": null,
      "metadata": {
        "id": "Ba9HkP-2bXUh"
      },
      "outputs": [],
      "source": [
        "# df_ria = pd.concat([df_ria, df_ria_2, df_ria2, df_ria_0])"
      ]
    },
    {
      "cell_type": "code",
      "execution_count": null,
      "metadata": {
        "id": "l1GpSrdrbgeg"
      },
      "outputs": [],
      "source": [
        "# df_ria.shape"
      ]
    },
    {
      "cell_type": "code",
      "execution_count": null,
      "metadata": {
        "id": "bSky1-fqbnuM"
      },
      "outputs": [],
      "source": [
        "# df_ria.drop_duplicates(inplace=True)"
      ]
    },
    {
      "cell_type": "code",
      "execution_count": null,
      "metadata": {
        "id": "iw9H4hMTcC9w"
      },
      "outputs": [],
      "source": [
        "# df_ria.head(2)"
      ]
    },
    {
      "cell_type": "code",
      "execution_count": null,
      "metadata": {
        "id": "1UE1ST87ciKw"
      },
      "outputs": [],
      "source": [
        "# drop_lst = [\"id\", \"url\", \"title\", \"subtitle\", \"datetime\"]\n",
        "\n",
        "# df_ria.drop(drop_lst, axis=1, inplace=True)"
      ]
    },
    {
      "cell_type": "code",
      "execution_count": null,
      "metadata": {
        "id": "h9miykLxc178"
      },
      "outputs": [],
      "source": [
        "# df_ria.head()"
      ]
    },
    {
      "cell_type": "code",
      "execution_count": null,
      "metadata": {
        "id": "PbcAhcsUvvjB"
      },
      "outputs": [],
      "source": [
        "# di_ria = {'society': 0,\n",
        "#           'economy': 1,\n",
        "#           'science': 8}"
      ]
    },
    {
      "cell_type": "code",
      "execution_count": null,
      "metadata": {
        "id": "x1l1clUMrVzO"
      },
      "outputs": [],
      "source": [
        "# df_ria['topic'] = pd.Series(df_ria.topic.map(di_ria))"
      ]
    },
    {
      "cell_type": "markdown",
      "metadata": {
        "id": "eu7e9IHXGwRP"
      },
      "source": [
        "## Lenta"
      ]
    },
    {
      "cell_type": "markdown",
      "metadata": {
        "id": "9Jr6PEH1ZAFE"
      },
      "source": [
        "https://github.com/nedokormysh/Stepik_Ai_edu_nlp2.0/blob/week_5_scraping_parsing/parsing_news_from_lenta_ru_.ipynb"
      ]
    },
    {
      "cell_type": "code",
      "execution_count": null,
      "metadata": {
        "colab": {
          "base_uri": "https://localhost:8080/",
          "height": 1000
        },
        "id": "hIRRhlWgHM1_",
        "outputId": "bed73c2d-e9f1-4df5-d231-e33698a9867d"
      },
      "outputs": [
        {
          "data": {
            "text/html": [
              "\n",
              "  <div id=\"df-848a10dd-3927-4161-8ff7-a31eb2dd37ba\" class=\"colab-df-container\">\n",
              "    <div>\n",
              "<style scoped>\n",
              "    .dataframe tbody tr th:only-of-type {\n",
              "        vertical-align: middle;\n",
              "    }\n",
              "\n",
              "    .dataframe tbody tr th {\n",
              "        vertical-align: top;\n",
              "    }\n",
              "\n",
              "    .dataframe thead th {\n",
              "        text-align: right;\n",
              "    }\n",
              "</style>\n",
              "<table border=\"1\" class=\"dataframe\">\n",
              "  <thead>\n",
              "    <tr style=\"text-align: right;\">\n",
              "      <th></th>\n",
              "      <th>Unnamed: 0</th>\n",
              "      <th>docid</th>\n",
              "      <th>url</th>\n",
              "      <th>title</th>\n",
              "      <th>modified</th>\n",
              "      <th>lastmodtime</th>\n",
              "      <th>type</th>\n",
              "      <th>domain</th>\n",
              "      <th>status</th>\n",
              "      <th>part</th>\n",
              "      <th>bloc</th>\n",
              "      <th>tags</th>\n",
              "      <th>image_url</th>\n",
              "      <th>pubdate</th>\n",
              "      <th>text</th>\n",
              "      <th>rightcol</th>\n",
              "      <th>snippet</th>\n",
              "    </tr>\n",
              "  </thead>\n",
              "  <tbody>\n",
              "    <tr>\n",
              "      <th>0</th>\n",
              "      <td>0</td>\n",
              "      <td>869501</td>\n",
              "      <td>https://lenta.ru/news/2019/01/01/knife/</td>\n",
              "      <td>Трех британцев порезали ножом на вокзале</td>\n",
              "      <td>1546301460</td>\n",
              "      <td>1546301555</td>\n",
              "      <td>1</td>\n",
              "      <td>1</td>\n",
              "      <td>0</td>\n",
              "      <td>0</td>\n",
              "      <td>2</td>\n",
              "      <td>[4]</td>\n",
              "      <td>https://icdn.lenta.ru/images/2019/01/01/02/20190101023935929/detail_173b9ff3938022fd4cb4edd05805847f.jpg</td>\n",
              "      <td>1546301460</td>\n",
              "      <td>Фото: @dobsonMEN Вооруженный ножом мужчина ранил трех человек на железнодорожной и трамвайной станции Виктория в Ман...</td>\n",
              "      <td>Преступника оперативно задержали</td>\n",
              "      <td>Фото: @dobsonMEN Вооруженный ножом ... Виктория в Манчестере, Великобритания. Об этом сообщает BBC News со ссылкой н...</td>\n",
              "    </tr>\n",
              "    <tr>\n",
              "      <th>1</th>\n",
              "      <td>1</td>\n",
              "      <td>869502</td>\n",
              "      <td>https://lenta.ru/news/2019/01/01/pentagon/</td>\n",
              "      <td>Пресс-секретарь Пентагона заставляла подчиненных покупать колготки и попалась</td>\n",
              "      <td>1546303800</td>\n",
              "      <td>1546353512</td>\n",
              "      <td>1</td>\n",
              "      <td>1</td>\n",
              "      <td>0</td>\n",
              "      <td>0</td>\n",
              "      <td>2</td>\n",
              "      <td>[1]</td>\n",
              "      <td>https://icdn.lenta.ru/images/2019/01/01/03/20190101032720409/detail_1f1e58974c4899b26623039eb7ffb617.jpg</td>\n",
              "      <td>1546303800</td>\n",
              "      <td>Фото: Alex Brandon / AP Пресс-секретарь Пентагона Дана Уайт ушла в отставку из-за скандала с некорректным обращением...</td>\n",
              "      <td>Она увольняла сотрудников, которые жаловались на ее поведение</td>\n",
              "      <td>Фото: Alex Brandon / AP Пресс-секретарь ... некорректным обращением с подчиненными. Прощальное письмо сотрудникам ве...</td>\n",
              "    </tr>\n",
              "    <tr>\n",
              "      <th>2</th>\n",
              "      <td>2</td>\n",
              "      <td>869503</td>\n",
              "      <td>https://lenta.ru/news/2019/01/01/xvii_century/</td>\n",
              "      <td>Киевских политиков обвинили в попытке вернуть страну в XVII век</td>\n",
              "      <td>1546307160</td>\n",
              "      <td>1546320399</td>\n",
              "      <td>1</td>\n",
              "      <td>1</td>\n",
              "      <td>0</td>\n",
              "      <td>0</td>\n",
              "      <td>3</td>\n",
              "      <td>[55]</td>\n",
              "      <td>https://icdn.lenta.ru/images/2019/01/01/03/20190101035912755/detail_38881e2c1b6e15020025f30fa21e1a5a.jpg</td>\n",
              "      <td>1546307160</td>\n",
              "      <td>Фото: Евгений Котенко / РИА Новости Бывший президент Украины Виктор Ющенко назвал обещания киевских политиков снизит...</td>\n",
              "      <td>Ющенко сравнил публичные обещания политиков с унижением</td>\n",
              "      <td>Фото: Евгений Котенко / РИА Новости ... газ попыткой вернуть страну в XVII век. Об этом бывший президент страны Викт...</td>\n",
              "    </tr>\n",
              "    <tr>\n",
              "      <th>3</th>\n",
              "      <td>3</td>\n",
              "      <td>869504</td>\n",
              "      <td>https://lenta.ru/news/2019/01/01/ne_vredno/</td>\n",
              "      <td>РПЦ заступилась за «Иронию судьбы»</td>\n",
              "      <td>1546308404</td>\n",
              "      <td>1546308404</td>\n",
              "      <td>1</td>\n",
              "      <td>1</td>\n",
              "      <td>0</td>\n",
              "      <td>0</td>\n",
              "      <td>1</td>\n",
              "      <td>[2]</td>\n",
              "      <td>https://icdn.lenta.ru/images/2019/01/01/04/20190101045055141/detail_95e38179f32c5261cade1807849ca135.jpg</td>\n",
              "      <td>1546308404</td>\n",
              "      <td>Кадр: фильм «Ирония судьбы, или С лёгким паром!» Глава синодального отдела по взаимоотношениям церкви с обществом и ...</td>\n",
              "      <td>Представитель церкви назвал фильм доброй новогодней сказкой</td>\n",
              "      <td>Кадр: фильм «Ирония судьбы, или С лёгким ... противоречащим христианским ценностям. Об этом он написал в Telegram-ка...</td>\n",
              "    </tr>\n",
              "    <tr>\n",
              "      <th>4</th>\n",
              "      <td>4</td>\n",
              "      <td>869505</td>\n",
              "      <td>https://lenta.ru/news/2019/01/01/lukashenko/</td>\n",
              "      <td>Лукашенко обошел стороной интеграцию с Россией в новогоднем обращении</td>\n",
              "      <td>1546310668</td>\n",
              "      <td>1546310668</td>\n",
              "      <td>1</td>\n",
              "      <td>1</td>\n",
              "      <td>0</td>\n",
              "      <td>0</td>\n",
              "      <td>3</td>\n",
              "      <td>[54]</td>\n",
              "      <td>https://icdn.lenta.ru/images/2019/01/01/05/20190101052532644/detail_688e441ceb28eeaee76620324d80b616.jpg</td>\n",
              "      <td>1546310668</td>\n",
              "      <td>Фото: скриншот / CTVBY Президент Белоруссии Александр Лукашенко во время новогоднего обращения призвал граждан стран...</td>\n",
              "      <td>Он призвал укреплять государственность и независимость</td>\n",
              "      <td>Фото: скриншот / CTVBY Президент ... более тесной интеграции с Россией. Речь белорусского лидера опубликована на его...</td>\n",
              "    </tr>\n",
              "  </tbody>\n",
              "</table>\n",
              "</div>\n",
              "    <div class=\"colab-df-buttons\">\n",
              "\n",
              "  <div class=\"colab-df-container\">\n",
              "    <button class=\"colab-df-convert\" onclick=\"convertToInteractive('df-848a10dd-3927-4161-8ff7-a31eb2dd37ba')\"\n",
              "            title=\"Convert this dataframe to an interactive table.\"\n",
              "            style=\"display:none;\">\n",
              "\n",
              "  <svg xmlns=\"http://www.w3.org/2000/svg\" height=\"24px\" viewBox=\"0 -960 960 960\">\n",
              "    <path d=\"M120-120v-720h720v720H120Zm60-500h600v-160H180v160Zm220 220h160v-160H400v160Zm0 220h160v-160H400v160ZM180-400h160v-160H180v160Zm440 0h160v-160H620v160ZM180-180h160v-160H180v160Zm440 0h160v-160H620v160Z\"/>\n",
              "  </svg>\n",
              "    </button>\n",
              "\n",
              "  <style>\n",
              "    .colab-df-container {\n",
              "      display:flex;\n",
              "      gap: 12px;\n",
              "    }\n",
              "\n",
              "    .colab-df-convert {\n",
              "      background-color: #E8F0FE;\n",
              "      border: none;\n",
              "      border-radius: 50%;\n",
              "      cursor: pointer;\n",
              "      display: none;\n",
              "      fill: #1967D2;\n",
              "      height: 32px;\n",
              "      padding: 0 0 0 0;\n",
              "      width: 32px;\n",
              "    }\n",
              "\n",
              "    .colab-df-convert:hover {\n",
              "      background-color: #E2EBFA;\n",
              "      box-shadow: 0px 1px 2px rgba(60, 64, 67, 0.3), 0px 1px 3px 1px rgba(60, 64, 67, 0.15);\n",
              "      fill: #174EA6;\n",
              "    }\n",
              "\n",
              "    .colab-df-buttons div {\n",
              "      margin-bottom: 4px;\n",
              "    }\n",
              "\n",
              "    [theme=dark] .colab-df-convert {\n",
              "      background-color: #3B4455;\n",
              "      fill: #D2E3FC;\n",
              "    }\n",
              "\n",
              "    [theme=dark] .colab-df-convert:hover {\n",
              "      background-color: #434B5C;\n",
              "      box-shadow: 0px 1px 3px 1px rgba(0, 0, 0, 0.15);\n",
              "      filter: drop-shadow(0px 1px 2px rgba(0, 0, 0, 0.3));\n",
              "      fill: #FFFFFF;\n",
              "    }\n",
              "  </style>\n",
              "\n",
              "    <script>\n",
              "      const buttonEl =\n",
              "        document.querySelector('#df-848a10dd-3927-4161-8ff7-a31eb2dd37ba button.colab-df-convert');\n",
              "      buttonEl.style.display =\n",
              "        google.colab.kernel.accessAllowed ? 'block' : 'none';\n",
              "\n",
              "      async function convertToInteractive(key) {\n",
              "        const element = document.querySelector('#df-848a10dd-3927-4161-8ff7-a31eb2dd37ba');\n",
              "        const dataTable =\n",
              "          await google.colab.kernel.invokeFunction('convertToInteractive',\n",
              "                                                    [key], {});\n",
              "        if (!dataTable) return;\n",
              "\n",
              "        const docLinkHtml = 'Like what you see? Visit the ' +\n",
              "          '<a target=\"_blank\" href=https://colab.research.google.com/notebooks/data_table.ipynb>data table notebook</a>'\n",
              "          + ' to learn more about interactive tables.';\n",
              "        element.innerHTML = '';\n",
              "        dataTable['output_type'] = 'display_data';\n",
              "        await google.colab.output.renderOutput(dataTable, element);\n",
              "        const docLink = document.createElement('div');\n",
              "        docLink.innerHTML = docLinkHtml;\n",
              "        element.appendChild(docLink);\n",
              "      }\n",
              "    </script>\n",
              "  </div>\n",
              "\n",
              "\n",
              "<div id=\"df-6becfb5c-e02f-4ce1-aea6-ba1a1b2f8628\">\n",
              "  <button class=\"colab-df-quickchart\" onclick=\"quickchart('df-6becfb5c-e02f-4ce1-aea6-ba1a1b2f8628')\"\n",
              "            title=\"Suggest charts\"\n",
              "            style=\"display:none;\">\n",
              "\n",
              "<svg xmlns=\"http://www.w3.org/2000/svg\" height=\"24px\"viewBox=\"0 0 24 24\"\n",
              "     width=\"24px\">\n",
              "    <g>\n",
              "        <path d=\"M19 3H5c-1.1 0-2 .9-2 2v14c0 1.1.9 2 2 2h14c1.1 0 2-.9 2-2V5c0-1.1-.9-2-2-2zM9 17H7v-7h2v7zm4 0h-2V7h2v10zm4 0h-2v-4h2v4z\"/>\n",
              "    </g>\n",
              "</svg>\n",
              "  </button>\n",
              "\n",
              "<style>\n",
              "  .colab-df-quickchart {\n",
              "      --bg-color: #E8F0FE;\n",
              "      --fill-color: #1967D2;\n",
              "      --hover-bg-color: #E2EBFA;\n",
              "      --hover-fill-color: #174EA6;\n",
              "      --disabled-fill-color: #AAA;\n",
              "      --disabled-bg-color: #DDD;\n",
              "  }\n",
              "\n",
              "  [theme=dark] .colab-df-quickchart {\n",
              "      --bg-color: #3B4455;\n",
              "      --fill-color: #D2E3FC;\n",
              "      --hover-bg-color: #434B5C;\n",
              "      --hover-fill-color: #FFFFFF;\n",
              "      --disabled-bg-color: #3B4455;\n",
              "      --disabled-fill-color: #666;\n",
              "  }\n",
              "\n",
              "  .colab-df-quickchart {\n",
              "    background-color: var(--bg-color);\n",
              "    border: none;\n",
              "    border-radius: 50%;\n",
              "    cursor: pointer;\n",
              "    display: none;\n",
              "    fill: var(--fill-color);\n",
              "    height: 32px;\n",
              "    padding: 0;\n",
              "    width: 32px;\n",
              "  }\n",
              "\n",
              "  .colab-df-quickchart:hover {\n",
              "    background-color: var(--hover-bg-color);\n",
              "    box-shadow: 0 1px 2px rgba(60, 64, 67, 0.3), 0 1px 3px 1px rgba(60, 64, 67, 0.15);\n",
              "    fill: var(--button-hover-fill-color);\n",
              "  }\n",
              "\n",
              "  .colab-df-quickchart-complete:disabled,\n",
              "  .colab-df-quickchart-complete:disabled:hover {\n",
              "    background-color: var(--disabled-bg-color);\n",
              "    fill: var(--disabled-fill-color);\n",
              "    box-shadow: none;\n",
              "  }\n",
              "\n",
              "  .colab-df-spinner {\n",
              "    border: 2px solid var(--fill-color);\n",
              "    border-color: transparent;\n",
              "    border-bottom-color: var(--fill-color);\n",
              "    animation:\n",
              "      spin 1s steps(1) infinite;\n",
              "  }\n",
              "\n",
              "  @keyframes spin {\n",
              "    0% {\n",
              "      border-color: transparent;\n",
              "      border-bottom-color: var(--fill-color);\n",
              "      border-left-color: var(--fill-color);\n",
              "    }\n",
              "    20% {\n",
              "      border-color: transparent;\n",
              "      border-left-color: var(--fill-color);\n",
              "      border-top-color: var(--fill-color);\n",
              "    }\n",
              "    30% {\n",
              "      border-color: transparent;\n",
              "      border-left-color: var(--fill-color);\n",
              "      border-top-color: var(--fill-color);\n",
              "      border-right-color: var(--fill-color);\n",
              "    }\n",
              "    40% {\n",
              "      border-color: transparent;\n",
              "      border-right-color: var(--fill-color);\n",
              "      border-top-color: var(--fill-color);\n",
              "    }\n",
              "    60% {\n",
              "      border-color: transparent;\n",
              "      border-right-color: var(--fill-color);\n",
              "    }\n",
              "    80% {\n",
              "      border-color: transparent;\n",
              "      border-right-color: var(--fill-color);\n",
              "      border-bottom-color: var(--fill-color);\n",
              "    }\n",
              "    90% {\n",
              "      border-color: transparent;\n",
              "      border-bottom-color: var(--fill-color);\n",
              "    }\n",
              "  }\n",
              "</style>\n",
              "\n",
              "  <script>\n",
              "    async function quickchart(key) {\n",
              "      const quickchartButtonEl =\n",
              "        document.querySelector('#' + key + ' button');\n",
              "      quickchartButtonEl.disabled = true;  // To prevent multiple clicks.\n",
              "      quickchartButtonEl.classList.add('colab-df-spinner');\n",
              "      try {\n",
              "        const charts = await google.colab.kernel.invokeFunction(\n",
              "            'suggestCharts', [key], {});\n",
              "      } catch (error) {\n",
              "        console.error('Error during call to suggestCharts:', error);\n",
              "      }\n",
              "      quickchartButtonEl.classList.remove('colab-df-spinner');\n",
              "      quickchartButtonEl.classList.add('colab-df-quickchart-complete');\n",
              "    }\n",
              "    (() => {\n",
              "      let quickchartButtonEl =\n",
              "        document.querySelector('#df-6becfb5c-e02f-4ce1-aea6-ba1a1b2f8628 button');\n",
              "      quickchartButtonEl.style.display =\n",
              "        google.colab.kernel.accessAllowed ? 'block' : 'none';\n",
              "    })();\n",
              "  </script>\n",
              "</div>\n",
              "    </div>\n",
              "  </div>\n"
            ],
            "text/plain": [
              "   Unnamed: 0   docid                                             url                                                                          title    modified  lastmodtime  type  domain  status  part  bloc  tags                                                                                                 image_url     pubdate                                                                                                                     text  \\\n",
              "0           0  869501         https://lenta.ru/news/2019/01/01/knife/                                       Трех британцев порезали ножом на вокзале  1546301460   1546301555     1       1       0     0     2   [4]  https://icdn.lenta.ru/images/2019/01/01/02/20190101023935929/detail_173b9ff3938022fd4cb4edd05805847f.jpg  1546301460  Фото: @dobsonMEN Вооруженный ножом мужчина ранил трех человек на железнодорожной и трамвайной станции Виктория в Ман...   \n",
              "1           1  869502      https://lenta.ru/news/2019/01/01/pentagon/  Пресс-секретарь Пентагона заставляла подчиненных покупать колготки и попалась  1546303800   1546353512     1       1       0     0     2   [1]  https://icdn.lenta.ru/images/2019/01/01/03/20190101032720409/detail_1f1e58974c4899b26623039eb7ffb617.jpg  1546303800  Фото: Alex Brandon / AP Пресс-секретарь Пентагона Дана Уайт ушла в отставку из-за скандала с некорректным обращением...   \n",
              "2           2  869503  https://lenta.ru/news/2019/01/01/xvii_century/                Киевских политиков обвинили в попытке вернуть страну в XVII век  1546307160   1546320399     1       1       0     0     3  [55]  https://icdn.lenta.ru/images/2019/01/01/03/20190101035912755/detail_38881e2c1b6e15020025f30fa21e1a5a.jpg  1546307160  Фото: Евгений Котенко / РИА Новости Бывший президент Украины Виктор Ющенко назвал обещания киевских политиков снизит...   \n",
              "3           3  869504     https://lenta.ru/news/2019/01/01/ne_vredno/                                             РПЦ заступилась за «Иронию судьбы»  1546308404   1546308404     1       1       0     0     1   [2]  https://icdn.lenta.ru/images/2019/01/01/04/20190101045055141/detail_95e38179f32c5261cade1807849ca135.jpg  1546308404  Кадр: фильм «Ирония судьбы, или С лёгким паром!» Глава синодального отдела по взаимоотношениям церкви с обществом и ...   \n",
              "4           4  869505    https://lenta.ru/news/2019/01/01/lukashenko/          Лукашенко обошел стороной интеграцию с Россией в новогоднем обращении  1546310668   1546310668     1       1       0     0     3  [54]  https://icdn.lenta.ru/images/2019/01/01/05/20190101052532644/detail_688e441ceb28eeaee76620324d80b616.jpg  1546310668  Фото: скриншот / CTVBY Президент Белоруссии Александр Лукашенко во время новогоднего обращения призвал граждан стран...   \n",
              "\n",
              "                                                        rightcol                                                                                                                  snippet  \n",
              "0                               Преступника оперативно задержали  Фото: @dobsonMEN Вооруженный ножом ... Виктория в Манчестере, Великобритания. Об этом сообщает BBC News со ссылкой н...  \n",
              "1  Она увольняла сотрудников, которые жаловались на ее поведение  Фото: Alex Brandon / AP Пресс-секретарь ... некорректным обращением с подчиненными. Прощальное письмо сотрудникам ве...  \n",
              "2        Ющенко сравнил публичные обещания политиков с унижением  Фото: Евгений Котенко / РИА Новости ... газ попыткой вернуть страну в XVII век. Об этом бывший президент страны Викт...  \n",
              "3    Представитель церкви назвал фильм доброй новогодней сказкой  Кадр: фильм «Ирония судьбы, или С лёгким ... противоречащим христианским ценностям. Об этом он написал в Telegram-ка...  \n",
              "4         Он призвал укреплять государственность и независимость  Фото: скриншот / CTVBY Президент ... более тесной интеграции с Россией. Речь белорусского лидера опубликована на его...  "
            ]
          },
          "execution_count": 25,
          "metadata": {},
          "output_type": "execute_result"
        }
      ],
      "source": [
        "# df_tbl = pd.read_excel('/content/drive/MyDrive/competitions/NLP2.0/data/parsing_data/lenta2019-01-01_2023-12-21.xlsx')\n",
        "# df_tbl.head()"
      ]
    },
    {
      "cell_type": "code",
      "execution_count": null,
      "metadata": {
        "id": "L5fIkhvLIu4x"
      },
      "outputs": [],
      "source": [
        "# df_tbl.bloc.value_counts()"
      ]
    },
    {
      "cell_type": "code",
      "execution_count": null,
      "metadata": {
        "id": "xglSd3EiJkK7"
      },
      "outputs": [],
      "source": [
        "# # category = {1: \"общество\",\n",
        "#                  2: \"мир\",\n",
        "#                  3: \"former_ussr\",\n",
        "#                  4: \"economy\",\n",
        "#                  5: 'наука и техника',\n",
        "#                  6: 'культура',\n",
        "#                  7: 'интернет и сми',\n",
        "#                  8: 'спорт',\n",
        "#                  9: 'из жизни',\n",
        "#                  12: 'среда обитания',\n",
        "#                  37: 'силовые структуры',\n",
        "#                  40: 'бизнес',\n",
        "#                  47: 'ценности',\n",
        "#                  48: 'путешествия',\n",
        "#                  49:'69-парралелль',\n",
        "#                  53:'нацпроекты',\n",
        "#                  86:'моя страна',\n",
        "#                  49:'забота о себе'}"
      ]
    },
    {
      "cell_type": "code",
      "execution_count": null,
      "metadata": {
        "id": "yStdHx2ENQQM"
      },
      "outputs": [],
      "source": [
        "# di_lenta_tmp= {1: 'общество',\n",
        "#                3: 'бывший_СССР',\n",
        "#                4: 'экономика',\n",
        "#                5: 'технологии',\n",
        "#                8: 'спорт',\n",
        "#                37: 'силовые_структуры',\n",
        "#                48: 'путешествия',\n",
        "#                49: 'забота_о_себе'}"
      ]
    },
    {
      "cell_type": "code",
      "execution_count": null,
      "metadata": {
        "id": "sXtjTtAoSKCz"
      },
      "outputs": [],
      "source": [
        "# df_tbl['topic'] = pd.Series(df_tbl.bloc.map(di_lenta_tmp))"
      ]
    },
    {
      "cell_type": "code",
      "execution_count": null,
      "metadata": {
        "id": "4SUNCHmkJqEU"
      },
      "outputs": [],
      "source": [
        "# df_lenta = df_tbl[df_tbl['topic'].isin(['общество',\n",
        "#                                         'бывший_СССР',\n",
        "#                                         'экономика',\n",
        "#                                         'силовые_структуры',\n",
        "#                                         'технологии',\n",
        "#                                         'спорт',\n",
        "#                                         'путешествия',\n",
        "#                                         'забота_о_себе'])]"
      ]
    },
    {
      "cell_type": "code",
      "execution_count": null,
      "metadata": {
        "id": "c9f5qCXLSjOy"
      },
      "outputs": [],
      "source": [
        "# drop_lst = [\"docid\", \"modified\", \"lastmodtime\", \"type\", \"domain\", \"status\",\n",
        "#             \"part\", \"tags\", \"image_url\", \"rightcol\", \"bloc\", \"pubdate\", \"url\",\n",
        "#             \"Unnamed: 0\", \"snippet\",\n",
        "#             'title']\n",
        "\n",
        "# df_lenta.drop(drop_lst, axis=1, inplace=True)"
      ]
    },
    {
      "cell_type": "code",
      "execution_count": null,
      "metadata": {
        "id": "XYgOTXZyvfWh"
      },
      "outputs": [],
      "source": [
        "# di_lenta= {'общество': 0,\n",
        "#            'экономика': 1,\n",
        "#            'силовые_структуры': 2,\n",
        "#            'бывший_СССР': 3,\n",
        "#            'спорт': 4,\n",
        "#            'забота_о_себе': 5,\n",
        "#            'путешествия': 7,\n",
        "#            'технологии': 8}"
      ]
    },
    {
      "cell_type": "code",
      "execution_count": null,
      "metadata": {
        "id": "Rz89es5LIlwv"
      },
      "outputs": [],
      "source": [
        "# df_lenta.topic.value_counts()"
      ]
    },
    {
      "cell_type": "code",
      "execution_count": null,
      "metadata": {
        "id": "6bV6WqkAxwpG"
      },
      "outputs": [],
      "source": [
        "# df_lenta['topic'] = pd.Series(df_lenta.topic.map(di_lenta))"
      ]
    },
    {
      "cell_type": "code",
      "execution_count": null,
      "metadata": {
        "id": "Xve7o6p8yyw8"
      },
      "outputs": [],
      "source": [
        "# df_lenta.rename(columns={\"text\": \"content\"}, inplace=True)"
      ]
    },
    {
      "cell_type": "code",
      "execution_count": null,
      "metadata": {
        "colab": {
          "base_uri": "https://localhost:8080/",
          "height": 293
        },
        "id": "QWR-zsa8SwJz",
        "outputId": "d187a09e-c8fa-4f71-ea3a-59759e461335"
      },
      "outputs": [
        {
          "data": {
            "text/html": [
              "\n",
              "  <div id=\"df-142c2f6d-80a6-4686-a335-0dc4580bfe49\" class=\"colab-df-container\">\n",
              "    <div>\n",
              "<style scoped>\n",
              "    .dataframe tbody tr th:only-of-type {\n",
              "        vertical-align: middle;\n",
              "    }\n",
              "\n",
              "    .dataframe tbody tr th {\n",
              "        vertical-align: top;\n",
              "    }\n",
              "\n",
              "    .dataframe thead th {\n",
              "        text-align: right;\n",
              "    }\n",
              "</style>\n",
              "<table border=\"1\" class=\"dataframe\">\n",
              "  <thead>\n",
              "    <tr style=\"text-align: right;\">\n",
              "      <th></th>\n",
              "      <th>content</th>\n",
              "      <th>topic</th>\n",
              "    </tr>\n",
              "  </thead>\n",
              "  <tbody>\n",
              "    <tr>\n",
              "      <th>2</th>\n",
              "      <td>Фото: Евгений Котенко / РИА Новости Бывший президент Украины Виктор Ющенко назвал обещания киевских политиков снизит...</td>\n",
              "      <td>3</td>\n",
              "    </tr>\n",
              "    <tr>\n",
              "      <th>3</th>\n",
              "      <td>Кадр: фильм «Ирония судьбы, или С лёгким паром!» Глава синодального отдела по взаимоотношениям церкви с обществом и ...</td>\n",
              "      <td>0</td>\n",
              "    </tr>\n",
              "    <tr>\n",
              "      <th>4</th>\n",
              "      <td>Фото: скриншот / CTVBY Президент Белоруссии Александр Лукашенко во время новогоднего обращения призвал граждан стран...</td>\n",
              "      <td>3</td>\n",
              "    </tr>\n",
              "    <tr>\n",
              "      <th>5</th>\n",
              "      <td>Фото: Михаил Маркив / РИА Новости Министр иностранных дел Украины Павел Климкин расстроился из-за большого количеств...</td>\n",
              "      <td>3</td>\n",
              "    </tr>\n",
              "    <tr>\n",
              "      <th>7</th>\n",
              "      <td>Фото: МЧС РФ / РИА Новости Тела еще двух погибших извлечены из-под завалов после взрыва газа и последующего обрушени...</td>\n",
              "      <td>0</td>\n",
              "    </tr>\n",
              "  </tbody>\n",
              "</table>\n",
              "</div>\n",
              "    <div class=\"colab-df-buttons\">\n",
              "\n",
              "  <div class=\"colab-df-container\">\n",
              "    <button class=\"colab-df-convert\" onclick=\"convertToInteractive('df-142c2f6d-80a6-4686-a335-0dc4580bfe49')\"\n",
              "            title=\"Convert this dataframe to an interactive table.\"\n",
              "            style=\"display:none;\">\n",
              "\n",
              "  <svg xmlns=\"http://www.w3.org/2000/svg\" height=\"24px\" viewBox=\"0 -960 960 960\">\n",
              "    <path d=\"M120-120v-720h720v720H120Zm60-500h600v-160H180v160Zm220 220h160v-160H400v160Zm0 220h160v-160H400v160ZM180-400h160v-160H180v160Zm440 0h160v-160H620v160ZM180-180h160v-160H180v160Zm440 0h160v-160H620v160Z\"/>\n",
              "  </svg>\n",
              "    </button>\n",
              "\n",
              "  <style>\n",
              "    .colab-df-container {\n",
              "      display:flex;\n",
              "      gap: 12px;\n",
              "    }\n",
              "\n",
              "    .colab-df-convert {\n",
              "      background-color: #E8F0FE;\n",
              "      border: none;\n",
              "      border-radius: 50%;\n",
              "      cursor: pointer;\n",
              "      display: none;\n",
              "      fill: #1967D2;\n",
              "      height: 32px;\n",
              "      padding: 0 0 0 0;\n",
              "      width: 32px;\n",
              "    }\n",
              "\n",
              "    .colab-df-convert:hover {\n",
              "      background-color: #E2EBFA;\n",
              "      box-shadow: 0px 1px 2px rgba(60, 64, 67, 0.3), 0px 1px 3px 1px rgba(60, 64, 67, 0.15);\n",
              "      fill: #174EA6;\n",
              "    }\n",
              "\n",
              "    .colab-df-buttons div {\n",
              "      margin-bottom: 4px;\n",
              "    }\n",
              "\n",
              "    [theme=dark] .colab-df-convert {\n",
              "      background-color: #3B4455;\n",
              "      fill: #D2E3FC;\n",
              "    }\n",
              "\n",
              "    [theme=dark] .colab-df-convert:hover {\n",
              "      background-color: #434B5C;\n",
              "      box-shadow: 0px 1px 3px 1px rgba(0, 0, 0, 0.15);\n",
              "      filter: drop-shadow(0px 1px 2px rgba(0, 0, 0, 0.3));\n",
              "      fill: #FFFFFF;\n",
              "    }\n",
              "  </style>\n",
              "\n",
              "    <script>\n",
              "      const buttonEl =\n",
              "        document.querySelector('#df-142c2f6d-80a6-4686-a335-0dc4580bfe49 button.colab-df-convert');\n",
              "      buttonEl.style.display =\n",
              "        google.colab.kernel.accessAllowed ? 'block' : 'none';\n",
              "\n",
              "      async function convertToInteractive(key) {\n",
              "        const element = document.querySelector('#df-142c2f6d-80a6-4686-a335-0dc4580bfe49');\n",
              "        const dataTable =\n",
              "          await google.colab.kernel.invokeFunction('convertToInteractive',\n",
              "                                                    [key], {});\n",
              "        if (!dataTable) return;\n",
              "\n",
              "        const docLinkHtml = 'Like what you see? Visit the ' +\n",
              "          '<a target=\"_blank\" href=https://colab.research.google.com/notebooks/data_table.ipynb>data table notebook</a>'\n",
              "          + ' to learn more about interactive tables.';\n",
              "        element.innerHTML = '';\n",
              "        dataTable['output_type'] = 'display_data';\n",
              "        await google.colab.output.renderOutput(dataTable, element);\n",
              "        const docLink = document.createElement('div');\n",
              "        docLink.innerHTML = docLinkHtml;\n",
              "        element.appendChild(docLink);\n",
              "      }\n",
              "    </script>\n",
              "  </div>\n",
              "\n",
              "\n",
              "<div id=\"df-045aec30-415e-44cb-97fd-92da8f13ed3f\">\n",
              "  <button class=\"colab-df-quickchart\" onclick=\"quickchart('df-045aec30-415e-44cb-97fd-92da8f13ed3f')\"\n",
              "            title=\"Suggest charts\"\n",
              "            style=\"display:none;\">\n",
              "\n",
              "<svg xmlns=\"http://www.w3.org/2000/svg\" height=\"24px\"viewBox=\"0 0 24 24\"\n",
              "     width=\"24px\">\n",
              "    <g>\n",
              "        <path d=\"M19 3H5c-1.1 0-2 .9-2 2v14c0 1.1.9 2 2 2h14c1.1 0 2-.9 2-2V5c0-1.1-.9-2-2-2zM9 17H7v-7h2v7zm4 0h-2V7h2v10zm4 0h-2v-4h2v4z\"/>\n",
              "    </g>\n",
              "</svg>\n",
              "  </button>\n",
              "\n",
              "<style>\n",
              "  .colab-df-quickchart {\n",
              "      --bg-color: #E8F0FE;\n",
              "      --fill-color: #1967D2;\n",
              "      --hover-bg-color: #E2EBFA;\n",
              "      --hover-fill-color: #174EA6;\n",
              "      --disabled-fill-color: #AAA;\n",
              "      --disabled-bg-color: #DDD;\n",
              "  }\n",
              "\n",
              "  [theme=dark] .colab-df-quickchart {\n",
              "      --bg-color: #3B4455;\n",
              "      --fill-color: #D2E3FC;\n",
              "      --hover-bg-color: #434B5C;\n",
              "      --hover-fill-color: #FFFFFF;\n",
              "      --disabled-bg-color: #3B4455;\n",
              "      --disabled-fill-color: #666;\n",
              "  }\n",
              "\n",
              "  .colab-df-quickchart {\n",
              "    background-color: var(--bg-color);\n",
              "    border: none;\n",
              "    border-radius: 50%;\n",
              "    cursor: pointer;\n",
              "    display: none;\n",
              "    fill: var(--fill-color);\n",
              "    height: 32px;\n",
              "    padding: 0;\n",
              "    width: 32px;\n",
              "  }\n",
              "\n",
              "  .colab-df-quickchart:hover {\n",
              "    background-color: var(--hover-bg-color);\n",
              "    box-shadow: 0 1px 2px rgba(60, 64, 67, 0.3), 0 1px 3px 1px rgba(60, 64, 67, 0.15);\n",
              "    fill: var(--button-hover-fill-color);\n",
              "  }\n",
              "\n",
              "  .colab-df-quickchart-complete:disabled,\n",
              "  .colab-df-quickchart-complete:disabled:hover {\n",
              "    background-color: var(--disabled-bg-color);\n",
              "    fill: var(--disabled-fill-color);\n",
              "    box-shadow: none;\n",
              "  }\n",
              "\n",
              "  .colab-df-spinner {\n",
              "    border: 2px solid var(--fill-color);\n",
              "    border-color: transparent;\n",
              "    border-bottom-color: var(--fill-color);\n",
              "    animation:\n",
              "      spin 1s steps(1) infinite;\n",
              "  }\n",
              "\n",
              "  @keyframes spin {\n",
              "    0% {\n",
              "      border-color: transparent;\n",
              "      border-bottom-color: var(--fill-color);\n",
              "      border-left-color: var(--fill-color);\n",
              "    }\n",
              "    20% {\n",
              "      border-color: transparent;\n",
              "      border-left-color: var(--fill-color);\n",
              "      border-top-color: var(--fill-color);\n",
              "    }\n",
              "    30% {\n",
              "      border-color: transparent;\n",
              "      border-left-color: var(--fill-color);\n",
              "      border-top-color: var(--fill-color);\n",
              "      border-right-color: var(--fill-color);\n",
              "    }\n",
              "    40% {\n",
              "      border-color: transparent;\n",
              "      border-right-color: var(--fill-color);\n",
              "      border-top-color: var(--fill-color);\n",
              "    }\n",
              "    60% {\n",
              "      border-color: transparent;\n",
              "      border-right-color: var(--fill-color);\n",
              "    }\n",
              "    80% {\n",
              "      border-color: transparent;\n",
              "      border-right-color: var(--fill-color);\n",
              "      border-bottom-color: var(--fill-color);\n",
              "    }\n",
              "    90% {\n",
              "      border-color: transparent;\n",
              "      border-bottom-color: var(--fill-color);\n",
              "    }\n",
              "  }\n",
              "</style>\n",
              "\n",
              "  <script>\n",
              "    async function quickchart(key) {\n",
              "      const quickchartButtonEl =\n",
              "        document.querySelector('#' + key + ' button');\n",
              "      quickchartButtonEl.disabled = true;  // To prevent multiple clicks.\n",
              "      quickchartButtonEl.classList.add('colab-df-spinner');\n",
              "      try {\n",
              "        const charts = await google.colab.kernel.invokeFunction(\n",
              "            'suggestCharts', [key], {});\n",
              "      } catch (error) {\n",
              "        console.error('Error during call to suggestCharts:', error);\n",
              "      }\n",
              "      quickchartButtonEl.classList.remove('colab-df-spinner');\n",
              "      quickchartButtonEl.classList.add('colab-df-quickchart-complete');\n",
              "    }\n",
              "    (() => {\n",
              "      let quickchartButtonEl =\n",
              "        document.querySelector('#df-045aec30-415e-44cb-97fd-92da8f13ed3f button');\n",
              "      quickchartButtonEl.style.display =\n",
              "        google.colab.kernel.accessAllowed ? 'block' : 'none';\n",
              "    })();\n",
              "  </script>\n",
              "</div>\n",
              "    </div>\n",
              "  </div>\n"
            ],
            "text/plain": [
              "                                                                                                                   content  topic\n",
              "2  Фото: Евгений Котенко / РИА Новости Бывший президент Украины Виктор Ющенко назвал обещания киевских политиков снизит...      3\n",
              "3  Кадр: фильм «Ирония судьбы, или С лёгким паром!» Глава синодального отдела по взаимоотношениям церкви с обществом и ...      0\n",
              "4  Фото: скриншот / CTVBY Президент Белоруссии Александр Лукашенко во время новогоднего обращения призвал граждан стран...      3\n",
              "5  Фото: Михаил Маркив / РИА Новости Министр иностранных дел Украины Павел Климкин расстроился из-за большого количеств...      3\n",
              "7  Фото: МЧС РФ / РИА Новости Тела еще двух погибших извлечены из-под завалов после взрыва газа и последующего обрушени...      0"
            ]
          },
          "execution_count": 33,
          "metadata": {},
          "output_type": "execute_result"
        }
      ],
      "source": [
        "# df_lenta.head()"
      ]
    },
    {
      "cell_type": "code",
      "execution_count": null,
      "metadata": {
        "id": "72ekyjyJtv2M"
      },
      "outputs": [],
      "source": [
        "# df_all = pd.concat([df_fontanka,\n",
        "#                     # df_ria,\n",
        "#                     df_lenta])"
      ]
    },
    {
      "cell_type": "code",
      "execution_count": null,
      "metadata": {
        "id": "7rMNcsw-8tXM"
      },
      "outputs": [],
      "source": [
        "# df_all.to_csv('df_5_fontanka_lenta.csv', index=False)"
      ]
    },
    {
      "cell_type": "markdown",
      "metadata": {
        "id": "HwBSFmdmHJhs"
      },
      "source": [
        "# Modeling"
      ]
    },
    {
      "cell_type": "markdown",
      "metadata": {
        "id": "Vfn64yPelMx-"
      },
      "source": [
        "## Уменьшение размера"
      ]
    },
    {
      "cell_type": "code",
      "execution_count": null,
      "metadata": {
        "colab": {
          "base_uri": "https://localhost:8080/"
        },
        "id": "Tde19s5XFp07",
        "outputId": "a17e0bc8-fa4b-45a0-a1ae-ae58af0a861a"
      },
      "outputs": [
        {
          "output_type": "stream",
          "name": "stdout",
          "text": [
            "train\n",
            "Memory usage of dataframe is 0.61 MB\n",
            "Memory usage after optimization is: 0.34 MB\n",
            "Decreased by 43.7%\n",
            "--------------------------------------------------------------------------------\n",
            "test\n",
            "Memory usage of dataframe is 0.20 MB\n",
            "Memory usage after optimization is: 0.20 MB\n",
            "Decreased by 0.0%\n"
          ]
        }
      ],
      "source": [
        "# def reduce_mem_usage(df):\n",
        "#     \"\"\" iterate through all the columns of a dataframe and modify the data type\n",
        "#         to reduce memory usage.\n",
        "#     \"\"\"\n",
        "#     start_mem = df.memory_usage().sum() / 1024**2\n",
        "#     print('Memory usage of dataframe is {:.2f} MB'.format(start_mem))\n",
        "\n",
        "#     for col in df.columns:\n",
        "#         col_type = df[col].dtype\n",
        "\n",
        "#         if col_type != object:\n",
        "#             c_min = df[col].min()\n",
        "#             c_max = df[col].max()\n",
        "#             if str(col_type)[:3] == 'int':\n",
        "#                 if c_min > np.iinfo(np.int8).min and c_max < np.iinfo(np.int8).max:\n",
        "#                     df[col] = df[col].astype(np.int8)\n",
        "#                 elif c_min > np.iinfo(np.int16).min and c_max < np.iinfo(np.int16).max:\n",
        "#                     df[col] = df[col].astype(np.int16)\n",
        "#                 elif c_min > np.iinfo(np.int32).min and c_max < np.iinfo(np.int32).max:\n",
        "#                     df[col] = df[col].astype(np.int32)\n",
        "#                 elif c_min > np.iinfo(np.int64).min and c_max < np.iinfo(np.int64).max:\n",
        "#                     df[col] = df[col].astype(np.int64)\n",
        "#             else:\n",
        "#                 if c_min > np.finfo(np.float16).min and c_max < np.finfo(np.float16).max:\n",
        "#                     df[col] = df[col].astype(np.float16)\n",
        "#                 elif c_min > np.finfo(np.float32).min and c_max < np.finfo(np.float32).max:\n",
        "#                     df[col] = df[col].astype(np.float32)\n",
        "#                 else:\n",
        "#                     df[col] = df[col].astype(np.float64)\n",
        "#         # else:\n",
        "#         #     df[col] = df[col].astype('category')\n",
        "\n",
        "#     end_mem = df.memory_usage().sum() / 1024**2\n",
        "#     print('Memory usage after optimization is: {:.2f} MB'.format(end_mem))\n",
        "#     print('Decreased by {:.1f}%'.format(100 * (start_mem - end_mem) / start_mem))\n",
        "\n",
        "#     return df\n",
        "\n",
        "# def import_data(file):\n",
        "#     \"\"\"create a dataframe and optimize its memory usage\"\"\"\n",
        "#     df = pd.read_csv(file, parse_dates=True, keep_date_col=True)\n",
        "#     df = reduce_mem_usage(df)\n",
        "#     return df\n",
        "\n",
        "\n",
        "# print('train')\n",
        "# train = import_data(paths.path_train)\n",
        "\n",
        "# print('-' * 80)\n",
        "# print('test')\n",
        "# test = import_data(paths.path_test)"
      ]
    },
    {
      "cell_type": "markdown",
      "metadata": {
        "id": "VFSW9ZqKx7n7"
      },
      "source": [
        "# Загрузка полностью подготовленных данных."
      ]
    },
    {
      "cell_type": "code",
      "execution_count": null,
      "metadata": {
        "id": "SNIeAuunxiiT"
      },
      "outputs": [],
      "source": [
        "trainw2v = pd.read_csv(paths.path_prep_train_no_ria)\n",
        "test = pd.read_csv(paths.path_prep_test)"
      ]
    },
    {
      "cell_type": "code",
      "execution_count": null,
      "metadata": {
        "colab": {
          "base_uri": "https://localhost:8080/"
        },
        "id": "ps-AyFRIGnEB",
        "outputId": "56b5be65-0358-4b9b-a48a-b5af8a50085f"
      },
      "outputs": [
        {
          "output_type": "stream",
          "name": "stdout",
          "text": [
            "train shape = (39146, 3),  test shape = (26275, 2)\n",
            "train, test is null: (False, False)\n"
          ]
        }
      ],
      "source": [
        "# Удаляем дубли\n",
        "trainw2v.drop_duplicates(inplace=True)\n",
        "# Удаляем пропуски\n",
        "trainw2v.dropna(inplace=True)\n",
        "\n",
        "print(f'train shape = {trainw2v.shape},  test shape = {test.shape}')\n",
        "print(f'train, test is null: {trainw2v.isna().any().any(), test.isna().any().any()}')"
      ]
    },
    {
      "cell_type": "code",
      "execution_count": null,
      "metadata": {
        "id": "qz7EHcszGQ44"
      },
      "outputs": [],
      "source": [
        "text_features = ['content']\n",
        "# cat_features_indxs = [1]\n",
        "targets = ['topic']\n",
        "cat_cols = ['content', 'content_clean']\n",
        "\n",
        "filtered_features = [i for i in trainw2v.columns if (i not in targets)]"
      ]
    },
    {
      "cell_type": "code",
      "execution_count": null,
      "metadata": {
        "id": "GhCSo8AfY1EW"
      },
      "outputs": [],
      "source": [
        "# for col in cat_cols:\n",
        "#     train[col] = train[col].astype('category')"
      ]
    },
    {
      "cell_type": "code",
      "execution_count": null,
      "metadata": {
        "id": "R6_Oh9u_HRxv"
      },
      "outputs": [],
      "source": [
        "# train['topic'].value_counts(normalize=True)"
      ]
    },
    {
      "cell_type": "markdown",
      "metadata": {
        "id": "CpzZQxjClUQT"
      },
      "source": [
        "## Разделение на фичи и целевую переменную."
      ]
    },
    {
      "cell_type": "code",
      "execution_count": null,
      "metadata": {
        "id": "wMpAUvJQX6iW"
      },
      "outputs": [],
      "source": [
        "# на всякий случай заполним пропуски\n",
        "# train = train.fillna(train.median())\n",
        "# test = test.fillna(test.median())"
      ]
    },
    {
      "cell_type": "code",
      "execution_count": null,
      "metadata": {
        "id": "j9hcY9ZvYBAo"
      },
      "outputs": [],
      "source": [
        "X = trainw2v[filtered_features].drop(targets, axis=1, errors=\"ignore\")\n",
        "y = trainw2v[\"topic\"]"
      ]
    },
    {
      "cell_type": "code",
      "execution_count": null,
      "metadata": {
        "id": "dluwHRXVv47T"
      },
      "outputs": [],
      "source": [
        "# X.shape, y.shape"
      ]
    },
    {
      "cell_type": "code",
      "execution_count": null,
      "metadata": {
        "id": "KqLdtM4mYPuV"
      },
      "outputs": [],
      "source": [
        "# Разбиение на обучающую и валидационную выборки\n",
        "X_train, X_val, y_train, y_val = train_test_split(X, y, test_size=0.2, random_state=RND_STATE)"
      ]
    },
    {
      "cell_type": "code",
      "execution_count": null,
      "metadata": {
        "id": "8ZzTI0f-BlBm"
      },
      "outputs": [],
      "source": [
        "# X_train = X_train[: 1000]\n",
        "# y_train = y_train[: 1000]"
      ]
    },
    {
      "cell_type": "markdown",
      "metadata": {
        "id": "c-U-UrnQsft-"
      },
      "source": [
        "## Базовая модель - catboost text features"
      ]
    },
    {
      "cell_type": "markdown",
      "metadata": {
        "id": "cRWjnXE74axK"
      },
      "source": [
        "### pipeline variant"
      ]
    },
    {
      "cell_type": "code",
      "execution_count": null,
      "metadata": {
        "id": "6aUWAD29GBvf"
      },
      "outputs": [],
      "source": [
        "class CustomSelectColumns():\n",
        "    '''\n",
        "    .. notes::\n",
        "    Класс для вытаскивания из датасета только требуемых колонок\n",
        "    '''\n",
        "    def __init__(self,\n",
        "                 fil_feats: list[str]=None, clean: bool=False):\n",
        "        self.fil_feats = fil_feats\n",
        "        self.clean = clean\n",
        "\n",
        "        # print('Init done')\n",
        "    def fit(self, X: pd.DataFrame, y: pd.Series=None):\n",
        "        return self\n",
        "\n",
        "    def transform(self, X: pd.DataFrame, y: pd.Series=None) -> pd.DataFrame:\n",
        "        X_ = X.copy()\n",
        "        X_filtered = X_[self.fil_feats]\n",
        "        X_filtered = pd.DataFrame(X_filtered)\n",
        "        if self.clean:\n",
        "            return X_filtered[self.fil_feats[0]].str.split()\n",
        "        else:\n",
        "            return pd.DataFrame(X_filtered)"
      ]
    },
    {
      "cell_type": "markdown",
      "metadata": {
        "id": "bflaIsSK3-Jf"
      },
      "source": [
        "Ниже есть эксперименты с классом Pool, и более простыми и быстрыми обработками данных и использования catboost. Но в данном случае у нас возникает проблема со стекингом. Поэтому сделал вариант через pipeline"
      ]
    },
    {
      "cell_type": "code",
      "execution_count": null,
      "metadata": {
        "colab": {
          "base_uri": "https://localhost:8080/",
          "height": 699
        },
        "id": "ypO9cLPGspS8",
        "outputId": "33364c7c-6067-49b5-fa2e-8d1dc3a24a85"
      },
      "outputs": [
        {
          "output_type": "stream",
          "name": "stdout",
          "text": [
            "Learning rate set to 0.213919\n",
            "0:\tlearn: 0.7835931\ttest: 0.7826309\tbest: 0.7826309 (0)\ttotal: 3.49s\tremaining: 11m 35s\n",
            "5:\tlearn: 0.8351003\ttest: 0.8454662\tbest: 0.8454662 (5)\ttotal: 20.1s\tremaining: 10m 48s\n",
            "10:\tlearn: 0.8468514\ttest: 0.8560664\tbest: 0.8560664 (10)\ttotal: 35.8s\tremaining: 10m 14s\n",
            "15:\tlearn: 0.8543875\ttest: 0.8629630\tbest: 0.8629630 (15)\ttotal: 51.5s\tremaining: 9m 52s\n",
            "20:\tlearn: 0.8591455\ttest: 0.8679438\tbest: 0.8679438 (20)\ttotal: 1m 8s\tremaining: 9m 43s\n",
            "25:\tlearn: 0.8641270\ttest: 0.8713921\tbest: 0.8715198 (24)\ttotal: 1m 23s\tremaining: 9m 21s\n",
            "30:\tlearn: 0.8675757\ttest: 0.8745849\tbest: 0.8745849 (30)\ttotal: 1m 39s\tremaining: 8m 59s\n",
            "35:\tlearn: 0.8701622\ttest: 0.8766284\tbest: 0.8766284 (35)\ttotal: 1m 54s\tremaining: 8m 40s\n",
            "40:\tlearn: 0.8715672\ttest: 0.8781609\tbest: 0.8781609 (40)\ttotal: 2m 9s\tremaining: 8m 20s\n",
            "45:\tlearn: 0.8743134\ttest: 0.8795658\tbest: 0.8795658 (45)\ttotal: 2m 24s\tremaining: 8m 3s\n",
            "50:\tlearn: 0.8767403\ttest: 0.8816092\tbest: 0.8816092 (50)\ttotal: 2m 39s\tremaining: 7m 45s\n",
            "55:\tlearn: 0.8781454\ttest: 0.8831418\tbest: 0.8831418 (55)\ttotal: 2m 55s\tremaining: 7m 31s\n",
            "60:\tlearn: 0.8808916\ttest: 0.8839080\tbest: 0.8840358 (58)\ttotal: 3m 10s\tremaining: 7m 15s\n",
            "65:\tlearn: 0.8829033\ttest: 0.8855683\tbest: 0.8855683 (65)\ttotal: 3m 26s\tremaining: 6m 58s\n",
            "70:\tlearn: 0.8841806\ttest: 0.8862069\tbest: 0.8862069 (69)\ttotal: 3m 41s\tremaining: 6m 42s\n",
            "75:\tlearn: 0.8853621\ttest: 0.8867178\tbest: 0.8869732 (72)\ttotal: 3m 56s\tremaining: 6m 25s\n",
            "80:\tlearn: 0.8867352\ttest: 0.8874840\tbest: 0.8877395 (79)\ttotal: 4m 10s\tremaining: 6m 8s\n",
            "85:\tlearn: 0.8875974\ttest: 0.8882503\tbest: 0.8882503 (85)\ttotal: 4m 25s\tremaining: 5m 51s\n",
            "90:\tlearn: 0.8897049\ttest: 0.8887612\tbest: 0.8895275 (88)\ttotal: 4m 39s\tremaining: 5m 34s\n",
            "95:\tlearn: 0.8907268\ttest: 0.8896552\tbest: 0.8896552 (93)\ttotal: 4m 54s\tremaining: 5m 19s\n",
            "100:\tlearn: 0.8920680\ttest: 0.8908046\tbest: 0.8908046 (100)\ttotal: 5m 9s\tremaining: 5m 3s\n",
            "105:\tlearn: 0.8928024\ttest: 0.8915709\tbest: 0.8915709 (105)\ttotal: 5m 24s\tremaining: 4m 47s\n",
            "110:\tlearn: 0.8945587\ttest: 0.8915709\tbest: 0.8919540 (108)\ttotal: 5m 39s\tremaining: 4m 32s\n",
            "115:\tlearn: 0.8952931\ttest: 0.8919540\tbest: 0.8922095 (114)\ttotal: 5m 54s\tremaining: 4m 16s\n",
            "120:\tlearn: 0.8961873\ttest: 0.8925926\tbest: 0.8928480 (118)\ttotal: 6m 9s\tremaining: 4m 1s\n",
            "125:\tlearn: 0.8970814\ttest: 0.8927203\tbest: 0.8928480 (118)\ttotal: 6m 24s\tremaining: 3m 45s\n",
            "Stopped by overfitting detector  (10 iterations wait)\n",
            "\n",
            "bestTest = 0.8928480204\n",
            "bestIteration = 118\n",
            "\n",
            "Shrink model to first 119 iterations.\n"
          ]
        },
        {
          "output_type": "execute_result",
          "data": {
            "text/plain": [
              "Pipeline(steps=[('col_selector',\n",
              "                 <__main__.CustomSelectColumns object at 0x7ea40fb14430>),\n",
              "                ('Catboost_simple',\n",
              "                 <catboost.core.CatBoostClassifier object at 0x7ea40fb143a0>)])"
            ],
            "text/html": [
              "<style>#sk-container-id-1 {color: black;background-color: white;}#sk-container-id-1 pre{padding: 0;}#sk-container-id-1 div.sk-toggleable {background-color: white;}#sk-container-id-1 label.sk-toggleable__label {cursor: pointer;display: block;width: 100%;margin-bottom: 0;padding: 0.3em;box-sizing: border-box;text-align: center;}#sk-container-id-1 label.sk-toggleable__label-arrow:before {content: \"▸\";float: left;margin-right: 0.25em;color: #696969;}#sk-container-id-1 label.sk-toggleable__label-arrow:hover:before {color: black;}#sk-container-id-1 div.sk-estimator:hover label.sk-toggleable__label-arrow:before {color: black;}#sk-container-id-1 div.sk-toggleable__content {max-height: 0;max-width: 0;overflow: hidden;text-align: left;background-color: #f0f8ff;}#sk-container-id-1 div.sk-toggleable__content pre {margin: 0.2em;color: black;border-radius: 0.25em;background-color: #f0f8ff;}#sk-container-id-1 input.sk-toggleable__control:checked~div.sk-toggleable__content {max-height: 200px;max-width: 100%;overflow: auto;}#sk-container-id-1 input.sk-toggleable__control:checked~label.sk-toggleable__label-arrow:before {content: \"▾\";}#sk-container-id-1 div.sk-estimator input.sk-toggleable__control:checked~label.sk-toggleable__label {background-color: #d4ebff;}#sk-container-id-1 div.sk-label input.sk-toggleable__control:checked~label.sk-toggleable__label {background-color: #d4ebff;}#sk-container-id-1 input.sk-hidden--visually {border: 0;clip: rect(1px 1px 1px 1px);clip: rect(1px, 1px, 1px, 1px);height: 1px;margin: -1px;overflow: hidden;padding: 0;position: absolute;width: 1px;}#sk-container-id-1 div.sk-estimator {font-family: monospace;background-color: #f0f8ff;border: 1px dotted black;border-radius: 0.25em;box-sizing: border-box;margin-bottom: 0.5em;}#sk-container-id-1 div.sk-estimator:hover {background-color: #d4ebff;}#sk-container-id-1 div.sk-parallel-item::after {content: \"\";width: 100%;border-bottom: 1px solid gray;flex-grow: 1;}#sk-container-id-1 div.sk-label:hover label.sk-toggleable__label {background-color: #d4ebff;}#sk-container-id-1 div.sk-serial::before {content: \"\";position: absolute;border-left: 1px solid gray;box-sizing: border-box;top: 0;bottom: 0;left: 50%;z-index: 0;}#sk-container-id-1 div.sk-serial {display: flex;flex-direction: column;align-items: center;background-color: white;padding-right: 0.2em;padding-left: 0.2em;position: relative;}#sk-container-id-1 div.sk-item {position: relative;z-index: 1;}#sk-container-id-1 div.sk-parallel {display: flex;align-items: stretch;justify-content: center;background-color: white;position: relative;}#sk-container-id-1 div.sk-item::before, #sk-container-id-1 div.sk-parallel-item::before {content: \"\";position: absolute;border-left: 1px solid gray;box-sizing: border-box;top: 0;bottom: 0;left: 50%;z-index: -1;}#sk-container-id-1 div.sk-parallel-item {display: flex;flex-direction: column;z-index: 1;position: relative;background-color: white;}#sk-container-id-1 div.sk-parallel-item:first-child::after {align-self: flex-end;width: 50%;}#sk-container-id-1 div.sk-parallel-item:last-child::after {align-self: flex-start;width: 50%;}#sk-container-id-1 div.sk-parallel-item:only-child::after {width: 0;}#sk-container-id-1 div.sk-dashed-wrapped {border: 1px dashed gray;margin: 0 0.4em 0.5em 0.4em;box-sizing: border-box;padding-bottom: 0.4em;background-color: white;}#sk-container-id-1 div.sk-label label {font-family: monospace;font-weight: bold;display: inline-block;line-height: 1.2em;}#sk-container-id-1 div.sk-label-container {text-align: center;}#sk-container-id-1 div.sk-container {/* jupyter's `normalize.less` sets `[hidden] { display: none; }` but bootstrap.min.css set `[hidden] { display: none !important; }` so we also need the `!important` here to be able to override the default hidden behavior on the sphinx rendered scikit-learn.org. See: https://github.com/scikit-learn/scikit-learn/issues/21755 */display: inline-block !important;position: relative;}#sk-container-id-1 div.sk-text-repr-fallback {display: none;}</style><div id=\"sk-container-id-1\" class=\"sk-top-container\"><div class=\"sk-text-repr-fallback\"><pre>Pipeline(steps=[(&#x27;col_selector&#x27;,\n",
              "                 &lt;__main__.CustomSelectColumns object at 0x7ea40fb14430&gt;),\n",
              "                (&#x27;Catboost_simple&#x27;,\n",
              "                 &lt;catboost.core.CatBoostClassifier object at 0x7ea40fb143a0&gt;)])</pre><b>In a Jupyter environment, please rerun this cell to show the HTML representation or trust the notebook. <br />On GitHub, the HTML representation is unable to render, please try loading this page with nbviewer.org.</b></div><div class=\"sk-container\" hidden><div class=\"sk-item sk-dashed-wrapped\"><div class=\"sk-label-container\"><div class=\"sk-label sk-toggleable\"><input class=\"sk-toggleable__control sk-hidden--visually\" id=\"sk-estimator-id-1\" type=\"checkbox\" ><label for=\"sk-estimator-id-1\" class=\"sk-toggleable__label sk-toggleable__label-arrow\">Pipeline</label><div class=\"sk-toggleable__content\"><pre>Pipeline(steps=[(&#x27;col_selector&#x27;,\n",
              "                 &lt;__main__.CustomSelectColumns object at 0x7ea40fb14430&gt;),\n",
              "                (&#x27;Catboost_simple&#x27;,\n",
              "                 &lt;catboost.core.CatBoostClassifier object at 0x7ea40fb143a0&gt;)])</pre></div></div></div><div class=\"sk-serial\"><div class=\"sk-item\"><div class=\"sk-estimator sk-toggleable\"><input class=\"sk-toggleable__control sk-hidden--visually\" id=\"sk-estimator-id-2\" type=\"checkbox\" ><label for=\"sk-estimator-id-2\" class=\"sk-toggleable__label sk-toggleable__label-arrow\">CustomSelectColumns</label><div class=\"sk-toggleable__content\"><pre>&lt;__main__.CustomSelectColumns object at 0x7ea40fb14430&gt;</pre></div></div></div><div class=\"sk-item\"><div class=\"sk-estimator sk-toggleable\"><input class=\"sk-toggleable__control sk-hidden--visually\" id=\"sk-estimator-id-3\" type=\"checkbox\" ><label for=\"sk-estimator-id-3\" class=\"sk-toggleable__label sk-toggleable__label-arrow\">CatBoostClassifier</label><div class=\"sk-toggleable__content\"><pre>&lt;catboost.core.CatBoostClassifier object at 0x7ea40fb143a0&gt;</pre></div></div></div></div></div></div></div>"
            ]
          },
          "metadata": {},
          "execution_count": 23
        }
      ],
      "source": [
        "Catboost_pipe = Pipeline([\n",
        "    ('col_selector', CustomSelectColumns(['content'])),\n",
        "    ('Catboost_simple', CatBoostClassifier(eval_metric='Accuracy',\n",
        "                           iterations=200,\n",
        "                           thread_count=-1,\n",
        "                           random_seed=RND_STATE,\n",
        "                           text_features=text_features))\n",
        "    ])\n",
        "\n",
        "# train_dataset = Pool(data=X_train, label=y_train, text_features=['content'])\n",
        "# eval_dataset = Pool(data=X_val, label=y_val, text_features=['content'])\n",
        "\n",
        "Catboost_pipe.fit(X_train, y_train,\n",
        "                  Catboost_simple__text_features=['content'],\n",
        "                  Catboost_simple__verbose=5,\n",
        "                  Catboost_simple__early_stopping_rounds=10,\n",
        "                  Catboost_simple__eval_set=(X_val[['content']], y_val)\n",
        "                  )"
      ]
    },
    {
      "cell_type": "code",
      "execution_count": null,
      "metadata": {
        "id": "Gco22YxW_M_O"
      },
      "outputs": [],
      "source": [
        "# clf_0 = CatBoostClassifier(#eval_metric='Accuracy',\n",
        "#                            iterations=200,\n",
        "#                            thread_count=-1,\n",
        "#                            random_seed=RND_STATE,\n",
        "#                            text_features=text_features)\n",
        "\n",
        "# # train_dataset = Pool(data=X_train, label=y_train, text_features=['content'])\n",
        "# # eval_dataset = Pool(data=X_val, label=y_val, text_features=['content'])\n",
        "\n",
        "# clf_0.fit(X_train, y_train,\n",
        "#           # text_features='content',\n",
        "#           # verbose=50,\n",
        "#           # early_stopping_rounds=200\n",
        "#           )"
      ]
    },
    {
      "cell_type": "markdown",
      "metadata": {
        "id": "vVRJdJaI4jwk"
      },
      "source": [
        "### Pool variant"
      ]
    },
    {
      "cell_type": "code",
      "execution_count": null,
      "metadata": {
        "id": "XWvOwl9hYSUu"
      },
      "outputs": [],
      "source": [
        "# %%time\n",
        "# clf_1 = CatBoostClassifier(eval_metric= 'Accuracy',\n",
        "#                            iterations=200,\n",
        "#                            thread_count=-1,\n",
        "#                            random_seed=RND_STATE,\n",
        "#                            text_features=text_features)\n",
        "\n",
        "# train_dataset = Pool(data=X_train, label=y_train, text_features=['content'])\n",
        "# eval_dataset = Pool(data=X_val, label=y_val, text_features=['content'])\n",
        "\n",
        "# clf_1.fit(train_dataset,\n",
        "#         eval_set=eval_dataset,\n",
        "#         verbose=50,\n",
        "#         early_stopping_rounds=200)"
      ]
    },
    {
      "cell_type": "code",
      "execution_count": null,
      "metadata": {
        "colab": {
          "base_uri": "https://localhost:8080/"
        },
        "id": "_h2gYj537Fq7",
        "outputId": "d961d53f-2cca-4e4c-8b1b-df623e23232c"
      },
      "outputs": [
        {
          "output_type": "execute_result",
          "data": {
            "text/plain": [
              "{'learn': {'Accuracy': 0.8977838804445012, 'MultiClass': 0.3068386418577497},\n",
              " 'validation': {'Accuracy': 0.8928480204342273,\n",
              "  'MultiClass': 0.32059054999907755}}"
            ]
          },
          "metadata": {},
          "execution_count": 24
        }
      ],
      "source": [
        "Catboost_pipe[-1].best_score_"
      ]
    },
    {
      "cell_type": "code",
      "execution_count": null,
      "metadata": {
        "id": "A5HcFGUcYh_m"
      },
      "outputs": [],
      "source": [
        "# clf_1.best_score_"
      ]
    },
    {
      "cell_type": "code",
      "execution_count": null,
      "metadata": {
        "id": "o26zSzn47z-e"
      },
      "outputs": [],
      "source": [
        "# {'learn': {'Accuracy': 0.8775847457627118, 'MultiClass': 0.34377799294871336},\n",
        "#  'validation': {'Accuracy': 0.8647572239640708,\n",
        "#   'MultiClass': 0.3753871809869063}}"
      ]
    },
    {
      "cell_type": "code",
      "execution_count": null,
      "metadata": {
        "id": "VJxtqgQTh25x"
      },
      "outputs": [],
      "source": [
        "# {'learn': {'Accuracy': 0.8886676698691979, 'MultiClass': 0.3251143718161897},\n",
        "#  'validation': {'Accuracy': 0.8817483100287064,\n",
        "#   'MultiClass': 0.34822207952607204}}"
      ]
    },
    {
      "cell_type": "code",
      "execution_count": null,
      "metadata": {
        "id": "3R9kgqCKdpug"
      },
      "outputs": [],
      "source": [
        "# {'learn': {'Accuracy': 0.9008923552557616, 'MultiClass': 0.28570940502269604},\n",
        "#  'validation': {'Accuracy': 0.8940415964024733,\n",
        "#   'MultiClass': 0.3034087798075641}}"
      ]
    },
    {
      "cell_type": "code",
      "execution_count": null,
      "metadata": {
        "id": "RqLuQ7sqjtmT"
      },
      "outputs": [],
      "source": [
        "# {'learn': {'Accuracy': 0.9285189055303997, 'MultiClass': 0.21950880724096397},\n",
        "#  'validation': {'Accuracy': 0.9026315789473685,\n",
        "#   'MultiClass': 0.29757526252261496}}"
      ]
    },
    {
      "cell_type": "markdown",
      "metadata": {
        "id": "379LmmiOA7Uh"
      },
      "source": [
        "## Результаты базовой модели"
      ]
    },
    {
      "cell_type": "code",
      "execution_count": null,
      "metadata": {
        "id": "FzCjUbHrcgZf"
      },
      "outputs": [],
      "source": [
        "df_sub = pd.read_csv('/content/drive/MyDrive/competitions/NLP2.0/data/base_submission_news.csv')\n",
        "preds = Catboost_pipe.predict(test)\n",
        "df_sub['Catboost_topic'] = preds\n",
        "# df_sub.to_csv('try_5.csv', index=False)"
      ]
    },
    {
      "cell_type": "code",
      "execution_count": null,
      "metadata": {
        "colab": {
          "base_uri": "https://localhost:8080/",
          "height": 206
        },
        "id": "9k9Q2uCB9xdV",
        "outputId": "51eeb715-307f-4c94-c03e-4b58fe340807"
      },
      "outputs": [
        {
          "data": {
            "text/html": [
              "\n",
              "  <div id=\"df-39e5af39-13e0-4355-9c88-37287a0be3ec\" class=\"colab-df-container\">\n",
              "    <div>\n",
              "<style scoped>\n",
              "    .dataframe tbody tr th:only-of-type {\n",
              "        vertical-align: middle;\n",
              "    }\n",
              "\n",
              "    .dataframe tbody tr th {\n",
              "        vertical-align: top;\n",
              "    }\n",
              "\n",
              "    .dataframe thead th {\n",
              "        text-align: right;\n",
              "    }\n",
              "</style>\n",
              "<table border=\"1\" class=\"dataframe\">\n",
              "  <thead>\n",
              "    <tr style=\"text-align: right;\">\n",
              "      <th></th>\n",
              "      <th>topic</th>\n",
              "      <th>index</th>\n",
              "      <th>Catboost_topic</th>\n",
              "    </tr>\n",
              "  </thead>\n",
              "  <tbody>\n",
              "    <tr>\n",
              "      <th>0</th>\n",
              "      <td>0</td>\n",
              "      <td>0</td>\n",
              "      <td>0.0</td>\n",
              "    </tr>\n",
              "    <tr>\n",
              "      <th>1</th>\n",
              "      <td>0</td>\n",
              "      <td>1</td>\n",
              "      <td>6.0</td>\n",
              "    </tr>\n",
              "    <tr>\n",
              "      <th>2</th>\n",
              "      <td>0</td>\n",
              "      <td>2</td>\n",
              "      <td>4.0</td>\n",
              "    </tr>\n",
              "    <tr>\n",
              "      <th>3</th>\n",
              "      <td>0</td>\n",
              "      <td>3</td>\n",
              "      <td>0.0</td>\n",
              "    </tr>\n",
              "    <tr>\n",
              "      <th>4</th>\n",
              "      <td>0</td>\n",
              "      <td>4</td>\n",
              "      <td>4.0</td>\n",
              "    </tr>\n",
              "  </tbody>\n",
              "</table>\n",
              "</div>\n",
              "    <div class=\"colab-df-buttons\">\n",
              "\n",
              "  <div class=\"colab-df-container\">\n",
              "    <button class=\"colab-df-convert\" onclick=\"convertToInteractive('df-39e5af39-13e0-4355-9c88-37287a0be3ec')\"\n",
              "            title=\"Convert this dataframe to an interactive table.\"\n",
              "            style=\"display:none;\">\n",
              "\n",
              "  <svg xmlns=\"http://www.w3.org/2000/svg\" height=\"24px\" viewBox=\"0 -960 960 960\">\n",
              "    <path d=\"M120-120v-720h720v720H120Zm60-500h600v-160H180v160Zm220 220h160v-160H400v160Zm0 220h160v-160H400v160ZM180-400h160v-160H180v160Zm440 0h160v-160H620v160ZM180-180h160v-160H180v160Zm440 0h160v-160H620v160Z\"/>\n",
              "  </svg>\n",
              "    </button>\n",
              "\n",
              "  <style>\n",
              "    .colab-df-container {\n",
              "      display:flex;\n",
              "      gap: 12px;\n",
              "    }\n",
              "\n",
              "    .colab-df-convert {\n",
              "      background-color: #E8F0FE;\n",
              "      border: none;\n",
              "      border-radius: 50%;\n",
              "      cursor: pointer;\n",
              "      display: none;\n",
              "      fill: #1967D2;\n",
              "      height: 32px;\n",
              "      padding: 0 0 0 0;\n",
              "      width: 32px;\n",
              "    }\n",
              "\n",
              "    .colab-df-convert:hover {\n",
              "      background-color: #E2EBFA;\n",
              "      box-shadow: 0px 1px 2px rgba(60, 64, 67, 0.3), 0px 1px 3px 1px rgba(60, 64, 67, 0.15);\n",
              "      fill: #174EA6;\n",
              "    }\n",
              "\n",
              "    .colab-df-buttons div {\n",
              "      margin-bottom: 4px;\n",
              "    }\n",
              "\n",
              "    [theme=dark] .colab-df-convert {\n",
              "      background-color: #3B4455;\n",
              "      fill: #D2E3FC;\n",
              "    }\n",
              "\n",
              "    [theme=dark] .colab-df-convert:hover {\n",
              "      background-color: #434B5C;\n",
              "      box-shadow: 0px 1px 3px 1px rgba(0, 0, 0, 0.15);\n",
              "      filter: drop-shadow(0px 1px 2px rgba(0, 0, 0, 0.3));\n",
              "      fill: #FFFFFF;\n",
              "    }\n",
              "  </style>\n",
              "\n",
              "    <script>\n",
              "      const buttonEl =\n",
              "        document.querySelector('#df-39e5af39-13e0-4355-9c88-37287a0be3ec button.colab-df-convert');\n",
              "      buttonEl.style.display =\n",
              "        google.colab.kernel.accessAllowed ? 'block' : 'none';\n",
              "\n",
              "      async function convertToInteractive(key) {\n",
              "        const element = document.querySelector('#df-39e5af39-13e0-4355-9c88-37287a0be3ec');\n",
              "        const dataTable =\n",
              "          await google.colab.kernel.invokeFunction('convertToInteractive',\n",
              "                                                    [key], {});\n",
              "        if (!dataTable) return;\n",
              "\n",
              "        const docLinkHtml = 'Like what you see? Visit the ' +\n",
              "          '<a target=\"_blank\" href=https://colab.research.google.com/notebooks/data_table.ipynb>data table notebook</a>'\n",
              "          + ' to learn more about interactive tables.';\n",
              "        element.innerHTML = '';\n",
              "        dataTable['output_type'] = 'display_data';\n",
              "        await google.colab.output.renderOutput(dataTable, element);\n",
              "        const docLink = document.createElement('div');\n",
              "        docLink.innerHTML = docLinkHtml;\n",
              "        element.appendChild(docLink);\n",
              "      }\n",
              "    </script>\n",
              "  </div>\n",
              "\n",
              "\n",
              "<div id=\"df-27653805-f173-4e22-9fc2-e007075c24e9\">\n",
              "  <button class=\"colab-df-quickchart\" onclick=\"quickchart('df-27653805-f173-4e22-9fc2-e007075c24e9')\"\n",
              "            title=\"Suggest charts\"\n",
              "            style=\"display:none;\">\n",
              "\n",
              "<svg xmlns=\"http://www.w3.org/2000/svg\" height=\"24px\"viewBox=\"0 0 24 24\"\n",
              "     width=\"24px\">\n",
              "    <g>\n",
              "        <path d=\"M19 3H5c-1.1 0-2 .9-2 2v14c0 1.1.9 2 2 2h14c1.1 0 2-.9 2-2V5c0-1.1-.9-2-2-2zM9 17H7v-7h2v7zm4 0h-2V7h2v10zm4 0h-2v-4h2v4z\"/>\n",
              "    </g>\n",
              "</svg>\n",
              "  </button>\n",
              "\n",
              "<style>\n",
              "  .colab-df-quickchart {\n",
              "      --bg-color: #E8F0FE;\n",
              "      --fill-color: #1967D2;\n",
              "      --hover-bg-color: #E2EBFA;\n",
              "      --hover-fill-color: #174EA6;\n",
              "      --disabled-fill-color: #AAA;\n",
              "      --disabled-bg-color: #DDD;\n",
              "  }\n",
              "\n",
              "  [theme=dark] .colab-df-quickchart {\n",
              "      --bg-color: #3B4455;\n",
              "      --fill-color: #D2E3FC;\n",
              "      --hover-bg-color: #434B5C;\n",
              "      --hover-fill-color: #FFFFFF;\n",
              "      --disabled-bg-color: #3B4455;\n",
              "      --disabled-fill-color: #666;\n",
              "  }\n",
              "\n",
              "  .colab-df-quickchart {\n",
              "    background-color: var(--bg-color);\n",
              "    border: none;\n",
              "    border-radius: 50%;\n",
              "    cursor: pointer;\n",
              "    display: none;\n",
              "    fill: var(--fill-color);\n",
              "    height: 32px;\n",
              "    padding: 0;\n",
              "    width: 32px;\n",
              "  }\n",
              "\n",
              "  .colab-df-quickchart:hover {\n",
              "    background-color: var(--hover-bg-color);\n",
              "    box-shadow: 0 1px 2px rgba(60, 64, 67, 0.3), 0 1px 3px 1px rgba(60, 64, 67, 0.15);\n",
              "    fill: var(--button-hover-fill-color);\n",
              "  }\n",
              "\n",
              "  .colab-df-quickchart-complete:disabled,\n",
              "  .colab-df-quickchart-complete:disabled:hover {\n",
              "    background-color: var(--disabled-bg-color);\n",
              "    fill: var(--disabled-fill-color);\n",
              "    box-shadow: none;\n",
              "  }\n",
              "\n",
              "  .colab-df-spinner {\n",
              "    border: 2px solid var(--fill-color);\n",
              "    border-color: transparent;\n",
              "    border-bottom-color: var(--fill-color);\n",
              "    animation:\n",
              "      spin 1s steps(1) infinite;\n",
              "  }\n",
              "\n",
              "  @keyframes spin {\n",
              "    0% {\n",
              "      border-color: transparent;\n",
              "      border-bottom-color: var(--fill-color);\n",
              "      border-left-color: var(--fill-color);\n",
              "    }\n",
              "    20% {\n",
              "      border-color: transparent;\n",
              "      border-left-color: var(--fill-color);\n",
              "      border-top-color: var(--fill-color);\n",
              "    }\n",
              "    30% {\n",
              "      border-color: transparent;\n",
              "      border-left-color: var(--fill-color);\n",
              "      border-top-color: var(--fill-color);\n",
              "      border-right-color: var(--fill-color);\n",
              "    }\n",
              "    40% {\n",
              "      border-color: transparent;\n",
              "      border-right-color: var(--fill-color);\n",
              "      border-top-color: var(--fill-color);\n",
              "    }\n",
              "    60% {\n",
              "      border-color: transparent;\n",
              "      border-right-color: var(--fill-color);\n",
              "    }\n",
              "    80% {\n",
              "      border-color: transparent;\n",
              "      border-right-color: var(--fill-color);\n",
              "      border-bottom-color: var(--fill-color);\n",
              "    }\n",
              "    90% {\n",
              "      border-color: transparent;\n",
              "      border-bottom-color: var(--fill-color);\n",
              "    }\n",
              "  }\n",
              "</style>\n",
              "\n",
              "  <script>\n",
              "    async function quickchart(key) {\n",
              "      const quickchartButtonEl =\n",
              "        document.querySelector('#' + key + ' button');\n",
              "      quickchartButtonEl.disabled = true;  // To prevent multiple clicks.\n",
              "      quickchartButtonEl.classList.add('colab-df-spinner');\n",
              "      try {\n",
              "        const charts = await google.colab.kernel.invokeFunction(\n",
              "            'suggestCharts', [key], {});\n",
              "      } catch (error) {\n",
              "        console.error('Error during call to suggestCharts:', error);\n",
              "      }\n",
              "      quickchartButtonEl.classList.remove('colab-df-spinner');\n",
              "      quickchartButtonEl.classList.add('colab-df-quickchart-complete');\n",
              "    }\n",
              "    (() => {\n",
              "      let quickchartButtonEl =\n",
              "        document.querySelector('#df-27653805-f173-4e22-9fc2-e007075c24e9 button');\n",
              "      quickchartButtonEl.style.display =\n",
              "        google.colab.kernel.accessAllowed ? 'block' : 'none';\n",
              "    })();\n",
              "  </script>\n",
              "</div>\n",
              "    </div>\n",
              "  </div>\n"
            ],
            "text/plain": [
              "   topic  index  Catboost_topic\n",
              "0      0      0             0.0\n",
              "1      0      1             6.0\n",
              "2      0      2             4.0\n",
              "3      0      3             0.0\n",
              "4      0      4             4.0"
            ]
          },
          "execution_count": 39,
          "metadata": {},
          "output_type": "execute_result"
        }
      ],
      "source": [
        "df_sub.head()"
      ]
    },
    {
      "cell_type": "code",
      "execution_count": null,
      "metadata": {
        "id": "NUlXZ8Z-nLmP"
      },
      "outputs": [],
      "source": [
        "with open(f'Catboost_pipe_model_new.pkl', \"wb\") as f:\n",
        "        pickle.dump(Catboost_pipe, f)"
      ]
    },
    {
      "cell_type": "markdown",
      "metadata": {
        "id": "sqM1UZTHlKKS"
      },
      "source": [
        "### Optuna для catboost"
      ]
    },
    {
      "cell_type": "code",
      "execution_count": null,
      "metadata": {
        "id": "iV36Qmrplfac"
      },
      "outputs": [],
      "source": [
        "# def fit_catboost(trial, train, val):\n",
        "#     X_train, y_train = train\n",
        "#     X_val, y_val = val\n",
        "\n",
        "#     param = {\n",
        "#         'iterations' : 500,\n",
        "#         \"learning_rate\": trial.suggest_float(\"learning_rate\", 0.01, 0.04, step=0.001),\n",
        "#         \"l2_leaf_reg\": trial.suggest_int(\"l2_leaf_reg\", 30, 70, step=10),\n",
        "#         \"colsample_bylevel\": trial.suggest_float(\"colsample_bylevel\", 0.3, 0.4, step=0.1),\n",
        "#         \"auto_class_weights\": trial.suggest_categorical(\"auto_class_weights\",\n",
        "#                                                         [#\"SqrtBalanced\",\n",
        "#                                                          #\"Balanced\",\n",
        "#                                                          \"None\"]),\n",
        "#         \"depth\": trial.suggest_int(\"depth\", 9, 10),\n",
        "#         \"boosting_type\": trial.suggest_categorical(\"boosting_type\", [#\"Ordered\",\n",
        "#                                                                      \"Plain\"]),\n",
        "#         \"bootstrap_type\": trial.suggest_categorical(\"bootstrap_type\",\n",
        "#                                                               [#\"Bayesian\",\n",
        "#                                                                \"Bernoulli\",\n",
        "#                                                                #\"MVS\"\n",
        "#                                                                ]),\n",
        "#         \"used_ram_limit\": \"10gb\",\n",
        "#         \"eval_metric\": \"Accuracy\", # Тоже стоит заранее определиться\n",
        "#         # 'loss_function': 'MultiClass'\n",
        "#     }\n",
        "\n",
        "\n",
        "#     if param[\"bootstrap_type\"] == \"Bayesian\":\n",
        "#         param[\"bagging_temperature\"] = trial.suggest_float(\"bagging_temperature\", 0, 10)\n",
        "\n",
        "#     elif param[\"bootstrap_type\"] == \"Bernoulli\":\n",
        "#         param[\"subsample\"] = trial.suggest_float(\"subsample\", 0.1, 1)\n",
        "\n",
        "\n",
        "#     clf = CatBoostClassifier(\n",
        "#         **param,\n",
        "#         thread_count=-1,\n",
        "#         random_seed=RND_STATE,\n",
        "#         text_features=text_features)\n",
        "#     #  Создаем объект callback\n",
        "#     pruning_callback = CatBoostPruningCallback(trial, \"Accuracy\")\n",
        "\n",
        "#     clf.fit(\n",
        "#         X_train,\n",
        "#         y_train,\n",
        "#         eval_set=(X_val, y_val),\n",
        "#         verbose=0,\n",
        "#         plot=False,\n",
        "#         early_stopping_rounds=5,\n",
        "#         callbacks=[pruning_callback],\n",
        "#     )\n",
        "\n",
        "#     # запускаем процесс прунинга\n",
        "#     pruning_callback.check_pruned()\n",
        "\n",
        "#     y_pred = clf.predict(X_val)\n",
        "#     return clf, y_pred"
      ]
    },
    {
      "cell_type": "code",
      "execution_count": null,
      "metadata": {
        "id": "jGZcNzAAl1-4"
      },
      "outputs": [],
      "source": [
        "# def objective(trial, return_models=False):\n",
        "#     n_splits = 3\n",
        "#     kf = KFold(n_splits=n_splits, shuffle=True, random_state=RND_STATE)\n",
        "\n",
        "#     scores_simple_acc, scores_balanced_acc, models = [], [], []\n",
        "\n",
        "#     for train_idx, valid_idx in kf.split(X_train):\n",
        "#         train_data = X_train.iloc[train_idx, :], y_train.iloc[train_idx]\n",
        "#         valid_data = X_train.iloc[valid_idx, :], y_train.iloc[valid_idx]\n",
        "\n",
        "#         # Подаем trials для перебора\n",
        "#         model, y_pred = fit_catboost(trial, train_data, valid_data) # Определили выше\n",
        "\n",
        "#         # scores_simple_acc.append(accuracy_score(y_pred, valid_data[1]))\n",
        "#         scores_balanced_acc.append(balanced_accuracy_score(y_pred, valid_data[1]))\n",
        "#         models.append(model)\n",
        "#         break\n",
        "\n",
        "#     result = np.mean(scores_balanced_acc)\n",
        "#     # result = scores_balanced_acc\n",
        "#     print(f'result = {result}')\n",
        "\n",
        "#     if return_models:\n",
        "#         return result, models\n",
        "#     else:\n",
        "#         return result"
      ]
    },
    {
      "cell_type": "code",
      "execution_count": null,
      "metadata": {
        "id": "-P1NO2xk4wjO"
      },
      "outputs": [],
      "source": [
        "from optuna.integration import CatBoostPruningCallback, LightGBMPruningCallback, XGBoostPruningCallback\n",
        "# from optuna.integration.pytorch_lightning import PyTorchLightningPruningCallback\n",
        "# optuna.logging.set_verbosity(optuna.logging.WARNING)\n",
        "# # optuna.logging.set_verbosity(optuna.logging.ERROR)"
      ]
    },
    {
      "cell_type": "code",
      "execution_count": null,
      "metadata": {
        "id": "GPTcaJ9tmfq9"
      },
      "outputs": [],
      "source": [
        "# study = optuna.create_study(direction=\"maximize\",\n",
        "#                             pruner=optuna.pruners.MedianPruner(n_warmup_steps=5),\n",
        "#                             study_name=\"Catboost_clf_simple\",\n",
        "#                             sampler=sampler)\n",
        "# study.optimize(objective,\n",
        "#                n_trials=40,\n",
        "#                n_jobs=-1,\n",
        "#                show_progress_bar=True)"
      ]
    },
    {
      "cell_type": "code",
      "execution_count": null,
      "metadata": {
        "id": "v2oTQagFp2UY"
      },
      "outputs": [],
      "source": [
        "# print(\"Number of finished trials: {}\".format(len(study.trials)))\n",
        "# print(\"Best trial:\")\n",
        "# trial = study.best_trial\n",
        "# print(\"  Value: {}\".format(trial.value))\n",
        "# print(\"  Params: \")\n",
        "\n",
        "# for key, value in trial.params.items():\n",
        "#     print(\"    {}: {}\".format(key, value))"
      ]
    },
    {
      "cell_type": "code",
      "execution_count": null,
      "metadata": {
        "id": "x2JU70ttp-Ly"
      },
      "outputs": [],
      "source": [
        "# valid_scores, models = objective(\n",
        "#     optuna.trial.FixedTrial(study.best_params),\n",
        "#     return_models=True,\n",
        "# )"
      ]
    },
    {
      "cell_type": "code",
      "execution_count": null,
      "metadata": {
        "id": "1Su0ub6YqDj1"
      },
      "outputs": [],
      "source": [
        "# # История изменения от числа испытаний\n",
        "# optuna.visualization.plot_optimization_history(study)"
      ]
    },
    {
      "cell_type": "code",
      "execution_count": null,
      "metadata": {
        "id": "vOTaJmfrUQC5"
      },
      "outputs": [],
      "source": [
        "# params = ['learning_rate',\n",
        "#           'l2_leaf_reg',\n",
        "#           'colsample_bylevel',\n",
        "#           'auto_class_weights',\n",
        "#           'depth',\n",
        "#           'bootstrap_type',\n",
        "#           'boosting_type']\n",
        "\n",
        "# optuna.visualization.plot_slice(study, params=params, target_name='accuracy')"
      ]
    },
    {
      "cell_type": "markdown",
      "metadata": {
        "id": "U1_eZJwO3kGI"
      },
      "source": [
        "## Базовая модель после optuna"
      ]
    },
    {
      "cell_type": "markdown",
      "metadata": {
        "id": "FgQaTFxLAIo8"
      },
      "source": [
        "### pipeline variant"
      ]
    },
    {
      "cell_type": "code",
      "execution_count": null,
      "metadata": {
        "colab": {
          "base_uri": "https://localhost:8080/",
          "height": 424
        },
        "id": "7H9OPzq9ALcM",
        "outputId": "bbafc1b0-c2c0-4b07-d759-2e015dd31636"
      },
      "outputs": [
        {
          "name": "stdout",
          "output_type": "stream",
          "text": [
            "0:\tlearn: 0.7855508\ttest: 0.7911017\tbest: 0.7911017 (0)\ttotal: 21.7s\tremaining: 3h 8s\n",
            "50:\tlearn: 0.8118220\ttest: 0.8213559\tbest: 0.8213559 (47)\ttotal: 16m 10s\tremaining: 2h 22m 23s\n",
            "100:\tlearn: 0.8156780\ttest: 0.8262712\tbest: 0.8266102 (96)\ttotal: 32m 16s\tremaining: 2h 7m 30s\n",
            "150:\tlearn: 0.8198305\ttest: 0.8290678\tbest: 0.8291525 (149)\ttotal: 47m 45s\tremaining: 1h 50m 24s\n",
            "200:\tlearn: 0.8235593\ttest: 0.8314407\tbest: 0.8314407 (197)\ttotal: 1h 3m 19s\tremaining: 1h 34m 12s\n",
            "250:\tlearn: 0.8257627\ttest: 0.8338983\tbest: 0.8338983 (249)\ttotal: 1h 18m 50s\tremaining: 1h 18m 12s\n",
            "300:\tlearn: 0.8276271\ttest: 0.8358475\tbest: 0.8358475 (300)\ttotal: 1h 34m 18s\tremaining: 1h 2m 20s\n",
            "350:\tlearn: 0.8301695\ttest: 0.8376271\tbest: 0.8377119 (346)\ttotal: 1h 49m 36s\tremaining: 46m 31s\n",
            "400:\tlearn: 0.8328178\ttest: 0.8405085\tbest: 0.8405085 (399)\ttotal: 2h 5m 12s\tremaining: 30m 54s\n",
            "450:\tlearn: 0.8348729\ttest: 0.8428814\tbest: 0.8428814 (449)\ttotal: 2h 20m 57s\tremaining: 15m 18s\n",
            "499:\tlearn: 0.8368008\ttest: 0.8442373\tbest: 0.8444068 (485)\ttotal: 2h 36m 18s\tremaining: 0us\n",
            "\n",
            "bestTest = 0.8444067797\n",
            "bestIteration = 485\n",
            "\n",
            "Shrink model to first 486 iterations.\n"
          ]
        },
        {
          "data": {
            "text/html": [
              "<style>#sk-container-id-3 {color: black;background-color: white;}#sk-container-id-3 pre{padding: 0;}#sk-container-id-3 div.sk-toggleable {background-color: white;}#sk-container-id-3 label.sk-toggleable__label {cursor: pointer;display: block;width: 100%;margin-bottom: 0;padding: 0.3em;box-sizing: border-box;text-align: center;}#sk-container-id-3 label.sk-toggleable__label-arrow:before {content: \"▸\";float: left;margin-right: 0.25em;color: #696969;}#sk-container-id-3 label.sk-toggleable__label-arrow:hover:before {color: black;}#sk-container-id-3 div.sk-estimator:hover label.sk-toggleable__label-arrow:before {color: black;}#sk-container-id-3 div.sk-toggleable__content {max-height: 0;max-width: 0;overflow: hidden;text-align: left;background-color: #f0f8ff;}#sk-container-id-3 div.sk-toggleable__content pre {margin: 0.2em;color: black;border-radius: 0.25em;background-color: #f0f8ff;}#sk-container-id-3 input.sk-toggleable__control:checked~div.sk-toggleable__content {max-height: 200px;max-width: 100%;overflow: auto;}#sk-container-id-3 input.sk-toggleable__control:checked~label.sk-toggleable__label-arrow:before {content: \"▾\";}#sk-container-id-3 div.sk-estimator input.sk-toggleable__control:checked~label.sk-toggleable__label {background-color: #d4ebff;}#sk-container-id-3 div.sk-label input.sk-toggleable__control:checked~label.sk-toggleable__label {background-color: #d4ebff;}#sk-container-id-3 input.sk-hidden--visually {border: 0;clip: rect(1px 1px 1px 1px);clip: rect(1px, 1px, 1px, 1px);height: 1px;margin: -1px;overflow: hidden;padding: 0;position: absolute;width: 1px;}#sk-container-id-3 div.sk-estimator {font-family: monospace;background-color: #f0f8ff;border: 1px dotted black;border-radius: 0.25em;box-sizing: border-box;margin-bottom: 0.5em;}#sk-container-id-3 div.sk-estimator:hover {background-color: #d4ebff;}#sk-container-id-3 div.sk-parallel-item::after {content: \"\";width: 100%;border-bottom: 1px solid gray;flex-grow: 1;}#sk-container-id-3 div.sk-label:hover label.sk-toggleable__label {background-color: #d4ebff;}#sk-container-id-3 div.sk-serial::before {content: \"\";position: absolute;border-left: 1px solid gray;box-sizing: border-box;top: 0;bottom: 0;left: 50%;z-index: 0;}#sk-container-id-3 div.sk-serial {display: flex;flex-direction: column;align-items: center;background-color: white;padding-right: 0.2em;padding-left: 0.2em;position: relative;}#sk-container-id-3 div.sk-item {position: relative;z-index: 1;}#sk-container-id-3 div.sk-parallel {display: flex;align-items: stretch;justify-content: center;background-color: white;position: relative;}#sk-container-id-3 div.sk-item::before, #sk-container-id-3 div.sk-parallel-item::before {content: \"\";position: absolute;border-left: 1px solid gray;box-sizing: border-box;top: 0;bottom: 0;left: 50%;z-index: -1;}#sk-container-id-3 div.sk-parallel-item {display: flex;flex-direction: column;z-index: 1;position: relative;background-color: white;}#sk-container-id-3 div.sk-parallel-item:first-child::after {align-self: flex-end;width: 50%;}#sk-container-id-3 div.sk-parallel-item:last-child::after {align-self: flex-start;width: 50%;}#sk-container-id-3 div.sk-parallel-item:only-child::after {width: 0;}#sk-container-id-3 div.sk-dashed-wrapped {border: 1px dashed gray;margin: 0 0.4em 0.5em 0.4em;box-sizing: border-box;padding-bottom: 0.4em;background-color: white;}#sk-container-id-3 div.sk-label label {font-family: monospace;font-weight: bold;display: inline-block;line-height: 1.2em;}#sk-container-id-3 div.sk-label-container {text-align: center;}#sk-container-id-3 div.sk-container {/* jupyter's `normalize.less` sets `[hidden] { display: none; }` but bootstrap.min.css set `[hidden] { display: none !important; }` so we also need the `!important` here to be able to override the default hidden behavior on the sphinx rendered scikit-learn.org. See: https://github.com/scikit-learn/scikit-learn/issues/21755 */display: inline-block !important;position: relative;}#sk-container-id-3 div.sk-text-repr-fallback {display: none;}</style><div id=\"sk-container-id-3\" class=\"sk-top-container\"><div class=\"sk-text-repr-fallback\"><pre>Pipeline(steps=[(&#x27;col_selector&#x27;,\n",
              "                 &lt;__main__.CustomSelectColumns object at 0x7ba724e14f10&gt;),\n",
              "                (&#x27;Catboost_simple&#x27;,\n",
              "                 &lt;catboost.core.CatBoostClassifier object at 0x7ba724e14a90&gt;)])</pre><b>In a Jupyter environment, please rerun this cell to show the HTML representation or trust the notebook. <br />On GitHub, the HTML representation is unable to render, please try loading this page with nbviewer.org.</b></div><div class=\"sk-container\" hidden><div class=\"sk-item sk-dashed-wrapped\"><div class=\"sk-label-container\"><div class=\"sk-label sk-toggleable\"><input class=\"sk-toggleable__control sk-hidden--visually\" id=\"sk-estimator-id-7\" type=\"checkbox\" ><label for=\"sk-estimator-id-7\" class=\"sk-toggleable__label sk-toggleable__label-arrow\">Pipeline</label><div class=\"sk-toggleable__content\"><pre>Pipeline(steps=[(&#x27;col_selector&#x27;,\n",
              "                 &lt;__main__.CustomSelectColumns object at 0x7ba724e14f10&gt;),\n",
              "                (&#x27;Catboost_simple&#x27;,\n",
              "                 &lt;catboost.core.CatBoostClassifier object at 0x7ba724e14a90&gt;)])</pre></div></div></div><div class=\"sk-serial\"><div class=\"sk-item\"><div class=\"sk-estimator sk-toggleable\"><input class=\"sk-toggleable__control sk-hidden--visually\" id=\"sk-estimator-id-8\" type=\"checkbox\" ><label for=\"sk-estimator-id-8\" class=\"sk-toggleable__label sk-toggleable__label-arrow\">CustomSelectColumns</label><div class=\"sk-toggleable__content\"><pre>&lt;__main__.CustomSelectColumns object at 0x7ba724e14f10&gt;</pre></div></div></div><div class=\"sk-item\"><div class=\"sk-estimator sk-toggleable\"><input class=\"sk-toggleable__control sk-hidden--visually\" id=\"sk-estimator-id-9\" type=\"checkbox\" ><label for=\"sk-estimator-id-9\" class=\"sk-toggleable__label sk-toggleable__label-arrow\">CatBoostClassifier</label><div class=\"sk-toggleable__content\"><pre>&lt;catboost.core.CatBoostClassifier object at 0x7ba724e14a90&gt;</pre></div></div></div></div></div></div></div>"
            ],
            "text/plain": [
              "Pipeline(steps=[('col_selector',\n",
              "                 <__main__.CustomSelectColumns object at 0x7ba724e14f10>),\n",
              "                ('Catboost_simple',\n",
              "                 <catboost.core.CatBoostClassifier object at 0x7ba724e14a90>)])"
            ]
          },
          "execution_count": 45,
          "metadata": {},
          "output_type": "execute_result"
        }
      ],
      "source": [
        "Catboost_pipe = Pipeline([\n",
        "    ('col_selector', CustomSelectColumns(['content'])),\n",
        "    ('Catboost_simple', CatBoostClassifier(depth=9,\n",
        "                           l2_leaf_reg=50,\n",
        "                           learning_rate=0.018,\n",
        "                           colsample_bylevel=0.3,\n",
        "                           auto_class_weights='None',\n",
        "                           bootstrap_type= 'Bernoulli',\n",
        "                           boosting_type=\"Plain\",\n",
        "                           eval_metric= 'Accuracy',\n",
        "                           iterations=500,\n",
        "                           thread_count=-1,\n",
        "                           random_seed=RND_STATE,\n",
        "                           text_features=text_features))\n",
        "    ])\n",
        "\n",
        "Catboost_pipe.fit(X_train, y_train,\n",
        "                  Catboost_simple__text_features=['content'],\n",
        "                  Catboost_simple__verbose=50,\n",
        "                  Catboost_simple__early_stopping_rounds=200,\n",
        "                  Catboost_simple__eval_set=(X_val[['content']], y_val)\n",
        "                  )"
      ]
    },
    {
      "cell_type": "code",
      "execution_count": null,
      "metadata": {
        "colab": {
          "base_uri": "https://localhost:8080/"
        },
        "id": "xkLizw2IyXU5",
        "outputId": "9538cafc-dd56-4b6e-92cd-a896c9e9f4ed"
      },
      "outputs": [
        {
          "data": {
            "text/plain": [
              "{'learn': {'Accuracy': 0.8368008474576272, 'MultiClass': 0.4979845860401242},\n",
              " 'validation': {'Accuracy': 0.844406779661017,\n",
              "  'MultiClass': 0.4798322354607637}}"
            ]
          },
          "execution_count": 46,
          "metadata": {},
          "output_type": "execute_result"
        }
      ],
      "source": [
        "Catboost_pipe[-1].best_score_"
      ]
    },
    {
      "cell_type": "code",
      "execution_count": null,
      "metadata": {
        "id": "dnuEDVPBEM7e"
      },
      "outputs": [],
      "source": [
        "preds = Catboost_pipe.predict(test)\n",
        "df_sub['Catboost_topic'] = preds"
      ]
    },
    {
      "cell_type": "code",
      "execution_count": null,
      "metadata": {
        "id": "9_vpmR7cEYUF"
      },
      "outputs": [],
      "source": [
        "with open(f'Catboost_pipe_model_opt.pkl', \"wb\") as f:\n",
        "        pickle.dump(Catboost_pipe, f)"
      ]
    },
    {
      "cell_type": "markdown",
      "metadata": {
        "id": "07Qit9rtAExK"
      },
      "source": [
        "### pool variant"
      ]
    },
    {
      "cell_type": "code",
      "execution_count": null,
      "metadata": {
        "id": "Sm-d45Q83ura"
      },
      "outputs": [],
      "source": [
        "# %%time\n",
        "# clf_2 = CatBoostClassifier(depth=9,\n",
        "#                            l2_leaf_reg=50,\n",
        "#                            learning_rate=0.018,\n",
        "#                            colsample_bylevel=0.3,\n",
        "#                            auto_class_weights='None',\n",
        "#                            bootstrap_type= 'Bernoulli',\n",
        "#                            boosting_type=\"Plain\",\n",
        "#                            eval_metric= 'Accuracy',\n",
        "#                            iterations=500,\n",
        "#                            thread_count=-1,\n",
        "#                            random_seed=RND_STATE,\n",
        "#                            text_features=text_features\n",
        "#       )\n",
        "\n",
        "\n",
        "# train_dataset = Pool(data=X_train, label=y_train, text_features=['content'])\n",
        "# eval_dataset = Pool(data=X_val, label=y_val, text_features=['content'])\n",
        "\n",
        "# clf_2.fit(train_dataset,\n",
        "#         eval_set=eval_dataset,\n",
        "#         verbose=10,\n",
        "#         early_stopping_rounds=5)"
      ]
    },
    {
      "cell_type": "code",
      "execution_count": null,
      "metadata": {
        "id": "StxHmLVm5P5B"
      },
      "outputs": [],
      "source": [
        "# clf_2.best_score_"
      ]
    },
    {
      "cell_type": "code",
      "execution_count": null,
      "metadata": {
        "id": "_lWwQtgt-2vo"
      },
      "outputs": [],
      "source": [
        "# {'learn': {'Accuracy': 0.8531127037661608, 'MultiClass': 0.4443919425452108},\n",
        "#  'validation': {'Accuracy': 0.8643901068015739,\n",
        "#   'MultiClass': 0.40232220505661986}}"
      ]
    },
    {
      "cell_type": "code",
      "execution_count": null,
      "metadata": {
        "id": "Pgl14WklagNE"
      },
      "outputs": [],
      "source": [
        "# df_sub = pd.read_csv('/content/drive/MyDrive/competitions/NLP2.0/data/base_submission_news.csv')\n",
        "# preds = clf_1.predict(test)\n",
        "# df_sub['topic'] = preds\n",
        "# df_sub.to_csv('try_2.csv', index=False)"
      ]
    },
    {
      "cell_type": "markdown",
      "metadata": {
        "id": "0oqYOERP5yk7"
      },
      "source": [
        "## Simple models"
      ]
    },
    {
      "cell_type": "markdown",
      "metadata": {
        "id": "IZs5GX1oYMlf"
      },
      "source": [
        "### Предобработка текстов."
      ]
    },
    {
      "cell_type": "code",
      "execution_count": null,
      "metadata": {
        "id": "1ty_VXvs1jBA"
      },
      "outputs": [],
      "source": [
        "# segmenter = Segmenter()\n",
        "# morph_vocab = MorphVocab()\n",
        "# emb = NewsEmbedding()\n",
        "# morph_tagger = NewsMorphTagger(emb)"
      ]
    },
    {
      "cell_type": "code",
      "execution_count": null,
      "metadata": {
        "id": "zrYn21xN8z8P"
      },
      "outputs": [],
      "source": [
        "# stop_words = stopwords.words('russian')\n",
        "# stop_words.extend(['что', 'это', 'так',\n",
        "#                     'вот', 'быть', 'как',\n",
        "#                     'в', '—', 'к', 'за', 'из', 'из-за',\n",
        "#                     'на', 'ок', 'кстати',\n",
        "#                     'который', 'мочь', 'весь',\n",
        "#                     'еще', 'также', 'свой',\n",
        "#                     'ещё', 'самый', 'ул', 'комментарий',\n",
        "#                     'английский', 'язык'])"
      ]
    },
    {
      "cell_type": "markdown",
      "metadata": {
        "id": "RSF6JBB3YU7j"
      },
      "source": [
        "Функция для обработки текстов."
      ]
    },
    {
      "cell_type": "code",
      "execution_count": null,
      "metadata": {
        "id": "3vMvtX0c1mub"
      },
      "outputs": [],
      "source": [
        "# def text_prep(text) -> str:\n",
        "#     doc = Doc(text)\n",
        "#     doc.segment(segmenter)\n",
        "#     doc.tag_morph(morph_tagger)\n",
        "\n",
        "#     for token in doc.tokens:\n",
        "#         token.lemmatize(morph_vocab)\n",
        "\n",
        "#     lemmas = [_.lemma for _ in doc.tokens]\n",
        "#     words = [lemma for lemma in lemmas if lemma.isalpha() and len(lemma) > 2]\n",
        "#     filtered_words = [word for word in words if word not in stop_words]\n",
        "#     return \" \".join(filtered_words)"
      ]
    },
    {
      "cell_type": "markdown",
      "metadata": {
        "id": "nJE1N8zr6CX_"
      },
      "source": [
        "Обработаем тексты обучения и теста."
      ]
    },
    {
      "cell_type": "code",
      "execution_count": null,
      "metadata": {
        "colab": {
          "base_uri": "https://localhost:8080/"
        },
        "id": "7FIJMpvSi3m4",
        "outputId": "e821fd7d-051c-4848-9fce-9fdd89024a97"
      },
      "outputs": [
        {
          "output_type": "stream",
          "name": "stdout",
          "text": [
            "train shape = (39146, 2),  test shape = (26275, 1)\n",
            "train, test is null: (False, False)\n"
          ]
        }
      ],
      "source": [
        "# # Удаляем дубли\n",
        "# train.drop_duplicates(inplace=True)\n",
        "# # Удаляем пропуски\n",
        "# train.dropna(inplace=True)\n",
        "\n",
        "# print(f'train shape = {train.shape},  test shape = {test.shape}')\n",
        "# print(f'train, test is null: {train.isna().any().any(), test.isna().any().any()}')"
      ]
    },
    {
      "cell_type": "code",
      "execution_count": null,
      "metadata": {
        "colab": {
          "base_uri": "https://localhost:8080/"
        },
        "id": "VbuvEfZS6FBJ",
        "outputId": "c4d18ce9-fb19-4108-ddc2-1f2dbe2d075f"
      },
      "outputs": [
        {
          "output_type": "stream",
          "name": "stdout",
          "text": [
            "CPU times: user 39min 56s, sys: 23min 45s, total: 1h 3min 42s\n",
            "Wall time: 38min 41s\n"
          ]
        }
      ],
      "source": [
        "# %%time\n",
        "# train['content_clean'] = train.content.apply(text_prep)"
      ]
    },
    {
      "cell_type": "code",
      "execution_count": null,
      "metadata": {
        "id": "4rmzMhPjzh35"
      },
      "outputs": [],
      "source": [
        "# train.to_csv('train_02.01_prep.csv', index=False)"
      ]
    },
    {
      "cell_type": "code",
      "execution_count": null,
      "metadata": {
        "id": "zsRo-EUO6IHS"
      },
      "outputs": [],
      "source": [
        "# %%time\n",
        "# test['content_clean'] = test.content.apply(text_prep)"
      ]
    },
    {
      "cell_type": "markdown",
      "metadata": {
        "id": "9qvnIdOB6SUu"
      },
      "source": [
        "## Загрузка датасетов, после предобработки"
      ]
    },
    {
      "cell_type": "code",
      "execution_count": null,
      "metadata": {
        "id": "JuvJYjoIq89-"
      },
      "outputs": [],
      "source": [
        "# X_train, X_val, y_train, y_val = train_test_split(X.content_clean.str.split(),\n",
        "#                                                   y,#.values,\n",
        "#                                                   test_size=0.2,\n",
        "#                                                   random_state=RND_STATE)"
      ]
    },
    {
      "cell_type": "markdown",
      "metadata": {
        "id": "O7-FWd2J7Vul"
      },
      "source": [
        "## TFIDF"
      ]
    },
    {
      "cell_type": "code",
      "execution_count": null,
      "metadata": {
        "id": "ycAerJbx7X2K"
      },
      "outputs": [],
      "source": [
        "# Для получения вектора предложения используем tf_idf\n",
        "class TfidfEmbeddingVectorizer(object):\n",
        "    \"\"\"Get tfidf weighted vectors\"\"\"\n",
        "    def __init__(self, model):\n",
        "        self.word2vec = model.wv\n",
        "        self.word2weight = None\n",
        "        self.dim = model.vector_size\n",
        "\n",
        "    def fit(self, X, y):\n",
        "        tfidf = TfidfVectorizer(analyzer=lambda x: x)\n",
        "        tfidf.fit(X)\n",
        "        max_idf = max(tfidf.idf_)\n",
        "        self.word2weight = defaultdict(\n",
        "            lambda: max_idf,\n",
        "            [(w, tfidf.idf_[i]) for w, i in tfidf.vocabulary_.items()])\n",
        "\n",
        "        return self\n",
        "\n",
        "    def transform(self, X):\n",
        "        return np.array([\n",
        "                np.mean([self.word2vec.get_vector(w) * self.word2weight[w]\n",
        "                         for w in words if w in self.word2vec] or\n",
        "                        [np.zeros(self.dim)], axis=0)\n",
        "                for words in X\n",
        "            ])"
      ]
    },
    {
      "cell_type": "markdown",
      "metadata": {
        "id": "h-sc9voKpk-Y"
      },
      "source": [
        "## Word2Vec"
      ]
    },
    {
      "cell_type": "code",
      "execution_count": null,
      "metadata": {
        "id": "FawCTmRjridd"
      },
      "outputs": [],
      "source": [
        "# # X_train, X_val, y_train, y_val = train_test_split(X.content_clean.str.split(),\n",
        "# #                                                   y,#.values,\n",
        "# #                                                   test_size=0.2,\n",
        "# #                                                   random_state=RND_STATE)\n",
        "\n",
        "\n",
        "# model_w2v = Word2Vec(sentences=X_train,\n",
        "#                  vector_size=300,\n",
        "#                  min_count=5,\n",
        "#                  window=25,\n",
        "#                  seed=RND_STATE)"
      ]
    },
    {
      "cell_type": "code",
      "execution_count": null,
      "metadata": {
        "id": "d-yrLJfgntL-"
      },
      "outputs": [],
      "source": [
        "# with open(f'model_w2v.pkl', \"wb\") as f:\n",
        "#         pickle.dump(model_w2v, f)"
      ]
    },
    {
      "cell_type": "code",
      "execution_count": null,
      "metadata": {
        "id": "BClim49-zjiq"
      },
      "outputs": [],
      "source": [
        "with open(f\"/content/drive/MyDrive/competitions/NLP2.0/models/model_w2v.pkl\", \"rb\") as f:\n",
        "        model_w2v = pickle.load(f)"
      ]
    },
    {
      "cell_type": "markdown",
      "metadata": {
        "id": "Y8km51gIaAQK"
      },
      "source": [
        "## Логистическая регрессия"
      ]
    },
    {
      "cell_type": "markdown",
      "metadata": {
        "id": "sTQhPaJ7UPDc"
      },
      "source": [
        "### W2V"
      ]
    },
    {
      "cell_type": "code",
      "execution_count": null,
      "metadata": {
        "colab": {
          "base_uri": "https://localhost:8080/"
        },
        "id": "jSd_VApFCtCT",
        "outputId": "1f1619b6-93e8-4d2d-d02a-eba6aa45b1e6"
      },
      "outputs": [
        {
          "output_type": "stream",
          "name": "stdout",
          "text": [
            "              precision    recall  f1-score   support\n",
            "\n",
            "           0       0.84      0.87      0.85      3374\n",
            "           1       0.81      0.83      0.82       924\n",
            "           2       0.85      0.79      0.82       568\n",
            "           3       0.83      0.82      0.83       938\n",
            "           4       0.97      0.96      0.97       835\n",
            "           5       0.59      0.48      0.53        46\n",
            "           6       0.93      0.95      0.94       193\n",
            "           7       0.87      0.79      0.83       412\n",
            "           8       0.87      0.80      0.83       540\n",
            "\n",
            "    accuracy                           0.85      7830\n",
            "   macro avg       0.84      0.81      0.82      7830\n",
            "weighted avg       0.85      0.85      0.85      7830\n",
            "\n",
            "CPU times: user 3min 40s, sys: 24.3 s, total: 4min 5s\n",
            "Wall time: 3min 10s\n"
          ]
        }
      ],
      "source": [
        "# pipeline variant\n",
        "%%time\n",
        "pipe_log = Pipeline([('col_selector', CustomSelectColumns(['content_clean'], clean=True)),\n",
        "                 ('w2v_tfidf', TfidfEmbeddingVectorizer(model_w2v)),\n",
        "                 ('scaler', StandardScaler()),\n",
        "                 ('clf', LogisticRegression(random_state=RND_STATE,\n",
        "                                            max_iter=10000,\n",
        "                                            # class_weight='balanced'\n",
        "                                            ))])\n",
        "\n",
        "pipe_log.fit(X_train, y_train)\n",
        "\n",
        "print(classification_report(y_val, pipe_log.predict(X_val)))"
      ]
    },
    {
      "cell_type": "code",
      "execution_count": null,
      "metadata": {
        "id": "GJxIjvTJUbCv"
      },
      "outputs": [],
      "source": [
        "# simple variant\n",
        "# %%time\n",
        "# pipe_log = Pipeline([('w2v_tfidf', TfidfEmbeddingVectorizer(model_w2v)),\n",
        "#                  ('scaler', StandardScaler()),\n",
        "#                  ('clf', LogisticRegression(random_state=RND_STATE,\n",
        "#                                             max_iter=10000,\n",
        "#                                             # class_weight='balanced'\n",
        "#                                             ))])\n",
        "\n",
        "# pipe_log.fit(X_train, y_train)\n",
        "\n",
        "# print(classification_report(y_val, pipe_log.predict(X_val)))"
      ]
    },
    {
      "cell_type": "code",
      "execution_count": null,
      "metadata": {
        "id": "Tr_7Hcl_P1A8"
      },
      "outputs": [],
      "source": [
        "# precision    recall  f1-score   support\n",
        "\n",
        "#          0.0       0.78      0.82      0.80      4287\n",
        "#          1.0       0.77      0.77      0.77      2110\n",
        "#          2.0       0.77      0.68      0.72       981\n",
        "#          3.0       0.85      0.81      0.83      1264\n",
        "#          4.0       0.97      0.97      0.97      1321\n",
        "#          5.0       0.60      0.47      0.53        87\n",
        "#          6.0       0.95      0.96      0.95       203\n",
        "#          7.0       0.87      0.83      0.85       612\n",
        "#          8.0       0.80      0.78      0.79       935\n",
        "\n",
        "#     accuracy                           0.81     11800\n",
        "#    macro avg       0.82      0.79      0.80     11800\n",
        "# weighted avg       0.81      0.81      0.81     11800\n",
        "\n",
        "# CPU times: user 7min 54s, sys: 49.5 s, total: 8min 43s"
      ]
    },
    {
      "cell_type": "markdown",
      "metadata": {
        "id": "qPQC9XVlU05q"
      },
      "source": [
        "### Optuna для лог_рег"
      ]
    },
    {
      "cell_type": "code",
      "execution_count": null,
      "metadata": {
        "id": "ocV6TOHwU2Jo"
      },
      "outputs": [],
      "source": [
        "def fit_log_reg(trial, train, val):\n",
        "    X_train, y_train = train\n",
        "    X_val, y_val = val\n",
        "\n",
        "    param = {\"dual\": False,\n",
        "             \"C\": trial.suggest_float(\"C\", 2.5, 3, step=0.1),\n",
        "             \"solver\": trial.suggest_categorical(\"solver\",\n",
        "                                                 [\"sag\",\n",
        "                                                  #\"saga\",\n",
        "                                                  \"lbfgs\"\n",
        "                                                  ]),\n",
        "             \"random_state\": RND_STATE,\n",
        "             \"max_iter\": trial.suggest_int(\"max_iter\", 5500, 6300, step=200),\n",
        "             'multi_class': trial.suggest_categorical(\"multi_class\",\n",
        "                                                      [#'auto',\n",
        "                                                       'ovr',\n",
        "                                                       #'multinomial'\n",
        "                                                       ]),\n",
        "             'n_jobs': -1,\n",
        "             'verbose': 0\n",
        "    }\n",
        "\n",
        "    # print(f'param[\"solver\"] = {param[\"solver\"]}')\n",
        "    if param[\"solver\"] == \"saga\":\n",
        "        param[\"penalty\"] = trial.suggest_categorical(\"penalty\",\n",
        "                                             ['l1',\n",
        "                                              'l2', #'elasticnet',\n",
        "                                              None])\n",
        "    else:\n",
        "         param[\"penalty\"] = trial.suggest_categorical(\"penalty\",\n",
        "                                             ['l2',\n",
        "                                              #None\n",
        "                                              ])\n",
        "\n",
        "    clf = LogisticRegression(**param)\n",
        "\n",
        "    pipe = Pipeline([('w2v', TfidfEmbeddingVectorizer(model_w2v)),\n",
        "                    ('scaler', StandardScaler()),\n",
        "                    ('clf', clf)])\n",
        "\n",
        "    pipe.fit(X_train, y_train)\n",
        "\n",
        "    y_pred = pipe.predict(X_val)\n",
        "    return pipe, y_pred"
      ]
    },
    {
      "cell_type": "code",
      "execution_count": null,
      "metadata": {
        "id": "rZMTZo8SVCfs"
      },
      "outputs": [],
      "source": [
        "def objective_log(trial, return_models=False):\n",
        "    n_splits = 3\n",
        "    kf = KFold(n_splits=n_splits, shuffle=True, random_state=RND_STATE)\n",
        "\n",
        "    scores_simple_acc, scores_balanced_acc, models = [], [], []\n",
        "\n",
        "    for train_idx, valid_idx in kf.split(X_train.index):\n",
        "        train_data = X_train.iloc[train_idx], y_train.iloc[train_idx]\n",
        "        valid_data = X_train.iloc[valid_idx], y_train.iloc[valid_idx]\n",
        "\n",
        "        # Подаем trials для перебора\n",
        "        model, y_pred = fit_log_reg(trial, train_data, valid_data)\n",
        "\n",
        "        # scores_simple_acc.append(accuracy_score(y_pred, valid_data[1]))\n",
        "        scores_balanced_acc.append(balanced_accuracy_score(y_pred, valid_data[1]))\n",
        "        models.append(model)\n",
        "        break\n",
        "\n",
        "    result = np.mean(scores_balanced_acc)\n",
        "    # print(f'result = {result}')\n",
        "\n",
        "    if return_models:\n",
        "        return result, models\n",
        "    else:\n",
        "        return result"
      ]
    },
    {
      "cell_type": "code",
      "execution_count": null,
      "metadata": {
        "colab": {
          "base_uri": "https://localhost:8080/",
          "height": 1000,
          "referenced_widgets": [
            "ddf32bad96114bd7a4da71e19bee117f",
            "db30a7301bcf41e9be4bfd9c43de42dc",
            "29e475e429b54883aceda5ab67308c2a",
            "8c3d4745c29d49679d53fba216ee8c4d",
            "f0af9449764245e3bedd0fc388c29805",
            "52a21e6bf0774863b85960e7e51c14d7",
            "1c9c2955a9ca4f4aa4dc33627b69c99e",
            "a0e11c483c554d73a41c739168867798",
            "b7db1ecb863d4a688f89b9e1b89f9cd2",
            "27ead9acb2c04708950fc325d9d27302",
            "f485dc65c0c14d70b5321e681a651469"
          ]
        },
        "id": "D7a6DBekVFd1",
        "outputId": "209a74cb-210a-4dbe-dcbf-60e8314ac89f"
      },
      "outputs": [
        {
          "name": "stderr",
          "output_type": "stream",
          "text": [
            "[I 2024-01-02 15:41:48,183] A new study created in memory with name: Log_Reg_clf\n"
          ]
        },
        {
          "data": {
            "application/vnd.jupyter.widget-view+json": {
              "model_id": "ddf32bad96114bd7a4da71e19bee117f",
              "version_major": 2,
              "version_minor": 0
            },
            "text/plain": [
              "  0%|          | 0/10 [00:00<?, ?it/s]"
            ]
          },
          "metadata": {},
          "output_type": "display_data"
        },
        {
          "name": "stdout",
          "output_type": "stream",
          "text": [
            "[W 2024-01-02 16:04:47,776] Trial 0 failed with parameters: {'C': 2.3, 'solver': 'lbfgs', 'max_iter': 9010, 'multi_class': 'auto', 'penalty': None} because of the following error: KeyboardInterrupt().\n",
            "joblib.externals.loky.process_executor._RemoteTraceback: \n",
            "\"\"\"\n",
            "Traceback (most recent call last):\n",
            "  File \"/usr/local/lib/python3.10/dist-packages/joblib/externals/loky/process_executor.py\", line 463, in _process_worker\n",
            "    r = call_item()\n",
            "  File \"/usr/local/lib/python3.10/dist-packages/joblib/externals/loky/process_executor.py\", line 291, in __call__\n",
            "    return self.fn(*self.args, **self.kwargs)\n",
            "  File \"/usr/local/lib/python3.10/dist-packages/joblib/parallel.py\", line 589, in __call__\n",
            "    return [func(*args, **kwargs)\n",
            "  File \"/usr/local/lib/python3.10/dist-packages/joblib/parallel.py\", line 589, in <listcomp>\n",
            "    return [func(*args, **kwargs)\n",
            "  File \"/usr/local/lib/python3.10/dist-packages/sklearn/utils/parallel.py\", line 123, in __call__\n",
            "    return self.function(*args, **kwargs)\n",
            "  File \"/usr/local/lib/python3.10/dist-packages/sklearn/linear_model/_logistic.py\", line 450, in _logistic_regression_path\n",
            "    opt_res = optimize.minimize(\n",
            "  File \"/usr/local/lib/python3.10/dist-packages/scipy/optimize/_minimize.py\", line 710, in minimize\n",
            "    res = _minimize_lbfgsb(fun, x0, args, jac, bounds,\n",
            "  File \"/usr/local/lib/python3.10/dist-packages/scipy/optimize/_lbfgsb_py.py\", line 365, in _minimize_lbfgsb\n",
            "    f, g = func_and_grad(x)\n",
            "  File \"/usr/local/lib/python3.10/dist-packages/scipy/optimize/_differentiable_functions.py\", line 285, in fun_and_grad\n",
            "    self._update_fun()\n",
            "  File \"/usr/local/lib/python3.10/dist-packages/scipy/optimize/_differentiable_functions.py\", line 251, in _update_fun\n",
            "    self._update_fun_impl()\n",
            "  File \"/usr/local/lib/python3.10/dist-packages/scipy/optimize/_differentiable_functions.py\", line 155, in update_fun\n",
            "    self.f = fun_wrapped(self.x)\n",
            "  File \"/usr/local/lib/python3.10/dist-packages/scipy/optimize/_differentiable_functions.py\", line 137, in fun_wrapped\n",
            "    fx = fun(np.copy(x), *args)\n",
            "  File \"/usr/local/lib/python3.10/dist-packages/scipy/optimize/_optimize.py\", line 77, in __call__\n",
            "    self._compute_if_needed(x, *args)\n",
            "  File \"/usr/local/lib/python3.10/dist-packages/scipy/optimize/_optimize.py\", line 71, in _compute_if_needed\n",
            "    fg = self.fun(x, *args)\n",
            "  File \"/usr/local/lib/python3.10/dist-packages/sklearn/linear_model/_linear_loss.py\", line 274, in loss_gradient\n",
            "    weights, intercept, raw_prediction = self.weight_intercept_raw(coef, X)\n",
            "  File \"/usr/local/lib/python3.10/dist-packages/sklearn/linear_model/_linear_loss.py\", line 165, in weight_intercept_raw\n",
            "    raw_prediction = X @ weights.T + intercept  # ndarray, likely C-contiguous\n",
            "  File \"/usr/local/lib/python3.10/dist-packages/numpy/core/memmap.py\", line 318, in __array_wrap__\n",
            "    def __array_wrap__(self, arr, context=None):\n",
            "KeyboardInterrupt\n",
            "\"\"\"\n",
            "\n",
            "The above exception was the direct cause of the following exception:\n",
            "\n",
            "Traceback (most recent call last):\n",
            "  File \"/usr/local/lib/python3.10/dist-packages/optuna/study/_optimize.py\", line 200, in _run_trial\n",
            "    value_or_values = func(trial)\n",
            "  File \"<ipython-input-55-ce60c315e385>\", line 12, in objective_log\n",
            "    model, y_pred = fit_log_reg(trial, train_data, valid_data)\n",
            "  File \"<ipython-input-54-cdd2bb623ad6>\", line 39, in fit_log_reg\n",
            "    pipe.fit(X_train, y_train)\n",
            "  File \"/usr/local/lib/python3.10/dist-packages/sklearn/pipeline.py\", line 405, in fit\n",
            "    self._final_estimator.fit(Xt, y, **fit_params_last_step)\n",
            "  File \"/usr/local/lib/python3.10/dist-packages/sklearn/linear_model/_logistic.py\", line 1291, in fit\n",
            "    fold_coefs_ = Parallel(n_jobs=self.n_jobs, verbose=self.verbose, prefer=prefer)(\n",
            "  File \"/usr/local/lib/python3.10/dist-packages/sklearn/utils/parallel.py\", line 63, in __call__\n",
            "    return super().__call__(iterable_with_config)\n",
            "  File \"/usr/local/lib/python3.10/dist-packages/joblib/parallel.py\", line 1952, in __call__\n",
            "    return output if self.return_generator else list(output)\n",
            "  File \"/usr/local/lib/python3.10/dist-packages/joblib/parallel.py\", line 1595, in _get_outputs\n",
            "    yield from self._retrieve()\n",
            "  File \"/usr/local/lib/python3.10/dist-packages/joblib/parallel.py\", line 1699, in _retrieve\n",
            "    self._raise_error_fast()\n",
            "  File \"/usr/local/lib/python3.10/dist-packages/joblib/parallel.py\", line 1734, in _raise_error_fast\n",
            "    error_job.get_result(self.timeout)\n",
            "  File \"/usr/local/lib/python3.10/dist-packages/joblib/parallel.py\", line 736, in get_result\n",
            "    return self._return_or_raise()\n",
            "  File \"/usr/local/lib/python3.10/dist-packages/joblib/parallel.py\", line 754, in _return_or_raise\n",
            "    raise self._result\n",
            "KeyboardInterrupt\n",
            "[W 2024-01-02 16:04:47,804] Trial 0 failed with value None.\n"
          ]
        },
        {
          "ename": "KeyboardInterrupt",
          "evalue": "ignored",
          "output_type": "error",
          "traceback": [
            "\u001b[0;31m---------------------------------------------------------------------------\u001b[0m",
            "\u001b[0;31mKeyboardInterrupt\u001b[0m                         Traceback (most recent call last)",
            "\u001b[0;32m/usr/local/lib/python3.10/dist-packages/optuna/study/_optimize.py\u001b[0m in \u001b[0;36m_optimize\u001b[0;34m(study, func, n_trials, timeout, n_jobs, catch, callbacks, gc_after_trial, show_progress_bar)\u001b[0m\n\u001b[1;32m     99\u001b[0m                     \u001b[0;32mif\u001b[0m \u001b[0mlen\u001b[0m\u001b[0;34m(\u001b[0m\u001b[0mfutures\u001b[0m\u001b[0;34m)\u001b[0m \u001b[0;34m>=\u001b[0m \u001b[0mn_jobs\u001b[0m\u001b[0;34m:\u001b[0m\u001b[0;34m\u001b[0m\u001b[0;34m\u001b[0m\u001b[0m\n\u001b[0;32m--> 100\u001b[0;31m                         \u001b[0mcompleted\u001b[0m\u001b[0;34m,\u001b[0m \u001b[0mfutures\u001b[0m \u001b[0;34m=\u001b[0m \u001b[0mwait\u001b[0m\u001b[0;34m(\u001b[0m\u001b[0mfutures\u001b[0m\u001b[0;34m,\u001b[0m \u001b[0mreturn_when\u001b[0m\u001b[0;34m=\u001b[0m\u001b[0mFIRST_COMPLETED\u001b[0m\u001b[0;34m)\u001b[0m\u001b[0;34m\u001b[0m\u001b[0;34m\u001b[0m\u001b[0m\n\u001b[0m\u001b[1;32m    101\u001b[0m                         \u001b[0;31m# Raise if exception occurred in executing the completed futures.\u001b[0m\u001b[0;34m\u001b[0m\u001b[0;34m\u001b[0m\u001b[0m\n",
            "\u001b[0;32m/usr/lib/python3.10/concurrent/futures/_base.py\u001b[0m in \u001b[0;36mwait\u001b[0;34m(fs, timeout, return_when)\u001b[0m\n\u001b[1;32m    306\u001b[0m \u001b[0;34m\u001b[0m\u001b[0m\n\u001b[0;32m--> 307\u001b[0;31m     \u001b[0mwaiter\u001b[0m\u001b[0;34m.\u001b[0m\u001b[0mevent\u001b[0m\u001b[0;34m.\u001b[0m\u001b[0mwait\u001b[0m\u001b[0;34m(\u001b[0m\u001b[0mtimeout\u001b[0m\u001b[0;34m)\u001b[0m\u001b[0;34m\u001b[0m\u001b[0;34m\u001b[0m\u001b[0m\n\u001b[0m\u001b[1;32m    308\u001b[0m     \u001b[0;32mfor\u001b[0m \u001b[0mf\u001b[0m \u001b[0;32min\u001b[0m \u001b[0mfs\u001b[0m\u001b[0;34m:\u001b[0m\u001b[0;34m\u001b[0m\u001b[0;34m\u001b[0m\u001b[0m\n",
            "\u001b[0;32m/usr/lib/python3.10/threading.py\u001b[0m in \u001b[0;36mwait\u001b[0;34m(self, timeout)\u001b[0m\n\u001b[1;32m    606\u001b[0m             \u001b[0;32mif\u001b[0m \u001b[0;32mnot\u001b[0m \u001b[0msignaled\u001b[0m\u001b[0;34m:\u001b[0m\u001b[0;34m\u001b[0m\u001b[0;34m\u001b[0m\u001b[0m\n\u001b[0;32m--> 607\u001b[0;31m                 \u001b[0msignaled\u001b[0m \u001b[0;34m=\u001b[0m \u001b[0mself\u001b[0m\u001b[0;34m.\u001b[0m\u001b[0m_cond\u001b[0m\u001b[0;34m.\u001b[0m\u001b[0mwait\u001b[0m\u001b[0;34m(\u001b[0m\u001b[0mtimeout\u001b[0m\u001b[0;34m)\u001b[0m\u001b[0;34m\u001b[0m\u001b[0;34m\u001b[0m\u001b[0m\n\u001b[0m\u001b[1;32m    608\u001b[0m             \u001b[0;32mreturn\u001b[0m \u001b[0msignaled\u001b[0m\u001b[0;34m\u001b[0m\u001b[0;34m\u001b[0m\u001b[0m\n",
            "\u001b[0;32m/usr/lib/python3.10/threading.py\u001b[0m in \u001b[0;36mwait\u001b[0;34m(self, timeout)\u001b[0m\n\u001b[1;32m    319\u001b[0m             \u001b[0;32mif\u001b[0m \u001b[0mtimeout\u001b[0m \u001b[0;32mis\u001b[0m \u001b[0;32mNone\u001b[0m\u001b[0;34m:\u001b[0m\u001b[0;34m\u001b[0m\u001b[0;34m\u001b[0m\u001b[0m\n\u001b[0;32m--> 320\u001b[0;31m                 \u001b[0mwaiter\u001b[0m\u001b[0;34m.\u001b[0m\u001b[0macquire\u001b[0m\u001b[0;34m(\u001b[0m\u001b[0;34m)\u001b[0m\u001b[0;34m\u001b[0m\u001b[0;34m\u001b[0m\u001b[0m\n\u001b[0m\u001b[1;32m    321\u001b[0m                 \u001b[0mgotit\u001b[0m \u001b[0;34m=\u001b[0m \u001b[0;32mTrue\u001b[0m\u001b[0;34m\u001b[0m\u001b[0;34m\u001b[0m\u001b[0m\n",
            "\u001b[0;31mKeyboardInterrupt\u001b[0m: ",
            "\nDuring handling of the above exception, another exception occurred:\n",
            "\u001b[0;31mKeyboardInterrupt\u001b[0m                         Traceback (most recent call last)",
            "\u001b[0;32m<ipython-input-57-bf6540f6a1a4>\u001b[0m in \u001b[0;36m<cell line: 5>\u001b[0;34m()\u001b[0m\n\u001b[1;32m      3\u001b[0m                             \u001b[0msampler\u001b[0m\u001b[0;34m=\u001b[0m\u001b[0msampler\u001b[0m\u001b[0;34m,\u001b[0m\u001b[0;34m\u001b[0m\u001b[0;34m\u001b[0m\u001b[0m\n\u001b[1;32m      4\u001b[0m                             study_name=\"Log_Reg_clf\")\n\u001b[0;32m----> 5\u001b[0;31m study.optimize(objective_log,\n\u001b[0m\u001b[1;32m      6\u001b[0m                \u001b[0mn_trials\u001b[0m\u001b[0;34m=\u001b[0m\u001b[0;36m10\u001b[0m\u001b[0;34m,\u001b[0m\u001b[0;34m\u001b[0m\u001b[0;34m\u001b[0m\u001b[0m\n\u001b[1;32m      7\u001b[0m                \u001b[0mn_jobs\u001b[0m\u001b[0;34m=\u001b[0m\u001b[0;34m-\u001b[0m\u001b[0;36m1\u001b[0m\u001b[0;34m,\u001b[0m\u001b[0;34m\u001b[0m\u001b[0;34m\u001b[0m\u001b[0m\n",
            "\u001b[0;32m/usr/local/lib/python3.10/dist-packages/optuna/study/study.py\u001b[0m in \u001b[0;36moptimize\u001b[0;34m(self, func, n_trials, timeout, n_jobs, catch, callbacks, gc_after_trial, show_progress_bar)\u001b[0m\n\u001b[1;32m    449\u001b[0m                 \u001b[0mIf\u001b[0m \u001b[0mnested\u001b[0m \u001b[0minvocation\u001b[0m \u001b[0mof\u001b[0m \u001b[0mthis\u001b[0m \u001b[0mmethod\u001b[0m \u001b[0moccurs\u001b[0m\u001b[0;34m.\u001b[0m\u001b[0;34m\u001b[0m\u001b[0;34m\u001b[0m\u001b[0m\n\u001b[1;32m    450\u001b[0m         \"\"\"\n\u001b[0;32m--> 451\u001b[0;31m         _optimize(\n\u001b[0m\u001b[1;32m    452\u001b[0m             \u001b[0mstudy\u001b[0m\u001b[0;34m=\u001b[0m\u001b[0mself\u001b[0m\u001b[0;34m,\u001b[0m\u001b[0;34m\u001b[0m\u001b[0;34m\u001b[0m\u001b[0m\n\u001b[1;32m    453\u001b[0m             \u001b[0mfunc\u001b[0m\u001b[0;34m=\u001b[0m\u001b[0mfunc\u001b[0m\u001b[0;34m,\u001b[0m\u001b[0;34m\u001b[0m\u001b[0;34m\u001b[0m\u001b[0m\n",
            "\u001b[0;32m/usr/local/lib/python3.10/dist-packages/optuna/study/_optimize.py\u001b[0m in \u001b[0;36m_optimize\u001b[0;34m(study, func, n_trials, timeout, n_jobs, catch, callbacks, gc_after_trial, show_progress_bar)\u001b[0m\n\u001b[1;32m     83\u001b[0m             \u001b[0mfutures\u001b[0m\u001b[0;34m:\u001b[0m \u001b[0mSet\u001b[0m\u001b[0;34m[\u001b[0m\u001b[0mFuture\u001b[0m\u001b[0;34m]\u001b[0m \u001b[0;34m=\u001b[0m \u001b[0mset\u001b[0m\u001b[0;34m(\u001b[0m\u001b[0;34m)\u001b[0m\u001b[0;34m\u001b[0m\u001b[0;34m\u001b[0m\u001b[0m\n\u001b[1;32m     84\u001b[0m \u001b[0;34m\u001b[0m\u001b[0m\n\u001b[0;32m---> 85\u001b[0;31m             \u001b[0;32mwith\u001b[0m \u001b[0mThreadPoolExecutor\u001b[0m\u001b[0;34m(\u001b[0m\u001b[0mmax_workers\u001b[0m\u001b[0;34m=\u001b[0m\u001b[0mn_jobs\u001b[0m\u001b[0;34m)\u001b[0m \u001b[0;32mas\u001b[0m \u001b[0mexecutor\u001b[0m\u001b[0;34m:\u001b[0m\u001b[0;34m\u001b[0m\u001b[0;34m\u001b[0m\u001b[0m\n\u001b[0m\u001b[1;32m     86\u001b[0m                 \u001b[0;32mfor\u001b[0m \u001b[0mn_submitted_trials\u001b[0m \u001b[0;32min\u001b[0m \u001b[0mitertools\u001b[0m\u001b[0;34m.\u001b[0m\u001b[0mcount\u001b[0m\u001b[0;34m(\u001b[0m\u001b[0;34m)\u001b[0m\u001b[0;34m:\u001b[0m\u001b[0;34m\u001b[0m\u001b[0;34m\u001b[0m\u001b[0m\n\u001b[1;32m     87\u001b[0m                     \u001b[0;32mif\u001b[0m \u001b[0mstudy\u001b[0m\u001b[0;34m.\u001b[0m\u001b[0m_stop_flag\u001b[0m\u001b[0;34m:\u001b[0m\u001b[0;34m\u001b[0m\u001b[0;34m\u001b[0m\u001b[0m\n",
            "\u001b[0;32m/usr/lib/python3.10/concurrent/futures/_base.py\u001b[0m in \u001b[0;36m__exit__\u001b[0;34m(self, exc_type, exc_val, exc_tb)\u001b[0m\n\u001b[1;32m    647\u001b[0m \u001b[0;34m\u001b[0m\u001b[0m\n\u001b[1;32m    648\u001b[0m     \u001b[0;32mdef\u001b[0m \u001b[0m__exit__\u001b[0m\u001b[0;34m(\u001b[0m\u001b[0mself\u001b[0m\u001b[0;34m,\u001b[0m \u001b[0mexc_type\u001b[0m\u001b[0;34m,\u001b[0m \u001b[0mexc_val\u001b[0m\u001b[0;34m,\u001b[0m \u001b[0mexc_tb\u001b[0m\u001b[0;34m)\u001b[0m\u001b[0;34m:\u001b[0m\u001b[0;34m\u001b[0m\u001b[0;34m\u001b[0m\u001b[0m\n\u001b[0;32m--> 649\u001b[0;31m         \u001b[0mself\u001b[0m\u001b[0;34m.\u001b[0m\u001b[0mshutdown\u001b[0m\u001b[0;34m(\u001b[0m\u001b[0mwait\u001b[0m\u001b[0;34m=\u001b[0m\u001b[0;32mTrue\u001b[0m\u001b[0;34m)\u001b[0m\u001b[0;34m\u001b[0m\u001b[0;34m\u001b[0m\u001b[0m\n\u001b[0m\u001b[1;32m    650\u001b[0m         \u001b[0;32mreturn\u001b[0m \u001b[0;32mFalse\u001b[0m\u001b[0;34m\u001b[0m\u001b[0;34m\u001b[0m\u001b[0m\n\u001b[1;32m    651\u001b[0m \u001b[0;34m\u001b[0m\u001b[0m\n",
            "\u001b[0;32m/usr/lib/python3.10/concurrent/futures/thread.py\u001b[0m in \u001b[0;36mshutdown\u001b[0;34m(self, wait, cancel_futures)\u001b[0m\n\u001b[1;32m    233\u001b[0m         \u001b[0;32mif\u001b[0m \u001b[0mwait\u001b[0m\u001b[0;34m:\u001b[0m\u001b[0;34m\u001b[0m\u001b[0;34m\u001b[0m\u001b[0m\n\u001b[1;32m    234\u001b[0m             \u001b[0;32mfor\u001b[0m \u001b[0mt\u001b[0m \u001b[0;32min\u001b[0m \u001b[0mself\u001b[0m\u001b[0;34m.\u001b[0m\u001b[0m_threads\u001b[0m\u001b[0;34m:\u001b[0m\u001b[0;34m\u001b[0m\u001b[0;34m\u001b[0m\u001b[0m\n\u001b[0;32m--> 235\u001b[0;31m                 \u001b[0mt\u001b[0m\u001b[0;34m.\u001b[0m\u001b[0mjoin\u001b[0m\u001b[0;34m(\u001b[0m\u001b[0;34m)\u001b[0m\u001b[0;34m\u001b[0m\u001b[0;34m\u001b[0m\u001b[0m\n\u001b[0m\u001b[1;32m    236\u001b[0m     \u001b[0mshutdown\u001b[0m\u001b[0;34m.\u001b[0m\u001b[0m__doc__\u001b[0m \u001b[0;34m=\u001b[0m \u001b[0m_base\u001b[0m\u001b[0;34m.\u001b[0m\u001b[0mExecutor\u001b[0m\u001b[0;34m.\u001b[0m\u001b[0mshutdown\u001b[0m\u001b[0;34m.\u001b[0m\u001b[0m__doc__\u001b[0m\u001b[0;34m\u001b[0m\u001b[0;34m\u001b[0m\u001b[0m\n",
            "\u001b[0;32m/usr/lib/python3.10/threading.py\u001b[0m in \u001b[0;36mjoin\u001b[0;34m(self, timeout)\u001b[0m\n\u001b[1;32m   1094\u001b[0m \u001b[0;34m\u001b[0m\u001b[0m\n\u001b[1;32m   1095\u001b[0m         \u001b[0;32mif\u001b[0m \u001b[0mtimeout\u001b[0m \u001b[0;32mis\u001b[0m \u001b[0;32mNone\u001b[0m\u001b[0;34m:\u001b[0m\u001b[0;34m\u001b[0m\u001b[0;34m\u001b[0m\u001b[0m\n\u001b[0;32m-> 1096\u001b[0;31m             \u001b[0mself\u001b[0m\u001b[0;34m.\u001b[0m\u001b[0m_wait_for_tstate_lock\u001b[0m\u001b[0;34m(\u001b[0m\u001b[0;34m)\u001b[0m\u001b[0;34m\u001b[0m\u001b[0;34m\u001b[0m\u001b[0m\n\u001b[0m\u001b[1;32m   1097\u001b[0m         \u001b[0;32melse\u001b[0m\u001b[0;34m:\u001b[0m\u001b[0;34m\u001b[0m\u001b[0;34m\u001b[0m\u001b[0m\n\u001b[1;32m   1098\u001b[0m             \u001b[0;31m# the behavior of a negative timeout isn't documented, but\u001b[0m\u001b[0;34m\u001b[0m\u001b[0;34m\u001b[0m\u001b[0m\n",
            "\u001b[0;32m/usr/lib/python3.10/threading.py\u001b[0m in \u001b[0;36m_wait_for_tstate_lock\u001b[0;34m(self, block, timeout)\u001b[0m\n\u001b[1;32m   1114\u001b[0m \u001b[0;34m\u001b[0m\u001b[0m\n\u001b[1;32m   1115\u001b[0m         \u001b[0;32mtry\u001b[0m\u001b[0;34m:\u001b[0m\u001b[0;34m\u001b[0m\u001b[0;34m\u001b[0m\u001b[0m\n\u001b[0;32m-> 1116\u001b[0;31m             \u001b[0;32mif\u001b[0m \u001b[0mlock\u001b[0m\u001b[0;34m.\u001b[0m\u001b[0macquire\u001b[0m\u001b[0;34m(\u001b[0m\u001b[0mblock\u001b[0m\u001b[0;34m,\u001b[0m \u001b[0mtimeout\u001b[0m\u001b[0;34m)\u001b[0m\u001b[0;34m:\u001b[0m\u001b[0;34m\u001b[0m\u001b[0;34m\u001b[0m\u001b[0m\n\u001b[0m\u001b[1;32m   1117\u001b[0m                 \u001b[0mlock\u001b[0m\u001b[0;34m.\u001b[0m\u001b[0mrelease\u001b[0m\u001b[0;34m(\u001b[0m\u001b[0;34m)\u001b[0m\u001b[0;34m\u001b[0m\u001b[0;34m\u001b[0m\u001b[0m\n\u001b[1;32m   1118\u001b[0m                 \u001b[0mself\u001b[0m\u001b[0;34m.\u001b[0m\u001b[0m_stop\u001b[0m\u001b[0;34m(\u001b[0m\u001b[0;34m)\u001b[0m\u001b[0;34m\u001b[0m\u001b[0;34m\u001b[0m\u001b[0m\n",
            "\u001b[0;31mKeyboardInterrupt\u001b[0m: "
          ]
        }
      ],
      "source": [
        "study = optuna.create_study(direction=\"maximize\",\n",
        "                            pruner=optuna.pruners.MedianPruner(n_warmup_steps=5),\n",
        "                            sampler=sampler,\n",
        "                            study_name=\"Log_Reg_clf\")\n",
        "study.optimize(objective_log,\n",
        "               n_trials=10,\n",
        "               n_jobs=-1,\n",
        "               show_progress_bar=True)"
      ]
    },
    {
      "cell_type": "markdown",
      "metadata": {
        "id": "S_U4WqpLwIsX"
      },
      "source": [
        "## SVM"
      ]
    },
    {
      "cell_type": "markdown",
      "metadata": {
        "id": "N1mYiXemXrWM"
      },
      "source": [
        "### W2V"
      ]
    },
    {
      "cell_type": "code",
      "execution_count": null,
      "metadata": {
        "colab": {
          "base_uri": "https://localhost:8080/"
        },
        "id": "Xp3WtMbRwKX-",
        "outputId": "a222619a-aefd-466e-bf3b-2e2c34114de3"
      },
      "outputs": [
        {
          "output_type": "stream",
          "name": "stdout",
          "text": [
            "              precision    recall  f1-score   support\n",
            "\n",
            "           0       0.87      0.89      0.88      3374\n",
            "           1       0.83      0.87      0.85       924\n",
            "           2       0.86      0.81      0.84       568\n",
            "           3       0.86      0.86      0.86       938\n",
            "           4       0.97      0.98      0.97       835\n",
            "           5       0.76      0.35      0.48        46\n",
            "           6       0.96      0.92      0.94       193\n",
            "           7       0.90      0.86      0.88       412\n",
            "           8       0.90      0.82      0.86       540\n",
            "\n",
            "    accuracy                           0.88      7830\n",
            "   macro avg       0.88      0.82      0.84      7830\n",
            "weighted avg       0.88      0.88      0.88      7830\n",
            "\n",
            "CPU times: user 4min 4s, sys: 1.31 s, total: 4min 5s\n",
            "Wall time: 4min 8s\n"
          ]
        }
      ],
      "source": [
        "#pipeline version\n",
        "%%time\n",
        "pipe_svc = Pipeline([('col_selector', CustomSelectColumns(['content_clean'], clean=True)),\n",
        "                     ('w2v_tfidf', TfidfEmbeddingVectorizer(model_w2v)),\n",
        "                     ('scaler', StandardScaler()),\n",
        "                     ('clf', SVC(random_state=RND_STATE,\n",
        "                             max_iter=10000,\n",
        "                            #  class_weight='balanced'\n",
        "                             ))])\n",
        "\n",
        "pipe_svc.fit(X_train, y_train)\n",
        "\n",
        "print(classification_report(y_val, pipe_svc.predict(X_val)))"
      ]
    },
    {
      "cell_type": "markdown",
      "metadata": {
        "id": "yfD9of4TXhAr"
      },
      "source": [
        "### Optuna для svm"
      ]
    },
    {
      "cell_type": "code",
      "execution_count": null,
      "metadata": {
        "id": "RH76TtMhXiGt"
      },
      "outputs": [],
      "source": [
        "def fit_svm(trial, train, val):\n",
        "    X_train, y_train = train\n",
        "    X_val, y_val = val\n",
        "\n",
        "    param = {\"C\": trial.suggest_float(\"C\", 1, 1.5, step=0.5),\n",
        "             \"kernel\": trial.suggest_categorical(\"kernel\",\n",
        "                                                 [#\"linear\",\n",
        "                                                  \"poly\",\n",
        "                                                  #\"rbf\",\n",
        "                                                  #'sigmoid'\n",
        "                                                  ]),\n",
        "             \"random_state\": RND_STATE,\n",
        "             \"degree\": trial.suggest_int(\"degree\", 3, 4, step=1),\n",
        "             \"max_iter\": trial.suggest_int(\"max_iter\", 5000, 6000, step=1000),\n",
        "             'decision_function_shape': trial.suggest_categorical(\"decision_function_shape\",\n",
        "                                                      ['ovo',\n",
        "                                                      #  'ovr'\n",
        "                                                       ]),\n",
        "             'verbose': 0\n",
        "    }\n",
        "\n",
        "    clf = SVC(**param)\n",
        "\n",
        "    pipe = Pipeline([('w2v', TfidfEmbeddingVectorizer(model_w2v)),\n",
        "                    ('scaler', StandardScaler()),\n",
        "                    ('clf', clf)])\n",
        "\n",
        "    pipe.fit(X_train, y_train)\n",
        "\n",
        "    y_pred = pipe.predict(X_val)\n",
        "    return pipe, y_pred"
      ]
    },
    {
      "cell_type": "code",
      "execution_count": null,
      "metadata": {
        "id": "Y6gQZgwTXzbM"
      },
      "outputs": [],
      "source": [
        "def objective_svm(trial, return_models=False):\n",
        "    n_splits = 3\n",
        "    kf = KFold(n_splits=n_splits, shuffle=True, random_state=RND_STATE)\n",
        "\n",
        "    scores_simple_acc, scores_balanced_acc, models = [], [], []\n",
        "\n",
        "    for train_idx, valid_idx in kf.split(X_train.index):\n",
        "        train_data = X_train.iloc[train_idx], y_train.iloc[train_idx]\n",
        "        valid_data = X_train.iloc[valid_idx], y_train.iloc[valid_idx]\n",
        "\n",
        "        # Подаем trials для перебора\n",
        "        model, y_pred = fit_svm(trial, train_data, valid_data)\n",
        "\n",
        "        # scores_simple_acc.append(accuracy_score(y_pred, valid_data[1]))\n",
        "        scores_balanced_acc.append(balanced_accuracy_score(y_pred, valid_data[1]))\n",
        "        models.append(model)\n",
        "        break\n",
        "\n",
        "    result = np.mean(scores_balanced_acc)\n",
        "\n",
        "    if return_models:\n",
        "        return result, models\n",
        "    else:\n",
        "        return result"
      ]
    },
    {
      "cell_type": "code",
      "execution_count": null,
      "metadata": {
        "id": "PgxlaN_gX2k6"
      },
      "outputs": [],
      "source": [
        "study = optuna.create_study(direction=\"maximize\",\n",
        "                            pruner=optuna.pruners.MedianPruner(n_warmup_steps=5),\n",
        "                            sampler=sampler,\n",
        "                            study_name=\"SVM_clf\")\n",
        "study.optimize(objective_svm,\n",
        "               n_trials=4,\n",
        "               n_jobs=-1,\n",
        "               show_progress_bar=True)"
      ]
    },
    {
      "cell_type": "code",
      "execution_count": null,
      "metadata": {
        "id": "Jaws-U5dX5N8"
      },
      "outputs": [],
      "source": [
        "print(\"Number of finished trials: {}\".format(len(study.trials)))\n",
        "print(\"Best trial:\")\n",
        "trial = study.best_trial\n",
        "print(\"  Value: {}\".format(trial.value))\n",
        "print(\"  Params: \")\n",
        "\n",
        "for key, value in trial.params.items():\n",
        "    print(\"    {}: {}\".format(key, value))"
      ]
    },
    {
      "cell_type": "code",
      "execution_count": null,
      "metadata": {
        "id": "KqJaIamzX-A_"
      },
      "outputs": [],
      "source": [
        "# # История изменения от числа испытаний\n",
        "# optuna.visualization.plot_optimization_history(study)"
      ]
    },
    {
      "cell_type": "markdown",
      "source": [
        "## XGboost"
      ],
      "metadata": {
        "id": "EmppubqYTFho"
      }
    },
    {
      "cell_type": "code",
      "source": [
        "%%time\n",
        "XGboost_pipe = Pipeline([('col_selector', CustomSelectColumns(['content_clean'], clean=True)),\n",
        "                     ('w2v_tfidf', TfidfEmbeddingVectorizer(model_w2v)),\n",
        "                    #  ('scaler', StandardScaler()),\n",
        "                     ('clf', XGBClassifier(random_state=RND_STATE,\n",
        "                            #  max_iter=10000,\n",
        "                            #  class_weight='balanced'\n",
        "                             ))])\n",
        "\n",
        "XGboost_pipe.fit(X_train, y_train,\n",
        "                #  clf__eval_set=(X_val, y_val)\n",
        "                 )\n",
        "\n",
        "print(classification_report(y_val, XGboost_pipe.predict(X_val)))"
      ],
      "metadata": {
        "colab": {
          "base_uri": "https://localhost:8080/"
        },
        "id": "GlNWhENSTIkO",
        "outputId": "86efc0d7-8b52-4557-e932-a844589927f9"
      },
      "execution_count": null,
      "outputs": [
        {
          "output_type": "stream",
          "name": "stdout",
          "text": [
            "              precision    recall  f1-score   support\n",
            "\n",
            "           0       0.85      0.89      0.87      3374\n",
            "           1       0.82      0.85      0.84       924\n",
            "           2       0.85      0.77      0.81       568\n",
            "           3       0.84      0.84      0.84       938\n",
            "           4       0.97      0.96      0.97       835\n",
            "           5       0.83      0.33      0.47        46\n",
            "           6       0.96      0.90      0.93       193\n",
            "           7       0.91      0.83      0.87       412\n",
            "           8       0.90      0.81      0.85       540\n",
            "\n",
            "    accuracy                           0.86      7830\n",
            "   macro avg       0.88      0.80      0.83      7830\n",
            "weighted avg       0.87      0.86      0.86      7830\n",
            "\n",
            "CPU times: user 6min 6s, sys: 921 ms, total: 6min 7s\n",
            "Wall time: 5min 24s\n"
          ]
        }
      ]
    },
    {
      "cell_type": "code",
      "source": [
        "# precision    recall  f1-score   support\n",
        "\n",
        "#            0       0.85      0.89      0.87      3374\n",
        "#            1       0.82      0.85      0.84       924\n",
        "#            2       0.85      0.77      0.81       568\n",
        "#            3       0.84      0.84      0.84       938\n",
        "#            4       0.97      0.96      0.97       835\n",
        "#            5       0.83      0.33      0.47        46\n",
        "#            6       0.96      0.90      0.93       193\n",
        "#            7       0.91      0.83      0.87       412\n",
        "#            8       0.90      0.81      0.85       540\n",
        "\n",
        "#     accuracy                           0.86      7830\n",
        "#    macro avg       0.88      0.80      0.83      7830\n",
        "# weighted avg       0.87      0.86      0.86      7830\n",
        "\n",
        "# CPU times: user 5min 25s, sys: 1.74 s, total: 5min 26s\n",
        "# Wall time: 3min 55s"
      ],
      "metadata": {
        "id": "pPgMgoNgTWWM"
      },
      "execution_count": null,
      "outputs": []
    },
    {
      "cell_type": "markdown",
      "source": [
        "### Optuna для XGboost"
      ],
      "metadata": {
        "id": "oDRPmesNTapB"
      }
    },
    {
      "cell_type": "code",
      "source": [
        "def fit_xgboost(trial, train, val):\n",
        "    X_train, y_train = train\n",
        "    X_val, y_val = val\n",
        "\n",
        "    param = {\n",
        "        'iterations' : 500,\n",
        "        'objective': 'multi:softmax',\n",
        "        \"booster\": trial.suggest_categorical(\"booster\", [\"gbtree\",\n",
        "                                                         \"gblinear\",\n",
        "                                                         \"dart\"\n",
        "                                                             ]),\n",
        "        # 'max_leaves': trial.suggest_int('max_leaves', 6, 12),\n",
        "        'max_depth': trial.suggest_int('max_depth', 6, 12),\n",
        "        'lambda': trial.suggest_int(\"lambda\", 2, 15),\n",
        "        'max_bin': trial.suggest_int('max_bin', 220, 350, step=10),\n",
        "        'alpha': trial.suggest_int('alpha', 2, 15),\n",
        "        'colsample_bytree': trial.suggest_float(\"colsample_bytree\", 0.6, 0.9, step=0.01),\n",
        "        'subsample': trial.suggest_float(\"subsample\", 0.8, 0.95, step=0.01),\n",
        "        'min_child_weight': trial.suggest_float(\"min_child_weight\", 8, 12, step=0.01),\n",
        "        # \"eta\": trial.suggest_float(\"eta\", 0.01, 0.04, step=0.001),\n",
        "        # \"used_ram_limit\": \"10gb\",\n",
        "        \"eval_metric\": \"merror\"\n",
        "    }\n",
        "\n",
        "    if param[\"booster\"] == \"gbtree\" or param[\"booster\"] == \"dart\":\n",
        "            param[\"max_depth\"] = trial.suggest_int(\"max_depth\", 1, 9)\n",
        "            param[\"eta\"] = trial.suggest_float(\"eta\", 1e-8, 1.0, log=True)\n",
        "            param[\"gamma\"] = trial.suggest_float(\"gamma\", 1e-8, 1.0, log=True)\n",
        "            param[\"grow_policy\"] = trial.suggest_categorical(\"grow_policy\", [\"depthwise\", \"lossguide\"])\n",
        "            param[\"tree_method\"]: trial.suggest_categorical(\"tree_method\", ['hist', 'approx'],)\n",
        "    if param[\"booster\"] == \"dart\":\n",
        "            param[\"sample_type\"] = trial.suggest_categorical(\"sample_type\", [\"uniform\", \"weighted\"])\n",
        "            param[\"normalize_type\"] = trial.suggest_categorical(\"normalize_type\", [\"tree\", \"forest\"])\n",
        "            param[\"rate_drop\"] = trial.suggest_float(\"rate_drop\", 1e-8, 1.0, log=True)\n",
        "            param[\"skip_drop\"] = trial.suggest_float(\"skip_drop\", 1e-8, 1.0, log=True)\n",
        "\n",
        "    clf = Pipeline([('col_selector', CustomSelectColumns(['content_clean'], clean=True)),\n",
        "                     ('w2v_tfidf', TfidfEmbeddingVectorizer(model_w2v)),\n",
        "                     ('scaler', StandardScaler()),\n",
        "                     ('clf', XGBClassifier(**param,\n",
        "                                           random_state=RND_STATE,\n",
        "                                           n_jobs=-1\n",
        "                                           ))])\n",
        "    #  Создаем объект callback\n",
        "    pruning_callback = XGBoostPruningCallback(trial, 'validation_0-merror')\n",
        "\n",
        "    clf.fit(X_train, y_train,\n",
        "                    #  clf__eval_set=(X_val, y_val),\n",
        "                     )\n",
        "\n",
        "    clf.fit(\n",
        "        X_train,\n",
        "        y_train,\n",
        "        # clf__eval_set=(X_val, y_val),\n",
        "        clf__verbose=0,\n",
        "        # clf__early_stopping_rounds=5,\n",
        "        clf__callbacks=[pruning_callback],\n",
        "    )\n",
        "\n",
        "    y_pred = clf.predict(X_val)\n",
        "    return clf, y_pred"
      ],
      "metadata": {
        "id": "WSaj23BQTd-C"
      },
      "execution_count": null,
      "outputs": []
    },
    {
      "cell_type": "code",
      "source": [
        "def objective_xgboost(trial, return_models=False):\n",
        "    n_splits = 3\n",
        "    kf = KFold(n_splits=n_splits, shuffle=True, random_state=RND_STATE)\n",
        "\n",
        "    scores_simple_acc, scores_balanced_acc, models = [], [], []\n",
        "\n",
        "    for train_idx, valid_idx in kf.split(X_train.index):\n",
        "        train_data = X_train.iloc[train_idx], y_train.iloc[train_idx]\n",
        "        valid_data = X_train.iloc[valid_idx], y_train.iloc[valid_idx]\n",
        "\n",
        "        # Подаем trials для перебора\n",
        "        model, y_pred = fit_xgboost(trial, train_data, valid_data)\n",
        "\n",
        "        scores_simple_acc.append(accuracy_score(y_pred, valid_data[1]))\n",
        "        # scores_balanced_acc.append(balanced_accuracy_score(y_pred, valid_data[1]))\n",
        "        models.append(model)\n",
        "        break\n",
        "\n",
        "    result = np.mean(scores_simple_acc)\n",
        "\n",
        "    if return_models:\n",
        "        return result, models\n",
        "    else:\n",
        "        return result"
      ],
      "metadata": {
        "id": "66dUso84YXre"
      },
      "execution_count": null,
      "outputs": []
    },
    {
      "cell_type": "code",
      "source": [
        "study = optuna.create_study(direction=\"maximize\",\n",
        "                            pruner=optuna.pruners.MedianPruner(n_warmup_steps=5),\n",
        "                            sampler=sampler,\n",
        "                            study_name=\"XGboost_clf\")\n",
        "study.optimize(objective_xgboost,\n",
        "               n_trials=4,\n",
        "               n_jobs=-1,\n",
        "               show_progress_bar=True)"
      ],
      "metadata": {
        "colab": {
          "base_uri": "https://localhost:8080/",
          "height": 981,
          "referenced_widgets": [
            "9235986b459b4799b3ef51662f12d743",
            "35ac86932e774bb5a17ef9cc69c63746",
            "7147712798794e848efac93c486c3935",
            "9fc578e3fd4343d4b5a7de05c08aad83",
            "6f7e084dc57f47aca1cb2b256b4a6ee3",
            "e0b34ec0fddf4924b3318867ea410e40",
            "fbdc5151d4c6403ea11b9fb095ca8b8b",
            "768ccc5e17b84607a3d462e2c1c452d9",
            "5a142b91016145d38635e82cd57a3c8e",
            "55b3eed0afed40b8af23f08a706abbef",
            "4970b6c9620b4681b49e7e90a0cc1ad6"
          ]
        },
        "id": "y2TZQaJMZojM",
        "outputId": "535af865-708d-4f9e-e9f6-c2f2b5aa1fb2"
      },
      "execution_count": null,
      "outputs": [
        {
          "output_type": "stream",
          "name": "stderr",
          "text": [
            "[I 2024-01-03 15:46:54,402] A new study created in memory with name: XGboost_clf\n"
          ]
        },
        {
          "output_type": "display_data",
          "data": {
            "text/plain": [
              "  0%|          | 0/4 [00:00<?, ?it/s]"
            ],
            "application/vnd.jupyter.widget-view+json": {
              "version_major": 2,
              "version_minor": 0,
              "model_id": "9235986b459b4799b3ef51662f12d743"
            }
          },
          "metadata": {}
        },
        {
          "output_type": "stream",
          "name": "stdout",
          "text": [
            "[W 2024-01-03 16:13:29,767] Trial 1 failed with parameters: {'booster': 'gbtree', 'max_depth': 7, 'lambda': 12, 'max_bin': 270, 'alpha': 9, 'colsample_bytree': 0.6599999999999999, 'subsample': 0.8500000000000001, 'min_child_weight': 9.41, 'eta': 0.21027432186871034, 'gamma': 0.0064328524600991985, 'grow_policy': 'depthwise'} because of the following error: KeyError('validation_0-merror').\n",
            "Traceback (most recent call last):\n",
            "  File \"/usr/local/lib/python3.10/dist-packages/optuna/study/_optimize.py\", line 200, in _run_trial\n",
            "    value_or_values = func(trial)\n",
            "  File \"<ipython-input-59-b55717a19704>\", line 12, in objective_xgboost\n",
            "    model, y_pred = fit_xgboost(trial, train_data, valid_data)\n",
            "  File \"<ipython-input-61-0717393b612c>\", line 51, in fit_xgboost\n",
            "    clf.fit(\n",
            "  File \"/usr/local/lib/python3.10/dist-packages/sklearn/pipeline.py\", line 405, in fit\n",
            "    self._final_estimator.fit(Xt, y, **fit_params_last_step)\n",
            "  File \"/usr/local/lib/python3.10/dist-packages/xgboost/core.py\", line 730, in inner_f\n",
            "    return func(**kwargs)\n",
            "  File \"/usr/local/lib/python3.10/dist-packages/xgboost/sklearn.py\", line 1519, in fit\n",
            "    self._Booster = train(\n",
            "  File \"/usr/local/lib/python3.10/dist-packages/xgboost/core.py\", line 730, in inner_f\n",
            "    return func(**kwargs)\n",
            "  File \"/usr/local/lib/python3.10/dist-packages/xgboost/training.py\", line 182, in train\n",
            "    if cb_container.after_iteration(bst, i, dtrain, evals):\n",
            "  File \"/usr/local/lib/python3.10/dist-packages/xgboost/callback.py\", line 241, in after_iteration\n",
            "    ret = any(c.after_iteration(model, epoch, self.history) for c in self.callbacks)\n",
            "  File \"/usr/local/lib/python3.10/dist-packages/xgboost/callback.py\", line 241, in <genexpr>\n",
            "    ret = any(c.after_iteration(model, epoch, self.history) for c in self.callbacks)\n",
            "  File \"/usr/local/lib/python3.10/dist-packages/optuna/integration/xgboost.py\", line 71, in after_iteration\n",
            "    current_score = evaluation_results[self._observation_key]\n",
            "KeyError: 'validation_0-merror'\n",
            "[W 2024-01-03 16:13:29,811] Trial 1 failed with value None.\n"
          ]
        },
        {
          "output_type": "error",
          "ename": "KeyboardInterrupt",
          "evalue": "ignored",
          "traceback": [
            "\u001b[0;31m---------------------------------------------------------------------------\u001b[0m",
            "\u001b[0;31mKeyError\u001b[0m                                  Traceback (most recent call last)",
            "\u001b[0;32m/usr/local/lib/python3.10/dist-packages/optuna/study/_optimize.py\u001b[0m in \u001b[0;36m_optimize\u001b[0;34m(study, func, n_trials, timeout, n_jobs, catch, callbacks, gc_after_trial, show_progress_bar)\u001b[0m\n\u001b[1;32m    102\u001b[0m                         \u001b[0;32mfor\u001b[0m \u001b[0mf\u001b[0m \u001b[0;32min\u001b[0m \u001b[0mcompleted\u001b[0m\u001b[0;34m:\u001b[0m\u001b[0;34m\u001b[0m\u001b[0;34m\u001b[0m\u001b[0m\n\u001b[0;32m--> 103\u001b[0;31m                             \u001b[0mf\u001b[0m\u001b[0;34m.\u001b[0m\u001b[0mresult\u001b[0m\u001b[0;34m(\u001b[0m\u001b[0;34m)\u001b[0m\u001b[0;34m\u001b[0m\u001b[0;34m\u001b[0m\u001b[0m\n\u001b[0m\u001b[1;32m    104\u001b[0m \u001b[0;34m\u001b[0m\u001b[0m\n",
            "\u001b[0;32m/usr/lib/python3.10/concurrent/futures/_base.py\u001b[0m in \u001b[0;36mresult\u001b[0;34m(self, timeout)\u001b[0m\n\u001b[1;32m    450\u001b[0m                 \u001b[0;32melif\u001b[0m \u001b[0mself\u001b[0m\u001b[0;34m.\u001b[0m\u001b[0m_state\u001b[0m \u001b[0;34m==\u001b[0m \u001b[0mFINISHED\u001b[0m\u001b[0;34m:\u001b[0m\u001b[0;34m\u001b[0m\u001b[0;34m\u001b[0m\u001b[0m\n\u001b[0;32m--> 451\u001b[0;31m                     \u001b[0;32mreturn\u001b[0m \u001b[0mself\u001b[0m\u001b[0;34m.\u001b[0m\u001b[0m__get_result\u001b[0m\u001b[0;34m(\u001b[0m\u001b[0;34m)\u001b[0m\u001b[0;34m\u001b[0m\u001b[0;34m\u001b[0m\u001b[0m\n\u001b[0m\u001b[1;32m    452\u001b[0m \u001b[0;34m\u001b[0m\u001b[0m\n",
            "\u001b[0;32m/usr/lib/python3.10/concurrent/futures/_base.py\u001b[0m in \u001b[0;36m__get_result\u001b[0;34m(self)\u001b[0m\n\u001b[1;32m    402\u001b[0m             \u001b[0;32mtry\u001b[0m\u001b[0;34m:\u001b[0m\u001b[0;34m\u001b[0m\u001b[0;34m\u001b[0m\u001b[0m\n\u001b[0;32m--> 403\u001b[0;31m                 \u001b[0;32mraise\u001b[0m \u001b[0mself\u001b[0m\u001b[0;34m.\u001b[0m\u001b[0m_exception\u001b[0m\u001b[0;34m\u001b[0m\u001b[0;34m\u001b[0m\u001b[0m\n\u001b[0m\u001b[1;32m    404\u001b[0m             \u001b[0;32mfinally\u001b[0m\u001b[0;34m:\u001b[0m\u001b[0;34m\u001b[0m\u001b[0;34m\u001b[0m\u001b[0m\n",
            "\u001b[0;32m/usr/lib/python3.10/concurrent/futures/thread.py\u001b[0m in \u001b[0;36mrun\u001b[0;34m(self)\u001b[0m\n\u001b[1;32m     57\u001b[0m         \u001b[0;32mtry\u001b[0m\u001b[0;34m:\u001b[0m\u001b[0;34m\u001b[0m\u001b[0;34m\u001b[0m\u001b[0m\n\u001b[0;32m---> 58\u001b[0;31m             \u001b[0mresult\u001b[0m \u001b[0;34m=\u001b[0m \u001b[0mself\u001b[0m\u001b[0;34m.\u001b[0m\u001b[0mfn\u001b[0m\u001b[0;34m(\u001b[0m\u001b[0;34m*\u001b[0m\u001b[0mself\u001b[0m\u001b[0;34m.\u001b[0m\u001b[0margs\u001b[0m\u001b[0;34m,\u001b[0m \u001b[0;34m**\u001b[0m\u001b[0mself\u001b[0m\u001b[0;34m.\u001b[0m\u001b[0mkwargs\u001b[0m\u001b[0;34m)\u001b[0m\u001b[0;34m\u001b[0m\u001b[0;34m\u001b[0m\u001b[0m\n\u001b[0m\u001b[1;32m     59\u001b[0m         \u001b[0;32mexcept\u001b[0m \u001b[0mBaseException\u001b[0m \u001b[0;32mas\u001b[0m \u001b[0mexc\u001b[0m\u001b[0;34m:\u001b[0m\u001b[0;34m\u001b[0m\u001b[0;34m\u001b[0m\u001b[0m\n",
            "\u001b[0;32m/usr/local/lib/python3.10/dist-packages/optuna/study/_optimize.py\u001b[0m in \u001b[0;36m_optimize_sequential\u001b[0;34m(study, func, n_trials, timeout, catch, callbacks, gc_after_trial, reseed_sampler_rng, time_start, progress_bar)\u001b[0m\n\u001b[1;32m    162\u001b[0m         \u001b[0;32mtry\u001b[0m\u001b[0;34m:\u001b[0m\u001b[0;34m\u001b[0m\u001b[0;34m\u001b[0m\u001b[0m\n\u001b[0;32m--> 163\u001b[0;31m             \u001b[0mfrozen_trial\u001b[0m \u001b[0;34m=\u001b[0m \u001b[0m_run_trial\u001b[0m\u001b[0;34m(\u001b[0m\u001b[0mstudy\u001b[0m\u001b[0;34m,\u001b[0m \u001b[0mfunc\u001b[0m\u001b[0;34m,\u001b[0m \u001b[0mcatch\u001b[0m\u001b[0;34m)\u001b[0m\u001b[0;34m\u001b[0m\u001b[0;34m\u001b[0m\u001b[0m\n\u001b[0m\u001b[1;32m    164\u001b[0m         \u001b[0;32mfinally\u001b[0m\u001b[0;34m:\u001b[0m\u001b[0;34m\u001b[0m\u001b[0;34m\u001b[0m\u001b[0m\n",
            "\u001b[0;32m/usr/local/lib/python3.10/dist-packages/optuna/study/_optimize.py\u001b[0m in \u001b[0;36m_run_trial\u001b[0;34m(study, func, catch)\u001b[0m\n\u001b[1;32m    250\u001b[0m     ):\n\u001b[0;32m--> 251\u001b[0;31m         \u001b[0;32mraise\u001b[0m \u001b[0mfunc_err\u001b[0m\u001b[0;34m\u001b[0m\u001b[0;34m\u001b[0m\u001b[0m\n\u001b[0m\u001b[1;32m    252\u001b[0m     \u001b[0;32mreturn\u001b[0m \u001b[0mfrozen_trial\u001b[0m\u001b[0;34m\u001b[0m\u001b[0;34m\u001b[0m\u001b[0m\n",
            "\u001b[0;32m/usr/local/lib/python3.10/dist-packages/optuna/study/_optimize.py\u001b[0m in \u001b[0;36m_run_trial\u001b[0;34m(study, func, catch)\u001b[0m\n\u001b[1;32m    199\u001b[0m         \u001b[0;32mtry\u001b[0m\u001b[0;34m:\u001b[0m\u001b[0;34m\u001b[0m\u001b[0;34m\u001b[0m\u001b[0m\n\u001b[0;32m--> 200\u001b[0;31m             \u001b[0mvalue_or_values\u001b[0m \u001b[0;34m=\u001b[0m \u001b[0mfunc\u001b[0m\u001b[0;34m(\u001b[0m\u001b[0mtrial\u001b[0m\u001b[0;34m)\u001b[0m\u001b[0;34m\u001b[0m\u001b[0;34m\u001b[0m\u001b[0m\n\u001b[0m\u001b[1;32m    201\u001b[0m         \u001b[0;32mexcept\u001b[0m \u001b[0mexceptions\u001b[0m\u001b[0;34m.\u001b[0m\u001b[0mTrialPruned\u001b[0m \u001b[0;32mas\u001b[0m \u001b[0me\u001b[0m\u001b[0;34m:\u001b[0m\u001b[0;34m\u001b[0m\u001b[0;34m\u001b[0m\u001b[0m\n",
            "\u001b[0;32m<ipython-input-59-b55717a19704>\u001b[0m in \u001b[0;36mobjective_xgboost\u001b[0;34m(trial, return_models)\u001b[0m\n\u001b[1;32m     11\u001b[0m         \u001b[0;31m# Подаем trials для перебора\u001b[0m\u001b[0;34m\u001b[0m\u001b[0;34m\u001b[0m\u001b[0m\n\u001b[0;32m---> 12\u001b[0;31m         \u001b[0mmodel\u001b[0m\u001b[0;34m,\u001b[0m \u001b[0my_pred\u001b[0m \u001b[0;34m=\u001b[0m \u001b[0mfit_xgboost\u001b[0m\u001b[0;34m(\u001b[0m\u001b[0mtrial\u001b[0m\u001b[0;34m,\u001b[0m \u001b[0mtrain_data\u001b[0m\u001b[0;34m,\u001b[0m \u001b[0mvalid_data\u001b[0m\u001b[0;34m)\u001b[0m\u001b[0;34m\u001b[0m\u001b[0;34m\u001b[0m\u001b[0m\n\u001b[0m\u001b[1;32m     13\u001b[0m \u001b[0;34m\u001b[0m\u001b[0m\n",
            "\u001b[0;32m<ipython-input-61-0717393b612c>\u001b[0m in \u001b[0;36mfit_xgboost\u001b[0;34m(trial, train, val)\u001b[0m\n\u001b[1;32m     50\u001b[0m \u001b[0;34m\u001b[0m\u001b[0m\n\u001b[0;32m---> 51\u001b[0;31m     clf.fit(\n\u001b[0m\u001b[1;32m     52\u001b[0m         \u001b[0mX_train\u001b[0m\u001b[0;34m,\u001b[0m\u001b[0;34m\u001b[0m\u001b[0;34m\u001b[0m\u001b[0m\n",
            "\u001b[0;32m/usr/local/lib/python3.10/dist-packages/sklearn/pipeline.py\u001b[0m in \u001b[0;36mfit\u001b[0;34m(self, X, y, **fit_params)\u001b[0m\n\u001b[1;32m    404\u001b[0m                 \u001b[0mfit_params_last_step\u001b[0m \u001b[0;34m=\u001b[0m \u001b[0mfit_params_steps\u001b[0m\u001b[0;34m[\u001b[0m\u001b[0mself\u001b[0m\u001b[0;34m.\u001b[0m\u001b[0msteps\u001b[0m\u001b[0;34m[\u001b[0m\u001b[0;34m-\u001b[0m\u001b[0;36m1\u001b[0m\u001b[0;34m]\u001b[0m\u001b[0;34m[\u001b[0m\u001b[0;36m0\u001b[0m\u001b[0;34m]\u001b[0m\u001b[0;34m]\u001b[0m\u001b[0;34m\u001b[0m\u001b[0;34m\u001b[0m\u001b[0m\n\u001b[0;32m--> 405\u001b[0;31m                 \u001b[0mself\u001b[0m\u001b[0;34m.\u001b[0m\u001b[0m_final_estimator\u001b[0m\u001b[0;34m.\u001b[0m\u001b[0mfit\u001b[0m\u001b[0;34m(\u001b[0m\u001b[0mXt\u001b[0m\u001b[0;34m,\u001b[0m \u001b[0my\u001b[0m\u001b[0;34m,\u001b[0m \u001b[0;34m**\u001b[0m\u001b[0mfit_params_last_step\u001b[0m\u001b[0;34m)\u001b[0m\u001b[0;34m\u001b[0m\u001b[0;34m\u001b[0m\u001b[0m\n\u001b[0m\u001b[1;32m    406\u001b[0m \u001b[0;34m\u001b[0m\u001b[0m\n",
            "\u001b[0;32m/usr/local/lib/python3.10/dist-packages/xgboost/core.py\u001b[0m in \u001b[0;36minner_f\u001b[0;34m(*args, **kwargs)\u001b[0m\n\u001b[1;32m    729\u001b[0m                 \u001b[0mkwargs\u001b[0m\u001b[0;34m[\u001b[0m\u001b[0mk\u001b[0m\u001b[0;34m]\u001b[0m \u001b[0;34m=\u001b[0m \u001b[0marg\u001b[0m\u001b[0;34m\u001b[0m\u001b[0;34m\u001b[0m\u001b[0m\n\u001b[0;32m--> 730\u001b[0;31m             \u001b[0;32mreturn\u001b[0m \u001b[0mfunc\u001b[0m\u001b[0;34m(\u001b[0m\u001b[0;34m**\u001b[0m\u001b[0mkwargs\u001b[0m\u001b[0;34m)\u001b[0m\u001b[0;34m\u001b[0m\u001b[0;34m\u001b[0m\u001b[0m\n\u001b[0m\u001b[1;32m    731\u001b[0m \u001b[0;34m\u001b[0m\u001b[0m\n",
            "\u001b[0;32m/usr/local/lib/python3.10/dist-packages/xgboost/sklearn.py\u001b[0m in \u001b[0;36mfit\u001b[0;34m(self, X, y, sample_weight, base_margin, eval_set, eval_metric, early_stopping_rounds, verbose, xgb_model, sample_weight_eval_set, base_margin_eval_set, feature_weights, callbacks)\u001b[0m\n\u001b[1;32m   1518\u001b[0m \u001b[0;34m\u001b[0m\u001b[0m\n\u001b[0;32m-> 1519\u001b[0;31m             self._Booster = train(\n\u001b[0m\u001b[1;32m   1520\u001b[0m                 \u001b[0mparams\u001b[0m\u001b[0;34m,\u001b[0m\u001b[0;34m\u001b[0m\u001b[0;34m\u001b[0m\u001b[0m\n",
            "\u001b[0;32m/usr/local/lib/python3.10/dist-packages/xgboost/core.py\u001b[0m in \u001b[0;36minner_f\u001b[0;34m(*args, **kwargs)\u001b[0m\n\u001b[1;32m    729\u001b[0m                 \u001b[0mkwargs\u001b[0m\u001b[0;34m[\u001b[0m\u001b[0mk\u001b[0m\u001b[0;34m]\u001b[0m \u001b[0;34m=\u001b[0m \u001b[0marg\u001b[0m\u001b[0;34m\u001b[0m\u001b[0;34m\u001b[0m\u001b[0m\n\u001b[0;32m--> 730\u001b[0;31m             \u001b[0;32mreturn\u001b[0m \u001b[0mfunc\u001b[0m\u001b[0;34m(\u001b[0m\u001b[0;34m**\u001b[0m\u001b[0mkwargs\u001b[0m\u001b[0;34m)\u001b[0m\u001b[0;34m\u001b[0m\u001b[0;34m\u001b[0m\u001b[0m\n\u001b[0m\u001b[1;32m    731\u001b[0m \u001b[0;34m\u001b[0m\u001b[0m\n",
            "\u001b[0;32m/usr/local/lib/python3.10/dist-packages/xgboost/training.py\u001b[0m in \u001b[0;36mtrain\u001b[0;34m(params, dtrain, num_boost_round, evals, obj, feval, maximize, early_stopping_rounds, evals_result, verbose_eval, xgb_model, callbacks, custom_metric)\u001b[0m\n\u001b[1;32m    181\u001b[0m         \u001b[0mbst\u001b[0m\u001b[0;34m.\u001b[0m\u001b[0mupdate\u001b[0m\u001b[0;34m(\u001b[0m\u001b[0mdtrain\u001b[0m\u001b[0;34m,\u001b[0m \u001b[0mi\u001b[0m\u001b[0;34m,\u001b[0m \u001b[0mobj\u001b[0m\u001b[0;34m)\u001b[0m\u001b[0;34m\u001b[0m\u001b[0;34m\u001b[0m\u001b[0m\n\u001b[0;32m--> 182\u001b[0;31m         \u001b[0;32mif\u001b[0m \u001b[0mcb_container\u001b[0m\u001b[0;34m.\u001b[0m\u001b[0mafter_iteration\u001b[0m\u001b[0;34m(\u001b[0m\u001b[0mbst\u001b[0m\u001b[0;34m,\u001b[0m \u001b[0mi\u001b[0m\u001b[0;34m,\u001b[0m \u001b[0mdtrain\u001b[0m\u001b[0;34m,\u001b[0m \u001b[0mevals\u001b[0m\u001b[0;34m)\u001b[0m\u001b[0;34m:\u001b[0m\u001b[0;34m\u001b[0m\u001b[0;34m\u001b[0m\u001b[0m\n\u001b[0m\u001b[1;32m    183\u001b[0m             \u001b[0;32mbreak\u001b[0m\u001b[0;34m\u001b[0m\u001b[0;34m\u001b[0m\u001b[0m\n",
            "\u001b[0;32m/usr/local/lib/python3.10/dist-packages/xgboost/callback.py\u001b[0m in \u001b[0;36mafter_iteration\u001b[0;34m(self, model, epoch, dtrain, evals)\u001b[0m\n\u001b[1;32m    240\u001b[0m             \u001b[0mself\u001b[0m\u001b[0;34m.\u001b[0m\u001b[0m_update_history\u001b[0m\u001b[0;34m(\u001b[0m\u001b[0mmetric_score\u001b[0m\u001b[0;34m,\u001b[0m \u001b[0mepoch\u001b[0m\u001b[0;34m)\u001b[0m\u001b[0;34m\u001b[0m\u001b[0;34m\u001b[0m\u001b[0m\n\u001b[0;32m--> 241\u001b[0;31m         \u001b[0mret\u001b[0m \u001b[0;34m=\u001b[0m \u001b[0many\u001b[0m\u001b[0;34m(\u001b[0m\u001b[0mc\u001b[0m\u001b[0;34m.\u001b[0m\u001b[0mafter_iteration\u001b[0m\u001b[0;34m(\u001b[0m\u001b[0mmodel\u001b[0m\u001b[0;34m,\u001b[0m \u001b[0mepoch\u001b[0m\u001b[0;34m,\u001b[0m \u001b[0mself\u001b[0m\u001b[0;34m.\u001b[0m\u001b[0mhistory\u001b[0m\u001b[0;34m)\u001b[0m \u001b[0;32mfor\u001b[0m \u001b[0mc\u001b[0m \u001b[0;32min\u001b[0m \u001b[0mself\u001b[0m\u001b[0;34m.\u001b[0m\u001b[0mcallbacks\u001b[0m\u001b[0;34m)\u001b[0m\u001b[0;34m\u001b[0m\u001b[0;34m\u001b[0m\u001b[0m\n\u001b[0m\u001b[1;32m    242\u001b[0m         \u001b[0;32mreturn\u001b[0m \u001b[0mret\u001b[0m\u001b[0;34m\u001b[0m\u001b[0;34m\u001b[0m\u001b[0m\n",
            "\u001b[0;32m/usr/local/lib/python3.10/dist-packages/xgboost/callback.py\u001b[0m in \u001b[0;36m<genexpr>\u001b[0;34m(.0)\u001b[0m\n\u001b[1;32m    240\u001b[0m             \u001b[0mself\u001b[0m\u001b[0;34m.\u001b[0m\u001b[0m_update_history\u001b[0m\u001b[0;34m(\u001b[0m\u001b[0mmetric_score\u001b[0m\u001b[0;34m,\u001b[0m \u001b[0mepoch\u001b[0m\u001b[0;34m)\u001b[0m\u001b[0;34m\u001b[0m\u001b[0;34m\u001b[0m\u001b[0m\n\u001b[0;32m--> 241\u001b[0;31m         \u001b[0mret\u001b[0m \u001b[0;34m=\u001b[0m \u001b[0many\u001b[0m\u001b[0;34m(\u001b[0m\u001b[0mc\u001b[0m\u001b[0;34m.\u001b[0m\u001b[0mafter_iteration\u001b[0m\u001b[0;34m(\u001b[0m\u001b[0mmodel\u001b[0m\u001b[0;34m,\u001b[0m \u001b[0mepoch\u001b[0m\u001b[0;34m,\u001b[0m \u001b[0mself\u001b[0m\u001b[0;34m.\u001b[0m\u001b[0mhistory\u001b[0m\u001b[0;34m)\u001b[0m \u001b[0;32mfor\u001b[0m \u001b[0mc\u001b[0m \u001b[0;32min\u001b[0m \u001b[0mself\u001b[0m\u001b[0;34m.\u001b[0m\u001b[0mcallbacks\u001b[0m\u001b[0;34m)\u001b[0m\u001b[0;34m\u001b[0m\u001b[0;34m\u001b[0m\u001b[0m\n\u001b[0m\u001b[1;32m    242\u001b[0m         \u001b[0;32mreturn\u001b[0m \u001b[0mret\u001b[0m\u001b[0;34m\u001b[0m\u001b[0;34m\u001b[0m\u001b[0m\n",
            "\u001b[0;32m/usr/local/lib/python3.10/dist-packages/optuna/integration/xgboost.py\u001b[0m in \u001b[0;36mafter_iteration\u001b[0;34m(self, model, epoch, evals_log)\u001b[0m\n\u001b[1;32m     70\u001b[0m \u001b[0;34m\u001b[0m\u001b[0m\n\u001b[0;32m---> 71\u001b[0;31m             \u001b[0mcurrent_score\u001b[0m \u001b[0;34m=\u001b[0m \u001b[0mevaluation_results\u001b[0m\u001b[0;34m[\u001b[0m\u001b[0mself\u001b[0m\u001b[0;34m.\u001b[0m\u001b[0m_observation_key\u001b[0m\u001b[0;34m]\u001b[0m\u001b[0;34m\u001b[0m\u001b[0;34m\u001b[0m\u001b[0m\n\u001b[0m\u001b[1;32m     72\u001b[0m             \u001b[0mself\u001b[0m\u001b[0;34m.\u001b[0m\u001b[0m_trial\u001b[0m\u001b[0;34m.\u001b[0m\u001b[0mreport\u001b[0m\u001b[0;34m(\u001b[0m\u001b[0mcurrent_score\u001b[0m\u001b[0;34m,\u001b[0m \u001b[0mstep\u001b[0m\u001b[0;34m=\u001b[0m\u001b[0mepoch\u001b[0m\u001b[0;34m)\u001b[0m\u001b[0;34m\u001b[0m\u001b[0;34m\u001b[0m\u001b[0m\n",
            "\u001b[0;31mKeyError\u001b[0m: 'validation_0-merror'",
            "\nDuring handling of the above exception, another exception occurred:\n",
            "\u001b[0;31mKeyboardInterrupt\u001b[0m                         Traceback (most recent call last)",
            "\u001b[0;32m<ipython-input-62-9c88d3db9bc6>\u001b[0m in \u001b[0;36m<cell line: 5>\u001b[0;34m()\u001b[0m\n\u001b[1;32m      3\u001b[0m                             \u001b[0msampler\u001b[0m\u001b[0;34m=\u001b[0m\u001b[0msampler\u001b[0m\u001b[0;34m,\u001b[0m\u001b[0;34m\u001b[0m\u001b[0;34m\u001b[0m\u001b[0m\n\u001b[1;32m      4\u001b[0m                             study_name=\"XGboost_clf\")\n\u001b[0;32m----> 5\u001b[0;31m study.optimize(objective_xgboost,\n\u001b[0m\u001b[1;32m      6\u001b[0m                \u001b[0mn_trials\u001b[0m\u001b[0;34m=\u001b[0m\u001b[0;36m4\u001b[0m\u001b[0;34m,\u001b[0m\u001b[0;34m\u001b[0m\u001b[0;34m\u001b[0m\u001b[0m\n\u001b[1;32m      7\u001b[0m                \u001b[0mn_jobs\u001b[0m\u001b[0;34m=\u001b[0m\u001b[0;34m-\u001b[0m\u001b[0;36m1\u001b[0m\u001b[0;34m,\u001b[0m\u001b[0;34m\u001b[0m\u001b[0;34m\u001b[0m\u001b[0m\n",
            "\u001b[0;32m/usr/local/lib/python3.10/dist-packages/optuna/study/study.py\u001b[0m in \u001b[0;36moptimize\u001b[0;34m(self, func, n_trials, timeout, n_jobs, catch, callbacks, gc_after_trial, show_progress_bar)\u001b[0m\n\u001b[1;32m    449\u001b[0m                 \u001b[0mIf\u001b[0m \u001b[0mnested\u001b[0m \u001b[0minvocation\u001b[0m \u001b[0mof\u001b[0m \u001b[0mthis\u001b[0m \u001b[0mmethod\u001b[0m \u001b[0moccurs\u001b[0m\u001b[0;34m.\u001b[0m\u001b[0;34m\u001b[0m\u001b[0;34m\u001b[0m\u001b[0m\n\u001b[1;32m    450\u001b[0m         \"\"\"\n\u001b[0;32m--> 451\u001b[0;31m         _optimize(\n\u001b[0m\u001b[1;32m    452\u001b[0m             \u001b[0mstudy\u001b[0m\u001b[0;34m=\u001b[0m\u001b[0mself\u001b[0m\u001b[0;34m,\u001b[0m\u001b[0;34m\u001b[0m\u001b[0;34m\u001b[0m\u001b[0m\n\u001b[1;32m    453\u001b[0m             \u001b[0mfunc\u001b[0m\u001b[0;34m=\u001b[0m\u001b[0mfunc\u001b[0m\u001b[0;34m,\u001b[0m\u001b[0;34m\u001b[0m\u001b[0;34m\u001b[0m\u001b[0m\n",
            "\u001b[0;32m/usr/local/lib/python3.10/dist-packages/optuna/study/_optimize.py\u001b[0m in \u001b[0;36m_optimize\u001b[0;34m(study, func, n_trials, timeout, n_jobs, catch, callbacks, gc_after_trial, show_progress_bar)\u001b[0m\n\u001b[1;32m     83\u001b[0m             \u001b[0mfutures\u001b[0m\u001b[0;34m:\u001b[0m \u001b[0mSet\u001b[0m\u001b[0;34m[\u001b[0m\u001b[0mFuture\u001b[0m\u001b[0;34m]\u001b[0m \u001b[0;34m=\u001b[0m \u001b[0mset\u001b[0m\u001b[0;34m(\u001b[0m\u001b[0;34m)\u001b[0m\u001b[0;34m\u001b[0m\u001b[0;34m\u001b[0m\u001b[0m\n\u001b[1;32m     84\u001b[0m \u001b[0;34m\u001b[0m\u001b[0m\n\u001b[0;32m---> 85\u001b[0;31m             \u001b[0;32mwith\u001b[0m \u001b[0mThreadPoolExecutor\u001b[0m\u001b[0;34m(\u001b[0m\u001b[0mmax_workers\u001b[0m\u001b[0;34m=\u001b[0m\u001b[0mn_jobs\u001b[0m\u001b[0;34m)\u001b[0m \u001b[0;32mas\u001b[0m \u001b[0mexecutor\u001b[0m\u001b[0;34m:\u001b[0m\u001b[0;34m\u001b[0m\u001b[0;34m\u001b[0m\u001b[0m\n\u001b[0m\u001b[1;32m     86\u001b[0m                 \u001b[0;32mfor\u001b[0m \u001b[0mn_submitted_trials\u001b[0m \u001b[0;32min\u001b[0m \u001b[0mitertools\u001b[0m\u001b[0;34m.\u001b[0m\u001b[0mcount\u001b[0m\u001b[0;34m(\u001b[0m\u001b[0;34m)\u001b[0m\u001b[0;34m:\u001b[0m\u001b[0;34m\u001b[0m\u001b[0;34m\u001b[0m\u001b[0m\n\u001b[1;32m     87\u001b[0m                     \u001b[0;32mif\u001b[0m \u001b[0mstudy\u001b[0m\u001b[0;34m.\u001b[0m\u001b[0m_stop_flag\u001b[0m\u001b[0;34m:\u001b[0m\u001b[0;34m\u001b[0m\u001b[0;34m\u001b[0m\u001b[0m\n",
            "\u001b[0;32m/usr/lib/python3.10/concurrent/futures/_base.py\u001b[0m in \u001b[0;36m__exit__\u001b[0;34m(self, exc_type, exc_val, exc_tb)\u001b[0m\n\u001b[1;32m    647\u001b[0m \u001b[0;34m\u001b[0m\u001b[0m\n\u001b[1;32m    648\u001b[0m     \u001b[0;32mdef\u001b[0m \u001b[0m__exit__\u001b[0m\u001b[0;34m(\u001b[0m\u001b[0mself\u001b[0m\u001b[0;34m,\u001b[0m \u001b[0mexc_type\u001b[0m\u001b[0;34m,\u001b[0m \u001b[0mexc_val\u001b[0m\u001b[0;34m,\u001b[0m \u001b[0mexc_tb\u001b[0m\u001b[0;34m)\u001b[0m\u001b[0;34m:\u001b[0m\u001b[0;34m\u001b[0m\u001b[0;34m\u001b[0m\u001b[0m\n\u001b[0;32m--> 649\u001b[0;31m         \u001b[0mself\u001b[0m\u001b[0;34m.\u001b[0m\u001b[0mshutdown\u001b[0m\u001b[0;34m(\u001b[0m\u001b[0mwait\u001b[0m\u001b[0;34m=\u001b[0m\u001b[0;32mTrue\u001b[0m\u001b[0;34m)\u001b[0m\u001b[0;34m\u001b[0m\u001b[0;34m\u001b[0m\u001b[0m\n\u001b[0m\u001b[1;32m    650\u001b[0m         \u001b[0;32mreturn\u001b[0m \u001b[0;32mFalse\u001b[0m\u001b[0;34m\u001b[0m\u001b[0;34m\u001b[0m\u001b[0m\n\u001b[1;32m    651\u001b[0m \u001b[0;34m\u001b[0m\u001b[0m\n",
            "\u001b[0;32m/usr/lib/python3.10/concurrent/futures/thread.py\u001b[0m in \u001b[0;36mshutdown\u001b[0;34m(self, wait, cancel_futures)\u001b[0m\n\u001b[1;32m    233\u001b[0m         \u001b[0;32mif\u001b[0m \u001b[0mwait\u001b[0m\u001b[0;34m:\u001b[0m\u001b[0;34m\u001b[0m\u001b[0;34m\u001b[0m\u001b[0m\n\u001b[1;32m    234\u001b[0m             \u001b[0;32mfor\u001b[0m \u001b[0mt\u001b[0m \u001b[0;32min\u001b[0m \u001b[0mself\u001b[0m\u001b[0;34m.\u001b[0m\u001b[0m_threads\u001b[0m\u001b[0;34m:\u001b[0m\u001b[0;34m\u001b[0m\u001b[0;34m\u001b[0m\u001b[0m\n\u001b[0;32m--> 235\u001b[0;31m                 \u001b[0mt\u001b[0m\u001b[0;34m.\u001b[0m\u001b[0mjoin\u001b[0m\u001b[0;34m(\u001b[0m\u001b[0;34m)\u001b[0m\u001b[0;34m\u001b[0m\u001b[0;34m\u001b[0m\u001b[0m\n\u001b[0m\u001b[1;32m    236\u001b[0m     \u001b[0mshutdown\u001b[0m\u001b[0;34m.\u001b[0m\u001b[0m__doc__\u001b[0m \u001b[0;34m=\u001b[0m \u001b[0m_base\u001b[0m\u001b[0;34m.\u001b[0m\u001b[0mExecutor\u001b[0m\u001b[0;34m.\u001b[0m\u001b[0mshutdown\u001b[0m\u001b[0;34m.\u001b[0m\u001b[0m__doc__\u001b[0m\u001b[0;34m\u001b[0m\u001b[0;34m\u001b[0m\u001b[0m\n",
            "\u001b[0;32m/usr/lib/python3.10/threading.py\u001b[0m in \u001b[0;36mjoin\u001b[0;34m(self, timeout)\u001b[0m\n\u001b[1;32m   1094\u001b[0m \u001b[0;34m\u001b[0m\u001b[0m\n\u001b[1;32m   1095\u001b[0m         \u001b[0;32mif\u001b[0m \u001b[0mtimeout\u001b[0m \u001b[0;32mis\u001b[0m \u001b[0;32mNone\u001b[0m\u001b[0;34m:\u001b[0m\u001b[0;34m\u001b[0m\u001b[0;34m\u001b[0m\u001b[0m\n\u001b[0;32m-> 1096\u001b[0;31m             \u001b[0mself\u001b[0m\u001b[0;34m.\u001b[0m\u001b[0m_wait_for_tstate_lock\u001b[0m\u001b[0;34m(\u001b[0m\u001b[0;34m)\u001b[0m\u001b[0;34m\u001b[0m\u001b[0;34m\u001b[0m\u001b[0m\n\u001b[0m\u001b[1;32m   1097\u001b[0m         \u001b[0;32melse\u001b[0m\u001b[0;34m:\u001b[0m\u001b[0;34m\u001b[0m\u001b[0;34m\u001b[0m\u001b[0m\n\u001b[1;32m   1098\u001b[0m             \u001b[0;31m# the behavior of a negative timeout isn't documented, but\u001b[0m\u001b[0;34m\u001b[0m\u001b[0;34m\u001b[0m\u001b[0m\n",
            "\u001b[0;32m/usr/lib/python3.10/threading.py\u001b[0m in \u001b[0;36m_wait_for_tstate_lock\u001b[0;34m(self, block, timeout)\u001b[0m\n\u001b[1;32m   1114\u001b[0m \u001b[0;34m\u001b[0m\u001b[0m\n\u001b[1;32m   1115\u001b[0m         \u001b[0;32mtry\u001b[0m\u001b[0;34m:\u001b[0m\u001b[0;34m\u001b[0m\u001b[0;34m\u001b[0m\u001b[0m\n\u001b[0;32m-> 1116\u001b[0;31m             \u001b[0;32mif\u001b[0m \u001b[0mlock\u001b[0m\u001b[0;34m.\u001b[0m\u001b[0macquire\u001b[0m\u001b[0;34m(\u001b[0m\u001b[0mblock\u001b[0m\u001b[0;34m,\u001b[0m \u001b[0mtimeout\u001b[0m\u001b[0;34m)\u001b[0m\u001b[0;34m:\u001b[0m\u001b[0;34m\u001b[0m\u001b[0;34m\u001b[0m\u001b[0m\n\u001b[0m\u001b[1;32m   1117\u001b[0m                 \u001b[0mlock\u001b[0m\u001b[0;34m.\u001b[0m\u001b[0mrelease\u001b[0m\u001b[0;34m(\u001b[0m\u001b[0;34m)\u001b[0m\u001b[0;34m\u001b[0m\u001b[0;34m\u001b[0m\u001b[0m\n\u001b[1;32m   1118\u001b[0m                 \u001b[0mself\u001b[0m\u001b[0;34m.\u001b[0m\u001b[0m_stop\u001b[0m\u001b[0;34m(\u001b[0m\u001b[0;34m)\u001b[0m\u001b[0;34m\u001b[0m\u001b[0;34m\u001b[0m\u001b[0m\n",
            "\u001b[0;31mKeyboardInterrupt\u001b[0m: "
          ]
        }
      ]
    },
    {
      "cell_type": "markdown",
      "metadata": {
        "id": "_QGdMHMPmK7j"
      },
      "source": [
        "# Stack"
      ]
    },
    {
      "cell_type": "code",
      "execution_count": null,
      "metadata": {
        "id": "QhKYtvtHmnYd"
      },
      "outputs": [],
      "source": [
        "# Некоторые модели для построение ансамбля\n",
        "from sklearn.ensemble import ExtraTreesClassifier, RandomForestClassifier, StackingClassifier"
      ]
    },
    {
      "cell_type": "code",
      "execution_count": null,
      "metadata": {
        "id": "zJQsUeqAVMn6"
      },
      "outputs": [],
      "source": [
        "Catboost_pipe = Pipeline([\n",
        "    ('col_selector', CustomSelectColumns(['content'])),\n",
        "    ('Catboost_simple', CatBoostClassifier(eval_metric='Accuracy',\n",
        "                           iterations=200,\n",
        "                           thread_count=-1,\n",
        "                           random_seed=RND_STATE,\n",
        "                           text_features=text_features))\n",
        "    ])"
      ]
    },
    {
      "cell_type": "code",
      "execution_count": null,
      "metadata": {
        "colab": {
          "base_uri": "https://localhost:8080/",
          "height": 267
        },
        "id": "70efN818mM5C",
        "outputId": "794c3cb1-536c-4312-d713-eb9b947a1936"
      },
      "outputs": [
        {
          "output_type": "execute_result",
          "data": {
            "text/plain": [
              "StackingClassifier(estimators=[('CatBoost',\n",
              "                                Pipeline(steps=[('col_selector',\n",
              "                                                 <__main__.CustomSelectColumns object at 0x7e2af34df6a0>),\n",
              "                                                ('Catboost_simple',\n",
              "                                                 <catboost.core.CatBoostClassifier object at 0x7e2af34dfc70>)])),\n",
              "                               ('SVC',\n",
              "                                Pipeline(steps=[('col_selector',\n",
              "                                                 <__main__.CustomSelectColumns object at 0x7e2ae6042770>),\n",
              "                                                ('w2v_tfidf',\n",
              "                                                 <__main__.TfidfEmbeddingVectorizer o...\n",
              "                                                     random_state=7575))])),\n",
              "                               ('Log_Reg',\n",
              "                                Pipeline(steps=[('col_selector',\n",
              "                                                 <__main__.CustomSelectColumns object at 0x7e2af34ded70>),\n",
              "                                                ('w2v_tfidf',\n",
              "                                                 <__main__.TfidfEmbeddingVectorizer object at 0x7e2af34df610>),\n",
              "                                                ('scaler', StandardScaler()),\n",
              "                                                ('clf',\n",
              "                                                 LogisticRegression(max_iter=10000,\n",
              "                                                                    random_state=7575))]))],\n",
              "                   final_estimator=LogisticRegression(max_iter=200,\n",
              "                                                      verbose=False),\n",
              "                   n_jobs=-1, verbose=False)"
            ],
            "text/html": [
              "<style>#sk-container-id-3 {color: black;background-color: white;}#sk-container-id-3 pre{padding: 0;}#sk-container-id-3 div.sk-toggleable {background-color: white;}#sk-container-id-3 label.sk-toggleable__label {cursor: pointer;display: block;width: 100%;margin-bottom: 0;padding: 0.3em;box-sizing: border-box;text-align: center;}#sk-container-id-3 label.sk-toggleable__label-arrow:before {content: \"▸\";float: left;margin-right: 0.25em;color: #696969;}#sk-container-id-3 label.sk-toggleable__label-arrow:hover:before {color: black;}#sk-container-id-3 div.sk-estimator:hover label.sk-toggleable__label-arrow:before {color: black;}#sk-container-id-3 div.sk-toggleable__content {max-height: 0;max-width: 0;overflow: hidden;text-align: left;background-color: #f0f8ff;}#sk-container-id-3 div.sk-toggleable__content pre {margin: 0.2em;color: black;border-radius: 0.25em;background-color: #f0f8ff;}#sk-container-id-3 input.sk-toggleable__control:checked~div.sk-toggleable__content {max-height: 200px;max-width: 100%;overflow: auto;}#sk-container-id-3 input.sk-toggleable__control:checked~label.sk-toggleable__label-arrow:before {content: \"▾\";}#sk-container-id-3 div.sk-estimator input.sk-toggleable__control:checked~label.sk-toggleable__label {background-color: #d4ebff;}#sk-container-id-3 div.sk-label input.sk-toggleable__control:checked~label.sk-toggleable__label {background-color: #d4ebff;}#sk-container-id-3 input.sk-hidden--visually {border: 0;clip: rect(1px 1px 1px 1px);clip: rect(1px, 1px, 1px, 1px);height: 1px;margin: -1px;overflow: hidden;padding: 0;position: absolute;width: 1px;}#sk-container-id-3 div.sk-estimator {font-family: monospace;background-color: #f0f8ff;border: 1px dotted black;border-radius: 0.25em;box-sizing: border-box;margin-bottom: 0.5em;}#sk-container-id-3 div.sk-estimator:hover {background-color: #d4ebff;}#sk-container-id-3 div.sk-parallel-item::after {content: \"\";width: 100%;border-bottom: 1px solid gray;flex-grow: 1;}#sk-container-id-3 div.sk-label:hover label.sk-toggleable__label {background-color: #d4ebff;}#sk-container-id-3 div.sk-serial::before {content: \"\";position: absolute;border-left: 1px solid gray;box-sizing: border-box;top: 0;bottom: 0;left: 50%;z-index: 0;}#sk-container-id-3 div.sk-serial {display: flex;flex-direction: column;align-items: center;background-color: white;padding-right: 0.2em;padding-left: 0.2em;position: relative;}#sk-container-id-3 div.sk-item {position: relative;z-index: 1;}#sk-container-id-3 div.sk-parallel {display: flex;align-items: stretch;justify-content: center;background-color: white;position: relative;}#sk-container-id-3 div.sk-item::before, #sk-container-id-3 div.sk-parallel-item::before {content: \"\";position: absolute;border-left: 1px solid gray;box-sizing: border-box;top: 0;bottom: 0;left: 50%;z-index: -1;}#sk-container-id-3 div.sk-parallel-item {display: flex;flex-direction: column;z-index: 1;position: relative;background-color: white;}#sk-container-id-3 div.sk-parallel-item:first-child::after {align-self: flex-end;width: 50%;}#sk-container-id-3 div.sk-parallel-item:last-child::after {align-self: flex-start;width: 50%;}#sk-container-id-3 div.sk-parallel-item:only-child::after {width: 0;}#sk-container-id-3 div.sk-dashed-wrapped {border: 1px dashed gray;margin: 0 0.4em 0.5em 0.4em;box-sizing: border-box;padding-bottom: 0.4em;background-color: white;}#sk-container-id-3 div.sk-label label {font-family: monospace;font-weight: bold;display: inline-block;line-height: 1.2em;}#sk-container-id-3 div.sk-label-container {text-align: center;}#sk-container-id-3 div.sk-container {/* jupyter's `normalize.less` sets `[hidden] { display: none; }` but bootstrap.min.css set `[hidden] { display: none !important; }` so we also need the `!important` here to be able to override the default hidden behavior on the sphinx rendered scikit-learn.org. See: https://github.com/scikit-learn/scikit-learn/issues/21755 */display: inline-block !important;position: relative;}#sk-container-id-3 div.sk-text-repr-fallback {display: none;}</style><div id=\"sk-container-id-3\" class=\"sk-top-container\"><div class=\"sk-text-repr-fallback\"><pre>StackingClassifier(estimators=[(&#x27;CatBoost&#x27;,\n",
              "                                Pipeline(steps=[(&#x27;col_selector&#x27;,\n",
              "                                                 &lt;__main__.CustomSelectColumns object at 0x7e2af34df6a0&gt;),\n",
              "                                                (&#x27;Catboost_simple&#x27;,\n",
              "                                                 &lt;catboost.core.CatBoostClassifier object at 0x7e2af34dfc70&gt;)])),\n",
              "                               (&#x27;SVC&#x27;,\n",
              "                                Pipeline(steps=[(&#x27;col_selector&#x27;,\n",
              "                                                 &lt;__main__.CustomSelectColumns object at 0x7e2ae6042770&gt;),\n",
              "                                                (&#x27;w2v_tfidf&#x27;,\n",
              "                                                 &lt;__main__.TfidfEmbeddingVectorizer o...\n",
              "                                                     random_state=7575))])),\n",
              "                               (&#x27;Log_Reg&#x27;,\n",
              "                                Pipeline(steps=[(&#x27;col_selector&#x27;,\n",
              "                                                 &lt;__main__.CustomSelectColumns object at 0x7e2af34ded70&gt;),\n",
              "                                                (&#x27;w2v_tfidf&#x27;,\n",
              "                                                 &lt;__main__.TfidfEmbeddingVectorizer object at 0x7e2af34df610&gt;),\n",
              "                                                (&#x27;scaler&#x27;, StandardScaler()),\n",
              "                                                (&#x27;clf&#x27;,\n",
              "                                                 LogisticRegression(max_iter=10000,\n",
              "                                                                    random_state=7575))]))],\n",
              "                   final_estimator=LogisticRegression(max_iter=200,\n",
              "                                                      verbose=False),\n",
              "                   n_jobs=-1, verbose=False)</pre><b>In a Jupyter environment, please rerun this cell to show the HTML representation or trust the notebook. <br />On GitHub, the HTML representation is unable to render, please try loading this page with nbviewer.org.</b></div><div class=\"sk-container\" hidden><div class=\"sk-item sk-dashed-wrapped\"><div class=\"sk-label-container\"><div class=\"sk-label sk-toggleable\"><input class=\"sk-toggleable__control sk-hidden--visually\" id=\"sk-estimator-id-17\" type=\"checkbox\" ><label for=\"sk-estimator-id-17\" class=\"sk-toggleable__label sk-toggleable__label-arrow\">StackingClassifier</label><div class=\"sk-toggleable__content\"><pre>StackingClassifier(estimators=[(&#x27;CatBoost&#x27;,\n",
              "                                Pipeline(steps=[(&#x27;col_selector&#x27;,\n",
              "                                                 &lt;__main__.CustomSelectColumns object at 0x7e2af34df6a0&gt;),\n",
              "                                                (&#x27;Catboost_simple&#x27;,\n",
              "                                                 &lt;catboost.core.CatBoostClassifier object at 0x7e2af34dfc70&gt;)])),\n",
              "                               (&#x27;SVC&#x27;,\n",
              "                                Pipeline(steps=[(&#x27;col_selector&#x27;,\n",
              "                                                 &lt;__main__.CustomSelectColumns object at 0x7e2ae6042770&gt;),\n",
              "                                                (&#x27;w2v_tfidf&#x27;,\n",
              "                                                 &lt;__main__.TfidfEmbeddingVectorizer o...\n",
              "                                                     random_state=7575))])),\n",
              "                               (&#x27;Log_Reg&#x27;,\n",
              "                                Pipeline(steps=[(&#x27;col_selector&#x27;,\n",
              "                                                 &lt;__main__.CustomSelectColumns object at 0x7e2af34ded70&gt;),\n",
              "                                                (&#x27;w2v_tfidf&#x27;,\n",
              "                                                 &lt;__main__.TfidfEmbeddingVectorizer object at 0x7e2af34df610&gt;),\n",
              "                                                (&#x27;scaler&#x27;, StandardScaler()),\n",
              "                                                (&#x27;clf&#x27;,\n",
              "                                                 LogisticRegression(max_iter=10000,\n",
              "                                                                    random_state=7575))]))],\n",
              "                   final_estimator=LogisticRegression(max_iter=200,\n",
              "                                                      verbose=False),\n",
              "                   n_jobs=-1, verbose=False)</pre></div></div></div><div class=\"sk-serial\"><div class=\"sk-item\"><div class=\"sk-parallel\"><div class=\"sk-parallel-item\"><div class=\"sk-item\"><div class=\"sk-label-container\"><div class=\"sk-label sk-toggleable\"><label>CatBoost</label></div></div><div class=\"sk-serial\"><div class=\"sk-item\"><div class=\"sk-serial\"><div class=\"sk-item\"><div class=\"sk-estimator sk-toggleable\"><input class=\"sk-toggleable__control sk-hidden--visually\" id=\"sk-estimator-id-18\" type=\"checkbox\" ><label for=\"sk-estimator-id-18\" class=\"sk-toggleable__label sk-toggleable__label-arrow\">CustomSelectColumns</label><div class=\"sk-toggleable__content\"><pre>&lt;__main__.CustomSelectColumns object at 0x7e2af34df6a0&gt;</pre></div></div></div><div class=\"sk-item\"><div class=\"sk-estimator sk-toggleable\"><input class=\"sk-toggleable__control sk-hidden--visually\" id=\"sk-estimator-id-19\" type=\"checkbox\" ><label for=\"sk-estimator-id-19\" class=\"sk-toggleable__label sk-toggleable__label-arrow\">CatBoostClassifier</label><div class=\"sk-toggleable__content\"><pre>&lt;catboost.core.CatBoostClassifier object at 0x7e2af34dfc70&gt;</pre></div></div></div></div></div></div></div></div><div class=\"sk-parallel-item\"><div class=\"sk-item\"><div class=\"sk-label-container\"><div class=\"sk-label sk-toggleable\"><label>SVC</label></div></div><div class=\"sk-serial\"><div class=\"sk-item\"><div class=\"sk-serial\"><div class=\"sk-item\"><div class=\"sk-estimator sk-toggleable\"><input class=\"sk-toggleable__control sk-hidden--visually\" id=\"sk-estimator-id-20\" type=\"checkbox\" ><label for=\"sk-estimator-id-20\" class=\"sk-toggleable__label sk-toggleable__label-arrow\">CustomSelectColumns</label><div class=\"sk-toggleable__content\"><pre>&lt;__main__.CustomSelectColumns object at 0x7e2ae6042770&gt;</pre></div></div></div><div class=\"sk-item\"><div class=\"sk-estimator sk-toggleable\"><input class=\"sk-toggleable__control sk-hidden--visually\" id=\"sk-estimator-id-21\" type=\"checkbox\" ><label for=\"sk-estimator-id-21\" class=\"sk-toggleable__label sk-toggleable__label-arrow\">TfidfEmbeddingVectorizer</label><div class=\"sk-toggleable__content\"><pre>&lt;__main__.TfidfEmbeddingVectorizer object at 0x7e2ae6042920&gt;</pre></div></div></div><div class=\"sk-item\"><div class=\"sk-estimator sk-toggleable\"><input class=\"sk-toggleable__control sk-hidden--visually\" id=\"sk-estimator-id-22\" type=\"checkbox\" ><label for=\"sk-estimator-id-22\" class=\"sk-toggleable__label sk-toggleable__label-arrow\">StandardScaler</label><div class=\"sk-toggleable__content\"><pre>StandardScaler()</pre></div></div></div><div class=\"sk-item\"><div class=\"sk-estimator sk-toggleable\"><input class=\"sk-toggleable__control sk-hidden--visually\" id=\"sk-estimator-id-23\" type=\"checkbox\" ><label for=\"sk-estimator-id-23\" class=\"sk-toggleable__label sk-toggleable__label-arrow\">SVC</label><div class=\"sk-toggleable__content\"><pre>SVC(max_iter=10000, random_state=7575)</pre></div></div></div></div></div></div></div></div><div class=\"sk-parallel-item\"><div class=\"sk-item\"><div class=\"sk-label-container\"><div class=\"sk-label sk-toggleable\"><label>Log_Reg</label></div></div><div class=\"sk-serial\"><div class=\"sk-item\"><div class=\"sk-serial\"><div class=\"sk-item\"><div class=\"sk-estimator sk-toggleable\"><input class=\"sk-toggleable__control sk-hidden--visually\" id=\"sk-estimator-id-24\" type=\"checkbox\" ><label for=\"sk-estimator-id-24\" class=\"sk-toggleable__label sk-toggleable__label-arrow\">CustomSelectColumns</label><div class=\"sk-toggleable__content\"><pre>&lt;__main__.CustomSelectColumns object at 0x7e2af34ded70&gt;</pre></div></div></div><div class=\"sk-item\"><div class=\"sk-estimator sk-toggleable\"><input class=\"sk-toggleable__control sk-hidden--visually\" id=\"sk-estimator-id-25\" type=\"checkbox\" ><label for=\"sk-estimator-id-25\" class=\"sk-toggleable__label sk-toggleable__label-arrow\">TfidfEmbeddingVectorizer</label><div class=\"sk-toggleable__content\"><pre>&lt;__main__.TfidfEmbeddingVectorizer object at 0x7e2af34df610&gt;</pre></div></div></div><div class=\"sk-item\"><div class=\"sk-estimator sk-toggleable\"><input class=\"sk-toggleable__control sk-hidden--visually\" id=\"sk-estimator-id-26\" type=\"checkbox\" ><label for=\"sk-estimator-id-26\" class=\"sk-toggleable__label sk-toggleable__label-arrow\">StandardScaler</label><div class=\"sk-toggleable__content\"><pre>StandardScaler()</pre></div></div></div><div class=\"sk-item\"><div class=\"sk-estimator sk-toggleable\"><input class=\"sk-toggleable__control sk-hidden--visually\" id=\"sk-estimator-id-27\" type=\"checkbox\" ><label for=\"sk-estimator-id-27\" class=\"sk-toggleable__label sk-toggleable__label-arrow\">LogisticRegression</label><div class=\"sk-toggleable__content\"><pre>LogisticRegression(max_iter=10000, random_state=7575)</pre></div></div></div></div></div></div></div></div></div></div><div class=\"sk-item\"><div class=\"sk-parallel\"><div class=\"sk-parallel-item\"><div class=\"sk-item\"><div class=\"sk-label-container\"><div class=\"sk-label sk-toggleable\"><label>final_estimator</label></div></div><div class=\"sk-serial\"><div class=\"sk-item\"><div class=\"sk-estimator sk-toggleable\"><input class=\"sk-toggleable__control sk-hidden--visually\" id=\"sk-estimator-id-28\" type=\"checkbox\" ><label for=\"sk-estimator-id-28\" class=\"sk-toggleable__label sk-toggleable__label-arrow\">LogisticRegression</label><div class=\"sk-toggleable__content\"><pre>LogisticRegression(max_iter=200, verbose=False)</pre></div></div></div></div></div></div></div></div></div></div></div></div>"
            ]
          },
          "metadata": {},
          "execution_count": 29
        }
      ],
      "source": [
        "# список базовых моделей\n",
        "estimators = [(\"CatBoost\", Catboost_pipe),\n",
        "              ('SVC', pipe_svc),\n",
        "              ('Log_Reg', pipe_log)]\n",
        "\n",
        "# в качестве мета-модели будем использовать LogisticRegression\n",
        "meta_model = StackingClassifier(\n",
        "    estimators=estimators,\n",
        "    final_estimator=LogisticRegression(verbose=False, max_iter=200),\n",
        "    n_jobs=-1,\n",
        "    verbose=False,\n",
        ")\n",
        "\n",
        "stacking_classifier = meta_model\n",
        "stacking_classifier"
      ]
    },
    {
      "cell_type": "code",
      "execution_count": null,
      "metadata": {
        "id": "8CqsAro_m9lE"
      },
      "outputs": [],
      "source": [
        "%%time\n",
        "stacking_classifier.fit(X_train, y_train)"
      ]
    },
    {
      "cell_type": "code",
      "execution_count": null,
      "metadata": {
        "id": "iWvAu_JXoons",
        "colab": {
          "base_uri": "https://localhost:8080/"
        },
        "outputId": "19764fd1-bf20-4bc5-9d51-2c29614f99a9"
      },
      "outputs": [
        {
          "output_type": "execute_result",
          "data": {
            "text/plain": [
              "0.854229941129818"
            ]
          },
          "metadata": {},
          "execution_count": 25
        }
      ],
      "source": [
        "preds_st = stacking_classifier.predict(X_val)\n",
        "balanced_accuracy_score(y_true=y_val, y_pred=preds_st)"
      ]
    },
    {
      "cell_type": "code",
      "source": [
        "accuracy_score(y_true=y_val, y_pred=preds_st)"
      ],
      "metadata": {
        "colab": {
          "base_uri": "https://localhost:8080/"
        },
        "id": "4_sUdaDICaCN",
        "outputId": "47873101-d45a-46ba-82e4-c55e73c1e5fe"
      },
      "execution_count": null,
      "outputs": [
        {
          "output_type": "execute_result",
          "data": {
            "text/plain": [
              "0.9001277139208174"
            ]
          },
          "metadata": {},
          "execution_count": 27
        }
      ]
    },
    {
      "cell_type": "code",
      "execution_count": null,
      "metadata": {
        "id": "YOo2X7qrURY7"
      },
      "outputs": [],
      "source": [
        "df_sub = pd.read_csv('/content/drive/MyDrive/competitions/NLP2.0/data/base_submission_news.csv')\n",
        "preds = stacking_classifier.predict(test)\n",
        "df_sub['topic'] = preds\n",
        "df_sub.to_csv('try_6.csv', index=False)"
      ]
    }
  ],
  "metadata": {
    "colab": {
      "collapsed_sections": [
        "TrANXjqRrf_R",
        "pWjC4mg6rk93",
        "eu7e9IHXGwRP"
      ],
      "provenance": [],
      "toc_visible": true
    },
    "kernelspec": {
      "display_name": "Python 3",
      "name": "python3"
    },
    "language_info": {
      "name": "python"
    },
    "widgets": {
      "application/vnd.jupyter.widget-state+json": {
        "1c9c2955a9ca4f4aa4dc33627b69c99e": {
          "model_module": "@jupyter-widgets/controls",
          "model_module_version": "1.5.0",
          "model_name": "DescriptionStyleModel",
          "state": {
            "_model_module": "@jupyter-widgets/controls",
            "_model_module_version": "1.5.0",
            "_model_name": "DescriptionStyleModel",
            "_view_count": null,
            "_view_module": "@jupyter-widgets/base",
            "_view_module_version": "1.2.0",
            "_view_name": "StyleView",
            "description_width": ""
          }
        },
        "27ead9acb2c04708950fc325d9d27302": {
          "model_module": "@jupyter-widgets/base",
          "model_module_version": "1.2.0",
          "model_name": "LayoutModel",
          "state": {
            "_model_module": "@jupyter-widgets/base",
            "_model_module_version": "1.2.0",
            "_model_name": "LayoutModel",
            "_view_count": null,
            "_view_module": "@jupyter-widgets/base",
            "_view_module_version": "1.2.0",
            "_view_name": "LayoutView",
            "align_content": null,
            "align_items": null,
            "align_self": null,
            "border": null,
            "bottom": null,
            "display": null,
            "flex": null,
            "flex_flow": null,
            "grid_area": null,
            "grid_auto_columns": null,
            "grid_auto_flow": null,
            "grid_auto_rows": null,
            "grid_column": null,
            "grid_gap": null,
            "grid_row": null,
            "grid_template_areas": null,
            "grid_template_columns": null,
            "grid_template_rows": null,
            "height": null,
            "justify_content": null,
            "justify_items": null,
            "left": null,
            "margin": null,
            "max_height": null,
            "max_width": null,
            "min_height": null,
            "min_width": null,
            "object_fit": null,
            "object_position": null,
            "order": null,
            "overflow": null,
            "overflow_x": null,
            "overflow_y": null,
            "padding": null,
            "right": null,
            "top": null,
            "visibility": null,
            "width": null
          }
        },
        "29e475e429b54883aceda5ab67308c2a": {
          "model_module": "@jupyter-widgets/controls",
          "model_module_version": "1.5.0",
          "model_name": "FloatProgressModel",
          "state": {
            "_dom_classes": [],
            "_model_module": "@jupyter-widgets/controls",
            "_model_module_version": "1.5.0",
            "_model_name": "FloatProgressModel",
            "_view_count": null,
            "_view_module": "@jupyter-widgets/controls",
            "_view_module_version": "1.5.0",
            "_view_name": "ProgressView",
            "bar_style": "danger",
            "description": "",
            "description_tooltip": null,
            "layout": "IPY_MODEL_a0e11c483c554d73a41c739168867798",
            "max": 10,
            "min": 0,
            "orientation": "horizontal",
            "style": "IPY_MODEL_b7db1ecb863d4a688f89b9e1b89f9cd2",
            "value": 0
          }
        },
        "52a21e6bf0774863b85960e7e51c14d7": {
          "model_module": "@jupyter-widgets/base",
          "model_module_version": "1.2.0",
          "model_name": "LayoutModel",
          "state": {
            "_model_module": "@jupyter-widgets/base",
            "_model_module_version": "1.2.0",
            "_model_name": "LayoutModel",
            "_view_count": null,
            "_view_module": "@jupyter-widgets/base",
            "_view_module_version": "1.2.0",
            "_view_name": "LayoutView",
            "align_content": null,
            "align_items": null,
            "align_self": null,
            "border": null,
            "bottom": null,
            "display": null,
            "flex": null,
            "flex_flow": null,
            "grid_area": null,
            "grid_auto_columns": null,
            "grid_auto_flow": null,
            "grid_auto_rows": null,
            "grid_column": null,
            "grid_gap": null,
            "grid_row": null,
            "grid_template_areas": null,
            "grid_template_columns": null,
            "grid_template_rows": null,
            "height": null,
            "justify_content": null,
            "justify_items": null,
            "left": null,
            "margin": null,
            "max_height": null,
            "max_width": null,
            "min_height": null,
            "min_width": null,
            "object_fit": null,
            "object_position": null,
            "order": null,
            "overflow": null,
            "overflow_x": null,
            "overflow_y": null,
            "padding": null,
            "right": null,
            "top": null,
            "visibility": null,
            "width": null
          }
        },
        "8c3d4745c29d49679d53fba216ee8c4d": {
          "model_module": "@jupyter-widgets/controls",
          "model_module_version": "1.5.0",
          "model_name": "HTMLModel",
          "state": {
            "_dom_classes": [],
            "_model_module": "@jupyter-widgets/controls",
            "_model_module_version": "1.5.0",
            "_model_name": "HTMLModel",
            "_view_count": null,
            "_view_module": "@jupyter-widgets/controls",
            "_view_module_version": "1.5.0",
            "_view_name": "HTMLView",
            "description": "",
            "description_tooltip": null,
            "layout": "IPY_MODEL_27ead9acb2c04708950fc325d9d27302",
            "placeholder": "​",
            "style": "IPY_MODEL_f485dc65c0c14d70b5321e681a651469",
            "value": " 0/10 [23:07&lt;?, ?it/s]"
          }
        },
        "a0e11c483c554d73a41c739168867798": {
          "model_module": "@jupyter-widgets/base",
          "model_module_version": "1.2.0",
          "model_name": "LayoutModel",
          "state": {
            "_model_module": "@jupyter-widgets/base",
            "_model_module_version": "1.2.0",
            "_model_name": "LayoutModel",
            "_view_count": null,
            "_view_module": "@jupyter-widgets/base",
            "_view_module_version": "1.2.0",
            "_view_name": "LayoutView",
            "align_content": null,
            "align_items": null,
            "align_self": null,
            "border": null,
            "bottom": null,
            "display": null,
            "flex": null,
            "flex_flow": null,
            "grid_area": null,
            "grid_auto_columns": null,
            "grid_auto_flow": null,
            "grid_auto_rows": null,
            "grid_column": null,
            "grid_gap": null,
            "grid_row": null,
            "grid_template_areas": null,
            "grid_template_columns": null,
            "grid_template_rows": null,
            "height": null,
            "justify_content": null,
            "justify_items": null,
            "left": null,
            "margin": null,
            "max_height": null,
            "max_width": null,
            "min_height": null,
            "min_width": null,
            "object_fit": null,
            "object_position": null,
            "order": null,
            "overflow": null,
            "overflow_x": null,
            "overflow_y": null,
            "padding": null,
            "right": null,
            "top": null,
            "visibility": null,
            "width": null
          }
        },
        "b7db1ecb863d4a688f89b9e1b89f9cd2": {
          "model_module": "@jupyter-widgets/controls",
          "model_module_version": "1.5.0",
          "model_name": "ProgressStyleModel",
          "state": {
            "_model_module": "@jupyter-widgets/controls",
            "_model_module_version": "1.5.0",
            "_model_name": "ProgressStyleModel",
            "_view_count": null,
            "_view_module": "@jupyter-widgets/base",
            "_view_module_version": "1.2.0",
            "_view_name": "StyleView",
            "bar_color": null,
            "description_width": ""
          }
        },
        "db30a7301bcf41e9be4bfd9c43de42dc": {
          "model_module": "@jupyter-widgets/controls",
          "model_module_version": "1.5.0",
          "model_name": "HTMLModel",
          "state": {
            "_dom_classes": [],
            "_model_module": "@jupyter-widgets/controls",
            "_model_module_version": "1.5.0",
            "_model_name": "HTMLModel",
            "_view_count": null,
            "_view_module": "@jupyter-widgets/controls",
            "_view_module_version": "1.5.0",
            "_view_name": "HTMLView",
            "description": "",
            "description_tooltip": null,
            "layout": "IPY_MODEL_52a21e6bf0774863b85960e7e51c14d7",
            "placeholder": "​",
            "style": "IPY_MODEL_1c9c2955a9ca4f4aa4dc33627b69c99e",
            "value": "  0%"
          }
        },
        "ddf32bad96114bd7a4da71e19bee117f": {
          "model_module": "@jupyter-widgets/controls",
          "model_module_version": "1.5.0",
          "model_name": "HBoxModel",
          "state": {
            "_dom_classes": [],
            "_model_module": "@jupyter-widgets/controls",
            "_model_module_version": "1.5.0",
            "_model_name": "HBoxModel",
            "_view_count": null,
            "_view_module": "@jupyter-widgets/controls",
            "_view_module_version": "1.5.0",
            "_view_name": "HBoxView",
            "box_style": "",
            "children": [
              "IPY_MODEL_db30a7301bcf41e9be4bfd9c43de42dc",
              "IPY_MODEL_29e475e429b54883aceda5ab67308c2a",
              "IPY_MODEL_8c3d4745c29d49679d53fba216ee8c4d"
            ],
            "layout": "IPY_MODEL_f0af9449764245e3bedd0fc388c29805"
          }
        },
        "f0af9449764245e3bedd0fc388c29805": {
          "model_module": "@jupyter-widgets/base",
          "model_module_version": "1.2.0",
          "model_name": "LayoutModel",
          "state": {
            "_model_module": "@jupyter-widgets/base",
            "_model_module_version": "1.2.0",
            "_model_name": "LayoutModel",
            "_view_count": null,
            "_view_module": "@jupyter-widgets/base",
            "_view_module_version": "1.2.0",
            "_view_name": "LayoutView",
            "align_content": null,
            "align_items": null,
            "align_self": null,
            "border": null,
            "bottom": null,
            "display": null,
            "flex": null,
            "flex_flow": null,
            "grid_area": null,
            "grid_auto_columns": null,
            "grid_auto_flow": null,
            "grid_auto_rows": null,
            "grid_column": null,
            "grid_gap": null,
            "grid_row": null,
            "grid_template_areas": null,
            "grid_template_columns": null,
            "grid_template_rows": null,
            "height": null,
            "justify_content": null,
            "justify_items": null,
            "left": null,
            "margin": null,
            "max_height": null,
            "max_width": null,
            "min_height": null,
            "min_width": null,
            "object_fit": null,
            "object_position": null,
            "order": null,
            "overflow": null,
            "overflow_x": null,
            "overflow_y": null,
            "padding": null,
            "right": null,
            "top": null,
            "visibility": null,
            "width": null
          }
        },
        "f485dc65c0c14d70b5321e681a651469": {
          "model_module": "@jupyter-widgets/controls",
          "model_module_version": "1.5.0",
          "model_name": "DescriptionStyleModel",
          "state": {
            "_model_module": "@jupyter-widgets/controls",
            "_model_module_version": "1.5.0",
            "_model_name": "DescriptionStyleModel",
            "_view_count": null,
            "_view_module": "@jupyter-widgets/base",
            "_view_module_version": "1.2.0",
            "_view_name": "StyleView",
            "description_width": ""
          }
        },
        "9235986b459b4799b3ef51662f12d743": {
          "model_module": "@jupyter-widgets/controls",
          "model_name": "HBoxModel",
          "model_module_version": "1.5.0",
          "state": {
            "_dom_classes": [],
            "_model_module": "@jupyter-widgets/controls",
            "_model_module_version": "1.5.0",
            "_model_name": "HBoxModel",
            "_view_count": null,
            "_view_module": "@jupyter-widgets/controls",
            "_view_module_version": "1.5.0",
            "_view_name": "HBoxView",
            "box_style": "",
            "children": [
              "IPY_MODEL_35ac86932e774bb5a17ef9cc69c63746",
              "IPY_MODEL_7147712798794e848efac93c486c3935",
              "IPY_MODEL_9fc578e3fd4343d4b5a7de05c08aad83"
            ],
            "layout": "IPY_MODEL_6f7e084dc57f47aca1cb2b256b4a6ee3"
          }
        },
        "35ac86932e774bb5a17ef9cc69c63746": {
          "model_module": "@jupyter-widgets/controls",
          "model_name": "HTMLModel",
          "model_module_version": "1.5.0",
          "state": {
            "_dom_classes": [],
            "_model_module": "@jupyter-widgets/controls",
            "_model_module_version": "1.5.0",
            "_model_name": "HTMLModel",
            "_view_count": null,
            "_view_module": "@jupyter-widgets/controls",
            "_view_module_version": "1.5.0",
            "_view_name": "HTMLView",
            "description": "",
            "description_tooltip": null,
            "layout": "IPY_MODEL_e0b34ec0fddf4924b3318867ea410e40",
            "placeholder": "​",
            "style": "IPY_MODEL_fbdc5151d4c6403ea11b9fb095ca8b8b",
            "value": "  0%"
          }
        },
        "7147712798794e848efac93c486c3935": {
          "model_module": "@jupyter-widgets/controls",
          "model_name": "FloatProgressModel",
          "model_module_version": "1.5.0",
          "state": {
            "_dom_classes": [],
            "_model_module": "@jupyter-widgets/controls",
            "_model_module_version": "1.5.0",
            "_model_name": "FloatProgressModel",
            "_view_count": null,
            "_view_module": "@jupyter-widgets/controls",
            "_view_module_version": "1.5.0",
            "_view_name": "ProgressView",
            "bar_style": "danger",
            "description": "",
            "description_tooltip": null,
            "layout": "IPY_MODEL_768ccc5e17b84607a3d462e2c1c452d9",
            "max": 4,
            "min": 0,
            "orientation": "horizontal",
            "style": "IPY_MODEL_5a142b91016145d38635e82cd57a3c8e",
            "value": 0
          }
        },
        "9fc578e3fd4343d4b5a7de05c08aad83": {
          "model_module": "@jupyter-widgets/controls",
          "model_name": "HTMLModel",
          "model_module_version": "1.5.0",
          "state": {
            "_dom_classes": [],
            "_model_module": "@jupyter-widgets/controls",
            "_model_module_version": "1.5.0",
            "_model_name": "HTMLModel",
            "_view_count": null,
            "_view_module": "@jupyter-widgets/controls",
            "_view_module_version": "1.5.0",
            "_view_name": "HTMLView",
            "description": "",
            "description_tooltip": null,
            "layout": "IPY_MODEL_55b3eed0afed40b8af23f08a706abbef",
            "placeholder": "​",
            "style": "IPY_MODEL_4970b6c9620b4681b49e7e90a0cc1ad6",
            "value": " 0/4 [1:02:11&lt;?, ?it/s]"
          }
        },
        "6f7e084dc57f47aca1cb2b256b4a6ee3": {
          "model_module": "@jupyter-widgets/base",
          "model_name": "LayoutModel",
          "model_module_version": "1.2.0",
          "state": {
            "_model_module": "@jupyter-widgets/base",
            "_model_module_version": "1.2.0",
            "_model_name": "LayoutModel",
            "_view_count": null,
            "_view_module": "@jupyter-widgets/base",
            "_view_module_version": "1.2.0",
            "_view_name": "LayoutView",
            "align_content": null,
            "align_items": null,
            "align_self": null,
            "border": null,
            "bottom": null,
            "display": null,
            "flex": null,
            "flex_flow": null,
            "grid_area": null,
            "grid_auto_columns": null,
            "grid_auto_flow": null,
            "grid_auto_rows": null,
            "grid_column": null,
            "grid_gap": null,
            "grid_row": null,
            "grid_template_areas": null,
            "grid_template_columns": null,
            "grid_template_rows": null,
            "height": null,
            "justify_content": null,
            "justify_items": null,
            "left": null,
            "margin": null,
            "max_height": null,
            "max_width": null,
            "min_height": null,
            "min_width": null,
            "object_fit": null,
            "object_position": null,
            "order": null,
            "overflow": null,
            "overflow_x": null,
            "overflow_y": null,
            "padding": null,
            "right": null,
            "top": null,
            "visibility": null,
            "width": null
          }
        },
        "e0b34ec0fddf4924b3318867ea410e40": {
          "model_module": "@jupyter-widgets/base",
          "model_name": "LayoutModel",
          "model_module_version": "1.2.0",
          "state": {
            "_model_module": "@jupyter-widgets/base",
            "_model_module_version": "1.2.0",
            "_model_name": "LayoutModel",
            "_view_count": null,
            "_view_module": "@jupyter-widgets/base",
            "_view_module_version": "1.2.0",
            "_view_name": "LayoutView",
            "align_content": null,
            "align_items": null,
            "align_self": null,
            "border": null,
            "bottom": null,
            "display": null,
            "flex": null,
            "flex_flow": null,
            "grid_area": null,
            "grid_auto_columns": null,
            "grid_auto_flow": null,
            "grid_auto_rows": null,
            "grid_column": null,
            "grid_gap": null,
            "grid_row": null,
            "grid_template_areas": null,
            "grid_template_columns": null,
            "grid_template_rows": null,
            "height": null,
            "justify_content": null,
            "justify_items": null,
            "left": null,
            "margin": null,
            "max_height": null,
            "max_width": null,
            "min_height": null,
            "min_width": null,
            "object_fit": null,
            "object_position": null,
            "order": null,
            "overflow": null,
            "overflow_x": null,
            "overflow_y": null,
            "padding": null,
            "right": null,
            "top": null,
            "visibility": null,
            "width": null
          }
        },
        "fbdc5151d4c6403ea11b9fb095ca8b8b": {
          "model_module": "@jupyter-widgets/controls",
          "model_name": "DescriptionStyleModel",
          "model_module_version": "1.5.0",
          "state": {
            "_model_module": "@jupyter-widgets/controls",
            "_model_module_version": "1.5.0",
            "_model_name": "DescriptionStyleModel",
            "_view_count": null,
            "_view_module": "@jupyter-widgets/base",
            "_view_module_version": "1.2.0",
            "_view_name": "StyleView",
            "description_width": ""
          }
        },
        "768ccc5e17b84607a3d462e2c1c452d9": {
          "model_module": "@jupyter-widgets/base",
          "model_name": "LayoutModel",
          "model_module_version": "1.2.0",
          "state": {
            "_model_module": "@jupyter-widgets/base",
            "_model_module_version": "1.2.0",
            "_model_name": "LayoutModel",
            "_view_count": null,
            "_view_module": "@jupyter-widgets/base",
            "_view_module_version": "1.2.0",
            "_view_name": "LayoutView",
            "align_content": null,
            "align_items": null,
            "align_self": null,
            "border": null,
            "bottom": null,
            "display": null,
            "flex": null,
            "flex_flow": null,
            "grid_area": null,
            "grid_auto_columns": null,
            "grid_auto_flow": null,
            "grid_auto_rows": null,
            "grid_column": null,
            "grid_gap": null,
            "grid_row": null,
            "grid_template_areas": null,
            "grid_template_columns": null,
            "grid_template_rows": null,
            "height": null,
            "justify_content": null,
            "justify_items": null,
            "left": null,
            "margin": null,
            "max_height": null,
            "max_width": null,
            "min_height": null,
            "min_width": null,
            "object_fit": null,
            "object_position": null,
            "order": null,
            "overflow": null,
            "overflow_x": null,
            "overflow_y": null,
            "padding": null,
            "right": null,
            "top": null,
            "visibility": null,
            "width": null
          }
        },
        "5a142b91016145d38635e82cd57a3c8e": {
          "model_module": "@jupyter-widgets/controls",
          "model_name": "ProgressStyleModel",
          "model_module_version": "1.5.0",
          "state": {
            "_model_module": "@jupyter-widgets/controls",
            "_model_module_version": "1.5.0",
            "_model_name": "ProgressStyleModel",
            "_view_count": null,
            "_view_module": "@jupyter-widgets/base",
            "_view_module_version": "1.2.0",
            "_view_name": "StyleView",
            "bar_color": null,
            "description_width": ""
          }
        },
        "55b3eed0afed40b8af23f08a706abbef": {
          "model_module": "@jupyter-widgets/base",
          "model_name": "LayoutModel",
          "model_module_version": "1.2.0",
          "state": {
            "_model_module": "@jupyter-widgets/base",
            "_model_module_version": "1.2.0",
            "_model_name": "LayoutModel",
            "_view_count": null,
            "_view_module": "@jupyter-widgets/base",
            "_view_module_version": "1.2.0",
            "_view_name": "LayoutView",
            "align_content": null,
            "align_items": null,
            "align_self": null,
            "border": null,
            "bottom": null,
            "display": null,
            "flex": null,
            "flex_flow": null,
            "grid_area": null,
            "grid_auto_columns": null,
            "grid_auto_flow": null,
            "grid_auto_rows": null,
            "grid_column": null,
            "grid_gap": null,
            "grid_row": null,
            "grid_template_areas": null,
            "grid_template_columns": null,
            "grid_template_rows": null,
            "height": null,
            "justify_content": null,
            "justify_items": null,
            "left": null,
            "margin": null,
            "max_height": null,
            "max_width": null,
            "min_height": null,
            "min_width": null,
            "object_fit": null,
            "object_position": null,
            "order": null,
            "overflow": null,
            "overflow_x": null,
            "overflow_y": null,
            "padding": null,
            "right": null,
            "top": null,
            "visibility": null,
            "width": null
          }
        },
        "4970b6c9620b4681b49e7e90a0cc1ad6": {
          "model_module": "@jupyter-widgets/controls",
          "model_name": "DescriptionStyleModel",
          "model_module_version": "1.5.0",
          "state": {
            "_model_module": "@jupyter-widgets/controls",
            "_model_module_version": "1.5.0",
            "_model_name": "DescriptionStyleModel",
            "_view_count": null,
            "_view_module": "@jupyter-widgets/base",
            "_view_module_version": "1.2.0",
            "_view_name": "StyleView",
            "description_width": ""
          }
        }
      }
    }
  },
  "nbformat": 4,
  "nbformat_minor": 0
}