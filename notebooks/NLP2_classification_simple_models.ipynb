{
  "cells": [
    {
      "cell_type": "markdown",
      "metadata": {
        "id": "Bz_C_zm2sdE0"
      },
      "source": [
        "# Загрузка библиотек"
      ]
    },
    {
      "cell_type": "code",
      "execution_count": null,
      "metadata": {
        "colab": {
          "base_uri": "https://localhost:8080/"
        },
        "id": "6Jw7pD-noDpq",
        "outputId": "7b4b352c-2288-46b6-83d2-f7a27081cbf8"
      },
      "outputs": [
        {
          "output_type": "stream",
          "name": "stdout",
          "text": [
            "\u001b[2K     \u001b[90m━━━━━━━━━━━━━━━━━━━━━━━━━━━━━━━━━━━━━━━━\u001b[0m \u001b[32m413.4/413.4 kB\u001b[0m \u001b[31m4.0 MB/s\u001b[0m eta \u001b[36m0:00:00\u001b[0m\n",
            "\u001b[2K     \u001b[90m━━━━━━━━━━━━━━━━━━━━━━━━━━━━━━━━━━━━━━━━\u001b[0m \u001b[32m233.4/233.4 kB\u001b[0m \u001b[31m6.2 MB/s\u001b[0m eta \u001b[36m0:00:00\u001b[0m\n",
            "\u001b[2K     \u001b[90m━━━━━━━━━━━━━━━━━━━━━━━━━━━━━━━━━━━━━━━━\u001b[0m \u001b[32m78.6/78.6 kB\u001b[0m \u001b[31m5.7 MB/s\u001b[0m eta \u001b[36m0:00:00\u001b[0m\n",
            "\u001b[2K     \u001b[90m━━━━━━━━━━━━━━━━━━━━━━━━━━━━━━━━━━━━━━━━\u001b[0m \u001b[32m34.4/34.4 MB\u001b[0m \u001b[31m20.4 MB/s\u001b[0m eta \u001b[36m0:00:00\u001b[0m\n",
            "\u001b[2K     \u001b[90m━━━━━━━━━━━━━━━━━━━━━━━━━━━━━━━━━━━━━━━━\u001b[0m \u001b[32m55.5/55.5 kB\u001b[0m \u001b[31m2.4 MB/s\u001b[0m eta \u001b[36m0:00:00\u001b[0m\n",
            "\u001b[2K     \u001b[90m━━━━━━━━━━━━━━━━━━━━━━━━━━━━━━━━━━━━━━━━\u001b[0m \u001b[32m46.7/46.7 kB\u001b[0m \u001b[31m3.3 MB/s\u001b[0m eta \u001b[36m0:00:00\u001b[0m\n",
            "\u001b[?25h  Preparing metadata (setup.py) ... \u001b[?25l\u001b[?25hdone\n",
            "\u001b[2K     \u001b[90m━━━━━━━━━━━━━━━━━━━━━━━━━━━━━━━━━━━━━━━━\u001b[0m \u001b[32m8.2/8.2 MB\u001b[0m \u001b[31m38.5 MB/s\u001b[0m eta \u001b[36m0:00:00\u001b[0m\n",
            "\u001b[?25h  Preparing metadata (setup.py) ... \u001b[?25l\u001b[?25hdone\n",
            "  Building wheel for docopt (setup.py) ... \u001b[?25l\u001b[?25hdone\n",
            "  Building wheel for intervaltree (setup.py) ... \u001b[?25l\u001b[?25hdone\n"
          ]
        }
      ],
      "source": [
        "!pip install optuna -q\n",
        "!pip install natasha -q"
      ]
    },
    {
      "cell_type": "code",
      "execution_count": null,
      "metadata": {
        "colab": {
          "base_uri": "https://localhost:8080/"
        },
        "id": "aEAQCKcILUJi",
        "outputId": "2763547c-047d-4ca3-fd99-ec3a1307f44a"
      },
      "outputs": [
        {
          "output_type": "stream",
          "name": "stderr",
          "text": [
            "[nltk_data] Downloading package stopwords to /root/nltk_data...\n",
            "[nltk_data]   Unzipping corpora/stopwords.zip.\n"
          ]
        }
      ],
      "source": [
        "import pandas as pd\n",
        "import numpy as np\n",
        "\n",
        "# from sklearn.model_selection import GridSearchCV, RandomizedSearchCV\n",
        "from sklearn.model_selection import KFold, StratifiedKFold\n",
        "from sklearn.model_selection import train_test_split\n",
        "from sklearn.preprocessing import OneHotEncoder, MinMaxScaler, StandardScaler, LabelEncoder\n",
        "from sklearn.model_selection import GridSearchCV, RandomizedSearchCV\n",
        "# from catboost import CatBoostClassifier, CatBoostRegressor, Pool\n",
        "import lightgbm as lgb\n",
        "from lightgbm import LGBMRegressor, early_stopping, Dataset, LGBMClassifier\n",
        "import xgboost as xgb\n",
        "from xgboost import XGBClassifier\n",
        "\n",
        "from sklearn.metrics import accuracy_score\n",
        "from sklearn.metrics import balanced_accuracy_score\n",
        "\n",
        "import optuna\n",
        "# from optuna.integration import CatBoostPruningCallback\n",
        "\n",
        "import seaborn as sns\n",
        "import datetime\n",
        "from wordcloud import WordCloud, STOPWORDS\n",
        "\n",
        "import nltk\n",
        "from nltk.corpus import stopwords\n",
        "nltk.download(\"stopwords\")\n",
        "\n",
        "# sns.set(style=\"darkgrid\")\n",
        "# %matplotlib inline\n",
        "\n",
        "import warnings\n",
        "warnings.simplefilter('ignore')\n",
        "\n",
        "from collections import defaultdict\n",
        "from sklearn.feature_extraction.text import TfidfVectorizer\n",
        "from sklearn.linear_model import LogisticRegression\n",
        "from sklearn.pipeline import Pipeline\n",
        "from sklearn.metrics import classification_report\n",
        "from sklearn.naive_bayes import MultinomialNB\n",
        "from sklearn.svm import SVC\n",
        "\n",
        "import gensim.downloader\n",
        "from gensim.models import Word2Vec, KeyedVectors\n",
        "from gensim.models.fasttext import FastText\n",
        "from natasha import Doc, Segmenter, MorphVocab, NewsEmbedding, NewsMorphTagger\n",
        "\n",
        "# import mlxtend\n",
        "# from mlxtend.evaluate import paired_ttest_kfold_cv\n",
        "\n",
        "# from plotly.offline import iplot\n",
        "# import cufflinks as cf\n",
        "# cf.go_offline()\n",
        "# cf.set_config_file(offline=False, world_readable=True)\n",
        "\n",
        "# treat all python warnings as lower-level \"ignore\" events\n",
        "# warnings.filterwarnings(\"ignore\")"
      ]
    },
    {
      "cell_type": "markdown",
      "metadata": {
        "id": "F8mSAvwVw4HI"
      },
      "source": [
        "фонтанка, лента, риа, дзен?"
      ]
    },
    {
      "cell_type": "code",
      "source": [
        "df_test = pd.read_csv('/content/test_news.csv')"
      ],
      "metadata": {
        "id": "06Wn6hat_i23"
      },
      "execution_count": null,
      "outputs": []
    },
    {
      "cell_type": "code",
      "source": [
        "df_test"
      ],
      "metadata": {
        "colab": {
          "base_uri": "https://localhost:8080/",
          "height": 424
        },
        "id": "MqP2DwzbEztX",
        "outputId": "48914bb6-a6f0-4419-fd3f-72377cb6dae5"
      },
      "execution_count": null,
      "outputs": [
        {
          "output_type": "execute_result",
          "data": {
            "text/plain": [
              "                                                 content\n",
              "0      Фото: «Фонтанка.ру»ПоделитьсяЭкс-министру обор...\n",
              "1      В начале февраля 2023 года в Пушкинском районе...\n",
              "2      Фото: Andy Bao / Getty Images Анастасия Борисо...\n",
              "3      Если вы хотели, но так и не съездили на море л...\n",
              "4      Сергей Пиняев Фото: Алексей Филиппов / РИА Нов...\n",
              "...                                                  ...\n",
              "26270  Фото: РИА Новости Алевтина Запольская Главное ...\n",
              "26271  Вадим Гутцайт Фото: Sergei CHUZAVKOV / Europea...\n",
              "26272  Фото: Олег Харсеев / Коммерсантъ Александр Кур...\n",
              "26273  Владимир Зеленский Фото: Yves Herman / Reuters...\n",
              "26274  Фото: President of the Republic of Azerbaijan ...\n",
              "\n",
              "[26275 rows x 1 columns]"
            ],
            "text/html": [
              "\n",
              "  <div id=\"df-85cd078e-e09f-4393-9af7-a789e7a5de74\" class=\"colab-df-container\">\n",
              "    <div>\n",
              "<style scoped>\n",
              "    .dataframe tbody tr th:only-of-type {\n",
              "        vertical-align: middle;\n",
              "    }\n",
              "\n",
              "    .dataframe tbody tr th {\n",
              "        vertical-align: top;\n",
              "    }\n",
              "\n",
              "    .dataframe thead th {\n",
              "        text-align: right;\n",
              "    }\n",
              "</style>\n",
              "<table border=\"1\" class=\"dataframe\">\n",
              "  <thead>\n",
              "    <tr style=\"text-align: right;\">\n",
              "      <th></th>\n",
              "      <th>content</th>\n",
              "    </tr>\n",
              "  </thead>\n",
              "  <tbody>\n",
              "    <tr>\n",
              "      <th>0</th>\n",
              "      <td>Фото: «Фонтанка.ру»ПоделитьсяЭкс-министру обор...</td>\n",
              "    </tr>\n",
              "    <tr>\n",
              "      <th>1</th>\n",
              "      <td>В начале февраля 2023 года в Пушкинском районе...</td>\n",
              "    </tr>\n",
              "    <tr>\n",
              "      <th>2</th>\n",
              "      <td>Фото: Andy Bao / Getty Images Анастасия Борисо...</td>\n",
              "    </tr>\n",
              "    <tr>\n",
              "      <th>3</th>\n",
              "      <td>Если вы хотели, но так и не съездили на море л...</td>\n",
              "    </tr>\n",
              "    <tr>\n",
              "      <th>4</th>\n",
              "      <td>Сергей Пиняев Фото: Алексей Филиппов / РИА Нов...</td>\n",
              "    </tr>\n",
              "    <tr>\n",
              "      <th>...</th>\n",
              "      <td>...</td>\n",
              "    </tr>\n",
              "    <tr>\n",
              "      <th>26270</th>\n",
              "      <td>Фото: РИА Новости Алевтина Запольская Главное ...</td>\n",
              "    </tr>\n",
              "    <tr>\n",
              "      <th>26271</th>\n",
              "      <td>Вадим Гутцайт Фото: Sergei CHUZAVKOV / Europea...</td>\n",
              "    </tr>\n",
              "    <tr>\n",
              "      <th>26272</th>\n",
              "      <td>Фото: Олег Харсеев / Коммерсантъ Александр Кур...</td>\n",
              "    </tr>\n",
              "    <tr>\n",
              "      <th>26273</th>\n",
              "      <td>Владимир Зеленский Фото: Yves Herman / Reuters...</td>\n",
              "    </tr>\n",
              "    <tr>\n",
              "      <th>26274</th>\n",
              "      <td>Фото: President of the Republic of Azerbaijan ...</td>\n",
              "    </tr>\n",
              "  </tbody>\n",
              "</table>\n",
              "<p>26275 rows × 1 columns</p>\n",
              "</div>\n",
              "    <div class=\"colab-df-buttons\">\n",
              "\n",
              "  <div class=\"colab-df-container\">\n",
              "    <button class=\"colab-df-convert\" onclick=\"convertToInteractive('df-85cd078e-e09f-4393-9af7-a789e7a5de74')\"\n",
              "            title=\"Convert this dataframe to an interactive table.\"\n",
              "            style=\"display:none;\">\n",
              "\n",
              "  <svg xmlns=\"http://www.w3.org/2000/svg\" height=\"24px\" viewBox=\"0 -960 960 960\">\n",
              "    <path d=\"M120-120v-720h720v720H120Zm60-500h600v-160H180v160Zm220 220h160v-160H400v160Zm0 220h160v-160H400v160ZM180-400h160v-160H180v160Zm440 0h160v-160H620v160ZM180-180h160v-160H180v160Zm440 0h160v-160H620v160Z\"/>\n",
              "  </svg>\n",
              "    </button>\n",
              "\n",
              "  <style>\n",
              "    .colab-df-container {\n",
              "      display:flex;\n",
              "      gap: 12px;\n",
              "    }\n",
              "\n",
              "    .colab-df-convert {\n",
              "      background-color: #E8F0FE;\n",
              "      border: none;\n",
              "      border-radius: 50%;\n",
              "      cursor: pointer;\n",
              "      display: none;\n",
              "      fill: #1967D2;\n",
              "      height: 32px;\n",
              "      padding: 0 0 0 0;\n",
              "      width: 32px;\n",
              "    }\n",
              "\n",
              "    .colab-df-convert:hover {\n",
              "      background-color: #E2EBFA;\n",
              "      box-shadow: 0px 1px 2px rgba(60, 64, 67, 0.3), 0px 1px 3px 1px rgba(60, 64, 67, 0.15);\n",
              "      fill: #174EA6;\n",
              "    }\n",
              "\n",
              "    .colab-df-buttons div {\n",
              "      margin-bottom: 4px;\n",
              "    }\n",
              "\n",
              "    [theme=dark] .colab-df-convert {\n",
              "      background-color: #3B4455;\n",
              "      fill: #D2E3FC;\n",
              "    }\n",
              "\n",
              "    [theme=dark] .colab-df-convert:hover {\n",
              "      background-color: #434B5C;\n",
              "      box-shadow: 0px 1px 3px 1px rgba(0, 0, 0, 0.15);\n",
              "      filter: drop-shadow(0px 1px 2px rgba(0, 0, 0, 0.3));\n",
              "      fill: #FFFFFF;\n",
              "    }\n",
              "  </style>\n",
              "\n",
              "    <script>\n",
              "      const buttonEl =\n",
              "        document.querySelector('#df-85cd078e-e09f-4393-9af7-a789e7a5de74 button.colab-df-convert');\n",
              "      buttonEl.style.display =\n",
              "        google.colab.kernel.accessAllowed ? 'block' : 'none';\n",
              "\n",
              "      async function convertToInteractive(key) {\n",
              "        const element = document.querySelector('#df-85cd078e-e09f-4393-9af7-a789e7a5de74');\n",
              "        const dataTable =\n",
              "          await google.colab.kernel.invokeFunction('convertToInteractive',\n",
              "                                                    [key], {});\n",
              "        if (!dataTable) return;\n",
              "\n",
              "        const docLinkHtml = 'Like what you see? Visit the ' +\n",
              "          '<a target=\"_blank\" href=https://colab.research.google.com/notebooks/data_table.ipynb>data table notebook</a>'\n",
              "          + ' to learn more about interactive tables.';\n",
              "        element.innerHTML = '';\n",
              "        dataTable['output_type'] = 'display_data';\n",
              "        await google.colab.output.renderOutput(dataTable, element);\n",
              "        const docLink = document.createElement('div');\n",
              "        docLink.innerHTML = docLinkHtml;\n",
              "        element.appendChild(docLink);\n",
              "      }\n",
              "    </script>\n",
              "  </div>\n",
              "\n",
              "\n",
              "<div id=\"df-0c157605-831f-4742-beac-686cb90026c6\">\n",
              "  <button class=\"colab-df-quickchart\" onclick=\"quickchart('df-0c157605-831f-4742-beac-686cb90026c6')\"\n",
              "            title=\"Suggest charts\"\n",
              "            style=\"display:none;\">\n",
              "\n",
              "<svg xmlns=\"http://www.w3.org/2000/svg\" height=\"24px\"viewBox=\"0 0 24 24\"\n",
              "     width=\"24px\">\n",
              "    <g>\n",
              "        <path d=\"M19 3H5c-1.1 0-2 .9-2 2v14c0 1.1.9 2 2 2h14c1.1 0 2-.9 2-2V5c0-1.1-.9-2-2-2zM9 17H7v-7h2v7zm4 0h-2V7h2v10zm4 0h-2v-4h2v4z\"/>\n",
              "    </g>\n",
              "</svg>\n",
              "  </button>\n",
              "\n",
              "<style>\n",
              "  .colab-df-quickchart {\n",
              "      --bg-color: #E8F0FE;\n",
              "      --fill-color: #1967D2;\n",
              "      --hover-bg-color: #E2EBFA;\n",
              "      --hover-fill-color: #174EA6;\n",
              "      --disabled-fill-color: #AAA;\n",
              "      --disabled-bg-color: #DDD;\n",
              "  }\n",
              "\n",
              "  [theme=dark] .colab-df-quickchart {\n",
              "      --bg-color: #3B4455;\n",
              "      --fill-color: #D2E3FC;\n",
              "      --hover-bg-color: #434B5C;\n",
              "      --hover-fill-color: #FFFFFF;\n",
              "      --disabled-bg-color: #3B4455;\n",
              "      --disabled-fill-color: #666;\n",
              "  }\n",
              "\n",
              "  .colab-df-quickchart {\n",
              "    background-color: var(--bg-color);\n",
              "    border: none;\n",
              "    border-radius: 50%;\n",
              "    cursor: pointer;\n",
              "    display: none;\n",
              "    fill: var(--fill-color);\n",
              "    height: 32px;\n",
              "    padding: 0;\n",
              "    width: 32px;\n",
              "  }\n",
              "\n",
              "  .colab-df-quickchart:hover {\n",
              "    background-color: var(--hover-bg-color);\n",
              "    box-shadow: 0 1px 2px rgba(60, 64, 67, 0.3), 0 1px 3px 1px rgba(60, 64, 67, 0.15);\n",
              "    fill: var(--button-hover-fill-color);\n",
              "  }\n",
              "\n",
              "  .colab-df-quickchart-complete:disabled,\n",
              "  .colab-df-quickchart-complete:disabled:hover {\n",
              "    background-color: var(--disabled-bg-color);\n",
              "    fill: var(--disabled-fill-color);\n",
              "    box-shadow: none;\n",
              "  }\n",
              "\n",
              "  .colab-df-spinner {\n",
              "    border: 2px solid var(--fill-color);\n",
              "    border-color: transparent;\n",
              "    border-bottom-color: var(--fill-color);\n",
              "    animation:\n",
              "      spin 1s steps(1) infinite;\n",
              "  }\n",
              "\n",
              "  @keyframes spin {\n",
              "    0% {\n",
              "      border-color: transparent;\n",
              "      border-bottom-color: var(--fill-color);\n",
              "      border-left-color: var(--fill-color);\n",
              "    }\n",
              "    20% {\n",
              "      border-color: transparent;\n",
              "      border-left-color: var(--fill-color);\n",
              "      border-top-color: var(--fill-color);\n",
              "    }\n",
              "    30% {\n",
              "      border-color: transparent;\n",
              "      border-left-color: var(--fill-color);\n",
              "      border-top-color: var(--fill-color);\n",
              "      border-right-color: var(--fill-color);\n",
              "    }\n",
              "    40% {\n",
              "      border-color: transparent;\n",
              "      border-right-color: var(--fill-color);\n",
              "      border-top-color: var(--fill-color);\n",
              "    }\n",
              "    60% {\n",
              "      border-color: transparent;\n",
              "      border-right-color: var(--fill-color);\n",
              "    }\n",
              "    80% {\n",
              "      border-color: transparent;\n",
              "      border-right-color: var(--fill-color);\n",
              "      border-bottom-color: var(--fill-color);\n",
              "    }\n",
              "    90% {\n",
              "      border-color: transparent;\n",
              "      border-bottom-color: var(--fill-color);\n",
              "    }\n",
              "  }\n",
              "</style>\n",
              "\n",
              "  <script>\n",
              "    async function quickchart(key) {\n",
              "      const quickchartButtonEl =\n",
              "        document.querySelector('#' + key + ' button');\n",
              "      quickchartButtonEl.disabled = true;  // To prevent multiple clicks.\n",
              "      quickchartButtonEl.classList.add('colab-df-spinner');\n",
              "      try {\n",
              "        const charts = await google.colab.kernel.invokeFunction(\n",
              "            'suggestCharts', [key], {});\n",
              "      } catch (error) {\n",
              "        console.error('Error during call to suggestCharts:', error);\n",
              "      }\n",
              "      quickchartButtonEl.classList.remove('colab-df-spinner');\n",
              "      quickchartButtonEl.classList.add('colab-df-quickchart-complete');\n",
              "    }\n",
              "    (() => {\n",
              "      let quickchartButtonEl =\n",
              "        document.querySelector('#df-0c157605-831f-4742-beac-686cb90026c6 button');\n",
              "      quickchartButtonEl.style.display =\n",
              "        google.colab.kernel.accessAllowed ? 'block' : 'none';\n",
              "    })();\n",
              "  </script>\n",
              "</div>\n",
              "    </div>\n",
              "  </div>\n"
            ]
          },
          "metadata": {},
          "execution_count": 5
        }
      ]
    },
    {
      "cell_type": "code",
      "source": [
        "df_test.iloc[18773].content"
      ],
      "metadata": {
        "colab": {
          "base_uri": "https://localhost:8080/",
          "height": 140
        },
        "id": "zZXiJ7ahHsem",
        "outputId": "86639839-a8a0-407c-fa2b-6ef0d88e572c"
      },
      "execution_count": null,
      "outputs": [
        {
          "output_type": "execute_result",
          "data": {
            "text/plain": [
              "'Фото: Юрий Мартьянов / «Коммерсантъ» Платон Щукин В Deloitte объяснили причины нежелания российских компаний выходить на IPO, размещая акции на бирже. По словам топ-менеджера Deloitte Екатерины Трофимовой, во многом это связано с тем, что фирмы не хотят много о себе рассказывать и принимать на себя риски, связанные с публичностью. Об этом она рассказала РБК. «Многие ищут недостижимого компромисса: давайте мы на рынок выйдем, но ничего не расскажем и, если что, вообще быстро уйдем с рынка. Закрытость, опасения, что публичность может поставить их в уязвимое положение, связанные прямые и косвенные расходы — все это среди прочего сдерживает приток IPO», — объяснила она. Как стало известно ранее, в российском правительстве задумались об увеличении числа IPO. В числе предложений, которые прорабатывало Минэкономразвития, — освобождение от налогов розничных инвесторов, которые захотят поучаствовать в IPO, и помощь компаниям, которые решат пойти на биржу.'"
            ],
            "application/vnd.google.colaboratory.intrinsic+json": {
              "type": "string"
            }
          },
          "metadata": {},
          "execution_count": 14
        }
      ]
    },
    {
      "cell_type": "code",
      "source": [
        "df_test.iloc[26270].content"
      ],
      "metadata": {
        "colab": {
          "base_uri": "https://localhost:8080/",
          "height": 140
        },
        "id": "AHIbcazHE8NY",
        "outputId": "d8cd2527-958b-439e-b5ed-fd26e0453583"
      },
      "execution_count": null,
      "outputs": [
        {
          "output_type": "execute_result",
          "data": {
            "text/plain": [
              "'Фото: РИА Новости Алевтина Запольская Главное управление разведки (ГУР) Министерства обороны Украины подтвердило причастность к убийству депутата Народного совета (НС) и бывшего начальника управления Народной милиции ЛНР полковника Михаила Филипоненко. Об этом говорится в сообщении ГУР в Telegram. 8 ноября стало известно, что в Луганске взорвали автомобиль, в котором находился Филипоненко. Теракт был совершен у дома полковника. По версии ГУР, Филипоненко якобы был причастен к организации пыточных на территории ЛНР. «Специальная операция по ликвидации палача Филипоненко была реализована совместно с представителями движения сопротивления», — говорится в сообщении ведомства. Ранее глава ГУР Кирилл Буданов подтвердил причастность украинской разведки к подрывам медийных лиц в России. По данным издания The Washington Post, ведомство организовало убийство российской журналистки Дарьи Дугиной и военкора Владлена Татарского.'"
            ],
            "application/vnd.google.colaboratory.intrinsic+json": {
              "type": "string"
            }
          },
          "metadata": {},
          "execution_count": 8
        }
      ]
    },
    {
      "cell_type": "markdown",
      "metadata": {
        "id": "Nur52VsuXALf"
      },
      "source": [
        "# Загрузка данных"
      ]
    },
    {
      "cell_type": "code",
      "execution_count": null,
      "metadata": {
        "id": "U-wrKeMiWwrI"
      },
      "outputs": [],
      "source": [
        "# настроим отображение колонок\n",
        "pd.set_option('max_colwidth', 120)\n",
        "pd.set_option('display.width', 500)"
      ]
    },
    {
      "cell_type": "code",
      "execution_count": null,
      "metadata": {
        "colab": {
          "base_uri": "https://localhost:8080/"
        },
        "id": "glyHtS7Axdae",
        "outputId": "c94102da-eff2-4070-e82f-064134e889a6"
      },
      "outputs": [
        {
          "output_type": "stream",
          "name": "stdout",
          "text": [
            "Mounted at /content/drive\n"
          ]
        }
      ],
      "source": [
        "from google.colab import drive\n",
        "drive.mount('/content/drive')"
      ]
    },
    {
      "cell_type": "code",
      "execution_count": null,
      "metadata": {
        "id": "uXwPGGqH0yOP"
      },
      "outputs": [],
      "source": [
        "# общий датасет собирался из трёх. Можно запустить эту часть кода и уже работать с разделом modeling\n",
        "# либо собрать датасет заново (разделы ниже)\n",
        "# тогда потребуется работать с новым собранным датасетом и изменить путь path_train\n",
        "\n",
        "class Paths:\n",
        "    path_train = '/content/drive/MyDrive/competitions/NLP2.0/data/parsing_data/df_4_corr.csv'\n",
        "    path_test = '/content/drive/MyDrive/competitions/NLP2.0/data/test_news.csv'\n",
        "    path_sub = '/content/drive/MyDrive/competitions/NLP2.0/data/base_submission_news.csv'\n",
        "\n",
        "paths = Paths()"
      ]
    },
    {
      "cell_type": "markdown",
      "metadata": {
        "id": "HwBSFmdmHJhs"
      },
      "source": [
        "# Modeling"
      ]
    },
    {
      "cell_type": "markdown",
      "metadata": {
        "id": "Vfn64yPelMx-"
      },
      "source": [
        "## Уменьшение размера"
      ]
    },
    {
      "cell_type": "code",
      "execution_count": null,
      "metadata": {
        "colab": {
          "base_uri": "https://localhost:8080/"
        },
        "id": "Tde19s5XFp07",
        "outputId": "62f19f30-0e70-454d-d8d2-82829e77e161"
      },
      "outputs": [
        {
          "output_type": "stream",
          "name": "stdout",
          "text": [
            "train\n",
            "Memory usage of dataframe is 0.92 MB\n",
            "Memory usage after optimization is: 0.57 MB\n",
            "Decreased by 37.5%\n",
            "--------------------------------------------------------------------------------\n",
            "test\n",
            "Memory usage of dataframe is 0.20 MB\n",
            "Memory usage after optimization is: 0.20 MB\n",
            "Decreased by 0.0%\n"
          ]
        }
      ],
      "source": [
        "def reduce_mem_usage(df):\n",
        "    \"\"\" iterate through all the columns of a dataframe and modify the data type\n",
        "        to reduce memory usage.\n",
        "    \"\"\"\n",
        "    start_mem = df.memory_usage().sum() / 1024**2\n",
        "    print('Memory usage of dataframe is {:.2f} MB'.format(start_mem))\n",
        "\n",
        "    for col in df.columns:\n",
        "        col_type = df[col].dtype\n",
        "\n",
        "        if col_type != object:\n",
        "            c_min = df[col].min()\n",
        "            c_max = df[col].max()\n",
        "            if str(col_type)[:3] == 'int':\n",
        "                if c_min > np.iinfo(np.int8).min and c_max < np.iinfo(np.int8).max:\n",
        "                    df[col] = df[col].astype(np.int8)\n",
        "                elif c_min > np.iinfo(np.int16).min and c_max < np.iinfo(np.int16).max:\n",
        "                    df[col] = df[col].astype(np.int16)\n",
        "                elif c_min > np.iinfo(np.int32).min and c_max < np.iinfo(np.int32).max:\n",
        "                    df[col] = df[col].astype(np.int32)\n",
        "                elif c_min > np.iinfo(np.int64).min and c_max < np.iinfo(np.int64).max:\n",
        "                    df[col] = df[col].astype(np.int64)\n",
        "            else:\n",
        "                if c_min > np.finfo(np.float16).min and c_max < np.finfo(np.float16).max:\n",
        "                    df[col] = df[col].astype(np.float16)\n",
        "                elif c_min > np.finfo(np.float32).min and c_max < np.finfo(np.float32).max:\n",
        "                    df[col] = df[col].astype(np.float32)\n",
        "                else:\n",
        "                    df[col] = df[col].astype(np.float64)\n",
        "        # else:\n",
        "        #     df[col] = df[col].astype('category')\n",
        "\n",
        "    end_mem = df.memory_usage().sum() / 1024**2\n",
        "    print('Memory usage after optimization is: {:.2f} MB'.format(end_mem))\n",
        "    print('Decreased by {:.1f}%'.format(100 * (start_mem - end_mem) / start_mem))\n",
        "\n",
        "    return df\n",
        "\n",
        "def import_data(file):\n",
        "    \"\"\"create a dataframe and optimize its memory usage\"\"\"\n",
        "    df = pd.read_csv(file, parse_dates=True, keep_date_col=True)\n",
        "    df = reduce_mem_usage(df)\n",
        "    return df\n",
        "\n",
        "\n",
        "print('train')\n",
        "train = import_data(paths.path_train)\n",
        "\n",
        "print('-' * 80)\n",
        "print('test')\n",
        "test = import_data(paths.path_test)"
      ]
    },
    {
      "cell_type": "markdown",
      "metadata": {
        "id": "CpzZQxjClUQT"
      },
      "source": [
        "## Фильтрация фич"
      ]
    },
    {
      "cell_type": "code",
      "execution_count": null,
      "metadata": {
        "id": "qz7EHcszGQ44"
      },
      "outputs": [],
      "source": [
        "cat_features = ['content']\n",
        "text_features = ['content']\n",
        "cat_features_indxs = [1]\n",
        "targets = ['topic']\n",
        "\n",
        "filtered_features = [i for i in train.columns if (i not in targets)]"
      ]
    },
    {
      "cell_type": "code",
      "execution_count": null,
      "metadata": {
        "colab": {
          "base_uri": "https://localhost:8080/"
        },
        "id": "nbBlcxTlGqnw",
        "outputId": "bc0d3330-1ee9-4af3-ed1c-d72b3a0c6041"
      },
      "outputs": [
        {
          "output_type": "stream",
          "name": "stdout",
          "text": [
            "train shape = (59001, 2),  test shape = (26275, 1)\n",
            "train, test is null: (False, False)\n"
          ]
        }
      ],
      "source": [
        "# Удаляем дубли\n",
        "train.drop_duplicates(inplace=True)\n",
        "# Удаляем пропуски\n",
        "train.dropna(inplace=True)\n",
        "\n",
        "print(f'train shape = {train.shape},  test shape = {test.shape}')\n",
        "print(f'train, test is null: {train.isna().any().any(), test.isna().any().any()}')"
      ]
    },
    {
      "cell_type": "markdown",
      "metadata": {
        "id": "3ZGx43Ea1pOh"
      },
      "source": [
        "## Разделение на фичи и признаки"
      ]
    },
    {
      "cell_type": "code",
      "execution_count": null,
      "metadata": {
        "id": "j9hcY9ZvYBAo"
      },
      "outputs": [],
      "source": [
        "# X = train[filtered_features].drop(targets, axis=1, errors=\"ignore\")\n",
        "# y = train[\"topic\"]"
      ]
    },
    {
      "cell_type": "code",
      "execution_count": null,
      "metadata": {
        "id": "UXrIoFe4vqix"
      },
      "outputs": [],
      "source": [
        "# X = X[: 1000]\n",
        "# y = y[: 1000]"
      ]
    },
    {
      "cell_type": "code",
      "execution_count": null,
      "metadata": {
        "id": "dluwHRXVv47T"
      },
      "outputs": [],
      "source": [
        "# X.shape, y.shape"
      ]
    },
    {
      "cell_type": "markdown",
      "metadata": {
        "id": "9Z5yDpAElnCe"
      },
      "source": [
        "## Фиксируем значения"
      ]
    },
    {
      "cell_type": "code",
      "execution_count": null,
      "metadata": {
        "id": "pi6WELirYMIv"
      },
      "outputs": [],
      "source": [
        "RND_STATE = 7575\n",
        "N_EST = 1000\n",
        "sampler = optuna.samplers.TPESampler(seed=RND_STATE)"
      ]
    },
    {
      "cell_type": "code",
      "execution_count": null,
      "metadata": {
        "id": "NUlXZ8Z-nLmP"
      },
      "outputs": [],
      "source": [
        "# with open(f'model_{0}.pkl', \"wb\") as f:\n",
        "#         pickle.dump(clf_1, f)"
      ]
    },
    {
      "cell_type": "code",
      "execution_count": null,
      "metadata": {
        "id": "-P1NO2xk4wjO"
      },
      "outputs": [],
      "source": [
        "# from optuna.integration import CatBoostPruningCallback, LightGBMPruningCallback, XGBoostPruningCallback\n",
        "# from optuna.integration.pytorch_lightning import PyTorchLightningPruningCallback\n",
        "# # optuna.logging.set_verbosity(optuna.logging.WARNING)\n",
        "# # optuna.logging.set_verbosity(optuna.logging.ERROR)"
      ]
    },
    {
      "cell_type": "markdown",
      "metadata": {
        "id": "IZs5GX1oYMlf"
      },
      "source": [
        "# Предобработка текстов."
      ]
    },
    {
      "cell_type": "code",
      "execution_count": null,
      "metadata": {
        "id": "STn9R7MTsgDQ"
      },
      "outputs": [],
      "source": [
        "# X = train[filtered_features].drop(targets, axis=1, errors=\"ignore\")\n",
        "# y = train[\"topic\"]"
      ]
    },
    {
      "cell_type": "code",
      "execution_count": null,
      "metadata": {
        "id": "1ty_VXvs1jBA"
      },
      "outputs": [],
      "source": [
        "segmenter = Segmenter()\n",
        "morph_vocab = MorphVocab()\n",
        "emb = NewsEmbedding()\n",
        "morph_tagger = NewsMorphTagger(emb)"
      ]
    },
    {
      "cell_type": "code",
      "execution_count": null,
      "metadata": {
        "id": "zrYn21xN8z8P"
      },
      "outputs": [],
      "source": [
        "stop_words = stopwords.words('russian')\n",
        "stop_words.extend(['что', 'это', 'так',\n",
        "                    'вот', 'быть', 'как',\n",
        "                    'в', '—', 'к', 'за', 'из', 'из-за',\n",
        "                    'на', 'ок', 'кстати',\n",
        "                    'который', 'мочь', 'весь',\n",
        "                    'еще', 'также', 'свой',\n",
        "                    'ещё', 'самый', 'ул', 'комментарий',\n",
        "                    'английский', 'язык'])"
      ]
    },
    {
      "cell_type": "markdown",
      "metadata": {
        "id": "RSF6JBB3YU7j"
      },
      "source": [
        "Функция для обработки текстов."
      ]
    },
    {
      "cell_type": "code",
      "execution_count": null,
      "metadata": {
        "id": "3vMvtX0c1mub"
      },
      "outputs": [],
      "source": [
        "def text_prep(text) -> str:\n",
        "    doc = Doc(text)\n",
        "    doc.segment(segmenter)\n",
        "    doc.tag_morph(morph_tagger)\n",
        "\n",
        "    for token in doc.tokens:\n",
        "        token.lemmatize(morph_vocab)\n",
        "\n",
        "    lemmas = [_.lemma for _ in doc.tokens]\n",
        "    words = [lemma for lemma in lemmas if lemma.isalpha() and len(lemma) > 2]\n",
        "    filtered_words = [word for word in words if word not in stop_words]\n",
        "    return \" \".join(filtered_words)"
      ]
    },
    {
      "cell_type": "markdown",
      "metadata": {
        "id": "OiAEVyJguec6"
      },
      "source": [
        "Обработаем тексты обучения и теста."
      ]
    },
    {
      "cell_type": "code",
      "execution_count": null,
      "metadata": {
        "colab": {
          "base_uri": "https://localhost:8080/"
        },
        "id": "1H6QDKKC2FQL",
        "outputId": "09d13ea6-c58f-4102-e446-f375ce7010b5"
      },
      "outputs": [
        {
          "name": "stdout",
          "output_type": "stream",
          "text": [
            "CPU times: user 32min 7s, sys: 19min 9s, total: 51min 16s\n",
            "Wall time: 31min 25s\n"
          ]
        }
      ],
      "source": [
        "%%time\n",
        "train['content_clean'] = train.content.apply(text_prep)"
      ]
    },
    {
      "cell_type": "code",
      "execution_count": null,
      "metadata": {
        "colab": {
          "base_uri": "https://localhost:8080/"
        },
        "id": "Ae5Bpr3sukJn",
        "outputId": "c70894cb-0686-4b49-a26c-7e27b4418ba5"
      },
      "outputs": [
        {
          "name": "stdout",
          "output_type": "stream",
          "text": [
            "CPU times: user 32min 58s, sys: 19min 10s, total: 52min 8s\n",
            "Wall time: 32min 15s\n"
          ]
        }
      ],
      "source": [
        "%%time\n",
        "test['content_clean'] = test.content.apply(text_prep)"
      ]
    },
    {
      "cell_type": "code",
      "execution_count": null,
      "metadata": {
        "id": "pDH65sms0xv5"
      },
      "outputs": [],
      "source": [
        "# train.to_csv('train_prep_2.csv', index=False)\n",
        "# test.to_csv('test_prep.csv', index=False)"
      ]
    },
    {
      "cell_type": "code",
      "execution_count": null,
      "metadata": {
        "colab": {
          "base_uri": "https://localhost:8080/",
          "height": 380
        },
        "id": "M1YdJShf0KAp",
        "outputId": "102f94b6-471c-4262-9888-2d9ec643c607"
      },
      "outputs": [
        {
          "data": {
            "text/html": [
              "\n",
              "  <div id=\"df-f96b4a54-2318-44e2-b31a-190dab9b3fe4\" class=\"colab-df-container\">\n",
              "    <div>\n",
              "<style scoped>\n",
              "    .dataframe tbody tr th:only-of-type {\n",
              "        vertical-align: middle;\n",
              "    }\n",
              "\n",
              "    .dataframe tbody tr th {\n",
              "        vertical-align: top;\n",
              "    }\n",
              "\n",
              "    .dataframe thead th {\n",
              "        text-align: right;\n",
              "    }\n",
              "</style>\n",
              "<table border=\"1\" class=\"dataframe\">\n",
              "  <thead>\n",
              "    <tr style=\"text-align: right;\">\n",
              "      <th></th>\n",
              "      <th>content</th>\n",
              "      <th>topic</th>\n",
              "      <th>content_clean</th>\n",
              "    </tr>\n",
              "  </thead>\n",
              "  <tbody>\n",
              "    <tr>\n",
              "      <th>0</th>\n",
              "      <td>Поклонники Гарри Поттера со всего мира смотрят спецэпизод, приуроченный к 20-летию самой волшебной франшизы. 1 январ...</td>\n",
              "      <td>0</td>\n",
              "      <td>поклонник гарри поттер мир смотреть спецэпизод приурочить волшебный франшиза январь документальный фильм секрет созд...</td>\n",
              "    </tr>\n",
              "    <tr>\n",
              "      <th>1</th>\n",
              "      <td>Египетский курорт засыпало градом 1 января. В некоторых районах он был крупным и причинял прохожим боль. Фото и виде...</td>\n",
              "      <td>0</td>\n",
              "      <td>египетский курорт засыпало град январь некоторый район крупный причинять прохожий боль фото видео курорт опубликоват...</td>\n",
              "    </tr>\n",
              "    <tr>\n",
              "      <th>2</th>\n",
              "      <td>Главное управление по Краснодарскому краю МЧС России 1 января выпустило экстренное предупреждение по лавиноопасности...</td>\n",
              "      <td>0</td>\n",
              "      <td>главный управление краснодарский край мчс россия январь выпустить экстренный предупреждение лавиноопасность информац...</td>\n",
              "    </tr>\n",
              "    <tr>\n",
              "      <th>3</th>\n",
              "      <td>В новогоднюю ночь в родильных домах Петербурга и акушерских отделениях городских больниц на свет появились 34 младен...</td>\n",
              "      <td>0</td>\n",
              "      <td>новогодний ночь родильный дом петербург акушерский отделение городской больница свет появиться младенец сообщить смо...</td>\n",
              "    </tr>\n",
              "    <tr>\n",
              "      <th>4</th>\n",
              "      <td>Договор с названием RCEP (Regional Comprehensive Economic Partnership, или Всестороннее региональное экономическое п...</td>\n",
              "      <td>0</td>\n",
              "      <td>договор название rcep regional comprehensive economic partnership всесторонний региональный экономический партнерств...</td>\n",
              "    </tr>\n",
              "  </tbody>\n",
              "</table>\n",
              "</div>\n",
              "    <div class=\"colab-df-buttons\">\n",
              "\n",
              "  <div class=\"colab-df-container\">\n",
              "    <button class=\"colab-df-convert\" onclick=\"convertToInteractive('df-f96b4a54-2318-44e2-b31a-190dab9b3fe4')\"\n",
              "            title=\"Convert this dataframe to an interactive table.\"\n",
              "            style=\"display:none;\">\n",
              "\n",
              "  <svg xmlns=\"http://www.w3.org/2000/svg\" height=\"24px\" viewBox=\"0 -960 960 960\">\n",
              "    <path d=\"M120-120v-720h720v720H120Zm60-500h600v-160H180v160Zm220 220h160v-160H400v160Zm0 220h160v-160H400v160ZM180-400h160v-160H180v160Zm440 0h160v-160H620v160ZM180-180h160v-160H180v160Zm440 0h160v-160H620v160Z\"/>\n",
              "  </svg>\n",
              "    </button>\n",
              "\n",
              "  <style>\n",
              "    .colab-df-container {\n",
              "      display:flex;\n",
              "      gap: 12px;\n",
              "    }\n",
              "\n",
              "    .colab-df-convert {\n",
              "      background-color: #E8F0FE;\n",
              "      border: none;\n",
              "      border-radius: 50%;\n",
              "      cursor: pointer;\n",
              "      display: none;\n",
              "      fill: #1967D2;\n",
              "      height: 32px;\n",
              "      padding: 0 0 0 0;\n",
              "      width: 32px;\n",
              "    }\n",
              "\n",
              "    .colab-df-convert:hover {\n",
              "      background-color: #E2EBFA;\n",
              "      box-shadow: 0px 1px 2px rgba(60, 64, 67, 0.3), 0px 1px 3px 1px rgba(60, 64, 67, 0.15);\n",
              "      fill: #174EA6;\n",
              "    }\n",
              "\n",
              "    .colab-df-buttons div {\n",
              "      margin-bottom: 4px;\n",
              "    }\n",
              "\n",
              "    [theme=dark] .colab-df-convert {\n",
              "      background-color: #3B4455;\n",
              "      fill: #D2E3FC;\n",
              "    }\n",
              "\n",
              "    [theme=dark] .colab-df-convert:hover {\n",
              "      background-color: #434B5C;\n",
              "      box-shadow: 0px 1px 3px 1px rgba(0, 0, 0, 0.15);\n",
              "      filter: drop-shadow(0px 1px 2px rgba(0, 0, 0, 0.3));\n",
              "      fill: #FFFFFF;\n",
              "    }\n",
              "  </style>\n",
              "\n",
              "    <script>\n",
              "      const buttonEl =\n",
              "        document.querySelector('#df-f96b4a54-2318-44e2-b31a-190dab9b3fe4 button.colab-df-convert');\n",
              "      buttonEl.style.display =\n",
              "        google.colab.kernel.accessAllowed ? 'block' : 'none';\n",
              "\n",
              "      async function convertToInteractive(key) {\n",
              "        const element = document.querySelector('#df-f96b4a54-2318-44e2-b31a-190dab9b3fe4');\n",
              "        const dataTable =\n",
              "          await google.colab.kernel.invokeFunction('convertToInteractive',\n",
              "                                                    [key], {});\n",
              "        if (!dataTable) return;\n",
              "\n",
              "        const docLinkHtml = 'Like what you see? Visit the ' +\n",
              "          '<a target=\"_blank\" href=https://colab.research.google.com/notebooks/data_table.ipynb>data table notebook</a>'\n",
              "          + ' to learn more about interactive tables.';\n",
              "        element.innerHTML = '';\n",
              "        dataTable['output_type'] = 'display_data';\n",
              "        await google.colab.output.renderOutput(dataTable, element);\n",
              "        const docLink = document.createElement('div');\n",
              "        docLink.innerHTML = docLinkHtml;\n",
              "        element.appendChild(docLink);\n",
              "      }\n",
              "    </script>\n",
              "  </div>\n",
              "\n",
              "\n",
              "<div id=\"df-8bd021b0-0d35-4ebf-a9d0-85751e128f96\">\n",
              "  <button class=\"colab-df-quickchart\" onclick=\"quickchart('df-8bd021b0-0d35-4ebf-a9d0-85751e128f96')\"\n",
              "            title=\"Suggest charts\"\n",
              "            style=\"display:none;\">\n",
              "\n",
              "<svg xmlns=\"http://www.w3.org/2000/svg\" height=\"24px\"viewBox=\"0 0 24 24\"\n",
              "     width=\"24px\">\n",
              "    <g>\n",
              "        <path d=\"M19 3H5c-1.1 0-2 .9-2 2v14c0 1.1.9 2 2 2h14c1.1 0 2-.9 2-2V5c0-1.1-.9-2-2-2zM9 17H7v-7h2v7zm4 0h-2V7h2v10zm4 0h-2v-4h2v4z\"/>\n",
              "    </g>\n",
              "</svg>\n",
              "  </button>\n",
              "\n",
              "<style>\n",
              "  .colab-df-quickchart {\n",
              "      --bg-color: #E8F0FE;\n",
              "      --fill-color: #1967D2;\n",
              "      --hover-bg-color: #E2EBFA;\n",
              "      --hover-fill-color: #174EA6;\n",
              "      --disabled-fill-color: #AAA;\n",
              "      --disabled-bg-color: #DDD;\n",
              "  }\n",
              "\n",
              "  [theme=dark] .colab-df-quickchart {\n",
              "      --bg-color: #3B4455;\n",
              "      --fill-color: #D2E3FC;\n",
              "      --hover-bg-color: #434B5C;\n",
              "      --hover-fill-color: #FFFFFF;\n",
              "      --disabled-bg-color: #3B4455;\n",
              "      --disabled-fill-color: #666;\n",
              "  }\n",
              "\n",
              "  .colab-df-quickchart {\n",
              "    background-color: var(--bg-color);\n",
              "    border: none;\n",
              "    border-radius: 50%;\n",
              "    cursor: pointer;\n",
              "    display: none;\n",
              "    fill: var(--fill-color);\n",
              "    height: 32px;\n",
              "    padding: 0;\n",
              "    width: 32px;\n",
              "  }\n",
              "\n",
              "  .colab-df-quickchart:hover {\n",
              "    background-color: var(--hover-bg-color);\n",
              "    box-shadow: 0 1px 2px rgba(60, 64, 67, 0.3), 0 1px 3px 1px rgba(60, 64, 67, 0.15);\n",
              "    fill: var(--button-hover-fill-color);\n",
              "  }\n",
              "\n",
              "  .colab-df-quickchart-complete:disabled,\n",
              "  .colab-df-quickchart-complete:disabled:hover {\n",
              "    background-color: var(--disabled-bg-color);\n",
              "    fill: var(--disabled-fill-color);\n",
              "    box-shadow: none;\n",
              "  }\n",
              "\n",
              "  .colab-df-spinner {\n",
              "    border: 2px solid var(--fill-color);\n",
              "    border-color: transparent;\n",
              "    border-bottom-color: var(--fill-color);\n",
              "    animation:\n",
              "      spin 1s steps(1) infinite;\n",
              "  }\n",
              "\n",
              "  @keyframes spin {\n",
              "    0% {\n",
              "      border-color: transparent;\n",
              "      border-bottom-color: var(--fill-color);\n",
              "      border-left-color: var(--fill-color);\n",
              "    }\n",
              "    20% {\n",
              "      border-color: transparent;\n",
              "      border-left-color: var(--fill-color);\n",
              "      border-top-color: var(--fill-color);\n",
              "    }\n",
              "    30% {\n",
              "      border-color: transparent;\n",
              "      border-left-color: var(--fill-color);\n",
              "      border-top-color: var(--fill-color);\n",
              "      border-right-color: var(--fill-color);\n",
              "    }\n",
              "    40% {\n",
              "      border-color: transparent;\n",
              "      border-right-color: var(--fill-color);\n",
              "      border-top-color: var(--fill-color);\n",
              "    }\n",
              "    60% {\n",
              "      border-color: transparent;\n",
              "      border-right-color: var(--fill-color);\n",
              "    }\n",
              "    80% {\n",
              "      border-color: transparent;\n",
              "      border-right-color: var(--fill-color);\n",
              "      border-bottom-color: var(--fill-color);\n",
              "    }\n",
              "    90% {\n",
              "      border-color: transparent;\n",
              "      border-bottom-color: var(--fill-color);\n",
              "    }\n",
              "  }\n",
              "</style>\n",
              "\n",
              "  <script>\n",
              "    async function quickchart(key) {\n",
              "      const quickchartButtonEl =\n",
              "        document.querySelector('#' + key + ' button');\n",
              "      quickchartButtonEl.disabled = true;  // To prevent multiple clicks.\n",
              "      quickchartButtonEl.classList.add('colab-df-spinner');\n",
              "      try {\n",
              "        const charts = await google.colab.kernel.invokeFunction(\n",
              "            'suggestCharts', [key], {});\n",
              "      } catch (error) {\n",
              "        console.error('Error during call to suggestCharts:', error);\n",
              "      }\n",
              "      quickchartButtonEl.classList.remove('colab-df-spinner');\n",
              "      quickchartButtonEl.classList.add('colab-df-quickchart-complete');\n",
              "    }\n",
              "    (() => {\n",
              "      let quickchartButtonEl =\n",
              "        document.querySelector('#df-8bd021b0-0d35-4ebf-a9d0-85751e128f96 button');\n",
              "      quickchartButtonEl.style.display =\n",
              "        google.colab.kernel.accessAllowed ? 'block' : 'none';\n",
              "    })();\n",
              "  </script>\n",
              "</div>\n",
              "    </div>\n",
              "  </div>\n"
            ],
            "text/plain": [
              "                                                                                                                   content  topic                                                                                                            content_clean\n",
              "0  Поклонники Гарри Поттера со всего мира смотрят спецэпизод, приуроченный к 20-летию самой волшебной франшизы. 1 январ...      0  поклонник гарри поттер мир смотреть спецэпизод приурочить волшебный франшиза январь документальный фильм секрет созд...\n",
              "1  Египетский курорт засыпало градом 1 января. В некоторых районах он был крупным и причинял прохожим боль. Фото и виде...      0  египетский курорт засыпало град январь некоторый район крупный причинять прохожий боль фото видео курорт опубликоват...\n",
              "2  Главное управление по Краснодарскому краю МЧС России 1 января выпустило экстренное предупреждение по лавиноопасности...      0  главный управление краснодарский край мчс россия январь выпустить экстренный предупреждение лавиноопасность информац...\n",
              "3  В новогоднюю ночь в родильных домах Петербурга и акушерских отделениях городских больниц на свет появились 34 младен...      0  новогодний ночь родильный дом петербург акушерский отделение городской больница свет появиться младенец сообщить смо...\n",
              "4  Договор с названием RCEP (Regional Comprehensive Economic Partnership, или Всестороннее региональное экономическое п...      0  договор название rcep regional comprehensive economic partnership всесторонний региональный экономический партнерств..."
            ]
          },
          "execution_count": 21,
          "metadata": {},
          "output_type": "execute_result"
        }
      ],
      "source": [
        "train.head()"
      ]
    },
    {
      "cell_type": "markdown",
      "metadata": {
        "id": "CChpsn-PPDDL"
      },
      "source": [
        "## Загрузка"
      ]
    },
    {
      "cell_type": "markdown",
      "metadata": {
        "id": "ViW58q__Yehv"
      },
      "source": [
        "Сравнение изначального текста и текста после предобработки."
      ]
    },
    {
      "cell_type": "code",
      "execution_count": null,
      "metadata": {
        "id": "0U_upW5xn6_4"
      },
      "outputs": [],
      "source": [
        "train = pd.read_csv('/content/drive/MyDrive/competitions/NLP2.0/data/prep_data/train_prep_3_with_ria.csv')\n",
        "test = pd.read_csv('/content/drive/MyDrive/competitions/NLP2.0/data/prep_data/test_prep.csv', encoding='utf-8')"
      ]
    },
    {
      "cell_type": "code",
      "execution_count": null,
      "metadata": {
        "id": "z1mzeTq8YE2n"
      },
      "outputs": [],
      "source": [
        "X_train, X_test, y_train, y_test = train_test_split(df.content_clean.str.split(),\n",
        "                                                    df.topic,#.values,\n",
        "                                                    test_size=0.2,\n",
        "                                                    random_state=RND_STATE)"
      ]
    },
    {
      "cell_type": "code",
      "source": [
        "X_train.head()"
      ],
      "metadata": {
        "colab": {
          "base_uri": "https://localhost:8080/"
        },
        "id": "b95h_LzgpEdq",
        "outputId": "5143cb8a-44d8-40aa-c474-548b131d0817"
      },
      "execution_count": null,
      "outputs": [
        {
          "output_type": "execute_result",
          "data": {
            "text/plain": [
              "3154     [кремль, видеть, кадр, пожар, якобы, крейсер, ...\n",
              "7534     [указ, введение, режим, повысить, готовность, ...\n",
              "19433    [фото, иван, кальминг, коммерсантъ, украинский...\n",
              "56812    [кадр, shot, зураб, дарахвелидзе, сеть, появит...\n",
              "56075    [фото, maksim, konstantinov, globallookpress, ...\n",
              "Name: content_clean, dtype: object"
            ]
          },
          "metadata": {},
          "execution_count": 13
        }
      ]
    },
    {
      "cell_type": "code",
      "source": [
        "df = pd.read_csv('/content/drive/MyDrive/competitions/NLP2.0/tmp_data/train_prep_2.csv')\n",
        "    # path_testw2v = '/content/drive/MyDrive/competitions/NLP2.0/tmp_data/test_prep.csv'"
      ],
      "metadata": {
        "id": "w5oJJrN-pYD5"
      },
      "execution_count": null,
      "outputs": []
    },
    {
      "cell_type": "code",
      "source": [
        "df.head()"
      ],
      "metadata": {
        "colab": {
          "base_uri": "https://localhost:8080/",
          "height": 206
        },
        "id": "8mAV6J-Opfz5",
        "outputId": "af85384c-2741-4849-c6c5-aabf1427ca72"
      },
      "execution_count": null,
      "outputs": [
        {
          "output_type": "execute_result",
          "data": {
            "text/plain": [
              "                                             content  topic  \\\n",
              "0  Поклонники Гарри Поттера со всего мира смотрят...      0   \n",
              "1  Египетский курорт засыпало градом 1 января. В ...      0   \n",
              "2  Главное управление по Краснодарскому краю МЧС ...      0   \n",
              "3  В новогоднюю ночь в родильных домах Петербурга...      0   \n",
              "4  Договор с названием RCEP (Regional Comprehensi...      0   \n",
              "\n",
              "                                       content_clean  \n",
              "0  поклонник гарри поттер мир смотреть спецэпизод...  \n",
              "1  египетский курорт засыпало град январь некотор...  \n",
              "2  главный управление краснодарский край мчс росс...  \n",
              "3  новогодний ночь родильный дом петербург акушер...  \n",
              "4  договор название rcep regional comprehensive e...  "
            ],
            "text/html": [
              "\n",
              "  <div id=\"df-f4664b2e-37f4-4bbb-9ae7-7d40cd3d08c0\" class=\"colab-df-container\">\n",
              "    <div>\n",
              "<style scoped>\n",
              "    .dataframe tbody tr th:only-of-type {\n",
              "        vertical-align: middle;\n",
              "    }\n",
              "\n",
              "    .dataframe tbody tr th {\n",
              "        vertical-align: top;\n",
              "    }\n",
              "\n",
              "    .dataframe thead th {\n",
              "        text-align: right;\n",
              "    }\n",
              "</style>\n",
              "<table border=\"1\" class=\"dataframe\">\n",
              "  <thead>\n",
              "    <tr style=\"text-align: right;\">\n",
              "      <th></th>\n",
              "      <th>content</th>\n",
              "      <th>topic</th>\n",
              "      <th>content_clean</th>\n",
              "    </tr>\n",
              "  </thead>\n",
              "  <tbody>\n",
              "    <tr>\n",
              "      <th>0</th>\n",
              "      <td>Поклонники Гарри Поттера со всего мира смотрят...</td>\n",
              "      <td>0</td>\n",
              "      <td>поклонник гарри поттер мир смотреть спецэпизод...</td>\n",
              "    </tr>\n",
              "    <tr>\n",
              "      <th>1</th>\n",
              "      <td>Египетский курорт засыпало градом 1 января. В ...</td>\n",
              "      <td>0</td>\n",
              "      <td>египетский курорт засыпало град январь некотор...</td>\n",
              "    </tr>\n",
              "    <tr>\n",
              "      <th>2</th>\n",
              "      <td>Главное управление по Краснодарскому краю МЧС ...</td>\n",
              "      <td>0</td>\n",
              "      <td>главный управление краснодарский край мчс росс...</td>\n",
              "    </tr>\n",
              "    <tr>\n",
              "      <th>3</th>\n",
              "      <td>В новогоднюю ночь в родильных домах Петербурга...</td>\n",
              "      <td>0</td>\n",
              "      <td>новогодний ночь родильный дом петербург акушер...</td>\n",
              "    </tr>\n",
              "    <tr>\n",
              "      <th>4</th>\n",
              "      <td>Договор с названием RCEP (Regional Comprehensi...</td>\n",
              "      <td>0</td>\n",
              "      <td>договор название rcep regional comprehensive e...</td>\n",
              "    </tr>\n",
              "  </tbody>\n",
              "</table>\n",
              "</div>\n",
              "    <div class=\"colab-df-buttons\">\n",
              "\n",
              "  <div class=\"colab-df-container\">\n",
              "    <button class=\"colab-df-convert\" onclick=\"convertToInteractive('df-f4664b2e-37f4-4bbb-9ae7-7d40cd3d08c0')\"\n",
              "            title=\"Convert this dataframe to an interactive table.\"\n",
              "            style=\"display:none;\">\n",
              "\n",
              "  <svg xmlns=\"http://www.w3.org/2000/svg\" height=\"24px\" viewBox=\"0 -960 960 960\">\n",
              "    <path d=\"M120-120v-720h720v720H120Zm60-500h600v-160H180v160Zm220 220h160v-160H400v160Zm0 220h160v-160H400v160ZM180-400h160v-160H180v160Zm440 0h160v-160H620v160ZM180-180h160v-160H180v160Zm440 0h160v-160H620v160Z\"/>\n",
              "  </svg>\n",
              "    </button>\n",
              "\n",
              "  <style>\n",
              "    .colab-df-container {\n",
              "      display:flex;\n",
              "      gap: 12px;\n",
              "    }\n",
              "\n",
              "    .colab-df-convert {\n",
              "      background-color: #E8F0FE;\n",
              "      border: none;\n",
              "      border-radius: 50%;\n",
              "      cursor: pointer;\n",
              "      display: none;\n",
              "      fill: #1967D2;\n",
              "      height: 32px;\n",
              "      padding: 0 0 0 0;\n",
              "      width: 32px;\n",
              "    }\n",
              "\n",
              "    .colab-df-convert:hover {\n",
              "      background-color: #E2EBFA;\n",
              "      box-shadow: 0px 1px 2px rgba(60, 64, 67, 0.3), 0px 1px 3px 1px rgba(60, 64, 67, 0.15);\n",
              "      fill: #174EA6;\n",
              "    }\n",
              "\n",
              "    .colab-df-buttons div {\n",
              "      margin-bottom: 4px;\n",
              "    }\n",
              "\n",
              "    [theme=dark] .colab-df-convert {\n",
              "      background-color: #3B4455;\n",
              "      fill: #D2E3FC;\n",
              "    }\n",
              "\n",
              "    [theme=dark] .colab-df-convert:hover {\n",
              "      background-color: #434B5C;\n",
              "      box-shadow: 0px 1px 3px 1px rgba(0, 0, 0, 0.15);\n",
              "      filter: drop-shadow(0px 1px 2px rgba(0, 0, 0, 0.3));\n",
              "      fill: #FFFFFF;\n",
              "    }\n",
              "  </style>\n",
              "\n",
              "    <script>\n",
              "      const buttonEl =\n",
              "        document.querySelector('#df-f4664b2e-37f4-4bbb-9ae7-7d40cd3d08c0 button.colab-df-convert');\n",
              "      buttonEl.style.display =\n",
              "        google.colab.kernel.accessAllowed ? 'block' : 'none';\n",
              "\n",
              "      async function convertToInteractive(key) {\n",
              "        const element = document.querySelector('#df-f4664b2e-37f4-4bbb-9ae7-7d40cd3d08c0');\n",
              "        const dataTable =\n",
              "          await google.colab.kernel.invokeFunction('convertToInteractive',\n",
              "                                                    [key], {});\n",
              "        if (!dataTable) return;\n",
              "\n",
              "        const docLinkHtml = 'Like what you see? Visit the ' +\n",
              "          '<a target=\"_blank\" href=https://colab.research.google.com/notebooks/data_table.ipynb>data table notebook</a>'\n",
              "          + ' to learn more about interactive tables.';\n",
              "        element.innerHTML = '';\n",
              "        dataTable['output_type'] = 'display_data';\n",
              "        await google.colab.output.renderOutput(dataTable, element);\n",
              "        const docLink = document.createElement('div');\n",
              "        docLink.innerHTML = docLinkHtml;\n",
              "        element.appendChild(docLink);\n",
              "      }\n",
              "    </script>\n",
              "  </div>\n",
              "\n",
              "\n",
              "<div id=\"df-96ef80fa-73da-4289-8277-04de89ed1d26\">\n",
              "  <button class=\"colab-df-quickchart\" onclick=\"quickchart('df-96ef80fa-73da-4289-8277-04de89ed1d26')\"\n",
              "            title=\"Suggest charts\"\n",
              "            style=\"display:none;\">\n",
              "\n",
              "<svg xmlns=\"http://www.w3.org/2000/svg\" height=\"24px\"viewBox=\"0 0 24 24\"\n",
              "     width=\"24px\">\n",
              "    <g>\n",
              "        <path d=\"M19 3H5c-1.1 0-2 .9-2 2v14c0 1.1.9 2 2 2h14c1.1 0 2-.9 2-2V5c0-1.1-.9-2-2-2zM9 17H7v-7h2v7zm4 0h-2V7h2v10zm4 0h-2v-4h2v4z\"/>\n",
              "    </g>\n",
              "</svg>\n",
              "  </button>\n",
              "\n",
              "<style>\n",
              "  .colab-df-quickchart {\n",
              "      --bg-color: #E8F0FE;\n",
              "      --fill-color: #1967D2;\n",
              "      --hover-bg-color: #E2EBFA;\n",
              "      --hover-fill-color: #174EA6;\n",
              "      --disabled-fill-color: #AAA;\n",
              "      --disabled-bg-color: #DDD;\n",
              "  }\n",
              "\n",
              "  [theme=dark] .colab-df-quickchart {\n",
              "      --bg-color: #3B4455;\n",
              "      --fill-color: #D2E3FC;\n",
              "      --hover-bg-color: #434B5C;\n",
              "      --hover-fill-color: #FFFFFF;\n",
              "      --disabled-bg-color: #3B4455;\n",
              "      --disabled-fill-color: #666;\n",
              "  }\n",
              "\n",
              "  .colab-df-quickchart {\n",
              "    background-color: var(--bg-color);\n",
              "    border: none;\n",
              "    border-radius: 50%;\n",
              "    cursor: pointer;\n",
              "    display: none;\n",
              "    fill: var(--fill-color);\n",
              "    height: 32px;\n",
              "    padding: 0;\n",
              "    width: 32px;\n",
              "  }\n",
              "\n",
              "  .colab-df-quickchart:hover {\n",
              "    background-color: var(--hover-bg-color);\n",
              "    box-shadow: 0 1px 2px rgba(60, 64, 67, 0.3), 0 1px 3px 1px rgba(60, 64, 67, 0.15);\n",
              "    fill: var(--button-hover-fill-color);\n",
              "  }\n",
              "\n",
              "  .colab-df-quickchart-complete:disabled,\n",
              "  .colab-df-quickchart-complete:disabled:hover {\n",
              "    background-color: var(--disabled-bg-color);\n",
              "    fill: var(--disabled-fill-color);\n",
              "    box-shadow: none;\n",
              "  }\n",
              "\n",
              "  .colab-df-spinner {\n",
              "    border: 2px solid var(--fill-color);\n",
              "    border-color: transparent;\n",
              "    border-bottom-color: var(--fill-color);\n",
              "    animation:\n",
              "      spin 1s steps(1) infinite;\n",
              "  }\n",
              "\n",
              "  @keyframes spin {\n",
              "    0% {\n",
              "      border-color: transparent;\n",
              "      border-bottom-color: var(--fill-color);\n",
              "      border-left-color: var(--fill-color);\n",
              "    }\n",
              "    20% {\n",
              "      border-color: transparent;\n",
              "      border-left-color: var(--fill-color);\n",
              "      border-top-color: var(--fill-color);\n",
              "    }\n",
              "    30% {\n",
              "      border-color: transparent;\n",
              "      border-left-color: var(--fill-color);\n",
              "      border-top-color: var(--fill-color);\n",
              "      border-right-color: var(--fill-color);\n",
              "    }\n",
              "    40% {\n",
              "      border-color: transparent;\n",
              "      border-right-color: var(--fill-color);\n",
              "      border-top-color: var(--fill-color);\n",
              "    }\n",
              "    60% {\n",
              "      border-color: transparent;\n",
              "      border-right-color: var(--fill-color);\n",
              "    }\n",
              "    80% {\n",
              "      border-color: transparent;\n",
              "      border-right-color: var(--fill-color);\n",
              "      border-bottom-color: var(--fill-color);\n",
              "    }\n",
              "    90% {\n",
              "      border-color: transparent;\n",
              "      border-bottom-color: var(--fill-color);\n",
              "    }\n",
              "  }\n",
              "</style>\n",
              "\n",
              "  <script>\n",
              "    async function quickchart(key) {\n",
              "      const quickchartButtonEl =\n",
              "        document.querySelector('#' + key + ' button');\n",
              "      quickchartButtonEl.disabled = true;  // To prevent multiple clicks.\n",
              "      quickchartButtonEl.classList.add('colab-df-spinner');\n",
              "      try {\n",
              "        const charts = await google.colab.kernel.invokeFunction(\n",
              "            'suggestCharts', [key], {});\n",
              "      } catch (error) {\n",
              "        console.error('Error during call to suggestCharts:', error);\n",
              "      }\n",
              "      quickchartButtonEl.classList.remove('colab-df-spinner');\n",
              "      quickchartButtonEl.classList.add('colab-df-quickchart-complete');\n",
              "    }\n",
              "    (() => {\n",
              "      let quickchartButtonEl =\n",
              "        document.querySelector('#df-96ef80fa-73da-4289-8277-04de89ed1d26 button');\n",
              "      quickchartButtonEl.style.display =\n",
              "        google.colab.kernel.accessAllowed ? 'block' : 'none';\n",
              "    })();\n",
              "  </script>\n",
              "</div>\n",
              "    </div>\n",
              "  </div>\n"
            ]
          },
          "metadata": {},
          "execution_count": 16
        }
      ]
    },
    {
      "cell_type": "code",
      "execution_count": null,
      "metadata": {
        "id": "FoYe1qrBphpA"
      },
      "outputs": [],
      "source": [
        "# train.sample(1)[['content', 'content_clean']].values"
      ]
    },
    {
      "cell_type": "code",
      "execution_count": null,
      "metadata": {
        "id": "DdWBuhUtuSCQ"
      },
      "outputs": [],
      "source": [
        "# train.head()"
      ]
    },
    {
      "cell_type": "markdown",
      "metadata": {
        "id": "kjwyHxVp2Juf"
      },
      "source": [
        "# Simple 3 pipe"
      ]
    },
    {
      "cell_type": "markdown",
      "metadata": {
        "id": "jgpXtO817Wl4"
      },
      "source": [
        "Изначально думал сразу в один пайплайн поставить и обработку текста и подготовку и обучение. Но решил отказаться от этой идеи из-за времени обучения."
      ]
    },
    {
      "cell_type": "code",
      "execution_count": null,
      "metadata": {
        "id": "C7ZPaapa2K5p"
      },
      "outputs": [],
      "source": [
        "# class SelectColumnsNormalizeTransformer():\n",
        "#     def __init__(self, columns=None):\n",
        "#         self.columns = columns\n",
        "\n",
        "#     def fit(self, X, y=None, **fit_params):\n",
        "#         return self\n",
        "\n",
        "#     def transform(self, X, **transform_params):\n",
        "#         doc = Doc(X[self.columns])\n",
        "#         doc.segment(segmenter)\n",
        "#         doc.tag_morph(morph_tagger)\n",
        "\n",
        "#         for token in doc.tokens:\n",
        "#             token.lemmatize(morph_vocab)\n",
        "\n",
        "#         lemmas = [_.lemma for _ in doc.tokens]\n",
        "#         words = [lemma for lemma in lemmas if lemma.isalpha() and len(lemma) > 2]\n",
        "#         filtered_words = [word for word in words if word not in stop_words]\n",
        "#         return \" \".join(filtered_words)\n",
        "#         # return corpus\n",
        "\n",
        "# pipe_tf_idf = Pipeline([\n",
        "#     ('col_selector', SelectColumnsNormalizeTransformer('content')),\n",
        "#     ('tfidf', TfidfVectorizer())\n",
        "#     ])"
      ]
    },
    {
      "cell_type": "code",
      "execution_count": null,
      "metadata": {
        "id": "FLVZJNv49U9O"
      },
      "outputs": [],
      "source": [
        "# from sklearn.pipeline import Pipeline\n",
        "# from mlxtend.feature_selection import ColumnSelector\n",
        "# from sklearn.feature_extraction.text import TfidfVectorizer\n",
        "# from sklearn.naive_bayes import BernoulliNB\n",
        "\n",
        "\n",
        "\n",
        "\n",
        "\n",
        "# Bernoulli_pipe = Pipeline([\n",
        "#     ('col_selector', ColumnSelector(cols=('text'),drop_axis=True)),\n",
        "#     ('tfidf', TfidfVectorizer()),\n",
        "#     ('scaler', StandardScaler()),\n",
        "#     ('bernoulli', BernoulliNB()),\n",
        "# ])\n",
        "\n",
        "\n",
        "# Bernoulli_pipe.fit(X_, y_le)"
      ]
    },
    {
      "cell_type": "markdown",
      "metadata": {
        "id": "pRJJSSbr_IWy"
      },
      "source": [
        "# Simple models"
      ]
    },
    {
      "cell_type": "code",
      "execution_count": null,
      "metadata": {
        "id": "t_DAIQfhyX30"
      },
      "outputs": [],
      "source": [
        "# Для получения вектора предложения используем tf_idf\n",
        "class TfidfEmbeddingVectorizer(object):\n",
        "    \"\"\"Get tfidf weighted vectors\"\"\"\n",
        "    def __init__(self, model):\n",
        "        self.word2vec = model.wv\n",
        "        self.word2weight = None\n",
        "        self.dim = model.vector_size\n",
        "\n",
        "    def fit(self, X, y):\n",
        "        tfidf = TfidfVectorizer(analyzer=lambda x: x)\n",
        "        tfidf.fit(X)\n",
        "        max_idf = max(tfidf.idf_)\n",
        "        self.word2weight = defaultdict(\n",
        "            lambda: max_idf,\n",
        "            [(w, tfidf.idf_[i]) for w, i in tfidf.vocabulary_.items()])\n",
        "\n",
        "        return self\n",
        "\n",
        "    def transform(self, X):\n",
        "        return np.array([\n",
        "                np.mean([self.word2vec.get_vector(w) * self.word2weight[w]\n",
        "                         for w in words if w in self.word2vec] or\n",
        "                        [np.zeros(self.dim)], axis=0)\n",
        "                for words in X\n",
        "            ])"
      ]
    },
    {
      "cell_type": "markdown",
      "metadata": {
        "id": "E6vwjLe2Po85"
      },
      "source": [
        "### Word2Vec\n",
        "\n"
      ]
    },
    {
      "cell_type": "code",
      "source": [
        "X_train.head()"
      ],
      "metadata": {
        "colab": {
          "base_uri": "https://localhost:8080/"
        },
        "id": "xrbMAv1qpzGb",
        "outputId": "3568aba1-f4c6-4a7b-876a-f4e92a9e666e"
      },
      "execution_count": null,
      "outputs": [
        {
          "output_type": "execute_result",
          "data": {
            "text/plain": [
              "21398    [фото, максим, блинов, риа, новость, дарья, ры...\n",
              "25991    [фото, алексей, сухоруков, риа, новость, анаст...\n",
              "10146    [фото, евгений, бият, риа, новость, главный, в...\n",
              "30966    [фото, thomas, lohnes, getty, images, алевтина...\n",
              "2335     [март, год, банк, провести, прямой, включение,...\n",
              "Name: content_clean, dtype: object"
            ]
          },
          "metadata": {},
          "execution_count": 22
        }
      ]
    },
    {
      "cell_type": "code",
      "source": [
        "X_train.shape"
      ],
      "metadata": {
        "colab": {
          "base_uri": "https://localhost:8080/"
        },
        "id": "kZKATi30qUWi",
        "outputId": "abce776f-f067-4f96-c9c2-46dd3e0a0dc3"
      },
      "execution_count": null,
      "outputs": [
        {
          "output_type": "execute_result",
          "data": {
            "text/plain": [
              "(25839,)"
            ]
          },
          "metadata": {},
          "execution_count": 23
        }
      ]
    },
    {
      "cell_type": "code",
      "execution_count": null,
      "metadata": {
        "id": "0ruNto9LPkbJ"
      },
      "outputs": [],
      "source": [
        "model_w2v = Word2Vec(sentences=X_train,\n",
        "                 vector_size=300,\n",
        "                 min_count=5,\n",
        "                 window=25,\n",
        "                 seed=RND_STATE)"
      ]
    },
    {
      "cell_type": "markdown",
      "metadata": {
        "id": "gkVnOlMJQP8r"
      },
      "source": [
        "### FastText"
      ]
    },
    {
      "cell_type": "code",
      "execution_count": null,
      "metadata": {
        "id": "WL-LvQzRQS4x"
      },
      "outputs": [],
      "source": [
        "model_fast = FastText(sentences=X_train,\n",
        "                      vector_size=300,\n",
        "                      min_count=10,\n",
        "                      window=10,\n",
        "                      seed=RND_STATE)"
      ]
    },
    {
      "cell_type": "markdown",
      "metadata": {
        "id": "Y8km51gIaAQK"
      },
      "source": [
        "## Логистическая регрессия"
      ]
    },
    {
      "cell_type": "markdown",
      "metadata": {
        "id": "oVBWJjifN8Sj"
      },
      "source": [
        "### W2V"
      ]
    },
    {
      "cell_type": "code",
      "execution_count": null,
      "metadata": {
        "colab": {
          "base_uri": "https://localhost:8080/"
        },
        "id": "EQZ__2R0ya_V",
        "outputId": "365453f1-c06c-4705-fbd8-725a6f564a45"
      },
      "outputs": [
        {
          "name": "stdout",
          "output_type": "stream",
          "text": [
            "              precision    recall  f1-score   support\n",
            "\n",
            "           0       0.83      0.88      0.85      2869\n",
            "           1       0.81      0.80      0.80       837\n",
            "           2       0.85      0.73      0.78       400\n",
            "           3       0.84      0.80      0.82       707\n",
            "           4       0.98      0.95      0.96       617\n",
            "           5       0.48      0.44      0.46        27\n",
            "           6       0.95      0.94      0.94       190\n",
            "           7       0.85      0.81      0.83       347\n",
            "           8       0.86      0.80      0.83       466\n",
            "\n",
            "    accuracy                           0.85      6460\n",
            "   macro avg       0.83      0.79      0.81      6460\n",
            "weighted avg       0.85      0.85      0.85      6460\n",
            "\n",
            "CPU times: user 2min 56s, sys: 18.8 s, total: 3min 15s\n",
            "Wall time: 2min 25s\n"
          ]
        }
      ],
      "source": [
        "%%time\n",
        "pipe = Pipeline([('w2v_tfidf', TfidfEmbeddingVectorizer(model_w2v)),\n",
        "                 ('scaler', StandardScaler()),\n",
        "                 ('clf', LogisticRegression(random_state=RND_STATE,\n",
        "                                            max_iter=10000,\n",
        "                                            # class_weight='balanced'\n",
        "                                            ))])\n",
        "\n",
        "pipe.fit(X_train, y_train)\n",
        "\n",
        "print(classification_report(y_test, pipe.predict(X_test)))"
      ]
    },
    {
      "cell_type": "markdown",
      "metadata": {
        "id": "myvdlYl82pL6"
      },
      "source": [
        "### FastText\n"
      ]
    },
    {
      "cell_type": "code",
      "execution_count": null,
      "metadata": {
        "id": "FI4Ggj_k9UPx"
      },
      "outputs": [],
      "source": []
    },
    {
      "cell_type": "code",
      "execution_count": null,
      "metadata": {
        "colab": {
          "background_save": true
        },
        "id": "J38ykiKR60_G",
        "outputId": "1bc372c8-a94c-4911-e369-a46204bf4af9"
      },
      "outputs": [
        {
          "name": "stdout",
          "output_type": "stream",
          "text": [
            "              precision    recall  f1-score   support\n",
            "\n",
            "           0       0.81      0.87      0.84      2869\n",
            "           1       0.79      0.79      0.79       837\n",
            "           2       0.82      0.71      0.77       400\n",
            "           3       0.81      0.75      0.78       707\n",
            "           4       0.97      0.95      0.96       617\n",
            "           5       0.60      0.44      0.51        27\n",
            "           6       0.91      0.92      0.91       190\n",
            "           7       0.86      0.78      0.82       347\n",
            "           8       0.84      0.77      0.80       466\n",
            "\n",
            "    accuracy                           0.83      6460\n",
            "   macro avg       0.82      0.77      0.80      6460\n",
            "weighted avg       0.83      0.83      0.83      6460\n",
            "\n",
            "CPU times: user 3min 5s, sys: 17.9 s, total: 3min 23s\n",
            "Wall time: 2min 31s\n"
          ]
        }
      ],
      "source": [
        "%%time\n",
        "pipe = Pipeline([('fast', TfidfEmbeddingVectorizer(model_fast)),\n",
        "                 ('scaler', StandardScaler()),\n",
        "                 ('clf', LogisticRegression(random_state=RND_STATE,\n",
        "                                            max_iter=10000,\n",
        "                                            # class_weight='balanced'\n",
        "                                            ))])\n",
        "\n",
        "pipe.fit(X_train, y_train)\n",
        "\n",
        "print(classification_report(y_test, pipe.predict(X_test)))"
      ]
    },
    {
      "cell_type": "markdown",
      "metadata": {
        "id": "Lli4HE7oSzKO"
      },
      "source": [
        "### Optuna для лог_рег"
      ]
    },
    {
      "cell_type": "code",
      "execution_count": null,
      "metadata": {
        "id": "UkZxyKzBEeXk"
      },
      "outputs": [],
      "source": [
        "def fit_log_reg(trial, train, val):\n",
        "    X_train, y_train = train\n",
        "    X_val, y_val = val\n",
        "\n",
        "    param = {\"dual\": False,\n",
        "             \"C\": trial.suggest_float(\"C\", 2, 4, step=0.1),\n",
        "             \"solver\": trial.suggest_categorical(\"solver\",\n",
        "                                                 [\"sag\",\n",
        "                                                  #\"saga\",\n",
        "                                                  \"lbfgs\"\n",
        "                                                  ]),\n",
        "             \"random_state\": RND_STATE,\n",
        "             \"max_iter\": trial.suggest_int(\"max_iter\", 10, 10000, step=1000),\n",
        "             'multi_class': trial.suggest_categorical(\"multi_class\",\n",
        "                                                      ['auto',\n",
        "                                                       'ovr',\n",
        "                                                       'multinomial']),\n",
        "             'n_jobs': -1,\n",
        "             'verbose': 0\n",
        "    }\n",
        "\n",
        "    # print(f'param[\"solver\"] = {param[\"solver\"]}')\n",
        "    if param[\"solver\"] == \"saga\":\n",
        "        param[\"penalty\"] = trial.suggest_categorical(\"penalty\",\n",
        "                                             ['l1', 'l2', #'elasticnet',\n",
        "                                              None])\n",
        "    else:\n",
        "         param[\"penalty\"] = trial.suggest_categorical(\"penalty\",\n",
        "                                             ['l2',\n",
        "                                              None\n",
        "                                              ])\n",
        "\n",
        "    clf = LogisticRegression(**param)\n",
        "\n",
        "    pipe = Pipeline([('w2v', TfidfEmbeddingVectorizer(model_w2v)),\n",
        "                    ('scaler', StandardScaler()),\n",
        "                    ('clf', clf)])\n",
        "\n",
        "    pipe.fit(X_train, y_train)\n",
        "\n",
        "    y_pred = pipe.predict(X_val)\n",
        "    return pipe, y_pred"
      ]
    },
    {
      "cell_type": "code",
      "execution_count": null,
      "metadata": {
        "id": "mL9DQjPySfxp"
      },
      "outputs": [],
      "source": [
        "def objective_log(trial, return_models=False):\n",
        "    n_splits = 3\n",
        "    kf = KFold(n_splits=n_splits, shuffle=True, random_state=RND_STATE)\n",
        "\n",
        "    scores_simple_acc, scores_balanced_acc, models = [], [], []\n",
        "\n",
        "    for train_idx, valid_idx in kf.split(X_train.index):\n",
        "        train_data = X_train.iloc[train_idx], y_train.iloc[train_idx]\n",
        "        valid_data = X_train.iloc[valid_idx], y_train.iloc[valid_idx]\n",
        "\n",
        "        # Подаем trials для перебора\n",
        "        model, y_pred = fit_log_reg(trial, train_data, valid_data)\n",
        "\n",
        "        # scores_simple_acc.append(accuracy_score(y_pred, valid_data[1]))\n",
        "        scores_balanced_acc.append(balanced_accuracy_score(y_pred, valid_data[1]))\n",
        "        models.append(model)\n",
        "        break\n",
        "\n",
        "    result = np.mean(scores_balanced_acc)\n",
        "    # print(f'result = {result}')\n",
        "\n",
        "    if return_models:\n",
        "        return result, models\n",
        "    else:\n",
        "        return result"
      ]
    },
    {
      "cell_type": "code",
      "execution_count": null,
      "metadata": {
        "colab": {
          "base_uri": "https://localhost:8080/",
          "height": 1000,
          "referenced_widgets": [
            "5859d2eaa95e4f9686df90f21358340b",
            "2c8a62e18b0e48c6b309c9efb80351e2",
            "39927abbd98e4a809c5a6ff39ba440de",
            "c9cdafa4a077492397468dc96b21a9b6",
            "b784d76ef8c84eb49845df9047c630aa",
            "6c959c3ff3ab4abd8968085aa2c0b6fe",
            "8d3285f66b474d94bc1e2744a9bafebc",
            "685d38eb2aaf4e5aad288018cebeb254",
            "67b0e13b39d74164b37b950f063b7f92",
            "e98ce492db624ce3a8a4d98858a8cac5",
            "b2ae7682953c4909906a8bd212027f7d"
          ]
        },
        "id": "QErxmGitTIAI",
        "outputId": "71400bfe-ce49-4bf6-a879-5678555832a3"
      },
      "outputs": [
        {
          "metadata": {
            "tags": null
          },
          "name": "stderr",
          "output_type": "stream",
          "text": [
            "[I 2023-12-31 14:08:43,601] A new study created in memory with name: Log_Reg_clf\n"
          ]
        },
        {
          "data": {
            "application/vnd.jupyter.widget-view+json": {
              "model_id": "5859d2eaa95e4f9686df90f21358340b",
              "version_major": 2,
              "version_minor": 0
            },
            "text/plain": [
              "  0%|          | 0/100 [00:00<?, ?it/s]"
            ]
          },
          "metadata": {},
          "output_type": "display_data"
        },
        {
          "output_type": "stream",
          "name": "stdout",
          "text": [
            "[I 2023-12-31 14:21:28,484] Trial 1 finished with value: 0.8200660071804712 and parameters: {'C': 2.7, 'solver': 'lbfgs', 'max_iter': 5010, 'multi_class': 'multinomial', 'penalty': None}. Best is trial 1 with value: 0.8200660071804712.\n",
            "[I 2023-12-31 14:23:18,599] Trial 2 finished with value: 0.8592517819569019 and parameters: {'C': 2.1, 'solver': 'sag', 'max_iter': 10, 'multi_class': 'auto', 'penalty': 'l2'}. Best is trial 2 with value: 0.8592517819569019.\n",
            "[I 2023-12-31 14:24:00,606] Trial 0 finished with value: 0.8125303699931606 and parameters: {'C': 2.3, 'solver': 'lbfgs', 'max_iter': 9010, 'multi_class': 'ovr', 'penalty': None}. Best is trial 2 with value: 0.8592517819569019.\n",
            "[I 2023-12-31 14:29:48,584] Trial 4 finished with value: 0.8234176569699679 and parameters: {'C': 3.7, 'solver': 'lbfgs', 'max_iter': 4010, 'multi_class': 'multinomial', 'penalty': None}. Best is trial 2 with value: 0.8592517819569019.\n",
            "[I 2023-12-31 14:32:44,731] Trial 5 finished with value: 0.8686307533772099 and parameters: {'C': 3.4000000000000004, 'solver': 'lbfgs', 'max_iter': 1010, 'multi_class': 'ovr', 'penalty': 'l2'}. Best is trial 5 with value: 0.8686307533772099.\n",
            "[I 2023-12-31 14:42:46,393] Trial 3 finished with value: 0.8506136904394008 and parameters: {'C': 2.4, 'solver': 'sag', 'max_iter': 2010, 'multi_class': 'auto', 'penalty': None}. Best is trial 5 with value: 0.8686307533772099.\n",
            "[I 2023-12-31 14:51:03,781] Trial 6 finished with value: 0.8506483908911969 and parameters: {'C': 3.4000000000000004, 'solver': 'sag', 'max_iter': 7010, 'multi_class': 'auto', 'penalty': 'l2'}. Best is trial 5 with value: 0.8686307533772099.\n",
            "[I 2023-12-31 14:54:03,895] Trial 8 finished with value: 0.872962491801824 and parameters: {'C': 2.7, 'solver': 'lbfgs', 'max_iter': 6010, 'multi_class': 'ovr', 'penalty': 'l2'}. Best is trial 8 with value: 0.872962491801824.\n",
            "[I 2023-12-31 15:04:38,813] Trial 9 finished with value: 0.8516676297779368 and parameters: {'C': 2.7, 'solver': 'sag', 'max_iter': 1010, 'multi_class': 'auto', 'penalty': 'l2'}. Best is trial 8 with value: 0.872962491801824.\n",
            "[I 2023-12-31 15:07:29,875] Trial 10 finished with value: 0.8718877917812804 and parameters: {'C': 2.1, 'solver': 'lbfgs', 'max_iter': 3010, 'multi_class': 'ovr', 'penalty': 'l2'}. Best is trial 8 with value: 0.872962491801824.\n",
            "[I 2023-12-31 15:10:25,788] Trial 11 finished with value: 0.8681938098119895 and parameters: {'C': 3.1, 'solver': 'lbfgs', 'max_iter': 6010, 'multi_class': 'ovr', 'penalty': 'l2'}. Best is trial 8 with value: 0.872962491801824.\n",
            "[I 2023-12-31 15:13:07,796] Trial 12 finished with value: 0.8717810610799239 and parameters: {'C': 2.0, 'solver': 'lbfgs', 'max_iter': 3010, 'multi_class': 'ovr', 'penalty': 'l2'}. Best is trial 8 with value: 0.872962491801824.\n",
            "[I 2023-12-31 15:16:04,039] Trial 13 finished with value: 0.8729378796544055 and parameters: {'C': 2.6, 'solver': 'lbfgs', 'max_iter': 8010, 'multi_class': 'ovr', 'penalty': 'l2'}. Best is trial 8 with value: 0.872962491801824.\n",
            "[I 2023-12-31 15:18:59,908] Trial 14 finished with value: 0.872962491801824 and parameters: {'C': 2.7, 'solver': 'lbfgs', 'max_iter': 8010, 'multi_class': 'ovr', 'penalty': 'l2'}. Best is trial 8 with value: 0.872962491801824.\n",
            "[I 2023-12-31 15:21:53,421] Trial 15 finished with value: 0.8682954363199793 and parameters: {'C': 3.0, 'solver': 'lbfgs', 'max_iter': 7010, 'multi_class': 'ovr', 'penalty': 'l2'}. Best is trial 8 with value: 0.872962491801824.\n",
            "[I 2023-12-31 15:24:56,635] Trial 16 finished with value: 0.8682954363199793 and parameters: {'C': 3.0, 'solver': 'lbfgs', 'max_iter': 9010, 'multi_class': 'ovr', 'penalty': 'l2'}. Best is trial 8 with value: 0.872962491801824.\n",
            "[I 2023-12-31 15:27:56,895] Trial 17 finished with value: 0.8449669204910865 and parameters: {'C': 2.8, 'solver': 'lbfgs', 'max_iter': 6010, 'multi_class': 'multinomial', 'penalty': 'l2'}. Best is trial 8 with value: 0.872962491801824.\n",
            "[I 2023-12-31 15:30:45,054] Trial 18 finished with value: 0.8725648586065007 and parameters: {'C': 2.4, 'solver': 'lbfgs', 'max_iter': 7010, 'multi_class': 'ovr', 'penalty': 'l2'}. Best is trial 8 with value: 0.872962491801824.\n",
            "[I 2023-12-31 15:47:30,173] Trial 7 finished with value: 0.8533465445572455 and parameters: {'C': 2.8, 'solver': 'sag', 'max_iter': 6010, 'multi_class': 'auto', 'penalty': 'l2'}. Best is trial 8 with value: 0.872962491801824.\n",
            "[I 2023-12-31 16:02:07,446] Trial 19 finished with value: 0.8721595734774663 and parameters: {'C': 4.0, 'solver': 'sag', 'max_iter': 5010, 'multi_class': 'ovr', 'penalty': None}. Best is trial 8 with value: 0.872962491801824.\n",
            "[I 2023-12-31 16:06:04,975] Trial 20 finished with value: 0.8127280344708409 and parameters: {'C': 3.3, 'solver': 'lbfgs', 'max_iter': 8010, 'multi_class': 'ovr', 'penalty': None}. Best is trial 8 with value: 0.872962491801824.\n",
            "[I 2023-12-31 16:06:10,396] Trial 21 finished with value: 0.8452910022125893 and parameters: {'C': 3.2, 'solver': 'lbfgs', 'max_iter': 8010, 'multi_class': 'multinomial', 'penalty': 'l2'}. Best is trial 8 with value: 0.872962491801824.\n",
            "[I 2023-12-31 16:10:02,770] Trial 22 finished with value: 0.8724628390589034 and parameters: {'C': 2.5, 'solver': 'lbfgs', 'max_iter': 8010, 'multi_class': 'ovr', 'penalty': 'l2'}. Best is trial 8 with value: 0.872962491801824.\n",
            "[I 2023-12-31 16:10:14,314] Trial 23 finished with value: 0.8729378796544055 and parameters: {'C': 2.6, 'solver': 'lbfgs', 'max_iter': 8010, 'multi_class': 'ovr', 'penalty': 'l2'}. Best is trial 8 with value: 0.872962491801824.\n",
            "[I 2023-12-31 16:13:52,645] Trial 24 finished with value: 0.8729378796544055 and parameters: {'C': 2.6, 'solver': 'lbfgs', 'max_iter': 9010, 'multi_class': 'ovr', 'penalty': 'l2'}. Best is trial 8 with value: 0.872962491801824.\n",
            "[I 2023-12-31 16:14:04,714] Trial 25 finished with value: 0.8680741985874363 and parameters: {'C': 2.9, 'solver': 'lbfgs', 'max_iter': 9010, 'multi_class': 'ovr', 'penalty': 'l2'}. Best is trial 8 with value: 0.872962491801824.\n",
            "[I 2023-12-31 16:17:37,082] Trial 26 finished with value: 0.8680741985874363 and parameters: {'C': 2.9, 'solver': 'lbfgs', 'max_iter': 7010, 'multi_class': 'ovr', 'penalty': 'l2'}. Best is trial 8 with value: 0.872962491801824.\n",
            "[I 2023-12-31 16:17:45,520] Trial 27 finished with value: 0.8725300974036432 and parameters: {'C': 2.3, 'solver': 'lbfgs', 'max_iter': 7010, 'multi_class': 'ovr', 'penalty': 'l2'}. Best is trial 8 with value: 0.872962491801824.\n",
            "[I 2023-12-31 16:20:57,527] Trial 28 finished with value: 0.8725300974036432 and parameters: {'C': 2.3, 'solver': 'lbfgs', 'max_iter': 6010, 'multi_class': 'ovr', 'penalty': 'l2'}. Best is trial 8 with value: 0.872962491801824.\n",
            "[I 2023-12-31 16:21:32,867] Trial 29 finished with value: 0.8454735880465098 and parameters: {'C': 2.5, 'solver': 'lbfgs', 'max_iter': 6010, 'multi_class': 'multinomial', 'penalty': 'l2'}. Best is trial 8 with value: 0.872962491801824.\n",
            "[I 2023-12-31 16:32:09,560] Trial 30 finished with value: 0.8150808910002838 and parameters: {'C': 2.5, 'solver': 'lbfgs', 'max_iter': 8010, 'multi_class': 'multinomial', 'penalty': None}. Best is trial 8 with value: 0.872962491801824.\n",
            "[I 2023-12-31 16:38:06,481] Trial 31 finished with value: 0.8127280344708409 and parameters: {'C': 2.2, 'solver': 'lbfgs', 'max_iter': 8010, 'multi_class': 'ovr', 'penalty': None}. Best is trial 8 with value: 0.872962491801824.\n",
            "[I 2023-12-31 16:38:27,751] Trial 32 finished with value: 0.8729378796544055 and parameters: {'C': 2.6, 'solver': 'lbfgs', 'max_iter': 8010, 'multi_class': 'ovr', 'penalty': 'l2'}. Best is trial 8 with value: 0.872962491801824.\n",
            "[I 2023-12-31 16:41:50,604] Trial 33 finished with value: 0.872962491801824 and parameters: {'C': 2.7, 'solver': 'lbfgs', 'max_iter': 9010, 'multi_class': 'ovr', 'penalty': 'l2'}. Best is trial 8 with value: 0.872962491801824.\n",
            "[I 2023-12-31 16:42:08,320] Trial 34 finished with value: 0.872962491801824 and parameters: {'C': 2.7, 'solver': 'lbfgs', 'max_iter': 5010, 'multi_class': 'ovr', 'penalty': 'l2'}. Best is trial 8 with value: 0.872962491801824.\n",
            "[I 2023-12-31 16:45:19,788] Trial 35 finished with value: 0.872962491801824 and parameters: {'C': 2.8, 'solver': 'lbfgs', 'max_iter': 9010, 'multi_class': 'ovr', 'penalty': 'l2'}. Best is trial 8 with value: 0.872962491801824.\n",
            "[I 2023-12-31 17:39:51,219] Trial 36 finished with value: 0.872199942233398 and parameters: {'C': 2.8, 'solver': 'sag', 'max_iter': 5010, 'multi_class': 'ovr', 'penalty': 'l2'}. Best is trial 8 with value: 0.872962491801824.\n",
            "[I 2023-12-31 17:45:24,097] Trial 38 finished with value: 0.8234176569699679 and parameters: {'C': 3.1, 'solver': 'lbfgs', 'max_iter': 4010, 'multi_class': 'auto', 'penalty': None}. Best is trial 8 with value: 0.872962491801824.\n",
            "[I 2023-12-31 17:48:59,573] Trial 37 finished with value: 0.8533445971796669 and parameters: {'C': 2.7, 'solver': 'sag', 'max_iter': 5010, 'multi_class': 'auto', 'penalty': 'l2'}. Best is trial 8 with value: 0.872962491801824.\n",
            "[I 2023-12-31 17:53:24,555] Trial 40 finished with value: 0.8725648586065007 and parameters: {'C': 2.4, 'solver': 'lbfgs', 'max_iter': 4010, 'multi_class': 'ovr', 'penalty': 'l2'}. Best is trial 8 with value: 0.872962491801824.\n",
            "[I 2023-12-31 18:52:42,398] Trial 41 finished with value: 0.8717825642977509 and parameters: {'C': 2.9, 'solver': 'sag', 'max_iter': 3010, 'multi_class': 'ovr', 'penalty': 'l2'}. Best is trial 8 with value: 0.872962491801824.\n",
            "[I 2023-12-31 18:54:00,274] Trial 39 finished with value: 0.8722507285619111 and parameters: {'C': 2.7, 'solver': 'sag', 'max_iter': 4010, 'multi_class': 'ovr', 'penalty': 'l2'}. Best is trial 8 with value: 0.872962491801824.\n",
            "[I 2023-12-31 18:55:44,039] Trial 42 finished with value: 0.872962491801824 and parameters: {'C': 2.7, 'solver': 'lbfgs', 'max_iter': 9010, 'multi_class': 'ovr', 'penalty': 'l2'}. Best is trial 8 with value: 0.872962491801824.\n",
            "[I 2023-12-31 18:57:37,973] Trial 43 finished with value: 0.872962491801824 and parameters: {'C': 2.8, 'solver': 'lbfgs', 'max_iter': 9010, 'multi_class': 'ovr', 'penalty': 'l2'}. Best is trial 8 with value: 0.872962491801824.\n",
            "[I 2023-12-31 18:59:38,871] Trial 44 finished with value: 0.872962491801824 and parameters: {'C': 2.8, 'solver': 'lbfgs', 'max_iter': 9010, 'multi_class': 'ovr', 'penalty': 'l2'}. Best is trial 8 with value: 0.872962491801824.\n",
            "[I 2023-12-31 19:01:16,504] Trial 45 finished with value: 0.8680741985874363 and parameters: {'C': 2.9, 'solver': 'lbfgs', 'max_iter': 9010, 'multi_class': 'ovr', 'penalty': 'l2'}. Best is trial 8 with value: 0.872962491801824.\n",
            "[I 2023-12-31 19:03:06,281] Trial 47 finished with value: 0.7476367819446748 and parameters: {'C': 3.0, 'solver': 'lbfgs', 'max_iter': 10, 'multi_class': 'auto', 'penalty': 'l2'}. Best is trial 8 with value: 0.872962491801824.\n",
            "[I 2023-12-31 19:03:34,436] Trial 46 finished with value: 0.8453699357462255 and parameters: {'C': 3.1, 'solver': 'lbfgs', 'max_iter': 7010, 'multi_class': 'auto', 'penalty': 'l2'}. Best is trial 8 with value: 0.872962491801824.\n",
            "[I 2023-12-31 19:06:20,897] Trial 48 finished with value: 0.8457988424347721 and parameters: {'C': 2.4, 'solver': 'lbfgs', 'max_iter': 7010, 'multi_class': 'multinomial', 'penalty': 'l2'}. Best is trial 8 with value: 0.872962491801824.\n",
            "[I 2023-12-31 19:11:00,861] Trial 49 finished with value: 0.8200660071804712 and parameters: {'C': 2.4, 'solver': 'lbfgs', 'max_iter': 5010, 'multi_class': 'multinomial', 'penalty': None}. Best is trial 8 with value: 0.872962491801824.\n",
            "[I 2023-12-31 19:17:40,885] Trial 50 finished with value: 0.8122535018318611 and parameters: {'C': 2.7, 'solver': 'lbfgs', 'max_iter': 6010, 'multi_class': 'ovr', 'penalty': None}. Best is trial 8 with value: 0.872962491801824.\n",
            "[I 2023-12-31 19:17:55,300] Trial 51 finished with value: 0.8729378796544055 and parameters: {'C': 2.6, 'solver': 'lbfgs', 'max_iter': 6010, 'multi_class': 'ovr', 'penalty': 'l2'}. Best is trial 8 with value: 0.872962491801824.\n",
            "[I 2023-12-31 19:21:22,848] Trial 52 finished with value: 0.8729378796544055 and parameters: {'C': 2.6, 'solver': 'lbfgs', 'max_iter': 9010, 'multi_class': 'ovr', 'penalty': 'l2'}. Best is trial 8 with value: 0.872962491801824.\n",
            "[I 2023-12-31 19:21:38,148] Trial 53 finished with value: 0.872962491801824 and parameters: {'C': 2.7, 'solver': 'lbfgs', 'max_iter': 9010, 'multi_class': 'ovr', 'penalty': 'l2'}. Best is trial 8 with value: 0.872962491801824.\n",
            "[I 2023-12-31 19:25:06,692] Trial 54 finished with value: 0.872962491801824 and parameters: {'C': 2.8, 'solver': 'lbfgs', 'max_iter': 9010, 'multi_class': 'ovr', 'penalty': 'l2'}. Best is trial 8 with value: 0.872962491801824.\n",
            "[I 2023-12-31 19:25:21,729] Trial 55 finished with value: 0.8724628390589034 and parameters: {'C': 2.5, 'solver': 'lbfgs', 'max_iter': 9010, 'multi_class': 'ovr', 'penalty': 'l2'}. Best is trial 8 with value: 0.872962491801824.\n",
            "[I 2023-12-31 19:28:48,630] Trial 56 finished with value: 0.8724628390589034 and parameters: {'C': 2.5, 'solver': 'lbfgs', 'max_iter': 8010, 'multi_class': 'ovr', 'penalty': 'l2'}. Best is trial 8 with value: 0.872962491801824.\n",
            "[I 2023-12-31 19:29:09,211] Trial 57 finished with value: 0.8638614144409735 and parameters: {'C': 3.7, 'solver': 'lbfgs', 'max_iter': 8010, 'multi_class': 'ovr', 'penalty': 'l2'}. Best is trial 8 with value: 0.872962491801824.\n",
            "[I 2023-12-31 19:32:38,801] Trial 58 finished with value: 0.8638614144409735 and parameters: {'C': 3.7, 'solver': 'lbfgs', 'max_iter': 8010, 'multi_class': 'ovr', 'penalty': 'l2'}. Best is trial 8 with value: 0.872962491801824.\n",
            "[I 2023-12-31 19:32:53,166] Trial 59 finished with value: 0.8682954363199793 and parameters: {'C': 3.0, 'solver': 'lbfgs', 'max_iter': 3010, 'multi_class': 'ovr', 'penalty': 'l2'}. Best is trial 8 with value: 0.872962491801824.\n",
            "[I 2023-12-31 20:16:56,395] Trial 61 finished with value: 0.8704985298444685 and parameters: {'C': 2.7, 'solver': 'sag', 'max_iter': 2010, 'multi_class': 'ovr', 'penalty': 'l2'}. Best is trial 8 with value: 0.872962491801824.\n",
            "[I 2023-12-31 20:21:29,433] Trial 62 finished with value: 0.872962491801824 and parameters: {'C': 2.8, 'solver': 'lbfgs', 'max_iter': 9010, 'multi_class': 'ovr', 'penalty': 'l2'}. Best is trial 8 with value: 0.872962491801824.\n",
            "[I 2023-12-31 20:25:47,432] Trial 63 finished with value: 0.8680741985874363 and parameters: {'C': 2.9, 'solver': 'lbfgs', 'max_iter': 9010, 'multi_class': 'ovr', 'penalty': 'l2'}. Best is trial 8 with value: 0.872962491801824.\n",
            "[I 2023-12-31 20:30:15,070] Trial 64 finished with value: 0.872962491801824 and parameters: {'C': 2.8, 'solver': 'lbfgs', 'max_iter': 9010, 'multi_class': 'ovr', 'penalty': 'l2'}. Best is trial 8 with value: 0.872962491801824.\n",
            "[I 2023-12-31 20:34:41,892] Trial 65 finished with value: 0.8729378796544055 and parameters: {'C': 2.6, 'solver': 'lbfgs', 'max_iter': 8010, 'multi_class': 'ovr', 'penalty': 'l2'}. Best is trial 8 with value: 0.872962491801824.\n",
            "[I 2023-12-31 20:39:09,366] Trial 66 finished with value: 0.8680741985874363 and parameters: {'C': 2.9, 'solver': 'lbfgs', 'max_iter': 9010, 'multi_class': 'ovr', 'penalty': 'l2'}. Best is trial 8 with value: 0.872962491801824.\n",
            "[I 2023-12-31 20:43:41,550] Trial 67 finished with value: 0.8682954363199793 and parameters: {'C': 3.0, 'solver': 'lbfgs', 'max_iter': 7010, 'multi_class': 'ovr', 'penalty': 'l2'}. Best is trial 8 with value: 0.872962491801824.\n",
            "[I 2023-12-31 20:46:37,336] Trial 68 finished with value: 0.872962491801824 and parameters: {'C': 2.7, 'solver': 'lbfgs', 'max_iter': 5010, 'multi_class': 'ovr', 'penalty': 'l2'}. Best is trial 8 with value: 0.872962491801824.\n",
            "[I 2023-12-31 20:47:47,569] Trial 60 finished with value: 0.872199942233398 and parameters: {'C': 3.0, 'solver': 'sag', 'max_iter': 7010, 'multi_class': 'ovr', 'penalty': 'l2'}. Best is trial 8 with value: 0.872962491801824.\n",
            "[I 2023-12-31 20:49:46,495] Trial 69 finished with value: 0.872962491801824 and parameters: {'C': 2.8, 'solver': 'lbfgs', 'max_iter': 8010, 'multi_class': 'ovr', 'penalty': 'l2'}. Best is trial 8 with value: 0.872962491801824.\n",
            "[I 2023-12-31 20:51:49,755] Trial 70 finished with value: 0.8452910022125893 and parameters: {'C': 3.2, 'solver': 'lbfgs', 'max_iter': 8010, 'multi_class': 'auto', 'penalty': 'l2'}. Best is trial 8 with value: 0.872962491801824.\n",
            "[I 2023-12-31 20:54:56,520] Trial 72 finished with value: 0.872962491801824 and parameters: {'C': 2.8, 'solver': 'lbfgs', 'max_iter': 9010, 'multi_class': 'ovr', 'penalty': 'l2'}. Best is trial 8 with value: 0.872962491801824.\n",
            "[I 2023-12-31 20:58:07,997] Trial 73 finished with value: 0.872962491801824 and parameters: {'C': 2.7, 'solver': 'lbfgs', 'max_iter': 9010, 'multi_class': 'ovr', 'penalty': 'l2'}. Best is trial 8 with value: 0.872962491801824.\n",
            "[I 2023-12-31 21:00:59,368] Trial 71 finished with value: 0.8158941895157835 and parameters: {'C': 3.2, 'solver': 'lbfgs', 'max_iter': 9010, 'multi_class': 'multinomial', 'penalty': None}. Best is trial 8 with value: 0.872962491801824.\n",
            "[I 2023-12-31 21:01:12,593] Trial 74 finished with value: 0.8729378796544055 and parameters: {'C': 2.6, 'solver': 'lbfgs', 'max_iter': 9010, 'multi_class': 'ovr', 'penalty': 'l2'}. Best is trial 8 with value: 0.872962491801824.\n",
            "[I 2023-12-31 21:04:33,726] Trial 75 finished with value: 0.8729378796544055 and parameters: {'C': 2.6, 'solver': 'lbfgs', 'max_iter': 9010, 'multi_class': 'ovr', 'penalty': 'l2'}. Best is trial 8 with value: 0.872962491801824.\n",
            "[I 2023-12-31 21:04:49,332] Trial 76 finished with value: 0.872962491801824 and parameters: {'C': 2.8, 'solver': 'lbfgs', 'max_iter': 9010, 'multi_class': 'ovr', 'penalty': 'l2'}. Best is trial 8 with value: 0.872962491801824.\n",
            "[I 2023-12-31 21:08:09,557] Trial 77 finished with value: 0.872962491801824 and parameters: {'C': 2.8, 'solver': 'lbfgs', 'max_iter': 8010, 'multi_class': 'ovr', 'penalty': 'l2'}. Best is trial 8 with value: 0.872962491801824.\n",
            "[I 2023-12-31 21:08:24,491] Trial 78 finished with value: 0.8680741985874363 and parameters: {'C': 2.9, 'solver': 'lbfgs', 'max_iter': 8010, 'multi_class': 'ovr', 'penalty': 'l2'}. Best is trial 8 with value: 0.872962491801824.\n",
            "[I 2023-12-31 21:11:47,454] Trial 79 finished with value: 0.8680741985874363 and parameters: {'C': 2.9, 'solver': 'lbfgs', 'max_iter': 8010, 'multi_class': 'ovr', 'penalty': 'l2'}. Best is trial 8 with value: 0.872962491801824.\n",
            "[I 2023-12-31 21:12:05,565] Trial 80 finished with value: 0.8681938098119895 and parameters: {'C': 3.1, 'solver': 'lbfgs', 'max_iter': 4010, 'multi_class': 'ovr', 'penalty': 'l2'}. Best is trial 8 with value: 0.872962491801824.\n",
            "[I 2023-12-31 21:15:38,256] Trial 82 finished with value: 0.872962491801824 and parameters: {'C': 2.7, 'solver': 'lbfgs', 'max_iter': 9010, 'multi_class': 'ovr', 'penalty': 'l2'}. Best is trial 8 with value: 0.872962491801824.\n",
            "[I 2023-12-31 21:18:51,386] Trial 83 finished with value: 0.872962491801824 and parameters: {'C': 2.7, 'solver': 'lbfgs', 'max_iter': 9010, 'multi_class': 'ovr', 'penalty': 'l2'}. Best is trial 8 with value: 0.872962491801824.\n",
            "[I 2023-12-31 21:19:07,497] Trial 81 finished with value: 0.8200660071804712 and parameters: {'C': 2.5, 'solver': 'lbfgs', 'max_iter': 5010, 'multi_class': 'auto', 'penalty': None}. Best is trial 8 with value: 0.872962491801824.\n",
            "[I 2023-12-31 21:22:26,271] Trial 84 finished with value: 0.8724628390589034 and parameters: {'C': 2.5, 'solver': 'lbfgs', 'max_iter': 9010, 'multi_class': 'ovr', 'penalty': 'l2'}. Best is trial 8 with value: 0.872962491801824.\n",
            "[I 2023-12-31 21:22:45,954] Trial 85 finished with value: 0.872962491801824 and parameters: {'C': 2.7, 'solver': 'lbfgs', 'max_iter': 9010, 'multi_class': 'ovr', 'penalty': 'l2'}. Best is trial 8 with value: 0.872962491801824.\n",
            "[I 2023-12-31 21:25:54,587] Trial 86 finished with value: 0.872962491801824 and parameters: {'C': 2.7, 'solver': 'lbfgs', 'max_iter': 6010, 'multi_class': 'ovr', 'penalty': 'l2'}. Best is trial 8 with value: 0.872962491801824.\n",
            "[I 2023-12-31 22:20:36,163] Trial 87 finished with value: 0.8722507285619111 and parameters: {'C': 2.6, 'solver': 'sag', 'max_iter': 6010, 'multi_class': 'ovr', 'penalty': 'l2'}. Best is trial 8 with value: 0.872962491801824.\n",
            "[I 2023-12-31 22:23:35,911] Trial 89 finished with value: 0.8449669204910865 and parameters: {'C': 2.9, 'solver': 'lbfgs', 'max_iter': 8010, 'multi_class': 'multinomial', 'penalty': 'l2'}. Best is trial 8 with value: 0.872962491801824.\n",
            "[I 2023-12-31 22:26:24,720] Trial 90 finished with value: 0.872962491801824 and parameters: {'C': 2.8, 'solver': 'lbfgs', 'max_iter': 9010, 'multi_class': 'ovr', 'penalty': 'l2'}. Best is trial 8 with value: 0.872962491801824.\n",
            "[I 2023-12-31 22:29:11,232] Trial 91 finished with value: 0.8729378796544055 and parameters: {'C': 2.6, 'solver': 'lbfgs', 'max_iter': 9010, 'multi_class': 'ovr', 'penalty': 'l2'}. Best is trial 8 with value: 0.872962491801824.\n",
            "[I 2023-12-31 22:31:58,310] Trial 92 finished with value: 0.872962491801824 and parameters: {'C': 2.8, 'solver': 'lbfgs', 'max_iter': 9010, 'multi_class': 'ovr', 'penalty': 'l2'}. Best is trial 8 with value: 0.872962491801824.\n",
            "[I 2023-12-31 22:34:46,415] Trial 93 finished with value: 0.872962491801824 and parameters: {'C': 2.7, 'solver': 'lbfgs', 'max_iter': 8010, 'multi_class': 'ovr', 'penalty': 'l2'}. Best is trial 8 with value: 0.872962491801824.\n",
            "[I 2023-12-31 22:37:33,408] Trial 94 finished with value: 0.872962491801824 and parameters: {'C': 2.8, 'solver': 'lbfgs', 'max_iter': 9010, 'multi_class': 'ovr', 'penalty': 'l2'}. Best is trial 8 with value: 0.872962491801824.\n",
            "[I 2023-12-31 22:40:18,026] Trial 95 finished with value: 0.8724628390589034 and parameters: {'C': 2.5, 'solver': 'lbfgs', 'max_iter': 9010, 'multi_class': 'ovr', 'penalty': 'l2'}. Best is trial 8 with value: 0.872962491801824.\n",
            "[I 2023-12-31 22:43:04,664] Trial 96 finished with value: 0.8680741985874363 and parameters: {'C': 2.9, 'solver': 'lbfgs', 'max_iter': 9010, 'multi_class': 'ovr', 'penalty': 'l2'}. Best is trial 8 with value: 0.872962491801824.\n",
            "[I 2023-12-31 22:45:53,136] Trial 97 finished with value: 0.8682954363199793 and parameters: {'C': 3.0, 'solver': 'lbfgs', 'max_iter': 8010, 'multi_class': 'ovr', 'penalty': 'l2'}. Best is trial 8 with value: 0.872962491801824.\n",
            "[I 2023-12-31 22:48:42,319] Trial 98 finished with value: 0.872962491801824 and parameters: {'C': 2.8, 'solver': 'lbfgs', 'max_iter': 8010, 'multi_class': 'ovr', 'penalty': 'l2'}. Best is trial 8 with value: 0.872962491801824.\n",
            "[I 2023-12-31 23:01:35,344] Trial 88 finished with value: 0.8529326987747473 and parameters: {'C': 2.6, 'solver': 'sag', 'max_iter': 8010, 'multi_class': 'multinomial', 'penalty': 'l2'}. Best is trial 8 with value: 0.872962491801824.\n",
            "[I 2023-12-31 23:10:24,304] Trial 99 finished with value: 0.8721595734774663 and parameters: {'C': 2.7, 'solver': 'sag', 'max_iter': 7010, 'multi_class': 'ovr', 'penalty': None}. Best is trial 8 with value: 0.872962491801824.\n"
          ]
        }
      ],
      "source": [
        "study = optuna.create_study(direction=\"maximize\",\n",
        "                            pruner=optuna.pruners.MedianPruner(n_warmup_steps=5),\n",
        "                            sampler=sampler,\n",
        "                            study_name=\"Log_Reg_clf\")\n",
        "study.optimize(objective_log,\n",
        "               n_trials=100,\n",
        "               n_jobs=-1,\n",
        "               show_progress_bar=True)"
      ]
    },
    {
      "cell_type": "code",
      "execution_count": null,
      "metadata": {
        "id": "GfA9GcRamyi-",
        "colab": {
          "base_uri": "https://localhost:8080/",
          "height": 562
        },
        "outputId": "70428774-634a-491c-a2b6-66fefcf8266c"
      },
      "outputs": [
        {
          "output_type": "display_data",
          "data": {
            "text/html": [
              "<html>\n",
              "<head><meta charset=\"utf-8\" /></head>\n",
              "<body>\n",
              "    <div>            <script src=\"https://cdnjs.cloudflare.com/ajax/libs/mathjax/2.7.5/MathJax.js?config=TeX-AMS-MML_SVG\"></script><script type=\"text/javascript\">if (window.MathJax && window.MathJax.Hub && window.MathJax.Hub.Config) {window.MathJax.Hub.Config({SVG: {font: \"STIX-Web\"}});}</script>                <script type=\"text/javascript\">window.PlotlyConfig = {MathJaxConfig: 'local'};</script>\n",
              "        <script charset=\"utf-8\" src=\"https://cdn.plot.ly/plotly-2.24.1.min.js\"></script>                <div id=\"a8ea5a27-788d-4c84-acaf-ecadb79754e4\" class=\"plotly-graph-div\" style=\"height:525px; width:1500px;\"></div>            <script type=\"text/javascript\">                                    window.PLOTLYENV=window.PLOTLYENV || {};                                    if (document.getElementById(\"a8ea5a27-788d-4c84-acaf-ecadb79754e4\")) {                    Plotly.newPlot(                        \"a8ea5a27-788d-4c84-acaf-ecadb79754e4\",                        [{\"marker\":{\"color\":[0,1,2,3,4,5,6,7,8,9,10,11,12,13,14,15,16,17,18,19,20,21,22,23,24,25,26,27,28,29,30,31,32,33,34,35,36,37,38,39,40,41,42,43,44,45,46,47,48,49,50,51,52,53,54,55,56,57,58,59,60,61,62,63,64,65,66,67,68,69,70,71,72,73,74,75,76,77,78,79,80,81,82,83,84,85,86,87,88,89,90,91,92,93,94,95,96,97,98,99],\"colorbar\":{\"title\":{\"text\":\"Trial\"},\"x\":1.0,\"xpad\":40},\"colorscale\":[[0.0,\"rgb(247,251,255)\"],[0.125,\"rgb(222,235,247)\"],[0.25,\"rgb(198,219,239)\"],[0.375,\"rgb(158,202,225)\"],[0.5,\"rgb(107,174,214)\"],[0.625,\"rgb(66,146,198)\"],[0.75,\"rgb(33,113,181)\"],[0.875,\"rgb(8,81,156)\"],[1.0,\"rgb(8,48,107)\"]],\"line\":{\"color\":\"Grey\",\"width\":0.5},\"showscale\":true},\"mode\":\"markers\",\"name\":\"Feasible Trial\",\"showlegend\":false,\"x\":[2.3,2.7,2.1,2.4,3.7,3.4000000000000004,3.4000000000000004,2.8,2.7,2.7,2.1,3.1,2.0,2.6,2.7,3.0,3.0,2.8,2.4,4.0,3.3,3.2,2.5,2.6,2.6,2.9,2.9,2.3,2.3,2.5,2.5,2.2,2.6,2.7,2.7,2.8,2.8,2.7,3.1,2.7,2.4,2.9,2.7,2.8,2.8,2.9,3.1,3.0,2.4,2.4,2.7,2.6,2.6,2.7,2.8,2.5,2.5,3.7,3.7,3.0,3.0,2.7,2.8,2.9,2.8,2.6,2.9,3.0,2.7,2.8,3.2,3.2,2.8,2.7,2.6,2.6,2.8,2.8,2.9,2.9,3.1,2.5,2.7,2.7,2.5,2.7,2.7,2.6,2.6,2.9,2.8,2.6,2.8,2.7,2.8,2.5,2.9,3.0,2.8,2.7],\"y\":[0.8125303699931606,0.8200660071804712,0.8592517819569019,0.8506136904394008,0.8234176569699679,0.8686307533772099,0.8506483908911969,0.8533465445572455,0.872962491801824,0.8516676297779368,0.8718877917812804,0.8681938098119895,0.8717810610799239,0.8729378796544055,0.872962491801824,0.8682954363199793,0.8682954363199793,0.8449669204910865,0.8725648586065007,0.8721595734774663,0.8127280344708409,0.8452910022125893,0.8724628390589034,0.8729378796544055,0.8729378796544055,0.8680741985874363,0.8680741985874363,0.8725300974036432,0.8725300974036432,0.8454735880465098,0.8150808910002838,0.8127280344708409,0.8729378796544055,0.872962491801824,0.872962491801824,0.872962491801824,0.872199942233398,0.8533445971796669,0.8234176569699679,0.8722507285619111,0.8725648586065007,0.8717825642977509,0.872962491801824,0.872962491801824,0.872962491801824,0.8680741985874363,0.8453699357462255,0.7476367819446748,0.8457988424347721,0.8200660071804712,0.8122535018318611,0.8729378796544055,0.8729378796544055,0.872962491801824,0.872962491801824,0.8724628390589034,0.8724628390589034,0.8638614144409735,0.8638614144409735,0.8682954363199793,0.872199942233398,0.8704985298444685,0.872962491801824,0.8680741985874363,0.872962491801824,0.8729378796544055,0.8680741985874363,0.8682954363199793,0.872962491801824,0.872962491801824,0.8452910022125893,0.8158941895157835,0.872962491801824,0.872962491801824,0.8729378796544055,0.8729378796544055,0.872962491801824,0.872962491801824,0.8680741985874363,0.8680741985874363,0.8681938098119895,0.8200660071804712,0.872962491801824,0.872962491801824,0.8724628390589034,0.872962491801824,0.872962491801824,0.8722507285619111,0.8529326987747473,0.8449669204910865,0.872962491801824,0.8729378796544055,0.872962491801824,0.872962491801824,0.872962491801824,0.8724628390589034,0.8680741985874363,0.8682954363199793,0.872962491801824,0.8721595734774663],\"type\":\"scatter\",\"xaxis\":\"x\",\"yaxis\":\"y\"},{\"marker\":{\"color\":[0,1,2,3,4,5,6,7,8,9,10,11,12,13,14,15,16,17,18,19,20,21,22,23,24,25,26,27,28,29,30,31,32,33,34,35,36,37,38,39,40,41,42,43,44,45,46,47,48,49,50,51,52,53,54,55,56,57,58,59,60,61,62,63,64,65,66,67,68,69,70,71,72,73,74,75,76,77,78,79,80,81,82,83,84,85,86,87,88,89,90,91,92,93,94,95,96,97,98,99],\"colorbar\":{\"title\":{\"text\":\"Trial\"},\"x\":1.0,\"xpad\":40},\"colorscale\":[[0.0,\"rgb(247,251,255)\"],[0.125,\"rgb(222,235,247)\"],[0.25,\"rgb(198,219,239)\"],[0.375,\"rgb(158,202,225)\"],[0.5,\"rgb(107,174,214)\"],[0.625,\"rgb(66,146,198)\"],[0.75,\"rgb(33,113,181)\"],[0.875,\"rgb(8,81,156)\"],[1.0,\"rgb(8,48,107)\"]],\"line\":{\"color\":\"Grey\",\"width\":0.5},\"showscale\":false},\"mode\":\"markers\",\"name\":\"Feasible Trial\",\"showlegend\":false,\"x\":[9010,5010,10,2010,4010,1010,7010,6010,6010,1010,3010,6010,3010,8010,8010,7010,9010,6010,7010,5010,8010,8010,8010,8010,9010,9010,7010,7010,6010,6010,8010,8010,8010,9010,5010,9010,5010,5010,4010,4010,4010,3010,9010,9010,9010,9010,7010,10,7010,5010,6010,6010,9010,9010,9010,9010,8010,8010,8010,3010,7010,2010,9010,9010,9010,8010,9010,7010,5010,8010,8010,9010,9010,9010,9010,9010,9010,8010,8010,8010,4010,5010,9010,9010,9010,9010,6010,6010,8010,8010,9010,9010,9010,8010,9010,9010,9010,8010,8010,7010],\"y\":[0.8125303699931606,0.8200660071804712,0.8592517819569019,0.8506136904394008,0.8234176569699679,0.8686307533772099,0.8506483908911969,0.8533465445572455,0.872962491801824,0.8516676297779368,0.8718877917812804,0.8681938098119895,0.8717810610799239,0.8729378796544055,0.872962491801824,0.8682954363199793,0.8682954363199793,0.8449669204910865,0.8725648586065007,0.8721595734774663,0.8127280344708409,0.8452910022125893,0.8724628390589034,0.8729378796544055,0.8729378796544055,0.8680741985874363,0.8680741985874363,0.8725300974036432,0.8725300974036432,0.8454735880465098,0.8150808910002838,0.8127280344708409,0.8729378796544055,0.872962491801824,0.872962491801824,0.872962491801824,0.872199942233398,0.8533445971796669,0.8234176569699679,0.8722507285619111,0.8725648586065007,0.8717825642977509,0.872962491801824,0.872962491801824,0.872962491801824,0.8680741985874363,0.8453699357462255,0.7476367819446748,0.8457988424347721,0.8200660071804712,0.8122535018318611,0.8729378796544055,0.8729378796544055,0.872962491801824,0.872962491801824,0.8724628390589034,0.8724628390589034,0.8638614144409735,0.8638614144409735,0.8682954363199793,0.872199942233398,0.8704985298444685,0.872962491801824,0.8680741985874363,0.872962491801824,0.8729378796544055,0.8680741985874363,0.8682954363199793,0.872962491801824,0.872962491801824,0.8452910022125893,0.8158941895157835,0.872962491801824,0.872962491801824,0.8729378796544055,0.8729378796544055,0.872962491801824,0.872962491801824,0.8680741985874363,0.8680741985874363,0.8681938098119895,0.8200660071804712,0.872962491801824,0.872962491801824,0.8724628390589034,0.872962491801824,0.872962491801824,0.8722507285619111,0.8529326987747473,0.8449669204910865,0.872962491801824,0.8729378796544055,0.872962491801824,0.872962491801824,0.872962491801824,0.8724628390589034,0.8680741985874363,0.8682954363199793,0.872962491801824,0.8721595734774663],\"type\":\"scatter\",\"xaxis\":\"x2\",\"yaxis\":\"y2\"},{\"marker\":{\"color\":[0,1,2,3,4,5,6,7,8,9,10,11,12,13,14,15,16,17,18,19,20,21,22,23,24,25,26,27,28,29,30,31,32,33,34,35,36,37,38,39,40,41,42,43,44,45,46,47,48,49,50,51,52,53,54,55,56,57,58,59,60,61,62,63,64,65,66,67,68,69,70,71,72,73,74,75,76,77,78,79,80,81,82,83,84,85,86,87,88,89,90,91,92,93,94,95,96,97,98,99],\"colorbar\":{\"title\":{\"text\":\"Trial\"},\"x\":1.0,\"xpad\":40},\"colorscale\":[[0.0,\"rgb(247,251,255)\"],[0.125,\"rgb(222,235,247)\"],[0.25,\"rgb(198,219,239)\"],[0.375,\"rgb(158,202,225)\"],[0.5,\"rgb(107,174,214)\"],[0.625,\"rgb(66,146,198)\"],[0.75,\"rgb(33,113,181)\"],[0.875,\"rgb(8,81,156)\"],[1.0,\"rgb(8,48,107)\"]],\"line\":{\"color\":\"Grey\",\"width\":0.5},\"showscale\":false},\"mode\":\"markers\",\"name\":\"Feasible Trial\",\"showlegend\":false,\"x\":[\"ovr\",\"multinomial\",\"auto\",\"auto\",\"multinomial\",\"ovr\",\"auto\",\"auto\",\"ovr\",\"auto\",\"ovr\",\"ovr\",\"ovr\",\"ovr\",\"ovr\",\"ovr\",\"ovr\",\"multinomial\",\"ovr\",\"ovr\",\"ovr\",\"multinomial\",\"ovr\",\"ovr\",\"ovr\",\"ovr\",\"ovr\",\"ovr\",\"ovr\",\"multinomial\",\"multinomial\",\"ovr\",\"ovr\",\"ovr\",\"ovr\",\"ovr\",\"ovr\",\"auto\",\"auto\",\"ovr\",\"ovr\",\"ovr\",\"ovr\",\"ovr\",\"ovr\",\"ovr\",\"auto\",\"auto\",\"multinomial\",\"multinomial\",\"ovr\",\"ovr\",\"ovr\",\"ovr\",\"ovr\",\"ovr\",\"ovr\",\"ovr\",\"ovr\",\"ovr\",\"ovr\",\"ovr\",\"ovr\",\"ovr\",\"ovr\",\"ovr\",\"ovr\",\"ovr\",\"ovr\",\"ovr\",\"auto\",\"multinomial\",\"ovr\",\"ovr\",\"ovr\",\"ovr\",\"ovr\",\"ovr\",\"ovr\",\"ovr\",\"ovr\",\"auto\",\"ovr\",\"ovr\",\"ovr\",\"ovr\",\"ovr\",\"ovr\",\"multinomial\",\"multinomial\",\"ovr\",\"ovr\",\"ovr\",\"ovr\",\"ovr\",\"ovr\",\"ovr\",\"ovr\",\"ovr\",\"ovr\"],\"y\":[0.8125303699931606,0.8200660071804712,0.8592517819569019,0.8506136904394008,0.8234176569699679,0.8686307533772099,0.8506483908911969,0.8533465445572455,0.872962491801824,0.8516676297779368,0.8718877917812804,0.8681938098119895,0.8717810610799239,0.8729378796544055,0.872962491801824,0.8682954363199793,0.8682954363199793,0.8449669204910865,0.8725648586065007,0.8721595734774663,0.8127280344708409,0.8452910022125893,0.8724628390589034,0.8729378796544055,0.8729378796544055,0.8680741985874363,0.8680741985874363,0.8725300974036432,0.8725300974036432,0.8454735880465098,0.8150808910002838,0.8127280344708409,0.8729378796544055,0.872962491801824,0.872962491801824,0.872962491801824,0.872199942233398,0.8533445971796669,0.8234176569699679,0.8722507285619111,0.8725648586065007,0.8717825642977509,0.872962491801824,0.872962491801824,0.872962491801824,0.8680741985874363,0.8453699357462255,0.7476367819446748,0.8457988424347721,0.8200660071804712,0.8122535018318611,0.8729378796544055,0.8729378796544055,0.872962491801824,0.872962491801824,0.8724628390589034,0.8724628390589034,0.8638614144409735,0.8638614144409735,0.8682954363199793,0.872199942233398,0.8704985298444685,0.872962491801824,0.8680741985874363,0.872962491801824,0.8729378796544055,0.8680741985874363,0.8682954363199793,0.872962491801824,0.872962491801824,0.8452910022125893,0.8158941895157835,0.872962491801824,0.872962491801824,0.8729378796544055,0.8729378796544055,0.872962491801824,0.872962491801824,0.8680741985874363,0.8680741985874363,0.8681938098119895,0.8200660071804712,0.872962491801824,0.872962491801824,0.8724628390589034,0.872962491801824,0.872962491801824,0.8722507285619111,0.8529326987747473,0.8449669204910865,0.872962491801824,0.8729378796544055,0.872962491801824,0.872962491801824,0.872962491801824,0.8724628390589034,0.8680741985874363,0.8682954363199793,0.872962491801824,0.8721595734774663],\"type\":\"scatter\",\"xaxis\":\"x3\",\"yaxis\":\"y3\"},{\"marker\":{\"color\":[0,1,2,3,4,5,6,7,8,9,10,11,12,13,14,15,16,17,18,19,20,21,22,23,24,25,26,27,28,29,30,31,32,33,34,35,36,37,38,39,40,41,42,43,44,45,46,47,48,49,50,51,52,53,54,55,56,57,58,59,60,61,62,63,64,65,66,67,68,69,70,71,72,73,74,75,76,77,78,79,80,81,82,83,84,85,86,87,88,89,90,91,92,93,94,95,96,97,98,99],\"colorbar\":{\"title\":{\"text\":\"Trial\"},\"x\":1.0,\"xpad\":40},\"colorscale\":[[0.0,\"rgb(247,251,255)\"],[0.125,\"rgb(222,235,247)\"],[0.25,\"rgb(198,219,239)\"],[0.375,\"rgb(158,202,225)\"],[0.5,\"rgb(107,174,214)\"],[0.625,\"rgb(66,146,198)\"],[0.75,\"rgb(33,113,181)\"],[0.875,\"rgb(8,81,156)\"],[1.0,\"rgb(8,48,107)\"]],\"line\":{\"color\":\"Grey\",\"width\":0.5},\"showscale\":false},\"mode\":\"markers\",\"name\":\"Feasible Trial\",\"showlegend\":false,\"x\":[null,null,\"l2\",null,null,\"l2\",\"l2\",\"l2\",\"l2\",\"l2\",\"l2\",\"l2\",\"l2\",\"l2\",\"l2\",\"l2\",\"l2\",\"l2\",\"l2\",null,null,\"l2\",\"l2\",\"l2\",\"l2\",\"l2\",\"l2\",\"l2\",\"l2\",\"l2\",null,null,\"l2\",\"l2\",\"l2\",\"l2\",\"l2\",\"l2\",null,\"l2\",\"l2\",\"l2\",\"l2\",\"l2\",\"l2\",\"l2\",\"l2\",\"l2\",\"l2\",null,null,\"l2\",\"l2\",\"l2\",\"l2\",\"l2\",\"l2\",\"l2\",\"l2\",\"l2\",\"l2\",\"l2\",\"l2\",\"l2\",\"l2\",\"l2\",\"l2\",\"l2\",\"l2\",\"l2\",\"l2\",null,\"l2\",\"l2\",\"l2\",\"l2\",\"l2\",\"l2\",\"l2\",\"l2\",\"l2\",null,\"l2\",\"l2\",\"l2\",\"l2\",\"l2\",\"l2\",\"l2\",\"l2\",\"l2\",\"l2\",\"l2\",\"l2\",\"l2\",\"l2\",\"l2\",\"l2\",\"l2\",null],\"y\":[0.8125303699931606,0.8200660071804712,0.8592517819569019,0.8506136904394008,0.8234176569699679,0.8686307533772099,0.8506483908911969,0.8533465445572455,0.872962491801824,0.8516676297779368,0.8718877917812804,0.8681938098119895,0.8717810610799239,0.8729378796544055,0.872962491801824,0.8682954363199793,0.8682954363199793,0.8449669204910865,0.8725648586065007,0.8721595734774663,0.8127280344708409,0.8452910022125893,0.8724628390589034,0.8729378796544055,0.8729378796544055,0.8680741985874363,0.8680741985874363,0.8725300974036432,0.8725300974036432,0.8454735880465098,0.8150808910002838,0.8127280344708409,0.8729378796544055,0.872962491801824,0.872962491801824,0.872962491801824,0.872199942233398,0.8533445971796669,0.8234176569699679,0.8722507285619111,0.8725648586065007,0.8717825642977509,0.872962491801824,0.872962491801824,0.872962491801824,0.8680741985874363,0.8453699357462255,0.7476367819446748,0.8457988424347721,0.8200660071804712,0.8122535018318611,0.8729378796544055,0.8729378796544055,0.872962491801824,0.872962491801824,0.8724628390589034,0.8724628390589034,0.8638614144409735,0.8638614144409735,0.8682954363199793,0.872199942233398,0.8704985298444685,0.872962491801824,0.8680741985874363,0.872962491801824,0.8729378796544055,0.8680741985874363,0.8682954363199793,0.872962491801824,0.872962491801824,0.8452910022125893,0.8158941895157835,0.872962491801824,0.872962491801824,0.8729378796544055,0.8729378796544055,0.872962491801824,0.872962491801824,0.8680741985874363,0.8680741985874363,0.8681938098119895,0.8200660071804712,0.872962491801824,0.872962491801824,0.8724628390589034,0.872962491801824,0.872962491801824,0.8722507285619111,0.8529326987747473,0.8449669204910865,0.872962491801824,0.8729378796544055,0.872962491801824,0.872962491801824,0.872962491801824,0.8724628390589034,0.8680741985874363,0.8682954363199793,0.872962491801824,0.8721595734774663],\"type\":\"scatter\",\"xaxis\":\"x4\",\"yaxis\":\"y4\"},{\"marker\":{\"color\":[0,1,2,3,4,5,6,7,8,9,10,11,12,13,14,15,16,17,18,19,20,21,22,23,24,25,26,27,28,29,30,31,32,33,34,35,36,37,38,39,40,41,42,43,44,45,46,47,48,49,50,51,52,53,54,55,56,57,58,59,60,61,62,63,64,65,66,67,68,69,70,71,72,73,74,75,76,77,78,79,80,81,82,83,84,85,86,87,88,89,90,91,92,93,94,95,96,97,98,99],\"colorbar\":{\"title\":{\"text\":\"Trial\"},\"x\":1.0,\"xpad\":40},\"colorscale\":[[0.0,\"rgb(247,251,255)\"],[0.125,\"rgb(222,235,247)\"],[0.25,\"rgb(198,219,239)\"],[0.375,\"rgb(158,202,225)\"],[0.5,\"rgb(107,174,214)\"],[0.625,\"rgb(66,146,198)\"],[0.75,\"rgb(33,113,181)\"],[0.875,\"rgb(8,81,156)\"],[1.0,\"rgb(8,48,107)\"]],\"line\":{\"color\":\"Grey\",\"width\":0.5},\"showscale\":false},\"mode\":\"markers\",\"name\":\"Feasible Trial\",\"showlegend\":false,\"x\":[\"lbfgs\",\"lbfgs\",\"sag\",\"sag\",\"lbfgs\",\"lbfgs\",\"sag\",\"sag\",\"lbfgs\",\"sag\",\"lbfgs\",\"lbfgs\",\"lbfgs\",\"lbfgs\",\"lbfgs\",\"lbfgs\",\"lbfgs\",\"lbfgs\",\"lbfgs\",\"sag\",\"lbfgs\",\"lbfgs\",\"lbfgs\",\"lbfgs\",\"lbfgs\",\"lbfgs\",\"lbfgs\",\"lbfgs\",\"lbfgs\",\"lbfgs\",\"lbfgs\",\"lbfgs\",\"lbfgs\",\"lbfgs\",\"lbfgs\",\"lbfgs\",\"sag\",\"sag\",\"lbfgs\",\"sag\",\"lbfgs\",\"sag\",\"lbfgs\",\"lbfgs\",\"lbfgs\",\"lbfgs\",\"lbfgs\",\"lbfgs\",\"lbfgs\",\"lbfgs\",\"lbfgs\",\"lbfgs\",\"lbfgs\",\"lbfgs\",\"lbfgs\",\"lbfgs\",\"lbfgs\",\"lbfgs\",\"lbfgs\",\"lbfgs\",\"sag\",\"sag\",\"lbfgs\",\"lbfgs\",\"lbfgs\",\"lbfgs\",\"lbfgs\",\"lbfgs\",\"lbfgs\",\"lbfgs\",\"lbfgs\",\"lbfgs\",\"lbfgs\",\"lbfgs\",\"lbfgs\",\"lbfgs\",\"lbfgs\",\"lbfgs\",\"lbfgs\",\"lbfgs\",\"lbfgs\",\"lbfgs\",\"lbfgs\",\"lbfgs\",\"lbfgs\",\"lbfgs\",\"lbfgs\",\"sag\",\"sag\",\"lbfgs\",\"lbfgs\",\"lbfgs\",\"lbfgs\",\"lbfgs\",\"lbfgs\",\"lbfgs\",\"lbfgs\",\"lbfgs\",\"lbfgs\",\"sag\"],\"y\":[0.8125303699931606,0.8200660071804712,0.8592517819569019,0.8506136904394008,0.8234176569699679,0.8686307533772099,0.8506483908911969,0.8533465445572455,0.872962491801824,0.8516676297779368,0.8718877917812804,0.8681938098119895,0.8717810610799239,0.8729378796544055,0.872962491801824,0.8682954363199793,0.8682954363199793,0.8449669204910865,0.8725648586065007,0.8721595734774663,0.8127280344708409,0.8452910022125893,0.8724628390589034,0.8729378796544055,0.8729378796544055,0.8680741985874363,0.8680741985874363,0.8725300974036432,0.8725300974036432,0.8454735880465098,0.8150808910002838,0.8127280344708409,0.8729378796544055,0.872962491801824,0.872962491801824,0.872962491801824,0.872199942233398,0.8533445971796669,0.8234176569699679,0.8722507285619111,0.8725648586065007,0.8717825642977509,0.872962491801824,0.872962491801824,0.872962491801824,0.8680741985874363,0.8453699357462255,0.7476367819446748,0.8457988424347721,0.8200660071804712,0.8122535018318611,0.8729378796544055,0.8729378796544055,0.872962491801824,0.872962491801824,0.8724628390589034,0.8724628390589034,0.8638614144409735,0.8638614144409735,0.8682954363199793,0.872199942233398,0.8704985298444685,0.872962491801824,0.8680741985874363,0.872962491801824,0.8729378796544055,0.8680741985874363,0.8682954363199793,0.872962491801824,0.872962491801824,0.8452910022125893,0.8158941895157835,0.872962491801824,0.872962491801824,0.8729378796544055,0.8729378796544055,0.872962491801824,0.872962491801824,0.8680741985874363,0.8680741985874363,0.8681938098119895,0.8200660071804712,0.872962491801824,0.872962491801824,0.8724628390589034,0.872962491801824,0.872962491801824,0.8722507285619111,0.8529326987747473,0.8449669204910865,0.872962491801824,0.8729378796544055,0.872962491801824,0.872962491801824,0.872962491801824,0.8724628390589034,0.8680741985874363,0.8682954363199793,0.872962491801824,0.8721595734774663],\"type\":\"scatter\",\"xaxis\":\"x5\",\"yaxis\":\"y5\"}],                        {\"template\":{\"data\":{\"histogram2dcontour\":[{\"type\":\"histogram2dcontour\",\"colorbar\":{\"outlinewidth\":0,\"ticks\":\"\"},\"colorscale\":[[0.0,\"#0d0887\"],[0.1111111111111111,\"#46039f\"],[0.2222222222222222,\"#7201a8\"],[0.3333333333333333,\"#9c179e\"],[0.4444444444444444,\"#bd3786\"],[0.5555555555555556,\"#d8576b\"],[0.6666666666666666,\"#ed7953\"],[0.7777777777777778,\"#fb9f3a\"],[0.8888888888888888,\"#fdca26\"],[1.0,\"#f0f921\"]]}],\"choropleth\":[{\"type\":\"choropleth\",\"colorbar\":{\"outlinewidth\":0,\"ticks\":\"\"}}],\"histogram2d\":[{\"type\":\"histogram2d\",\"colorbar\":{\"outlinewidth\":0,\"ticks\":\"\"},\"colorscale\":[[0.0,\"#0d0887\"],[0.1111111111111111,\"#46039f\"],[0.2222222222222222,\"#7201a8\"],[0.3333333333333333,\"#9c179e\"],[0.4444444444444444,\"#bd3786\"],[0.5555555555555556,\"#d8576b\"],[0.6666666666666666,\"#ed7953\"],[0.7777777777777778,\"#fb9f3a\"],[0.8888888888888888,\"#fdca26\"],[1.0,\"#f0f921\"]]}],\"heatmap\":[{\"type\":\"heatmap\",\"colorbar\":{\"outlinewidth\":0,\"ticks\":\"\"},\"colorscale\":[[0.0,\"#0d0887\"],[0.1111111111111111,\"#46039f\"],[0.2222222222222222,\"#7201a8\"],[0.3333333333333333,\"#9c179e\"],[0.4444444444444444,\"#bd3786\"],[0.5555555555555556,\"#d8576b\"],[0.6666666666666666,\"#ed7953\"],[0.7777777777777778,\"#fb9f3a\"],[0.8888888888888888,\"#fdca26\"],[1.0,\"#f0f921\"]]}],\"heatmapgl\":[{\"type\":\"heatmapgl\",\"colorbar\":{\"outlinewidth\":0,\"ticks\":\"\"},\"colorscale\":[[0.0,\"#0d0887\"],[0.1111111111111111,\"#46039f\"],[0.2222222222222222,\"#7201a8\"],[0.3333333333333333,\"#9c179e\"],[0.4444444444444444,\"#bd3786\"],[0.5555555555555556,\"#d8576b\"],[0.6666666666666666,\"#ed7953\"],[0.7777777777777778,\"#fb9f3a\"],[0.8888888888888888,\"#fdca26\"],[1.0,\"#f0f921\"]]}],\"contourcarpet\":[{\"type\":\"contourcarpet\",\"colorbar\":{\"outlinewidth\":0,\"ticks\":\"\"}}],\"contour\":[{\"type\":\"contour\",\"colorbar\":{\"outlinewidth\":0,\"ticks\":\"\"},\"colorscale\":[[0.0,\"#0d0887\"],[0.1111111111111111,\"#46039f\"],[0.2222222222222222,\"#7201a8\"],[0.3333333333333333,\"#9c179e\"],[0.4444444444444444,\"#bd3786\"],[0.5555555555555556,\"#d8576b\"],[0.6666666666666666,\"#ed7953\"],[0.7777777777777778,\"#fb9f3a\"],[0.8888888888888888,\"#fdca26\"],[1.0,\"#f0f921\"]]}],\"surface\":[{\"type\":\"surface\",\"colorbar\":{\"outlinewidth\":0,\"ticks\":\"\"},\"colorscale\":[[0.0,\"#0d0887\"],[0.1111111111111111,\"#46039f\"],[0.2222222222222222,\"#7201a8\"],[0.3333333333333333,\"#9c179e\"],[0.4444444444444444,\"#bd3786\"],[0.5555555555555556,\"#d8576b\"],[0.6666666666666666,\"#ed7953\"],[0.7777777777777778,\"#fb9f3a\"],[0.8888888888888888,\"#fdca26\"],[1.0,\"#f0f921\"]]}],\"mesh3d\":[{\"type\":\"mesh3d\",\"colorbar\":{\"outlinewidth\":0,\"ticks\":\"\"}}],\"scatter\":[{\"fillpattern\":{\"fillmode\":\"overlay\",\"size\":10,\"solidity\":0.2},\"type\":\"scatter\"}],\"parcoords\":[{\"type\":\"parcoords\",\"line\":{\"colorbar\":{\"outlinewidth\":0,\"ticks\":\"\"}}}],\"scatterpolargl\":[{\"type\":\"scatterpolargl\",\"marker\":{\"colorbar\":{\"outlinewidth\":0,\"ticks\":\"\"}}}],\"bar\":[{\"error_x\":{\"color\":\"#2a3f5f\"},\"error_y\":{\"color\":\"#2a3f5f\"},\"marker\":{\"line\":{\"color\":\"#E5ECF6\",\"width\":0.5},\"pattern\":{\"fillmode\":\"overlay\",\"size\":10,\"solidity\":0.2}},\"type\":\"bar\"}],\"scattergeo\":[{\"type\":\"scattergeo\",\"marker\":{\"colorbar\":{\"outlinewidth\":0,\"ticks\":\"\"}}}],\"scatterpolar\":[{\"type\":\"scatterpolar\",\"marker\":{\"colorbar\":{\"outlinewidth\":0,\"ticks\":\"\"}}}],\"histogram\":[{\"marker\":{\"pattern\":{\"fillmode\":\"overlay\",\"size\":10,\"solidity\":0.2}},\"type\":\"histogram\"}],\"scattergl\":[{\"type\":\"scattergl\",\"marker\":{\"colorbar\":{\"outlinewidth\":0,\"ticks\":\"\"}}}],\"scatter3d\":[{\"type\":\"scatter3d\",\"line\":{\"colorbar\":{\"outlinewidth\":0,\"ticks\":\"\"}},\"marker\":{\"colorbar\":{\"outlinewidth\":0,\"ticks\":\"\"}}}],\"scattermapbox\":[{\"type\":\"scattermapbox\",\"marker\":{\"colorbar\":{\"outlinewidth\":0,\"ticks\":\"\"}}}],\"scatterternary\":[{\"type\":\"scatterternary\",\"marker\":{\"colorbar\":{\"outlinewidth\":0,\"ticks\":\"\"}}}],\"scattercarpet\":[{\"type\":\"scattercarpet\",\"marker\":{\"colorbar\":{\"outlinewidth\":0,\"ticks\":\"\"}}}],\"carpet\":[{\"aaxis\":{\"endlinecolor\":\"#2a3f5f\",\"gridcolor\":\"white\",\"linecolor\":\"white\",\"minorgridcolor\":\"white\",\"startlinecolor\":\"#2a3f5f\"},\"baxis\":{\"endlinecolor\":\"#2a3f5f\",\"gridcolor\":\"white\",\"linecolor\":\"white\",\"minorgridcolor\":\"white\",\"startlinecolor\":\"#2a3f5f\"},\"type\":\"carpet\"}],\"table\":[{\"cells\":{\"fill\":{\"color\":\"#EBF0F8\"},\"line\":{\"color\":\"white\"}},\"header\":{\"fill\":{\"color\":\"#C8D4E3\"},\"line\":{\"color\":\"white\"}},\"type\":\"table\"}],\"barpolar\":[{\"marker\":{\"line\":{\"color\":\"#E5ECF6\",\"width\":0.5},\"pattern\":{\"fillmode\":\"overlay\",\"size\":10,\"solidity\":0.2}},\"type\":\"barpolar\"}],\"pie\":[{\"automargin\":true,\"type\":\"pie\"}]},\"layout\":{\"autotypenumbers\":\"strict\",\"colorway\":[\"#636efa\",\"#EF553B\",\"#00cc96\",\"#ab63fa\",\"#FFA15A\",\"#19d3f3\",\"#FF6692\",\"#B6E880\",\"#FF97FF\",\"#FECB52\"],\"font\":{\"color\":\"#2a3f5f\"},\"hovermode\":\"closest\",\"hoverlabel\":{\"align\":\"left\"},\"paper_bgcolor\":\"white\",\"plot_bgcolor\":\"#E5ECF6\",\"polar\":{\"bgcolor\":\"#E5ECF6\",\"angularaxis\":{\"gridcolor\":\"white\",\"linecolor\":\"white\",\"ticks\":\"\"},\"radialaxis\":{\"gridcolor\":\"white\",\"linecolor\":\"white\",\"ticks\":\"\"}},\"ternary\":{\"bgcolor\":\"#E5ECF6\",\"aaxis\":{\"gridcolor\":\"white\",\"linecolor\":\"white\",\"ticks\":\"\"},\"baxis\":{\"gridcolor\":\"white\",\"linecolor\":\"white\",\"ticks\":\"\"},\"caxis\":{\"gridcolor\":\"white\",\"linecolor\":\"white\",\"ticks\":\"\"}},\"coloraxis\":{\"colorbar\":{\"outlinewidth\":0,\"ticks\":\"\"}},\"colorscale\":{\"sequential\":[[0.0,\"#0d0887\"],[0.1111111111111111,\"#46039f\"],[0.2222222222222222,\"#7201a8\"],[0.3333333333333333,\"#9c179e\"],[0.4444444444444444,\"#bd3786\"],[0.5555555555555556,\"#d8576b\"],[0.6666666666666666,\"#ed7953\"],[0.7777777777777778,\"#fb9f3a\"],[0.8888888888888888,\"#fdca26\"],[1.0,\"#f0f921\"]],\"sequentialminus\":[[0.0,\"#0d0887\"],[0.1111111111111111,\"#46039f\"],[0.2222222222222222,\"#7201a8\"],[0.3333333333333333,\"#9c179e\"],[0.4444444444444444,\"#bd3786\"],[0.5555555555555556,\"#d8576b\"],[0.6666666666666666,\"#ed7953\"],[0.7777777777777778,\"#fb9f3a\"],[0.8888888888888888,\"#fdca26\"],[1.0,\"#f0f921\"]],\"diverging\":[[0,\"#8e0152\"],[0.1,\"#c51b7d\"],[0.2,\"#de77ae\"],[0.3,\"#f1b6da\"],[0.4,\"#fde0ef\"],[0.5,\"#f7f7f7\"],[0.6,\"#e6f5d0\"],[0.7,\"#b8e186\"],[0.8,\"#7fbc41\"],[0.9,\"#4d9221\"],[1,\"#276419\"]]},\"xaxis\":{\"gridcolor\":\"white\",\"linecolor\":\"white\",\"ticks\":\"\",\"title\":{\"standoff\":15},\"zerolinecolor\":\"white\",\"automargin\":true,\"zerolinewidth\":2},\"yaxis\":{\"gridcolor\":\"white\",\"linecolor\":\"white\",\"ticks\":\"\",\"title\":{\"standoff\":15},\"zerolinecolor\":\"white\",\"automargin\":true,\"zerolinewidth\":2},\"scene\":{\"xaxis\":{\"backgroundcolor\":\"#E5ECF6\",\"gridcolor\":\"white\",\"linecolor\":\"white\",\"showbackground\":true,\"ticks\":\"\",\"zerolinecolor\":\"white\",\"gridwidth\":2},\"yaxis\":{\"backgroundcolor\":\"#E5ECF6\",\"gridcolor\":\"white\",\"linecolor\":\"white\",\"showbackground\":true,\"ticks\":\"\",\"zerolinecolor\":\"white\",\"gridwidth\":2},\"zaxis\":{\"backgroundcolor\":\"#E5ECF6\",\"gridcolor\":\"white\",\"linecolor\":\"white\",\"showbackground\":true,\"ticks\":\"\",\"zerolinecolor\":\"white\",\"gridwidth\":2}},\"shapedefaults\":{\"line\":{\"color\":\"#2a3f5f\"}},\"annotationdefaults\":{\"arrowcolor\":\"#2a3f5f\",\"arrowhead\":0,\"arrowwidth\":1},\"geo\":{\"bgcolor\":\"white\",\"landcolor\":\"#E5ECF6\",\"subunitcolor\":\"white\",\"showland\":true,\"showlakes\":true,\"lakecolor\":\"white\"},\"title\":{\"x\":0.05},\"mapbox\":{\"style\":\"light\"}}},\"xaxis\":{\"anchor\":\"y\",\"domain\":[0.0,0.16799999999999998],\"title\":{\"text\":\"C\"}},\"yaxis\":{\"anchor\":\"x\",\"domain\":[0.0,1.0],\"title\":{\"text\":\"Objective Value\"}},\"xaxis2\":{\"anchor\":\"y2\",\"domain\":[0.208,0.376],\"title\":{\"text\":\"max_iter\"}},\"yaxis2\":{\"anchor\":\"x2\",\"domain\":[0.0,1.0],\"matches\":\"y\",\"showticklabels\":false},\"xaxis3\":{\"anchor\":\"y3\",\"domain\":[0.416,0.584],\"title\":{\"text\":\"multi_class\"},\"type\":\"category\",\"categoryorder\":\"array\",\"categoryarray\":[\"auto\",\"ovr\",\"multinomial\"]},\"yaxis3\":{\"anchor\":\"x3\",\"domain\":[0.0,1.0],\"matches\":\"y\",\"showticklabels\":false},\"xaxis4\":{\"anchor\":\"y4\",\"domain\":[0.624,0.792],\"title\":{\"text\":\"penalty\"},\"type\":\"category\",\"categoryorder\":\"array\",\"categoryarray\":[\"l2\",null]},\"yaxis4\":{\"anchor\":\"x4\",\"domain\":[0.0,1.0],\"matches\":\"y\",\"showticklabels\":false},\"xaxis5\":{\"anchor\":\"y5\",\"domain\":[0.832,1.0],\"title\":{\"text\":\"solver\"},\"type\":\"category\",\"categoryorder\":\"array\",\"categoryarray\":[\"sag\",\"lbfgs\"]},\"yaxis5\":{\"anchor\":\"x5\",\"domain\":[0.0,1.0],\"matches\":\"y\",\"showticklabels\":false},\"title\":{\"text\":\"Slice Plot\"},\"width\":1500},                        {\"responsive\": true}                    ).then(function(){\n",
              "                            \n",
              "var gd = document.getElementById('a8ea5a27-788d-4c84-acaf-ecadb79754e4');\n",
              "var x = new MutationObserver(function (mutations, observer) {{\n",
              "        var display = window.getComputedStyle(gd).display;\n",
              "        if (!display || display === 'none') {{\n",
              "            console.log([gd, 'removed!']);\n",
              "            Plotly.purge(gd);\n",
              "            observer.disconnect();\n",
              "        }}\n",
              "}});\n",
              "\n",
              "// Listen for the removal of the full notebook cells\n",
              "var notebookContainer = gd.closest('#notebook-container');\n",
              "if (notebookContainer) {{\n",
              "    x.observe(notebookContainer, {childList: true});\n",
              "}}\n",
              "\n",
              "// Listen for the clearing of the current output cell\n",
              "var outputEl = gd.closest('.output');\n",
              "if (outputEl) {{\n",
              "    x.observe(outputEl, {childList: true});\n",
              "}}\n",
              "\n",
              "                        })                };                            </script>        </div>\n",
              "</body>\n",
              "</html>"
            ]
          },
          "metadata": {}
        }
      ],
      "source": [
        "params = [\"C\",\n",
        "          'solver',\n",
        "          'max_iter',\n",
        "          'multi_class',\n",
        "          'penalty'\n",
        "          ]\n",
        "\n",
        "optuna.visualization.plot_slice(study, params=params,# target_name='accuracy'\n",
        ")"
      ]
    },
    {
      "cell_type": "code",
      "execution_count": null,
      "metadata": {
        "colab": {
          "base_uri": "https://localhost:8080/",
          "height": 542
        },
        "id": "Y0ypY5UlnXzJ",
        "outputId": "8486b5a8-a764-4ed6-c54f-3ac55d4be42d"
      },
      "outputs": [
        {
          "data": {
            "text/html": [
              "<html>\n",
              "<head><meta charset=\"utf-8\" /></head>\n",
              "<body>\n",
              "    <div>            <script src=\"https://cdnjs.cloudflare.com/ajax/libs/mathjax/2.7.5/MathJax.js?config=TeX-AMS-MML_SVG\"></script><script type=\"text/javascript\">if (window.MathJax && window.MathJax.Hub && window.MathJax.Hub.Config) {window.MathJax.Hub.Config({SVG: {font: \"STIX-Web\"}});}</script>                <script type=\"text/javascript\">window.PlotlyConfig = {MathJaxConfig: 'local'};</script>\n",
              "        <script charset=\"utf-8\" src=\"https://cdn.plot.ly/plotly-2.24.1.min.js\"></script>                <div id=\"00a77698-e59a-48b8-a037-b28aab79ad05\" class=\"plotly-graph-div\" style=\"height:525px; width:100%;\"></div>            <script type=\"text/javascript\">                                    window.PLOTLYENV=window.PLOTLYENV || {};                                    if (document.getElementById(\"00a77698-e59a-48b8-a037-b28aab79ad05\")) {                    Plotly.newPlot(                        \"00a77698-e59a-48b8-a037-b28aab79ad05\",                        [{\"cliponaxis\":false,\"hovertemplate\":[\"penalty (CategoricalDistribution): 0.06526600004527047\\u003cextra\\u003e\\u003c\\u002fextra\\u003e\",\"C (FloatDistribution): 0.06936176664435843\\u003cextra\\u003e\\u003c\\u002fextra\\u003e\",\"max_iter (IntDistribution): 0.19364884326263226\\u003cextra\\u003e\\u003c\\u002fextra\\u003e\",\"multi_class (CategoricalDistribution): 0.20858008583170418\\u003cextra\\u003e\\u003c\\u002fextra\\u003e\",\"solver (CategoricalDistribution): 0.4631433042160347\\u003cextra\\u003e\\u003c\\u002fextra\\u003e\"],\"name\":\"Objective Value\",\"orientation\":\"h\",\"text\":[\"0.07\",\"0.07\",\"0.19\",\"0.21\",\"0.46\"],\"textposition\":\"outside\",\"x\":[0.06526600004527047,0.06936176664435843,0.19364884326263226,0.20858008583170418,0.4631433042160347],\"y\":[\"penalty\",\"C\",\"max_iter\",\"multi_class\",\"solver\"],\"type\":\"bar\"}],                        {\"title\":{\"text\":\"Hyperparameter Importances\"},\"xaxis\":{\"title\":{\"text\":\"Hyperparameter Importance\"}},\"yaxis\":{\"title\":{\"text\":\"Hyperparameter\"}},\"template\":{\"data\":{\"histogram2dcontour\":[{\"type\":\"histogram2dcontour\",\"colorbar\":{\"outlinewidth\":0,\"ticks\":\"\"},\"colorscale\":[[0.0,\"#0d0887\"],[0.1111111111111111,\"#46039f\"],[0.2222222222222222,\"#7201a8\"],[0.3333333333333333,\"#9c179e\"],[0.4444444444444444,\"#bd3786\"],[0.5555555555555556,\"#d8576b\"],[0.6666666666666666,\"#ed7953\"],[0.7777777777777778,\"#fb9f3a\"],[0.8888888888888888,\"#fdca26\"],[1.0,\"#f0f921\"]]}],\"choropleth\":[{\"type\":\"choropleth\",\"colorbar\":{\"outlinewidth\":0,\"ticks\":\"\"}}],\"histogram2d\":[{\"type\":\"histogram2d\",\"colorbar\":{\"outlinewidth\":0,\"ticks\":\"\"},\"colorscale\":[[0.0,\"#0d0887\"],[0.1111111111111111,\"#46039f\"],[0.2222222222222222,\"#7201a8\"],[0.3333333333333333,\"#9c179e\"],[0.4444444444444444,\"#bd3786\"],[0.5555555555555556,\"#d8576b\"],[0.6666666666666666,\"#ed7953\"],[0.7777777777777778,\"#fb9f3a\"],[0.8888888888888888,\"#fdca26\"],[1.0,\"#f0f921\"]]}],\"heatmap\":[{\"type\":\"heatmap\",\"colorbar\":{\"outlinewidth\":0,\"ticks\":\"\"},\"colorscale\":[[0.0,\"#0d0887\"],[0.1111111111111111,\"#46039f\"],[0.2222222222222222,\"#7201a8\"],[0.3333333333333333,\"#9c179e\"],[0.4444444444444444,\"#bd3786\"],[0.5555555555555556,\"#d8576b\"],[0.6666666666666666,\"#ed7953\"],[0.7777777777777778,\"#fb9f3a\"],[0.8888888888888888,\"#fdca26\"],[1.0,\"#f0f921\"]]}],\"heatmapgl\":[{\"type\":\"heatmapgl\",\"colorbar\":{\"outlinewidth\":0,\"ticks\":\"\"},\"colorscale\":[[0.0,\"#0d0887\"],[0.1111111111111111,\"#46039f\"],[0.2222222222222222,\"#7201a8\"],[0.3333333333333333,\"#9c179e\"],[0.4444444444444444,\"#bd3786\"],[0.5555555555555556,\"#d8576b\"],[0.6666666666666666,\"#ed7953\"],[0.7777777777777778,\"#fb9f3a\"],[0.8888888888888888,\"#fdca26\"],[1.0,\"#f0f921\"]]}],\"contourcarpet\":[{\"type\":\"contourcarpet\",\"colorbar\":{\"outlinewidth\":0,\"ticks\":\"\"}}],\"contour\":[{\"type\":\"contour\",\"colorbar\":{\"outlinewidth\":0,\"ticks\":\"\"},\"colorscale\":[[0.0,\"#0d0887\"],[0.1111111111111111,\"#46039f\"],[0.2222222222222222,\"#7201a8\"],[0.3333333333333333,\"#9c179e\"],[0.4444444444444444,\"#bd3786\"],[0.5555555555555556,\"#d8576b\"],[0.6666666666666666,\"#ed7953\"],[0.7777777777777778,\"#fb9f3a\"],[0.8888888888888888,\"#fdca26\"],[1.0,\"#f0f921\"]]}],\"surface\":[{\"type\":\"surface\",\"colorbar\":{\"outlinewidth\":0,\"ticks\":\"\"},\"colorscale\":[[0.0,\"#0d0887\"],[0.1111111111111111,\"#46039f\"],[0.2222222222222222,\"#7201a8\"],[0.3333333333333333,\"#9c179e\"],[0.4444444444444444,\"#bd3786\"],[0.5555555555555556,\"#d8576b\"],[0.6666666666666666,\"#ed7953\"],[0.7777777777777778,\"#fb9f3a\"],[0.8888888888888888,\"#fdca26\"],[1.0,\"#f0f921\"]]}],\"mesh3d\":[{\"type\":\"mesh3d\",\"colorbar\":{\"outlinewidth\":0,\"ticks\":\"\"}}],\"scatter\":[{\"fillpattern\":{\"fillmode\":\"overlay\",\"size\":10,\"solidity\":0.2},\"type\":\"scatter\"}],\"parcoords\":[{\"type\":\"parcoords\",\"line\":{\"colorbar\":{\"outlinewidth\":0,\"ticks\":\"\"}}}],\"scatterpolargl\":[{\"type\":\"scatterpolargl\",\"marker\":{\"colorbar\":{\"outlinewidth\":0,\"ticks\":\"\"}}}],\"bar\":[{\"error_x\":{\"color\":\"#2a3f5f\"},\"error_y\":{\"color\":\"#2a3f5f\"},\"marker\":{\"line\":{\"color\":\"#E5ECF6\",\"width\":0.5},\"pattern\":{\"fillmode\":\"overlay\",\"size\":10,\"solidity\":0.2}},\"type\":\"bar\"}],\"scattergeo\":[{\"type\":\"scattergeo\",\"marker\":{\"colorbar\":{\"outlinewidth\":0,\"ticks\":\"\"}}}],\"scatterpolar\":[{\"type\":\"scatterpolar\",\"marker\":{\"colorbar\":{\"outlinewidth\":0,\"ticks\":\"\"}}}],\"histogram\":[{\"marker\":{\"pattern\":{\"fillmode\":\"overlay\",\"size\":10,\"solidity\":0.2}},\"type\":\"histogram\"}],\"scattergl\":[{\"type\":\"scattergl\",\"marker\":{\"colorbar\":{\"outlinewidth\":0,\"ticks\":\"\"}}}],\"scatter3d\":[{\"type\":\"scatter3d\",\"line\":{\"colorbar\":{\"outlinewidth\":0,\"ticks\":\"\"}},\"marker\":{\"colorbar\":{\"outlinewidth\":0,\"ticks\":\"\"}}}],\"scattermapbox\":[{\"type\":\"scattermapbox\",\"marker\":{\"colorbar\":{\"outlinewidth\":0,\"ticks\":\"\"}}}],\"scatterternary\":[{\"type\":\"scatterternary\",\"marker\":{\"colorbar\":{\"outlinewidth\":0,\"ticks\":\"\"}}}],\"scattercarpet\":[{\"type\":\"scattercarpet\",\"marker\":{\"colorbar\":{\"outlinewidth\":0,\"ticks\":\"\"}}}],\"carpet\":[{\"aaxis\":{\"endlinecolor\":\"#2a3f5f\",\"gridcolor\":\"white\",\"linecolor\":\"white\",\"minorgridcolor\":\"white\",\"startlinecolor\":\"#2a3f5f\"},\"baxis\":{\"endlinecolor\":\"#2a3f5f\",\"gridcolor\":\"white\",\"linecolor\":\"white\",\"minorgridcolor\":\"white\",\"startlinecolor\":\"#2a3f5f\"},\"type\":\"carpet\"}],\"table\":[{\"cells\":{\"fill\":{\"color\":\"#EBF0F8\"},\"line\":{\"color\":\"white\"}},\"header\":{\"fill\":{\"color\":\"#C8D4E3\"},\"line\":{\"color\":\"white\"}},\"type\":\"table\"}],\"barpolar\":[{\"marker\":{\"line\":{\"color\":\"#E5ECF6\",\"width\":0.5},\"pattern\":{\"fillmode\":\"overlay\",\"size\":10,\"solidity\":0.2}},\"type\":\"barpolar\"}],\"pie\":[{\"automargin\":true,\"type\":\"pie\"}]},\"layout\":{\"autotypenumbers\":\"strict\",\"colorway\":[\"#636efa\",\"#EF553B\",\"#00cc96\",\"#ab63fa\",\"#FFA15A\",\"#19d3f3\",\"#FF6692\",\"#B6E880\",\"#FF97FF\",\"#FECB52\"],\"font\":{\"color\":\"#2a3f5f\"},\"hovermode\":\"closest\",\"hoverlabel\":{\"align\":\"left\"},\"paper_bgcolor\":\"white\",\"plot_bgcolor\":\"#E5ECF6\",\"polar\":{\"bgcolor\":\"#E5ECF6\",\"angularaxis\":{\"gridcolor\":\"white\",\"linecolor\":\"white\",\"ticks\":\"\"},\"radialaxis\":{\"gridcolor\":\"white\",\"linecolor\":\"white\",\"ticks\":\"\"}},\"ternary\":{\"bgcolor\":\"#E5ECF6\",\"aaxis\":{\"gridcolor\":\"white\",\"linecolor\":\"white\",\"ticks\":\"\"},\"baxis\":{\"gridcolor\":\"white\",\"linecolor\":\"white\",\"ticks\":\"\"},\"caxis\":{\"gridcolor\":\"white\",\"linecolor\":\"white\",\"ticks\":\"\"}},\"coloraxis\":{\"colorbar\":{\"outlinewidth\":0,\"ticks\":\"\"}},\"colorscale\":{\"sequential\":[[0.0,\"#0d0887\"],[0.1111111111111111,\"#46039f\"],[0.2222222222222222,\"#7201a8\"],[0.3333333333333333,\"#9c179e\"],[0.4444444444444444,\"#bd3786\"],[0.5555555555555556,\"#d8576b\"],[0.6666666666666666,\"#ed7953\"],[0.7777777777777778,\"#fb9f3a\"],[0.8888888888888888,\"#fdca26\"],[1.0,\"#f0f921\"]],\"sequentialminus\":[[0.0,\"#0d0887\"],[0.1111111111111111,\"#46039f\"],[0.2222222222222222,\"#7201a8\"],[0.3333333333333333,\"#9c179e\"],[0.4444444444444444,\"#bd3786\"],[0.5555555555555556,\"#d8576b\"],[0.6666666666666666,\"#ed7953\"],[0.7777777777777778,\"#fb9f3a\"],[0.8888888888888888,\"#fdca26\"],[1.0,\"#f0f921\"]],\"diverging\":[[0,\"#8e0152\"],[0.1,\"#c51b7d\"],[0.2,\"#de77ae\"],[0.3,\"#f1b6da\"],[0.4,\"#fde0ef\"],[0.5,\"#f7f7f7\"],[0.6,\"#e6f5d0\"],[0.7,\"#b8e186\"],[0.8,\"#7fbc41\"],[0.9,\"#4d9221\"],[1,\"#276419\"]]},\"xaxis\":{\"gridcolor\":\"white\",\"linecolor\":\"white\",\"ticks\":\"\",\"title\":{\"standoff\":15},\"zerolinecolor\":\"white\",\"automargin\":true,\"zerolinewidth\":2},\"yaxis\":{\"gridcolor\":\"white\",\"linecolor\":\"white\",\"ticks\":\"\",\"title\":{\"standoff\":15},\"zerolinecolor\":\"white\",\"automargin\":true,\"zerolinewidth\":2},\"scene\":{\"xaxis\":{\"backgroundcolor\":\"#E5ECF6\",\"gridcolor\":\"white\",\"linecolor\":\"white\",\"showbackground\":true,\"ticks\":\"\",\"zerolinecolor\":\"white\",\"gridwidth\":2},\"yaxis\":{\"backgroundcolor\":\"#E5ECF6\",\"gridcolor\":\"white\",\"linecolor\":\"white\",\"showbackground\":true,\"ticks\":\"\",\"zerolinecolor\":\"white\",\"gridwidth\":2},\"zaxis\":{\"backgroundcolor\":\"#E5ECF6\",\"gridcolor\":\"white\",\"linecolor\":\"white\",\"showbackground\":true,\"ticks\":\"\",\"zerolinecolor\":\"white\",\"gridwidth\":2}},\"shapedefaults\":{\"line\":{\"color\":\"#2a3f5f\"}},\"annotationdefaults\":{\"arrowcolor\":\"#2a3f5f\",\"arrowhead\":0,\"arrowwidth\":1},\"geo\":{\"bgcolor\":\"white\",\"landcolor\":\"#E5ECF6\",\"subunitcolor\":\"white\",\"showland\":true,\"showlakes\":true,\"lakecolor\":\"white\"},\"title\":{\"x\":0.05},\"mapbox\":{\"style\":\"light\"}}}},                        {\"responsive\": true}                    ).then(function(){\n",
              "                            \n",
              "var gd = document.getElementById('00a77698-e59a-48b8-a037-b28aab79ad05');\n",
              "var x = new MutationObserver(function (mutations, observer) {{\n",
              "        var display = window.getComputedStyle(gd).display;\n",
              "        if (!display || display === 'none') {{\n",
              "            console.log([gd, 'removed!']);\n",
              "            Plotly.purge(gd);\n",
              "            observer.disconnect();\n",
              "        }}\n",
              "}});\n",
              "\n",
              "// Listen for the removal of the full notebook cells\n",
              "var notebookContainer = gd.closest('#notebook-container');\n",
              "if (notebookContainer) {{\n",
              "    x.observe(notebookContainer, {childList: true});\n",
              "}}\n",
              "\n",
              "// Listen for the clearing of the current output cell\n",
              "var outputEl = gd.closest('.output');\n",
              "if (outputEl) {{\n",
              "    x.observe(outputEl, {childList: true});\n",
              "}}\n",
              "\n",
              "                        })                };                            </script>        </div>\n",
              "</body>\n",
              "</html>"
            ]
          },
          "metadata": {},
          "output_type": "display_data"
        }
      ],
      "source": [
        "optuna.visualization.plot_param_importances(study)"
      ]
    },
    {
      "cell_type": "code",
      "execution_count": null,
      "metadata": {
        "id": "X91j4eSU1UFm",
        "colab": {
          "base_uri": "https://localhost:8080/"
        },
        "outputId": "157f4fec-485b-48db-e92a-93c98313830c"
      },
      "outputs": [
        {
          "output_type": "stream",
          "name": "stdout",
          "text": [
            "Number of finished trials: 100\n",
            "Best trial:\n",
            "  Value: 0.872962491801824\n",
            "  Params: \n",
            "    C: 2.7\n",
            "    solver: lbfgs\n",
            "    max_iter: 6010\n",
            "    multi_class: ovr\n",
            "    penalty: l2\n"
          ]
        }
      ],
      "source": [
        "print(\"Number of finished trials: {}\".format(len(study.trials)))\n",
        "print(\"Best trial:\")\n",
        "trial = study.best_trial\n",
        "print(\"  Value: {}\".format(trial.value))\n",
        "print(\"  Params: \")\n",
        "\n",
        "for key, value in trial.params.items():\n",
        "    print(\"    {}: {}\".format(key, value))\n"
      ]
    },
    {
      "cell_type": "markdown",
      "metadata": {
        "id": "S_U4WqpLwIsX"
      },
      "source": [
        "## SVM"
      ]
    },
    {
      "cell_type": "markdown",
      "metadata": {
        "id": "ETF0OaFqD85n"
      },
      "source": [
        "# Greid for model"
      ]
    },
    {
      "cell_type": "code",
      "execution_count": null,
      "metadata": {
        "id": "HSc1H8uuD5IZ"
      },
      "outputs": [],
      "source": [
        "from sklearn.model_selection import GridSearchCV"
      ]
    },
    {
      "cell_type": "code",
      "execution_count": null,
      "metadata": {
        "id": "Bl7vM5lMENER"
      },
      "outputs": [],
      "source": [
        "# parameters = {'model_w2v__min_count':[5, 10, 15, 20], 'model_w2v__window':[5, 10, 15]}\n",
        "# pipe = Pipeline([('model_w2v', Word2Vec(sentences=X_train,\n",
        "#                  vector_size=300,\n",
        "#                 #  min_count=8,\n",
        "#                 #  window=15,\n",
        "#                  seed=RND_STATE)),\n",
        "#                   ('w2v_tfidf', TfidfEmbeddingVectorizer(model_w2v)),\n",
        "#                   ('scaler', StandardScaler()),\n",
        "#                   ('clf', SVC(random_state=RND_STATE,\n",
        "#                              max_iter=10000,\n",
        "#                             #  class_weight='balanced'\n",
        "#                              ))])\n",
        "# clf = GridSearchCV(pipe, parameters)\n",
        "\n",
        "# clf.fit(X_train, y_train)"
      ]
    },
    {
      "cell_type": "code",
      "execution_count": null,
      "metadata": {
        "id": "6f77eT_dEIte"
      },
      "outputs": [],
      "source": [
        "model_w2v = Word2Vec(sentences=X_train,\n",
        "                 vector_size=300,\n",
        "                 min_count=8,\n",
        "                 window=15,\n",
        "                 seed=RND_STATE)"
      ]
    },
    {
      "cell_type": "code",
      "execution_count": null,
      "metadata": {
        "id": "yfR5HM-IEJpQ"
      },
      "outputs": [],
      "source": [
        "%%time\n",
        "pipe = Pipeline([('w2v_tfidf', TfidfEmbeddingVectorizer(model_w2v)),\n",
        "                  ('scaler', StandardScaler()),\n",
        "                  ('clf', SVC(random_state=RND_STATE,\n",
        "                             max_iter=10000,\n",
        "                            #  class_weight='balanced'\n",
        "                             ))])\n",
        "\n",
        "pipe.fit(X_train, y_train)"
      ]
    },
    {
      "cell_type": "markdown",
      "metadata": {
        "id": "5Dy-yVBZCVi0"
      },
      "source": [
        "### W2V"
      ]
    },
    {
      "cell_type": "code",
      "execution_count": null,
      "metadata": {
        "colab": {
          "base_uri": "https://localhost:8080/"
        },
        "id": "Xp3WtMbRwKX-",
        "outputId": "c3d0f4f0-cc24-4b39-e2a1-4e54f0e88e79"
      },
      "outputs": [
        {
          "name": "stdout",
          "output_type": "stream",
          "text": [
            "              precision    recall  f1-score   support\n",
            "\n",
            "           0       0.86      0.89      0.88      2869\n",
            "           1       0.83      0.85      0.84       837\n",
            "           2       0.85      0.81      0.83       400\n",
            "           3       0.85      0.82      0.84       707\n",
            "           4       0.97      0.96      0.97       617\n",
            "           5       0.69      0.33      0.45        27\n",
            "           6       0.96      0.95      0.96       190\n",
            "           7       0.89      0.89      0.89       347\n",
            "           8       0.90      0.83      0.86       466\n",
            "\n",
            "    accuracy                           0.87      6460\n",
            "   macro avg       0.87      0.82      0.83      6460\n",
            "weighted avg       0.87      0.87      0.87      6460\n",
            "\n",
            "CPU times: user 2min 51s, sys: 503 ms, total: 2min 52s\n",
            "Wall time: 2min 53s\n"
          ]
        }
      ],
      "source": [
        "%%time\n",
        "pipe = Pipeline([('w2v_tfidf', TfidfEmbeddingVectorizer(model_w2v)),\n",
        "                  ('scaler', StandardScaler()),\n",
        "                  ('clf', SVC(random_state=RND_STATE,\n",
        "                             max_iter=10000,\n",
        "                            #  class_weight='balanced'\n",
        "                             ))])\n",
        "\n",
        "pipe.fit(X_train, y_train)\n",
        "\n",
        "print(classification_report(y_test, pipe.predict(X_test)))"
      ]
    },
    {
      "cell_type": "markdown",
      "metadata": {
        "id": "SIuQ-m6ECjLm"
      },
      "source": [
        "### FastText"
      ]
    },
    {
      "cell_type": "code",
      "execution_count": null,
      "metadata": {
        "colab": {
          "base_uri": "https://localhost:8080/"
        },
        "id": "qjSrZFPP0bU5",
        "outputId": "edbeab92-ceea-486b-dd01-14e4ecb314b5"
      },
      "outputs": [
        {
          "name": "stdout",
          "output_type": "stream",
          "text": [
            "              precision    recall  f1-score   support\n",
            "\n",
            "           0       0.95      0.63      0.76      2213\n",
            "           1       0.63      0.86      0.73       392\n",
            "           2       0.51      0.94      0.67       190\n",
            "           3       0.61      0.90      0.73       300\n",
            "           4       0.93      0.96      0.94       442\n",
            "           5       0.22      0.65      0.33        23\n",
            "           6       0.92      0.95      0.94       202\n",
            "           7       0.54      0.87      0.67       191\n",
            "           8       0.59      0.85      0.70       275\n",
            "\n",
            "    accuracy                           0.76      4228\n",
            "   macro avg       0.66      0.85      0.72      4228\n",
            "weighted avg       0.83      0.76      0.77      4228\n",
            "\n"
          ]
        }
      ],
      "source": [
        "pipe = Pipeline([('fast', TfidfEmbeddingVectorizer(model_fast)),\n",
        "                 ('scaler', StandardScaler()),\n",
        "                 ('clf', SVC(random_state=RND_STATE,\n",
        "                               max_iter=10000,\n",
        "                               class_weight='balanced'\n",
        "                               ))\n",
        "                 ])\n",
        "\n",
        "pipe.fit(X_train, y_train)\n",
        "\n",
        "print(classification_report(y_test, pipe.predict(X_test)))"
      ]
    },
    {
      "cell_type": "markdown",
      "metadata": {
        "id": "pRnSee_bP5Zm"
      },
      "source": [
        "### Optuna для svm"
      ]
    },
    {
      "cell_type": "code",
      "execution_count": null,
      "metadata": {
        "id": "rCyCgWOiP9sG"
      },
      "outputs": [],
      "source": [
        "def fit_svm(trial, train, val):\n",
        "    X_train, y_train = train\n",
        "    X_val, y_val = val\n",
        "\n",
        "    param = {\"C\": trial.suggest_float(\"C\", 1, 3, step=0.5),\n",
        "             \"kernel\": trial.suggest_categorical(\"kernel\",\n",
        "                                                 [\"linear\",\n",
        "                                                  \"poly\",\n",
        "                                                  \"rbf\",\n",
        "                                                  'sigmoid'\n",
        "                                                  ]),\n",
        "             \"random_state\": RND_STATE,\n",
        "             \"degree\": trial.suggest_int(\"degree\", 2, 5, step=1),\n",
        "             \"max_iter\": trial.suggest_int(\"max_iter\", 10, 10000, step=1000),\n",
        "             'decision_function_shape': trial.suggest_categorical(\"decision_function_shape\",\n",
        "                                                      ['ovo',\n",
        "                                                       'ovr']),\n",
        "             'verbose': 0\n",
        "    }\n",
        "\n",
        "    clf = SVC(**param)\n",
        "\n",
        "    pipe = Pipeline([('w2v', TfidfEmbeddingVectorizer(model_w2v)),\n",
        "                    ('scaler', StandardScaler()),\n",
        "                    ('clf', clf)])\n",
        "\n",
        "    pipe.fit(X_train, y_train)\n",
        "\n",
        "    y_pred = pipe.predict(X_val)\n",
        "    return pipe, y_pred"
      ]
    },
    {
      "cell_type": "code",
      "execution_count": null,
      "metadata": {
        "id": "46FigcWzRTaJ"
      },
      "outputs": [],
      "source": [
        "def objective_svm(trial, return_models=False):\n",
        "    n_splits = 3\n",
        "    kf = KFold(n_splits=n_splits, shuffle=True, random_state=RND_STATE)\n",
        "\n",
        "    scores_simple_acc, scores_balanced_acc, models = [], [], []\n",
        "\n",
        "    for train_idx, valid_idx in kf.split(X_train.index):\n",
        "        train_data = X_train.iloc[train_idx], y_train.iloc[train_idx]\n",
        "        valid_data = X_train.iloc[valid_idx], y_train.iloc[valid_idx]\n",
        "\n",
        "        # Подаем trials для перебора\n",
        "        model, y_pred = fit_svm(trial, train_data, valid_data)\n",
        "\n",
        "        # scores_simple_acc.append(accuracy_score(y_pred, valid_data[1]))\n",
        "        scores_balanced_acc.append(balanced_accuracy_score(y_pred, valid_data[1]))\n",
        "        models.append(model)\n",
        "        break\n",
        "\n",
        "    result = np.mean(scores_balanced_acc)\n",
        "\n",
        "    if return_models:\n",
        "        return result, models\n",
        "    else:\n",
        "        return result"
      ]
    },
    {
      "cell_type": "code",
      "execution_count": null,
      "metadata": {
        "colab": {
          "base_uri": "https://localhost:8080/",
          "height": 156,
          "referenced_widgets": [
            "328ac6674f984a78b231ce61b48d0b9c",
            "93965aa8753a40fabc4b1afd7e189d80",
            "5848cf24e84846e0bde2b24b0e0d6ac5",
            "9fd224dee4cb4fb084d8518b55295059",
            "e9f82cdc7fbc4eb9a3e205fceb855e6f",
            "55b0e4acde1144a2ba0c51fb1b42f7cd",
            "45c271145a074003aafd48e5eb077b1e",
            "b3c63a697d7a499f8c079107c01f7527",
            "8534162516684edd98d4ccc315389089",
            "c8ff97a0d43f46ac807302f69b73adbf",
            "69d144f187ad444d9c5c1add3a6e54a2"
          ]
        },
        "id": "0qPC49XtRgFi",
        "outputId": "0fac12c2-38f1-4641-a5e1-9ff071e96e33"
      },
      "outputs": [
        {
          "name": "stderr",
          "output_type": "stream",
          "text": [
            "[I 2023-12-30 20:19:39,509] A new study created in memory with name: SVM_clf\n"
          ]
        },
        {
          "data": {
            "application/vnd.jupyter.widget-view+json": {
              "model_id": "328ac6674f984a78b231ce61b48d0b9c",
              "version_major": 2,
              "version_minor": 0
            },
            "text/plain": [
              "  0%|          | 0/4 [00:00<?, ?it/s]"
            ]
          },
          "metadata": {},
          "output_type": "display_data"
        },
        {
          "name": "stdout",
          "output_type": "stream",
          "text": [
            "[I 2023-12-30 20:23:23,447] Trial 0 finished with value: 0.8736328727865764 and parameters: {'C': 2.0, 'kernel': 'rbf', 'degree': 2, 'max_iter': 2010, 'decision_function_shape': 'ovo'}. Best is trial 0 with value: 0.8736328727865764.\n",
            "[I 2023-12-30 20:23:30,895] Trial 1 finished with value: 0.6029532277687374 and parameters: {'C': 2.0, 'kernel': 'linear', 'degree': 5, 'max_iter': 9010, 'decision_function_shape': 'ovr'}. Best is trial 0 with value: 0.8736328727865764.\n",
            "[I 2023-12-30 20:26:35,384] Trial 2 finished with value: 0.6247403749498791 and parameters: {'C': 1.0, 'kernel': 'sigmoid', 'degree': 2, 'max_iter': 2010, 'decision_function_shape': 'ovo'}. Best is trial 0 with value: 0.8736328727865764.\n",
            "[I 2023-12-30 20:26:39,571] Trial 3 finished with value: 0.8666320673546475 and parameters: {'C': 3.0, 'kernel': 'poly', 'degree': 2, 'max_iter': 8010, 'decision_function_shape': 'ovo'}. Best is trial 0 with value: 0.8736328727865764.\n"
          ]
        }
      ],
      "source": [
        "study = optuna.create_study(direction=\"maximize\",\n",
        "                            pruner=optuna.pruners.MedianPruner(n_warmup_steps=5),\n",
        "                            sampler=sampler,\n",
        "                            study_name=\"SVM_clf\")\n",
        "study.optimize(objective_svm,\n",
        "               n_trials=4,\n",
        "               n_jobs=-1,\n",
        "               show_progress_bar=True)"
      ]
    },
    {
      "cell_type": "code",
      "execution_count": null,
      "metadata": {
        "colab": {
          "base_uri": "https://localhost:8080/"
        },
        "id": "mgpuBmDMbq8N",
        "outputId": "397b9511-2a09-44db-c655-ca393cd65d8f"
      },
      "outputs": [
        {
          "name": "stdout",
          "output_type": "stream",
          "text": [
            "Number of finished trials: 4\n",
            "Best trial:\n",
            "  Value: 0.8736328727865764\n",
            "  Params: \n",
            "    C: 2.0\n",
            "    kernel: rbf\n",
            "    degree: 2\n",
            "    max_iter: 2010\n",
            "    decision_function_shape: ovo\n"
          ]
        }
      ],
      "source": [
        "print(\"Number of finished trials: {}\".format(len(study.trials)))\n",
        "print(\"Best trial:\")\n",
        "trial = study.best_trial\n",
        "print(\"  Value: {}\".format(trial.value))\n",
        "print(\"  Params: \")\n",
        "\n",
        "for key, value in trial.params.items():\n",
        "    print(\"    {}: {}\".format(key, value))"
      ]
    },
    {
      "cell_type": "code",
      "execution_count": null,
      "metadata": {
        "colab": {
          "base_uri": "https://localhost:8080/",
          "height": 542
        },
        "id": "ji_8P61BUH3T",
        "outputId": "20f87748-498b-4141-c053-152371dde282"
      },
      "outputs": [
        {
          "data": {
            "application/vnd.plotly.v1+json": {
              "config": {
                "plotlyServerURL": "https://plot.ly"
              },
              "data": [
                {
                  "mode": "markers",
                  "name": "Objective Value",
                  "type": "scatter",
                  "x": [
                    0,
                    1,
                    2,
                    3
                  ],
                  "y": [
                    0.8736328727865764,
                    0.6029532277687374,
                    0.6247403749498791,
                    0.8666320673546475
                  ]
                },
                {
                  "mode": "lines",
                  "name": "Best Value",
                  "type": "scatter",
                  "x": [
                    0,
                    1,
                    2,
                    3
                  ],
                  "y": [
                    0.8736328727865764,
                    0.8736328727865764,
                    0.8736328727865764,
                    0.8736328727865764
                  ]
                },
                {
                  "marker": {
                    "color": "#cccccc"
                  },
                  "mode": "markers",
                  "name": "Infeasible Trial",
                  "showlegend": false,
                  "type": "scatter",
                  "x": [],
                  "y": []
                }
              ],
              "layout": {
                "template": {
                  "data": {
                    "bar": [
                      {
                        "error_x": {
                          "color": "#2a3f5f"
                        },
                        "error_y": {
                          "color": "#2a3f5f"
                        },
                        "marker": {
                          "line": {
                            "color": "#E5ECF6",
                            "width": 0.5
                          },
                          "pattern": {
                            "fillmode": "overlay",
                            "size": 10,
                            "solidity": 0.2
                          }
                        },
                        "type": "bar"
                      }
                    ],
                    "barpolar": [
                      {
                        "marker": {
                          "line": {
                            "color": "#E5ECF6",
                            "width": 0.5
                          },
                          "pattern": {
                            "fillmode": "overlay",
                            "size": 10,
                            "solidity": 0.2
                          }
                        },
                        "type": "barpolar"
                      }
                    ],
                    "carpet": [
                      {
                        "aaxis": {
                          "endlinecolor": "#2a3f5f",
                          "gridcolor": "white",
                          "linecolor": "white",
                          "minorgridcolor": "white",
                          "startlinecolor": "#2a3f5f"
                        },
                        "baxis": {
                          "endlinecolor": "#2a3f5f",
                          "gridcolor": "white",
                          "linecolor": "white",
                          "minorgridcolor": "white",
                          "startlinecolor": "#2a3f5f"
                        },
                        "type": "carpet"
                      }
                    ],
                    "choropleth": [
                      {
                        "colorbar": {
                          "outlinewidth": 0,
                          "ticks": ""
                        },
                        "type": "choropleth"
                      }
                    ],
                    "contour": [
                      {
                        "colorbar": {
                          "outlinewidth": 0,
                          "ticks": ""
                        },
                        "colorscale": [
                          [
                            0,
                            "#0d0887"
                          ],
                          [
                            0.1111111111111111,
                            "#46039f"
                          ],
                          [
                            0.2222222222222222,
                            "#7201a8"
                          ],
                          [
                            0.3333333333333333,
                            "#9c179e"
                          ],
                          [
                            0.4444444444444444,
                            "#bd3786"
                          ],
                          [
                            0.5555555555555556,
                            "#d8576b"
                          ],
                          [
                            0.6666666666666666,
                            "#ed7953"
                          ],
                          [
                            0.7777777777777778,
                            "#fb9f3a"
                          ],
                          [
                            0.8888888888888888,
                            "#fdca26"
                          ],
                          [
                            1,
                            "#f0f921"
                          ]
                        ],
                        "type": "contour"
                      }
                    ],
                    "contourcarpet": [
                      {
                        "colorbar": {
                          "outlinewidth": 0,
                          "ticks": ""
                        },
                        "type": "contourcarpet"
                      }
                    ],
                    "heatmap": [
                      {
                        "colorbar": {
                          "outlinewidth": 0,
                          "ticks": ""
                        },
                        "colorscale": [
                          [
                            0,
                            "#0d0887"
                          ],
                          [
                            0.1111111111111111,
                            "#46039f"
                          ],
                          [
                            0.2222222222222222,
                            "#7201a8"
                          ],
                          [
                            0.3333333333333333,
                            "#9c179e"
                          ],
                          [
                            0.4444444444444444,
                            "#bd3786"
                          ],
                          [
                            0.5555555555555556,
                            "#d8576b"
                          ],
                          [
                            0.6666666666666666,
                            "#ed7953"
                          ],
                          [
                            0.7777777777777778,
                            "#fb9f3a"
                          ],
                          [
                            0.8888888888888888,
                            "#fdca26"
                          ],
                          [
                            1,
                            "#f0f921"
                          ]
                        ],
                        "type": "heatmap"
                      }
                    ],
                    "heatmapgl": [
                      {
                        "colorbar": {
                          "outlinewidth": 0,
                          "ticks": ""
                        },
                        "colorscale": [
                          [
                            0,
                            "#0d0887"
                          ],
                          [
                            0.1111111111111111,
                            "#46039f"
                          ],
                          [
                            0.2222222222222222,
                            "#7201a8"
                          ],
                          [
                            0.3333333333333333,
                            "#9c179e"
                          ],
                          [
                            0.4444444444444444,
                            "#bd3786"
                          ],
                          [
                            0.5555555555555556,
                            "#d8576b"
                          ],
                          [
                            0.6666666666666666,
                            "#ed7953"
                          ],
                          [
                            0.7777777777777778,
                            "#fb9f3a"
                          ],
                          [
                            0.8888888888888888,
                            "#fdca26"
                          ],
                          [
                            1,
                            "#f0f921"
                          ]
                        ],
                        "type": "heatmapgl"
                      }
                    ],
                    "histogram": [
                      {
                        "marker": {
                          "pattern": {
                            "fillmode": "overlay",
                            "size": 10,
                            "solidity": 0.2
                          }
                        },
                        "type": "histogram"
                      }
                    ],
                    "histogram2d": [
                      {
                        "colorbar": {
                          "outlinewidth": 0,
                          "ticks": ""
                        },
                        "colorscale": [
                          [
                            0,
                            "#0d0887"
                          ],
                          [
                            0.1111111111111111,
                            "#46039f"
                          ],
                          [
                            0.2222222222222222,
                            "#7201a8"
                          ],
                          [
                            0.3333333333333333,
                            "#9c179e"
                          ],
                          [
                            0.4444444444444444,
                            "#bd3786"
                          ],
                          [
                            0.5555555555555556,
                            "#d8576b"
                          ],
                          [
                            0.6666666666666666,
                            "#ed7953"
                          ],
                          [
                            0.7777777777777778,
                            "#fb9f3a"
                          ],
                          [
                            0.8888888888888888,
                            "#fdca26"
                          ],
                          [
                            1,
                            "#f0f921"
                          ]
                        ],
                        "type": "histogram2d"
                      }
                    ],
                    "histogram2dcontour": [
                      {
                        "colorbar": {
                          "outlinewidth": 0,
                          "ticks": ""
                        },
                        "colorscale": [
                          [
                            0,
                            "#0d0887"
                          ],
                          [
                            0.1111111111111111,
                            "#46039f"
                          ],
                          [
                            0.2222222222222222,
                            "#7201a8"
                          ],
                          [
                            0.3333333333333333,
                            "#9c179e"
                          ],
                          [
                            0.4444444444444444,
                            "#bd3786"
                          ],
                          [
                            0.5555555555555556,
                            "#d8576b"
                          ],
                          [
                            0.6666666666666666,
                            "#ed7953"
                          ],
                          [
                            0.7777777777777778,
                            "#fb9f3a"
                          ],
                          [
                            0.8888888888888888,
                            "#fdca26"
                          ],
                          [
                            1,
                            "#f0f921"
                          ]
                        ],
                        "type": "histogram2dcontour"
                      }
                    ],
                    "mesh3d": [
                      {
                        "colorbar": {
                          "outlinewidth": 0,
                          "ticks": ""
                        },
                        "type": "mesh3d"
                      }
                    ],
                    "parcoords": [
                      {
                        "line": {
                          "colorbar": {
                            "outlinewidth": 0,
                            "ticks": ""
                          }
                        },
                        "type": "parcoords"
                      }
                    ],
                    "pie": [
                      {
                        "automargin": true,
                        "type": "pie"
                      }
                    ],
                    "scatter": [
                      {
                        "fillpattern": {
                          "fillmode": "overlay",
                          "size": 10,
                          "solidity": 0.2
                        },
                        "type": "scatter"
                      }
                    ],
                    "scatter3d": [
                      {
                        "line": {
                          "colorbar": {
                            "outlinewidth": 0,
                            "ticks": ""
                          }
                        },
                        "marker": {
                          "colorbar": {
                            "outlinewidth": 0,
                            "ticks": ""
                          }
                        },
                        "type": "scatter3d"
                      }
                    ],
                    "scattercarpet": [
                      {
                        "marker": {
                          "colorbar": {
                            "outlinewidth": 0,
                            "ticks": ""
                          }
                        },
                        "type": "scattercarpet"
                      }
                    ],
                    "scattergeo": [
                      {
                        "marker": {
                          "colorbar": {
                            "outlinewidth": 0,
                            "ticks": ""
                          }
                        },
                        "type": "scattergeo"
                      }
                    ],
                    "scattergl": [
                      {
                        "marker": {
                          "colorbar": {
                            "outlinewidth": 0,
                            "ticks": ""
                          }
                        },
                        "type": "scattergl"
                      }
                    ],
                    "scattermapbox": [
                      {
                        "marker": {
                          "colorbar": {
                            "outlinewidth": 0,
                            "ticks": ""
                          }
                        },
                        "type": "scattermapbox"
                      }
                    ],
                    "scatterpolar": [
                      {
                        "marker": {
                          "colorbar": {
                            "outlinewidth": 0,
                            "ticks": ""
                          }
                        },
                        "type": "scatterpolar"
                      }
                    ],
                    "scatterpolargl": [
                      {
                        "marker": {
                          "colorbar": {
                            "outlinewidth": 0,
                            "ticks": ""
                          }
                        },
                        "type": "scatterpolargl"
                      }
                    ],
                    "scatterternary": [
                      {
                        "marker": {
                          "colorbar": {
                            "outlinewidth": 0,
                            "ticks": ""
                          }
                        },
                        "type": "scatterternary"
                      }
                    ],
                    "surface": [
                      {
                        "colorbar": {
                          "outlinewidth": 0,
                          "ticks": ""
                        },
                        "colorscale": [
                          [
                            0,
                            "#0d0887"
                          ],
                          [
                            0.1111111111111111,
                            "#46039f"
                          ],
                          [
                            0.2222222222222222,
                            "#7201a8"
                          ],
                          [
                            0.3333333333333333,
                            "#9c179e"
                          ],
                          [
                            0.4444444444444444,
                            "#bd3786"
                          ],
                          [
                            0.5555555555555556,
                            "#d8576b"
                          ],
                          [
                            0.6666666666666666,
                            "#ed7953"
                          ],
                          [
                            0.7777777777777778,
                            "#fb9f3a"
                          ],
                          [
                            0.8888888888888888,
                            "#fdca26"
                          ],
                          [
                            1,
                            "#f0f921"
                          ]
                        ],
                        "type": "surface"
                      }
                    ],
                    "table": [
                      {
                        "cells": {
                          "fill": {
                            "color": "#EBF0F8"
                          },
                          "line": {
                            "color": "white"
                          }
                        },
                        "header": {
                          "fill": {
                            "color": "#C8D4E3"
                          },
                          "line": {
                            "color": "white"
                          }
                        },
                        "type": "table"
                      }
                    ]
                  },
                  "layout": {
                    "annotationdefaults": {
                      "arrowcolor": "#2a3f5f",
                      "arrowhead": 0,
                      "arrowwidth": 1
                    },
                    "autotypenumbers": "strict",
                    "coloraxis": {
                      "colorbar": {
                        "outlinewidth": 0,
                        "ticks": ""
                      }
                    },
                    "colorscale": {
                      "diverging": [
                        [
                          0,
                          "#8e0152"
                        ],
                        [
                          0.1,
                          "#c51b7d"
                        ],
                        [
                          0.2,
                          "#de77ae"
                        ],
                        [
                          0.3,
                          "#f1b6da"
                        ],
                        [
                          0.4,
                          "#fde0ef"
                        ],
                        [
                          0.5,
                          "#f7f7f7"
                        ],
                        [
                          0.6,
                          "#e6f5d0"
                        ],
                        [
                          0.7,
                          "#b8e186"
                        ],
                        [
                          0.8,
                          "#7fbc41"
                        ],
                        [
                          0.9,
                          "#4d9221"
                        ],
                        [
                          1,
                          "#276419"
                        ]
                      ],
                      "sequential": [
                        [
                          0,
                          "#0d0887"
                        ],
                        [
                          0.1111111111111111,
                          "#46039f"
                        ],
                        [
                          0.2222222222222222,
                          "#7201a8"
                        ],
                        [
                          0.3333333333333333,
                          "#9c179e"
                        ],
                        [
                          0.4444444444444444,
                          "#bd3786"
                        ],
                        [
                          0.5555555555555556,
                          "#d8576b"
                        ],
                        [
                          0.6666666666666666,
                          "#ed7953"
                        ],
                        [
                          0.7777777777777778,
                          "#fb9f3a"
                        ],
                        [
                          0.8888888888888888,
                          "#fdca26"
                        ],
                        [
                          1,
                          "#f0f921"
                        ]
                      ],
                      "sequentialminus": [
                        [
                          0,
                          "#0d0887"
                        ],
                        [
                          0.1111111111111111,
                          "#46039f"
                        ],
                        [
                          0.2222222222222222,
                          "#7201a8"
                        ],
                        [
                          0.3333333333333333,
                          "#9c179e"
                        ],
                        [
                          0.4444444444444444,
                          "#bd3786"
                        ],
                        [
                          0.5555555555555556,
                          "#d8576b"
                        ],
                        [
                          0.6666666666666666,
                          "#ed7953"
                        ],
                        [
                          0.7777777777777778,
                          "#fb9f3a"
                        ],
                        [
                          0.8888888888888888,
                          "#fdca26"
                        ],
                        [
                          1,
                          "#f0f921"
                        ]
                      ]
                    },
                    "colorway": [
                      "#636efa",
                      "#EF553B",
                      "#00cc96",
                      "#ab63fa",
                      "#FFA15A",
                      "#19d3f3",
                      "#FF6692",
                      "#B6E880",
                      "#FF97FF",
                      "#FECB52"
                    ],
                    "font": {
                      "color": "#2a3f5f"
                    },
                    "geo": {
                      "bgcolor": "white",
                      "lakecolor": "white",
                      "landcolor": "#E5ECF6",
                      "showlakes": true,
                      "showland": true,
                      "subunitcolor": "white"
                    },
                    "hoverlabel": {
                      "align": "left"
                    },
                    "hovermode": "closest",
                    "mapbox": {
                      "style": "light"
                    },
                    "paper_bgcolor": "white",
                    "plot_bgcolor": "#E5ECF6",
                    "polar": {
                      "angularaxis": {
                        "gridcolor": "white",
                        "linecolor": "white",
                        "ticks": ""
                      },
                      "bgcolor": "#E5ECF6",
                      "radialaxis": {
                        "gridcolor": "white",
                        "linecolor": "white",
                        "ticks": ""
                      }
                    },
                    "scene": {
                      "xaxis": {
                        "backgroundcolor": "#E5ECF6",
                        "gridcolor": "white",
                        "gridwidth": 2,
                        "linecolor": "white",
                        "showbackground": true,
                        "ticks": "",
                        "zerolinecolor": "white"
                      },
                      "yaxis": {
                        "backgroundcolor": "#E5ECF6",
                        "gridcolor": "white",
                        "gridwidth": 2,
                        "linecolor": "white",
                        "showbackground": true,
                        "ticks": "",
                        "zerolinecolor": "white"
                      },
                      "zaxis": {
                        "backgroundcolor": "#E5ECF6",
                        "gridcolor": "white",
                        "gridwidth": 2,
                        "linecolor": "white",
                        "showbackground": true,
                        "ticks": "",
                        "zerolinecolor": "white"
                      }
                    },
                    "shapedefaults": {
                      "line": {
                        "color": "#2a3f5f"
                      }
                    },
                    "ternary": {
                      "aaxis": {
                        "gridcolor": "white",
                        "linecolor": "white",
                        "ticks": ""
                      },
                      "baxis": {
                        "gridcolor": "white",
                        "linecolor": "white",
                        "ticks": ""
                      },
                      "bgcolor": "#E5ECF6",
                      "caxis": {
                        "gridcolor": "white",
                        "linecolor": "white",
                        "ticks": ""
                      }
                    },
                    "title": {
                      "x": 0.05
                    },
                    "xaxis": {
                      "automargin": true,
                      "gridcolor": "white",
                      "linecolor": "white",
                      "ticks": "",
                      "title": {
                        "standoff": 15
                      },
                      "zerolinecolor": "white",
                      "zerolinewidth": 2
                    },
                    "yaxis": {
                      "automargin": true,
                      "gridcolor": "white",
                      "linecolor": "white",
                      "ticks": "",
                      "title": {
                        "standoff": 15
                      },
                      "zerolinecolor": "white",
                      "zerolinewidth": 2
                    }
                  }
                },
                "title": {
                  "text": "Optimization History Plot"
                },
                "xaxis": {
                  "title": {
                    "text": "Trial"
                  }
                },
                "yaxis": {
                  "title": {
                    "text": "Objective Value"
                  }
                }
              }
            },
            "text/html": [
              "<div>                            <div id=\"6319ef90-11ab-4cb0-b124-6eb7c85e5b1f\" class=\"plotly-graph-div\" style=\"height:525px; width:100%;\"></div>            <script type=\"text/javascript\">                require([\"plotly\"], function(Plotly) {                    window.PLOTLYENV=window.PLOTLYENV || {};                                    if (document.getElementById(\"6319ef90-11ab-4cb0-b124-6eb7c85e5b1f\")) {                    Plotly.newPlot(                        \"6319ef90-11ab-4cb0-b124-6eb7c85e5b1f\",                        [{\"mode\":\"markers\",\"name\":\"Objective Value\",\"x\":[0,1,2,3],\"y\":[0.8736328727865764,0.6029532277687374,0.6247403749498791,0.8666320673546475],\"type\":\"scatter\"},{\"mode\":\"lines\",\"name\":\"Best Value\",\"x\":[0,1,2,3],\"y\":[0.8736328727865764,0.8736328727865764,0.8736328727865764,0.8736328727865764],\"type\":\"scatter\"},{\"marker\":{\"color\":\"#cccccc\"},\"mode\":\"markers\",\"name\":\"Infeasible Trial\",\"showlegend\":false,\"x\":[],\"y\":[],\"type\":\"scatter\"}],                        {\"title\":{\"text\":\"Optimization History Plot\"},\"xaxis\":{\"title\":{\"text\":\"Trial\"}},\"yaxis\":{\"title\":{\"text\":\"Objective Value\"}},\"template\":{\"data\":{\"histogram2dcontour\":[{\"type\":\"histogram2dcontour\",\"colorbar\":{\"outlinewidth\":0,\"ticks\":\"\"},\"colorscale\":[[0.0,\"#0d0887\"],[0.1111111111111111,\"#46039f\"],[0.2222222222222222,\"#7201a8\"],[0.3333333333333333,\"#9c179e\"],[0.4444444444444444,\"#bd3786\"],[0.5555555555555556,\"#d8576b\"],[0.6666666666666666,\"#ed7953\"],[0.7777777777777778,\"#fb9f3a\"],[0.8888888888888888,\"#fdca26\"],[1.0,\"#f0f921\"]]}],\"choropleth\":[{\"type\":\"choropleth\",\"colorbar\":{\"outlinewidth\":0,\"ticks\":\"\"}}],\"histogram2d\":[{\"type\":\"histogram2d\",\"colorbar\":{\"outlinewidth\":0,\"ticks\":\"\"},\"colorscale\":[[0.0,\"#0d0887\"],[0.1111111111111111,\"#46039f\"],[0.2222222222222222,\"#7201a8\"],[0.3333333333333333,\"#9c179e\"],[0.4444444444444444,\"#bd3786\"],[0.5555555555555556,\"#d8576b\"],[0.6666666666666666,\"#ed7953\"],[0.7777777777777778,\"#fb9f3a\"],[0.8888888888888888,\"#fdca26\"],[1.0,\"#f0f921\"]]}],\"heatmap\":[{\"type\":\"heatmap\",\"colorbar\":{\"outlinewidth\":0,\"ticks\":\"\"},\"colorscale\":[[0.0,\"#0d0887\"],[0.1111111111111111,\"#46039f\"],[0.2222222222222222,\"#7201a8\"],[0.3333333333333333,\"#9c179e\"],[0.4444444444444444,\"#bd3786\"],[0.5555555555555556,\"#d8576b\"],[0.6666666666666666,\"#ed7953\"],[0.7777777777777778,\"#fb9f3a\"],[0.8888888888888888,\"#fdca26\"],[1.0,\"#f0f921\"]]}],\"heatmapgl\":[{\"type\":\"heatmapgl\",\"colorbar\":{\"outlinewidth\":0,\"ticks\":\"\"},\"colorscale\":[[0.0,\"#0d0887\"],[0.1111111111111111,\"#46039f\"],[0.2222222222222222,\"#7201a8\"],[0.3333333333333333,\"#9c179e\"],[0.4444444444444444,\"#bd3786\"],[0.5555555555555556,\"#d8576b\"],[0.6666666666666666,\"#ed7953\"],[0.7777777777777778,\"#fb9f3a\"],[0.8888888888888888,\"#fdca26\"],[1.0,\"#f0f921\"]]}],\"contourcarpet\":[{\"type\":\"contourcarpet\",\"colorbar\":{\"outlinewidth\":0,\"ticks\":\"\"}}],\"contour\":[{\"type\":\"contour\",\"colorbar\":{\"outlinewidth\":0,\"ticks\":\"\"},\"colorscale\":[[0.0,\"#0d0887\"],[0.1111111111111111,\"#46039f\"],[0.2222222222222222,\"#7201a8\"],[0.3333333333333333,\"#9c179e\"],[0.4444444444444444,\"#bd3786\"],[0.5555555555555556,\"#d8576b\"],[0.6666666666666666,\"#ed7953\"],[0.7777777777777778,\"#fb9f3a\"],[0.8888888888888888,\"#fdca26\"],[1.0,\"#f0f921\"]]}],\"surface\":[{\"type\":\"surface\",\"colorbar\":{\"outlinewidth\":0,\"ticks\":\"\"},\"colorscale\":[[0.0,\"#0d0887\"],[0.1111111111111111,\"#46039f\"],[0.2222222222222222,\"#7201a8\"],[0.3333333333333333,\"#9c179e\"],[0.4444444444444444,\"#bd3786\"],[0.5555555555555556,\"#d8576b\"],[0.6666666666666666,\"#ed7953\"],[0.7777777777777778,\"#fb9f3a\"],[0.8888888888888888,\"#fdca26\"],[1.0,\"#f0f921\"]]}],\"mesh3d\":[{\"type\":\"mesh3d\",\"colorbar\":{\"outlinewidth\":0,\"ticks\":\"\"}}],\"scatter\":[{\"fillpattern\":{\"fillmode\":\"overlay\",\"size\":10,\"solidity\":0.2},\"type\":\"scatter\"}],\"parcoords\":[{\"type\":\"parcoords\",\"line\":{\"colorbar\":{\"outlinewidth\":0,\"ticks\":\"\"}}}],\"scatterpolargl\":[{\"type\":\"scatterpolargl\",\"marker\":{\"colorbar\":{\"outlinewidth\":0,\"ticks\":\"\"}}}],\"bar\":[{\"error_x\":{\"color\":\"#2a3f5f\"},\"error_y\":{\"color\":\"#2a3f5f\"},\"marker\":{\"line\":{\"color\":\"#E5ECF6\",\"width\":0.5},\"pattern\":{\"fillmode\":\"overlay\",\"size\":10,\"solidity\":0.2}},\"type\":\"bar\"}],\"scattergeo\":[{\"type\":\"scattergeo\",\"marker\":{\"colorbar\":{\"outlinewidth\":0,\"ticks\":\"\"}}}],\"scatterpolar\":[{\"type\":\"scatterpolar\",\"marker\":{\"colorbar\":{\"outlinewidth\":0,\"ticks\":\"\"}}}],\"histogram\":[{\"marker\":{\"pattern\":{\"fillmode\":\"overlay\",\"size\":10,\"solidity\":0.2}},\"type\":\"histogram\"}],\"scattergl\":[{\"type\":\"scattergl\",\"marker\":{\"colorbar\":{\"outlinewidth\":0,\"ticks\":\"\"}}}],\"scatter3d\":[{\"type\":\"scatter3d\",\"line\":{\"colorbar\":{\"outlinewidth\":0,\"ticks\":\"\"}},\"marker\":{\"colorbar\":{\"outlinewidth\":0,\"ticks\":\"\"}}}],\"scattermapbox\":[{\"type\":\"scattermapbox\",\"marker\":{\"colorbar\":{\"outlinewidth\":0,\"ticks\":\"\"}}}],\"scatterternary\":[{\"type\":\"scatterternary\",\"marker\":{\"colorbar\":{\"outlinewidth\":0,\"ticks\":\"\"}}}],\"scattercarpet\":[{\"type\":\"scattercarpet\",\"marker\":{\"colorbar\":{\"outlinewidth\":0,\"ticks\":\"\"}}}],\"carpet\":[{\"aaxis\":{\"endlinecolor\":\"#2a3f5f\",\"gridcolor\":\"white\",\"linecolor\":\"white\",\"minorgridcolor\":\"white\",\"startlinecolor\":\"#2a3f5f\"},\"baxis\":{\"endlinecolor\":\"#2a3f5f\",\"gridcolor\":\"white\",\"linecolor\":\"white\",\"minorgridcolor\":\"white\",\"startlinecolor\":\"#2a3f5f\"},\"type\":\"carpet\"}],\"table\":[{\"cells\":{\"fill\":{\"color\":\"#EBF0F8\"},\"line\":{\"color\":\"white\"}},\"header\":{\"fill\":{\"color\":\"#C8D4E3\"},\"line\":{\"color\":\"white\"}},\"type\":\"table\"}],\"barpolar\":[{\"marker\":{\"line\":{\"color\":\"#E5ECF6\",\"width\":0.5},\"pattern\":{\"fillmode\":\"overlay\",\"size\":10,\"solidity\":0.2}},\"type\":\"barpolar\"}],\"pie\":[{\"automargin\":true,\"type\":\"pie\"}]},\"layout\":{\"autotypenumbers\":\"strict\",\"colorway\":[\"#636efa\",\"#EF553B\",\"#00cc96\",\"#ab63fa\",\"#FFA15A\",\"#19d3f3\",\"#FF6692\",\"#B6E880\",\"#FF97FF\",\"#FECB52\"],\"font\":{\"color\":\"#2a3f5f\"},\"hovermode\":\"closest\",\"hoverlabel\":{\"align\":\"left\"},\"paper_bgcolor\":\"white\",\"plot_bgcolor\":\"#E5ECF6\",\"polar\":{\"bgcolor\":\"#E5ECF6\",\"angularaxis\":{\"gridcolor\":\"white\",\"linecolor\":\"white\",\"ticks\":\"\"},\"radialaxis\":{\"gridcolor\":\"white\",\"linecolor\":\"white\",\"ticks\":\"\"}},\"ternary\":{\"bgcolor\":\"#E5ECF6\",\"aaxis\":{\"gridcolor\":\"white\",\"linecolor\":\"white\",\"ticks\":\"\"},\"baxis\":{\"gridcolor\":\"white\",\"linecolor\":\"white\",\"ticks\":\"\"},\"caxis\":{\"gridcolor\":\"white\",\"linecolor\":\"white\",\"ticks\":\"\"}},\"coloraxis\":{\"colorbar\":{\"outlinewidth\":0,\"ticks\":\"\"}},\"colorscale\":{\"sequential\":[[0.0,\"#0d0887\"],[0.1111111111111111,\"#46039f\"],[0.2222222222222222,\"#7201a8\"],[0.3333333333333333,\"#9c179e\"],[0.4444444444444444,\"#bd3786\"],[0.5555555555555556,\"#d8576b\"],[0.6666666666666666,\"#ed7953\"],[0.7777777777777778,\"#fb9f3a\"],[0.8888888888888888,\"#fdca26\"],[1.0,\"#f0f921\"]],\"sequentialminus\":[[0.0,\"#0d0887\"],[0.1111111111111111,\"#46039f\"],[0.2222222222222222,\"#7201a8\"],[0.3333333333333333,\"#9c179e\"],[0.4444444444444444,\"#bd3786\"],[0.5555555555555556,\"#d8576b\"],[0.6666666666666666,\"#ed7953\"],[0.7777777777777778,\"#fb9f3a\"],[0.8888888888888888,\"#fdca26\"],[1.0,\"#f0f921\"]],\"diverging\":[[0,\"#8e0152\"],[0.1,\"#c51b7d\"],[0.2,\"#de77ae\"],[0.3,\"#f1b6da\"],[0.4,\"#fde0ef\"],[0.5,\"#f7f7f7\"],[0.6,\"#e6f5d0\"],[0.7,\"#b8e186\"],[0.8,\"#7fbc41\"],[0.9,\"#4d9221\"],[1,\"#276419\"]]},\"xaxis\":{\"gridcolor\":\"white\",\"linecolor\":\"white\",\"ticks\":\"\",\"title\":{\"standoff\":15},\"zerolinecolor\":\"white\",\"automargin\":true,\"zerolinewidth\":2},\"yaxis\":{\"gridcolor\":\"white\",\"linecolor\":\"white\",\"ticks\":\"\",\"title\":{\"standoff\":15},\"zerolinecolor\":\"white\",\"automargin\":true,\"zerolinewidth\":2},\"scene\":{\"xaxis\":{\"backgroundcolor\":\"#E5ECF6\",\"gridcolor\":\"white\",\"linecolor\":\"white\",\"showbackground\":true,\"ticks\":\"\",\"zerolinecolor\":\"white\",\"gridwidth\":2},\"yaxis\":{\"backgroundcolor\":\"#E5ECF6\",\"gridcolor\":\"white\",\"linecolor\":\"white\",\"showbackground\":true,\"ticks\":\"\",\"zerolinecolor\":\"white\",\"gridwidth\":2},\"zaxis\":{\"backgroundcolor\":\"#E5ECF6\",\"gridcolor\":\"white\",\"linecolor\":\"white\",\"showbackground\":true,\"ticks\":\"\",\"zerolinecolor\":\"white\",\"gridwidth\":2}},\"shapedefaults\":{\"line\":{\"color\":\"#2a3f5f\"}},\"annotationdefaults\":{\"arrowcolor\":\"#2a3f5f\",\"arrowhead\":0,\"arrowwidth\":1},\"geo\":{\"bgcolor\":\"white\",\"landcolor\":\"#E5ECF6\",\"subunitcolor\":\"white\",\"showland\":true,\"showlakes\":true,\"lakecolor\":\"white\"},\"title\":{\"x\":0.05},\"mapbox\":{\"style\":\"light\"}}}},                        {\"responsive\": true}                    ).then(function(){\n",
              "                            \n",
              "var gd = document.getElementById('6319ef90-11ab-4cb0-b124-6eb7c85e5b1f');\n",
              "var x = new MutationObserver(function (mutations, observer) {{\n",
              "        var display = window.getComputedStyle(gd).display;\n",
              "        if (!display || display === 'none') {{\n",
              "            console.log([gd, 'removed!']);\n",
              "            Plotly.purge(gd);\n",
              "            observer.disconnect();\n",
              "        }}\n",
              "}});\n",
              "\n",
              "// Listen for the removal of the full notebook cells\n",
              "var notebookContainer = gd.closest('#notebook-container');\n",
              "if (notebookContainer) {{\n",
              "    x.observe(notebookContainer, {childList: true});\n",
              "}}\n",
              "\n",
              "// Listen for the clearing of the current output cell\n",
              "var outputEl = gd.closest('.output');\n",
              "if (outputEl) {{\n",
              "    x.observe(outputEl, {childList: true});\n",
              "}}\n",
              "\n",
              "                        })                };                });            </script>        </div>"
            ]
          },
          "metadata": {},
          "output_type": "display_data"
        }
      ],
      "source": [
        "# История изменения от числа испытаний\n",
        "optuna.visualization.plot_optimization_history(study)"
      ]
    },
    {
      "cell_type": "code",
      "execution_count": null,
      "metadata": {
        "colab": {
          "base_uri": "https://localhost:8080/",
          "height": 562
        },
        "id": "JAs_6PPZTpqY",
        "outputId": "b9db9703-4843-45c3-92af-df76deaeb560"
      },
      "outputs": [
        {
          "data": {
            "application/vnd.plotly.v1+json": {
              "config": {
                "plotlyServerURL": "https://plot.ly"
              },
              "data": [
                {
                  "marker": {
                    "color": [
                      0,
                      1,
                      2,
                      3
                    ],
                    "colorbar": {
                      "title": {
                        "text": "Trial"
                      },
                      "x": 1,
                      "xpad": 40
                    },
                    "colorscale": [
                      [
                        0,
                        "rgb(247,251,255)"
                      ],
                      [
                        0.125,
                        "rgb(222,235,247)"
                      ],
                      [
                        0.25,
                        "rgb(198,219,239)"
                      ],
                      [
                        0.375,
                        "rgb(158,202,225)"
                      ],
                      [
                        0.5,
                        "rgb(107,174,214)"
                      ],
                      [
                        0.625,
                        "rgb(66,146,198)"
                      ],
                      [
                        0.75,
                        "rgb(33,113,181)"
                      ],
                      [
                        0.875,
                        "rgb(8,81,156)"
                      ],
                      [
                        1,
                        "rgb(8,48,107)"
                      ]
                    ],
                    "line": {
                      "color": "Grey",
                      "width": 0.5
                    },
                    "showscale": true
                  },
                  "mode": "markers",
                  "name": "Feasible Trial",
                  "showlegend": false,
                  "type": "scatter",
                  "x": [
                    2,
                    2,
                    1,
                    3
                  ],
                  "xaxis": "x",
                  "y": [
                    0.8736328727865764,
                    0.6029532277687374,
                    0.6247403749498791,
                    0.8666320673546475
                  ],
                  "yaxis": "y"
                },
                {
                  "marker": {
                    "color": [
                      0,
                      1,
                      2,
                      3
                    ],
                    "colorbar": {
                      "title": {
                        "text": "Trial"
                      },
                      "x": 1,
                      "xpad": 40
                    },
                    "colorscale": [
                      [
                        0,
                        "rgb(247,251,255)"
                      ],
                      [
                        0.125,
                        "rgb(222,235,247)"
                      ],
                      [
                        0.25,
                        "rgb(198,219,239)"
                      ],
                      [
                        0.375,
                        "rgb(158,202,225)"
                      ],
                      [
                        0.5,
                        "rgb(107,174,214)"
                      ],
                      [
                        0.625,
                        "rgb(66,146,198)"
                      ],
                      [
                        0.75,
                        "rgb(33,113,181)"
                      ],
                      [
                        0.875,
                        "rgb(8,81,156)"
                      ],
                      [
                        1,
                        "rgb(8,48,107)"
                      ]
                    ],
                    "line": {
                      "color": "Grey",
                      "width": 0.5
                    },
                    "showscale": false
                  },
                  "mode": "markers",
                  "name": "Feasible Trial",
                  "showlegend": false,
                  "type": "scatter",
                  "x": [
                    "ovo",
                    "ovr",
                    "ovo",
                    "ovo"
                  ],
                  "xaxis": "x2",
                  "y": [
                    0.8736328727865764,
                    0.6029532277687374,
                    0.6247403749498791,
                    0.8666320673546475
                  ],
                  "yaxis": "y2"
                },
                {
                  "marker": {
                    "color": [
                      0,
                      1,
                      2,
                      3
                    ],
                    "colorbar": {
                      "title": {
                        "text": "Trial"
                      },
                      "x": 1,
                      "xpad": 40
                    },
                    "colorscale": [
                      [
                        0,
                        "rgb(247,251,255)"
                      ],
                      [
                        0.125,
                        "rgb(222,235,247)"
                      ],
                      [
                        0.25,
                        "rgb(198,219,239)"
                      ],
                      [
                        0.375,
                        "rgb(158,202,225)"
                      ],
                      [
                        0.5,
                        "rgb(107,174,214)"
                      ],
                      [
                        0.625,
                        "rgb(66,146,198)"
                      ],
                      [
                        0.75,
                        "rgb(33,113,181)"
                      ],
                      [
                        0.875,
                        "rgb(8,81,156)"
                      ],
                      [
                        1,
                        "rgb(8,48,107)"
                      ]
                    ],
                    "line": {
                      "color": "Grey",
                      "width": 0.5
                    },
                    "showscale": false
                  },
                  "mode": "markers",
                  "name": "Feasible Trial",
                  "showlegend": false,
                  "type": "scatter",
                  "x": [
                    2,
                    5,
                    2,
                    2
                  ],
                  "xaxis": "x3",
                  "y": [
                    0.8736328727865764,
                    0.6029532277687374,
                    0.6247403749498791,
                    0.8666320673546475
                  ],
                  "yaxis": "y3"
                },
                {
                  "marker": {
                    "color": [
                      0,
                      1,
                      2,
                      3
                    ],
                    "colorbar": {
                      "title": {
                        "text": "Trial"
                      },
                      "x": 1,
                      "xpad": 40
                    },
                    "colorscale": [
                      [
                        0,
                        "rgb(247,251,255)"
                      ],
                      [
                        0.125,
                        "rgb(222,235,247)"
                      ],
                      [
                        0.25,
                        "rgb(198,219,239)"
                      ],
                      [
                        0.375,
                        "rgb(158,202,225)"
                      ],
                      [
                        0.5,
                        "rgb(107,174,214)"
                      ],
                      [
                        0.625,
                        "rgb(66,146,198)"
                      ],
                      [
                        0.75,
                        "rgb(33,113,181)"
                      ],
                      [
                        0.875,
                        "rgb(8,81,156)"
                      ],
                      [
                        1,
                        "rgb(8,48,107)"
                      ]
                    ],
                    "line": {
                      "color": "Grey",
                      "width": 0.5
                    },
                    "showscale": false
                  },
                  "mode": "markers",
                  "name": "Feasible Trial",
                  "showlegend": false,
                  "type": "scatter",
                  "x": [
                    "rbf",
                    "linear",
                    "sigmoid",
                    "poly"
                  ],
                  "xaxis": "x4",
                  "y": [
                    0.8736328727865764,
                    0.6029532277687374,
                    0.6247403749498791,
                    0.8666320673546475
                  ],
                  "yaxis": "y4"
                },
                {
                  "marker": {
                    "color": [
                      0,
                      1,
                      2,
                      3
                    ],
                    "colorbar": {
                      "title": {
                        "text": "Trial"
                      },
                      "x": 1,
                      "xpad": 40
                    },
                    "colorscale": [
                      [
                        0,
                        "rgb(247,251,255)"
                      ],
                      [
                        0.125,
                        "rgb(222,235,247)"
                      ],
                      [
                        0.25,
                        "rgb(198,219,239)"
                      ],
                      [
                        0.375,
                        "rgb(158,202,225)"
                      ],
                      [
                        0.5,
                        "rgb(107,174,214)"
                      ],
                      [
                        0.625,
                        "rgb(66,146,198)"
                      ],
                      [
                        0.75,
                        "rgb(33,113,181)"
                      ],
                      [
                        0.875,
                        "rgb(8,81,156)"
                      ],
                      [
                        1,
                        "rgb(8,48,107)"
                      ]
                    ],
                    "line": {
                      "color": "Grey",
                      "width": 0.5
                    },
                    "showscale": false
                  },
                  "mode": "markers",
                  "name": "Feasible Trial",
                  "showlegend": false,
                  "type": "scatter",
                  "x": [
                    2010,
                    9010,
                    2010,
                    8010
                  ],
                  "xaxis": "x5",
                  "y": [
                    0.8736328727865764,
                    0.6029532277687374,
                    0.6247403749498791,
                    0.8666320673546475
                  ],
                  "yaxis": "y5"
                }
              ],
              "layout": {
                "template": {
                  "data": {
                    "bar": [
                      {
                        "error_x": {
                          "color": "#2a3f5f"
                        },
                        "error_y": {
                          "color": "#2a3f5f"
                        },
                        "marker": {
                          "line": {
                            "color": "#E5ECF6",
                            "width": 0.5
                          },
                          "pattern": {
                            "fillmode": "overlay",
                            "size": 10,
                            "solidity": 0.2
                          }
                        },
                        "type": "bar"
                      }
                    ],
                    "barpolar": [
                      {
                        "marker": {
                          "line": {
                            "color": "#E5ECF6",
                            "width": 0.5
                          },
                          "pattern": {
                            "fillmode": "overlay",
                            "size": 10,
                            "solidity": 0.2
                          }
                        },
                        "type": "barpolar"
                      }
                    ],
                    "carpet": [
                      {
                        "aaxis": {
                          "endlinecolor": "#2a3f5f",
                          "gridcolor": "white",
                          "linecolor": "white",
                          "minorgridcolor": "white",
                          "startlinecolor": "#2a3f5f"
                        },
                        "baxis": {
                          "endlinecolor": "#2a3f5f",
                          "gridcolor": "white",
                          "linecolor": "white",
                          "minorgridcolor": "white",
                          "startlinecolor": "#2a3f5f"
                        },
                        "type": "carpet"
                      }
                    ],
                    "choropleth": [
                      {
                        "colorbar": {
                          "outlinewidth": 0,
                          "ticks": ""
                        },
                        "type": "choropleth"
                      }
                    ],
                    "contour": [
                      {
                        "colorbar": {
                          "outlinewidth": 0,
                          "ticks": ""
                        },
                        "colorscale": [
                          [
                            0,
                            "#0d0887"
                          ],
                          [
                            0.1111111111111111,
                            "#46039f"
                          ],
                          [
                            0.2222222222222222,
                            "#7201a8"
                          ],
                          [
                            0.3333333333333333,
                            "#9c179e"
                          ],
                          [
                            0.4444444444444444,
                            "#bd3786"
                          ],
                          [
                            0.5555555555555556,
                            "#d8576b"
                          ],
                          [
                            0.6666666666666666,
                            "#ed7953"
                          ],
                          [
                            0.7777777777777778,
                            "#fb9f3a"
                          ],
                          [
                            0.8888888888888888,
                            "#fdca26"
                          ],
                          [
                            1,
                            "#f0f921"
                          ]
                        ],
                        "type": "contour"
                      }
                    ],
                    "contourcarpet": [
                      {
                        "colorbar": {
                          "outlinewidth": 0,
                          "ticks": ""
                        },
                        "type": "contourcarpet"
                      }
                    ],
                    "heatmap": [
                      {
                        "colorbar": {
                          "outlinewidth": 0,
                          "ticks": ""
                        },
                        "colorscale": [
                          [
                            0,
                            "#0d0887"
                          ],
                          [
                            0.1111111111111111,
                            "#46039f"
                          ],
                          [
                            0.2222222222222222,
                            "#7201a8"
                          ],
                          [
                            0.3333333333333333,
                            "#9c179e"
                          ],
                          [
                            0.4444444444444444,
                            "#bd3786"
                          ],
                          [
                            0.5555555555555556,
                            "#d8576b"
                          ],
                          [
                            0.6666666666666666,
                            "#ed7953"
                          ],
                          [
                            0.7777777777777778,
                            "#fb9f3a"
                          ],
                          [
                            0.8888888888888888,
                            "#fdca26"
                          ],
                          [
                            1,
                            "#f0f921"
                          ]
                        ],
                        "type": "heatmap"
                      }
                    ],
                    "heatmapgl": [
                      {
                        "colorbar": {
                          "outlinewidth": 0,
                          "ticks": ""
                        },
                        "colorscale": [
                          [
                            0,
                            "#0d0887"
                          ],
                          [
                            0.1111111111111111,
                            "#46039f"
                          ],
                          [
                            0.2222222222222222,
                            "#7201a8"
                          ],
                          [
                            0.3333333333333333,
                            "#9c179e"
                          ],
                          [
                            0.4444444444444444,
                            "#bd3786"
                          ],
                          [
                            0.5555555555555556,
                            "#d8576b"
                          ],
                          [
                            0.6666666666666666,
                            "#ed7953"
                          ],
                          [
                            0.7777777777777778,
                            "#fb9f3a"
                          ],
                          [
                            0.8888888888888888,
                            "#fdca26"
                          ],
                          [
                            1,
                            "#f0f921"
                          ]
                        ],
                        "type": "heatmapgl"
                      }
                    ],
                    "histogram": [
                      {
                        "marker": {
                          "pattern": {
                            "fillmode": "overlay",
                            "size": 10,
                            "solidity": 0.2
                          }
                        },
                        "type": "histogram"
                      }
                    ],
                    "histogram2d": [
                      {
                        "colorbar": {
                          "outlinewidth": 0,
                          "ticks": ""
                        },
                        "colorscale": [
                          [
                            0,
                            "#0d0887"
                          ],
                          [
                            0.1111111111111111,
                            "#46039f"
                          ],
                          [
                            0.2222222222222222,
                            "#7201a8"
                          ],
                          [
                            0.3333333333333333,
                            "#9c179e"
                          ],
                          [
                            0.4444444444444444,
                            "#bd3786"
                          ],
                          [
                            0.5555555555555556,
                            "#d8576b"
                          ],
                          [
                            0.6666666666666666,
                            "#ed7953"
                          ],
                          [
                            0.7777777777777778,
                            "#fb9f3a"
                          ],
                          [
                            0.8888888888888888,
                            "#fdca26"
                          ],
                          [
                            1,
                            "#f0f921"
                          ]
                        ],
                        "type": "histogram2d"
                      }
                    ],
                    "histogram2dcontour": [
                      {
                        "colorbar": {
                          "outlinewidth": 0,
                          "ticks": ""
                        },
                        "colorscale": [
                          [
                            0,
                            "#0d0887"
                          ],
                          [
                            0.1111111111111111,
                            "#46039f"
                          ],
                          [
                            0.2222222222222222,
                            "#7201a8"
                          ],
                          [
                            0.3333333333333333,
                            "#9c179e"
                          ],
                          [
                            0.4444444444444444,
                            "#bd3786"
                          ],
                          [
                            0.5555555555555556,
                            "#d8576b"
                          ],
                          [
                            0.6666666666666666,
                            "#ed7953"
                          ],
                          [
                            0.7777777777777778,
                            "#fb9f3a"
                          ],
                          [
                            0.8888888888888888,
                            "#fdca26"
                          ],
                          [
                            1,
                            "#f0f921"
                          ]
                        ],
                        "type": "histogram2dcontour"
                      }
                    ],
                    "mesh3d": [
                      {
                        "colorbar": {
                          "outlinewidth": 0,
                          "ticks": ""
                        },
                        "type": "mesh3d"
                      }
                    ],
                    "parcoords": [
                      {
                        "line": {
                          "colorbar": {
                            "outlinewidth": 0,
                            "ticks": ""
                          }
                        },
                        "type": "parcoords"
                      }
                    ],
                    "pie": [
                      {
                        "automargin": true,
                        "type": "pie"
                      }
                    ],
                    "scatter": [
                      {
                        "fillpattern": {
                          "fillmode": "overlay",
                          "size": 10,
                          "solidity": 0.2
                        },
                        "type": "scatter"
                      }
                    ],
                    "scatter3d": [
                      {
                        "line": {
                          "colorbar": {
                            "outlinewidth": 0,
                            "ticks": ""
                          }
                        },
                        "marker": {
                          "colorbar": {
                            "outlinewidth": 0,
                            "ticks": ""
                          }
                        },
                        "type": "scatter3d"
                      }
                    ],
                    "scattercarpet": [
                      {
                        "marker": {
                          "colorbar": {
                            "outlinewidth": 0,
                            "ticks": ""
                          }
                        },
                        "type": "scattercarpet"
                      }
                    ],
                    "scattergeo": [
                      {
                        "marker": {
                          "colorbar": {
                            "outlinewidth": 0,
                            "ticks": ""
                          }
                        },
                        "type": "scattergeo"
                      }
                    ],
                    "scattergl": [
                      {
                        "marker": {
                          "colorbar": {
                            "outlinewidth": 0,
                            "ticks": ""
                          }
                        },
                        "type": "scattergl"
                      }
                    ],
                    "scattermapbox": [
                      {
                        "marker": {
                          "colorbar": {
                            "outlinewidth": 0,
                            "ticks": ""
                          }
                        },
                        "type": "scattermapbox"
                      }
                    ],
                    "scatterpolar": [
                      {
                        "marker": {
                          "colorbar": {
                            "outlinewidth": 0,
                            "ticks": ""
                          }
                        },
                        "type": "scatterpolar"
                      }
                    ],
                    "scatterpolargl": [
                      {
                        "marker": {
                          "colorbar": {
                            "outlinewidth": 0,
                            "ticks": ""
                          }
                        },
                        "type": "scatterpolargl"
                      }
                    ],
                    "scatterternary": [
                      {
                        "marker": {
                          "colorbar": {
                            "outlinewidth": 0,
                            "ticks": ""
                          }
                        },
                        "type": "scatterternary"
                      }
                    ],
                    "surface": [
                      {
                        "colorbar": {
                          "outlinewidth": 0,
                          "ticks": ""
                        },
                        "colorscale": [
                          [
                            0,
                            "#0d0887"
                          ],
                          [
                            0.1111111111111111,
                            "#46039f"
                          ],
                          [
                            0.2222222222222222,
                            "#7201a8"
                          ],
                          [
                            0.3333333333333333,
                            "#9c179e"
                          ],
                          [
                            0.4444444444444444,
                            "#bd3786"
                          ],
                          [
                            0.5555555555555556,
                            "#d8576b"
                          ],
                          [
                            0.6666666666666666,
                            "#ed7953"
                          ],
                          [
                            0.7777777777777778,
                            "#fb9f3a"
                          ],
                          [
                            0.8888888888888888,
                            "#fdca26"
                          ],
                          [
                            1,
                            "#f0f921"
                          ]
                        ],
                        "type": "surface"
                      }
                    ],
                    "table": [
                      {
                        "cells": {
                          "fill": {
                            "color": "#EBF0F8"
                          },
                          "line": {
                            "color": "white"
                          }
                        },
                        "header": {
                          "fill": {
                            "color": "#C8D4E3"
                          },
                          "line": {
                            "color": "white"
                          }
                        },
                        "type": "table"
                      }
                    ]
                  },
                  "layout": {
                    "annotationdefaults": {
                      "arrowcolor": "#2a3f5f",
                      "arrowhead": 0,
                      "arrowwidth": 1
                    },
                    "autotypenumbers": "strict",
                    "coloraxis": {
                      "colorbar": {
                        "outlinewidth": 0,
                        "ticks": ""
                      }
                    },
                    "colorscale": {
                      "diverging": [
                        [
                          0,
                          "#8e0152"
                        ],
                        [
                          0.1,
                          "#c51b7d"
                        ],
                        [
                          0.2,
                          "#de77ae"
                        ],
                        [
                          0.3,
                          "#f1b6da"
                        ],
                        [
                          0.4,
                          "#fde0ef"
                        ],
                        [
                          0.5,
                          "#f7f7f7"
                        ],
                        [
                          0.6,
                          "#e6f5d0"
                        ],
                        [
                          0.7,
                          "#b8e186"
                        ],
                        [
                          0.8,
                          "#7fbc41"
                        ],
                        [
                          0.9,
                          "#4d9221"
                        ],
                        [
                          1,
                          "#276419"
                        ]
                      ],
                      "sequential": [
                        [
                          0,
                          "#0d0887"
                        ],
                        [
                          0.1111111111111111,
                          "#46039f"
                        ],
                        [
                          0.2222222222222222,
                          "#7201a8"
                        ],
                        [
                          0.3333333333333333,
                          "#9c179e"
                        ],
                        [
                          0.4444444444444444,
                          "#bd3786"
                        ],
                        [
                          0.5555555555555556,
                          "#d8576b"
                        ],
                        [
                          0.6666666666666666,
                          "#ed7953"
                        ],
                        [
                          0.7777777777777778,
                          "#fb9f3a"
                        ],
                        [
                          0.8888888888888888,
                          "#fdca26"
                        ],
                        [
                          1,
                          "#f0f921"
                        ]
                      ],
                      "sequentialminus": [
                        [
                          0,
                          "#0d0887"
                        ],
                        [
                          0.1111111111111111,
                          "#46039f"
                        ],
                        [
                          0.2222222222222222,
                          "#7201a8"
                        ],
                        [
                          0.3333333333333333,
                          "#9c179e"
                        ],
                        [
                          0.4444444444444444,
                          "#bd3786"
                        ],
                        [
                          0.5555555555555556,
                          "#d8576b"
                        ],
                        [
                          0.6666666666666666,
                          "#ed7953"
                        ],
                        [
                          0.7777777777777778,
                          "#fb9f3a"
                        ],
                        [
                          0.8888888888888888,
                          "#fdca26"
                        ],
                        [
                          1,
                          "#f0f921"
                        ]
                      ]
                    },
                    "colorway": [
                      "#636efa",
                      "#EF553B",
                      "#00cc96",
                      "#ab63fa",
                      "#FFA15A",
                      "#19d3f3",
                      "#FF6692",
                      "#B6E880",
                      "#FF97FF",
                      "#FECB52"
                    ],
                    "font": {
                      "color": "#2a3f5f"
                    },
                    "geo": {
                      "bgcolor": "white",
                      "lakecolor": "white",
                      "landcolor": "#E5ECF6",
                      "showlakes": true,
                      "showland": true,
                      "subunitcolor": "white"
                    },
                    "hoverlabel": {
                      "align": "left"
                    },
                    "hovermode": "closest",
                    "mapbox": {
                      "style": "light"
                    },
                    "paper_bgcolor": "white",
                    "plot_bgcolor": "#E5ECF6",
                    "polar": {
                      "angularaxis": {
                        "gridcolor": "white",
                        "linecolor": "white",
                        "ticks": ""
                      },
                      "bgcolor": "#E5ECF6",
                      "radialaxis": {
                        "gridcolor": "white",
                        "linecolor": "white",
                        "ticks": ""
                      }
                    },
                    "scene": {
                      "xaxis": {
                        "backgroundcolor": "#E5ECF6",
                        "gridcolor": "white",
                        "gridwidth": 2,
                        "linecolor": "white",
                        "showbackground": true,
                        "ticks": "",
                        "zerolinecolor": "white"
                      },
                      "yaxis": {
                        "backgroundcolor": "#E5ECF6",
                        "gridcolor": "white",
                        "gridwidth": 2,
                        "linecolor": "white",
                        "showbackground": true,
                        "ticks": "",
                        "zerolinecolor": "white"
                      },
                      "zaxis": {
                        "backgroundcolor": "#E5ECF6",
                        "gridcolor": "white",
                        "gridwidth": 2,
                        "linecolor": "white",
                        "showbackground": true,
                        "ticks": "",
                        "zerolinecolor": "white"
                      }
                    },
                    "shapedefaults": {
                      "line": {
                        "color": "#2a3f5f"
                      }
                    },
                    "ternary": {
                      "aaxis": {
                        "gridcolor": "white",
                        "linecolor": "white",
                        "ticks": ""
                      },
                      "baxis": {
                        "gridcolor": "white",
                        "linecolor": "white",
                        "ticks": ""
                      },
                      "bgcolor": "#E5ECF6",
                      "caxis": {
                        "gridcolor": "white",
                        "linecolor": "white",
                        "ticks": ""
                      }
                    },
                    "title": {
                      "x": 0.05
                    },
                    "xaxis": {
                      "automargin": true,
                      "gridcolor": "white",
                      "linecolor": "white",
                      "ticks": "",
                      "title": {
                        "standoff": 15
                      },
                      "zerolinecolor": "white",
                      "zerolinewidth": 2
                    },
                    "yaxis": {
                      "automargin": true,
                      "gridcolor": "white",
                      "linecolor": "white",
                      "ticks": "",
                      "title": {
                        "standoff": 15
                      },
                      "zerolinecolor": "white",
                      "zerolinewidth": 2
                    }
                  }
                },
                "title": {
                  "text": "Slice Plot"
                },
                "width": 1500,
                "xaxis": {
                  "anchor": "y",
                  "domain": [
                    0,
                    0.16799999999999998
                  ],
                  "title": {
                    "text": "C"
                  }
                },
                "xaxis2": {
                  "anchor": "y2",
                  "categoryarray": [
                    "ovo",
                    "ovr"
                  ],
                  "categoryorder": "array",
                  "domain": [
                    0.208,
                    0.376
                  ],
                  "title": {
                    "text": "decision_function_shape"
                  },
                  "type": "category"
                },
                "xaxis3": {
                  "anchor": "y3",
                  "domain": [
                    0.416,
                    0.584
                  ],
                  "title": {
                    "text": "degree"
                  }
                },
                "xaxis4": {
                  "anchor": "y4",
                  "categoryarray": [
                    "linear",
                    "poly",
                    "rbf",
                    "sigmoid"
                  ],
                  "categoryorder": "array",
                  "domain": [
                    0.624,
                    0.792
                  ],
                  "title": {
                    "text": "kernel"
                  },
                  "type": "category"
                },
                "xaxis5": {
                  "anchor": "y5",
                  "domain": [
                    0.832,
                    1
                  ],
                  "title": {
                    "text": "max_iter"
                  }
                },
                "yaxis": {
                  "anchor": "x",
                  "domain": [
                    0,
                    1
                  ],
                  "title": {
                    "text": "accuracy"
                  }
                },
                "yaxis2": {
                  "anchor": "x2",
                  "domain": [
                    0,
                    1
                  ],
                  "matches": "y",
                  "showticklabels": false
                },
                "yaxis3": {
                  "anchor": "x3",
                  "domain": [
                    0,
                    1
                  ],
                  "matches": "y",
                  "showticklabels": false
                },
                "yaxis4": {
                  "anchor": "x4",
                  "domain": [
                    0,
                    1
                  ],
                  "matches": "y",
                  "showticklabels": false
                },
                "yaxis5": {
                  "anchor": "x5",
                  "domain": [
                    0,
                    1
                  ],
                  "matches": "y",
                  "showticklabels": false
                }
              }
            },
            "text/html": [
              "<div>                            <div id=\"64bebce7-713c-4672-85d1-733a0cf21a47\" class=\"plotly-graph-div\" style=\"height:525px; width:1500px;\"></div>            <script type=\"text/javascript\">                require([\"plotly\"], function(Plotly) {                    window.PLOTLYENV=window.PLOTLYENV || {};                                    if (document.getElementById(\"64bebce7-713c-4672-85d1-733a0cf21a47\")) {                    Plotly.newPlot(                        \"64bebce7-713c-4672-85d1-733a0cf21a47\",                        [{\"marker\":{\"color\":[0,1,2,3],\"colorbar\":{\"title\":{\"text\":\"Trial\"},\"x\":1.0,\"xpad\":40},\"colorscale\":[[0.0,\"rgb(247,251,255)\"],[0.125,\"rgb(222,235,247)\"],[0.25,\"rgb(198,219,239)\"],[0.375,\"rgb(158,202,225)\"],[0.5,\"rgb(107,174,214)\"],[0.625,\"rgb(66,146,198)\"],[0.75,\"rgb(33,113,181)\"],[0.875,\"rgb(8,81,156)\"],[1.0,\"rgb(8,48,107)\"]],\"line\":{\"color\":\"Grey\",\"width\":0.5},\"showscale\":true},\"mode\":\"markers\",\"name\":\"Feasible Trial\",\"showlegend\":false,\"x\":[2.0,2.0,1.0,3.0],\"y\":[0.8736328727865764,0.6029532277687374,0.6247403749498791,0.8666320673546475],\"type\":\"scatter\",\"xaxis\":\"x\",\"yaxis\":\"y\"},{\"marker\":{\"color\":[0,1,2,3],\"colorbar\":{\"title\":{\"text\":\"Trial\"},\"x\":1.0,\"xpad\":40},\"colorscale\":[[0.0,\"rgb(247,251,255)\"],[0.125,\"rgb(222,235,247)\"],[0.25,\"rgb(198,219,239)\"],[0.375,\"rgb(158,202,225)\"],[0.5,\"rgb(107,174,214)\"],[0.625,\"rgb(66,146,198)\"],[0.75,\"rgb(33,113,181)\"],[0.875,\"rgb(8,81,156)\"],[1.0,\"rgb(8,48,107)\"]],\"line\":{\"color\":\"Grey\",\"width\":0.5},\"showscale\":false},\"mode\":\"markers\",\"name\":\"Feasible Trial\",\"showlegend\":false,\"x\":[\"ovo\",\"ovr\",\"ovo\",\"ovo\"],\"y\":[0.8736328727865764,0.6029532277687374,0.6247403749498791,0.8666320673546475],\"type\":\"scatter\",\"xaxis\":\"x2\",\"yaxis\":\"y2\"},{\"marker\":{\"color\":[0,1,2,3],\"colorbar\":{\"title\":{\"text\":\"Trial\"},\"x\":1.0,\"xpad\":40},\"colorscale\":[[0.0,\"rgb(247,251,255)\"],[0.125,\"rgb(222,235,247)\"],[0.25,\"rgb(198,219,239)\"],[0.375,\"rgb(158,202,225)\"],[0.5,\"rgb(107,174,214)\"],[0.625,\"rgb(66,146,198)\"],[0.75,\"rgb(33,113,181)\"],[0.875,\"rgb(8,81,156)\"],[1.0,\"rgb(8,48,107)\"]],\"line\":{\"color\":\"Grey\",\"width\":0.5},\"showscale\":false},\"mode\":\"markers\",\"name\":\"Feasible Trial\",\"showlegend\":false,\"x\":[2,5,2,2],\"y\":[0.8736328727865764,0.6029532277687374,0.6247403749498791,0.8666320673546475],\"type\":\"scatter\",\"xaxis\":\"x3\",\"yaxis\":\"y3\"},{\"marker\":{\"color\":[0,1,2,3],\"colorbar\":{\"title\":{\"text\":\"Trial\"},\"x\":1.0,\"xpad\":40},\"colorscale\":[[0.0,\"rgb(247,251,255)\"],[0.125,\"rgb(222,235,247)\"],[0.25,\"rgb(198,219,239)\"],[0.375,\"rgb(158,202,225)\"],[0.5,\"rgb(107,174,214)\"],[0.625,\"rgb(66,146,198)\"],[0.75,\"rgb(33,113,181)\"],[0.875,\"rgb(8,81,156)\"],[1.0,\"rgb(8,48,107)\"]],\"line\":{\"color\":\"Grey\",\"width\":0.5},\"showscale\":false},\"mode\":\"markers\",\"name\":\"Feasible Trial\",\"showlegend\":false,\"x\":[\"rbf\",\"linear\",\"sigmoid\",\"poly\"],\"y\":[0.8736328727865764,0.6029532277687374,0.6247403749498791,0.8666320673546475],\"type\":\"scatter\",\"xaxis\":\"x4\",\"yaxis\":\"y4\"},{\"marker\":{\"color\":[0,1,2,3],\"colorbar\":{\"title\":{\"text\":\"Trial\"},\"x\":1.0,\"xpad\":40},\"colorscale\":[[0.0,\"rgb(247,251,255)\"],[0.125,\"rgb(222,235,247)\"],[0.25,\"rgb(198,219,239)\"],[0.375,\"rgb(158,202,225)\"],[0.5,\"rgb(107,174,214)\"],[0.625,\"rgb(66,146,198)\"],[0.75,\"rgb(33,113,181)\"],[0.875,\"rgb(8,81,156)\"],[1.0,\"rgb(8,48,107)\"]],\"line\":{\"color\":\"Grey\",\"width\":0.5},\"showscale\":false},\"mode\":\"markers\",\"name\":\"Feasible Trial\",\"showlegend\":false,\"x\":[2010,9010,2010,8010],\"y\":[0.8736328727865764,0.6029532277687374,0.6247403749498791,0.8666320673546475],\"type\":\"scatter\",\"xaxis\":\"x5\",\"yaxis\":\"y5\"}],                        {\"template\":{\"data\":{\"histogram2dcontour\":[{\"type\":\"histogram2dcontour\",\"colorbar\":{\"outlinewidth\":0,\"ticks\":\"\"},\"colorscale\":[[0.0,\"#0d0887\"],[0.1111111111111111,\"#46039f\"],[0.2222222222222222,\"#7201a8\"],[0.3333333333333333,\"#9c179e\"],[0.4444444444444444,\"#bd3786\"],[0.5555555555555556,\"#d8576b\"],[0.6666666666666666,\"#ed7953\"],[0.7777777777777778,\"#fb9f3a\"],[0.8888888888888888,\"#fdca26\"],[1.0,\"#f0f921\"]]}],\"choropleth\":[{\"type\":\"choropleth\",\"colorbar\":{\"outlinewidth\":0,\"ticks\":\"\"}}],\"histogram2d\":[{\"type\":\"histogram2d\",\"colorbar\":{\"outlinewidth\":0,\"ticks\":\"\"},\"colorscale\":[[0.0,\"#0d0887\"],[0.1111111111111111,\"#46039f\"],[0.2222222222222222,\"#7201a8\"],[0.3333333333333333,\"#9c179e\"],[0.4444444444444444,\"#bd3786\"],[0.5555555555555556,\"#d8576b\"],[0.6666666666666666,\"#ed7953\"],[0.7777777777777778,\"#fb9f3a\"],[0.8888888888888888,\"#fdca26\"],[1.0,\"#f0f921\"]]}],\"heatmap\":[{\"type\":\"heatmap\",\"colorbar\":{\"outlinewidth\":0,\"ticks\":\"\"},\"colorscale\":[[0.0,\"#0d0887\"],[0.1111111111111111,\"#46039f\"],[0.2222222222222222,\"#7201a8\"],[0.3333333333333333,\"#9c179e\"],[0.4444444444444444,\"#bd3786\"],[0.5555555555555556,\"#d8576b\"],[0.6666666666666666,\"#ed7953\"],[0.7777777777777778,\"#fb9f3a\"],[0.8888888888888888,\"#fdca26\"],[1.0,\"#f0f921\"]]}],\"heatmapgl\":[{\"type\":\"heatmapgl\",\"colorbar\":{\"outlinewidth\":0,\"ticks\":\"\"},\"colorscale\":[[0.0,\"#0d0887\"],[0.1111111111111111,\"#46039f\"],[0.2222222222222222,\"#7201a8\"],[0.3333333333333333,\"#9c179e\"],[0.4444444444444444,\"#bd3786\"],[0.5555555555555556,\"#d8576b\"],[0.6666666666666666,\"#ed7953\"],[0.7777777777777778,\"#fb9f3a\"],[0.8888888888888888,\"#fdca26\"],[1.0,\"#f0f921\"]]}],\"contourcarpet\":[{\"type\":\"contourcarpet\",\"colorbar\":{\"outlinewidth\":0,\"ticks\":\"\"}}],\"contour\":[{\"type\":\"contour\",\"colorbar\":{\"outlinewidth\":0,\"ticks\":\"\"},\"colorscale\":[[0.0,\"#0d0887\"],[0.1111111111111111,\"#46039f\"],[0.2222222222222222,\"#7201a8\"],[0.3333333333333333,\"#9c179e\"],[0.4444444444444444,\"#bd3786\"],[0.5555555555555556,\"#d8576b\"],[0.6666666666666666,\"#ed7953\"],[0.7777777777777778,\"#fb9f3a\"],[0.8888888888888888,\"#fdca26\"],[1.0,\"#f0f921\"]]}],\"surface\":[{\"type\":\"surface\",\"colorbar\":{\"outlinewidth\":0,\"ticks\":\"\"},\"colorscale\":[[0.0,\"#0d0887\"],[0.1111111111111111,\"#46039f\"],[0.2222222222222222,\"#7201a8\"],[0.3333333333333333,\"#9c179e\"],[0.4444444444444444,\"#bd3786\"],[0.5555555555555556,\"#d8576b\"],[0.6666666666666666,\"#ed7953\"],[0.7777777777777778,\"#fb9f3a\"],[0.8888888888888888,\"#fdca26\"],[1.0,\"#f0f921\"]]}],\"mesh3d\":[{\"type\":\"mesh3d\",\"colorbar\":{\"outlinewidth\":0,\"ticks\":\"\"}}],\"scatter\":[{\"fillpattern\":{\"fillmode\":\"overlay\",\"size\":10,\"solidity\":0.2},\"type\":\"scatter\"}],\"parcoords\":[{\"type\":\"parcoords\",\"line\":{\"colorbar\":{\"outlinewidth\":0,\"ticks\":\"\"}}}],\"scatterpolargl\":[{\"type\":\"scatterpolargl\",\"marker\":{\"colorbar\":{\"outlinewidth\":0,\"ticks\":\"\"}}}],\"bar\":[{\"error_x\":{\"color\":\"#2a3f5f\"},\"error_y\":{\"color\":\"#2a3f5f\"},\"marker\":{\"line\":{\"color\":\"#E5ECF6\",\"width\":0.5},\"pattern\":{\"fillmode\":\"overlay\",\"size\":10,\"solidity\":0.2}},\"type\":\"bar\"}],\"scattergeo\":[{\"type\":\"scattergeo\",\"marker\":{\"colorbar\":{\"outlinewidth\":0,\"ticks\":\"\"}}}],\"scatterpolar\":[{\"type\":\"scatterpolar\",\"marker\":{\"colorbar\":{\"outlinewidth\":0,\"ticks\":\"\"}}}],\"histogram\":[{\"marker\":{\"pattern\":{\"fillmode\":\"overlay\",\"size\":10,\"solidity\":0.2}},\"type\":\"histogram\"}],\"scattergl\":[{\"type\":\"scattergl\",\"marker\":{\"colorbar\":{\"outlinewidth\":0,\"ticks\":\"\"}}}],\"scatter3d\":[{\"type\":\"scatter3d\",\"line\":{\"colorbar\":{\"outlinewidth\":0,\"ticks\":\"\"}},\"marker\":{\"colorbar\":{\"outlinewidth\":0,\"ticks\":\"\"}}}],\"scattermapbox\":[{\"type\":\"scattermapbox\",\"marker\":{\"colorbar\":{\"outlinewidth\":0,\"ticks\":\"\"}}}],\"scatterternary\":[{\"type\":\"scatterternary\",\"marker\":{\"colorbar\":{\"outlinewidth\":0,\"ticks\":\"\"}}}],\"scattercarpet\":[{\"type\":\"scattercarpet\",\"marker\":{\"colorbar\":{\"outlinewidth\":0,\"ticks\":\"\"}}}],\"carpet\":[{\"aaxis\":{\"endlinecolor\":\"#2a3f5f\",\"gridcolor\":\"white\",\"linecolor\":\"white\",\"minorgridcolor\":\"white\",\"startlinecolor\":\"#2a3f5f\"},\"baxis\":{\"endlinecolor\":\"#2a3f5f\",\"gridcolor\":\"white\",\"linecolor\":\"white\",\"minorgridcolor\":\"white\",\"startlinecolor\":\"#2a3f5f\"},\"type\":\"carpet\"}],\"table\":[{\"cells\":{\"fill\":{\"color\":\"#EBF0F8\"},\"line\":{\"color\":\"white\"}},\"header\":{\"fill\":{\"color\":\"#C8D4E3\"},\"line\":{\"color\":\"white\"}},\"type\":\"table\"}],\"barpolar\":[{\"marker\":{\"line\":{\"color\":\"#E5ECF6\",\"width\":0.5},\"pattern\":{\"fillmode\":\"overlay\",\"size\":10,\"solidity\":0.2}},\"type\":\"barpolar\"}],\"pie\":[{\"automargin\":true,\"type\":\"pie\"}]},\"layout\":{\"autotypenumbers\":\"strict\",\"colorway\":[\"#636efa\",\"#EF553B\",\"#00cc96\",\"#ab63fa\",\"#FFA15A\",\"#19d3f3\",\"#FF6692\",\"#B6E880\",\"#FF97FF\",\"#FECB52\"],\"font\":{\"color\":\"#2a3f5f\"},\"hovermode\":\"closest\",\"hoverlabel\":{\"align\":\"left\"},\"paper_bgcolor\":\"white\",\"plot_bgcolor\":\"#E5ECF6\",\"polar\":{\"bgcolor\":\"#E5ECF6\",\"angularaxis\":{\"gridcolor\":\"white\",\"linecolor\":\"white\",\"ticks\":\"\"},\"radialaxis\":{\"gridcolor\":\"white\",\"linecolor\":\"white\",\"ticks\":\"\"}},\"ternary\":{\"bgcolor\":\"#E5ECF6\",\"aaxis\":{\"gridcolor\":\"white\",\"linecolor\":\"white\",\"ticks\":\"\"},\"baxis\":{\"gridcolor\":\"white\",\"linecolor\":\"white\",\"ticks\":\"\"},\"caxis\":{\"gridcolor\":\"white\",\"linecolor\":\"white\",\"ticks\":\"\"}},\"coloraxis\":{\"colorbar\":{\"outlinewidth\":0,\"ticks\":\"\"}},\"colorscale\":{\"sequential\":[[0.0,\"#0d0887\"],[0.1111111111111111,\"#46039f\"],[0.2222222222222222,\"#7201a8\"],[0.3333333333333333,\"#9c179e\"],[0.4444444444444444,\"#bd3786\"],[0.5555555555555556,\"#d8576b\"],[0.6666666666666666,\"#ed7953\"],[0.7777777777777778,\"#fb9f3a\"],[0.8888888888888888,\"#fdca26\"],[1.0,\"#f0f921\"]],\"sequentialminus\":[[0.0,\"#0d0887\"],[0.1111111111111111,\"#46039f\"],[0.2222222222222222,\"#7201a8\"],[0.3333333333333333,\"#9c179e\"],[0.4444444444444444,\"#bd3786\"],[0.5555555555555556,\"#d8576b\"],[0.6666666666666666,\"#ed7953\"],[0.7777777777777778,\"#fb9f3a\"],[0.8888888888888888,\"#fdca26\"],[1.0,\"#f0f921\"]],\"diverging\":[[0,\"#8e0152\"],[0.1,\"#c51b7d\"],[0.2,\"#de77ae\"],[0.3,\"#f1b6da\"],[0.4,\"#fde0ef\"],[0.5,\"#f7f7f7\"],[0.6,\"#e6f5d0\"],[0.7,\"#b8e186\"],[0.8,\"#7fbc41\"],[0.9,\"#4d9221\"],[1,\"#276419\"]]},\"xaxis\":{\"gridcolor\":\"white\",\"linecolor\":\"white\",\"ticks\":\"\",\"title\":{\"standoff\":15},\"zerolinecolor\":\"white\",\"automargin\":true,\"zerolinewidth\":2},\"yaxis\":{\"gridcolor\":\"white\",\"linecolor\":\"white\",\"ticks\":\"\",\"title\":{\"standoff\":15},\"zerolinecolor\":\"white\",\"automargin\":true,\"zerolinewidth\":2},\"scene\":{\"xaxis\":{\"backgroundcolor\":\"#E5ECF6\",\"gridcolor\":\"white\",\"linecolor\":\"white\",\"showbackground\":true,\"ticks\":\"\",\"zerolinecolor\":\"white\",\"gridwidth\":2},\"yaxis\":{\"backgroundcolor\":\"#E5ECF6\",\"gridcolor\":\"white\",\"linecolor\":\"white\",\"showbackground\":true,\"ticks\":\"\",\"zerolinecolor\":\"white\",\"gridwidth\":2},\"zaxis\":{\"backgroundcolor\":\"#E5ECF6\",\"gridcolor\":\"white\",\"linecolor\":\"white\",\"showbackground\":true,\"ticks\":\"\",\"zerolinecolor\":\"white\",\"gridwidth\":2}},\"shapedefaults\":{\"line\":{\"color\":\"#2a3f5f\"}},\"annotationdefaults\":{\"arrowcolor\":\"#2a3f5f\",\"arrowhead\":0,\"arrowwidth\":1},\"geo\":{\"bgcolor\":\"white\",\"landcolor\":\"#E5ECF6\",\"subunitcolor\":\"white\",\"showland\":true,\"showlakes\":true,\"lakecolor\":\"white\"},\"title\":{\"x\":0.05},\"mapbox\":{\"style\":\"light\"}}},\"xaxis\":{\"anchor\":\"y\",\"domain\":[0.0,0.16799999999999998],\"title\":{\"text\":\"C\"}},\"yaxis\":{\"anchor\":\"x\",\"domain\":[0.0,1.0],\"title\":{\"text\":\"accuracy\"}},\"xaxis2\":{\"anchor\":\"y2\",\"domain\":[0.208,0.376],\"title\":{\"text\":\"decision_function_shape\"},\"type\":\"category\",\"categoryorder\":\"array\",\"categoryarray\":[\"ovo\",\"ovr\"]},\"yaxis2\":{\"anchor\":\"x2\",\"domain\":[0.0,1.0],\"matches\":\"y\",\"showticklabels\":false},\"xaxis3\":{\"anchor\":\"y3\",\"domain\":[0.416,0.584],\"title\":{\"text\":\"degree\"}},\"yaxis3\":{\"anchor\":\"x3\",\"domain\":[0.0,1.0],\"matches\":\"y\",\"showticklabels\":false},\"xaxis4\":{\"anchor\":\"y4\",\"domain\":[0.624,0.792],\"title\":{\"text\":\"kernel\"},\"type\":\"category\",\"categoryorder\":\"array\",\"categoryarray\":[\"linear\",\"poly\",\"rbf\",\"sigmoid\"]},\"yaxis4\":{\"anchor\":\"x4\",\"domain\":[0.0,1.0],\"matches\":\"y\",\"showticklabels\":false},\"xaxis5\":{\"anchor\":\"y5\",\"domain\":[0.832,1.0],\"title\":{\"text\":\"max_iter\"}},\"yaxis5\":{\"anchor\":\"x5\",\"domain\":[0.0,1.0],\"matches\":\"y\",\"showticklabels\":false},\"title\":{\"text\":\"Slice Plot\"},\"width\":1500},                        {\"responsive\": true}                    ).then(function(){\n",
              "                            \n",
              "var gd = document.getElementById('64bebce7-713c-4672-85d1-733a0cf21a47');\n",
              "var x = new MutationObserver(function (mutations, observer) {{\n",
              "        var display = window.getComputedStyle(gd).display;\n",
              "        if (!display || display === 'none') {{\n",
              "            console.log([gd, 'removed!']);\n",
              "            Plotly.purge(gd);\n",
              "            observer.disconnect();\n",
              "        }}\n",
              "}});\n",
              "\n",
              "// Listen for the removal of the full notebook cells\n",
              "var notebookContainer = gd.closest('#notebook-container');\n",
              "if (notebookContainer) {{\n",
              "    x.observe(notebookContainer, {childList: true});\n",
              "}}\n",
              "\n",
              "// Listen for the clearing of the current output cell\n",
              "var outputEl = gd.closest('.output');\n",
              "if (outputEl) {{\n",
              "    x.observe(outputEl, {childList: true});\n",
              "}}\n",
              "\n",
              "                        })                };                });            </script>        </div>"
            ]
          },
          "metadata": {},
          "output_type": "display_data"
        }
      ],
      "source": [
        "params = [\"C\",\n",
        "          \"kernel\",\n",
        "          \"max_iter\",\n",
        "          'degree',\n",
        "          'decision_function_shape'\n",
        "          ]\n",
        "\n",
        "optuna.visualization.plot_slice(study, params=params, target_name='accuracy')"
      ]
    },
    {
      "cell_type": "markdown",
      "metadata": {
        "id": "gpYEwf9mo6do"
      },
      "source": [
        "# LGBM"
      ]
    },
    {
      "cell_type": "code",
      "execution_count": null,
      "metadata": {
        "id": "z-YT19gjpPDB"
      },
      "outputs": [],
      "source": [
        "from catboost import CatBoostClassifier"
      ]
    },
    {
      "cell_type": "code",
      "execution_count": null,
      "metadata": {
        "colab": {
          "base_uri": "https://localhost:8080/"
        },
        "id": "q9iOqsZio7kV",
        "outputId": "ef0f5135-8e23-430b-f0dd-e3373ecece18"
      },
      "outputs": [
        {
          "name": "stdout",
          "output_type": "stream",
          "text": [
            "               precision    recall  f1-score   support\n",
            "\n",
            "         авто       0.69      0.34      0.46        58\n",
            "       бизнес       0.51      0.54      0.52       277\n",
            "       власть       0.51      0.42      0.46       552\n",
            "        город       0.75      0.71      0.73      1182\n",
            "  доброе дело       0.70      0.62      0.65        26\n",
            " недвижимость       0.00      0.00      0.00        19\n",
            "  образ жизни       0.00      0.00      0.00        12\n",
            "     общество       0.60      0.68      0.64      1841\n",
            "     политика       0.55      0.28      0.37       134\n",
            " происшествия       0.82      0.87      0.84      1858\n",
            "       разное       0.50      0.05      0.09        21\n",
            "        спорт       0.90      0.90      0.90       234\n",
            "строительство       0.86      0.95      0.91       216\n",
            "   технологии       0.73      0.31      0.43        62\n",
            "       туризм       0.50      0.11      0.18        28\n",
            "      финансы       0.60      0.47      0.53       109\n",
            "\n",
            "     accuracy                           0.70      6629\n",
            "    macro avg       0.58      0.45      0.48      6629\n",
            " weighted avg       0.70      0.70      0.69      6629\n",
            "\n"
          ]
        },
        {
          "name": "stderr",
          "output_type": "stream",
          "text": [
            "/usr/local/lib/python3.10/dist-packages/sklearn/metrics/_classification.py:1344: UndefinedMetricWarning:\n",
            "\n",
            "Precision and F-score are ill-defined and being set to 0.0 in labels with no predicted samples. Use `zero_division` parameter to control this behavior.\n",
            "\n",
            "/usr/local/lib/python3.10/dist-packages/sklearn/metrics/_classification.py:1344: UndefinedMetricWarning:\n",
            "\n",
            "Precision and F-score are ill-defined and being set to 0.0 in labels with no predicted samples. Use `zero_division` parameter to control this behavior.\n",
            "\n",
            "/usr/local/lib/python3.10/dist-packages/sklearn/metrics/_classification.py:1344: UndefinedMetricWarning:\n",
            "\n",
            "Precision and F-score are ill-defined and being set to 0.0 in labels with no predicted samples. Use `zero_division` parameter to control this behavior.\n",
            "\n"
          ]
        }
      ],
      "source": [
        "pipe = Pipeline([('w2v', TfidfEmbeddingVectorizer(model)),\n",
        "                 ('clf', CatBoostClassifier(random_state=RND_STATE,\n",
        "                                            # auto_class_weights='Balanced',\n",
        "                                            # loss_function='MultiClass',\n",
        "                                            verbose=False))])\n",
        "\n",
        "pipe.fit(X_train, y_train)\n",
        "y_pred = pipe.predict(X_test)\n",
        "\n",
        "print(classification_report(y_test, pipe.predict(X_test)))"
      ]
    },
    {
      "cell_type": "code",
      "execution_count": null,
      "metadata": {
        "colab": {
          "base_uri": "https://localhost:8080/"
        },
        "id": "YBQGOZfA6fDZ",
        "outputId": "710a15d8-4365-4dc4-b4ad-362941c327c9"
      },
      "outputs": [
        {
          "name": "stdout",
          "output_type": "stream",
          "text": [
            "               precision    recall  f1-score   support\n",
            "\n",
            "         авто       0.43      0.64      0.51        58\n",
            "       бизнес       0.43      0.70      0.54       277\n",
            "       власть       0.45      0.57      0.50       552\n",
            "        город       0.74      0.71      0.72      1182\n",
            "  доброе дело       0.45      0.77      0.57        26\n",
            " недвижимость       0.36      0.21      0.27        19\n",
            "  образ жизни       0.15      0.17      0.16        12\n",
            "     общество       0.69      0.48      0.56      1841\n",
            "     политика       0.30      0.46      0.36       134\n",
            " происшествия       0.83      0.86      0.84      1858\n",
            "       разное       0.25      0.14      0.18        21\n",
            "        спорт       0.85      0.94      0.89       234\n",
            "строительство       0.87      0.96      0.92       216\n",
            "   технологии       0.37      0.52      0.43        62\n",
            "       туризм       0.25      0.46      0.32        28\n",
            "      финансы       0.50      0.63      0.56       109\n",
            "\n",
            "     accuracy                           0.68      6629\n",
            "    macro avg       0.50      0.58      0.52      6629\n",
            " weighted avg       0.70      0.68      0.68      6629\n",
            "\n"
          ]
        }
      ],
      "source": [
        "pipe = Pipeline([('w2v', TfidfEmbeddingVectorizer(model)),\n",
        "                 ('clf', CatBoostClassifier(random_state=RND_STATE,\n",
        "                                            auto_class_weights='Balanced',\n",
        "                                            # loss_function='MultiClass',\n",
        "                                            verbose=False))])\n",
        "\n",
        "pipe.fit(X_train, y_train)\n",
        "y_pred = pipe.predict(X_test)\n",
        "\n",
        "print(classification_report(y_test, pipe.predict(X_test)))"
      ]
    }
  ],
  "metadata": {
    "colab": {
      "provenance": []
    },
    "kernelspec": {
      "display_name": "Python 3",
      "name": "python3"
    },
    "language_info": {
      "name": "python"
    },
    "widgets": {
      "application/vnd.jupyter.widget-state+json": {
        "2c8a62e18b0e48c6b309c9efb80351e2": {
          "model_module": "@jupyter-widgets/controls",
          "model_module_version": "1.5.0",
          "model_name": "HTMLModel",
          "state": {
            "_dom_classes": [],
            "_model_module": "@jupyter-widgets/controls",
            "_model_module_version": "1.5.0",
            "_model_name": "HTMLModel",
            "_view_count": null,
            "_view_module": "@jupyter-widgets/controls",
            "_view_module_version": "1.5.0",
            "_view_name": "HTMLView",
            "description": "",
            "description_tooltip": null,
            "layout": "IPY_MODEL_6c959c3ff3ab4abd8968085aa2c0b6fe",
            "placeholder": "​",
            "style": "IPY_MODEL_8d3285f66b474d94bc1e2744a9bafebc",
            "value": "Best trial: 8. Best value: 0.872962: 100%"
          }
        },
        "328ac6674f984a78b231ce61b48d0b9c": {
          "model_module": "@jupyter-widgets/controls",
          "model_module_version": "1.5.0",
          "model_name": "HBoxModel",
          "state": {
            "_dom_classes": [],
            "_model_module": "@jupyter-widgets/controls",
            "_model_module_version": "1.5.0",
            "_model_name": "HBoxModel",
            "_view_count": null,
            "_view_module": "@jupyter-widgets/controls",
            "_view_module_version": "1.5.0",
            "_view_name": "HBoxView",
            "box_style": "",
            "children": [
              "IPY_MODEL_93965aa8753a40fabc4b1afd7e189d80",
              "IPY_MODEL_5848cf24e84846e0bde2b24b0e0d6ac5",
              "IPY_MODEL_9fd224dee4cb4fb084d8518b55295059"
            ],
            "layout": "IPY_MODEL_e9f82cdc7fbc4eb9a3e205fceb855e6f"
          }
        },
        "39927abbd98e4a809c5a6ff39ba440de": {
          "model_module": "@jupyter-widgets/controls",
          "model_module_version": "1.5.0",
          "model_name": "FloatProgressModel",
          "state": {
            "_dom_classes": [],
            "_model_module": "@jupyter-widgets/controls",
            "_model_module_version": "1.5.0",
            "_model_name": "FloatProgressModel",
            "_view_count": null,
            "_view_module": "@jupyter-widgets/controls",
            "_view_module_version": "1.5.0",
            "_view_name": "ProgressView",
            "bar_style": "success",
            "description": "",
            "description_tooltip": null,
            "layout": "IPY_MODEL_685d38eb2aaf4e5aad288018cebeb254",
            "max": 100,
            "min": 0,
            "orientation": "horizontal",
            "style": "IPY_MODEL_67b0e13b39d74164b37b950f063b7f92",
            "value": 100
          }
        },
        "45c271145a074003aafd48e5eb077b1e": {
          "model_module": "@jupyter-widgets/controls",
          "model_module_version": "1.5.0",
          "model_name": "DescriptionStyleModel",
          "state": {
            "_model_module": "@jupyter-widgets/controls",
            "_model_module_version": "1.5.0",
            "_model_name": "DescriptionStyleModel",
            "_view_count": null,
            "_view_module": "@jupyter-widgets/base",
            "_view_module_version": "1.2.0",
            "_view_name": "StyleView",
            "description_width": ""
          }
        },
        "55b0e4acde1144a2ba0c51fb1b42f7cd": {
          "model_module": "@jupyter-widgets/base",
          "model_module_version": "1.2.0",
          "model_name": "LayoutModel",
          "state": {
            "_model_module": "@jupyter-widgets/base",
            "_model_module_version": "1.2.0",
            "_model_name": "LayoutModel",
            "_view_count": null,
            "_view_module": "@jupyter-widgets/base",
            "_view_module_version": "1.2.0",
            "_view_name": "LayoutView",
            "align_content": null,
            "align_items": null,
            "align_self": null,
            "border": null,
            "bottom": null,
            "display": null,
            "flex": null,
            "flex_flow": null,
            "grid_area": null,
            "grid_auto_columns": null,
            "grid_auto_flow": null,
            "grid_auto_rows": null,
            "grid_column": null,
            "grid_gap": null,
            "grid_row": null,
            "grid_template_areas": null,
            "grid_template_columns": null,
            "grid_template_rows": null,
            "height": null,
            "justify_content": null,
            "justify_items": null,
            "left": null,
            "margin": null,
            "max_height": null,
            "max_width": null,
            "min_height": null,
            "min_width": null,
            "object_fit": null,
            "object_position": null,
            "order": null,
            "overflow": null,
            "overflow_x": null,
            "overflow_y": null,
            "padding": null,
            "right": null,
            "top": null,
            "visibility": null,
            "width": null
          }
        },
        "5848cf24e84846e0bde2b24b0e0d6ac5": {
          "model_module": "@jupyter-widgets/controls",
          "model_module_version": "1.5.0",
          "model_name": "FloatProgressModel",
          "state": {
            "_dom_classes": [],
            "_model_module": "@jupyter-widgets/controls",
            "_model_module_version": "1.5.0",
            "_model_name": "FloatProgressModel",
            "_view_count": null,
            "_view_module": "@jupyter-widgets/controls",
            "_view_module_version": "1.5.0",
            "_view_name": "ProgressView",
            "bar_style": "success",
            "description": "",
            "description_tooltip": null,
            "layout": "IPY_MODEL_b3c63a697d7a499f8c079107c01f7527",
            "max": 4,
            "min": 0,
            "orientation": "horizontal",
            "style": "IPY_MODEL_8534162516684edd98d4ccc315389089",
            "value": 4
          }
        },
        "5859d2eaa95e4f9686df90f21358340b": {
          "model_module": "@jupyter-widgets/controls",
          "model_module_version": "1.5.0",
          "model_name": "HBoxModel",
          "state": {
            "_dom_classes": [],
            "_model_module": "@jupyter-widgets/controls",
            "_model_module_version": "1.5.0",
            "_model_name": "HBoxModel",
            "_view_count": null,
            "_view_module": "@jupyter-widgets/controls",
            "_view_module_version": "1.5.0",
            "_view_name": "HBoxView",
            "box_style": "",
            "children": [
              "IPY_MODEL_2c8a62e18b0e48c6b309c9efb80351e2",
              "IPY_MODEL_39927abbd98e4a809c5a6ff39ba440de",
              "IPY_MODEL_c9cdafa4a077492397468dc96b21a9b6"
            ],
            "layout": "IPY_MODEL_b784d76ef8c84eb49845df9047c630aa"
          }
        },
        "67b0e13b39d74164b37b950f063b7f92": {
          "model_module": "@jupyter-widgets/controls",
          "model_module_version": "1.5.0",
          "model_name": "ProgressStyleModel",
          "state": {
            "_model_module": "@jupyter-widgets/controls",
            "_model_module_version": "1.5.0",
            "_model_name": "ProgressStyleModel",
            "_view_count": null,
            "_view_module": "@jupyter-widgets/base",
            "_view_module_version": "1.2.0",
            "_view_name": "StyleView",
            "bar_color": null,
            "description_width": ""
          }
        },
        "685d38eb2aaf4e5aad288018cebeb254": {
          "model_module": "@jupyter-widgets/base",
          "model_module_version": "1.2.0",
          "model_name": "LayoutModel",
          "state": {
            "_model_module": "@jupyter-widgets/base",
            "_model_module_version": "1.2.0",
            "_model_name": "LayoutModel",
            "_view_count": null,
            "_view_module": "@jupyter-widgets/base",
            "_view_module_version": "1.2.0",
            "_view_name": "LayoutView",
            "align_content": null,
            "align_items": null,
            "align_self": null,
            "border": null,
            "bottom": null,
            "display": null,
            "flex": null,
            "flex_flow": null,
            "grid_area": null,
            "grid_auto_columns": null,
            "grid_auto_flow": null,
            "grid_auto_rows": null,
            "grid_column": null,
            "grid_gap": null,
            "grid_row": null,
            "grid_template_areas": null,
            "grid_template_columns": null,
            "grid_template_rows": null,
            "height": null,
            "justify_content": null,
            "justify_items": null,
            "left": null,
            "margin": null,
            "max_height": null,
            "max_width": null,
            "min_height": null,
            "min_width": null,
            "object_fit": null,
            "object_position": null,
            "order": null,
            "overflow": null,
            "overflow_x": null,
            "overflow_y": null,
            "padding": null,
            "right": null,
            "top": null,
            "visibility": null,
            "width": null
          }
        },
        "69d144f187ad444d9c5c1add3a6e54a2": {
          "model_module": "@jupyter-widgets/controls",
          "model_module_version": "1.5.0",
          "model_name": "DescriptionStyleModel",
          "state": {
            "_model_module": "@jupyter-widgets/controls",
            "_model_module_version": "1.5.0",
            "_model_name": "DescriptionStyleModel",
            "_view_count": null,
            "_view_module": "@jupyter-widgets/base",
            "_view_module_version": "1.2.0",
            "_view_name": "StyleView",
            "description_width": ""
          }
        },
        "6c959c3ff3ab4abd8968085aa2c0b6fe": {
          "model_module": "@jupyter-widgets/base",
          "model_module_version": "1.2.0",
          "model_name": "LayoutModel",
          "state": {
            "_model_module": "@jupyter-widgets/base",
            "_model_module_version": "1.2.0",
            "_model_name": "LayoutModel",
            "_view_count": null,
            "_view_module": "@jupyter-widgets/base",
            "_view_module_version": "1.2.0",
            "_view_name": "LayoutView",
            "align_content": null,
            "align_items": null,
            "align_self": null,
            "border": null,
            "bottom": null,
            "display": null,
            "flex": null,
            "flex_flow": null,
            "grid_area": null,
            "grid_auto_columns": null,
            "grid_auto_flow": null,
            "grid_auto_rows": null,
            "grid_column": null,
            "grid_gap": null,
            "grid_row": null,
            "grid_template_areas": null,
            "grid_template_columns": null,
            "grid_template_rows": null,
            "height": null,
            "justify_content": null,
            "justify_items": null,
            "left": null,
            "margin": null,
            "max_height": null,
            "max_width": null,
            "min_height": null,
            "min_width": null,
            "object_fit": null,
            "object_position": null,
            "order": null,
            "overflow": null,
            "overflow_x": null,
            "overflow_y": null,
            "padding": null,
            "right": null,
            "top": null,
            "visibility": null,
            "width": null
          }
        },
        "8534162516684edd98d4ccc315389089": {
          "model_module": "@jupyter-widgets/controls",
          "model_module_version": "1.5.0",
          "model_name": "ProgressStyleModel",
          "state": {
            "_model_module": "@jupyter-widgets/controls",
            "_model_module_version": "1.5.0",
            "_model_name": "ProgressStyleModel",
            "_view_count": null,
            "_view_module": "@jupyter-widgets/base",
            "_view_module_version": "1.2.0",
            "_view_name": "StyleView",
            "bar_color": null,
            "description_width": ""
          }
        },
        "8d3285f66b474d94bc1e2744a9bafebc": {
          "model_module": "@jupyter-widgets/controls",
          "model_module_version": "1.5.0",
          "model_name": "DescriptionStyleModel",
          "state": {
            "_model_module": "@jupyter-widgets/controls",
            "_model_module_version": "1.5.0",
            "_model_name": "DescriptionStyleModel",
            "_view_count": null,
            "_view_module": "@jupyter-widgets/base",
            "_view_module_version": "1.2.0",
            "_view_name": "StyleView",
            "description_width": ""
          }
        },
        "93965aa8753a40fabc4b1afd7e189d80": {
          "model_module": "@jupyter-widgets/controls",
          "model_module_version": "1.5.0",
          "model_name": "HTMLModel",
          "state": {
            "_dom_classes": [],
            "_model_module": "@jupyter-widgets/controls",
            "_model_module_version": "1.5.0",
            "_model_name": "HTMLModel",
            "_view_count": null,
            "_view_module": "@jupyter-widgets/controls",
            "_view_module_version": "1.5.0",
            "_view_name": "HTMLView",
            "description": "",
            "description_tooltip": null,
            "layout": "IPY_MODEL_55b0e4acde1144a2ba0c51fb1b42f7cd",
            "placeholder": "​",
            "style": "IPY_MODEL_45c271145a074003aafd48e5eb077b1e",
            "value": "Best trial: 0. Best value: 0.873633: 100%"
          }
        },
        "9fd224dee4cb4fb084d8518b55295059": {
          "model_module": "@jupyter-widgets/controls",
          "model_module_version": "1.5.0",
          "model_name": "HTMLModel",
          "state": {
            "_dom_classes": [],
            "_model_module": "@jupyter-widgets/controls",
            "_model_module_version": "1.5.0",
            "_model_name": "HTMLModel",
            "_view_count": null,
            "_view_module": "@jupyter-widgets/controls",
            "_view_module_version": "1.5.0",
            "_view_name": "HTMLView",
            "description": "",
            "description_tooltip": null,
            "layout": "IPY_MODEL_c8ff97a0d43f46ac807302f69b73adbf",
            "placeholder": "​",
            "style": "IPY_MODEL_69d144f187ad444d9c5c1add3a6e54a2",
            "value": " 4/4 [07:00&lt;00:00, 84.40s/it]"
          }
        },
        "b2ae7682953c4909906a8bd212027f7d": {
          "model_module": "@jupyter-widgets/controls",
          "model_module_version": "1.5.0",
          "model_name": "DescriptionStyleModel",
          "state": {
            "_model_module": "@jupyter-widgets/controls",
            "_model_module_version": "1.5.0",
            "_model_name": "DescriptionStyleModel",
            "_view_count": null,
            "_view_module": "@jupyter-widgets/base",
            "_view_module_version": "1.2.0",
            "_view_name": "StyleView",
            "description_width": ""
          }
        },
        "b3c63a697d7a499f8c079107c01f7527": {
          "model_module": "@jupyter-widgets/base",
          "model_module_version": "1.2.0",
          "model_name": "LayoutModel",
          "state": {
            "_model_module": "@jupyter-widgets/base",
            "_model_module_version": "1.2.0",
            "_model_name": "LayoutModel",
            "_view_count": null,
            "_view_module": "@jupyter-widgets/base",
            "_view_module_version": "1.2.0",
            "_view_name": "LayoutView",
            "align_content": null,
            "align_items": null,
            "align_self": null,
            "border": null,
            "bottom": null,
            "display": null,
            "flex": null,
            "flex_flow": null,
            "grid_area": null,
            "grid_auto_columns": null,
            "grid_auto_flow": null,
            "grid_auto_rows": null,
            "grid_column": null,
            "grid_gap": null,
            "grid_row": null,
            "grid_template_areas": null,
            "grid_template_columns": null,
            "grid_template_rows": null,
            "height": null,
            "justify_content": null,
            "justify_items": null,
            "left": null,
            "margin": null,
            "max_height": null,
            "max_width": null,
            "min_height": null,
            "min_width": null,
            "object_fit": null,
            "object_position": null,
            "order": null,
            "overflow": null,
            "overflow_x": null,
            "overflow_y": null,
            "padding": null,
            "right": null,
            "top": null,
            "visibility": null,
            "width": null
          }
        },
        "b784d76ef8c84eb49845df9047c630aa": {
          "model_module": "@jupyter-widgets/base",
          "model_module_version": "1.2.0",
          "model_name": "LayoutModel",
          "state": {
            "_model_module": "@jupyter-widgets/base",
            "_model_module_version": "1.2.0",
            "_model_name": "LayoutModel",
            "_view_count": null,
            "_view_module": "@jupyter-widgets/base",
            "_view_module_version": "1.2.0",
            "_view_name": "LayoutView",
            "align_content": null,
            "align_items": null,
            "align_self": null,
            "border": null,
            "bottom": null,
            "display": null,
            "flex": null,
            "flex_flow": null,
            "grid_area": null,
            "grid_auto_columns": null,
            "grid_auto_flow": null,
            "grid_auto_rows": null,
            "grid_column": null,
            "grid_gap": null,
            "grid_row": null,
            "grid_template_areas": null,
            "grid_template_columns": null,
            "grid_template_rows": null,
            "height": null,
            "justify_content": null,
            "justify_items": null,
            "left": null,
            "margin": null,
            "max_height": null,
            "max_width": null,
            "min_height": null,
            "min_width": null,
            "object_fit": null,
            "object_position": null,
            "order": null,
            "overflow": null,
            "overflow_x": null,
            "overflow_y": null,
            "padding": null,
            "right": null,
            "top": null,
            "visibility": null,
            "width": null
          }
        },
        "c8ff97a0d43f46ac807302f69b73adbf": {
          "model_module": "@jupyter-widgets/base",
          "model_module_version": "1.2.0",
          "model_name": "LayoutModel",
          "state": {
            "_model_module": "@jupyter-widgets/base",
            "_model_module_version": "1.2.0",
            "_model_name": "LayoutModel",
            "_view_count": null,
            "_view_module": "@jupyter-widgets/base",
            "_view_module_version": "1.2.0",
            "_view_name": "LayoutView",
            "align_content": null,
            "align_items": null,
            "align_self": null,
            "border": null,
            "bottom": null,
            "display": null,
            "flex": null,
            "flex_flow": null,
            "grid_area": null,
            "grid_auto_columns": null,
            "grid_auto_flow": null,
            "grid_auto_rows": null,
            "grid_column": null,
            "grid_gap": null,
            "grid_row": null,
            "grid_template_areas": null,
            "grid_template_columns": null,
            "grid_template_rows": null,
            "height": null,
            "justify_content": null,
            "justify_items": null,
            "left": null,
            "margin": null,
            "max_height": null,
            "max_width": null,
            "min_height": null,
            "min_width": null,
            "object_fit": null,
            "object_position": null,
            "order": null,
            "overflow": null,
            "overflow_x": null,
            "overflow_y": null,
            "padding": null,
            "right": null,
            "top": null,
            "visibility": null,
            "width": null
          }
        },
        "c9cdafa4a077492397468dc96b21a9b6": {
          "model_module": "@jupyter-widgets/controls",
          "model_module_version": "1.5.0",
          "model_name": "HTMLModel",
          "state": {
            "_dom_classes": [],
            "_model_module": "@jupyter-widgets/controls",
            "_model_module_version": "1.5.0",
            "_model_name": "HTMLModel",
            "_view_count": null,
            "_view_module": "@jupyter-widgets/controls",
            "_view_module_version": "1.5.0",
            "_view_name": "HTMLView",
            "description": "",
            "description_tooltip": null,
            "layout": "IPY_MODEL_e98ce492db624ce3a8a4d98858a8cac5",
            "placeholder": "​",
            "style": "IPY_MODEL_b2ae7682953c4909906a8bd212027f7d",
            "value": " 100/100 [9:01:40&lt;00:00, 415.84s/it]"
          }
        },
        "e98ce492db624ce3a8a4d98858a8cac5": {
          "model_module": "@jupyter-widgets/base",
          "model_module_version": "1.2.0",
          "model_name": "LayoutModel",
          "state": {
            "_model_module": "@jupyter-widgets/base",
            "_model_module_version": "1.2.0",
            "_model_name": "LayoutModel",
            "_view_count": null,
            "_view_module": "@jupyter-widgets/base",
            "_view_module_version": "1.2.0",
            "_view_name": "LayoutView",
            "align_content": null,
            "align_items": null,
            "align_self": null,
            "border": null,
            "bottom": null,
            "display": null,
            "flex": null,
            "flex_flow": null,
            "grid_area": null,
            "grid_auto_columns": null,
            "grid_auto_flow": null,
            "grid_auto_rows": null,
            "grid_column": null,
            "grid_gap": null,
            "grid_row": null,
            "grid_template_areas": null,
            "grid_template_columns": null,
            "grid_template_rows": null,
            "height": null,
            "justify_content": null,
            "justify_items": null,
            "left": null,
            "margin": null,
            "max_height": null,
            "max_width": null,
            "min_height": null,
            "min_width": null,
            "object_fit": null,
            "object_position": null,
            "order": null,
            "overflow": null,
            "overflow_x": null,
            "overflow_y": null,
            "padding": null,
            "right": null,
            "top": null,
            "visibility": null,
            "width": null
          }
        },
        "e9f82cdc7fbc4eb9a3e205fceb855e6f": {
          "model_module": "@jupyter-widgets/base",
          "model_module_version": "1.2.0",
          "model_name": "LayoutModel",
          "state": {
            "_model_module": "@jupyter-widgets/base",
            "_model_module_version": "1.2.0",
            "_model_name": "LayoutModel",
            "_view_count": null,
            "_view_module": "@jupyter-widgets/base",
            "_view_module_version": "1.2.0",
            "_view_name": "LayoutView",
            "align_content": null,
            "align_items": null,
            "align_self": null,
            "border": null,
            "bottom": null,
            "display": null,
            "flex": null,
            "flex_flow": null,
            "grid_area": null,
            "grid_auto_columns": null,
            "grid_auto_flow": null,
            "grid_auto_rows": null,
            "grid_column": null,
            "grid_gap": null,
            "grid_row": null,
            "grid_template_areas": null,
            "grid_template_columns": null,
            "grid_template_rows": null,
            "height": null,
            "justify_content": null,
            "justify_items": null,
            "left": null,
            "margin": null,
            "max_height": null,
            "max_width": null,
            "min_height": null,
            "min_width": null,
            "object_fit": null,
            "object_position": null,
            "order": null,
            "overflow": null,
            "overflow_x": null,
            "overflow_y": null,
            "padding": null,
            "right": null,
            "top": null,
            "visibility": null,
            "width": null
          }
        }
      }
    }
  },
  "nbformat": 4,
  "nbformat_minor": 0
}