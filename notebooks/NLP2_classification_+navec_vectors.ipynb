{
  "cells": [
    {
      "cell_type": "markdown",
      "metadata": {
        "id": "Bz_C_zm2sdE0"
      },
      "source": [
        "# Загрузка библиотек"
      ]
    },
    {
      "cell_type": "code",
      "execution_count": null,
      "metadata": {
        "id": "6Jw7pD-noDpq"
      },
      "outputs": [],
      "source": [
        "!pip install optuna -q\n",
        "!pip install catboost -q\n",
        "!pip install natasha -q"
      ]
    },
    {
      "cell_type": "code",
      "execution_count": null,
      "metadata": {
        "colab": {
          "base_uri": "https://localhost:8080/"
        },
        "id": "aEAQCKcILUJi",
        "outputId": "d845b8d2-2bc5-4921-95f3-d904782b9f18"
      },
      "outputs": [
        {
          "output_type": "stream",
          "name": "stderr",
          "text": [
            "[nltk_data] Downloading package stopwords to /root/nltk_data...\n",
            "[nltk_data]   Package stopwords is already up-to-date!\n"
          ]
        }
      ],
      "source": [
        "import pandas as pd\n",
        "import numpy as np\n",
        "\n",
        "from sklearn.model_selection import KFold, StratifiedKFold\n",
        "from sklearn.model_selection import train_test_split\n",
        "from sklearn.preprocessing import OneHotEncoder, MinMaxScaler, StandardScaler, LabelEncoder\n",
        "from sklearn.model_selection import GridSearchCV, RandomizedSearchCV\n",
        "from catboost import CatBoostClassifier, CatBoostRegressor, Pool\n",
        "import lightgbm as lgb\n",
        "from lightgbm import LGBMRegressor, early_stopping, Dataset, LGBMClassifier\n",
        "import xgboost as xgb\n",
        "from xgboost import XGBClassifier\n",
        "from mlxtend.feature_selection import ColumnSelector\n",
        "\n",
        "from sklearn.metrics import accuracy_score\n",
        "from sklearn.metrics import balanced_accuracy_score\n",
        "\n",
        "import optuna\n",
        "from optuna.integration import CatBoostPruningCallback\n",
        "\n",
        "import seaborn as sns\n",
        "import datetime\n",
        "from wordcloud import WordCloud, STOPWORDS\n",
        "\n",
        "import pickle\n",
        "\n",
        "import nltk\n",
        "from nltk.corpus import stopwords\n",
        "nltk.download(\"stopwords\")\n",
        "\n",
        "sns.set(style=\"darkgrid\")\n",
        "%matplotlib inline\n",
        "\n",
        "import warnings\n",
        "warnings.simplefilter('ignore')\n",
        "\n",
        "from collections import defaultdict\n",
        "from sklearn.feature_extraction.text import TfidfVectorizer\n",
        "from sklearn.linear_model import LogisticRegression\n",
        "from sklearn.pipeline import Pipeline\n",
        "from sklearn.metrics import classification_report\n",
        "from sklearn.naive_bayes import MultinomialNB\n",
        "from sklearn.svm import SVC\n",
        "\n",
        "import gensim.downloader\n",
        "from gensim.models import Word2Vec, KeyedVectors\n",
        "from gensim.models.fasttext import FastText\n",
        "from natasha import Doc, Segmenter, MorphVocab, NewsEmbedding, NewsMorphTagger"
      ]
    },
    {
      "cell_type": "markdown",
      "metadata": {
        "id": "F8mSAvwVw4HI"
      },
      "source": [
        "фонтанка, лента, риа, дзен?"
      ]
    },
    {
      "cell_type": "markdown",
      "metadata": {
        "id": "CuIfM_dix0ZM"
      },
      "source": [
        "# Фиксируем значения"
      ]
    },
    {
      "cell_type": "code",
      "execution_count": null,
      "metadata": {
        "id": "oNRCZM68xztd"
      },
      "outputs": [],
      "source": [
        "RND_STATE = 7575\n",
        "N_EST = 1000\n",
        "sampler = optuna.samplers.TPESampler(seed=RND_STATE)"
      ]
    },
    {
      "cell_type": "markdown",
      "metadata": {
        "id": "Nur52VsuXALf"
      },
      "source": [
        "# Загрузка данных"
      ]
    },
    {
      "cell_type": "code",
      "execution_count": null,
      "metadata": {
        "colab": {
          "base_uri": "https://localhost:8080/"
        },
        "id": "glyHtS7Axdae",
        "outputId": "351425d4-372b-4053-b734-4f7acabd0bcd"
      },
      "outputs": [
        {
          "output_type": "stream",
          "name": "stdout",
          "text": [
            "Drive already mounted at /content/drive; to attempt to forcibly remount, call drive.mount(\"/content/drive\", force_remount=True).\n"
          ]
        }
      ],
      "source": [
        "from google.colab import drive\n",
        "drive.mount('/content/drive')"
      ]
    },
    {
      "cell_type": "markdown",
      "metadata": {
        "id": "Cx8Rp9usTKfW"
      },
      "source": [
        "Вероятно большая часть данных получена с сайта Лента.ру. Также видимо есть фонтанка. И возможно риа?"
      ]
    },
    {
      "cell_type": "code",
      "execution_count": null,
      "metadata": {
        "id": "uXwPGGqH0yOP"
      },
      "outputs": [],
      "source": [
        "# общий датасет собирался из трёх. Можно запустить эту часть кода и уже работать с разделом modeling\n",
        "# либо собрать датасет заново (разделы ниже)\n",
        "# тогда потребуется работать с новым собранным датасетом и изменить путь path_train\n",
        "\n",
        "class Paths:\n",
        "    path_train = '/content/drive/MyDrive/competitions/NLP2.0/data/parsing_data/df_5_fontanka_lenta.csv'\n",
        "    path_test = '/content/drive/MyDrive/competitions/NLP2.0/data/test_news.csv'\n",
        "    path_sub = '/content/drive/MyDrive/competitions/NLP2.0/data/base_submission_news.csv'\n",
        "    # path_trainw2v = '/content/drive/MyDrive/competitions/NLP2.0/tmp_data/train_prep_2.csv'\n",
        "    path_prep_test = '/content/drive/MyDrive/competitions/NLP2.0/data/prep_data/test_prep.csv'\n",
        "    path_prep_train_no_ria = '/content/drive/MyDrive/competitions/NLP2.0/data/prep_data/trainw2v.csv'\n",
        "\n",
        "paths = Paths()"
      ]
    },
    {
      "cell_type": "code",
      "execution_count": null,
      "metadata": {
        "id": "U-wrKeMiWwrI"
      },
      "outputs": [],
      "source": [
        "pd.set_option('max_colwidth', 120)\n",
        "pd.set_option('display.width', 500)"
      ]
    },
    {
      "cell_type": "code",
      "execution_count": null,
      "metadata": {
        "id": "0EKaCb36Vuqv"
      },
      "outputs": [],
      "source": [
        "df_test = pd.read_csv(paths.path_test)"
      ]
    },
    {
      "cell_type": "code",
      "execution_count": null,
      "metadata": {
        "colab": {
          "base_uri": "https://localhost:8080/",
          "height": 122
        },
        "id": "1jXPZQCBV-02",
        "outputId": "e65a49c5-4dce-4165-db50-7d1a46e60c13"
      },
      "outputs": [
        {
          "data": {
            "application/vnd.google.colaboratory.intrinsic+json": {
              "type": "string"
            },
            "text/plain": [
              "'Тренер баскетбольной команды средней школы в американском штате Нью-Джерси подвергся жестокому избиению со стороны своих подопечных. Видео опубликовано на TMZ Sports. Инцидент произошел 4 февраля. Полиция отреагировала на сообщение о том, что у дверей средней школы избивают одного из ее работников. На видео четверо молодых людей бьют мужчину руками и ногами. Как утверждает полиция, нападавшие — игроки школьной баскетбольной команды. Жертвой стал их тренер. Полиция Нью-Джерси не стала разглашать имена подозреваемых. Мэр города Ньюарк пообещал, что ученики школы понесут наказание.'"
            ]
          },
          "execution_count": 39,
          "metadata": {},
          "output_type": "execute_result"
        }
      ],
      "source": [
        "df_test.iloc[23103].content"
      ]
    },
    {
      "cell_type": "markdown",
      "metadata": {
        "id": "TrANXjqRrf_R"
      },
      "source": [
        "## Fontanka"
      ]
    },
    {
      "cell_type": "code",
      "execution_count": null,
      "metadata": {
        "id": "Gy7JFpiIM5Vi"
      },
      "outputs": [],
      "source": [
        "# df_fontanka = pd.DataFrame()\n",
        "\n",
        "# for i in range(1, 13):\n",
        "#     df_ = pd.read_csv(f'https://raw.githubusercontent.com/nedokormysh/DP_NLP_bootcamp/parsing/data/fontanka_full_{i}.csv')\n",
        "#     df_fontanka = pd.concat([df_fontanka, df_])"
      ]
    },
    {
      "cell_type": "code",
      "execution_count": null,
      "metadata": {
        "colab": {
          "base_uri": "https://localhost:8080/"
        },
        "id": "y4WUNG2zteWI",
        "outputId": "29d6019c-5b61-4e90-e2b3-c796eeff0bd2"
      },
      "outputs": [
        {
          "data": {
            "text/plain": [
              "(26515, 6)"
            ]
          },
          "execution_count": 20,
          "metadata": {},
          "output_type": "execute_result"
        }
      ],
      "source": [
        "# # Удаляем дубли\n",
        "# df_fontanka.drop_duplicates(inplace=True)\n",
        "# # Удаляем пропуски\n",
        "# df_fontanka.dropna(inplace=True)\n",
        "# # Переводим тэги к нижнему регистру\n",
        "# df_fontanka['topic']= df_fontanka['topic'].apply(lambda x: x.lower())\n",
        "\n",
        "# df_fontanka.shape"
      ]
    },
    {
      "cell_type": "code",
      "execution_count": null,
      "metadata": {
        "id": "7057d89O54S_"
      },
      "outputs": [],
      "source": [
        "# df_fontanka.topic.unique()"
      ]
    },
    {
      "cell_type": "markdown",
      "metadata": {
        "id": "4F6NcxN6X1UQ"
      },
      "source": [
        "Изначальный анализ данных проводился на здесь https://github.com/nedokormysh/DP_NLP_bootcamp/tree/parsing"
      ]
    },
    {
      "cell_type": "code",
      "execution_count": null,
      "metadata": {
        "id": "mohykblfrUmB"
      },
      "outputs": [],
      "source": [
        "# # di = {'Общество/Россия' : '0',\n",
        "# #       'Экономика' : '1',\n",
        "# #       'Силовые структуры' : '2',\n",
        "# #       'Бывший СССР' : '3',\n",
        "# #       'Спорт' : '4',\n",
        "# #       'Забота о себе' : '5',\n",
        "# #       'Строительство' : '6',\n",
        "# #       'Туризм/Путешествия' : '7',\n",
        "# #       'Наука и техника' : '8',\n",
        "# #       }"
      ]
    },
    {
      "cell_type": "code",
      "execution_count": null,
      "metadata": {
        "id": "abW7Gc4cr_Bw"
      },
      "outputs": [],
      "source": [
        "# df_fontanka = df_fontanka[df_fontanka['topic'].isin(['общество',\n",
        "#                                                     #  'город',\n",
        "#                                                     #  'власть',\n",
        "#                                                     #  'политика',\n",
        "#                                                      'финансы',\n",
        "#                                                     #  'новости компаний',\n",
        "#                                                      'спорт',\n",
        "#                                                      'строительство',\n",
        "#                                                      'недвижимость',\n",
        "#                                                      'туризм',\n",
        "#                                                      'технологии',\n",
        "#                                                     #  'образ жизни'\n",
        "#                                                      ])]"
      ]
    },
    {
      "cell_type": "code",
      "execution_count": null,
      "metadata": {
        "id": "FPejeFy64b1H"
      },
      "outputs": [],
      "source": [
        "# di_fontanka = {'общество' : 0,\n",
        "#                'финансы' : 1,\n",
        "#                'спорт' : 4,\n",
        "#                'строительство' : 6,\n",
        "#                'недвижимость': 6,\n",
        "#                'туризм' : 7,\n",
        "#                'технологии' : 8}"
      ]
    },
    {
      "cell_type": "code",
      "execution_count": null,
      "metadata": {
        "id": "ibW7kh3n46bv"
      },
      "outputs": [],
      "source": [
        "# # Размер каждой категории\n",
        "# df_fontanka.topic.value_counts()"
      ]
    },
    {
      "cell_type": "code",
      "execution_count": null,
      "metadata": {
        "colab": {
          "base_uri": "https://localhost:8080/"
        },
        "id": "kCZFDBUV39aS",
        "outputId": "e7378d80-9e9c-4512-9022-f28edacfb0f5"
      },
      "outputs": [
        {
          "data": {
            "text/plain": [
              "0    7341\n",
              "4     980\n",
              "6     979\n",
              "1     418\n",
              "8     241\n",
              "7     128\n",
              "Name: topic, dtype: int64"
            ]
          },
          "execution_count": 23,
          "metadata": {},
          "output_type": "execute_result"
        }
      ],
      "source": [
        "# # закодируем темы числовым кодом\n",
        "# df_fontanka['topic'] = pd.Series(df_fontanka.topic.map(di_fontanka))\n",
        "# df_fontanka.topic.value_counts()"
      ]
    },
    {
      "cell_type": "code",
      "execution_count": null,
      "metadata": {
        "id": "wxPVjJrfuDy6"
      },
      "outputs": [],
      "source": [
        "# drop_lst_f = [\"url\", \"datetime\", \"views\", 'title']\n",
        "\n",
        "# df_fontanka.drop(drop_lst_f, axis=1, inplace=True)"
      ]
    },
    {
      "cell_type": "code",
      "execution_count": null,
      "metadata": {
        "id": "vf5Edddkt5_x"
      },
      "outputs": [],
      "source": [
        "# df_fontanka.head()"
      ]
    },
    {
      "cell_type": "markdown",
      "metadata": {
        "id": "pWjC4mg6rk93"
      },
      "source": [
        "## RIA"
      ]
    },
    {
      "cell_type": "code",
      "execution_count": null,
      "metadata": {
        "id": "cURhuq9oeClG"
      },
      "outputs": [],
      "source": [
        "# df_ria = pd.read_csv('/content/drive/MyDrive/competitions/NLP2.0/tmp_data/df_ria.csv')\n",
        "# df_ria_2 = pd.read_csv('/content/drive/MyDrive/competitions/NLP2.0/tmp_data/df_ria_2.csv')\n",
        "# df_ria2 = pd.read_csv('/content/drive/MyDrive/competitions/NLP2.0/tmp_data/df_ria2.csv')\n",
        "# df_ria_0 = pd.read_csv('/content/drive/MyDrive/competitions/NLP2.0/tmp_data/df_ria_0.csv')"
      ]
    },
    {
      "cell_type": "code",
      "execution_count": null,
      "metadata": {
        "id": "Ba9HkP-2bXUh"
      },
      "outputs": [],
      "source": [
        "# df_ria = pd.concat([df_ria, df_ria_2, df_ria2, df_ria_0])"
      ]
    },
    {
      "cell_type": "code",
      "execution_count": null,
      "metadata": {
        "id": "l1GpSrdrbgeg"
      },
      "outputs": [],
      "source": [
        "# df_ria.shape"
      ]
    },
    {
      "cell_type": "code",
      "execution_count": null,
      "metadata": {
        "id": "bSky1-fqbnuM"
      },
      "outputs": [],
      "source": [
        "# df_ria.drop_duplicates(inplace=True)"
      ]
    },
    {
      "cell_type": "code",
      "execution_count": null,
      "metadata": {
        "id": "iw9H4hMTcC9w"
      },
      "outputs": [],
      "source": [
        "# df_ria.head(2)"
      ]
    },
    {
      "cell_type": "code",
      "execution_count": null,
      "metadata": {
        "id": "1UE1ST87ciKw"
      },
      "outputs": [],
      "source": [
        "# drop_lst = [\"id\", \"url\", \"title\", \"subtitle\", \"datetime\"]\n",
        "\n",
        "# df_ria.drop(drop_lst, axis=1, inplace=True)"
      ]
    },
    {
      "cell_type": "code",
      "execution_count": null,
      "metadata": {
        "id": "h9miykLxc178"
      },
      "outputs": [],
      "source": [
        "# df_ria.head()"
      ]
    },
    {
      "cell_type": "code",
      "execution_count": null,
      "metadata": {
        "id": "PbcAhcsUvvjB"
      },
      "outputs": [],
      "source": [
        "# di_ria = {'society': 0,\n",
        "#           'economy': 1,\n",
        "#           'science': 8}"
      ]
    },
    {
      "cell_type": "code",
      "execution_count": null,
      "metadata": {
        "id": "x1l1clUMrVzO"
      },
      "outputs": [],
      "source": [
        "# df_ria['topic'] = pd.Series(df_ria.topic.map(di_ria))"
      ]
    },
    {
      "cell_type": "markdown",
      "metadata": {
        "id": "eu7e9IHXGwRP"
      },
      "source": [
        "## Lenta"
      ]
    },
    {
      "cell_type": "markdown",
      "metadata": {
        "id": "9Jr6PEH1ZAFE"
      },
      "source": [
        "https://github.com/nedokormysh/Stepik_Ai_edu_nlp2.0/blob/week_5_scraping_parsing/parsing_news_from_lenta_ru_.ipynb"
      ]
    },
    {
      "cell_type": "code",
      "execution_count": null,
      "metadata": {
        "colab": {
          "base_uri": "https://localhost:8080/",
          "height": 1000
        },
        "id": "hIRRhlWgHM1_",
        "outputId": "bed73c2d-e9f1-4df5-d231-e33698a9867d"
      },
      "outputs": [
        {
          "data": {
            "text/html": [
              "\n",
              "  <div id=\"df-848a10dd-3927-4161-8ff7-a31eb2dd37ba\" class=\"colab-df-container\">\n",
              "    <div>\n",
              "<style scoped>\n",
              "    .dataframe tbody tr th:only-of-type {\n",
              "        vertical-align: middle;\n",
              "    }\n",
              "\n",
              "    .dataframe tbody tr th {\n",
              "        vertical-align: top;\n",
              "    }\n",
              "\n",
              "    .dataframe thead th {\n",
              "        text-align: right;\n",
              "    }\n",
              "</style>\n",
              "<table border=\"1\" class=\"dataframe\">\n",
              "  <thead>\n",
              "    <tr style=\"text-align: right;\">\n",
              "      <th></th>\n",
              "      <th>Unnamed: 0</th>\n",
              "      <th>docid</th>\n",
              "      <th>url</th>\n",
              "      <th>title</th>\n",
              "      <th>modified</th>\n",
              "      <th>lastmodtime</th>\n",
              "      <th>type</th>\n",
              "      <th>domain</th>\n",
              "      <th>status</th>\n",
              "      <th>part</th>\n",
              "      <th>bloc</th>\n",
              "      <th>tags</th>\n",
              "      <th>image_url</th>\n",
              "      <th>pubdate</th>\n",
              "      <th>text</th>\n",
              "      <th>rightcol</th>\n",
              "      <th>snippet</th>\n",
              "    </tr>\n",
              "  </thead>\n",
              "  <tbody>\n",
              "    <tr>\n",
              "      <th>0</th>\n",
              "      <td>0</td>\n",
              "      <td>869501</td>\n",
              "      <td>https://lenta.ru/news/2019/01/01/knife/</td>\n",
              "      <td>Трех британцев порезали ножом на вокзале</td>\n",
              "      <td>1546301460</td>\n",
              "      <td>1546301555</td>\n",
              "      <td>1</td>\n",
              "      <td>1</td>\n",
              "      <td>0</td>\n",
              "      <td>0</td>\n",
              "      <td>2</td>\n",
              "      <td>[4]</td>\n",
              "      <td>https://icdn.lenta.ru/images/2019/01/01/02/20190101023935929/detail_173b9ff3938022fd4cb4edd05805847f.jpg</td>\n",
              "      <td>1546301460</td>\n",
              "      <td>Фото: @dobsonMEN Вооруженный ножом мужчина ранил трех человек на железнодорожной и трамвайной станции Виктория в Ман...</td>\n",
              "      <td>Преступника оперативно задержали</td>\n",
              "      <td>Фото: @dobsonMEN Вооруженный ножом ... Виктория в Манчестере, Великобритания. Об этом сообщает BBC News со ссылкой н...</td>\n",
              "    </tr>\n",
              "    <tr>\n",
              "      <th>1</th>\n",
              "      <td>1</td>\n",
              "      <td>869502</td>\n",
              "      <td>https://lenta.ru/news/2019/01/01/pentagon/</td>\n",
              "      <td>Пресс-секретарь Пентагона заставляла подчиненных покупать колготки и попалась</td>\n",
              "      <td>1546303800</td>\n",
              "      <td>1546353512</td>\n",
              "      <td>1</td>\n",
              "      <td>1</td>\n",
              "      <td>0</td>\n",
              "      <td>0</td>\n",
              "      <td>2</td>\n",
              "      <td>[1]</td>\n",
              "      <td>https://icdn.lenta.ru/images/2019/01/01/03/20190101032720409/detail_1f1e58974c4899b26623039eb7ffb617.jpg</td>\n",
              "      <td>1546303800</td>\n",
              "      <td>Фото: Alex Brandon / AP Пресс-секретарь Пентагона Дана Уайт ушла в отставку из-за скандала с некорректным обращением...</td>\n",
              "      <td>Она увольняла сотрудников, которые жаловались на ее поведение</td>\n",
              "      <td>Фото: Alex Brandon / AP Пресс-секретарь ... некорректным обращением с подчиненными. Прощальное письмо сотрудникам ве...</td>\n",
              "    </tr>\n",
              "    <tr>\n",
              "      <th>2</th>\n",
              "      <td>2</td>\n",
              "      <td>869503</td>\n",
              "      <td>https://lenta.ru/news/2019/01/01/xvii_century/</td>\n",
              "      <td>Киевских политиков обвинили в попытке вернуть страну в XVII век</td>\n",
              "      <td>1546307160</td>\n",
              "      <td>1546320399</td>\n",
              "      <td>1</td>\n",
              "      <td>1</td>\n",
              "      <td>0</td>\n",
              "      <td>0</td>\n",
              "      <td>3</td>\n",
              "      <td>[55]</td>\n",
              "      <td>https://icdn.lenta.ru/images/2019/01/01/03/20190101035912755/detail_38881e2c1b6e15020025f30fa21e1a5a.jpg</td>\n",
              "      <td>1546307160</td>\n",
              "      <td>Фото: Евгений Котенко / РИА Новости Бывший президент Украины Виктор Ющенко назвал обещания киевских политиков снизит...</td>\n",
              "      <td>Ющенко сравнил публичные обещания политиков с унижением</td>\n",
              "      <td>Фото: Евгений Котенко / РИА Новости ... газ попыткой вернуть страну в XVII век. Об этом бывший президент страны Викт...</td>\n",
              "    </tr>\n",
              "    <tr>\n",
              "      <th>3</th>\n",
              "      <td>3</td>\n",
              "      <td>869504</td>\n",
              "      <td>https://lenta.ru/news/2019/01/01/ne_vredno/</td>\n",
              "      <td>РПЦ заступилась за «Иронию судьбы»</td>\n",
              "      <td>1546308404</td>\n",
              "      <td>1546308404</td>\n",
              "      <td>1</td>\n",
              "      <td>1</td>\n",
              "      <td>0</td>\n",
              "      <td>0</td>\n",
              "      <td>1</td>\n",
              "      <td>[2]</td>\n",
              "      <td>https://icdn.lenta.ru/images/2019/01/01/04/20190101045055141/detail_95e38179f32c5261cade1807849ca135.jpg</td>\n",
              "      <td>1546308404</td>\n",
              "      <td>Кадр: фильм «Ирония судьбы, или С лёгким паром!» Глава синодального отдела по взаимоотношениям церкви с обществом и ...</td>\n",
              "      <td>Представитель церкви назвал фильм доброй новогодней сказкой</td>\n",
              "      <td>Кадр: фильм «Ирония судьбы, или С лёгким ... противоречащим христианским ценностям. Об этом он написал в Telegram-ка...</td>\n",
              "    </tr>\n",
              "    <tr>\n",
              "      <th>4</th>\n",
              "      <td>4</td>\n",
              "      <td>869505</td>\n",
              "      <td>https://lenta.ru/news/2019/01/01/lukashenko/</td>\n",
              "      <td>Лукашенко обошел стороной интеграцию с Россией в новогоднем обращении</td>\n",
              "      <td>1546310668</td>\n",
              "      <td>1546310668</td>\n",
              "      <td>1</td>\n",
              "      <td>1</td>\n",
              "      <td>0</td>\n",
              "      <td>0</td>\n",
              "      <td>3</td>\n",
              "      <td>[54]</td>\n",
              "      <td>https://icdn.lenta.ru/images/2019/01/01/05/20190101052532644/detail_688e441ceb28eeaee76620324d80b616.jpg</td>\n",
              "      <td>1546310668</td>\n",
              "      <td>Фото: скриншот / CTVBY Президент Белоруссии Александр Лукашенко во время новогоднего обращения призвал граждан стран...</td>\n",
              "      <td>Он призвал укреплять государственность и независимость</td>\n",
              "      <td>Фото: скриншот / CTVBY Президент ... более тесной интеграции с Россией. Речь белорусского лидера опубликована на его...</td>\n",
              "    </tr>\n",
              "  </tbody>\n",
              "</table>\n",
              "</div>\n",
              "    <div class=\"colab-df-buttons\">\n",
              "\n",
              "  <div class=\"colab-df-container\">\n",
              "    <button class=\"colab-df-convert\" onclick=\"convertToInteractive('df-848a10dd-3927-4161-8ff7-a31eb2dd37ba')\"\n",
              "            title=\"Convert this dataframe to an interactive table.\"\n",
              "            style=\"display:none;\">\n",
              "\n",
              "  <svg xmlns=\"http://www.w3.org/2000/svg\" height=\"24px\" viewBox=\"0 -960 960 960\">\n",
              "    <path d=\"M120-120v-720h720v720H120Zm60-500h600v-160H180v160Zm220 220h160v-160H400v160Zm0 220h160v-160H400v160ZM180-400h160v-160H180v160Zm440 0h160v-160H620v160ZM180-180h160v-160H180v160Zm440 0h160v-160H620v160Z\"/>\n",
              "  </svg>\n",
              "    </button>\n",
              "\n",
              "  <style>\n",
              "    .colab-df-container {\n",
              "      display:flex;\n",
              "      gap: 12px;\n",
              "    }\n",
              "\n",
              "    .colab-df-convert {\n",
              "      background-color: #E8F0FE;\n",
              "      border: none;\n",
              "      border-radius: 50%;\n",
              "      cursor: pointer;\n",
              "      display: none;\n",
              "      fill: #1967D2;\n",
              "      height: 32px;\n",
              "      padding: 0 0 0 0;\n",
              "      width: 32px;\n",
              "    }\n",
              "\n",
              "    .colab-df-convert:hover {\n",
              "      background-color: #E2EBFA;\n",
              "      box-shadow: 0px 1px 2px rgba(60, 64, 67, 0.3), 0px 1px 3px 1px rgba(60, 64, 67, 0.15);\n",
              "      fill: #174EA6;\n",
              "    }\n",
              "\n",
              "    .colab-df-buttons div {\n",
              "      margin-bottom: 4px;\n",
              "    }\n",
              "\n",
              "    [theme=dark] .colab-df-convert {\n",
              "      background-color: #3B4455;\n",
              "      fill: #D2E3FC;\n",
              "    }\n",
              "\n",
              "    [theme=dark] .colab-df-convert:hover {\n",
              "      background-color: #434B5C;\n",
              "      box-shadow: 0px 1px 3px 1px rgba(0, 0, 0, 0.15);\n",
              "      filter: drop-shadow(0px 1px 2px rgba(0, 0, 0, 0.3));\n",
              "      fill: #FFFFFF;\n",
              "    }\n",
              "  </style>\n",
              "\n",
              "    <script>\n",
              "      const buttonEl =\n",
              "        document.querySelector('#df-848a10dd-3927-4161-8ff7-a31eb2dd37ba button.colab-df-convert');\n",
              "      buttonEl.style.display =\n",
              "        google.colab.kernel.accessAllowed ? 'block' : 'none';\n",
              "\n",
              "      async function convertToInteractive(key) {\n",
              "        const element = document.querySelector('#df-848a10dd-3927-4161-8ff7-a31eb2dd37ba');\n",
              "        const dataTable =\n",
              "          await google.colab.kernel.invokeFunction('convertToInteractive',\n",
              "                                                    [key], {});\n",
              "        if (!dataTable) return;\n",
              "\n",
              "        const docLinkHtml = 'Like what you see? Visit the ' +\n",
              "          '<a target=\"_blank\" href=https://colab.research.google.com/notebooks/data_table.ipynb>data table notebook</a>'\n",
              "          + ' to learn more about interactive tables.';\n",
              "        element.innerHTML = '';\n",
              "        dataTable['output_type'] = 'display_data';\n",
              "        await google.colab.output.renderOutput(dataTable, element);\n",
              "        const docLink = document.createElement('div');\n",
              "        docLink.innerHTML = docLinkHtml;\n",
              "        element.appendChild(docLink);\n",
              "      }\n",
              "    </script>\n",
              "  </div>\n",
              "\n",
              "\n",
              "<div id=\"df-6becfb5c-e02f-4ce1-aea6-ba1a1b2f8628\">\n",
              "  <button class=\"colab-df-quickchart\" onclick=\"quickchart('df-6becfb5c-e02f-4ce1-aea6-ba1a1b2f8628')\"\n",
              "            title=\"Suggest charts\"\n",
              "            style=\"display:none;\">\n",
              "\n",
              "<svg xmlns=\"http://www.w3.org/2000/svg\" height=\"24px\"viewBox=\"0 0 24 24\"\n",
              "     width=\"24px\">\n",
              "    <g>\n",
              "        <path d=\"M19 3H5c-1.1 0-2 .9-2 2v14c0 1.1.9 2 2 2h14c1.1 0 2-.9 2-2V5c0-1.1-.9-2-2-2zM9 17H7v-7h2v7zm4 0h-2V7h2v10zm4 0h-2v-4h2v4z\"/>\n",
              "    </g>\n",
              "</svg>\n",
              "  </button>\n",
              "\n",
              "<style>\n",
              "  .colab-df-quickchart {\n",
              "      --bg-color: #E8F0FE;\n",
              "      --fill-color: #1967D2;\n",
              "      --hover-bg-color: #E2EBFA;\n",
              "      --hover-fill-color: #174EA6;\n",
              "      --disabled-fill-color: #AAA;\n",
              "      --disabled-bg-color: #DDD;\n",
              "  }\n",
              "\n",
              "  [theme=dark] .colab-df-quickchart {\n",
              "      --bg-color: #3B4455;\n",
              "      --fill-color: #D2E3FC;\n",
              "      --hover-bg-color: #434B5C;\n",
              "      --hover-fill-color: #FFFFFF;\n",
              "      --disabled-bg-color: #3B4455;\n",
              "      --disabled-fill-color: #666;\n",
              "  }\n",
              "\n",
              "  .colab-df-quickchart {\n",
              "    background-color: var(--bg-color);\n",
              "    border: none;\n",
              "    border-radius: 50%;\n",
              "    cursor: pointer;\n",
              "    display: none;\n",
              "    fill: var(--fill-color);\n",
              "    height: 32px;\n",
              "    padding: 0;\n",
              "    width: 32px;\n",
              "  }\n",
              "\n",
              "  .colab-df-quickchart:hover {\n",
              "    background-color: var(--hover-bg-color);\n",
              "    box-shadow: 0 1px 2px rgba(60, 64, 67, 0.3), 0 1px 3px 1px rgba(60, 64, 67, 0.15);\n",
              "    fill: var(--button-hover-fill-color);\n",
              "  }\n",
              "\n",
              "  .colab-df-quickchart-complete:disabled,\n",
              "  .colab-df-quickchart-complete:disabled:hover {\n",
              "    background-color: var(--disabled-bg-color);\n",
              "    fill: var(--disabled-fill-color);\n",
              "    box-shadow: none;\n",
              "  }\n",
              "\n",
              "  .colab-df-spinner {\n",
              "    border: 2px solid var(--fill-color);\n",
              "    border-color: transparent;\n",
              "    border-bottom-color: var(--fill-color);\n",
              "    animation:\n",
              "      spin 1s steps(1) infinite;\n",
              "  }\n",
              "\n",
              "  @keyframes spin {\n",
              "    0% {\n",
              "      border-color: transparent;\n",
              "      border-bottom-color: var(--fill-color);\n",
              "      border-left-color: var(--fill-color);\n",
              "    }\n",
              "    20% {\n",
              "      border-color: transparent;\n",
              "      border-left-color: var(--fill-color);\n",
              "      border-top-color: var(--fill-color);\n",
              "    }\n",
              "    30% {\n",
              "      border-color: transparent;\n",
              "      border-left-color: var(--fill-color);\n",
              "      border-top-color: var(--fill-color);\n",
              "      border-right-color: var(--fill-color);\n",
              "    }\n",
              "    40% {\n",
              "      border-color: transparent;\n",
              "      border-right-color: var(--fill-color);\n",
              "      border-top-color: var(--fill-color);\n",
              "    }\n",
              "    60% {\n",
              "      border-color: transparent;\n",
              "      border-right-color: var(--fill-color);\n",
              "    }\n",
              "    80% {\n",
              "      border-color: transparent;\n",
              "      border-right-color: var(--fill-color);\n",
              "      border-bottom-color: var(--fill-color);\n",
              "    }\n",
              "    90% {\n",
              "      border-color: transparent;\n",
              "      border-bottom-color: var(--fill-color);\n",
              "    }\n",
              "  }\n",
              "</style>\n",
              "\n",
              "  <script>\n",
              "    async function quickchart(key) {\n",
              "      const quickchartButtonEl =\n",
              "        document.querySelector('#' + key + ' button');\n",
              "      quickchartButtonEl.disabled = true;  // To prevent multiple clicks.\n",
              "      quickchartButtonEl.classList.add('colab-df-spinner');\n",
              "      try {\n",
              "        const charts = await google.colab.kernel.invokeFunction(\n",
              "            'suggestCharts', [key], {});\n",
              "      } catch (error) {\n",
              "        console.error('Error during call to suggestCharts:', error);\n",
              "      }\n",
              "      quickchartButtonEl.classList.remove('colab-df-spinner');\n",
              "      quickchartButtonEl.classList.add('colab-df-quickchart-complete');\n",
              "    }\n",
              "    (() => {\n",
              "      let quickchartButtonEl =\n",
              "        document.querySelector('#df-6becfb5c-e02f-4ce1-aea6-ba1a1b2f8628 button');\n",
              "      quickchartButtonEl.style.display =\n",
              "        google.colab.kernel.accessAllowed ? 'block' : 'none';\n",
              "    })();\n",
              "  </script>\n",
              "</div>\n",
              "    </div>\n",
              "  </div>\n"
            ],
            "text/plain": [
              "   Unnamed: 0   docid                                             url                                                                          title    modified  lastmodtime  type  domain  status  part  bloc  tags                                                                                                 image_url     pubdate                                                                                                                     text  \\\n",
              "0           0  869501         https://lenta.ru/news/2019/01/01/knife/                                       Трех британцев порезали ножом на вокзале  1546301460   1546301555     1       1       0     0     2   [4]  https://icdn.lenta.ru/images/2019/01/01/02/20190101023935929/detail_173b9ff3938022fd4cb4edd05805847f.jpg  1546301460  Фото: @dobsonMEN Вооруженный ножом мужчина ранил трех человек на железнодорожной и трамвайной станции Виктория в Ман...   \n",
              "1           1  869502      https://lenta.ru/news/2019/01/01/pentagon/  Пресс-секретарь Пентагона заставляла подчиненных покупать колготки и попалась  1546303800   1546353512     1       1       0     0     2   [1]  https://icdn.lenta.ru/images/2019/01/01/03/20190101032720409/detail_1f1e58974c4899b26623039eb7ffb617.jpg  1546303800  Фото: Alex Brandon / AP Пресс-секретарь Пентагона Дана Уайт ушла в отставку из-за скандала с некорректным обращением...   \n",
              "2           2  869503  https://lenta.ru/news/2019/01/01/xvii_century/                Киевских политиков обвинили в попытке вернуть страну в XVII век  1546307160   1546320399     1       1       0     0     3  [55]  https://icdn.lenta.ru/images/2019/01/01/03/20190101035912755/detail_38881e2c1b6e15020025f30fa21e1a5a.jpg  1546307160  Фото: Евгений Котенко / РИА Новости Бывший президент Украины Виктор Ющенко назвал обещания киевских политиков снизит...   \n",
              "3           3  869504     https://lenta.ru/news/2019/01/01/ne_vredno/                                             РПЦ заступилась за «Иронию судьбы»  1546308404   1546308404     1       1       0     0     1   [2]  https://icdn.lenta.ru/images/2019/01/01/04/20190101045055141/detail_95e38179f32c5261cade1807849ca135.jpg  1546308404  Кадр: фильм «Ирония судьбы, или С лёгким паром!» Глава синодального отдела по взаимоотношениям церкви с обществом и ...   \n",
              "4           4  869505    https://lenta.ru/news/2019/01/01/lukashenko/          Лукашенко обошел стороной интеграцию с Россией в новогоднем обращении  1546310668   1546310668     1       1       0     0     3  [54]  https://icdn.lenta.ru/images/2019/01/01/05/20190101052532644/detail_688e441ceb28eeaee76620324d80b616.jpg  1546310668  Фото: скриншот / CTVBY Президент Белоруссии Александр Лукашенко во время новогоднего обращения призвал граждан стран...   \n",
              "\n",
              "                                                        rightcol                                                                                                                  snippet  \n",
              "0                               Преступника оперативно задержали  Фото: @dobsonMEN Вооруженный ножом ... Виктория в Манчестере, Великобритания. Об этом сообщает BBC News со ссылкой н...  \n",
              "1  Она увольняла сотрудников, которые жаловались на ее поведение  Фото: Alex Brandon / AP Пресс-секретарь ... некорректным обращением с подчиненными. Прощальное письмо сотрудникам ве...  \n",
              "2        Ющенко сравнил публичные обещания политиков с унижением  Фото: Евгений Котенко / РИА Новости ... газ попыткой вернуть страну в XVII век. Об этом бывший президент страны Викт...  \n",
              "3    Представитель церкви назвал фильм доброй новогодней сказкой  Кадр: фильм «Ирония судьбы, или С лёгким ... противоречащим христианским ценностям. Об этом он написал в Telegram-ка...  \n",
              "4         Он призвал укреплять государственность и независимость  Фото: скриншот / CTVBY Президент ... более тесной интеграции с Россией. Речь белорусского лидера опубликована на его...  "
            ]
          },
          "execution_count": 25,
          "metadata": {},
          "output_type": "execute_result"
        }
      ],
      "source": [
        "# df_tbl = pd.read_excel('/content/drive/MyDrive/competitions/NLP2.0/data/parsing_data/lenta2019-01-01_2023-12-21.xlsx')\n",
        "# df_tbl.head()"
      ]
    },
    {
      "cell_type": "code",
      "execution_count": null,
      "metadata": {
        "id": "L5fIkhvLIu4x"
      },
      "outputs": [],
      "source": [
        "# df_tbl.bloc.value_counts()"
      ]
    },
    {
      "cell_type": "code",
      "execution_count": null,
      "metadata": {
        "id": "xglSd3EiJkK7"
      },
      "outputs": [],
      "source": [
        "# # category = {1: \"общество\",\n",
        "#                  2: \"мир\",\n",
        "#                  3: \"former_ussr\",\n",
        "#                  4: \"economy\",\n",
        "#                  5: 'наука и техника',\n",
        "#                  6: 'культура',\n",
        "#                  7: 'интернет и сми',\n",
        "#                  8: 'спорт',\n",
        "#                  9: 'из жизни',\n",
        "#                  12: 'среда обитания',\n",
        "#                  37: 'силовые структуры',\n",
        "#                  40: 'бизнес',\n",
        "#                  47: 'ценности',\n",
        "#                  48: 'путешествия',\n",
        "#                  49:'69-парралелль',\n",
        "#                  53:'нацпроекты',\n",
        "#                  86:'моя страна',\n",
        "#                  49:'забота о себе'}"
      ]
    },
    {
      "cell_type": "code",
      "execution_count": null,
      "metadata": {
        "id": "yStdHx2ENQQM"
      },
      "outputs": [],
      "source": [
        "# di_lenta_tmp= {1: 'общество',\n",
        "#                3: 'бывший_СССР',\n",
        "#                4: 'экономика',\n",
        "#                5: 'технологии',\n",
        "#                8: 'спорт',\n",
        "#                37: 'силовые_структуры',\n",
        "#                48: 'путешествия',\n",
        "#                49: 'забота_о_себе'}"
      ]
    },
    {
      "cell_type": "code",
      "execution_count": null,
      "metadata": {
        "id": "sXtjTtAoSKCz"
      },
      "outputs": [],
      "source": [
        "# df_tbl['topic'] = pd.Series(df_tbl.bloc.map(di_lenta_tmp))"
      ]
    },
    {
      "cell_type": "code",
      "execution_count": null,
      "metadata": {
        "id": "4SUNCHmkJqEU"
      },
      "outputs": [],
      "source": [
        "# df_lenta = df_tbl[df_tbl['topic'].isin(['общество',\n",
        "#                                         'бывший_СССР',\n",
        "#                                         'экономика',\n",
        "#                                         'силовые_структуры',\n",
        "#                                         'технологии',\n",
        "#                                         'спорт',\n",
        "#                                         'путешествия',\n",
        "#                                         'забота_о_себе'])]"
      ]
    },
    {
      "cell_type": "code",
      "execution_count": null,
      "metadata": {
        "id": "c9f5qCXLSjOy"
      },
      "outputs": [],
      "source": [
        "# drop_lst = [\"docid\", \"modified\", \"lastmodtime\", \"type\", \"domain\", \"status\",\n",
        "#             \"part\", \"tags\", \"image_url\", \"rightcol\", \"bloc\", \"pubdate\", \"url\",\n",
        "#             \"Unnamed: 0\", \"snippet\",\n",
        "#             'title']\n",
        "\n",
        "# df_lenta.drop(drop_lst, axis=1, inplace=True)"
      ]
    },
    {
      "cell_type": "code",
      "execution_count": null,
      "metadata": {
        "id": "XYgOTXZyvfWh"
      },
      "outputs": [],
      "source": [
        "# di_lenta= {'общество': 0,\n",
        "#            'экономика': 1,\n",
        "#            'силовые_структуры': 2,\n",
        "#            'бывший_СССР': 3,\n",
        "#            'спорт': 4,\n",
        "#            'забота_о_себе': 5,\n",
        "#            'путешествия': 7,\n",
        "#            'технологии': 8}"
      ]
    },
    {
      "cell_type": "code",
      "execution_count": null,
      "metadata": {
        "id": "Rz89es5LIlwv"
      },
      "outputs": [],
      "source": [
        "# df_lenta.topic.value_counts()"
      ]
    },
    {
      "cell_type": "code",
      "execution_count": null,
      "metadata": {
        "id": "6bV6WqkAxwpG"
      },
      "outputs": [],
      "source": [
        "# df_lenta['topic'] = pd.Series(df_lenta.topic.map(di_lenta))"
      ]
    },
    {
      "cell_type": "code",
      "execution_count": null,
      "metadata": {
        "id": "Xve7o6p8yyw8"
      },
      "outputs": [],
      "source": [
        "# df_lenta.rename(columns={\"text\": \"content\"}, inplace=True)"
      ]
    },
    {
      "cell_type": "code",
      "execution_count": null,
      "metadata": {
        "colab": {
          "base_uri": "https://localhost:8080/",
          "height": 293
        },
        "id": "QWR-zsa8SwJz",
        "outputId": "d187a09e-c8fa-4f71-ea3a-59759e461335"
      },
      "outputs": [
        {
          "data": {
            "text/html": [
              "\n",
              "  <div id=\"df-142c2f6d-80a6-4686-a335-0dc4580bfe49\" class=\"colab-df-container\">\n",
              "    <div>\n",
              "<style scoped>\n",
              "    .dataframe tbody tr th:only-of-type {\n",
              "        vertical-align: middle;\n",
              "    }\n",
              "\n",
              "    .dataframe tbody tr th {\n",
              "        vertical-align: top;\n",
              "    }\n",
              "\n",
              "    .dataframe thead th {\n",
              "        text-align: right;\n",
              "    }\n",
              "</style>\n",
              "<table border=\"1\" class=\"dataframe\">\n",
              "  <thead>\n",
              "    <tr style=\"text-align: right;\">\n",
              "      <th></th>\n",
              "      <th>content</th>\n",
              "      <th>topic</th>\n",
              "    </tr>\n",
              "  </thead>\n",
              "  <tbody>\n",
              "    <tr>\n",
              "      <th>2</th>\n",
              "      <td>Фото: Евгений Котенко / РИА Новости Бывший президент Украины Виктор Ющенко назвал обещания киевских политиков снизит...</td>\n",
              "      <td>3</td>\n",
              "    </tr>\n",
              "    <tr>\n",
              "      <th>3</th>\n",
              "      <td>Кадр: фильм «Ирония судьбы, или С лёгким паром!» Глава синодального отдела по взаимоотношениям церкви с обществом и ...</td>\n",
              "      <td>0</td>\n",
              "    </tr>\n",
              "    <tr>\n",
              "      <th>4</th>\n",
              "      <td>Фото: скриншот / CTVBY Президент Белоруссии Александр Лукашенко во время новогоднего обращения призвал граждан стран...</td>\n",
              "      <td>3</td>\n",
              "    </tr>\n",
              "    <tr>\n",
              "      <th>5</th>\n",
              "      <td>Фото: Михаил Маркив / РИА Новости Министр иностранных дел Украины Павел Климкин расстроился из-за большого количеств...</td>\n",
              "      <td>3</td>\n",
              "    </tr>\n",
              "    <tr>\n",
              "      <th>7</th>\n",
              "      <td>Фото: МЧС РФ / РИА Новости Тела еще двух погибших извлечены из-под завалов после взрыва газа и последующего обрушени...</td>\n",
              "      <td>0</td>\n",
              "    </tr>\n",
              "  </tbody>\n",
              "</table>\n",
              "</div>\n",
              "    <div class=\"colab-df-buttons\">\n",
              "\n",
              "  <div class=\"colab-df-container\">\n",
              "    <button class=\"colab-df-convert\" onclick=\"convertToInteractive('df-142c2f6d-80a6-4686-a335-0dc4580bfe49')\"\n",
              "            title=\"Convert this dataframe to an interactive table.\"\n",
              "            style=\"display:none;\">\n",
              "\n",
              "  <svg xmlns=\"http://www.w3.org/2000/svg\" height=\"24px\" viewBox=\"0 -960 960 960\">\n",
              "    <path d=\"M120-120v-720h720v720H120Zm60-500h600v-160H180v160Zm220 220h160v-160H400v160Zm0 220h160v-160H400v160ZM180-400h160v-160H180v160Zm440 0h160v-160H620v160ZM180-180h160v-160H180v160Zm440 0h160v-160H620v160Z\"/>\n",
              "  </svg>\n",
              "    </button>\n",
              "\n",
              "  <style>\n",
              "    .colab-df-container {\n",
              "      display:flex;\n",
              "      gap: 12px;\n",
              "    }\n",
              "\n",
              "    .colab-df-convert {\n",
              "      background-color: #E8F0FE;\n",
              "      border: none;\n",
              "      border-radius: 50%;\n",
              "      cursor: pointer;\n",
              "      display: none;\n",
              "      fill: #1967D2;\n",
              "      height: 32px;\n",
              "      padding: 0 0 0 0;\n",
              "      width: 32px;\n",
              "    }\n",
              "\n",
              "    .colab-df-convert:hover {\n",
              "      background-color: #E2EBFA;\n",
              "      box-shadow: 0px 1px 2px rgba(60, 64, 67, 0.3), 0px 1px 3px 1px rgba(60, 64, 67, 0.15);\n",
              "      fill: #174EA6;\n",
              "    }\n",
              "\n",
              "    .colab-df-buttons div {\n",
              "      margin-bottom: 4px;\n",
              "    }\n",
              "\n",
              "    [theme=dark] .colab-df-convert {\n",
              "      background-color: #3B4455;\n",
              "      fill: #D2E3FC;\n",
              "    }\n",
              "\n",
              "    [theme=dark] .colab-df-convert:hover {\n",
              "      background-color: #434B5C;\n",
              "      box-shadow: 0px 1px 3px 1px rgba(0, 0, 0, 0.15);\n",
              "      filter: drop-shadow(0px 1px 2px rgba(0, 0, 0, 0.3));\n",
              "      fill: #FFFFFF;\n",
              "    }\n",
              "  </style>\n",
              "\n",
              "    <script>\n",
              "      const buttonEl =\n",
              "        document.querySelector('#df-142c2f6d-80a6-4686-a335-0dc4580bfe49 button.colab-df-convert');\n",
              "      buttonEl.style.display =\n",
              "        google.colab.kernel.accessAllowed ? 'block' : 'none';\n",
              "\n",
              "      async function convertToInteractive(key) {\n",
              "        const element = document.querySelector('#df-142c2f6d-80a6-4686-a335-0dc4580bfe49');\n",
              "        const dataTable =\n",
              "          await google.colab.kernel.invokeFunction('convertToInteractive',\n",
              "                                                    [key], {});\n",
              "        if (!dataTable) return;\n",
              "\n",
              "        const docLinkHtml = 'Like what you see? Visit the ' +\n",
              "          '<a target=\"_blank\" href=https://colab.research.google.com/notebooks/data_table.ipynb>data table notebook</a>'\n",
              "          + ' to learn more about interactive tables.';\n",
              "        element.innerHTML = '';\n",
              "        dataTable['output_type'] = 'display_data';\n",
              "        await google.colab.output.renderOutput(dataTable, element);\n",
              "        const docLink = document.createElement('div');\n",
              "        docLink.innerHTML = docLinkHtml;\n",
              "        element.appendChild(docLink);\n",
              "      }\n",
              "    </script>\n",
              "  </div>\n",
              "\n",
              "\n",
              "<div id=\"df-045aec30-415e-44cb-97fd-92da8f13ed3f\">\n",
              "  <button class=\"colab-df-quickchart\" onclick=\"quickchart('df-045aec30-415e-44cb-97fd-92da8f13ed3f')\"\n",
              "            title=\"Suggest charts\"\n",
              "            style=\"display:none;\">\n",
              "\n",
              "<svg xmlns=\"http://www.w3.org/2000/svg\" height=\"24px\"viewBox=\"0 0 24 24\"\n",
              "     width=\"24px\">\n",
              "    <g>\n",
              "        <path d=\"M19 3H5c-1.1 0-2 .9-2 2v14c0 1.1.9 2 2 2h14c1.1 0 2-.9 2-2V5c0-1.1-.9-2-2-2zM9 17H7v-7h2v7zm4 0h-2V7h2v10zm4 0h-2v-4h2v4z\"/>\n",
              "    </g>\n",
              "</svg>\n",
              "  </button>\n",
              "\n",
              "<style>\n",
              "  .colab-df-quickchart {\n",
              "      --bg-color: #E8F0FE;\n",
              "      --fill-color: #1967D2;\n",
              "      --hover-bg-color: #E2EBFA;\n",
              "      --hover-fill-color: #174EA6;\n",
              "      --disabled-fill-color: #AAA;\n",
              "      --disabled-bg-color: #DDD;\n",
              "  }\n",
              "\n",
              "  [theme=dark] .colab-df-quickchart {\n",
              "      --bg-color: #3B4455;\n",
              "      --fill-color: #D2E3FC;\n",
              "      --hover-bg-color: #434B5C;\n",
              "      --hover-fill-color: #FFFFFF;\n",
              "      --disabled-bg-color: #3B4455;\n",
              "      --disabled-fill-color: #666;\n",
              "  }\n",
              "\n",
              "  .colab-df-quickchart {\n",
              "    background-color: var(--bg-color);\n",
              "    border: none;\n",
              "    border-radius: 50%;\n",
              "    cursor: pointer;\n",
              "    display: none;\n",
              "    fill: var(--fill-color);\n",
              "    height: 32px;\n",
              "    padding: 0;\n",
              "    width: 32px;\n",
              "  }\n",
              "\n",
              "  .colab-df-quickchart:hover {\n",
              "    background-color: var(--hover-bg-color);\n",
              "    box-shadow: 0 1px 2px rgba(60, 64, 67, 0.3), 0 1px 3px 1px rgba(60, 64, 67, 0.15);\n",
              "    fill: var(--button-hover-fill-color);\n",
              "  }\n",
              "\n",
              "  .colab-df-quickchart-complete:disabled,\n",
              "  .colab-df-quickchart-complete:disabled:hover {\n",
              "    background-color: var(--disabled-bg-color);\n",
              "    fill: var(--disabled-fill-color);\n",
              "    box-shadow: none;\n",
              "  }\n",
              "\n",
              "  .colab-df-spinner {\n",
              "    border: 2px solid var(--fill-color);\n",
              "    border-color: transparent;\n",
              "    border-bottom-color: var(--fill-color);\n",
              "    animation:\n",
              "      spin 1s steps(1) infinite;\n",
              "  }\n",
              "\n",
              "  @keyframes spin {\n",
              "    0% {\n",
              "      border-color: transparent;\n",
              "      border-bottom-color: var(--fill-color);\n",
              "      border-left-color: var(--fill-color);\n",
              "    }\n",
              "    20% {\n",
              "      border-color: transparent;\n",
              "      border-left-color: var(--fill-color);\n",
              "      border-top-color: var(--fill-color);\n",
              "    }\n",
              "    30% {\n",
              "      border-color: transparent;\n",
              "      border-left-color: var(--fill-color);\n",
              "      border-top-color: var(--fill-color);\n",
              "      border-right-color: var(--fill-color);\n",
              "    }\n",
              "    40% {\n",
              "      border-color: transparent;\n",
              "      border-right-color: var(--fill-color);\n",
              "      border-top-color: var(--fill-color);\n",
              "    }\n",
              "    60% {\n",
              "      border-color: transparent;\n",
              "      border-right-color: var(--fill-color);\n",
              "    }\n",
              "    80% {\n",
              "      border-color: transparent;\n",
              "      border-right-color: var(--fill-color);\n",
              "      border-bottom-color: var(--fill-color);\n",
              "    }\n",
              "    90% {\n",
              "      border-color: transparent;\n",
              "      border-bottom-color: var(--fill-color);\n",
              "    }\n",
              "  }\n",
              "</style>\n",
              "\n",
              "  <script>\n",
              "    async function quickchart(key) {\n",
              "      const quickchartButtonEl =\n",
              "        document.querySelector('#' + key + ' button');\n",
              "      quickchartButtonEl.disabled = true;  // To prevent multiple clicks.\n",
              "      quickchartButtonEl.classList.add('colab-df-spinner');\n",
              "      try {\n",
              "        const charts = await google.colab.kernel.invokeFunction(\n",
              "            'suggestCharts', [key], {});\n",
              "      } catch (error) {\n",
              "        console.error('Error during call to suggestCharts:', error);\n",
              "      }\n",
              "      quickchartButtonEl.classList.remove('colab-df-spinner');\n",
              "      quickchartButtonEl.classList.add('colab-df-quickchart-complete');\n",
              "    }\n",
              "    (() => {\n",
              "      let quickchartButtonEl =\n",
              "        document.querySelector('#df-045aec30-415e-44cb-97fd-92da8f13ed3f button');\n",
              "      quickchartButtonEl.style.display =\n",
              "        google.colab.kernel.accessAllowed ? 'block' : 'none';\n",
              "    })();\n",
              "  </script>\n",
              "</div>\n",
              "    </div>\n",
              "  </div>\n"
            ],
            "text/plain": [
              "                                                                                                                   content  topic\n",
              "2  Фото: Евгений Котенко / РИА Новости Бывший президент Украины Виктор Ющенко назвал обещания киевских политиков снизит...      3\n",
              "3  Кадр: фильм «Ирония судьбы, или С лёгким паром!» Глава синодального отдела по взаимоотношениям церкви с обществом и ...      0\n",
              "4  Фото: скриншот / CTVBY Президент Белоруссии Александр Лукашенко во время новогоднего обращения призвал граждан стран...      3\n",
              "5  Фото: Михаил Маркив / РИА Новости Министр иностранных дел Украины Павел Климкин расстроился из-за большого количеств...      3\n",
              "7  Фото: МЧС РФ / РИА Новости Тела еще двух погибших извлечены из-под завалов после взрыва газа и последующего обрушени...      0"
            ]
          },
          "execution_count": 33,
          "metadata": {},
          "output_type": "execute_result"
        }
      ],
      "source": [
        "# df_lenta.head()"
      ]
    },
    {
      "cell_type": "code",
      "execution_count": null,
      "metadata": {
        "id": "72ekyjyJtv2M"
      },
      "outputs": [],
      "source": [
        "# df_all = pd.concat([df_fontanka,\n",
        "#                     # df_ria,\n",
        "#                     df_lenta])"
      ]
    },
    {
      "cell_type": "code",
      "execution_count": null,
      "metadata": {
        "id": "7rMNcsw-8tXM"
      },
      "outputs": [],
      "source": [
        "# df_all.to_csv('df_5_fontanka_lenta.csv', index=False)"
      ]
    },
    {
      "cell_type": "markdown",
      "metadata": {
        "id": "HwBSFmdmHJhs"
      },
      "source": [
        "# Modeling"
      ]
    },
    {
      "cell_type": "markdown",
      "metadata": {
        "id": "Vfn64yPelMx-"
      },
      "source": [
        "## Уменьшение размера"
      ]
    },
    {
      "cell_type": "code",
      "execution_count": null,
      "metadata": {
        "colab": {
          "base_uri": "https://localhost:8080/"
        },
        "id": "Tde19s5XFp07",
        "outputId": "a17e0bc8-fa4b-45a0-a1ae-ae58af0a861a"
      },
      "outputs": [
        {
          "output_type": "stream",
          "name": "stdout",
          "text": [
            "train\n",
            "Memory usage of dataframe is 0.61 MB\n",
            "Memory usage after optimization is: 0.34 MB\n",
            "Decreased by 43.7%\n",
            "--------------------------------------------------------------------------------\n",
            "test\n",
            "Memory usage of dataframe is 0.20 MB\n",
            "Memory usage after optimization is: 0.20 MB\n",
            "Decreased by 0.0%\n"
          ]
        }
      ],
      "source": [
        "# def reduce_mem_usage(df):\n",
        "#     \"\"\" iterate through all the columns of a dataframe and modify the data type\n",
        "#         to reduce memory usage.\n",
        "#     \"\"\"\n",
        "#     start_mem = df.memory_usage().sum() / 1024**2\n",
        "#     print('Memory usage of dataframe is {:.2f} MB'.format(start_mem))\n",
        "\n",
        "#     for col in df.columns:\n",
        "#         col_type = df[col].dtype\n",
        "\n",
        "#         if col_type != object:\n",
        "#             c_min = df[col].min()\n",
        "#             c_max = df[col].max()\n",
        "#             if str(col_type)[:3] == 'int':\n",
        "#                 if c_min > np.iinfo(np.int8).min and c_max < np.iinfo(np.int8).max:\n",
        "#                     df[col] = df[col].astype(np.int8)\n",
        "#                 elif c_min > np.iinfo(np.int16).min and c_max < np.iinfo(np.int16).max:\n",
        "#                     df[col] = df[col].astype(np.int16)\n",
        "#                 elif c_min > np.iinfo(np.int32).min and c_max < np.iinfo(np.int32).max:\n",
        "#                     df[col] = df[col].astype(np.int32)\n",
        "#                 elif c_min > np.iinfo(np.int64).min and c_max < np.iinfo(np.int64).max:\n",
        "#                     df[col] = df[col].astype(np.int64)\n",
        "#             else:\n",
        "#                 if c_min > np.finfo(np.float16).min and c_max < np.finfo(np.float16).max:\n",
        "#                     df[col] = df[col].astype(np.float16)\n",
        "#                 elif c_min > np.finfo(np.float32).min and c_max < np.finfo(np.float32).max:\n",
        "#                     df[col] = df[col].astype(np.float32)\n",
        "#                 else:\n",
        "#                     df[col] = df[col].astype(np.float64)\n",
        "#         # else:\n",
        "#         #     df[col] = df[col].astype('category')\n",
        "\n",
        "#     end_mem = df.memory_usage().sum() / 1024**2\n",
        "#     print('Memory usage after optimization is: {:.2f} MB'.format(end_mem))\n",
        "#     print('Decreased by {:.1f}%'.format(100 * (start_mem - end_mem) / start_mem))\n",
        "\n",
        "#     return df\n",
        "\n",
        "# def import_data(file):\n",
        "#     \"\"\"create a dataframe and optimize its memory usage\"\"\"\n",
        "#     df = pd.read_csv(file, parse_dates=True, keep_date_col=True)\n",
        "#     df = reduce_mem_usage(df)\n",
        "#     return df\n",
        "\n",
        "\n",
        "# print('train')\n",
        "# train = import_data(paths.path_train)\n",
        "\n",
        "# print('-' * 80)\n",
        "# print('test')\n",
        "# test = import_data(paths.path_test)"
      ]
    },
    {
      "cell_type": "markdown",
      "metadata": {
        "id": "VFSW9ZqKx7n7"
      },
      "source": [
        "# Загрузка полностью подготовленных данных."
      ]
    },
    {
      "cell_type": "code",
      "execution_count": null,
      "metadata": {
        "id": "SNIeAuunxiiT"
      },
      "outputs": [],
      "source": [
        "trainw2v = pd.read_csv(paths.path_prep_train_no_ria)\n",
        "test = pd.read_csv(paths.path_prep_test)"
      ]
    },
    {
      "cell_type": "code",
      "execution_count": null,
      "metadata": {
        "colab": {
          "base_uri": "https://localhost:8080/"
        },
        "id": "ps-AyFRIGnEB",
        "outputId": "4d422bca-9cbc-40f7-8e05-3d8b7377e5bd"
      },
      "outputs": [
        {
          "output_type": "stream",
          "name": "stdout",
          "text": [
            "train shape = (39146, 7),  test shape = (26275, 6)\n",
            "train, test is null: (False, False)\n"
          ]
        }
      ],
      "source": [
        "# Удаляем дубли\n",
        "trainw2v.drop_duplicates(inplace=True)\n",
        "# Удаляем пропуски\n",
        "trainw2v.dropna(inplace=True)\n",
        "\n",
        "print(f'train shape = {trainw2v.shape},  test shape = {test.shape}')\n",
        "print(f'train, test is null: {trainw2v.isna().any().any(), test.isna().any().any()}')"
      ]
    },
    {
      "cell_type": "code",
      "execution_count": null,
      "metadata": {
        "id": "qz7EHcszGQ44"
      },
      "outputs": [],
      "source": [
        "text_features = ['content', 'content_clean']\n",
        "# cat_features_indxs = [1]\n",
        "targets = ['topic']\n",
        "# cat_cols = ['content', 'content_clean']\n",
        "\n",
        "filtered_features = [i for i in trainw2v.columns if (i not in targets)]"
      ]
    },
    {
      "cell_type": "code",
      "source": [
        "# test.head()"
      ],
      "metadata": {
        "id": "fYoZFMHXsJz2"
      },
      "execution_count": null,
      "outputs": []
    },
    {
      "cell_type": "code",
      "execution_count": null,
      "metadata": {
        "id": "GhCSo8AfY1EW"
      },
      "outputs": [],
      "source": [
        "# for col in cat_cols:\n",
        "#     train[col] = train[col].astype('category')"
      ]
    },
    {
      "cell_type": "code",
      "execution_count": null,
      "metadata": {
        "id": "R6_Oh9u_HRxv"
      },
      "outputs": [],
      "source": [
        "# train['topic'].value_counts(normalize=True)"
      ]
    },
    {
      "cell_type": "markdown",
      "metadata": {
        "id": "CpzZQxjClUQT"
      },
      "source": [
        "## Разделение на фичи и целевую переменную."
      ]
    },
    {
      "cell_type": "code",
      "execution_count": null,
      "metadata": {
        "id": "wMpAUvJQX6iW"
      },
      "outputs": [],
      "source": [
        "# на всякий случай заполним пропуски\n",
        "# train = train.fillna(train.median())\n",
        "# test = test.fillna(test.median())"
      ]
    },
    {
      "cell_type": "code",
      "execution_count": null,
      "metadata": {
        "id": "j9hcY9ZvYBAo"
      },
      "outputs": [],
      "source": [
        "X = trainw2v[filtered_features].drop(targets, axis=1, errors=\"ignore\")\n",
        "y = trainw2v[\"topic\"]"
      ]
    },
    {
      "cell_type": "code",
      "execution_count": null,
      "metadata": {
        "id": "dluwHRXVv47T"
      },
      "outputs": [],
      "source": [
        "# X.shape, y.shape"
      ]
    },
    {
      "cell_type": "markdown",
      "metadata": {
        "id": "c-U-UrnQsft-"
      },
      "source": [
        "## Базовая модель - catboost text features"
      ]
    },
    {
      "cell_type": "code",
      "execution_count": null,
      "metadata": {
        "id": "KqLdtM4mYPuV"
      },
      "outputs": [],
      "source": [
        "# Разбиение на обучающую и валидационную выборки\n",
        "X_train, X_val, y_train, y_val = train_test_split(X, y, test_size=0.2, random_state=RND_STATE)"
      ]
    },
    {
      "cell_type": "code",
      "execution_count": null,
      "metadata": {
        "id": "8ZzTI0f-BlBm"
      },
      "outputs": [],
      "source": [
        "# X_train = X_train[: 1000]\n",
        "# y_train = y_train[: 1000]"
      ]
    },
    {
      "cell_type": "markdown",
      "metadata": {
        "id": "cRWjnXE74axK"
      },
      "source": [
        "### pipeline variant"
      ]
    },
    {
      "cell_type": "code",
      "execution_count": null,
      "metadata": {
        "id": "6aUWAD29GBvf"
      },
      "outputs": [],
      "source": [
        "class CustomSelectColumns():\n",
        "    '''\n",
        "    .. notes::\n",
        "    Класс для вытаскивания из датасета только требуемых колонок\n",
        "    '''\n",
        "    def __init__(self,\n",
        "                 fil_feats: list[str]=None, clean: bool=False):\n",
        "        self.fil_feats = fil_feats\n",
        "        self.clean = clean\n",
        "\n",
        "        # print('Init done')\n",
        "    def fit(self, X: pd.DataFrame, y: pd.Series=None):\n",
        "        return self\n",
        "\n",
        "    def transform(self, X: pd.DataFrame, y: pd.Series=None) -> pd.DataFrame:\n",
        "        X_ = X.copy()\n",
        "        X_filtered = X_[self.fil_feats]\n",
        "        X_filtered = pd.DataFrame(X_filtered)\n",
        "        if self.clean:\n",
        "            return X_filtered[self.fil_feats[0]].str.split()\n",
        "        else:\n",
        "            return pd.DataFrame(X_filtered)"
      ]
    },
    {
      "cell_type": "markdown",
      "metadata": {
        "id": "bflaIsSK3-Jf"
      },
      "source": [
        "Ниже есть эксперименты с классом Pool, и более простыми и быстрыми обработками данных и использования catboost. Но в данном случае у нас возникает проблема со стекингом. Поэтому сделал вариант через pipeline"
      ]
    },
    {
      "cell_type": "code",
      "execution_count": null,
      "metadata": {
        "colab": {
          "base_uri": "https://localhost:8080/",
          "height": 699
        },
        "id": "ypO9cLPGspS8",
        "outputId": "33364c7c-6067-49b5-fa2e-8d1dc3a24a85"
      },
      "outputs": [
        {
          "output_type": "stream",
          "name": "stdout",
          "text": [
            "Learning rate set to 0.213919\n",
            "0:\tlearn: 0.7835931\ttest: 0.7826309\tbest: 0.7826309 (0)\ttotal: 3.49s\tremaining: 11m 35s\n",
            "5:\tlearn: 0.8351003\ttest: 0.8454662\tbest: 0.8454662 (5)\ttotal: 20.1s\tremaining: 10m 48s\n",
            "10:\tlearn: 0.8468514\ttest: 0.8560664\tbest: 0.8560664 (10)\ttotal: 35.8s\tremaining: 10m 14s\n",
            "15:\tlearn: 0.8543875\ttest: 0.8629630\tbest: 0.8629630 (15)\ttotal: 51.5s\tremaining: 9m 52s\n",
            "20:\tlearn: 0.8591455\ttest: 0.8679438\tbest: 0.8679438 (20)\ttotal: 1m 8s\tremaining: 9m 43s\n",
            "25:\tlearn: 0.8641270\ttest: 0.8713921\tbest: 0.8715198 (24)\ttotal: 1m 23s\tremaining: 9m 21s\n",
            "30:\tlearn: 0.8675757\ttest: 0.8745849\tbest: 0.8745849 (30)\ttotal: 1m 39s\tremaining: 8m 59s\n",
            "35:\tlearn: 0.8701622\ttest: 0.8766284\tbest: 0.8766284 (35)\ttotal: 1m 54s\tremaining: 8m 40s\n",
            "40:\tlearn: 0.8715672\ttest: 0.8781609\tbest: 0.8781609 (40)\ttotal: 2m 9s\tremaining: 8m 20s\n",
            "45:\tlearn: 0.8743134\ttest: 0.8795658\tbest: 0.8795658 (45)\ttotal: 2m 24s\tremaining: 8m 3s\n",
            "50:\tlearn: 0.8767403\ttest: 0.8816092\tbest: 0.8816092 (50)\ttotal: 2m 39s\tremaining: 7m 45s\n",
            "55:\tlearn: 0.8781454\ttest: 0.8831418\tbest: 0.8831418 (55)\ttotal: 2m 55s\tremaining: 7m 31s\n",
            "60:\tlearn: 0.8808916\ttest: 0.8839080\tbest: 0.8840358 (58)\ttotal: 3m 10s\tremaining: 7m 15s\n",
            "65:\tlearn: 0.8829033\ttest: 0.8855683\tbest: 0.8855683 (65)\ttotal: 3m 26s\tremaining: 6m 58s\n",
            "70:\tlearn: 0.8841806\ttest: 0.8862069\tbest: 0.8862069 (69)\ttotal: 3m 41s\tremaining: 6m 42s\n",
            "75:\tlearn: 0.8853621\ttest: 0.8867178\tbest: 0.8869732 (72)\ttotal: 3m 56s\tremaining: 6m 25s\n",
            "80:\tlearn: 0.8867352\ttest: 0.8874840\tbest: 0.8877395 (79)\ttotal: 4m 10s\tremaining: 6m 8s\n",
            "85:\tlearn: 0.8875974\ttest: 0.8882503\tbest: 0.8882503 (85)\ttotal: 4m 25s\tremaining: 5m 51s\n",
            "90:\tlearn: 0.8897049\ttest: 0.8887612\tbest: 0.8895275 (88)\ttotal: 4m 39s\tremaining: 5m 34s\n",
            "95:\tlearn: 0.8907268\ttest: 0.8896552\tbest: 0.8896552 (93)\ttotal: 4m 54s\tremaining: 5m 19s\n",
            "100:\tlearn: 0.8920680\ttest: 0.8908046\tbest: 0.8908046 (100)\ttotal: 5m 9s\tremaining: 5m 3s\n",
            "105:\tlearn: 0.8928024\ttest: 0.8915709\tbest: 0.8915709 (105)\ttotal: 5m 24s\tremaining: 4m 47s\n",
            "110:\tlearn: 0.8945587\ttest: 0.8915709\tbest: 0.8919540 (108)\ttotal: 5m 39s\tremaining: 4m 32s\n",
            "115:\tlearn: 0.8952931\ttest: 0.8919540\tbest: 0.8922095 (114)\ttotal: 5m 54s\tremaining: 4m 16s\n",
            "120:\tlearn: 0.8961873\ttest: 0.8925926\tbest: 0.8928480 (118)\ttotal: 6m 9s\tremaining: 4m 1s\n",
            "125:\tlearn: 0.8970814\ttest: 0.8927203\tbest: 0.8928480 (118)\ttotal: 6m 24s\tremaining: 3m 45s\n",
            "Stopped by overfitting detector  (10 iterations wait)\n",
            "\n",
            "bestTest = 0.8928480204\n",
            "bestIteration = 118\n",
            "\n",
            "Shrink model to first 119 iterations.\n"
          ]
        },
        {
          "output_type": "execute_result",
          "data": {
            "text/plain": [
              "Pipeline(steps=[('col_selector',\n",
              "                 <__main__.CustomSelectColumns object at 0x7ea40fb14430>),\n",
              "                ('Catboost_simple',\n",
              "                 <catboost.core.CatBoostClassifier object at 0x7ea40fb143a0>)])"
            ],
            "text/html": [
              "<style>#sk-container-id-1 {color: black;background-color: white;}#sk-container-id-1 pre{padding: 0;}#sk-container-id-1 div.sk-toggleable {background-color: white;}#sk-container-id-1 label.sk-toggleable__label {cursor: pointer;display: block;width: 100%;margin-bottom: 0;padding: 0.3em;box-sizing: border-box;text-align: center;}#sk-container-id-1 label.sk-toggleable__label-arrow:before {content: \"▸\";float: left;margin-right: 0.25em;color: #696969;}#sk-container-id-1 label.sk-toggleable__label-arrow:hover:before {color: black;}#sk-container-id-1 div.sk-estimator:hover label.sk-toggleable__label-arrow:before {color: black;}#sk-container-id-1 div.sk-toggleable__content {max-height: 0;max-width: 0;overflow: hidden;text-align: left;background-color: #f0f8ff;}#sk-container-id-1 div.sk-toggleable__content pre {margin: 0.2em;color: black;border-radius: 0.25em;background-color: #f0f8ff;}#sk-container-id-1 input.sk-toggleable__control:checked~div.sk-toggleable__content {max-height: 200px;max-width: 100%;overflow: auto;}#sk-container-id-1 input.sk-toggleable__control:checked~label.sk-toggleable__label-arrow:before {content: \"▾\";}#sk-container-id-1 div.sk-estimator input.sk-toggleable__control:checked~label.sk-toggleable__label {background-color: #d4ebff;}#sk-container-id-1 div.sk-label input.sk-toggleable__control:checked~label.sk-toggleable__label {background-color: #d4ebff;}#sk-container-id-1 input.sk-hidden--visually {border: 0;clip: rect(1px 1px 1px 1px);clip: rect(1px, 1px, 1px, 1px);height: 1px;margin: -1px;overflow: hidden;padding: 0;position: absolute;width: 1px;}#sk-container-id-1 div.sk-estimator {font-family: monospace;background-color: #f0f8ff;border: 1px dotted black;border-radius: 0.25em;box-sizing: border-box;margin-bottom: 0.5em;}#sk-container-id-1 div.sk-estimator:hover {background-color: #d4ebff;}#sk-container-id-1 div.sk-parallel-item::after {content: \"\";width: 100%;border-bottom: 1px solid gray;flex-grow: 1;}#sk-container-id-1 div.sk-label:hover label.sk-toggleable__label {background-color: #d4ebff;}#sk-container-id-1 div.sk-serial::before {content: \"\";position: absolute;border-left: 1px solid gray;box-sizing: border-box;top: 0;bottom: 0;left: 50%;z-index: 0;}#sk-container-id-1 div.sk-serial {display: flex;flex-direction: column;align-items: center;background-color: white;padding-right: 0.2em;padding-left: 0.2em;position: relative;}#sk-container-id-1 div.sk-item {position: relative;z-index: 1;}#sk-container-id-1 div.sk-parallel {display: flex;align-items: stretch;justify-content: center;background-color: white;position: relative;}#sk-container-id-1 div.sk-item::before, #sk-container-id-1 div.sk-parallel-item::before {content: \"\";position: absolute;border-left: 1px solid gray;box-sizing: border-box;top: 0;bottom: 0;left: 50%;z-index: -1;}#sk-container-id-1 div.sk-parallel-item {display: flex;flex-direction: column;z-index: 1;position: relative;background-color: white;}#sk-container-id-1 div.sk-parallel-item:first-child::after {align-self: flex-end;width: 50%;}#sk-container-id-1 div.sk-parallel-item:last-child::after {align-self: flex-start;width: 50%;}#sk-container-id-1 div.sk-parallel-item:only-child::after {width: 0;}#sk-container-id-1 div.sk-dashed-wrapped {border: 1px dashed gray;margin: 0 0.4em 0.5em 0.4em;box-sizing: border-box;padding-bottom: 0.4em;background-color: white;}#sk-container-id-1 div.sk-label label {font-family: monospace;font-weight: bold;display: inline-block;line-height: 1.2em;}#sk-container-id-1 div.sk-label-container {text-align: center;}#sk-container-id-1 div.sk-container {/* jupyter's `normalize.less` sets `[hidden] { display: none; }` but bootstrap.min.css set `[hidden] { display: none !important; }` so we also need the `!important` here to be able to override the default hidden behavior on the sphinx rendered scikit-learn.org. See: https://github.com/scikit-learn/scikit-learn/issues/21755 */display: inline-block !important;position: relative;}#sk-container-id-1 div.sk-text-repr-fallback {display: none;}</style><div id=\"sk-container-id-1\" class=\"sk-top-container\"><div class=\"sk-text-repr-fallback\"><pre>Pipeline(steps=[(&#x27;col_selector&#x27;,\n",
              "                 &lt;__main__.CustomSelectColumns object at 0x7ea40fb14430&gt;),\n",
              "                (&#x27;Catboost_simple&#x27;,\n",
              "                 &lt;catboost.core.CatBoostClassifier object at 0x7ea40fb143a0&gt;)])</pre><b>In a Jupyter environment, please rerun this cell to show the HTML representation or trust the notebook. <br />On GitHub, the HTML representation is unable to render, please try loading this page with nbviewer.org.</b></div><div class=\"sk-container\" hidden><div class=\"sk-item sk-dashed-wrapped\"><div class=\"sk-label-container\"><div class=\"sk-label sk-toggleable\"><input class=\"sk-toggleable__control sk-hidden--visually\" id=\"sk-estimator-id-1\" type=\"checkbox\" ><label for=\"sk-estimator-id-1\" class=\"sk-toggleable__label sk-toggleable__label-arrow\">Pipeline</label><div class=\"sk-toggleable__content\"><pre>Pipeline(steps=[(&#x27;col_selector&#x27;,\n",
              "                 &lt;__main__.CustomSelectColumns object at 0x7ea40fb14430&gt;),\n",
              "                (&#x27;Catboost_simple&#x27;,\n",
              "                 &lt;catboost.core.CatBoostClassifier object at 0x7ea40fb143a0&gt;)])</pre></div></div></div><div class=\"sk-serial\"><div class=\"sk-item\"><div class=\"sk-estimator sk-toggleable\"><input class=\"sk-toggleable__control sk-hidden--visually\" id=\"sk-estimator-id-2\" type=\"checkbox\" ><label for=\"sk-estimator-id-2\" class=\"sk-toggleable__label sk-toggleable__label-arrow\">CustomSelectColumns</label><div class=\"sk-toggleable__content\"><pre>&lt;__main__.CustomSelectColumns object at 0x7ea40fb14430&gt;</pre></div></div></div><div class=\"sk-item\"><div class=\"sk-estimator sk-toggleable\"><input class=\"sk-toggleable__control sk-hidden--visually\" id=\"sk-estimator-id-3\" type=\"checkbox\" ><label for=\"sk-estimator-id-3\" class=\"sk-toggleable__label sk-toggleable__label-arrow\">CatBoostClassifier</label><div class=\"sk-toggleable__content\"><pre>&lt;catboost.core.CatBoostClassifier object at 0x7ea40fb143a0&gt;</pre></div></div></div></div></div></div></div>"
            ]
          },
          "metadata": {},
          "execution_count": 23
        }
      ],
      "source": [
        "Catboost_pipe = Pipeline([\n",
        "    ('col_selector', CustomSelectColumns(['content'])),\n",
        "    ('Catboost_simple', CatBoostClassifier(eval_metric='Accuracy',\n",
        "                           iterations=200,\n",
        "                           thread_count=-1,\n",
        "                           random_seed=RND_STATE,\n",
        "                           text_features=text_features))\n",
        "    ])\n",
        "\n",
        "# train_dataset = Pool(data=X_train, label=y_train, text_features=['content'])\n",
        "# eval_dataset = Pool(data=X_val, label=y_val, text_features=['content'])\n",
        "\n",
        "Catboost_pipe.fit(X_train, y_train,\n",
        "                  Catboost_simple__text_features=['content'],\n",
        "                  Catboost_simple__verbose=5,\n",
        "                  Catboost_simple__early_stopping_rounds=10,\n",
        "                  Catboost_simple__eval_set=(X_val[['content']], y_val)\n",
        "                  )"
      ]
    },
    {
      "cell_type": "code",
      "execution_count": null,
      "metadata": {
        "id": "Gco22YxW_M_O"
      },
      "outputs": [],
      "source": [
        "# clf_0 = CatBoostClassifier(#eval_metric='Accuracy',\n",
        "#                            iterations=200,\n",
        "#                            thread_count=-1,\n",
        "#                            random_seed=RND_STATE,\n",
        "#                            text_features=text_features)\n",
        "\n",
        "# # train_dataset = Pool(data=X_train, label=y_train, text_features=['content'])\n",
        "# # eval_dataset = Pool(data=X_val, label=y_val, text_features=['content'])\n",
        "\n",
        "# clf_0.fit(X_train, y_train,\n",
        "#           # text_features='content',\n",
        "#           # verbose=50,\n",
        "#           # early_stopping_rounds=200\n",
        "#           )"
      ]
    },
    {
      "cell_type": "markdown",
      "metadata": {
        "id": "vVRJdJaI4jwk"
      },
      "source": [
        "### Pool variant"
      ]
    },
    {
      "cell_type": "code",
      "execution_count": null,
      "metadata": {
        "id": "XWvOwl9hYSUu"
      },
      "outputs": [],
      "source": [
        "# %%time\n",
        "# clf_1 = CatBoostClassifier(eval_metric= 'Accuracy',\n",
        "#                            iterations=200,\n",
        "#                            thread_count=-1,\n",
        "#                            random_seed=RND_STATE,\n",
        "#                            text_features=text_features)\n",
        "\n",
        "# train_dataset = Pool(data=X_train, label=y_train, text_features=['content'])\n",
        "# eval_dataset = Pool(data=X_val, label=y_val, text_features=['content'])\n",
        "\n",
        "# clf_1.fit(train_dataset,\n",
        "#         eval_set=eval_dataset,\n",
        "#         verbose=50,\n",
        "#         early_stopping_rounds=200)"
      ]
    },
    {
      "cell_type": "code",
      "execution_count": null,
      "metadata": {
        "colab": {
          "base_uri": "https://localhost:8080/"
        },
        "id": "_h2gYj537Fq7",
        "outputId": "d961d53f-2cca-4e4c-8b1b-df623e23232c"
      },
      "outputs": [
        {
          "output_type": "execute_result",
          "data": {
            "text/plain": [
              "{'learn': {'Accuracy': 0.8977838804445012, 'MultiClass': 0.3068386418577497},\n",
              " 'validation': {'Accuracy': 0.8928480204342273,\n",
              "  'MultiClass': 0.32059054999907755}}"
            ]
          },
          "metadata": {},
          "execution_count": 24
        }
      ],
      "source": [
        "Catboost_pipe[-1].best_score_"
      ]
    },
    {
      "cell_type": "code",
      "execution_count": null,
      "metadata": {
        "id": "A5HcFGUcYh_m"
      },
      "outputs": [],
      "source": [
        "# clf_1.best_score_"
      ]
    },
    {
      "cell_type": "code",
      "execution_count": null,
      "metadata": {
        "id": "o26zSzn47z-e"
      },
      "outputs": [],
      "source": [
        "# {'learn': {'Accuracy': 0.8775847457627118, 'MultiClass': 0.34377799294871336},\n",
        "#  'validation': {'Accuracy': 0.8647572239640708,\n",
        "#   'MultiClass': 0.3753871809869063}}"
      ]
    },
    {
      "cell_type": "code",
      "execution_count": null,
      "metadata": {
        "id": "VJxtqgQTh25x"
      },
      "outputs": [],
      "source": [
        "# {'learn': {'Accuracy': 0.8886676698691979, 'MultiClass': 0.3251143718161897},\n",
        "#  'validation': {'Accuracy': 0.8817483100287064,\n",
        "#   'MultiClass': 0.34822207952607204}}"
      ]
    },
    {
      "cell_type": "code",
      "execution_count": null,
      "metadata": {
        "id": "3R9kgqCKdpug"
      },
      "outputs": [],
      "source": [
        "# {'learn': {'Accuracy': 0.9008923552557616, 'MultiClass': 0.28570940502269604},\n",
        "#  'validation': {'Accuracy': 0.8940415964024733,\n",
        "#   'MultiClass': 0.3034087798075641}}"
      ]
    },
    {
      "cell_type": "code",
      "execution_count": null,
      "metadata": {
        "id": "RqLuQ7sqjtmT"
      },
      "outputs": [],
      "source": [
        "# {'learn': {'Accuracy': 0.9285189055303997, 'MultiClass': 0.21950880724096397},\n",
        "#  'validation': {'Accuracy': 0.9026315789473685,\n",
        "#   'MultiClass': 0.29757526252261496}}"
      ]
    },
    {
      "cell_type": "markdown",
      "source": [
        "### New begginings"
      ],
      "metadata": {
        "id": "sQ9_NH6Qs3vJ"
      }
    },
    {
      "cell_type": "code",
      "source": [
        "clf_new_beg = CatBoostClassifier(eval_metric='Accuracy',\n",
        "                           iterations=200,\n",
        "                           thread_count=-1,\n",
        "                           random_seed=RND_STATE,\n",
        "                           text_features=['content', 'content_clean'])\n",
        "\n",
        "\n",
        "train_dataset = Pool(data=X_train, label=y_train, text_features=['content', 'content_clean'])\n",
        "eval_dataset = Pool(data=X_val, label=y_val, text_features=['content', 'content_clean'])\n",
        "\n",
        "clf_new_beg.fit(X_train, y_train,\n",
        "                  text_features=['content', 'content_clean'],\n",
        "                  verbose=5,\n",
        "                  early_stopping_rounds=200,\n",
        "                  eval_set=(X_val, y_val)\n",
        "                  )"
      ],
      "metadata": {
        "colab": {
          "base_uri": "https://localhost:8080/"
        },
        "id": "DrX3oH1AsrAK",
        "outputId": "3a310066-dbf0-4865-dd24-a17be67528f4"
      },
      "execution_count": null,
      "outputs": [
        {
          "output_type": "stream",
          "name": "stdout",
          "text": [
            "Learning rate set to 0.213919\n",
            "0:\tlearn: 0.7930132\ttest: 0.7941252\tbest: 0.7941252 (0)\ttotal: 6.9s\tremaining: 22m 52s\n",
            "5:\tlearn: 0.8460531\ttest: 0.8524904\tbest: 0.8524904 (5)\ttotal: 44.6s\tremaining: 24m 2s\n",
            "10:\tlearn: 0.8515136\ttest: 0.8573436\tbest: 0.8591315 (9)\ttotal: 1m 22s\tremaining: 23m 31s\n",
            "15:\tlearn: 0.8607740\ttest: 0.8648787\tbest: 0.8648787 (15)\ttotal: 1m 52s\tremaining: 21m 39s\n",
            "20:\tlearn: 0.8660429\ttest: 0.8704981\tbest: 0.8704981 (20)\ttotal: 2m 20s\tremaining: 19m 59s\n",
            "25:\tlearn: 0.8701303\ttest: 0.8750958\tbest: 0.8750958 (25)\ttotal: 2m 52s\tremaining: 19m 12s\n",
            "30:\tlearn: 0.8746647\ttest: 0.8785441\tbest: 0.8785441 (30)\ttotal: 3m 23s\tremaining: 18m 27s\n",
            "35:\tlearn: 0.8776025\ttest: 0.8818646\tbest: 0.8818646 (35)\ttotal: 3m 53s\tremaining: 17m 43s\n",
            "40:\tlearn: 0.8799016\ttest: 0.8844189\tbest: 0.8844189 (40)\ttotal: 4m 23s\tremaining: 17m 1s\n",
            "45:\tlearn: 0.8822966\ttest: 0.8868455\tbest: 0.8868455 (45)\ttotal: 4m 52s\tremaining: 16m 17s\n",
            "50:\tlearn: 0.8841806\ttest: 0.8877395\tbest: 0.8877395 (50)\ttotal: 5m 20s\tremaining: 15m 36s\n",
            "55:\tlearn: 0.8873100\ttest: 0.8890166\tbest: 0.8891443 (54)\ttotal: 5m 54s\tremaining: 15m 10s\n",
            "60:\tlearn: 0.8896411\ttest: 0.8911877\tbest: 0.8911877 (59)\ttotal: 6m 24s\tremaining: 14m 35s\n",
            "65:\tlearn: 0.8909822\ttest: 0.8909323\tbest: 0.8914432 (63)\ttotal: 6m 54s\tremaining: 14m 1s\n",
            "70:\tlearn: 0.8923234\ttest: 0.8927203\tbest: 0.8927203 (70)\ttotal: 7m 25s\tremaining: 13m 28s\n",
            "75:\tlearn: 0.8938242\ttest: 0.8932312\tbest: 0.8932312 (75)\ttotal: 7m 53s\tremaining: 12m 52s\n",
            "80:\tlearn: 0.8952931\ttest: 0.8945083\tbest: 0.8947637 (79)\ttotal: 8m 22s\tremaining: 12m 18s\n",
            "85:\tlearn: 0.8966024\ttest: 0.8946360\tbest: 0.8948914 (82)\ttotal: 8m 53s\tremaining: 11m 46s\n",
            "90:\tlearn: 0.8975284\ttest: 0.8954023\tbest: 0.8957854 (89)\ttotal: 9m 23s\tremaining: 11m 14s\n",
            "95:\tlearn: 0.8981990\ttest: 0.8957854\tbest: 0.8961686 (93)\ttotal: 9m 52s\tremaining: 10m 41s\n",
            "100:\tlearn: 0.8989654\ttest: 0.8969349\tbest: 0.8969349 (100)\ttotal: 10m 21s\tremaining: 10m 9s\n",
            "105:\tlearn: 0.8999872\ttest: 0.8982120\tbest: 0.8982120 (105)\ttotal: 10m 59s\tremaining: 9m 44s\n",
            "110:\tlearn: 0.9014242\ttest: 0.8989783\tbest: 0.8989783 (110)\ttotal: 11m 28s\tremaining: 9m 12s\n",
            "115:\tlearn: 0.9021267\ttest: 0.8996169\tbest: 0.8996169 (115)\ttotal: 11m 58s\tremaining: 8m 40s\n",
            "120:\tlearn: 0.9029250\ttest: 0.8998723\tbest: 0.9000000 (118)\ttotal: 12m 28s\tremaining: 8m 8s\n",
            "125:\tlearn: 0.9040107\ttest: 0.8997446\tbest: 0.9006386 (122)\ttotal: 13m\tremaining: 7m 38s\n",
            "130:\tlearn: 0.9043939\ttest: 0.8998723\tbest: 0.9006386 (122)\ttotal: 13m 29s\tremaining: 7m 6s\n",
            "Stopped by overfitting detector  (10 iterations wait)\n",
            "\n",
            "bestTest = 0.9006385696\n",
            "bestIteration = 122\n",
            "\n",
            "Shrink model to first 123 iterations.\n"
          ]
        },
        {
          "output_type": "execute_result",
          "data": {
            "text/plain": [
              "<catboost.core.CatBoostClassifier at 0x7e2aab0fabc0>"
            ]
          },
          "metadata": {},
          "execution_count": 217
        }
      ]
    },
    {
      "cell_type": "code",
      "source": [
        "clf_new_beg.best_score_"
      ],
      "metadata": {
        "colab": {
          "base_uri": "https://localhost:8080/"
        },
        "id": "rvOfgAVftS52",
        "outputId": "d7796417-d724-4d2a-cb8f-bbdfa4d90378"
      },
      "execution_count": null,
      "outputs": [
        {
          "output_type": "execute_result",
          "data": {
            "text/plain": [
              "{'learn': {'Accuracy': 0.9045535828330565, 'MultiClass': 0.27679613338681036},\n",
              " 'validation': {'Accuracy': 0.9006385696040868,\n",
              "  'MultiClass': 0.29824479514239705}}"
            ]
          },
          "metadata": {},
          "execution_count": 218
        }
      ]
    },
    {
      "cell_type": "markdown",
      "metadata": {
        "id": "379LmmiOA7Uh"
      },
      "source": [
        "## Результаты базовой модели"
      ]
    },
    {
      "cell_type": "code",
      "execution_count": null,
      "metadata": {
        "id": "FzCjUbHrcgZf"
      },
      "outputs": [],
      "source": [
        "df_sub = pd.read_csv('/content/drive/MyDrive/competitions/NLP2.0/data/base_submission_news.csv')\n",
        "preds = clf_new_beg.predict(test)\n",
        "df_sub['topic'] = preds\n",
        "df_sub.to_csv('try_8.csv', index=False)"
      ]
    },
    {
      "cell_type": "code",
      "execution_count": null,
      "metadata": {
        "colab": {
          "base_uri": "https://localhost:8080/",
          "height": 206
        },
        "id": "9k9Q2uCB9xdV",
        "outputId": "51eeb715-307f-4c94-c03e-4b58fe340807"
      },
      "outputs": [
        {
          "data": {
            "text/html": [
              "\n",
              "  <div id=\"df-39e5af39-13e0-4355-9c88-37287a0be3ec\" class=\"colab-df-container\">\n",
              "    <div>\n",
              "<style scoped>\n",
              "    .dataframe tbody tr th:only-of-type {\n",
              "        vertical-align: middle;\n",
              "    }\n",
              "\n",
              "    .dataframe tbody tr th {\n",
              "        vertical-align: top;\n",
              "    }\n",
              "\n",
              "    .dataframe thead th {\n",
              "        text-align: right;\n",
              "    }\n",
              "</style>\n",
              "<table border=\"1\" class=\"dataframe\">\n",
              "  <thead>\n",
              "    <tr style=\"text-align: right;\">\n",
              "      <th></th>\n",
              "      <th>topic</th>\n",
              "      <th>index</th>\n",
              "      <th>Catboost_topic</th>\n",
              "    </tr>\n",
              "  </thead>\n",
              "  <tbody>\n",
              "    <tr>\n",
              "      <th>0</th>\n",
              "      <td>0</td>\n",
              "      <td>0</td>\n",
              "      <td>0.0</td>\n",
              "    </tr>\n",
              "    <tr>\n",
              "      <th>1</th>\n",
              "      <td>0</td>\n",
              "      <td>1</td>\n",
              "      <td>6.0</td>\n",
              "    </tr>\n",
              "    <tr>\n",
              "      <th>2</th>\n",
              "      <td>0</td>\n",
              "      <td>2</td>\n",
              "      <td>4.0</td>\n",
              "    </tr>\n",
              "    <tr>\n",
              "      <th>3</th>\n",
              "      <td>0</td>\n",
              "      <td>3</td>\n",
              "      <td>0.0</td>\n",
              "    </tr>\n",
              "    <tr>\n",
              "      <th>4</th>\n",
              "      <td>0</td>\n",
              "      <td>4</td>\n",
              "      <td>4.0</td>\n",
              "    </tr>\n",
              "  </tbody>\n",
              "</table>\n",
              "</div>\n",
              "    <div class=\"colab-df-buttons\">\n",
              "\n",
              "  <div class=\"colab-df-container\">\n",
              "    <button class=\"colab-df-convert\" onclick=\"convertToInteractive('df-39e5af39-13e0-4355-9c88-37287a0be3ec')\"\n",
              "            title=\"Convert this dataframe to an interactive table.\"\n",
              "            style=\"display:none;\">\n",
              "\n",
              "  <svg xmlns=\"http://www.w3.org/2000/svg\" height=\"24px\" viewBox=\"0 -960 960 960\">\n",
              "    <path d=\"M120-120v-720h720v720H120Zm60-500h600v-160H180v160Zm220 220h160v-160H400v160Zm0 220h160v-160H400v160ZM180-400h160v-160H180v160Zm440 0h160v-160H620v160ZM180-180h160v-160H180v160Zm440 0h160v-160H620v160Z\"/>\n",
              "  </svg>\n",
              "    </button>\n",
              "\n",
              "  <style>\n",
              "    .colab-df-container {\n",
              "      display:flex;\n",
              "      gap: 12px;\n",
              "    }\n",
              "\n",
              "    .colab-df-convert {\n",
              "      background-color: #E8F0FE;\n",
              "      border: none;\n",
              "      border-radius: 50%;\n",
              "      cursor: pointer;\n",
              "      display: none;\n",
              "      fill: #1967D2;\n",
              "      height: 32px;\n",
              "      padding: 0 0 0 0;\n",
              "      width: 32px;\n",
              "    }\n",
              "\n",
              "    .colab-df-convert:hover {\n",
              "      background-color: #E2EBFA;\n",
              "      box-shadow: 0px 1px 2px rgba(60, 64, 67, 0.3), 0px 1px 3px 1px rgba(60, 64, 67, 0.15);\n",
              "      fill: #174EA6;\n",
              "    }\n",
              "\n",
              "    .colab-df-buttons div {\n",
              "      margin-bottom: 4px;\n",
              "    }\n",
              "\n",
              "    [theme=dark] .colab-df-convert {\n",
              "      background-color: #3B4455;\n",
              "      fill: #D2E3FC;\n",
              "    }\n",
              "\n",
              "    [theme=dark] .colab-df-convert:hover {\n",
              "      background-color: #434B5C;\n",
              "      box-shadow: 0px 1px 3px 1px rgba(0, 0, 0, 0.15);\n",
              "      filter: drop-shadow(0px 1px 2px rgba(0, 0, 0, 0.3));\n",
              "      fill: #FFFFFF;\n",
              "    }\n",
              "  </style>\n",
              "\n",
              "    <script>\n",
              "      const buttonEl =\n",
              "        document.querySelector('#df-39e5af39-13e0-4355-9c88-37287a0be3ec button.colab-df-convert');\n",
              "      buttonEl.style.display =\n",
              "        google.colab.kernel.accessAllowed ? 'block' : 'none';\n",
              "\n",
              "      async function convertToInteractive(key) {\n",
              "        const element = document.querySelector('#df-39e5af39-13e0-4355-9c88-37287a0be3ec');\n",
              "        const dataTable =\n",
              "          await google.colab.kernel.invokeFunction('convertToInteractive',\n",
              "                                                    [key], {});\n",
              "        if (!dataTable) return;\n",
              "\n",
              "        const docLinkHtml = 'Like what you see? Visit the ' +\n",
              "          '<a target=\"_blank\" href=https://colab.research.google.com/notebooks/data_table.ipynb>data table notebook</a>'\n",
              "          + ' to learn more about interactive tables.';\n",
              "        element.innerHTML = '';\n",
              "        dataTable['output_type'] = 'display_data';\n",
              "        await google.colab.output.renderOutput(dataTable, element);\n",
              "        const docLink = document.createElement('div');\n",
              "        docLink.innerHTML = docLinkHtml;\n",
              "        element.appendChild(docLink);\n",
              "      }\n",
              "    </script>\n",
              "  </div>\n",
              "\n",
              "\n",
              "<div id=\"df-27653805-f173-4e22-9fc2-e007075c24e9\">\n",
              "  <button class=\"colab-df-quickchart\" onclick=\"quickchart('df-27653805-f173-4e22-9fc2-e007075c24e9')\"\n",
              "            title=\"Suggest charts\"\n",
              "            style=\"display:none;\">\n",
              "\n",
              "<svg xmlns=\"http://www.w3.org/2000/svg\" height=\"24px\"viewBox=\"0 0 24 24\"\n",
              "     width=\"24px\">\n",
              "    <g>\n",
              "        <path d=\"M19 3H5c-1.1 0-2 .9-2 2v14c0 1.1.9 2 2 2h14c1.1 0 2-.9 2-2V5c0-1.1-.9-2-2-2zM9 17H7v-7h2v7zm4 0h-2V7h2v10zm4 0h-2v-4h2v4z\"/>\n",
              "    </g>\n",
              "</svg>\n",
              "  </button>\n",
              "\n",
              "<style>\n",
              "  .colab-df-quickchart {\n",
              "      --bg-color: #E8F0FE;\n",
              "      --fill-color: #1967D2;\n",
              "      --hover-bg-color: #E2EBFA;\n",
              "      --hover-fill-color: #174EA6;\n",
              "      --disabled-fill-color: #AAA;\n",
              "      --disabled-bg-color: #DDD;\n",
              "  }\n",
              "\n",
              "  [theme=dark] .colab-df-quickchart {\n",
              "      --bg-color: #3B4455;\n",
              "      --fill-color: #D2E3FC;\n",
              "      --hover-bg-color: #434B5C;\n",
              "      --hover-fill-color: #FFFFFF;\n",
              "      --disabled-bg-color: #3B4455;\n",
              "      --disabled-fill-color: #666;\n",
              "  }\n",
              "\n",
              "  .colab-df-quickchart {\n",
              "    background-color: var(--bg-color);\n",
              "    border: none;\n",
              "    border-radius: 50%;\n",
              "    cursor: pointer;\n",
              "    display: none;\n",
              "    fill: var(--fill-color);\n",
              "    height: 32px;\n",
              "    padding: 0;\n",
              "    width: 32px;\n",
              "  }\n",
              "\n",
              "  .colab-df-quickchart:hover {\n",
              "    background-color: var(--hover-bg-color);\n",
              "    box-shadow: 0 1px 2px rgba(60, 64, 67, 0.3), 0 1px 3px 1px rgba(60, 64, 67, 0.15);\n",
              "    fill: var(--button-hover-fill-color);\n",
              "  }\n",
              "\n",
              "  .colab-df-quickchart-complete:disabled,\n",
              "  .colab-df-quickchart-complete:disabled:hover {\n",
              "    background-color: var(--disabled-bg-color);\n",
              "    fill: var(--disabled-fill-color);\n",
              "    box-shadow: none;\n",
              "  }\n",
              "\n",
              "  .colab-df-spinner {\n",
              "    border: 2px solid var(--fill-color);\n",
              "    border-color: transparent;\n",
              "    border-bottom-color: var(--fill-color);\n",
              "    animation:\n",
              "      spin 1s steps(1) infinite;\n",
              "  }\n",
              "\n",
              "  @keyframes spin {\n",
              "    0% {\n",
              "      border-color: transparent;\n",
              "      border-bottom-color: var(--fill-color);\n",
              "      border-left-color: var(--fill-color);\n",
              "    }\n",
              "    20% {\n",
              "      border-color: transparent;\n",
              "      border-left-color: var(--fill-color);\n",
              "      border-top-color: var(--fill-color);\n",
              "    }\n",
              "    30% {\n",
              "      border-color: transparent;\n",
              "      border-left-color: var(--fill-color);\n",
              "      border-top-color: var(--fill-color);\n",
              "      border-right-color: var(--fill-color);\n",
              "    }\n",
              "    40% {\n",
              "      border-color: transparent;\n",
              "      border-right-color: var(--fill-color);\n",
              "      border-top-color: var(--fill-color);\n",
              "    }\n",
              "    60% {\n",
              "      border-color: transparent;\n",
              "      border-right-color: var(--fill-color);\n",
              "    }\n",
              "    80% {\n",
              "      border-color: transparent;\n",
              "      border-right-color: var(--fill-color);\n",
              "      border-bottom-color: var(--fill-color);\n",
              "    }\n",
              "    90% {\n",
              "      border-color: transparent;\n",
              "      border-bottom-color: var(--fill-color);\n",
              "    }\n",
              "  }\n",
              "</style>\n",
              "\n",
              "  <script>\n",
              "    async function quickchart(key) {\n",
              "      const quickchartButtonEl =\n",
              "        document.querySelector('#' + key + ' button');\n",
              "      quickchartButtonEl.disabled = true;  // To prevent multiple clicks.\n",
              "      quickchartButtonEl.classList.add('colab-df-spinner');\n",
              "      try {\n",
              "        const charts = await google.colab.kernel.invokeFunction(\n",
              "            'suggestCharts', [key], {});\n",
              "      } catch (error) {\n",
              "        console.error('Error during call to suggestCharts:', error);\n",
              "      }\n",
              "      quickchartButtonEl.classList.remove('colab-df-spinner');\n",
              "      quickchartButtonEl.classList.add('colab-df-quickchart-complete');\n",
              "    }\n",
              "    (() => {\n",
              "      let quickchartButtonEl =\n",
              "        document.querySelector('#df-27653805-f173-4e22-9fc2-e007075c24e9 button');\n",
              "      quickchartButtonEl.style.display =\n",
              "        google.colab.kernel.accessAllowed ? 'block' : 'none';\n",
              "    })();\n",
              "  </script>\n",
              "</div>\n",
              "    </div>\n",
              "  </div>\n"
            ],
            "text/plain": [
              "   topic  index  Catboost_topic\n",
              "0      0      0             0.0\n",
              "1      0      1             6.0\n",
              "2      0      2             4.0\n",
              "3      0      3             0.0\n",
              "4      0      4             4.0"
            ]
          },
          "execution_count": 39,
          "metadata": {},
          "output_type": "execute_result"
        }
      ],
      "source": [
        "df_sub.head()"
      ]
    },
    {
      "cell_type": "code",
      "execution_count": null,
      "metadata": {
        "id": "NUlXZ8Z-nLmP"
      },
      "outputs": [],
      "source": [
        "with open(f'Catboost_pipe_model_new.pkl', \"wb\") as f:\n",
        "        pickle.dump(Catboost_pipe, f)"
      ]
    },
    {
      "cell_type": "markdown",
      "metadata": {
        "id": "sqM1UZTHlKKS"
      },
      "source": [
        "### Optuna для catboost"
      ]
    },
    {
      "cell_type": "code",
      "execution_count": null,
      "metadata": {
        "id": "iV36Qmrplfac"
      },
      "outputs": [],
      "source": [
        "# def fit_catboost(trial, train, val):\n",
        "#     X_train, y_train = train\n",
        "#     X_val, y_val = val\n",
        "\n",
        "#     param = {\n",
        "#         'iterations' : 500,\n",
        "#         \"learning_rate\": trial.suggest_float(\"learning_rate\", 0.01, 0.04, step=0.001),\n",
        "#         \"l2_leaf_reg\": trial.suggest_int(\"l2_leaf_reg\", 30, 70, step=10),\n",
        "#         \"colsample_bylevel\": trial.suggest_float(\"colsample_bylevel\", 0.3, 0.4, step=0.1),\n",
        "#         \"auto_class_weights\": trial.suggest_categorical(\"auto_class_weights\",\n",
        "#                                                         [#\"SqrtBalanced\",\n",
        "#                                                          #\"Balanced\",\n",
        "#                                                          \"None\"]),\n",
        "#         \"depth\": trial.suggest_int(\"depth\", 9, 10),\n",
        "#         \"boosting_type\": trial.suggest_categorical(\"boosting_type\", [#\"Ordered\",\n",
        "#                                                                      \"Plain\"]),\n",
        "#         \"bootstrap_type\": trial.suggest_categorical(\"bootstrap_type\",\n",
        "#                                                               [#\"Bayesian\",\n",
        "#                                                                \"Bernoulli\",\n",
        "#                                                                #\"MVS\"\n",
        "#                                                                ]),\n",
        "#         \"used_ram_limit\": \"10gb\",\n",
        "#         \"eval_metric\": \"Accuracy\", # Тоже стоит заранее определиться\n",
        "#         # 'loss_function': 'MultiClass'\n",
        "#     }\n",
        "\n",
        "\n",
        "#     if param[\"bootstrap_type\"] == \"Bayesian\":\n",
        "#         param[\"bagging_temperature\"] = trial.suggest_float(\"bagging_temperature\", 0, 10)\n",
        "\n",
        "#     elif param[\"bootstrap_type\"] == \"Bernoulli\":\n",
        "#         param[\"subsample\"] = trial.suggest_float(\"subsample\", 0.1, 1)\n",
        "\n",
        "\n",
        "#     clf = CatBoostClassifier(\n",
        "#         **param,\n",
        "#         thread_count=-1,\n",
        "#         random_seed=RND_STATE,\n",
        "#         text_features=text_features)\n",
        "#     #  Создаем объект callback\n",
        "#     pruning_callback = CatBoostPruningCallback(trial, \"Accuracy\")\n",
        "\n",
        "#     clf.fit(\n",
        "#         X_train,\n",
        "#         y_train,\n",
        "#         eval_set=(X_val, y_val),\n",
        "#         verbose=0,\n",
        "#         plot=False,\n",
        "#         early_stopping_rounds=5,\n",
        "#         callbacks=[pruning_callback],\n",
        "#     )\n",
        "\n",
        "#     # запускаем процесс прунинга\n",
        "#     pruning_callback.check_pruned()\n",
        "\n",
        "#     y_pred = clf.predict(X_val)\n",
        "#     return clf, y_pred"
      ]
    },
    {
      "cell_type": "code",
      "execution_count": null,
      "metadata": {
        "id": "jGZcNzAAl1-4"
      },
      "outputs": [],
      "source": [
        "# def objective(trial, return_models=False):\n",
        "#     n_splits = 3\n",
        "#     kf = KFold(n_splits=n_splits, shuffle=True, random_state=RND_STATE)\n",
        "\n",
        "#     scores_simple_acc, scores_balanced_acc, models = [], [], []\n",
        "\n",
        "#     for train_idx, valid_idx in kf.split(X_train):\n",
        "#         train_data = X_train.iloc[train_idx, :], y_train.iloc[train_idx]\n",
        "#         valid_data = X_train.iloc[valid_idx, :], y_train.iloc[valid_idx]\n",
        "\n",
        "#         # Подаем trials для перебора\n",
        "#         model, y_pred = fit_catboost(trial, train_data, valid_data) # Определили выше\n",
        "\n",
        "#         # scores_simple_acc.append(accuracy_score(y_pred, valid_data[1]))\n",
        "#         scores_balanced_acc.append(balanced_accuracy_score(y_pred, valid_data[1]))\n",
        "#         models.append(model)\n",
        "#         break\n",
        "\n",
        "#     result = np.mean(scores_balanced_acc)\n",
        "#     # result = scores_balanced_acc\n",
        "#     print(f'result = {result}')\n",
        "\n",
        "#     if return_models:\n",
        "#         return result, models\n",
        "#     else:\n",
        "#         return result"
      ]
    },
    {
      "cell_type": "code",
      "execution_count": null,
      "metadata": {
        "id": "-P1NO2xk4wjO"
      },
      "outputs": [],
      "source": [
        "# from optuna.integration import CatBoostPruningCallback, LightGBMPruningCallback, XGBoostPruningCallback\n",
        "# from optuna.integration.pytorch_lightning import PyTorchLightningPruningCallback\n",
        "# optuna.logging.set_verbosity(optuna.logging.WARNING)\n",
        "# # optuna.logging.set_verbosity(optuna.logging.ERROR)"
      ]
    },
    {
      "cell_type": "code",
      "execution_count": null,
      "metadata": {
        "id": "GPTcaJ9tmfq9"
      },
      "outputs": [],
      "source": [
        "# study = optuna.create_study(direction=\"maximize\",\n",
        "#                             pruner=optuna.pruners.MedianPruner(n_warmup_steps=5),\n",
        "#                             study_name=\"Catboost_clf_simple\",\n",
        "#                             sampler=sampler)\n",
        "# study.optimize(objective,\n",
        "#                n_trials=40,\n",
        "#                n_jobs=-1,\n",
        "#                show_progress_bar=True)"
      ]
    },
    {
      "cell_type": "code",
      "execution_count": null,
      "metadata": {
        "id": "v2oTQagFp2UY"
      },
      "outputs": [],
      "source": [
        "# print(\"Number of finished trials: {}\".format(len(study.trials)))\n",
        "# print(\"Best trial:\")\n",
        "# trial = study.best_trial\n",
        "# print(\"  Value: {}\".format(trial.value))\n",
        "# print(\"  Params: \")\n",
        "\n",
        "# for key, value in trial.params.items():\n",
        "#     print(\"    {}: {}\".format(key, value))"
      ]
    },
    {
      "cell_type": "code",
      "execution_count": null,
      "metadata": {
        "id": "x2JU70ttp-Ly"
      },
      "outputs": [],
      "source": [
        "# valid_scores, models = objective(\n",
        "#     optuna.trial.FixedTrial(study.best_params),\n",
        "#     return_models=True,\n",
        "# )"
      ]
    },
    {
      "cell_type": "code",
      "execution_count": null,
      "metadata": {
        "id": "1Su0ub6YqDj1"
      },
      "outputs": [],
      "source": [
        "# # История изменения от числа испытаний\n",
        "# optuna.visualization.plot_optimization_history(study)"
      ]
    },
    {
      "cell_type": "code",
      "execution_count": null,
      "metadata": {
        "id": "vOTaJmfrUQC5"
      },
      "outputs": [],
      "source": [
        "# params = ['learning_rate',\n",
        "#           'l2_leaf_reg',\n",
        "#           'colsample_bylevel',\n",
        "#           'auto_class_weights',\n",
        "#           'depth',\n",
        "#           'bootstrap_type',\n",
        "#           'boosting_type']\n",
        "\n",
        "# optuna.visualization.plot_slice(study, params=params, target_name='accuracy')"
      ]
    },
    {
      "cell_type": "markdown",
      "metadata": {
        "id": "U1_eZJwO3kGI"
      },
      "source": [
        "## Базовая модель после optuna"
      ]
    },
    {
      "cell_type": "markdown",
      "metadata": {
        "id": "FgQaTFxLAIo8"
      },
      "source": [
        "### pipeline variant"
      ]
    },
    {
      "cell_type": "code",
      "execution_count": null,
      "metadata": {
        "colab": {
          "base_uri": "https://localhost:8080/",
          "height": 424
        },
        "id": "7H9OPzq9ALcM",
        "outputId": "bbafc1b0-c2c0-4b07-d759-2e015dd31636"
      },
      "outputs": [
        {
          "name": "stdout",
          "output_type": "stream",
          "text": [
            "0:\tlearn: 0.7855508\ttest: 0.7911017\tbest: 0.7911017 (0)\ttotal: 21.7s\tremaining: 3h 8s\n",
            "50:\tlearn: 0.8118220\ttest: 0.8213559\tbest: 0.8213559 (47)\ttotal: 16m 10s\tremaining: 2h 22m 23s\n",
            "100:\tlearn: 0.8156780\ttest: 0.8262712\tbest: 0.8266102 (96)\ttotal: 32m 16s\tremaining: 2h 7m 30s\n",
            "150:\tlearn: 0.8198305\ttest: 0.8290678\tbest: 0.8291525 (149)\ttotal: 47m 45s\tremaining: 1h 50m 24s\n",
            "200:\tlearn: 0.8235593\ttest: 0.8314407\tbest: 0.8314407 (197)\ttotal: 1h 3m 19s\tremaining: 1h 34m 12s\n",
            "250:\tlearn: 0.8257627\ttest: 0.8338983\tbest: 0.8338983 (249)\ttotal: 1h 18m 50s\tremaining: 1h 18m 12s\n",
            "300:\tlearn: 0.8276271\ttest: 0.8358475\tbest: 0.8358475 (300)\ttotal: 1h 34m 18s\tremaining: 1h 2m 20s\n",
            "350:\tlearn: 0.8301695\ttest: 0.8376271\tbest: 0.8377119 (346)\ttotal: 1h 49m 36s\tremaining: 46m 31s\n",
            "400:\tlearn: 0.8328178\ttest: 0.8405085\tbest: 0.8405085 (399)\ttotal: 2h 5m 12s\tremaining: 30m 54s\n",
            "450:\tlearn: 0.8348729\ttest: 0.8428814\tbest: 0.8428814 (449)\ttotal: 2h 20m 57s\tremaining: 15m 18s\n",
            "499:\tlearn: 0.8368008\ttest: 0.8442373\tbest: 0.8444068 (485)\ttotal: 2h 36m 18s\tremaining: 0us\n",
            "\n",
            "bestTest = 0.8444067797\n",
            "bestIteration = 485\n",
            "\n",
            "Shrink model to first 486 iterations.\n"
          ]
        },
        {
          "data": {
            "text/html": [
              "<style>#sk-container-id-3 {color: black;background-color: white;}#sk-container-id-3 pre{padding: 0;}#sk-container-id-3 div.sk-toggleable {background-color: white;}#sk-container-id-3 label.sk-toggleable__label {cursor: pointer;display: block;width: 100%;margin-bottom: 0;padding: 0.3em;box-sizing: border-box;text-align: center;}#sk-container-id-3 label.sk-toggleable__label-arrow:before {content: \"▸\";float: left;margin-right: 0.25em;color: #696969;}#sk-container-id-3 label.sk-toggleable__label-arrow:hover:before {color: black;}#sk-container-id-3 div.sk-estimator:hover label.sk-toggleable__label-arrow:before {color: black;}#sk-container-id-3 div.sk-toggleable__content {max-height: 0;max-width: 0;overflow: hidden;text-align: left;background-color: #f0f8ff;}#sk-container-id-3 div.sk-toggleable__content pre {margin: 0.2em;color: black;border-radius: 0.25em;background-color: #f0f8ff;}#sk-container-id-3 input.sk-toggleable__control:checked~div.sk-toggleable__content {max-height: 200px;max-width: 100%;overflow: auto;}#sk-container-id-3 input.sk-toggleable__control:checked~label.sk-toggleable__label-arrow:before {content: \"▾\";}#sk-container-id-3 div.sk-estimator input.sk-toggleable__control:checked~label.sk-toggleable__label {background-color: #d4ebff;}#sk-container-id-3 div.sk-label input.sk-toggleable__control:checked~label.sk-toggleable__label {background-color: #d4ebff;}#sk-container-id-3 input.sk-hidden--visually {border: 0;clip: rect(1px 1px 1px 1px);clip: rect(1px, 1px, 1px, 1px);height: 1px;margin: -1px;overflow: hidden;padding: 0;position: absolute;width: 1px;}#sk-container-id-3 div.sk-estimator {font-family: monospace;background-color: #f0f8ff;border: 1px dotted black;border-radius: 0.25em;box-sizing: border-box;margin-bottom: 0.5em;}#sk-container-id-3 div.sk-estimator:hover {background-color: #d4ebff;}#sk-container-id-3 div.sk-parallel-item::after {content: \"\";width: 100%;border-bottom: 1px solid gray;flex-grow: 1;}#sk-container-id-3 div.sk-label:hover label.sk-toggleable__label {background-color: #d4ebff;}#sk-container-id-3 div.sk-serial::before {content: \"\";position: absolute;border-left: 1px solid gray;box-sizing: border-box;top: 0;bottom: 0;left: 50%;z-index: 0;}#sk-container-id-3 div.sk-serial {display: flex;flex-direction: column;align-items: center;background-color: white;padding-right: 0.2em;padding-left: 0.2em;position: relative;}#sk-container-id-3 div.sk-item {position: relative;z-index: 1;}#sk-container-id-3 div.sk-parallel {display: flex;align-items: stretch;justify-content: center;background-color: white;position: relative;}#sk-container-id-3 div.sk-item::before, #sk-container-id-3 div.sk-parallel-item::before {content: \"\";position: absolute;border-left: 1px solid gray;box-sizing: border-box;top: 0;bottom: 0;left: 50%;z-index: -1;}#sk-container-id-3 div.sk-parallel-item {display: flex;flex-direction: column;z-index: 1;position: relative;background-color: white;}#sk-container-id-3 div.sk-parallel-item:first-child::after {align-self: flex-end;width: 50%;}#sk-container-id-3 div.sk-parallel-item:last-child::after {align-self: flex-start;width: 50%;}#sk-container-id-3 div.sk-parallel-item:only-child::after {width: 0;}#sk-container-id-3 div.sk-dashed-wrapped {border: 1px dashed gray;margin: 0 0.4em 0.5em 0.4em;box-sizing: border-box;padding-bottom: 0.4em;background-color: white;}#sk-container-id-3 div.sk-label label {font-family: monospace;font-weight: bold;display: inline-block;line-height: 1.2em;}#sk-container-id-3 div.sk-label-container {text-align: center;}#sk-container-id-3 div.sk-container {/* jupyter's `normalize.less` sets `[hidden] { display: none; }` but bootstrap.min.css set `[hidden] { display: none !important; }` so we also need the `!important` here to be able to override the default hidden behavior on the sphinx rendered scikit-learn.org. See: https://github.com/scikit-learn/scikit-learn/issues/21755 */display: inline-block !important;position: relative;}#sk-container-id-3 div.sk-text-repr-fallback {display: none;}</style><div id=\"sk-container-id-3\" class=\"sk-top-container\"><div class=\"sk-text-repr-fallback\"><pre>Pipeline(steps=[(&#x27;col_selector&#x27;,\n",
              "                 &lt;__main__.CustomSelectColumns object at 0x7ba724e14f10&gt;),\n",
              "                (&#x27;Catboost_simple&#x27;,\n",
              "                 &lt;catboost.core.CatBoostClassifier object at 0x7ba724e14a90&gt;)])</pre><b>In a Jupyter environment, please rerun this cell to show the HTML representation or trust the notebook. <br />On GitHub, the HTML representation is unable to render, please try loading this page with nbviewer.org.</b></div><div class=\"sk-container\" hidden><div class=\"sk-item sk-dashed-wrapped\"><div class=\"sk-label-container\"><div class=\"sk-label sk-toggleable\"><input class=\"sk-toggleable__control sk-hidden--visually\" id=\"sk-estimator-id-7\" type=\"checkbox\" ><label for=\"sk-estimator-id-7\" class=\"sk-toggleable__label sk-toggleable__label-arrow\">Pipeline</label><div class=\"sk-toggleable__content\"><pre>Pipeline(steps=[(&#x27;col_selector&#x27;,\n",
              "                 &lt;__main__.CustomSelectColumns object at 0x7ba724e14f10&gt;),\n",
              "                (&#x27;Catboost_simple&#x27;,\n",
              "                 &lt;catboost.core.CatBoostClassifier object at 0x7ba724e14a90&gt;)])</pre></div></div></div><div class=\"sk-serial\"><div class=\"sk-item\"><div class=\"sk-estimator sk-toggleable\"><input class=\"sk-toggleable__control sk-hidden--visually\" id=\"sk-estimator-id-8\" type=\"checkbox\" ><label for=\"sk-estimator-id-8\" class=\"sk-toggleable__label sk-toggleable__label-arrow\">CustomSelectColumns</label><div class=\"sk-toggleable__content\"><pre>&lt;__main__.CustomSelectColumns object at 0x7ba724e14f10&gt;</pre></div></div></div><div class=\"sk-item\"><div class=\"sk-estimator sk-toggleable\"><input class=\"sk-toggleable__control sk-hidden--visually\" id=\"sk-estimator-id-9\" type=\"checkbox\" ><label for=\"sk-estimator-id-9\" class=\"sk-toggleable__label sk-toggleable__label-arrow\">CatBoostClassifier</label><div class=\"sk-toggleable__content\"><pre>&lt;catboost.core.CatBoostClassifier object at 0x7ba724e14a90&gt;</pre></div></div></div></div></div></div></div>"
            ],
            "text/plain": [
              "Pipeline(steps=[('col_selector',\n",
              "                 <__main__.CustomSelectColumns object at 0x7ba724e14f10>),\n",
              "                ('Catboost_simple',\n",
              "                 <catboost.core.CatBoostClassifier object at 0x7ba724e14a90>)])"
            ]
          },
          "execution_count": 45,
          "metadata": {},
          "output_type": "execute_result"
        }
      ],
      "source": [
        "Catboost_pipe = Pipeline([\n",
        "    ('col_selector', CustomSelectColumns(['content'])),\n",
        "    ('Catboost_simple', CatBoostClassifier(depth=9,\n",
        "                           l2_leaf_reg=50,\n",
        "                           learning_rate=0.018,\n",
        "                           colsample_bylevel=0.3,\n",
        "                           auto_class_weights='None',\n",
        "                           bootstrap_type= 'Bernoulli',\n",
        "                           boosting_type=\"Plain\",\n",
        "                           eval_metric= 'Accuracy',\n",
        "                           iterations=500,\n",
        "                           thread_count=-1,\n",
        "                           random_seed=RND_STATE,\n",
        "                           text_features=text_features))\n",
        "    ])\n",
        "\n",
        "Catboost_pipe.fit(X_train, y_train,\n",
        "                  Catboost_simple__text_features=['content'],\n",
        "                  Catboost_simple__verbose=50,\n",
        "                  Catboost_simple__early_stopping_rounds=200,\n",
        "                  Catboost_simple__eval_set=(X_val[['content']], y_val)\n",
        "                  )"
      ]
    },
    {
      "cell_type": "code",
      "execution_count": null,
      "metadata": {
        "colab": {
          "base_uri": "https://localhost:8080/"
        },
        "id": "xkLizw2IyXU5",
        "outputId": "9538cafc-dd56-4b6e-92cd-a896c9e9f4ed"
      },
      "outputs": [
        {
          "data": {
            "text/plain": [
              "{'learn': {'Accuracy': 0.8368008474576272, 'MultiClass': 0.4979845860401242},\n",
              " 'validation': {'Accuracy': 0.844406779661017,\n",
              "  'MultiClass': 0.4798322354607637}}"
            ]
          },
          "execution_count": 46,
          "metadata": {},
          "output_type": "execute_result"
        }
      ],
      "source": [
        "Catboost_pipe[-1].best_score_"
      ]
    },
    {
      "cell_type": "code",
      "execution_count": null,
      "metadata": {
        "id": "dnuEDVPBEM7e"
      },
      "outputs": [],
      "source": [
        "preds = Catboost_pipe.predict(test)\n",
        "df_sub['Catboost_topic'] = preds"
      ]
    },
    {
      "cell_type": "code",
      "execution_count": null,
      "metadata": {
        "id": "9_vpmR7cEYUF"
      },
      "outputs": [],
      "source": [
        "with open(f'Catboost_pipe_model_opt.pkl', \"wb\") as f:\n",
        "        pickle.dump(Catboost_pipe, f)"
      ]
    },
    {
      "cell_type": "markdown",
      "metadata": {
        "id": "07Qit9rtAExK"
      },
      "source": [
        "### pool variant"
      ]
    },
    {
      "cell_type": "code",
      "execution_count": null,
      "metadata": {
        "id": "Sm-d45Q83ura"
      },
      "outputs": [],
      "source": [
        "# %%time\n",
        "# clf_2 = CatBoostClassifier(depth=9,\n",
        "#                            l2_leaf_reg=50,\n",
        "#                            learning_rate=0.018,\n",
        "#                            colsample_bylevel=0.3,\n",
        "#                            auto_class_weights='None',\n",
        "#                            bootstrap_type= 'Bernoulli',\n",
        "#                            boosting_type=\"Plain\",\n",
        "#                            eval_metric= 'Accuracy',\n",
        "#                            iterations=500,\n",
        "#                            thread_count=-1,\n",
        "#                            random_seed=RND_STATE,\n",
        "#                            text_features=text_features\n",
        "#       )\n",
        "\n",
        "\n",
        "# train_dataset = Pool(data=X_train, label=y_train, text_features=['content'])\n",
        "# eval_dataset = Pool(data=X_val, label=y_val, text_features=['content'])\n",
        "\n",
        "# clf_2.fit(train_dataset,\n",
        "#         eval_set=eval_dataset,\n",
        "#         verbose=10,\n",
        "#         early_stopping_rounds=5)"
      ]
    },
    {
      "cell_type": "code",
      "execution_count": null,
      "metadata": {
        "id": "StxHmLVm5P5B"
      },
      "outputs": [],
      "source": [
        "# clf_2.best_score_"
      ]
    },
    {
      "cell_type": "code",
      "execution_count": null,
      "metadata": {
        "id": "_lWwQtgt-2vo"
      },
      "outputs": [],
      "source": [
        "# {'learn': {'Accuracy': 0.8531127037661608, 'MultiClass': 0.4443919425452108},\n",
        "#  'validation': {'Accuracy': 0.8643901068015739,\n",
        "#   'MultiClass': 0.40232220505661986}}"
      ]
    },
    {
      "cell_type": "code",
      "execution_count": null,
      "metadata": {
        "id": "Pgl14WklagNE"
      },
      "outputs": [],
      "source": [
        "# df_sub = pd.read_csv('/content/drive/MyDrive/competitions/NLP2.0/data/base_submission_news.csv')\n",
        "# preds = clf_1.predict(test)\n",
        "# df_sub['topic'] = preds\n",
        "# df_sub.to_csv('try_2.csv', index=False)"
      ]
    },
    {
      "cell_type": "markdown",
      "metadata": {
        "id": "0oqYOERP5yk7"
      },
      "source": [
        "## Simple models"
      ]
    },
    {
      "cell_type": "markdown",
      "metadata": {
        "id": "IZs5GX1oYMlf"
      },
      "source": [
        "### Предобработка текстов."
      ]
    },
    {
      "cell_type": "code",
      "execution_count": null,
      "metadata": {
        "id": "1ty_VXvs1jBA"
      },
      "outputs": [],
      "source": [
        "# segmenter = Segmenter()\n",
        "# morph_vocab = MorphVocab()\n",
        "# emb = NewsEmbedding()\n",
        "# morph_tagger = NewsMorphTagger(emb)"
      ]
    },
    {
      "cell_type": "code",
      "execution_count": null,
      "metadata": {
        "id": "zrYn21xN8z8P"
      },
      "outputs": [],
      "source": [
        "# stop_words = stopwords.words('russian')\n",
        "# stop_words.extend(['что', 'это', 'так',\n",
        "#                     'вот', 'быть', 'как',\n",
        "#                     'в', '—', 'к', 'за', 'из', 'из-за',\n",
        "#                     'на', 'ок', 'кстати',\n",
        "#                     'который', 'мочь', 'весь',\n",
        "#                     'еще', 'также', 'свой',\n",
        "#                     'ещё', 'самый', 'ул', 'комментарий',\n",
        "#                     'английский', 'язык'])"
      ]
    },
    {
      "cell_type": "markdown",
      "metadata": {
        "id": "RSF6JBB3YU7j"
      },
      "source": [
        "Функция для обработки текстов."
      ]
    },
    {
      "cell_type": "code",
      "execution_count": null,
      "metadata": {
        "id": "3vMvtX0c1mub"
      },
      "outputs": [],
      "source": [
        "# def text_prep(text) -> str:\n",
        "#     doc = Doc(text)\n",
        "#     doc.segment(segmenter)\n",
        "#     doc.tag_morph(morph_tagger)\n",
        "\n",
        "#     for token in doc.tokens:\n",
        "#         token.lemmatize(morph_vocab)\n",
        "\n",
        "#     lemmas = [_.lemma for _ in doc.tokens]\n",
        "#     words = [lemma for lemma in lemmas if lemma.isalpha() and len(lemma) > 2]\n",
        "#     filtered_words = [word for word in words if word not in stop_words]\n",
        "#     return \" \".join(filtered_words)"
      ]
    },
    {
      "cell_type": "markdown",
      "metadata": {
        "id": "nJE1N8zr6CX_"
      },
      "source": [
        "Обработаем тексты обучения и теста."
      ]
    },
    {
      "cell_type": "code",
      "execution_count": null,
      "metadata": {
        "colab": {
          "base_uri": "https://localhost:8080/"
        },
        "id": "7FIJMpvSi3m4",
        "outputId": "e821fd7d-051c-4848-9fce-9fdd89024a97"
      },
      "outputs": [
        {
          "output_type": "stream",
          "name": "stdout",
          "text": [
            "train shape = (39146, 2),  test shape = (26275, 1)\n",
            "train, test is null: (False, False)\n"
          ]
        }
      ],
      "source": [
        "# # Удаляем дубли\n",
        "# train.drop_duplicates(inplace=True)\n",
        "# # Удаляем пропуски\n",
        "# train.dropna(inplace=True)\n",
        "\n",
        "# print(f'train shape = {train.shape},  test shape = {test.shape}')\n",
        "# print(f'train, test is null: {train.isna().any().any(), test.isna().any().any()}')"
      ]
    },
    {
      "cell_type": "code",
      "execution_count": null,
      "metadata": {
        "colab": {
          "base_uri": "https://localhost:8080/"
        },
        "id": "VbuvEfZS6FBJ",
        "outputId": "c4d18ce9-fb19-4108-ddc2-1f2dbe2d075f"
      },
      "outputs": [
        {
          "output_type": "stream",
          "name": "stdout",
          "text": [
            "CPU times: user 39min 56s, sys: 23min 45s, total: 1h 3min 42s\n",
            "Wall time: 38min 41s\n"
          ]
        }
      ],
      "source": [
        "# %%time\n",
        "# train['content_clean'] = train.content.apply(text_prep)"
      ]
    },
    {
      "cell_type": "code",
      "execution_count": null,
      "metadata": {
        "id": "4rmzMhPjzh35"
      },
      "outputs": [],
      "source": [
        "# train.to_csv('train_02.01_prep.csv', index=False)"
      ]
    },
    {
      "cell_type": "code",
      "execution_count": null,
      "metadata": {
        "id": "zsRo-EUO6IHS"
      },
      "outputs": [],
      "source": [
        "# %%time\n",
        "# test['content_clean'] = test.content.apply(text_prep)"
      ]
    },
    {
      "cell_type": "markdown",
      "metadata": {
        "id": "9qvnIdOB6SUu"
      },
      "source": [
        "## Загрузка датасетов, после предобработки"
      ]
    },
    {
      "cell_type": "code",
      "execution_count": null,
      "metadata": {
        "id": "JuvJYjoIq89-"
      },
      "outputs": [],
      "source": [
        "# X_train, X_val, y_train, y_val = train_test_split(X.content_clean.str.split(),\n",
        "#                                                   y,#.values,\n",
        "#                                                   test_size=0.2,\n",
        "#                                                   random_state=RND_STATE)"
      ]
    },
    {
      "cell_type": "markdown",
      "metadata": {
        "id": "O7-FWd2J7Vul"
      },
      "source": [
        "## TFIDF"
      ]
    },
    {
      "cell_type": "code",
      "execution_count": null,
      "metadata": {
        "id": "ycAerJbx7X2K"
      },
      "outputs": [],
      "source": [
        "# Для получения вектора предложения используем tf_idf\n",
        "class TfidfEmbeddingVectorizer(object):\n",
        "    \"\"\"Get tfidf weighted vectors\"\"\"\n",
        "    def __init__(self, model):\n",
        "        self.word2vec = model.wv\n",
        "        self.word2weight = None\n",
        "        self.dim = model.vector_size\n",
        "\n",
        "    def fit(self, X, y):\n",
        "        tfidf = TfidfVectorizer(analyzer=lambda x: x)\n",
        "        tfidf.fit(X)\n",
        "        max_idf = max(tfidf.idf_)\n",
        "        self.word2weight = defaultdict(\n",
        "            lambda: max_idf,\n",
        "            [(w, tfidf.idf_[i]) for w, i in tfidf.vocabulary_.items()])\n",
        "\n",
        "        return self\n",
        "\n",
        "    def transform(self, X):\n",
        "        return np.array([\n",
        "                np.mean([self.word2vec.get_vector(w) * self.word2weight[w]\n",
        "                         for w in words if w in self.word2vec] or\n",
        "                        [np.zeros(self.dim)], axis=0)\n",
        "                for words in X\n",
        "            ])"
      ]
    },
    {
      "cell_type": "markdown",
      "metadata": {
        "id": "h-sc9voKpk-Y"
      },
      "source": [
        "## Word2Vec"
      ]
    },
    {
      "cell_type": "code",
      "execution_count": null,
      "metadata": {
        "id": "FawCTmRjridd"
      },
      "outputs": [],
      "source": [
        "# # X_train, X_val, y_train, y_val = train_test_split(X.content_clean.str.split(),\n",
        "# #                                                   y,#.values,\n",
        "# #                                                   test_size=0.2,\n",
        "# #                                                   random_state=RND_STATE)\n",
        "\n",
        "\n",
        "# model_w2v = Word2Vec(sentences=X_train,\n",
        "#                  vector_size=300,\n",
        "#                  min_count=5,\n",
        "#                  window=25,\n",
        "#                  seed=RND_STATE)"
      ]
    },
    {
      "cell_type": "code",
      "execution_count": null,
      "metadata": {
        "id": "d-yrLJfgntL-"
      },
      "outputs": [],
      "source": [
        "# with open(f'model_w2v.pkl', \"wb\") as f:\n",
        "#         pickle.dump(model_w2v, f)"
      ]
    },
    {
      "cell_type": "code",
      "execution_count": null,
      "metadata": {
        "id": "BClim49-zjiq"
      },
      "outputs": [],
      "source": [
        "with open(f\"/content/drive/MyDrive/competitions/NLP2.0/models/model_w2v.pkl\", \"rb\") as f:\n",
        "        model_w2v = pickle.load(f)"
      ]
    },
    {
      "cell_type": "markdown",
      "metadata": {
        "id": "Y8km51gIaAQK"
      },
      "source": [
        "## Логистическая регрессия"
      ]
    },
    {
      "cell_type": "markdown",
      "metadata": {
        "id": "sTQhPaJ7UPDc"
      },
      "source": [
        "### W2V"
      ]
    },
    {
      "cell_type": "code",
      "execution_count": null,
      "metadata": {
        "colab": {
          "base_uri": "https://localhost:8080/"
        },
        "id": "jSd_VApFCtCT",
        "outputId": "1f1619b6-93e8-4d2d-d02a-eba6aa45b1e6"
      },
      "outputs": [
        {
          "output_type": "stream",
          "name": "stdout",
          "text": [
            "              precision    recall  f1-score   support\n",
            "\n",
            "           0       0.84      0.87      0.85      3374\n",
            "           1       0.81      0.83      0.82       924\n",
            "           2       0.85      0.79      0.82       568\n",
            "           3       0.83      0.82      0.83       938\n",
            "           4       0.97      0.96      0.97       835\n",
            "           5       0.59      0.48      0.53        46\n",
            "           6       0.93      0.95      0.94       193\n",
            "           7       0.87      0.79      0.83       412\n",
            "           8       0.87      0.80      0.83       540\n",
            "\n",
            "    accuracy                           0.85      7830\n",
            "   macro avg       0.84      0.81      0.82      7830\n",
            "weighted avg       0.85      0.85      0.85      7830\n",
            "\n",
            "CPU times: user 3min 40s, sys: 24.3 s, total: 4min 5s\n",
            "Wall time: 3min 10s\n"
          ]
        }
      ],
      "source": [
        "# pipeline variant\n",
        "%%time\n",
        "pipe_log = Pipeline([('col_selector', CustomSelectColumns(['content_clean'], clean=True)),\n",
        "                 ('w2v_tfidf', TfidfEmbeddingVectorizer(model_w2v)),\n",
        "                 ('scaler', StandardScaler()),\n",
        "                 ('clf', LogisticRegression(random_state=RND_STATE,\n",
        "                                            max_iter=10000,\n",
        "                                            # class_weight='balanced'\n",
        "                                            ))])\n",
        "\n",
        "pipe_log.fit(X_train, y_train)\n",
        "\n",
        "print(classification_report(y_val, pipe_log.predict(X_val)))"
      ]
    },
    {
      "cell_type": "code",
      "execution_count": null,
      "metadata": {
        "id": "GJxIjvTJUbCv"
      },
      "outputs": [],
      "source": [
        "# simple variant\n",
        "# %%time\n",
        "# pipe_log = Pipeline([('w2v_tfidf', TfidfEmbeddingVectorizer(model_w2v)),\n",
        "#                  ('scaler', StandardScaler()),\n",
        "#                  ('clf', LogisticRegression(random_state=RND_STATE,\n",
        "#                                             max_iter=10000,\n",
        "#                                             # class_weight='balanced'\n",
        "#                                             ))])\n",
        "\n",
        "# pipe_log.fit(X_train, y_train)\n",
        "\n",
        "# print(classification_report(y_val, pipe_log.predict(X_val)))"
      ]
    },
    {
      "cell_type": "code",
      "execution_count": null,
      "metadata": {
        "id": "Tr_7Hcl_P1A8"
      },
      "outputs": [],
      "source": [
        "# precision    recall  f1-score   support\n",
        "\n",
        "#          0.0       0.78      0.82      0.80      4287\n",
        "#          1.0       0.77      0.77      0.77      2110\n",
        "#          2.0       0.77      0.68      0.72       981\n",
        "#          3.0       0.85      0.81      0.83      1264\n",
        "#          4.0       0.97      0.97      0.97      1321\n",
        "#          5.0       0.60      0.47      0.53        87\n",
        "#          6.0       0.95      0.96      0.95       203\n",
        "#          7.0       0.87      0.83      0.85       612\n",
        "#          8.0       0.80      0.78      0.79       935\n",
        "\n",
        "#     accuracy                           0.81     11800\n",
        "#    macro avg       0.82      0.79      0.80     11800\n",
        "# weighted avg       0.81      0.81      0.81     11800\n",
        "\n",
        "# CPU times: user 7min 54s, sys: 49.5 s, total: 8min 43s"
      ]
    },
    {
      "cell_type": "markdown",
      "metadata": {
        "id": "qPQC9XVlU05q"
      },
      "source": [
        "### Optuna для лог_рег"
      ]
    },
    {
      "cell_type": "code",
      "execution_count": null,
      "metadata": {
        "id": "ocV6TOHwU2Jo"
      },
      "outputs": [],
      "source": [
        "def fit_log_reg(trial, train, val):\n",
        "    X_train, y_train = train\n",
        "    X_val, y_val = val\n",
        "\n",
        "    param = {\"dual\": False,\n",
        "             \"C\": trial.suggest_float(\"C\", 2.5, 3, step=0.1),\n",
        "             \"solver\": trial.suggest_categorical(\"solver\",\n",
        "                                                 [\"sag\",\n",
        "                                                  #\"saga\",\n",
        "                                                  \"lbfgs\"\n",
        "                                                  ]),\n",
        "             \"random_state\": RND_STATE,\n",
        "             \"max_iter\": trial.suggest_int(\"max_iter\", 5500, 6300, step=200),\n",
        "             'multi_class': trial.suggest_categorical(\"multi_class\",\n",
        "                                                      [#'auto',\n",
        "                                                       'ovr',\n",
        "                                                       #'multinomial'\n",
        "                                                       ]),\n",
        "             'n_jobs': -1,\n",
        "             'verbose': 0\n",
        "    }\n",
        "\n",
        "    # print(f'param[\"solver\"] = {param[\"solver\"]}')\n",
        "    if param[\"solver\"] == \"saga\":\n",
        "        param[\"penalty\"] = trial.suggest_categorical(\"penalty\",\n",
        "                                             ['l1',\n",
        "                                              'l2', #'elasticnet',\n",
        "                                              None])\n",
        "    else:\n",
        "         param[\"penalty\"] = trial.suggest_categorical(\"penalty\",\n",
        "                                             ['l2',\n",
        "                                              #None\n",
        "                                              ])\n",
        "\n",
        "    clf = LogisticRegression(**param)\n",
        "\n",
        "    pipe = Pipeline([('w2v', TfidfEmbeddingVectorizer(model_w2v)),\n",
        "                    ('scaler', StandardScaler()),\n",
        "                    ('clf', clf)])\n",
        "\n",
        "    pipe.fit(X_train, y_train)\n",
        "\n",
        "    y_pred = pipe.predict(X_val)\n",
        "    return pipe, y_pred"
      ]
    },
    {
      "cell_type": "code",
      "execution_count": null,
      "metadata": {
        "id": "rZMTZo8SVCfs"
      },
      "outputs": [],
      "source": [
        "def objective_log(trial, return_models=False):\n",
        "    n_splits = 3\n",
        "    kf = KFold(n_splits=n_splits, shuffle=True, random_state=RND_STATE)\n",
        "\n",
        "    scores_simple_acc, scores_balanced_acc, models = [], [], []\n",
        "\n",
        "    for train_idx, valid_idx in kf.split(X_train.index):\n",
        "        train_data = X_train.iloc[train_idx], y_train.iloc[train_idx]\n",
        "        valid_data = X_train.iloc[valid_idx], y_train.iloc[valid_idx]\n",
        "\n",
        "        # Подаем trials для перебора\n",
        "        model, y_pred = fit_log_reg(trial, train_data, valid_data)\n",
        "\n",
        "        # scores_simple_acc.append(accuracy_score(y_pred, valid_data[1]))\n",
        "        scores_balanced_acc.append(balanced_accuracy_score(y_pred, valid_data[1]))\n",
        "        models.append(model)\n",
        "        break\n",
        "\n",
        "    result = np.mean(scores_balanced_acc)\n",
        "    # print(f'result = {result}')\n",
        "\n",
        "    if return_models:\n",
        "        return result, models\n",
        "    else:\n",
        "        return result"
      ]
    },
    {
      "cell_type": "code",
      "execution_count": null,
      "metadata": {
        "colab": {
          "base_uri": "https://localhost:8080/",
          "height": 1000,
          "referenced_widgets": [
            "ddf32bad96114bd7a4da71e19bee117f",
            "db30a7301bcf41e9be4bfd9c43de42dc",
            "29e475e429b54883aceda5ab67308c2a",
            "8c3d4745c29d49679d53fba216ee8c4d",
            "f0af9449764245e3bedd0fc388c29805",
            "52a21e6bf0774863b85960e7e51c14d7",
            "1c9c2955a9ca4f4aa4dc33627b69c99e",
            "a0e11c483c554d73a41c739168867798",
            "b7db1ecb863d4a688f89b9e1b89f9cd2",
            "27ead9acb2c04708950fc325d9d27302",
            "f485dc65c0c14d70b5321e681a651469"
          ]
        },
        "id": "D7a6DBekVFd1",
        "outputId": "209a74cb-210a-4dbe-dcbf-60e8314ac89f"
      },
      "outputs": [
        {
          "name": "stderr",
          "output_type": "stream",
          "text": [
            "[I 2024-01-02 15:41:48,183] A new study created in memory with name: Log_Reg_clf\n"
          ]
        },
        {
          "data": {
            "application/vnd.jupyter.widget-view+json": {
              "model_id": "ddf32bad96114bd7a4da71e19bee117f",
              "version_major": 2,
              "version_minor": 0
            },
            "text/plain": [
              "  0%|          | 0/10 [00:00<?, ?it/s]"
            ]
          },
          "metadata": {},
          "output_type": "display_data"
        },
        {
          "name": "stdout",
          "output_type": "stream",
          "text": [
            "[W 2024-01-02 16:04:47,776] Trial 0 failed with parameters: {'C': 2.3, 'solver': 'lbfgs', 'max_iter': 9010, 'multi_class': 'auto', 'penalty': None} because of the following error: KeyboardInterrupt().\n",
            "joblib.externals.loky.process_executor._RemoteTraceback: \n",
            "\"\"\"\n",
            "Traceback (most recent call last):\n",
            "  File \"/usr/local/lib/python3.10/dist-packages/joblib/externals/loky/process_executor.py\", line 463, in _process_worker\n",
            "    r = call_item()\n",
            "  File \"/usr/local/lib/python3.10/dist-packages/joblib/externals/loky/process_executor.py\", line 291, in __call__\n",
            "    return self.fn(*self.args, **self.kwargs)\n",
            "  File \"/usr/local/lib/python3.10/dist-packages/joblib/parallel.py\", line 589, in __call__\n",
            "    return [func(*args, **kwargs)\n",
            "  File \"/usr/local/lib/python3.10/dist-packages/joblib/parallel.py\", line 589, in <listcomp>\n",
            "    return [func(*args, **kwargs)\n",
            "  File \"/usr/local/lib/python3.10/dist-packages/sklearn/utils/parallel.py\", line 123, in __call__\n",
            "    return self.function(*args, **kwargs)\n",
            "  File \"/usr/local/lib/python3.10/dist-packages/sklearn/linear_model/_logistic.py\", line 450, in _logistic_regression_path\n",
            "    opt_res = optimize.minimize(\n",
            "  File \"/usr/local/lib/python3.10/dist-packages/scipy/optimize/_minimize.py\", line 710, in minimize\n",
            "    res = _minimize_lbfgsb(fun, x0, args, jac, bounds,\n",
            "  File \"/usr/local/lib/python3.10/dist-packages/scipy/optimize/_lbfgsb_py.py\", line 365, in _minimize_lbfgsb\n",
            "    f, g = func_and_grad(x)\n",
            "  File \"/usr/local/lib/python3.10/dist-packages/scipy/optimize/_differentiable_functions.py\", line 285, in fun_and_grad\n",
            "    self._update_fun()\n",
            "  File \"/usr/local/lib/python3.10/dist-packages/scipy/optimize/_differentiable_functions.py\", line 251, in _update_fun\n",
            "    self._update_fun_impl()\n",
            "  File \"/usr/local/lib/python3.10/dist-packages/scipy/optimize/_differentiable_functions.py\", line 155, in update_fun\n",
            "    self.f = fun_wrapped(self.x)\n",
            "  File \"/usr/local/lib/python3.10/dist-packages/scipy/optimize/_differentiable_functions.py\", line 137, in fun_wrapped\n",
            "    fx = fun(np.copy(x), *args)\n",
            "  File \"/usr/local/lib/python3.10/dist-packages/scipy/optimize/_optimize.py\", line 77, in __call__\n",
            "    self._compute_if_needed(x, *args)\n",
            "  File \"/usr/local/lib/python3.10/dist-packages/scipy/optimize/_optimize.py\", line 71, in _compute_if_needed\n",
            "    fg = self.fun(x, *args)\n",
            "  File \"/usr/local/lib/python3.10/dist-packages/sklearn/linear_model/_linear_loss.py\", line 274, in loss_gradient\n",
            "    weights, intercept, raw_prediction = self.weight_intercept_raw(coef, X)\n",
            "  File \"/usr/local/lib/python3.10/dist-packages/sklearn/linear_model/_linear_loss.py\", line 165, in weight_intercept_raw\n",
            "    raw_prediction = X @ weights.T + intercept  # ndarray, likely C-contiguous\n",
            "  File \"/usr/local/lib/python3.10/dist-packages/numpy/core/memmap.py\", line 318, in __array_wrap__\n",
            "    def __array_wrap__(self, arr, context=None):\n",
            "KeyboardInterrupt\n",
            "\"\"\"\n",
            "\n",
            "The above exception was the direct cause of the following exception:\n",
            "\n",
            "Traceback (most recent call last):\n",
            "  File \"/usr/local/lib/python3.10/dist-packages/optuna/study/_optimize.py\", line 200, in _run_trial\n",
            "    value_or_values = func(trial)\n",
            "  File \"<ipython-input-55-ce60c315e385>\", line 12, in objective_log\n",
            "    model, y_pred = fit_log_reg(trial, train_data, valid_data)\n",
            "  File \"<ipython-input-54-cdd2bb623ad6>\", line 39, in fit_log_reg\n",
            "    pipe.fit(X_train, y_train)\n",
            "  File \"/usr/local/lib/python3.10/dist-packages/sklearn/pipeline.py\", line 405, in fit\n",
            "    self._final_estimator.fit(Xt, y, **fit_params_last_step)\n",
            "  File \"/usr/local/lib/python3.10/dist-packages/sklearn/linear_model/_logistic.py\", line 1291, in fit\n",
            "    fold_coefs_ = Parallel(n_jobs=self.n_jobs, verbose=self.verbose, prefer=prefer)(\n",
            "  File \"/usr/local/lib/python3.10/dist-packages/sklearn/utils/parallel.py\", line 63, in __call__\n",
            "    return super().__call__(iterable_with_config)\n",
            "  File \"/usr/local/lib/python3.10/dist-packages/joblib/parallel.py\", line 1952, in __call__\n",
            "    return output if self.return_generator else list(output)\n",
            "  File \"/usr/local/lib/python3.10/dist-packages/joblib/parallel.py\", line 1595, in _get_outputs\n",
            "    yield from self._retrieve()\n",
            "  File \"/usr/local/lib/python3.10/dist-packages/joblib/parallel.py\", line 1699, in _retrieve\n",
            "    self._raise_error_fast()\n",
            "  File \"/usr/local/lib/python3.10/dist-packages/joblib/parallel.py\", line 1734, in _raise_error_fast\n",
            "    error_job.get_result(self.timeout)\n",
            "  File \"/usr/local/lib/python3.10/dist-packages/joblib/parallel.py\", line 736, in get_result\n",
            "    return self._return_or_raise()\n",
            "  File \"/usr/local/lib/python3.10/dist-packages/joblib/parallel.py\", line 754, in _return_or_raise\n",
            "    raise self._result\n",
            "KeyboardInterrupt\n",
            "[W 2024-01-02 16:04:47,804] Trial 0 failed with value None.\n"
          ]
        },
        {
          "ename": "KeyboardInterrupt",
          "evalue": "ignored",
          "output_type": "error",
          "traceback": [
            "\u001b[0;31m---------------------------------------------------------------------------\u001b[0m",
            "\u001b[0;31mKeyboardInterrupt\u001b[0m                         Traceback (most recent call last)",
            "\u001b[0;32m/usr/local/lib/python3.10/dist-packages/optuna/study/_optimize.py\u001b[0m in \u001b[0;36m_optimize\u001b[0;34m(study, func, n_trials, timeout, n_jobs, catch, callbacks, gc_after_trial, show_progress_bar)\u001b[0m\n\u001b[1;32m     99\u001b[0m                     \u001b[0;32mif\u001b[0m \u001b[0mlen\u001b[0m\u001b[0;34m(\u001b[0m\u001b[0mfutures\u001b[0m\u001b[0;34m)\u001b[0m \u001b[0;34m>=\u001b[0m \u001b[0mn_jobs\u001b[0m\u001b[0;34m:\u001b[0m\u001b[0;34m\u001b[0m\u001b[0;34m\u001b[0m\u001b[0m\n\u001b[0;32m--> 100\u001b[0;31m                         \u001b[0mcompleted\u001b[0m\u001b[0;34m,\u001b[0m \u001b[0mfutures\u001b[0m \u001b[0;34m=\u001b[0m \u001b[0mwait\u001b[0m\u001b[0;34m(\u001b[0m\u001b[0mfutures\u001b[0m\u001b[0;34m,\u001b[0m \u001b[0mreturn_when\u001b[0m\u001b[0;34m=\u001b[0m\u001b[0mFIRST_COMPLETED\u001b[0m\u001b[0;34m)\u001b[0m\u001b[0;34m\u001b[0m\u001b[0;34m\u001b[0m\u001b[0m\n\u001b[0m\u001b[1;32m    101\u001b[0m                         \u001b[0;31m# Raise if exception occurred in executing the completed futures.\u001b[0m\u001b[0;34m\u001b[0m\u001b[0;34m\u001b[0m\u001b[0m\n",
            "\u001b[0;32m/usr/lib/python3.10/concurrent/futures/_base.py\u001b[0m in \u001b[0;36mwait\u001b[0;34m(fs, timeout, return_when)\u001b[0m\n\u001b[1;32m    306\u001b[0m \u001b[0;34m\u001b[0m\u001b[0m\n\u001b[0;32m--> 307\u001b[0;31m     \u001b[0mwaiter\u001b[0m\u001b[0;34m.\u001b[0m\u001b[0mevent\u001b[0m\u001b[0;34m.\u001b[0m\u001b[0mwait\u001b[0m\u001b[0;34m(\u001b[0m\u001b[0mtimeout\u001b[0m\u001b[0;34m)\u001b[0m\u001b[0;34m\u001b[0m\u001b[0;34m\u001b[0m\u001b[0m\n\u001b[0m\u001b[1;32m    308\u001b[0m     \u001b[0;32mfor\u001b[0m \u001b[0mf\u001b[0m \u001b[0;32min\u001b[0m \u001b[0mfs\u001b[0m\u001b[0;34m:\u001b[0m\u001b[0;34m\u001b[0m\u001b[0;34m\u001b[0m\u001b[0m\n",
            "\u001b[0;32m/usr/lib/python3.10/threading.py\u001b[0m in \u001b[0;36mwait\u001b[0;34m(self, timeout)\u001b[0m\n\u001b[1;32m    606\u001b[0m             \u001b[0;32mif\u001b[0m \u001b[0;32mnot\u001b[0m \u001b[0msignaled\u001b[0m\u001b[0;34m:\u001b[0m\u001b[0;34m\u001b[0m\u001b[0;34m\u001b[0m\u001b[0m\n\u001b[0;32m--> 607\u001b[0;31m                 \u001b[0msignaled\u001b[0m \u001b[0;34m=\u001b[0m \u001b[0mself\u001b[0m\u001b[0;34m.\u001b[0m\u001b[0m_cond\u001b[0m\u001b[0;34m.\u001b[0m\u001b[0mwait\u001b[0m\u001b[0;34m(\u001b[0m\u001b[0mtimeout\u001b[0m\u001b[0;34m)\u001b[0m\u001b[0;34m\u001b[0m\u001b[0;34m\u001b[0m\u001b[0m\n\u001b[0m\u001b[1;32m    608\u001b[0m             \u001b[0;32mreturn\u001b[0m \u001b[0msignaled\u001b[0m\u001b[0;34m\u001b[0m\u001b[0;34m\u001b[0m\u001b[0m\n",
            "\u001b[0;32m/usr/lib/python3.10/threading.py\u001b[0m in \u001b[0;36mwait\u001b[0;34m(self, timeout)\u001b[0m\n\u001b[1;32m    319\u001b[0m             \u001b[0;32mif\u001b[0m \u001b[0mtimeout\u001b[0m \u001b[0;32mis\u001b[0m \u001b[0;32mNone\u001b[0m\u001b[0;34m:\u001b[0m\u001b[0;34m\u001b[0m\u001b[0;34m\u001b[0m\u001b[0m\n\u001b[0;32m--> 320\u001b[0;31m                 \u001b[0mwaiter\u001b[0m\u001b[0;34m.\u001b[0m\u001b[0macquire\u001b[0m\u001b[0;34m(\u001b[0m\u001b[0;34m)\u001b[0m\u001b[0;34m\u001b[0m\u001b[0;34m\u001b[0m\u001b[0m\n\u001b[0m\u001b[1;32m    321\u001b[0m                 \u001b[0mgotit\u001b[0m \u001b[0;34m=\u001b[0m \u001b[0;32mTrue\u001b[0m\u001b[0;34m\u001b[0m\u001b[0;34m\u001b[0m\u001b[0m\n",
            "\u001b[0;31mKeyboardInterrupt\u001b[0m: ",
            "\nDuring handling of the above exception, another exception occurred:\n",
            "\u001b[0;31mKeyboardInterrupt\u001b[0m                         Traceback (most recent call last)",
            "\u001b[0;32m<ipython-input-57-bf6540f6a1a4>\u001b[0m in \u001b[0;36m<cell line: 5>\u001b[0;34m()\u001b[0m\n\u001b[1;32m      3\u001b[0m                             \u001b[0msampler\u001b[0m\u001b[0;34m=\u001b[0m\u001b[0msampler\u001b[0m\u001b[0;34m,\u001b[0m\u001b[0;34m\u001b[0m\u001b[0;34m\u001b[0m\u001b[0m\n\u001b[1;32m      4\u001b[0m                             study_name=\"Log_Reg_clf\")\n\u001b[0;32m----> 5\u001b[0;31m study.optimize(objective_log,\n\u001b[0m\u001b[1;32m      6\u001b[0m                \u001b[0mn_trials\u001b[0m\u001b[0;34m=\u001b[0m\u001b[0;36m10\u001b[0m\u001b[0;34m,\u001b[0m\u001b[0;34m\u001b[0m\u001b[0;34m\u001b[0m\u001b[0m\n\u001b[1;32m      7\u001b[0m                \u001b[0mn_jobs\u001b[0m\u001b[0;34m=\u001b[0m\u001b[0;34m-\u001b[0m\u001b[0;36m1\u001b[0m\u001b[0;34m,\u001b[0m\u001b[0;34m\u001b[0m\u001b[0;34m\u001b[0m\u001b[0m\n",
            "\u001b[0;32m/usr/local/lib/python3.10/dist-packages/optuna/study/study.py\u001b[0m in \u001b[0;36moptimize\u001b[0;34m(self, func, n_trials, timeout, n_jobs, catch, callbacks, gc_after_trial, show_progress_bar)\u001b[0m\n\u001b[1;32m    449\u001b[0m                 \u001b[0mIf\u001b[0m \u001b[0mnested\u001b[0m \u001b[0minvocation\u001b[0m \u001b[0mof\u001b[0m \u001b[0mthis\u001b[0m \u001b[0mmethod\u001b[0m \u001b[0moccurs\u001b[0m\u001b[0;34m.\u001b[0m\u001b[0;34m\u001b[0m\u001b[0;34m\u001b[0m\u001b[0m\n\u001b[1;32m    450\u001b[0m         \"\"\"\n\u001b[0;32m--> 451\u001b[0;31m         _optimize(\n\u001b[0m\u001b[1;32m    452\u001b[0m             \u001b[0mstudy\u001b[0m\u001b[0;34m=\u001b[0m\u001b[0mself\u001b[0m\u001b[0;34m,\u001b[0m\u001b[0;34m\u001b[0m\u001b[0;34m\u001b[0m\u001b[0m\n\u001b[1;32m    453\u001b[0m             \u001b[0mfunc\u001b[0m\u001b[0;34m=\u001b[0m\u001b[0mfunc\u001b[0m\u001b[0;34m,\u001b[0m\u001b[0;34m\u001b[0m\u001b[0;34m\u001b[0m\u001b[0m\n",
            "\u001b[0;32m/usr/local/lib/python3.10/dist-packages/optuna/study/_optimize.py\u001b[0m in \u001b[0;36m_optimize\u001b[0;34m(study, func, n_trials, timeout, n_jobs, catch, callbacks, gc_after_trial, show_progress_bar)\u001b[0m\n\u001b[1;32m     83\u001b[0m             \u001b[0mfutures\u001b[0m\u001b[0;34m:\u001b[0m \u001b[0mSet\u001b[0m\u001b[0;34m[\u001b[0m\u001b[0mFuture\u001b[0m\u001b[0;34m]\u001b[0m \u001b[0;34m=\u001b[0m \u001b[0mset\u001b[0m\u001b[0;34m(\u001b[0m\u001b[0;34m)\u001b[0m\u001b[0;34m\u001b[0m\u001b[0;34m\u001b[0m\u001b[0m\n\u001b[1;32m     84\u001b[0m \u001b[0;34m\u001b[0m\u001b[0m\n\u001b[0;32m---> 85\u001b[0;31m             \u001b[0;32mwith\u001b[0m \u001b[0mThreadPoolExecutor\u001b[0m\u001b[0;34m(\u001b[0m\u001b[0mmax_workers\u001b[0m\u001b[0;34m=\u001b[0m\u001b[0mn_jobs\u001b[0m\u001b[0;34m)\u001b[0m \u001b[0;32mas\u001b[0m \u001b[0mexecutor\u001b[0m\u001b[0;34m:\u001b[0m\u001b[0;34m\u001b[0m\u001b[0;34m\u001b[0m\u001b[0m\n\u001b[0m\u001b[1;32m     86\u001b[0m                 \u001b[0;32mfor\u001b[0m \u001b[0mn_submitted_trials\u001b[0m \u001b[0;32min\u001b[0m \u001b[0mitertools\u001b[0m\u001b[0;34m.\u001b[0m\u001b[0mcount\u001b[0m\u001b[0;34m(\u001b[0m\u001b[0;34m)\u001b[0m\u001b[0;34m:\u001b[0m\u001b[0;34m\u001b[0m\u001b[0;34m\u001b[0m\u001b[0m\n\u001b[1;32m     87\u001b[0m                     \u001b[0;32mif\u001b[0m \u001b[0mstudy\u001b[0m\u001b[0;34m.\u001b[0m\u001b[0m_stop_flag\u001b[0m\u001b[0;34m:\u001b[0m\u001b[0;34m\u001b[0m\u001b[0;34m\u001b[0m\u001b[0m\n",
            "\u001b[0;32m/usr/lib/python3.10/concurrent/futures/_base.py\u001b[0m in \u001b[0;36m__exit__\u001b[0;34m(self, exc_type, exc_val, exc_tb)\u001b[0m\n\u001b[1;32m    647\u001b[0m \u001b[0;34m\u001b[0m\u001b[0m\n\u001b[1;32m    648\u001b[0m     \u001b[0;32mdef\u001b[0m \u001b[0m__exit__\u001b[0m\u001b[0;34m(\u001b[0m\u001b[0mself\u001b[0m\u001b[0;34m,\u001b[0m \u001b[0mexc_type\u001b[0m\u001b[0;34m,\u001b[0m \u001b[0mexc_val\u001b[0m\u001b[0;34m,\u001b[0m \u001b[0mexc_tb\u001b[0m\u001b[0;34m)\u001b[0m\u001b[0;34m:\u001b[0m\u001b[0;34m\u001b[0m\u001b[0;34m\u001b[0m\u001b[0m\n\u001b[0;32m--> 649\u001b[0;31m         \u001b[0mself\u001b[0m\u001b[0;34m.\u001b[0m\u001b[0mshutdown\u001b[0m\u001b[0;34m(\u001b[0m\u001b[0mwait\u001b[0m\u001b[0;34m=\u001b[0m\u001b[0;32mTrue\u001b[0m\u001b[0;34m)\u001b[0m\u001b[0;34m\u001b[0m\u001b[0;34m\u001b[0m\u001b[0m\n\u001b[0m\u001b[1;32m    650\u001b[0m         \u001b[0;32mreturn\u001b[0m \u001b[0;32mFalse\u001b[0m\u001b[0;34m\u001b[0m\u001b[0;34m\u001b[0m\u001b[0m\n\u001b[1;32m    651\u001b[0m \u001b[0;34m\u001b[0m\u001b[0m\n",
            "\u001b[0;32m/usr/lib/python3.10/concurrent/futures/thread.py\u001b[0m in \u001b[0;36mshutdown\u001b[0;34m(self, wait, cancel_futures)\u001b[0m\n\u001b[1;32m    233\u001b[0m         \u001b[0;32mif\u001b[0m \u001b[0mwait\u001b[0m\u001b[0;34m:\u001b[0m\u001b[0;34m\u001b[0m\u001b[0;34m\u001b[0m\u001b[0m\n\u001b[1;32m    234\u001b[0m             \u001b[0;32mfor\u001b[0m \u001b[0mt\u001b[0m \u001b[0;32min\u001b[0m \u001b[0mself\u001b[0m\u001b[0;34m.\u001b[0m\u001b[0m_threads\u001b[0m\u001b[0;34m:\u001b[0m\u001b[0;34m\u001b[0m\u001b[0;34m\u001b[0m\u001b[0m\n\u001b[0;32m--> 235\u001b[0;31m                 \u001b[0mt\u001b[0m\u001b[0;34m.\u001b[0m\u001b[0mjoin\u001b[0m\u001b[0;34m(\u001b[0m\u001b[0;34m)\u001b[0m\u001b[0;34m\u001b[0m\u001b[0;34m\u001b[0m\u001b[0m\n\u001b[0m\u001b[1;32m    236\u001b[0m     \u001b[0mshutdown\u001b[0m\u001b[0;34m.\u001b[0m\u001b[0m__doc__\u001b[0m \u001b[0;34m=\u001b[0m \u001b[0m_base\u001b[0m\u001b[0;34m.\u001b[0m\u001b[0mExecutor\u001b[0m\u001b[0;34m.\u001b[0m\u001b[0mshutdown\u001b[0m\u001b[0;34m.\u001b[0m\u001b[0m__doc__\u001b[0m\u001b[0;34m\u001b[0m\u001b[0;34m\u001b[0m\u001b[0m\n",
            "\u001b[0;32m/usr/lib/python3.10/threading.py\u001b[0m in \u001b[0;36mjoin\u001b[0;34m(self, timeout)\u001b[0m\n\u001b[1;32m   1094\u001b[0m \u001b[0;34m\u001b[0m\u001b[0m\n\u001b[1;32m   1095\u001b[0m         \u001b[0;32mif\u001b[0m \u001b[0mtimeout\u001b[0m \u001b[0;32mis\u001b[0m \u001b[0;32mNone\u001b[0m\u001b[0;34m:\u001b[0m\u001b[0;34m\u001b[0m\u001b[0;34m\u001b[0m\u001b[0m\n\u001b[0;32m-> 1096\u001b[0;31m             \u001b[0mself\u001b[0m\u001b[0;34m.\u001b[0m\u001b[0m_wait_for_tstate_lock\u001b[0m\u001b[0;34m(\u001b[0m\u001b[0;34m)\u001b[0m\u001b[0;34m\u001b[0m\u001b[0;34m\u001b[0m\u001b[0m\n\u001b[0m\u001b[1;32m   1097\u001b[0m         \u001b[0;32melse\u001b[0m\u001b[0;34m:\u001b[0m\u001b[0;34m\u001b[0m\u001b[0;34m\u001b[0m\u001b[0m\n\u001b[1;32m   1098\u001b[0m             \u001b[0;31m# the behavior of a negative timeout isn't documented, but\u001b[0m\u001b[0;34m\u001b[0m\u001b[0;34m\u001b[0m\u001b[0m\n",
            "\u001b[0;32m/usr/lib/python3.10/threading.py\u001b[0m in \u001b[0;36m_wait_for_tstate_lock\u001b[0;34m(self, block, timeout)\u001b[0m\n\u001b[1;32m   1114\u001b[0m \u001b[0;34m\u001b[0m\u001b[0m\n\u001b[1;32m   1115\u001b[0m         \u001b[0;32mtry\u001b[0m\u001b[0;34m:\u001b[0m\u001b[0;34m\u001b[0m\u001b[0;34m\u001b[0m\u001b[0m\n\u001b[0;32m-> 1116\u001b[0;31m             \u001b[0;32mif\u001b[0m \u001b[0mlock\u001b[0m\u001b[0;34m.\u001b[0m\u001b[0macquire\u001b[0m\u001b[0;34m(\u001b[0m\u001b[0mblock\u001b[0m\u001b[0;34m,\u001b[0m \u001b[0mtimeout\u001b[0m\u001b[0;34m)\u001b[0m\u001b[0;34m:\u001b[0m\u001b[0;34m\u001b[0m\u001b[0;34m\u001b[0m\u001b[0m\n\u001b[0m\u001b[1;32m   1117\u001b[0m                 \u001b[0mlock\u001b[0m\u001b[0;34m.\u001b[0m\u001b[0mrelease\u001b[0m\u001b[0;34m(\u001b[0m\u001b[0;34m)\u001b[0m\u001b[0;34m\u001b[0m\u001b[0;34m\u001b[0m\u001b[0m\n\u001b[1;32m   1118\u001b[0m                 \u001b[0mself\u001b[0m\u001b[0;34m.\u001b[0m\u001b[0m_stop\u001b[0m\u001b[0;34m(\u001b[0m\u001b[0;34m)\u001b[0m\u001b[0;34m\u001b[0m\u001b[0;34m\u001b[0m\u001b[0m\n",
            "\u001b[0;31mKeyboardInterrupt\u001b[0m: "
          ]
        }
      ],
      "source": [
        "study = optuna.create_study(direction=\"maximize\",\n",
        "                            pruner=optuna.pruners.MedianPruner(n_warmup_steps=5),\n",
        "                            sampler=sampler,\n",
        "                            study_name=\"Log_Reg_clf\")\n",
        "study.optimize(objective_log,\n",
        "               n_trials=10,\n",
        "               n_jobs=-1,\n",
        "               show_progress_bar=True)"
      ]
    },
    {
      "cell_type": "markdown",
      "source": [
        "### new begginings"
      ],
      "metadata": {
        "id": "FmtSXuYhw15F"
      }
    },
    {
      "cell_type": "code",
      "source": [
        "from mlxtend.feature_selection import ColumnSelector"
      ],
      "metadata": {
        "id": "YGPMxjakxp9b"
      },
      "execution_count": null,
      "outputs": []
    },
    {
      "cell_type": "code",
      "source": [
        "class CustomColumns():\n",
        "    '''\n",
        "    .. notes::\n",
        "    Класс для вытаскивания из датасета только требуемых колонок\n",
        "    '''\n",
        "    def __init__(self,\n",
        "                 fil_feats: list[str]=None, clean: bool=False):\n",
        "        # self.fil_feats = fil_feats\n",
        "        self.clean = clean\n",
        "\n",
        "        # print('Init done')\n",
        "    def fit(self, X: pd.DataFrame, y: pd.Series=None):\n",
        "        return self\n",
        "\n",
        "    def transform(self, X: pd.DataFrame, y: pd.Series=None) -> pd.DataFrame:\n",
        "        X_ = X.copy()\n",
        "        X_filtered = X_[self.fil_feats]\n",
        "        X_filtered = pd.DataFrame(X_filtered)\n",
        "        if self.clean:\n",
        "            return X_filtered[self.fil_feats[0]].str.split()\n",
        "        else:\n",
        "            return pd.DataFrame(X_filtered)"
      ],
      "metadata": {
        "colab": {
          "base_uri": "https://localhost:8080/"
        },
        "id": "ZfX5DqKYxtoO",
        "outputId": "bf34d65f-2dad-4731-a9f9-b4bf8a1bed47"
      },
      "execution_count": null,
      "outputs": [
        {
          "output_type": "execute_result",
          "data": {
            "text/plain": [
              "Index(['content', 'content_clean', 'mean_w2v', 'max_w2v', 'mean_tf', 'max_tf'], dtype='object')"
            ]
          },
          "metadata": {},
          "execution_count": 230
        }
      ]
    },
    {
      "cell_type": "code",
      "source": [
        "%%time\n",
        "pipe_log = Pipeline([('col_selector', ColumnSelector(cols=['content_clean'],drop_axis=True)),\n",
        "                     ('tfidf', TfidfVectorizer()),\n",
        "                     ('scaler', StandardScaler(with_mean=False)),\n",
        "                     ('clf', LogisticRegression(random_state=RND_STATE,\n",
        "                                            max_iter=10000,\n",
        "                                            # class_weight='balanced'\n",
        "                                            ))\n",
        "                 ])\n",
        "\n",
        "pipe_log.fit(X_train, y_train)\n",
        "\n",
        "print(classification_report(y_val, pipe_log.predict(X_val)))"
      ],
      "metadata": {
        "colab": {
          "base_uri": "https://localhost:8080/"
        },
        "id": "jDFGZPh81nGo",
        "outputId": "3455f36c-958a-4a08-9ad6-202c2084d34e"
      },
      "execution_count": null,
      "outputs": [
        {
          "output_type": "stream",
          "name": "stdout",
          "text": [
            "              precision    recall  f1-score   support\n",
            "\n",
            "           0       0.83      0.89      0.86      3374\n",
            "           1       0.82      0.84      0.83       924\n",
            "           2       0.84      0.80      0.82       568\n",
            "           3       0.87      0.83      0.85       938\n",
            "           4       0.97      0.96      0.97       835\n",
            "           5       0.84      0.35      0.49        46\n",
            "           6       0.95      0.91      0.93       193\n",
            "           7       0.90      0.76      0.83       412\n",
            "           8       0.89      0.75      0.81       540\n",
            "\n",
            "    accuracy                           0.86      7830\n",
            "   macro avg       0.88      0.79      0.82      7830\n",
            "weighted avg       0.86      0.86      0.86      7830\n",
            "\n",
            "CPU times: user 1min 48s, sys: 1min 7s, total: 2min 55s\n",
            "Wall time: 1min 53s\n"
          ]
        }
      ]
    },
    {
      "cell_type": "code",
      "source": [
        "%%time\n",
        "pipe_log = Pipeline([('col_selector', ColumnSelector(cols=['mean_w2v', 'max_w2v', 'mean_tf', 'max_tf'],drop_axis=True)),\n",
        "                 ('scaler', StandardScaler()),\n",
        "                 ('clf', LogisticRegression(random_state=RND_STATE,\n",
        "                                            max_iter=10000,\n",
        "                                            # class_weight='balanced'\n",
        "                                            ))\n",
        "                 ])\n",
        "\n",
        "pipe_log.fit(X_train, y_train)\n",
        "\n",
        "print(classification_report(y_val, pipe_log.predict(X_val)))"
      ],
      "metadata": {
        "colab": {
          "base_uri": "https://localhost:8080/"
        },
        "id": "SEfY5TGSw4Ed",
        "outputId": "f2194752-ce59-467e-9c82-e4ebc1cd7479"
      },
      "execution_count": null,
      "outputs": [
        {
          "output_type": "stream",
          "name": "stdout",
          "text": [
            "              precision    recall  f1-score   support\n",
            "\n",
            "           0       0.48      0.89      0.62      3374\n",
            "           1       0.49      0.32      0.39       924\n",
            "           2       0.00      0.00      0.00       568\n",
            "           3       0.32      0.03      0.05       938\n",
            "           4       0.41      0.40      0.40       835\n",
            "           5       0.00      0.00      0.00        46\n",
            "           6       0.00      0.00      0.00       193\n",
            "           7       0.00      0.00      0.00       412\n",
            "           8       0.20      0.01      0.02       540\n",
            "\n",
            "    accuracy                           0.47      7830\n",
            "   macro avg       0.21      0.18      0.16      7830\n",
            "weighted avg       0.36      0.47      0.36      7830\n",
            "\n",
            "CPU times: user 2.1 s, sys: 1.23 s, total: 3.33 s\n",
            "Wall time: 2.9 s\n"
          ]
        }
      ]
    },
    {
      "cell_type": "markdown",
      "metadata": {
        "id": "S_U4WqpLwIsX"
      },
      "source": [
        "## SVM"
      ]
    },
    {
      "cell_type": "markdown",
      "metadata": {
        "id": "N1mYiXemXrWM"
      },
      "source": [
        "### W2V"
      ]
    },
    {
      "cell_type": "code",
      "execution_count": null,
      "metadata": {
        "colab": {
          "base_uri": "https://localhost:8080/"
        },
        "id": "Xp3WtMbRwKX-",
        "outputId": "a222619a-aefd-466e-bf3b-2e2c34114de3"
      },
      "outputs": [
        {
          "output_type": "stream",
          "name": "stdout",
          "text": [
            "              precision    recall  f1-score   support\n",
            "\n",
            "           0       0.87      0.89      0.88      3374\n",
            "           1       0.83      0.87      0.85       924\n",
            "           2       0.86      0.81      0.84       568\n",
            "           3       0.86      0.86      0.86       938\n",
            "           4       0.97      0.98      0.97       835\n",
            "           5       0.76      0.35      0.48        46\n",
            "           6       0.96      0.92      0.94       193\n",
            "           7       0.90      0.86      0.88       412\n",
            "           8       0.90      0.82      0.86       540\n",
            "\n",
            "    accuracy                           0.88      7830\n",
            "   macro avg       0.88      0.82      0.84      7830\n",
            "weighted avg       0.88      0.88      0.88      7830\n",
            "\n",
            "CPU times: user 4min 4s, sys: 1.31 s, total: 4min 5s\n",
            "Wall time: 4min 8s\n"
          ]
        }
      ],
      "source": [
        "#pipeline version\n",
        "%%time\n",
        "pipe_svc = Pipeline([('col_selector', CustomSelectColumns(['content_clean'], clean=True)),\n",
        "                     ('w2v_tfidf', TfidfEmbeddingVectorizer(model_w2v)),\n",
        "                     ('scaler', StandardScaler()),\n",
        "                     ('clf', SVC(random_state=RND_STATE,\n",
        "                             max_iter=10000,\n",
        "                            #  class_weight='balanced'\n",
        "                             ))])\n",
        "\n",
        "pipe_svc.fit(X_train, y_train)\n",
        "\n",
        "print(classification_report(y_val, pipe_svc.predict(X_val)))"
      ]
    },
    {
      "cell_type": "markdown",
      "metadata": {
        "id": "yfD9of4TXhAr"
      },
      "source": [
        "### Optuna для svm"
      ]
    },
    {
      "cell_type": "code",
      "execution_count": null,
      "metadata": {
        "id": "RH76TtMhXiGt"
      },
      "outputs": [],
      "source": [
        "def fit_svm(trial, train, val):\n",
        "    X_train, y_train = train\n",
        "    X_val, y_val = val\n",
        "\n",
        "    param = {\"C\": trial.suggest_float(\"C\", 1, 1.5, step=0.5),\n",
        "             \"kernel\": trial.suggest_categorical(\"kernel\",\n",
        "                                                 [#\"linear\",\n",
        "                                                  \"poly\",\n",
        "                                                  #\"rbf\",\n",
        "                                                  #'sigmoid'\n",
        "                                                  ]),\n",
        "             \"random_state\": RND_STATE,\n",
        "             \"degree\": trial.suggest_int(\"degree\", 3, 4, step=1),\n",
        "             \"max_iter\": trial.suggest_int(\"max_iter\", 5000, 6000, step=1000),\n",
        "             'decision_function_shape': trial.suggest_categorical(\"decision_function_shape\",\n",
        "                                                      ['ovo',\n",
        "                                                      #  'ovr'\n",
        "                                                       ]),\n",
        "             'verbose': 0\n",
        "    }\n",
        "\n",
        "    clf = SVC(**param)\n",
        "\n",
        "    pipe = Pipeline([('w2v', TfidfEmbeddingVectorizer(model_w2v)),\n",
        "                    ('scaler', StandardScaler()),\n",
        "                    ('clf', clf)])\n",
        "\n",
        "    pipe.fit(X_train, y_train)\n",
        "\n",
        "    y_pred = pipe.predict(X_val)\n",
        "    return pipe, y_pred"
      ]
    },
    {
      "cell_type": "code",
      "execution_count": null,
      "metadata": {
        "id": "Y6gQZgwTXzbM"
      },
      "outputs": [],
      "source": [
        "def objective_svm(trial, return_models=False):\n",
        "    n_splits = 3\n",
        "    kf = KFold(n_splits=n_splits, shuffle=True, random_state=RND_STATE)\n",
        "\n",
        "    scores_simple_acc, scores_balanced_acc, models = [], [], []\n",
        "\n",
        "    for train_idx, valid_idx in kf.split(X_train.index):\n",
        "        train_data = X_train.iloc[train_idx], y_train.iloc[train_idx]\n",
        "        valid_data = X_train.iloc[valid_idx], y_train.iloc[valid_idx]\n",
        "\n",
        "        # Подаем trials для перебора\n",
        "        model, y_pred = fit_svm(trial, train_data, valid_data)\n",
        "\n",
        "        # scores_simple_acc.append(accuracy_score(y_pred, valid_data[1]))\n",
        "        scores_balanced_acc.append(balanced_accuracy_score(y_pred, valid_data[1]))\n",
        "        models.append(model)\n",
        "        break\n",
        "\n",
        "    result = np.mean(scores_balanced_acc)\n",
        "\n",
        "    if return_models:\n",
        "        return result, models\n",
        "    else:\n",
        "        return result"
      ]
    },
    {
      "cell_type": "code",
      "execution_count": null,
      "metadata": {
        "id": "PgxlaN_gX2k6"
      },
      "outputs": [],
      "source": [
        "study = optuna.create_study(direction=\"maximize\",\n",
        "                            pruner=optuna.pruners.MedianPruner(n_warmup_steps=5),\n",
        "                            sampler=sampler,\n",
        "                            study_name=\"SVM_clf\")\n",
        "study.optimize(objective_svm,\n",
        "               n_trials=4,\n",
        "               n_jobs=-1,\n",
        "               show_progress_bar=True)"
      ]
    },
    {
      "cell_type": "code",
      "execution_count": null,
      "metadata": {
        "id": "Jaws-U5dX5N8"
      },
      "outputs": [],
      "source": [
        "print(\"Number of finished trials: {}\".format(len(study.trials)))\n",
        "print(\"Best trial:\")\n",
        "trial = study.best_trial\n",
        "print(\"  Value: {}\".format(trial.value))\n",
        "print(\"  Params: \")\n",
        "\n",
        "for key, value in trial.params.items():\n",
        "    print(\"    {}: {}\".format(key, value))"
      ]
    },
    {
      "cell_type": "code",
      "execution_count": null,
      "metadata": {
        "id": "KqJaIamzX-A_"
      },
      "outputs": [],
      "source": [
        "# # История изменения от числа испытаний\n",
        "# optuna.visualization.plot_optimization_history(study)"
      ]
    },
    {
      "cell_type": "markdown",
      "source": [
        "### new beginnings"
      ],
      "metadata": {
        "id": "ZTB7wKsD2rcV"
      }
    },
    {
      "cell_type": "code",
      "source": [
        "# %%time\n",
        "# pipe_log = Pipeline([('col_selector', ColumnSelector(cols=['content_clean'],drop_axis=True)),\n",
        "#                      ('tfidf', TfidfVectorizer()),\n",
        "#                      ('scaler', StandardScaler(with_mean=False)),\n",
        "#                      ('clf', SVC(random_state=RND_STATE,\n",
        "#                                             max_iter=10000,\n",
        "#                                             # class_weight='balanced'\n",
        "#                                             ))\n",
        "#                  ])\n",
        "\n",
        "# pipe_log.fit(X_train, y_train)\n",
        "\n",
        "# print(classification_report(y_val, pipe_log.predict(X_val)))"
      ],
      "metadata": {
        "id": "cnAaW08u2vFX"
      },
      "execution_count": null,
      "outputs": []
    },
    {
      "cell_type": "markdown",
      "source": [
        "# Новый раздел"
      ],
      "metadata": {
        "id": "uFKCi--G-2cn"
      }
    },
    {
      "cell_type": "markdown",
      "metadata": {
        "id": "_QGdMHMPmK7j"
      },
      "source": [
        "# Stack"
      ]
    },
    {
      "cell_type": "code",
      "execution_count": null,
      "metadata": {
        "id": "QhKYtvtHmnYd"
      },
      "outputs": [],
      "source": [
        "# Некоторые модели для построение ансамбля\n",
        "from sklearn.ensemble import ExtraTreesClassifier, RandomForestClassifier, StackingClassifier"
      ]
    },
    {
      "cell_type": "code",
      "execution_count": null,
      "metadata": {
        "id": "zJQsUeqAVMn6"
      },
      "outputs": [],
      "source": [
        "Catboost_pipe = Pipeline([\n",
        "    ('col_selector', CustomSelectColumns(['content'])),\n",
        "    ('Catboost_simple', CatBoostClassifier(eval_metric='Accuracy',\n",
        "                           iterations=200,\n",
        "                           thread_count=-1,\n",
        "                           random_seed=RND_STATE,\n",
        "                           text_features=text_features))\n",
        "    ])"
      ]
    },
    {
      "cell_type": "code",
      "execution_count": null,
      "metadata": {
        "colab": {
          "base_uri": "https://localhost:8080/",
          "height": 267
        },
        "id": "70efN818mM5C",
        "outputId": "794c3cb1-536c-4312-d713-eb9b947a1936"
      },
      "outputs": [
        {
          "output_type": "execute_result",
          "data": {
            "text/plain": [
              "StackingClassifier(estimators=[('CatBoost',\n",
              "                                Pipeline(steps=[('col_selector',\n",
              "                                                 <__main__.CustomSelectColumns object at 0x7e2af34df6a0>),\n",
              "                                                ('Catboost_simple',\n",
              "                                                 <catboost.core.CatBoostClassifier object at 0x7e2af34dfc70>)])),\n",
              "                               ('SVC',\n",
              "                                Pipeline(steps=[('col_selector',\n",
              "                                                 <__main__.CustomSelectColumns object at 0x7e2ae6042770>),\n",
              "                                                ('w2v_tfidf',\n",
              "                                                 <__main__.TfidfEmbeddingVectorizer o...\n",
              "                                                     random_state=7575))])),\n",
              "                               ('Log_Reg',\n",
              "                                Pipeline(steps=[('col_selector',\n",
              "                                                 <__main__.CustomSelectColumns object at 0x7e2af34ded70>),\n",
              "                                                ('w2v_tfidf',\n",
              "                                                 <__main__.TfidfEmbeddingVectorizer object at 0x7e2af34df610>),\n",
              "                                                ('scaler', StandardScaler()),\n",
              "                                                ('clf',\n",
              "                                                 LogisticRegression(max_iter=10000,\n",
              "                                                                    random_state=7575))]))],\n",
              "                   final_estimator=LogisticRegression(max_iter=200,\n",
              "                                                      verbose=False),\n",
              "                   n_jobs=-1, verbose=False)"
            ],
            "text/html": [
              "<style>#sk-container-id-3 {color: black;background-color: white;}#sk-container-id-3 pre{padding: 0;}#sk-container-id-3 div.sk-toggleable {background-color: white;}#sk-container-id-3 label.sk-toggleable__label {cursor: pointer;display: block;width: 100%;margin-bottom: 0;padding: 0.3em;box-sizing: border-box;text-align: center;}#sk-container-id-3 label.sk-toggleable__label-arrow:before {content: \"▸\";float: left;margin-right: 0.25em;color: #696969;}#sk-container-id-3 label.sk-toggleable__label-arrow:hover:before {color: black;}#sk-container-id-3 div.sk-estimator:hover label.sk-toggleable__label-arrow:before {color: black;}#sk-container-id-3 div.sk-toggleable__content {max-height: 0;max-width: 0;overflow: hidden;text-align: left;background-color: #f0f8ff;}#sk-container-id-3 div.sk-toggleable__content pre {margin: 0.2em;color: black;border-radius: 0.25em;background-color: #f0f8ff;}#sk-container-id-3 input.sk-toggleable__control:checked~div.sk-toggleable__content {max-height: 200px;max-width: 100%;overflow: auto;}#sk-container-id-3 input.sk-toggleable__control:checked~label.sk-toggleable__label-arrow:before {content: \"▾\";}#sk-container-id-3 div.sk-estimator input.sk-toggleable__control:checked~label.sk-toggleable__label {background-color: #d4ebff;}#sk-container-id-3 div.sk-label input.sk-toggleable__control:checked~label.sk-toggleable__label {background-color: #d4ebff;}#sk-container-id-3 input.sk-hidden--visually {border: 0;clip: rect(1px 1px 1px 1px);clip: rect(1px, 1px, 1px, 1px);height: 1px;margin: -1px;overflow: hidden;padding: 0;position: absolute;width: 1px;}#sk-container-id-3 div.sk-estimator {font-family: monospace;background-color: #f0f8ff;border: 1px dotted black;border-radius: 0.25em;box-sizing: border-box;margin-bottom: 0.5em;}#sk-container-id-3 div.sk-estimator:hover {background-color: #d4ebff;}#sk-container-id-3 div.sk-parallel-item::after {content: \"\";width: 100%;border-bottom: 1px solid gray;flex-grow: 1;}#sk-container-id-3 div.sk-label:hover label.sk-toggleable__label {background-color: #d4ebff;}#sk-container-id-3 div.sk-serial::before {content: \"\";position: absolute;border-left: 1px solid gray;box-sizing: border-box;top: 0;bottom: 0;left: 50%;z-index: 0;}#sk-container-id-3 div.sk-serial {display: flex;flex-direction: column;align-items: center;background-color: white;padding-right: 0.2em;padding-left: 0.2em;position: relative;}#sk-container-id-3 div.sk-item {position: relative;z-index: 1;}#sk-container-id-3 div.sk-parallel {display: flex;align-items: stretch;justify-content: center;background-color: white;position: relative;}#sk-container-id-3 div.sk-item::before, #sk-container-id-3 div.sk-parallel-item::before {content: \"\";position: absolute;border-left: 1px solid gray;box-sizing: border-box;top: 0;bottom: 0;left: 50%;z-index: -1;}#sk-container-id-3 div.sk-parallel-item {display: flex;flex-direction: column;z-index: 1;position: relative;background-color: white;}#sk-container-id-3 div.sk-parallel-item:first-child::after {align-self: flex-end;width: 50%;}#sk-container-id-3 div.sk-parallel-item:last-child::after {align-self: flex-start;width: 50%;}#sk-container-id-3 div.sk-parallel-item:only-child::after {width: 0;}#sk-container-id-3 div.sk-dashed-wrapped {border: 1px dashed gray;margin: 0 0.4em 0.5em 0.4em;box-sizing: border-box;padding-bottom: 0.4em;background-color: white;}#sk-container-id-3 div.sk-label label {font-family: monospace;font-weight: bold;display: inline-block;line-height: 1.2em;}#sk-container-id-3 div.sk-label-container {text-align: center;}#sk-container-id-3 div.sk-container {/* jupyter's `normalize.less` sets `[hidden] { display: none; }` but bootstrap.min.css set `[hidden] { display: none !important; }` so we also need the `!important` here to be able to override the default hidden behavior on the sphinx rendered scikit-learn.org. See: https://github.com/scikit-learn/scikit-learn/issues/21755 */display: inline-block !important;position: relative;}#sk-container-id-3 div.sk-text-repr-fallback {display: none;}</style><div id=\"sk-container-id-3\" class=\"sk-top-container\"><div class=\"sk-text-repr-fallback\"><pre>StackingClassifier(estimators=[(&#x27;CatBoost&#x27;,\n",
              "                                Pipeline(steps=[(&#x27;col_selector&#x27;,\n",
              "                                                 &lt;__main__.CustomSelectColumns object at 0x7e2af34df6a0&gt;),\n",
              "                                                (&#x27;Catboost_simple&#x27;,\n",
              "                                                 &lt;catboost.core.CatBoostClassifier object at 0x7e2af34dfc70&gt;)])),\n",
              "                               (&#x27;SVC&#x27;,\n",
              "                                Pipeline(steps=[(&#x27;col_selector&#x27;,\n",
              "                                                 &lt;__main__.CustomSelectColumns object at 0x7e2ae6042770&gt;),\n",
              "                                                (&#x27;w2v_tfidf&#x27;,\n",
              "                                                 &lt;__main__.TfidfEmbeddingVectorizer o...\n",
              "                                                     random_state=7575))])),\n",
              "                               (&#x27;Log_Reg&#x27;,\n",
              "                                Pipeline(steps=[(&#x27;col_selector&#x27;,\n",
              "                                                 &lt;__main__.CustomSelectColumns object at 0x7e2af34ded70&gt;),\n",
              "                                                (&#x27;w2v_tfidf&#x27;,\n",
              "                                                 &lt;__main__.TfidfEmbeddingVectorizer object at 0x7e2af34df610&gt;),\n",
              "                                                (&#x27;scaler&#x27;, StandardScaler()),\n",
              "                                                (&#x27;clf&#x27;,\n",
              "                                                 LogisticRegression(max_iter=10000,\n",
              "                                                                    random_state=7575))]))],\n",
              "                   final_estimator=LogisticRegression(max_iter=200,\n",
              "                                                      verbose=False),\n",
              "                   n_jobs=-1, verbose=False)</pre><b>In a Jupyter environment, please rerun this cell to show the HTML representation or trust the notebook. <br />On GitHub, the HTML representation is unable to render, please try loading this page with nbviewer.org.</b></div><div class=\"sk-container\" hidden><div class=\"sk-item sk-dashed-wrapped\"><div class=\"sk-label-container\"><div class=\"sk-label sk-toggleable\"><input class=\"sk-toggleable__control sk-hidden--visually\" id=\"sk-estimator-id-17\" type=\"checkbox\" ><label for=\"sk-estimator-id-17\" class=\"sk-toggleable__label sk-toggleable__label-arrow\">StackingClassifier</label><div class=\"sk-toggleable__content\"><pre>StackingClassifier(estimators=[(&#x27;CatBoost&#x27;,\n",
              "                                Pipeline(steps=[(&#x27;col_selector&#x27;,\n",
              "                                                 &lt;__main__.CustomSelectColumns object at 0x7e2af34df6a0&gt;),\n",
              "                                                (&#x27;Catboost_simple&#x27;,\n",
              "                                                 &lt;catboost.core.CatBoostClassifier object at 0x7e2af34dfc70&gt;)])),\n",
              "                               (&#x27;SVC&#x27;,\n",
              "                                Pipeline(steps=[(&#x27;col_selector&#x27;,\n",
              "                                                 &lt;__main__.CustomSelectColumns object at 0x7e2ae6042770&gt;),\n",
              "                                                (&#x27;w2v_tfidf&#x27;,\n",
              "                                                 &lt;__main__.TfidfEmbeddingVectorizer o...\n",
              "                                                     random_state=7575))])),\n",
              "                               (&#x27;Log_Reg&#x27;,\n",
              "                                Pipeline(steps=[(&#x27;col_selector&#x27;,\n",
              "                                                 &lt;__main__.CustomSelectColumns object at 0x7e2af34ded70&gt;),\n",
              "                                                (&#x27;w2v_tfidf&#x27;,\n",
              "                                                 &lt;__main__.TfidfEmbeddingVectorizer object at 0x7e2af34df610&gt;),\n",
              "                                                (&#x27;scaler&#x27;, StandardScaler()),\n",
              "                                                (&#x27;clf&#x27;,\n",
              "                                                 LogisticRegression(max_iter=10000,\n",
              "                                                                    random_state=7575))]))],\n",
              "                   final_estimator=LogisticRegression(max_iter=200,\n",
              "                                                      verbose=False),\n",
              "                   n_jobs=-1, verbose=False)</pre></div></div></div><div class=\"sk-serial\"><div class=\"sk-item\"><div class=\"sk-parallel\"><div class=\"sk-parallel-item\"><div class=\"sk-item\"><div class=\"sk-label-container\"><div class=\"sk-label sk-toggleable\"><label>CatBoost</label></div></div><div class=\"sk-serial\"><div class=\"sk-item\"><div class=\"sk-serial\"><div class=\"sk-item\"><div class=\"sk-estimator sk-toggleable\"><input class=\"sk-toggleable__control sk-hidden--visually\" id=\"sk-estimator-id-18\" type=\"checkbox\" ><label for=\"sk-estimator-id-18\" class=\"sk-toggleable__label sk-toggleable__label-arrow\">CustomSelectColumns</label><div class=\"sk-toggleable__content\"><pre>&lt;__main__.CustomSelectColumns object at 0x7e2af34df6a0&gt;</pre></div></div></div><div class=\"sk-item\"><div class=\"sk-estimator sk-toggleable\"><input class=\"sk-toggleable__control sk-hidden--visually\" id=\"sk-estimator-id-19\" type=\"checkbox\" ><label for=\"sk-estimator-id-19\" class=\"sk-toggleable__label sk-toggleable__label-arrow\">CatBoostClassifier</label><div class=\"sk-toggleable__content\"><pre>&lt;catboost.core.CatBoostClassifier object at 0x7e2af34dfc70&gt;</pre></div></div></div></div></div></div></div></div><div class=\"sk-parallel-item\"><div class=\"sk-item\"><div class=\"sk-label-container\"><div class=\"sk-label sk-toggleable\"><label>SVC</label></div></div><div class=\"sk-serial\"><div class=\"sk-item\"><div class=\"sk-serial\"><div class=\"sk-item\"><div class=\"sk-estimator sk-toggleable\"><input class=\"sk-toggleable__control sk-hidden--visually\" id=\"sk-estimator-id-20\" type=\"checkbox\" ><label for=\"sk-estimator-id-20\" class=\"sk-toggleable__label sk-toggleable__label-arrow\">CustomSelectColumns</label><div class=\"sk-toggleable__content\"><pre>&lt;__main__.CustomSelectColumns object at 0x7e2ae6042770&gt;</pre></div></div></div><div class=\"sk-item\"><div class=\"sk-estimator sk-toggleable\"><input class=\"sk-toggleable__control sk-hidden--visually\" id=\"sk-estimator-id-21\" type=\"checkbox\" ><label for=\"sk-estimator-id-21\" class=\"sk-toggleable__label sk-toggleable__label-arrow\">TfidfEmbeddingVectorizer</label><div class=\"sk-toggleable__content\"><pre>&lt;__main__.TfidfEmbeddingVectorizer object at 0x7e2ae6042920&gt;</pre></div></div></div><div class=\"sk-item\"><div class=\"sk-estimator sk-toggleable\"><input class=\"sk-toggleable__control sk-hidden--visually\" id=\"sk-estimator-id-22\" type=\"checkbox\" ><label for=\"sk-estimator-id-22\" class=\"sk-toggleable__label sk-toggleable__label-arrow\">StandardScaler</label><div class=\"sk-toggleable__content\"><pre>StandardScaler()</pre></div></div></div><div class=\"sk-item\"><div class=\"sk-estimator sk-toggleable\"><input class=\"sk-toggleable__control sk-hidden--visually\" id=\"sk-estimator-id-23\" type=\"checkbox\" ><label for=\"sk-estimator-id-23\" class=\"sk-toggleable__label sk-toggleable__label-arrow\">SVC</label><div class=\"sk-toggleable__content\"><pre>SVC(max_iter=10000, random_state=7575)</pre></div></div></div></div></div></div></div></div><div class=\"sk-parallel-item\"><div class=\"sk-item\"><div class=\"sk-label-container\"><div class=\"sk-label sk-toggleable\"><label>Log_Reg</label></div></div><div class=\"sk-serial\"><div class=\"sk-item\"><div class=\"sk-serial\"><div class=\"sk-item\"><div class=\"sk-estimator sk-toggleable\"><input class=\"sk-toggleable__control sk-hidden--visually\" id=\"sk-estimator-id-24\" type=\"checkbox\" ><label for=\"sk-estimator-id-24\" class=\"sk-toggleable__label sk-toggleable__label-arrow\">CustomSelectColumns</label><div class=\"sk-toggleable__content\"><pre>&lt;__main__.CustomSelectColumns object at 0x7e2af34ded70&gt;</pre></div></div></div><div class=\"sk-item\"><div class=\"sk-estimator sk-toggleable\"><input class=\"sk-toggleable__control sk-hidden--visually\" id=\"sk-estimator-id-25\" type=\"checkbox\" ><label for=\"sk-estimator-id-25\" class=\"sk-toggleable__label sk-toggleable__label-arrow\">TfidfEmbeddingVectorizer</label><div class=\"sk-toggleable__content\"><pre>&lt;__main__.TfidfEmbeddingVectorizer object at 0x7e2af34df610&gt;</pre></div></div></div><div class=\"sk-item\"><div class=\"sk-estimator sk-toggleable\"><input class=\"sk-toggleable__control sk-hidden--visually\" id=\"sk-estimator-id-26\" type=\"checkbox\" ><label for=\"sk-estimator-id-26\" class=\"sk-toggleable__label sk-toggleable__label-arrow\">StandardScaler</label><div class=\"sk-toggleable__content\"><pre>StandardScaler()</pre></div></div></div><div class=\"sk-item\"><div class=\"sk-estimator sk-toggleable\"><input class=\"sk-toggleable__control sk-hidden--visually\" id=\"sk-estimator-id-27\" type=\"checkbox\" ><label for=\"sk-estimator-id-27\" class=\"sk-toggleable__label sk-toggleable__label-arrow\">LogisticRegression</label><div class=\"sk-toggleable__content\"><pre>LogisticRegression(max_iter=10000, random_state=7575)</pre></div></div></div></div></div></div></div></div></div></div><div class=\"sk-item\"><div class=\"sk-parallel\"><div class=\"sk-parallel-item\"><div class=\"sk-item\"><div class=\"sk-label-container\"><div class=\"sk-label sk-toggleable\"><label>final_estimator</label></div></div><div class=\"sk-serial\"><div class=\"sk-item\"><div class=\"sk-estimator sk-toggleable\"><input class=\"sk-toggleable__control sk-hidden--visually\" id=\"sk-estimator-id-28\" type=\"checkbox\" ><label for=\"sk-estimator-id-28\" class=\"sk-toggleable__label sk-toggleable__label-arrow\">LogisticRegression</label><div class=\"sk-toggleable__content\"><pre>LogisticRegression(max_iter=200, verbose=False)</pre></div></div></div></div></div></div></div></div></div></div></div></div>"
            ]
          },
          "metadata": {},
          "execution_count": 29
        }
      ],
      "source": [
        "# список базовых моделей\n",
        "estimators = [(\"CatBoost\", Catboost_pipe),\n",
        "              ('SVC', pipe_svc),\n",
        "              ('Log_Reg', pipe_log)]\n",
        "\n",
        "# в качестве мета-модели будем использовать LogisticRegression\n",
        "meta_model = StackingClassifier(\n",
        "    estimators=estimators,\n",
        "    final_estimator=LogisticRegression(verbose=False, max_iter=200),\n",
        "    n_jobs=-1,\n",
        "    verbose=False,\n",
        ")\n",
        "\n",
        "stacking_classifier = meta_model\n",
        "stacking_classifier"
      ]
    },
    {
      "cell_type": "code",
      "execution_count": null,
      "metadata": {
        "id": "8CqsAro_m9lE",
        "colab": {
          "base_uri": "https://localhost:8080/",
          "height": 267
        },
        "outputId": "2b80a4ed-96aa-4525-ba8a-0d0459790906"
      },
      "outputs": [
        {
          "output_type": "execute_result",
          "data": {
            "text/plain": [
              "StackingClassifier(estimators=[('CatBoost',\n",
              "                                Pipeline(steps=[('col_selector',\n",
              "                                                 <__main__.CustomSelectColumns object at 0x7e2af34df6a0>),\n",
              "                                                ('Catboost_simple',\n",
              "                                                 <catboost.core.CatBoostClassifier object at 0x7e2af34dfc70>)])),\n",
              "                               ('SVC',\n",
              "                                Pipeline(steps=[('col_selector',\n",
              "                                                 <__main__.CustomSelectColumns object at 0x7e2ae6042770>),\n",
              "                                                ('w2v_tfidf',\n",
              "                                                 <__main__.TfidfEmbeddingVectorizer o...\n",
              "                                                     random_state=7575))])),\n",
              "                               ('Log_Reg',\n",
              "                                Pipeline(steps=[('col_selector',\n",
              "                                                 <__main__.CustomSelectColumns object at 0x7e2af34ded70>),\n",
              "                                                ('w2v_tfidf',\n",
              "                                                 <__main__.TfidfEmbeddingVectorizer object at 0x7e2af34df610>),\n",
              "                                                ('scaler', StandardScaler()),\n",
              "                                                ('clf',\n",
              "                                                 LogisticRegression(max_iter=10000,\n",
              "                                                                    random_state=7575))]))],\n",
              "                   final_estimator=LogisticRegression(max_iter=200,\n",
              "                                                      verbose=False),\n",
              "                   n_jobs=-1, verbose=False)"
            ],
            "text/html": [
              "<style>#sk-container-id-4 {color: black;background-color: white;}#sk-container-id-4 pre{padding: 0;}#sk-container-id-4 div.sk-toggleable {background-color: white;}#sk-container-id-4 label.sk-toggleable__label {cursor: pointer;display: block;width: 100%;margin-bottom: 0;padding: 0.3em;box-sizing: border-box;text-align: center;}#sk-container-id-4 label.sk-toggleable__label-arrow:before {content: \"▸\";float: left;margin-right: 0.25em;color: #696969;}#sk-container-id-4 label.sk-toggleable__label-arrow:hover:before {color: black;}#sk-container-id-4 div.sk-estimator:hover label.sk-toggleable__label-arrow:before {color: black;}#sk-container-id-4 div.sk-toggleable__content {max-height: 0;max-width: 0;overflow: hidden;text-align: left;background-color: #f0f8ff;}#sk-container-id-4 div.sk-toggleable__content pre {margin: 0.2em;color: black;border-radius: 0.25em;background-color: #f0f8ff;}#sk-container-id-4 input.sk-toggleable__control:checked~div.sk-toggleable__content {max-height: 200px;max-width: 100%;overflow: auto;}#sk-container-id-4 input.sk-toggleable__control:checked~label.sk-toggleable__label-arrow:before {content: \"▾\";}#sk-container-id-4 div.sk-estimator input.sk-toggleable__control:checked~label.sk-toggleable__label {background-color: #d4ebff;}#sk-container-id-4 div.sk-label input.sk-toggleable__control:checked~label.sk-toggleable__label {background-color: #d4ebff;}#sk-container-id-4 input.sk-hidden--visually {border: 0;clip: rect(1px 1px 1px 1px);clip: rect(1px, 1px, 1px, 1px);height: 1px;margin: -1px;overflow: hidden;padding: 0;position: absolute;width: 1px;}#sk-container-id-4 div.sk-estimator {font-family: monospace;background-color: #f0f8ff;border: 1px dotted black;border-radius: 0.25em;box-sizing: border-box;margin-bottom: 0.5em;}#sk-container-id-4 div.sk-estimator:hover {background-color: #d4ebff;}#sk-container-id-4 div.sk-parallel-item::after {content: \"\";width: 100%;border-bottom: 1px solid gray;flex-grow: 1;}#sk-container-id-4 div.sk-label:hover label.sk-toggleable__label {background-color: #d4ebff;}#sk-container-id-4 div.sk-serial::before {content: \"\";position: absolute;border-left: 1px solid gray;box-sizing: border-box;top: 0;bottom: 0;left: 50%;z-index: 0;}#sk-container-id-4 div.sk-serial {display: flex;flex-direction: column;align-items: center;background-color: white;padding-right: 0.2em;padding-left: 0.2em;position: relative;}#sk-container-id-4 div.sk-item {position: relative;z-index: 1;}#sk-container-id-4 div.sk-parallel {display: flex;align-items: stretch;justify-content: center;background-color: white;position: relative;}#sk-container-id-4 div.sk-item::before, #sk-container-id-4 div.sk-parallel-item::before {content: \"\";position: absolute;border-left: 1px solid gray;box-sizing: border-box;top: 0;bottom: 0;left: 50%;z-index: -1;}#sk-container-id-4 div.sk-parallel-item {display: flex;flex-direction: column;z-index: 1;position: relative;background-color: white;}#sk-container-id-4 div.sk-parallel-item:first-child::after {align-self: flex-end;width: 50%;}#sk-container-id-4 div.sk-parallel-item:last-child::after {align-self: flex-start;width: 50%;}#sk-container-id-4 div.sk-parallel-item:only-child::after {width: 0;}#sk-container-id-4 div.sk-dashed-wrapped {border: 1px dashed gray;margin: 0 0.4em 0.5em 0.4em;box-sizing: border-box;padding-bottom: 0.4em;background-color: white;}#sk-container-id-4 div.sk-label label {font-family: monospace;font-weight: bold;display: inline-block;line-height: 1.2em;}#sk-container-id-4 div.sk-label-container {text-align: center;}#sk-container-id-4 div.sk-container {/* jupyter's `normalize.less` sets `[hidden] { display: none; }` but bootstrap.min.css set `[hidden] { display: none !important; }` so we also need the `!important` here to be able to override the default hidden behavior on the sphinx rendered scikit-learn.org. See: https://github.com/scikit-learn/scikit-learn/issues/21755 */display: inline-block !important;position: relative;}#sk-container-id-4 div.sk-text-repr-fallback {display: none;}</style><div id=\"sk-container-id-4\" class=\"sk-top-container\"><div class=\"sk-text-repr-fallback\"><pre>StackingClassifier(estimators=[(&#x27;CatBoost&#x27;,\n",
              "                                Pipeline(steps=[(&#x27;col_selector&#x27;,\n",
              "                                                 &lt;__main__.CustomSelectColumns object at 0x7e2af34df6a0&gt;),\n",
              "                                                (&#x27;Catboost_simple&#x27;,\n",
              "                                                 &lt;catboost.core.CatBoostClassifier object at 0x7e2af34dfc70&gt;)])),\n",
              "                               (&#x27;SVC&#x27;,\n",
              "                                Pipeline(steps=[(&#x27;col_selector&#x27;,\n",
              "                                                 &lt;__main__.CustomSelectColumns object at 0x7e2ae6042770&gt;),\n",
              "                                                (&#x27;w2v_tfidf&#x27;,\n",
              "                                                 &lt;__main__.TfidfEmbeddingVectorizer o...\n",
              "                                                     random_state=7575))])),\n",
              "                               (&#x27;Log_Reg&#x27;,\n",
              "                                Pipeline(steps=[(&#x27;col_selector&#x27;,\n",
              "                                                 &lt;__main__.CustomSelectColumns object at 0x7e2af34ded70&gt;),\n",
              "                                                (&#x27;w2v_tfidf&#x27;,\n",
              "                                                 &lt;__main__.TfidfEmbeddingVectorizer object at 0x7e2af34df610&gt;),\n",
              "                                                (&#x27;scaler&#x27;, StandardScaler()),\n",
              "                                                (&#x27;clf&#x27;,\n",
              "                                                 LogisticRegression(max_iter=10000,\n",
              "                                                                    random_state=7575))]))],\n",
              "                   final_estimator=LogisticRegression(max_iter=200,\n",
              "                                                      verbose=False),\n",
              "                   n_jobs=-1, verbose=False)</pre><b>In a Jupyter environment, please rerun this cell to show the HTML representation or trust the notebook. <br />On GitHub, the HTML representation is unable to render, please try loading this page with nbviewer.org.</b></div><div class=\"sk-container\" hidden><div class=\"sk-item sk-dashed-wrapped\"><div class=\"sk-label-container\"><div class=\"sk-label sk-toggleable\"><input class=\"sk-toggleable__control sk-hidden--visually\" id=\"sk-estimator-id-29\" type=\"checkbox\" ><label for=\"sk-estimator-id-29\" class=\"sk-toggleable__label sk-toggleable__label-arrow\">StackingClassifier</label><div class=\"sk-toggleable__content\"><pre>StackingClassifier(estimators=[(&#x27;CatBoost&#x27;,\n",
              "                                Pipeline(steps=[(&#x27;col_selector&#x27;,\n",
              "                                                 &lt;__main__.CustomSelectColumns object at 0x7e2af34df6a0&gt;),\n",
              "                                                (&#x27;Catboost_simple&#x27;,\n",
              "                                                 &lt;catboost.core.CatBoostClassifier object at 0x7e2af34dfc70&gt;)])),\n",
              "                               (&#x27;SVC&#x27;,\n",
              "                                Pipeline(steps=[(&#x27;col_selector&#x27;,\n",
              "                                                 &lt;__main__.CustomSelectColumns object at 0x7e2ae6042770&gt;),\n",
              "                                                (&#x27;w2v_tfidf&#x27;,\n",
              "                                                 &lt;__main__.TfidfEmbeddingVectorizer o...\n",
              "                                                     random_state=7575))])),\n",
              "                               (&#x27;Log_Reg&#x27;,\n",
              "                                Pipeline(steps=[(&#x27;col_selector&#x27;,\n",
              "                                                 &lt;__main__.CustomSelectColumns object at 0x7e2af34ded70&gt;),\n",
              "                                                (&#x27;w2v_tfidf&#x27;,\n",
              "                                                 &lt;__main__.TfidfEmbeddingVectorizer object at 0x7e2af34df610&gt;),\n",
              "                                                (&#x27;scaler&#x27;, StandardScaler()),\n",
              "                                                (&#x27;clf&#x27;,\n",
              "                                                 LogisticRegression(max_iter=10000,\n",
              "                                                                    random_state=7575))]))],\n",
              "                   final_estimator=LogisticRegression(max_iter=200,\n",
              "                                                      verbose=False),\n",
              "                   n_jobs=-1, verbose=False)</pre></div></div></div><div class=\"sk-serial\"><div class=\"sk-item\"><div class=\"sk-parallel\"><div class=\"sk-parallel-item\"><div class=\"sk-item\"><div class=\"sk-label-container\"><div class=\"sk-label sk-toggleable\"><label>CatBoost</label></div></div><div class=\"sk-serial\"><div class=\"sk-item\"><div class=\"sk-serial\"><div class=\"sk-item\"><div class=\"sk-estimator sk-toggleable\"><input class=\"sk-toggleable__control sk-hidden--visually\" id=\"sk-estimator-id-30\" type=\"checkbox\" ><label for=\"sk-estimator-id-30\" class=\"sk-toggleable__label sk-toggleable__label-arrow\">CustomSelectColumns</label><div class=\"sk-toggleable__content\"><pre>&lt;__main__.CustomSelectColumns object at 0x7e2af34df6a0&gt;</pre></div></div></div><div class=\"sk-item\"><div class=\"sk-estimator sk-toggleable\"><input class=\"sk-toggleable__control sk-hidden--visually\" id=\"sk-estimator-id-31\" type=\"checkbox\" ><label for=\"sk-estimator-id-31\" class=\"sk-toggleable__label sk-toggleable__label-arrow\">CatBoostClassifier</label><div class=\"sk-toggleable__content\"><pre>&lt;catboost.core.CatBoostClassifier object at 0x7e2af34dfc70&gt;</pre></div></div></div></div></div></div></div></div><div class=\"sk-parallel-item\"><div class=\"sk-item\"><div class=\"sk-label-container\"><div class=\"sk-label sk-toggleable\"><label>SVC</label></div></div><div class=\"sk-serial\"><div class=\"sk-item\"><div class=\"sk-serial\"><div class=\"sk-item\"><div class=\"sk-estimator sk-toggleable\"><input class=\"sk-toggleable__control sk-hidden--visually\" id=\"sk-estimator-id-32\" type=\"checkbox\" ><label for=\"sk-estimator-id-32\" class=\"sk-toggleable__label sk-toggleable__label-arrow\">CustomSelectColumns</label><div class=\"sk-toggleable__content\"><pre>&lt;__main__.CustomSelectColumns object at 0x7e2ae6042770&gt;</pre></div></div></div><div class=\"sk-item\"><div class=\"sk-estimator sk-toggleable\"><input class=\"sk-toggleable__control sk-hidden--visually\" id=\"sk-estimator-id-33\" type=\"checkbox\" ><label for=\"sk-estimator-id-33\" class=\"sk-toggleable__label sk-toggleable__label-arrow\">TfidfEmbeddingVectorizer</label><div class=\"sk-toggleable__content\"><pre>&lt;__main__.TfidfEmbeddingVectorizer object at 0x7e2ae6042920&gt;</pre></div></div></div><div class=\"sk-item\"><div class=\"sk-estimator sk-toggleable\"><input class=\"sk-toggleable__control sk-hidden--visually\" id=\"sk-estimator-id-34\" type=\"checkbox\" ><label for=\"sk-estimator-id-34\" class=\"sk-toggleable__label sk-toggleable__label-arrow\">StandardScaler</label><div class=\"sk-toggleable__content\"><pre>StandardScaler()</pre></div></div></div><div class=\"sk-item\"><div class=\"sk-estimator sk-toggleable\"><input class=\"sk-toggleable__control sk-hidden--visually\" id=\"sk-estimator-id-35\" type=\"checkbox\" ><label for=\"sk-estimator-id-35\" class=\"sk-toggleable__label sk-toggleable__label-arrow\">SVC</label><div class=\"sk-toggleable__content\"><pre>SVC(max_iter=10000, random_state=7575)</pre></div></div></div></div></div></div></div></div><div class=\"sk-parallel-item\"><div class=\"sk-item\"><div class=\"sk-label-container\"><div class=\"sk-label sk-toggleable\"><label>Log_Reg</label></div></div><div class=\"sk-serial\"><div class=\"sk-item\"><div class=\"sk-serial\"><div class=\"sk-item\"><div class=\"sk-estimator sk-toggleable\"><input class=\"sk-toggleable__control sk-hidden--visually\" id=\"sk-estimator-id-36\" type=\"checkbox\" ><label for=\"sk-estimator-id-36\" class=\"sk-toggleable__label sk-toggleable__label-arrow\">CustomSelectColumns</label><div class=\"sk-toggleable__content\"><pre>&lt;__main__.CustomSelectColumns object at 0x7e2af34ded70&gt;</pre></div></div></div><div class=\"sk-item\"><div class=\"sk-estimator sk-toggleable\"><input class=\"sk-toggleable__control sk-hidden--visually\" id=\"sk-estimator-id-37\" type=\"checkbox\" ><label for=\"sk-estimator-id-37\" class=\"sk-toggleable__label sk-toggleable__label-arrow\">TfidfEmbeddingVectorizer</label><div class=\"sk-toggleable__content\"><pre>&lt;__main__.TfidfEmbeddingVectorizer object at 0x7e2af34df610&gt;</pre></div></div></div><div class=\"sk-item\"><div class=\"sk-estimator sk-toggleable\"><input class=\"sk-toggleable__control sk-hidden--visually\" id=\"sk-estimator-id-38\" type=\"checkbox\" ><label for=\"sk-estimator-id-38\" class=\"sk-toggleable__label sk-toggleable__label-arrow\">StandardScaler</label><div class=\"sk-toggleable__content\"><pre>StandardScaler()</pre></div></div></div><div class=\"sk-item\"><div class=\"sk-estimator sk-toggleable\"><input class=\"sk-toggleable__control sk-hidden--visually\" id=\"sk-estimator-id-39\" type=\"checkbox\" ><label for=\"sk-estimator-id-39\" class=\"sk-toggleable__label sk-toggleable__label-arrow\">LogisticRegression</label><div class=\"sk-toggleable__content\"><pre>LogisticRegression(max_iter=10000, random_state=7575)</pre></div></div></div></div></div></div></div></div></div></div><div class=\"sk-item\"><div class=\"sk-parallel\"><div class=\"sk-parallel-item\"><div class=\"sk-item\"><div class=\"sk-label-container\"><div class=\"sk-label sk-toggleable\"><label>final_estimator</label></div></div><div class=\"sk-serial\"><div class=\"sk-item\"><div class=\"sk-estimator sk-toggleable\"><input class=\"sk-toggleable__control sk-hidden--visually\" id=\"sk-estimator-id-40\" type=\"checkbox\" ><label for=\"sk-estimator-id-40\" class=\"sk-toggleable__label sk-toggleable__label-arrow\">LogisticRegression</label><div class=\"sk-toggleable__content\"><pre>LogisticRegression(max_iter=200, verbose=False)</pre></div></div></div></div></div></div></div></div></div></div></div></div>"
            ]
          },
          "metadata": {},
          "execution_count": 30
        }
      ],
      "source": [
        "%%time\n",
        "stacking_classifier.fit(X_train, y_train)"
      ]
    },
    {
      "cell_type": "code",
      "execution_count": null,
      "metadata": {
        "id": "iWvAu_JXoons",
        "colab": {
          "base_uri": "https://localhost:8080/"
        },
        "outputId": "9a79cbfd-333b-4464-a23f-4007f5a8bf23"
      },
      "outputs": [
        {
          "output_type": "execute_result",
          "data": {
            "text/plain": [
              "0.8594459859876837"
            ]
          },
          "metadata": {},
          "execution_count": 31
        }
      ],
      "source": [
        "preds_st = stacking_classifier.predict(X_val)\n",
        "balanced_accuracy_score(y_true=y_val, y_pred=preds_st)"
      ]
    },
    {
      "cell_type": "code",
      "source": [
        "# 0.854229941129818 - catboost + log_reg"
      ],
      "metadata": {
        "id": "w0kArneFZ_vH"
      },
      "execution_count": null,
      "outputs": []
    },
    {
      "cell_type": "code",
      "source": [
        "accuracy_score(y_true=y_val, y_pred=preds_st)"
      ],
      "metadata": {
        "colab": {
          "base_uri": "https://localhost:8080/"
        },
        "id": "4_sUdaDICaCN",
        "outputId": "672263a2-9f4b-4c38-b0df-6c911cc417db"
      },
      "execution_count": null,
      "outputs": [
        {
          "output_type": "execute_result",
          "data": {
            "text/plain": [
              "0.90242656449553"
            ]
          },
          "metadata": {},
          "execution_count": 36
        }
      ]
    },
    {
      "cell_type": "code",
      "execution_count": null,
      "metadata": {
        "id": "YOo2X7qrURY7"
      },
      "outputs": [],
      "source": [
        "df_sub = pd.read_csv('/content/drive/MyDrive/competitions/NLP2.0/data/base_submission_news.csv')\n",
        "preds = stacking_classifier.predict(test)\n",
        "df_sub['topic'] = preds\n",
        "df_sub.to_csv('try_5.csv', index=False)"
      ]
    },
    {
      "cell_type": "markdown",
      "source": [
        "# На всём датасете"
      ],
      "metadata": {
        "id": "E29b4EgAcMpc"
      }
    },
    {
      "cell_type": "code",
      "source": [
        "%%time\n",
        "stacking_classifier.fit(X, y)"
      ],
      "metadata": {
        "colab": {
          "base_uri": "https://localhost:8080/",
          "height": 302
        },
        "id": "7HEjOb3XcQBV",
        "outputId": "4b897456-a4cf-4084-e066-47723f208d27"
      },
      "execution_count": null,
      "outputs": [
        {
          "output_type": "stream",
          "name": "stdout",
          "text": [
            "CPU times: user 1min 10s, sys: 16.8 s, total: 1min 27s\n",
            "Wall time: 1h 38min 51s\n"
          ]
        },
        {
          "output_type": "execute_result",
          "data": {
            "text/plain": [
              "StackingClassifier(estimators=[('CatBoost',\n",
              "                                Pipeline(steps=[('col_selector',\n",
              "                                                 <__main__.CustomSelectColumns object at 0x7e2af34df6a0>),\n",
              "                                                ('Catboost_simple',\n",
              "                                                 <catboost.core.CatBoostClassifier object at 0x7e2af34dfc70>)])),\n",
              "                               ('SVC',\n",
              "                                Pipeline(steps=[('col_selector',\n",
              "                                                 <__main__.CustomSelectColumns object at 0x7e2ae6042770>),\n",
              "                                                ('w2v_tfidf',\n",
              "                                                 <__main__.TfidfEmbeddingVectorizer o...\n",
              "                                                     random_state=7575))])),\n",
              "                               ('Log_Reg',\n",
              "                                Pipeline(steps=[('col_selector',\n",
              "                                                 <__main__.CustomSelectColumns object at 0x7e2af34ded70>),\n",
              "                                                ('w2v_tfidf',\n",
              "                                                 <__main__.TfidfEmbeddingVectorizer object at 0x7e2af34df610>),\n",
              "                                                ('scaler', StandardScaler()),\n",
              "                                                ('clf',\n",
              "                                                 LogisticRegression(max_iter=10000,\n",
              "                                                                    random_state=7575))]))],\n",
              "                   final_estimator=LogisticRegression(max_iter=200,\n",
              "                                                      verbose=False),\n",
              "                   n_jobs=-1, verbose=False)"
            ],
            "text/html": [
              "<style>#sk-container-id-5 {color: black;background-color: white;}#sk-container-id-5 pre{padding: 0;}#sk-container-id-5 div.sk-toggleable {background-color: white;}#sk-container-id-5 label.sk-toggleable__label {cursor: pointer;display: block;width: 100%;margin-bottom: 0;padding: 0.3em;box-sizing: border-box;text-align: center;}#sk-container-id-5 label.sk-toggleable__label-arrow:before {content: \"▸\";float: left;margin-right: 0.25em;color: #696969;}#sk-container-id-5 label.sk-toggleable__label-arrow:hover:before {color: black;}#sk-container-id-5 div.sk-estimator:hover label.sk-toggleable__label-arrow:before {color: black;}#sk-container-id-5 div.sk-toggleable__content {max-height: 0;max-width: 0;overflow: hidden;text-align: left;background-color: #f0f8ff;}#sk-container-id-5 div.sk-toggleable__content pre {margin: 0.2em;color: black;border-radius: 0.25em;background-color: #f0f8ff;}#sk-container-id-5 input.sk-toggleable__control:checked~div.sk-toggleable__content {max-height: 200px;max-width: 100%;overflow: auto;}#sk-container-id-5 input.sk-toggleable__control:checked~label.sk-toggleable__label-arrow:before {content: \"▾\";}#sk-container-id-5 div.sk-estimator input.sk-toggleable__control:checked~label.sk-toggleable__label {background-color: #d4ebff;}#sk-container-id-5 div.sk-label input.sk-toggleable__control:checked~label.sk-toggleable__label {background-color: #d4ebff;}#sk-container-id-5 input.sk-hidden--visually {border: 0;clip: rect(1px 1px 1px 1px);clip: rect(1px, 1px, 1px, 1px);height: 1px;margin: -1px;overflow: hidden;padding: 0;position: absolute;width: 1px;}#sk-container-id-5 div.sk-estimator {font-family: monospace;background-color: #f0f8ff;border: 1px dotted black;border-radius: 0.25em;box-sizing: border-box;margin-bottom: 0.5em;}#sk-container-id-5 div.sk-estimator:hover {background-color: #d4ebff;}#sk-container-id-5 div.sk-parallel-item::after {content: \"\";width: 100%;border-bottom: 1px solid gray;flex-grow: 1;}#sk-container-id-5 div.sk-label:hover label.sk-toggleable__label {background-color: #d4ebff;}#sk-container-id-5 div.sk-serial::before {content: \"\";position: absolute;border-left: 1px solid gray;box-sizing: border-box;top: 0;bottom: 0;left: 50%;z-index: 0;}#sk-container-id-5 div.sk-serial {display: flex;flex-direction: column;align-items: center;background-color: white;padding-right: 0.2em;padding-left: 0.2em;position: relative;}#sk-container-id-5 div.sk-item {position: relative;z-index: 1;}#sk-container-id-5 div.sk-parallel {display: flex;align-items: stretch;justify-content: center;background-color: white;position: relative;}#sk-container-id-5 div.sk-item::before, #sk-container-id-5 div.sk-parallel-item::before {content: \"\";position: absolute;border-left: 1px solid gray;box-sizing: border-box;top: 0;bottom: 0;left: 50%;z-index: -1;}#sk-container-id-5 div.sk-parallel-item {display: flex;flex-direction: column;z-index: 1;position: relative;background-color: white;}#sk-container-id-5 div.sk-parallel-item:first-child::after {align-self: flex-end;width: 50%;}#sk-container-id-5 div.sk-parallel-item:last-child::after {align-self: flex-start;width: 50%;}#sk-container-id-5 div.sk-parallel-item:only-child::after {width: 0;}#sk-container-id-5 div.sk-dashed-wrapped {border: 1px dashed gray;margin: 0 0.4em 0.5em 0.4em;box-sizing: border-box;padding-bottom: 0.4em;background-color: white;}#sk-container-id-5 div.sk-label label {font-family: monospace;font-weight: bold;display: inline-block;line-height: 1.2em;}#sk-container-id-5 div.sk-label-container {text-align: center;}#sk-container-id-5 div.sk-container {/* jupyter's `normalize.less` sets `[hidden] { display: none; }` but bootstrap.min.css set `[hidden] { display: none !important; }` so we also need the `!important` here to be able to override the default hidden behavior on the sphinx rendered scikit-learn.org. See: https://github.com/scikit-learn/scikit-learn/issues/21755 */display: inline-block !important;position: relative;}#sk-container-id-5 div.sk-text-repr-fallback {display: none;}</style><div id=\"sk-container-id-5\" class=\"sk-top-container\"><div class=\"sk-text-repr-fallback\"><pre>StackingClassifier(estimators=[(&#x27;CatBoost&#x27;,\n",
              "                                Pipeline(steps=[(&#x27;col_selector&#x27;,\n",
              "                                                 &lt;__main__.CustomSelectColumns object at 0x7e2af34df6a0&gt;),\n",
              "                                                (&#x27;Catboost_simple&#x27;,\n",
              "                                                 &lt;catboost.core.CatBoostClassifier object at 0x7e2af34dfc70&gt;)])),\n",
              "                               (&#x27;SVC&#x27;,\n",
              "                                Pipeline(steps=[(&#x27;col_selector&#x27;,\n",
              "                                                 &lt;__main__.CustomSelectColumns object at 0x7e2ae6042770&gt;),\n",
              "                                                (&#x27;w2v_tfidf&#x27;,\n",
              "                                                 &lt;__main__.TfidfEmbeddingVectorizer o...\n",
              "                                                     random_state=7575))])),\n",
              "                               (&#x27;Log_Reg&#x27;,\n",
              "                                Pipeline(steps=[(&#x27;col_selector&#x27;,\n",
              "                                                 &lt;__main__.CustomSelectColumns object at 0x7e2af34ded70&gt;),\n",
              "                                                (&#x27;w2v_tfidf&#x27;,\n",
              "                                                 &lt;__main__.TfidfEmbeddingVectorizer object at 0x7e2af34df610&gt;),\n",
              "                                                (&#x27;scaler&#x27;, StandardScaler()),\n",
              "                                                (&#x27;clf&#x27;,\n",
              "                                                 LogisticRegression(max_iter=10000,\n",
              "                                                                    random_state=7575))]))],\n",
              "                   final_estimator=LogisticRegression(max_iter=200,\n",
              "                                                      verbose=False),\n",
              "                   n_jobs=-1, verbose=False)</pre><b>In a Jupyter environment, please rerun this cell to show the HTML representation or trust the notebook. <br />On GitHub, the HTML representation is unable to render, please try loading this page with nbviewer.org.</b></div><div class=\"sk-container\" hidden><div class=\"sk-item sk-dashed-wrapped\"><div class=\"sk-label-container\"><div class=\"sk-label sk-toggleable\"><input class=\"sk-toggleable__control sk-hidden--visually\" id=\"sk-estimator-id-41\" type=\"checkbox\" ><label for=\"sk-estimator-id-41\" class=\"sk-toggleable__label sk-toggleable__label-arrow\">StackingClassifier</label><div class=\"sk-toggleable__content\"><pre>StackingClassifier(estimators=[(&#x27;CatBoost&#x27;,\n",
              "                                Pipeline(steps=[(&#x27;col_selector&#x27;,\n",
              "                                                 &lt;__main__.CustomSelectColumns object at 0x7e2af34df6a0&gt;),\n",
              "                                                (&#x27;Catboost_simple&#x27;,\n",
              "                                                 &lt;catboost.core.CatBoostClassifier object at 0x7e2af34dfc70&gt;)])),\n",
              "                               (&#x27;SVC&#x27;,\n",
              "                                Pipeline(steps=[(&#x27;col_selector&#x27;,\n",
              "                                                 &lt;__main__.CustomSelectColumns object at 0x7e2ae6042770&gt;),\n",
              "                                                (&#x27;w2v_tfidf&#x27;,\n",
              "                                                 &lt;__main__.TfidfEmbeddingVectorizer o...\n",
              "                                                     random_state=7575))])),\n",
              "                               (&#x27;Log_Reg&#x27;,\n",
              "                                Pipeline(steps=[(&#x27;col_selector&#x27;,\n",
              "                                                 &lt;__main__.CustomSelectColumns object at 0x7e2af34ded70&gt;),\n",
              "                                                (&#x27;w2v_tfidf&#x27;,\n",
              "                                                 &lt;__main__.TfidfEmbeddingVectorizer object at 0x7e2af34df610&gt;),\n",
              "                                                (&#x27;scaler&#x27;, StandardScaler()),\n",
              "                                                (&#x27;clf&#x27;,\n",
              "                                                 LogisticRegression(max_iter=10000,\n",
              "                                                                    random_state=7575))]))],\n",
              "                   final_estimator=LogisticRegression(max_iter=200,\n",
              "                                                      verbose=False),\n",
              "                   n_jobs=-1, verbose=False)</pre></div></div></div><div class=\"sk-serial\"><div class=\"sk-item\"><div class=\"sk-parallel\"><div class=\"sk-parallel-item\"><div class=\"sk-item\"><div class=\"sk-label-container\"><div class=\"sk-label sk-toggleable\"><label>CatBoost</label></div></div><div class=\"sk-serial\"><div class=\"sk-item\"><div class=\"sk-serial\"><div class=\"sk-item\"><div class=\"sk-estimator sk-toggleable\"><input class=\"sk-toggleable__control sk-hidden--visually\" id=\"sk-estimator-id-42\" type=\"checkbox\" ><label for=\"sk-estimator-id-42\" class=\"sk-toggleable__label sk-toggleable__label-arrow\">CustomSelectColumns</label><div class=\"sk-toggleable__content\"><pre>&lt;__main__.CustomSelectColumns object at 0x7e2af34df6a0&gt;</pre></div></div></div><div class=\"sk-item\"><div class=\"sk-estimator sk-toggleable\"><input class=\"sk-toggleable__control sk-hidden--visually\" id=\"sk-estimator-id-43\" type=\"checkbox\" ><label for=\"sk-estimator-id-43\" class=\"sk-toggleable__label sk-toggleable__label-arrow\">CatBoostClassifier</label><div class=\"sk-toggleable__content\"><pre>&lt;catboost.core.CatBoostClassifier object at 0x7e2af34dfc70&gt;</pre></div></div></div></div></div></div></div></div><div class=\"sk-parallel-item\"><div class=\"sk-item\"><div class=\"sk-label-container\"><div class=\"sk-label sk-toggleable\"><label>SVC</label></div></div><div class=\"sk-serial\"><div class=\"sk-item\"><div class=\"sk-serial\"><div class=\"sk-item\"><div class=\"sk-estimator sk-toggleable\"><input class=\"sk-toggleable__control sk-hidden--visually\" id=\"sk-estimator-id-44\" type=\"checkbox\" ><label for=\"sk-estimator-id-44\" class=\"sk-toggleable__label sk-toggleable__label-arrow\">CustomSelectColumns</label><div class=\"sk-toggleable__content\"><pre>&lt;__main__.CustomSelectColumns object at 0x7e2ae6042770&gt;</pre></div></div></div><div class=\"sk-item\"><div class=\"sk-estimator sk-toggleable\"><input class=\"sk-toggleable__control sk-hidden--visually\" id=\"sk-estimator-id-45\" type=\"checkbox\" ><label for=\"sk-estimator-id-45\" class=\"sk-toggleable__label sk-toggleable__label-arrow\">TfidfEmbeddingVectorizer</label><div class=\"sk-toggleable__content\"><pre>&lt;__main__.TfidfEmbeddingVectorizer object at 0x7e2ae6042920&gt;</pre></div></div></div><div class=\"sk-item\"><div class=\"sk-estimator sk-toggleable\"><input class=\"sk-toggleable__control sk-hidden--visually\" id=\"sk-estimator-id-46\" type=\"checkbox\" ><label for=\"sk-estimator-id-46\" class=\"sk-toggleable__label sk-toggleable__label-arrow\">StandardScaler</label><div class=\"sk-toggleable__content\"><pre>StandardScaler()</pre></div></div></div><div class=\"sk-item\"><div class=\"sk-estimator sk-toggleable\"><input class=\"sk-toggleable__control sk-hidden--visually\" id=\"sk-estimator-id-47\" type=\"checkbox\" ><label for=\"sk-estimator-id-47\" class=\"sk-toggleable__label sk-toggleable__label-arrow\">SVC</label><div class=\"sk-toggleable__content\"><pre>SVC(max_iter=10000, random_state=7575)</pre></div></div></div></div></div></div></div></div><div class=\"sk-parallel-item\"><div class=\"sk-item\"><div class=\"sk-label-container\"><div class=\"sk-label sk-toggleable\"><label>Log_Reg</label></div></div><div class=\"sk-serial\"><div class=\"sk-item\"><div class=\"sk-serial\"><div class=\"sk-item\"><div class=\"sk-estimator sk-toggleable\"><input class=\"sk-toggleable__control sk-hidden--visually\" id=\"sk-estimator-id-48\" type=\"checkbox\" ><label for=\"sk-estimator-id-48\" class=\"sk-toggleable__label sk-toggleable__label-arrow\">CustomSelectColumns</label><div class=\"sk-toggleable__content\"><pre>&lt;__main__.CustomSelectColumns object at 0x7e2af34ded70&gt;</pre></div></div></div><div class=\"sk-item\"><div class=\"sk-estimator sk-toggleable\"><input class=\"sk-toggleable__control sk-hidden--visually\" id=\"sk-estimator-id-49\" type=\"checkbox\" ><label for=\"sk-estimator-id-49\" class=\"sk-toggleable__label sk-toggleable__label-arrow\">TfidfEmbeddingVectorizer</label><div class=\"sk-toggleable__content\"><pre>&lt;__main__.TfidfEmbeddingVectorizer object at 0x7e2af34df610&gt;</pre></div></div></div><div class=\"sk-item\"><div class=\"sk-estimator sk-toggleable\"><input class=\"sk-toggleable__control sk-hidden--visually\" id=\"sk-estimator-id-50\" type=\"checkbox\" ><label for=\"sk-estimator-id-50\" class=\"sk-toggleable__label sk-toggleable__label-arrow\">StandardScaler</label><div class=\"sk-toggleable__content\"><pre>StandardScaler()</pre></div></div></div><div class=\"sk-item\"><div class=\"sk-estimator sk-toggleable\"><input class=\"sk-toggleable__control sk-hidden--visually\" id=\"sk-estimator-id-51\" type=\"checkbox\" ><label for=\"sk-estimator-id-51\" class=\"sk-toggleable__label sk-toggleable__label-arrow\">LogisticRegression</label><div class=\"sk-toggleable__content\"><pre>LogisticRegression(max_iter=10000, random_state=7575)</pre></div></div></div></div></div></div></div></div></div></div><div class=\"sk-item\"><div class=\"sk-parallel\"><div class=\"sk-parallel-item\"><div class=\"sk-item\"><div class=\"sk-label-container\"><div class=\"sk-label sk-toggleable\"><label>final_estimator</label></div></div><div class=\"sk-serial\"><div class=\"sk-item\"><div class=\"sk-estimator sk-toggleable\"><input class=\"sk-toggleable__control sk-hidden--visually\" id=\"sk-estimator-id-52\" type=\"checkbox\" ><label for=\"sk-estimator-id-52\" class=\"sk-toggleable__label sk-toggleable__label-arrow\">LogisticRegression</label><div class=\"sk-toggleable__content\"><pre>LogisticRegression(max_iter=200, verbose=False)</pre></div></div></div></div></div></div></div></div></div></div></div></div>"
            ]
          },
          "metadata": {},
          "execution_count": 35
        }
      ]
    },
    {
      "cell_type": "code",
      "source": [
        "preds_st = stacking_classifier.predict(X_val)\n",
        "balanced_accuracy_score(y_true=y_val, y_pred=preds_st)"
      ],
      "metadata": {
        "colab": {
          "base_uri": "https://localhost:8080/"
        },
        "id": "n4OpebWzzDfS",
        "outputId": "ed74c404-b3ec-4554-cba7-0df3f41113d7"
      },
      "execution_count": null,
      "outputs": [
        {
          "output_type": "execute_result",
          "data": {
            "text/plain": [
              "0.9002567925976034"
            ]
          },
          "metadata": {},
          "execution_count": 37
        }
      ]
    },
    {
      "cell_type": "code",
      "source": [
        "accuracy_score(y_true=y_val, y_pred=preds_st)"
      ],
      "metadata": {
        "colab": {
          "base_uri": "https://localhost:8080/"
        },
        "id": "TPDz9NdazHpI",
        "outputId": "6220e6c8-c79f-4f9f-c840-4b12610b8268"
      },
      "execution_count": null,
      "outputs": [
        {
          "output_type": "execute_result",
          "data": {
            "text/plain": [
              "0.9173690932311622"
            ]
          },
          "metadata": {},
          "execution_count": 38
        }
      ]
    },
    {
      "cell_type": "code",
      "source": [
        "df_sub = pd.read_csv('/content/drive/MyDrive/competitions/NLP2.0/data/base_submission_news.csv')\n",
        "preds = stacking_classifier.predict(test)\n",
        "df_sub['topic'] = preds\n",
        "df_sub.to_csv('try_7.csv', index=False)"
      ],
      "metadata": {
        "id": "S4HFLn83zLHV"
      },
      "execution_count": null,
      "outputs": []
    },
    {
      "cell_type": "markdown",
      "source": [
        "# TAbnetCl"
      ],
      "metadata": {
        "id": "P10bbiu321FY"
      }
    },
    {
      "cell_type": "code",
      "source": [
        "!pip install pytorch-tabnet -q"
      ],
      "metadata": {
        "colab": {
          "base_uri": "https://localhost:8080/"
        },
        "id": "OCpAOH4d29b1",
        "outputId": "a7ad7f60-4c75-41bd-a41f-afde31f948b7"
      },
      "execution_count": null,
      "outputs": [
        {
          "output_type": "stream",
          "name": "stdout",
          "text": [
            "\u001b[?25l     \u001b[90m━━━━━━━━━━━━━━━━━━━━━━━━━━━━━━━━━━━━━━━━\u001b[0m \u001b[32m0.0/44.5 kB\u001b[0m \u001b[31m?\u001b[0m eta \u001b[36m-:--:--\u001b[0m\r\u001b[2K     \u001b[90m━━━━━━━━━━━━━━━━━━━━━━━━━━━━━━━━━━━━━━━━\u001b[0m \u001b[32m44.5/44.5 kB\u001b[0m \u001b[31m1.0 MB/s\u001b[0m eta \u001b[36m0:00:00\u001b[0m\n",
            "\u001b[?25h"
          ]
        }
      ]
    },
    {
      "cell_type": "code",
      "source": [
        "from pytorch_tabnet.tab_model import TabNetClassifier"
      ],
      "metadata": {
        "id": "_k72E6F120xU"
      },
      "execution_count": null,
      "outputs": []
    },
    {
      "cell_type": "code",
      "source": [
        "%%time\n",
        "TabNet_pipe = Pipeline([('col_selector', CustomSelectColumns(['content_clean'], clean=True)),\n",
        "                     ('w2v_tfidf', TfidfEmbeddingVectorizer(model_w2v)),\n",
        "                     ('scaler', StandardScaler()),\n",
        "                     ('clf', TabNetClassifier(n_steps=5))])\n",
        "\n",
        "TabNet_pipe.fit(X_train, y_train,\n",
        "                #  clf__eval_set=(X_val, y_val)\n",
        "                 )\n",
        "\n",
        "print(classification_report(y_val, TabNet_pipe.predict(X_val)))"
      ],
      "metadata": {
        "colab": {
          "base_uri": "https://localhost:8080/",
          "height": 159
        },
        "id": "Ml3OHRY23RHJ",
        "outputId": "59f34df6-2b98-4f75-8301-eb6e33b3e88f"
      },
      "execution_count": null,
      "outputs": [
        {
          "output_type": "error",
          "ename": "TypeError",
          "evalue": "ignored",
          "traceback": [
            "\u001b[0;31m---------------------------------------------------------------------------\u001b[0m",
            "\u001b[0;31mTypeError\u001b[0m                                 Traceback (most recent call last)",
            "\u001b[0;32m<timed exec>\u001b[0m in \u001b[0;36m<module>\u001b[0;34m\u001b[0m\n",
            "\u001b[0;31mTypeError\u001b[0m: TabModel.__init__() got an unexpected keyword argument 'max_epochs'"
          ]
        }
      ]
    },
    {
      "cell_type": "code",
      "source": [
        "TabNetClassifier( )"
      ],
      "metadata": {
        "id": "DFGaOKPU4vXH"
      },
      "execution_count": null,
      "outputs": []
    },
    {
      "cell_type": "markdown",
      "source": [
        "# Another embedding"
      ],
      "metadata": {
        "id": "CZYXINUt-cUX"
      }
    },
    {
      "cell_type": "code",
      "source": [
        "!pip install navec"
      ],
      "metadata": {
        "colab": {
          "base_uri": "https://localhost:8080/"
        },
        "id": "LS0GDWaX-fDB",
        "outputId": "424381af-a122-4dfc-e7e0-ead90aaa5c2d"
      },
      "execution_count": null,
      "outputs": [
        {
          "output_type": "stream",
          "name": "stdout",
          "text": [
            "Requirement already satisfied: navec in /usr/local/lib/python3.10/dist-packages (0.10.0)\n",
            "Requirement already satisfied: numpy in /usr/local/lib/python3.10/dist-packages (from navec) (1.23.5)\n"
          ]
        }
      ]
    },
    {
      "cell_type": "code",
      "source": [
        "!wget https://storage.yandexcloud.net/natasha-navec/packs/navec_hudlit_v1_12B_500K_300d_100q.tar"
      ],
      "metadata": {
        "colab": {
          "base_uri": "https://localhost:8080/"
        },
        "id": "X48LnFxJ-mlR",
        "outputId": "4f67d7cd-453f-444e-8d5d-9445bf89e190"
      },
      "execution_count": null,
      "outputs": [
        {
          "output_type": "stream",
          "name": "stdout",
          "text": [
            "--2024-01-03 15:44:53--  https://storage.yandexcloud.net/natasha-navec/packs/navec_hudlit_v1_12B_500K_300d_100q.tar\n",
            "Resolving storage.yandexcloud.net (storage.yandexcloud.net)... 213.180.193.243, 2a02:6b8::1d9\n",
            "Connecting to storage.yandexcloud.net (storage.yandexcloud.net)|213.180.193.243|:443... connected.\n",
            "HTTP request sent, awaiting response... 200 OK\n",
            "Length: 53012480 (51M) [application/x-tar]\n",
            "Saving to: ‘navec_hudlit_v1_12B_500K_300d_100q.tar’\n",
            "\n",
            "navec_hudlit_v1_12B 100%[===================>]  50.56M  16.0MB/s    in 4.3s    \n",
            "\n",
            "2024-01-03 15:44:58 (11.9 MB/s) - ‘navec_hudlit_v1_12B_500K_300d_100q.tar’ saved [53012480/53012480]\n",
            "\n"
          ]
        }
      ]
    },
    {
      "cell_type": "code",
      "source": [
        "from navec import Navec\n",
        "\n",
        "path = '/content/navec_hudlit_v1_12B_500K_300d_100q.tar'\n",
        "navec = Navec.load(path)"
      ],
      "metadata": {
        "id": "2weySIaX-qfN"
      },
      "execution_count": null,
      "outputs": []
    },
    {
      "cell_type": "code",
      "source": [
        "from slovnet.model.emb import NavecEmbedding"
      ],
      "metadata": {
        "id": "GhOS0659BBuO"
      },
      "execution_count": null,
      "outputs": []
    },
    {
      "cell_type": "code",
      "source": [
        "# pipeline variant\n",
        "%%time\n",
        "pipe_log = Pipeline([('col_selector', CustomSelectColumns(['content_clean'], clean=True)),\n",
        "                 ('w2v_tfidf', TfidfEmbeddingVectorizer(modelw2v)),\n",
        "                 ('scaler', StandardScaler()),\n",
        "                 ('clf', LogisticRegression(random_state=RND_STATE,\n",
        "                                            max_iter=10000,\n",
        "                                            # class_weight='balanced'\n",
        "                                            ))])\n",
        "\n",
        "pipe_log.fit(X_train, y_train)\n",
        "\n",
        "print(classification_report(y_val, pipe_log.predict(X_val)))"
      ],
      "metadata": {
        "colab": {
          "base_uri": "https://localhost:8080/",
          "height": 159
        },
        "id": "tg_OjsMWAI51",
        "outputId": "9dbec0c7-56d9-4b3e-c270-70655da7af2b"
      },
      "execution_count": null,
      "outputs": [
        {
          "output_type": "error",
          "ename": "NameError",
          "evalue": "ignored",
          "traceback": [
            "\u001b[0;31m---------------------------------------------------------------------------\u001b[0m",
            "\u001b[0;31mNameError\u001b[0m                                 Traceback (most recent call last)",
            "\u001b[0;32m<timed exec>\u001b[0m in \u001b[0;36m<module>\u001b[0;34m\u001b[0m\n",
            "\u001b[0;31mNameError\u001b[0m: name 'modelw2v' is not defined"
          ]
        }
      ]
    },
    {
      "cell_type": "code",
      "source": [
        "def get_Mean_w2v_vector(sentence):\n",
        "    Sum = 0\n",
        "    Count = 0\n",
        "\n",
        "    words = sentence.split()\n",
        "\n",
        "    # print(words)\n",
        "\n",
        "    for w in words:\n",
        "        # print(w in model_w2v.wv)\n",
        "        if w in model_w2v.wv:\n",
        "            Sum += model_w2v.wv[w]\n",
        "            Count += 1\n",
        "    # print(Count)\n",
        "    return np.mean(Sum / Count)"
      ],
      "metadata": {
        "id": "ZnBlg91PEbjw"
      },
      "execution_count": null,
      "outputs": []
    },
    {
      "cell_type": "code",
      "source": [
        "# NewCols = ['col'+str(i) for i in range(HIDDEN)]\n",
        "\n",
        "\n",
        "# trainw2vn = trainw2v.copy()\n",
        "# test = test.copy()\n",
        "\n",
        "trainw2v['mean_w2v'] = trainw2v['content_clean'].map(get_Mean_w2v_vector)\n",
        "# test['mean_w2v'] = test['content_clean'].map(get_Mean_w2v_vector)"
      ],
      "metadata": {
        "id": "GbiqUdFZEjg9"
      },
      "execution_count": null,
      "outputs": []
    },
    {
      "cell_type": "code",
      "source": [
        "test.to_csv('test.csv', index=False)"
      ],
      "metadata": {
        "id": "63QtomA7ghqi"
      },
      "execution_count": null,
      "outputs": []
    },
    {
      "cell_type": "code",
      "source": [
        "trainw2v.head()"
      ],
      "metadata": {
        "colab": {
          "base_uri": "https://localhost:8080/",
          "height": 467
        },
        "id": "IjmsNrQWVWyn",
        "outputId": "52f437c6-b119-46da-a3e8-2a8b57c2b276"
      },
      "execution_count": null,
      "outputs": [
        {
          "output_type": "execute_result",
          "data": {
            "text/plain": [
              "                                                                                                                   content  topic                                                                                                            content_clean   max_w2v  mean_w2v\n",
              "0  Поклонники Гарри Поттера со всего мира смотрят спецэпизод, приуроченный к 20-летию самой волшебной франшизы. 1 январ...      0  поклонник гарри поттер мир смотреть спецэпизод приурочить волшебный франшиза январь документальный фильм секрет созд...  0.881894 -0.015332\n",
              "1  Египетский курорт засыпало градом 1 января. В некоторых районах он был крупным и причинял прохожим боль. Фото и виде...      0  египетский курорт засыпало град январь некоторый район крупный причинять прохожий боль фото видео курорт опубликоват...  0.958959 -0.004325\n",
              "2  Главное управление по Краснодарскому краю МЧС России 1 января выпустило экстренное предупреждение по лавиноопасности...      0  главный управление краснодарский край мчс россия январь выпустить экстренный предупреждение лавиноопасность информац...  0.740297  0.004588\n",
              "3  В новогоднюю ночь в родильных домах Петербурга и акушерских отделениях городских больниц на свет появились 34 младен...      0  новогодний ночь родильный дом петербург акушерский отделение городской больница свет появиться младенец сообщить смо...  1.164321 -0.024724\n",
              "4  Договор с названием RCEP (Regional Comprehensive Economic Partnership, или Всестороннее региональное экономическое п...      0  договор название rcep regional comprehensive economic partnership всесторонний региональный экономический партнерств...  1.432906 -0.011452"
            ],
            "text/html": [
              "\n",
              "  <div id=\"df-79fc004d-8a0d-4238-bce7-796bd2a8529b\" class=\"colab-df-container\">\n",
              "    <div>\n",
              "<style scoped>\n",
              "    .dataframe tbody tr th:only-of-type {\n",
              "        vertical-align: middle;\n",
              "    }\n",
              "\n",
              "    .dataframe tbody tr th {\n",
              "        vertical-align: top;\n",
              "    }\n",
              "\n",
              "    .dataframe thead th {\n",
              "        text-align: right;\n",
              "    }\n",
              "</style>\n",
              "<table border=\"1\" class=\"dataframe\">\n",
              "  <thead>\n",
              "    <tr style=\"text-align: right;\">\n",
              "      <th></th>\n",
              "      <th>content</th>\n",
              "      <th>topic</th>\n",
              "      <th>content_clean</th>\n",
              "      <th>max_w2v</th>\n",
              "      <th>mean_w2v</th>\n",
              "    </tr>\n",
              "  </thead>\n",
              "  <tbody>\n",
              "    <tr>\n",
              "      <th>0</th>\n",
              "      <td>Поклонники Гарри Поттера со всего мира смотрят спецэпизод, приуроченный к 20-летию самой волшебной франшизы. 1 январ...</td>\n",
              "      <td>0</td>\n",
              "      <td>поклонник гарри поттер мир смотреть спецэпизод приурочить волшебный франшиза январь документальный фильм секрет созд...</td>\n",
              "      <td>0.881894</td>\n",
              "      <td>-0.015332</td>\n",
              "    </tr>\n",
              "    <tr>\n",
              "      <th>1</th>\n",
              "      <td>Египетский курорт засыпало градом 1 января. В некоторых районах он был крупным и причинял прохожим боль. Фото и виде...</td>\n",
              "      <td>0</td>\n",
              "      <td>египетский курорт засыпало град январь некоторый район крупный причинять прохожий боль фото видео курорт опубликоват...</td>\n",
              "      <td>0.958959</td>\n",
              "      <td>-0.004325</td>\n",
              "    </tr>\n",
              "    <tr>\n",
              "      <th>2</th>\n",
              "      <td>Главное управление по Краснодарскому краю МЧС России 1 января выпустило экстренное предупреждение по лавиноопасности...</td>\n",
              "      <td>0</td>\n",
              "      <td>главный управление краснодарский край мчс россия январь выпустить экстренный предупреждение лавиноопасность информац...</td>\n",
              "      <td>0.740297</td>\n",
              "      <td>0.004588</td>\n",
              "    </tr>\n",
              "    <tr>\n",
              "      <th>3</th>\n",
              "      <td>В новогоднюю ночь в родильных домах Петербурга и акушерских отделениях городских больниц на свет появились 34 младен...</td>\n",
              "      <td>0</td>\n",
              "      <td>новогодний ночь родильный дом петербург акушерский отделение городской больница свет появиться младенец сообщить смо...</td>\n",
              "      <td>1.164321</td>\n",
              "      <td>-0.024724</td>\n",
              "    </tr>\n",
              "    <tr>\n",
              "      <th>4</th>\n",
              "      <td>Договор с названием RCEP (Regional Comprehensive Economic Partnership, или Всестороннее региональное экономическое п...</td>\n",
              "      <td>0</td>\n",
              "      <td>договор название rcep regional comprehensive economic partnership всесторонний региональный экономический партнерств...</td>\n",
              "      <td>1.432906</td>\n",
              "      <td>-0.011452</td>\n",
              "    </tr>\n",
              "  </tbody>\n",
              "</table>\n",
              "</div>\n",
              "    <div class=\"colab-df-buttons\">\n",
              "\n",
              "  <div class=\"colab-df-container\">\n",
              "    <button class=\"colab-df-convert\" onclick=\"convertToInteractive('df-79fc004d-8a0d-4238-bce7-796bd2a8529b')\"\n",
              "            title=\"Convert this dataframe to an interactive table.\"\n",
              "            style=\"display:none;\">\n",
              "\n",
              "  <svg xmlns=\"http://www.w3.org/2000/svg\" height=\"24px\" viewBox=\"0 -960 960 960\">\n",
              "    <path d=\"M120-120v-720h720v720H120Zm60-500h600v-160H180v160Zm220 220h160v-160H400v160Zm0 220h160v-160H400v160ZM180-400h160v-160H180v160Zm440 0h160v-160H620v160ZM180-180h160v-160H180v160Zm440 0h160v-160H620v160Z\"/>\n",
              "  </svg>\n",
              "    </button>\n",
              "\n",
              "  <style>\n",
              "    .colab-df-container {\n",
              "      display:flex;\n",
              "      gap: 12px;\n",
              "    }\n",
              "\n",
              "    .colab-df-convert {\n",
              "      background-color: #E8F0FE;\n",
              "      border: none;\n",
              "      border-radius: 50%;\n",
              "      cursor: pointer;\n",
              "      display: none;\n",
              "      fill: #1967D2;\n",
              "      height: 32px;\n",
              "      padding: 0 0 0 0;\n",
              "      width: 32px;\n",
              "    }\n",
              "\n",
              "    .colab-df-convert:hover {\n",
              "      background-color: #E2EBFA;\n",
              "      box-shadow: 0px 1px 2px rgba(60, 64, 67, 0.3), 0px 1px 3px 1px rgba(60, 64, 67, 0.15);\n",
              "      fill: #174EA6;\n",
              "    }\n",
              "\n",
              "    .colab-df-buttons div {\n",
              "      margin-bottom: 4px;\n",
              "    }\n",
              "\n",
              "    [theme=dark] .colab-df-convert {\n",
              "      background-color: #3B4455;\n",
              "      fill: #D2E3FC;\n",
              "    }\n",
              "\n",
              "    [theme=dark] .colab-df-convert:hover {\n",
              "      background-color: #434B5C;\n",
              "      box-shadow: 0px 1px 3px 1px rgba(0, 0, 0, 0.15);\n",
              "      filter: drop-shadow(0px 1px 2px rgba(0, 0, 0, 0.3));\n",
              "      fill: #FFFFFF;\n",
              "    }\n",
              "  </style>\n",
              "\n",
              "    <script>\n",
              "      const buttonEl =\n",
              "        document.querySelector('#df-79fc004d-8a0d-4238-bce7-796bd2a8529b button.colab-df-convert');\n",
              "      buttonEl.style.display =\n",
              "        google.colab.kernel.accessAllowed ? 'block' : 'none';\n",
              "\n",
              "      async function convertToInteractive(key) {\n",
              "        const element = document.querySelector('#df-79fc004d-8a0d-4238-bce7-796bd2a8529b');\n",
              "        const dataTable =\n",
              "          await google.colab.kernel.invokeFunction('convertToInteractive',\n",
              "                                                    [key], {});\n",
              "        if (!dataTable) return;\n",
              "\n",
              "        const docLinkHtml = 'Like what you see? Visit the ' +\n",
              "          '<a target=\"_blank\" href=https://colab.research.google.com/notebooks/data_table.ipynb>data table notebook</a>'\n",
              "          + ' to learn more about interactive tables.';\n",
              "        element.innerHTML = '';\n",
              "        dataTable['output_type'] = 'display_data';\n",
              "        await google.colab.output.renderOutput(dataTable, element);\n",
              "        const docLink = document.createElement('div');\n",
              "        docLink.innerHTML = docLinkHtml;\n",
              "        element.appendChild(docLink);\n",
              "      }\n",
              "    </script>\n",
              "  </div>\n",
              "\n",
              "\n",
              "<div id=\"df-79d988b6-b1f6-49e1-81f7-2d20f5b7ca6f\">\n",
              "  <button class=\"colab-df-quickchart\" onclick=\"quickchart('df-79d988b6-b1f6-49e1-81f7-2d20f5b7ca6f')\"\n",
              "            title=\"Suggest charts\"\n",
              "            style=\"display:none;\">\n",
              "\n",
              "<svg xmlns=\"http://www.w3.org/2000/svg\" height=\"24px\"viewBox=\"0 0 24 24\"\n",
              "     width=\"24px\">\n",
              "    <g>\n",
              "        <path d=\"M19 3H5c-1.1 0-2 .9-2 2v14c0 1.1.9 2 2 2h14c1.1 0 2-.9 2-2V5c0-1.1-.9-2-2-2zM9 17H7v-7h2v7zm4 0h-2V7h2v10zm4 0h-2v-4h2v4z\"/>\n",
              "    </g>\n",
              "</svg>\n",
              "  </button>\n",
              "\n",
              "<style>\n",
              "  .colab-df-quickchart {\n",
              "      --bg-color: #E8F0FE;\n",
              "      --fill-color: #1967D2;\n",
              "      --hover-bg-color: #E2EBFA;\n",
              "      --hover-fill-color: #174EA6;\n",
              "      --disabled-fill-color: #AAA;\n",
              "      --disabled-bg-color: #DDD;\n",
              "  }\n",
              "\n",
              "  [theme=dark] .colab-df-quickchart {\n",
              "      --bg-color: #3B4455;\n",
              "      --fill-color: #D2E3FC;\n",
              "      --hover-bg-color: #434B5C;\n",
              "      --hover-fill-color: #FFFFFF;\n",
              "      --disabled-bg-color: #3B4455;\n",
              "      --disabled-fill-color: #666;\n",
              "  }\n",
              "\n",
              "  .colab-df-quickchart {\n",
              "    background-color: var(--bg-color);\n",
              "    border: none;\n",
              "    border-radius: 50%;\n",
              "    cursor: pointer;\n",
              "    display: none;\n",
              "    fill: var(--fill-color);\n",
              "    height: 32px;\n",
              "    padding: 0;\n",
              "    width: 32px;\n",
              "  }\n",
              "\n",
              "  .colab-df-quickchart:hover {\n",
              "    background-color: var(--hover-bg-color);\n",
              "    box-shadow: 0 1px 2px rgba(60, 64, 67, 0.3), 0 1px 3px 1px rgba(60, 64, 67, 0.15);\n",
              "    fill: var(--button-hover-fill-color);\n",
              "  }\n",
              "\n",
              "  .colab-df-quickchart-complete:disabled,\n",
              "  .colab-df-quickchart-complete:disabled:hover {\n",
              "    background-color: var(--disabled-bg-color);\n",
              "    fill: var(--disabled-fill-color);\n",
              "    box-shadow: none;\n",
              "  }\n",
              "\n",
              "  .colab-df-spinner {\n",
              "    border: 2px solid var(--fill-color);\n",
              "    border-color: transparent;\n",
              "    border-bottom-color: var(--fill-color);\n",
              "    animation:\n",
              "      spin 1s steps(1) infinite;\n",
              "  }\n",
              "\n",
              "  @keyframes spin {\n",
              "    0% {\n",
              "      border-color: transparent;\n",
              "      border-bottom-color: var(--fill-color);\n",
              "      border-left-color: var(--fill-color);\n",
              "    }\n",
              "    20% {\n",
              "      border-color: transparent;\n",
              "      border-left-color: var(--fill-color);\n",
              "      border-top-color: var(--fill-color);\n",
              "    }\n",
              "    30% {\n",
              "      border-color: transparent;\n",
              "      border-left-color: var(--fill-color);\n",
              "      border-top-color: var(--fill-color);\n",
              "      border-right-color: var(--fill-color);\n",
              "    }\n",
              "    40% {\n",
              "      border-color: transparent;\n",
              "      border-right-color: var(--fill-color);\n",
              "      border-top-color: var(--fill-color);\n",
              "    }\n",
              "    60% {\n",
              "      border-color: transparent;\n",
              "      border-right-color: var(--fill-color);\n",
              "    }\n",
              "    80% {\n",
              "      border-color: transparent;\n",
              "      border-right-color: var(--fill-color);\n",
              "      border-bottom-color: var(--fill-color);\n",
              "    }\n",
              "    90% {\n",
              "      border-color: transparent;\n",
              "      border-bottom-color: var(--fill-color);\n",
              "    }\n",
              "  }\n",
              "</style>\n",
              "\n",
              "  <script>\n",
              "    async function quickchart(key) {\n",
              "      const quickchartButtonEl =\n",
              "        document.querySelector('#' + key + ' button');\n",
              "      quickchartButtonEl.disabled = true;  // To prevent multiple clicks.\n",
              "      quickchartButtonEl.classList.add('colab-df-spinner');\n",
              "      try {\n",
              "        const charts = await google.colab.kernel.invokeFunction(\n",
              "            'suggestCharts', [key], {});\n",
              "      } catch (error) {\n",
              "        console.error('Error during call to suggestCharts:', error);\n",
              "      }\n",
              "      quickchartButtonEl.classList.remove('colab-df-spinner');\n",
              "      quickchartButtonEl.classList.add('colab-df-quickchart-complete');\n",
              "    }\n",
              "    (() => {\n",
              "      let quickchartButtonEl =\n",
              "        document.querySelector('#df-79d988b6-b1f6-49e1-81f7-2d20f5b7ca6f button');\n",
              "      quickchartButtonEl.style.display =\n",
              "        google.colab.kernel.accessAllowed ? 'block' : 'none';\n",
              "    })();\n",
              "  </script>\n",
              "</div>\n",
              "    </div>\n",
              "  </div>\n"
            ]
          },
          "metadata": {},
          "execution_count": 153
        }
      ]
    },
    {
      "cell_type": "code",
      "source": [
        "t = TfidfEmbeddingVectorizer(model_w2v).fit(X, y)"
      ],
      "metadata": {
        "id": "nZae35Z_Z2Oj"
      },
      "execution_count": null,
      "outputs": []
    },
    {
      "cell_type": "code",
      "source": [
        "t.transform(X['content_clean']).mean()"
      ],
      "metadata": {
        "colab": {
          "base_uri": "https://localhost:8080/"
        },
        "id": "C87QqN1kcFR7",
        "outputId": "5e0fe520-985f-4540-919b-3206fd7528b7"
      },
      "execution_count": null,
      "outputs": [
        {
          "output_type": "execute_result",
          "data": {
            "text/plain": [
              "0.0"
            ]
          },
          "metadata": {},
          "execution_count": 122
        }
      ]
    },
    {
      "cell_type": "code",
      "source": [
        "pipe_tr = Pipeline([('col_selector', CustomSelectColumns(['content_clean'], clean=True)),\n",
        "                    ('w2v_tfidf', TfidfEmbeddingVectorizer(model_w2v))])"
      ],
      "metadata": {
        "id": "VnG7IHcWMZLN"
      },
      "execution_count": null,
      "outputs": []
    },
    {
      "cell_type": "code",
      "source": [
        "f = trainw2v.copy()"
      ],
      "metadata": {
        "id": "74rbh0fLh8qw"
      },
      "execution_count": null,
      "outputs": []
    },
    {
      "cell_type": "code",
      "source": [
        "# trainw2v.shape"
      ],
      "metadata": {
        "id": "FBbtCPrLij2u"
      },
      "execution_count": null,
      "outputs": []
    },
    {
      "cell_type": "code",
      "source": [
        "r = pipe_tr.fit_transform(trainw2v[['content_clean']])"
      ],
      "metadata": {
        "id": "TBDMfgl7dfGk"
      },
      "execution_count": null,
      "outputs": []
    },
    {
      "cell_type": "code",
      "source": [
        "meantf = [np.mean(el) for el in r]"
      ],
      "metadata": {
        "id": "XPA1nuwhjQnd"
      },
      "execution_count": null,
      "outputs": []
    },
    {
      "cell_type": "code",
      "source": [
        "# trainw2v['mean_tf'] = meantf"
      ],
      "metadata": {
        "id": "brL8yWbbnGK4"
      },
      "execution_count": null,
      "outputs": []
    },
    {
      "cell_type": "code",
      "source": [
        "# test.head()"
      ],
      "metadata": {
        "id": "KM6MXVVIpAOY"
      },
      "execution_count": null,
      "outputs": []
    },
    {
      "cell_type": "code",
      "source": [
        "# trainw2v = trainw2v[['content', 'topic',\t'content_clean', 'mean_w2v', 'max_w2v', 'mean_tf',\t'max_tf']]"
      ],
      "metadata": {
        "id": "SLMkaWFHoDvM"
      },
      "execution_count": null,
      "outputs": []
    },
    {
      "cell_type": "code",
      "source": [
        "# test.to_csv('test.csv', index=False)"
      ],
      "metadata": {
        "id": "JKeKJ34Fk1fw"
      },
      "execution_count": null,
      "outputs": []
    },
    {
      "cell_type": "markdown",
      "source": [
        "# new begginings"
      ],
      "metadata": {
        "id": "glcgznPaNCEz"
      }
    },
    {
      "cell_type": "code",
      "source": [
        "X = trainw2v.drop(targets, axis=1, errors=\"ignore\")\n",
        "y = trainw2v[\"topic\"]"
      ],
      "metadata": {
        "id": "8Skyrm8SOvhw"
      },
      "execution_count": null,
      "outputs": []
    },
    {
      "cell_type": "code",
      "source": [
        "# Разбиение на обучающую и валидационную выборки\n",
        "X_train, X_val, y_train, y_val = train_test_split(X, y, test_size=0.2, random_state=RND_STATE)"
      ],
      "metadata": {
        "id": "b-Nb3c3iO-V6"
      },
      "execution_count": null,
      "outputs": []
    },
    {
      "cell_type": "code",
      "source": [
        "# X.head()"
      ],
      "metadata": {
        "id": "k24h29UbOwQ0"
      },
      "execution_count": null,
      "outputs": []
    },
    {
      "cell_type": "code",
      "source": [
        "clf_new = CatBoostClassifier(eval_metric='Accuracy',\n",
        "                           iterations=200,\n",
        "                           thread_count=-1,\n",
        "                           random_seed=RND_STATE,\n",
        "                           text_features=['content', 'content_clean'])\n",
        "\n",
        "\n",
        "train_dataset = Pool(data=X_train, label=y_train, text_features=['content', 'content_clean'])\n",
        "eval_dataset = Pool(data=X_val, label=y_val, text_features=['content', 'content_clean'])\n",
        "\n",
        "clf_new.fit(X_train, y_train,\n",
        "                  text_features=['content', 'content_clean'],\n",
        "                  verbose=5,\n",
        "                  early_stopping_rounds=10,\n",
        "                  eval_set=(X_val, y_val)\n",
        "                  )"
      ],
      "metadata": {
        "colab": {
          "base_uri": "https://localhost:8080/"
        },
        "id": "FnRGoQo_NuMF",
        "outputId": "3d7eedac-ad9f-483a-f4f0-8c20b4e4b335"
      },
      "execution_count": null,
      "outputs": [
        {
          "output_type": "stream",
          "name": "stdout",
          "text": [
            "Learning rate set to 0.213919\n",
            "0:\tlearn: 0.8023694\ttest: 0.8148148\tbest: 0.8148148 (0)\ttotal: 7.77s\tremaining: 25m 46s\n",
            "5:\tlearn: 0.8358986\ttest: 0.8469987\tbest: 0.8473819 (4)\ttotal: 40.1s\tremaining: 21m 36s\n",
            "10:\tlearn: 0.8519926\ttest: 0.8630907\tbest: 0.8630907 (10)\ttotal: 1m 11s\tremaining: 20m 33s\n",
            "15:\tlearn: 0.8594648\ttest: 0.8674330\tbest: 0.8674330 (13)\ttotal: 1m 41s\tremaining: 19m 26s\n",
            "20:\tlearn: 0.8675437\ttest: 0.8743295\tbest: 0.8743295 (20)\ttotal: 2m 11s\tremaining: 18m 39s\n",
            "25:\tlearn: 0.8709925\ttest: 0.8768838\tbest: 0.8771392 (23)\ttotal: 2m 41s\tremaining: 18m 3s\n",
            "30:\tlearn: 0.8751756\ttest: 0.8796935\tbest: 0.8796935 (30)\ttotal: 3m 12s\tremaining: 17m 29s\n",
            "35:\tlearn: 0.8768681\ttest: 0.8804598\tbest: 0.8804598 (35)\ttotal: 3m 45s\tremaining: 17m 5s\n",
            "40:\tlearn: 0.8806680\ttest: 0.8853129\tbest: 0.8853129 (40)\ttotal: 4m 14s\tremaining: 16m 27s\n",
            "45:\tlearn: 0.8831268\ttest: 0.8863346\tbest: 0.8868455 (44)\ttotal: 4m 43s\tremaining: 15m 49s\n",
            "50:\tlearn: 0.8859050\ttest: 0.8882503\tbest: 0.8882503 (50)\ttotal: 5m 13s\tremaining: 15m 15s\n",
            "55:\tlearn: 0.8879487\ttest: 0.8897829\tbest: 0.8900383 (51)\ttotal: 5m 42s\tremaining: 14m 41s\n",
            "60:\tlearn: 0.8911100\ttest: 0.8914432\tbest: 0.8916986 (58)\ttotal: 6m 20s\tremaining: 14m 26s\n",
            "65:\tlearn: 0.8920360\ttest: 0.8919540\tbest: 0.8923372 (61)\ttotal: 7m 6s\tremaining: 14m 26s\n",
            "70:\tlearn: 0.8939839\ttest: 0.8933589\tbest: 0.8933589 (70)\ttotal: 7m 37s\tremaining: 13m 51s\n",
            "75:\tlearn: 0.8958360\ttest: 0.8952746\tbest: 0.8952746 (75)\ttotal: 8m 8s\tremaining: 13m 16s\n",
            "80:\tlearn: 0.8970494\ttest: 0.8961686\tbest: 0.8961686 (80)\ttotal: 8m 38s\tremaining: 12m 41s\n",
            "85:\tlearn: 0.8982629\ttest: 0.8961686\tbest: 0.8965517 (82)\ttotal: 9m 8s\tremaining: 12m 7s\n",
            "90:\tlearn: 0.8989654\ttest: 0.8961686\tbest: 0.8966794 (86)\ttotal: 9m 38s\tremaining: 11m 33s\n",
            "95:\tlearn: 0.9001788\ttest: 0.8968072\tbest: 0.8968072 (95)\ttotal: 10m 9s\tremaining: 10m 59s\n",
            "100:\tlearn: 0.9010729\ttest: 0.8978289\tbest: 0.8978289 (98)\ttotal: 10m 39s\tremaining: 10m 26s\n",
            "105:\tlearn: 0.9021267\ttest: 0.8970626\tbest: 0.8978289 (98)\ttotal: 11m 8s\tremaining: 9m 52s\n",
            "Stopped by overfitting detector  (10 iterations wait)\n",
            "\n",
            "bestTest = 0.8978288633\n",
            "bestIteration = 98\n",
            "\n",
            "Shrink model to first 99 iterations.\n"
          ]
        },
        {
          "output_type": "execute_result",
          "data": {
            "text/plain": [
              "<catboost.core.CatBoostClassifier at 0x7e2aaac3b400>"
            ]
          },
          "metadata": {},
          "execution_count": 111
        }
      ]
    },
    {
      "cell_type": "code",
      "source": [
        "clf_new.best_score_"
      ],
      "metadata": {
        "colab": {
          "base_uri": "https://localhost:8080/"
        },
        "id": "PwAdk2EybdAp",
        "outputId": "2237f3e7-40e0-403b-96a0-c095ce1bbecf"
      },
      "execution_count": null,
      "outputs": [
        {
          "output_type": "execute_result",
          "data": {
            "text/plain": [
              "{'learn': {'Accuracy': 0.9034359432877762, 'MultiClass': 0.2878800430623185},\n",
              " 'validation': {'Accuracy': 0.8978288633461047,\n",
              "  'MultiClass': 0.3063018108320806}}"
            ]
          },
          "metadata": {},
          "execution_count": 112
        }
      ]
    },
    {
      "cell_type": "code",
      "source": [
        "# trainw2vn['vectors_tf_idf'] = trainw2vn['content_clean'].map(TfidfEmbeddingVectorizer(model_w2v))"
      ],
      "metadata": {
        "id": "nn0Oov-vMd6g"
      },
      "execution_count": null,
      "outputs": []
    },
    {
      "cell_type": "markdown",
      "source": [
        "# Navec"
      ],
      "metadata": {
        "id": "uBTR0VyN_SR1"
      }
    },
    {
      "cell_type": "code",
      "source": [
        "!pip install navec"
      ],
      "metadata": {
        "colab": {
          "base_uri": "https://localhost:8080/"
        },
        "id": "blpQegCeDEJ3",
        "outputId": "371a7d40-2a1d-4221-9e22-ee4f2dbc4329"
      },
      "execution_count": null,
      "outputs": [
        {
          "output_type": "stream",
          "name": "stdout",
          "text": [
            "Requirement already satisfied: navec in /usr/local/lib/python3.10/dist-packages (0.10.0)\n",
            "Requirement already satisfied: numpy in /usr/local/lib/python3.10/dist-packages (from navec) (1.23.5)\n"
          ]
        }
      ]
    },
    {
      "cell_type": "code",
      "source": [
        "!wget https://storage.yandexcloud.net/natasha-navec/packs/navec_news_v1_1B_250K_300d_100q.tar"
      ],
      "metadata": {
        "colab": {
          "base_uri": "https://localhost:8080/"
        },
        "id": "otDi4VGVDLSQ",
        "outputId": "aa1c9056-da39-4947-d880-92c2d09df147"
      },
      "execution_count": null,
      "outputs": [
        {
          "output_type": "stream",
          "name": "stdout",
          "text": [
            "--2024-01-03 20:46:38--  https://storage.yandexcloud.net/natasha-navec/packs/navec_news_v1_1B_250K_300d_100q.tar\n",
            "Resolving storage.yandexcloud.net (storage.yandexcloud.net)... 213.180.193.243, 2a02:6b8::1d9\n",
            "Connecting to storage.yandexcloud.net (storage.yandexcloud.net)|213.180.193.243|:443... connected.\n",
            "HTTP request sent, awaiting response... 200 OK\n",
            "Length: 26634240 (25M) [application/x-tar]\n",
            "Saving to: ‘navec_news_v1_1B_250K_300d_100q.tar’\n",
            "\n",
            "navec_news_v1_1B_25 100%[===================>]  25.40M  9.43MB/s    in 2.7s    \n",
            "\n",
            "2024-01-03 20:46:41 (9.43 MB/s) - ‘navec_news_v1_1B_250K_300d_100q.tar’ saved [26634240/26634240]\n",
            "\n"
          ]
        }
      ]
    },
    {
      "cell_type": "code",
      "source": [
        "from navec import Navec\n",
        "\n",
        "path = '/content/navec_news_v1_1B_250K_300d_100q.tar'\n",
        "navec = Navec.load(path)"
      ],
      "metadata": {
        "id": "Q-X_DXVYDTPo"
      },
      "execution_count": null,
      "outputs": []
    },
    {
      "cell_type": "code",
      "source": [
        "# len(navec['навек'])"
      ],
      "metadata": {
        "colab": {
          "base_uri": "https://localhost:8080/"
        },
        "id": "msZDWythD9G9",
        "outputId": "0aa5bdb8-ed4d-4ee7-85ce-b56427547270"
      },
      "execution_count": null,
      "outputs": [
        {
          "output_type": "execute_result",
          "data": {
            "text/plain": [
              "300"
            ]
          },
          "metadata": {},
          "execution_count": 14
        }
      ]
    },
    {
      "cell_type": "code",
      "source": [
        "# 'e' in navec"
      ],
      "metadata": {
        "colab": {
          "base_uri": "https://localhost:8080/"
        },
        "id": "07Z2unNPF8KY",
        "outputId": "e6242431-3441-451d-e7b8-d4424877b528"
      },
      "execution_count": null,
      "outputs": [
        {
          "output_type": "execute_result",
          "data": {
            "text/plain": [
              "False"
            ]
          },
          "metadata": {},
          "execution_count": 21
        }
      ]
    },
    {
      "cell_type": "code",
      "source": [
        "# Разбиение на обучающую и валидационную выборки\n",
        "X_train, X_val, y_train, y_val = train_test_split(X, y, test_size=0.2, random_state=RND_STATE)"
      ],
      "metadata": {
        "id": "fGxpGyiqG7Rk"
      },
      "execution_count": null,
      "outputs": []
    },
    {
      "cell_type": "code",
      "source": [
        "NewCols = ['col'+str(i) for i in range(300)]"
      ],
      "metadata": {
        "id": "VJ1fs5vNFYqI"
      },
      "execution_count": null,
      "outputs": []
    },
    {
      "cell_type": "code",
      "source": [
        "def get_mean_navec_vector(sentence):\n",
        "    Sum = 0\n",
        "    Count = 0\n",
        "\n",
        "    words = sentence.split()\n",
        "\n",
        "    for w in words:\n",
        "        if w in navec:\n",
        "            Sum += navec[w]\n",
        "            Count += 1\n",
        "\n",
        "    return Sum / Count"
      ],
      "metadata": {
        "id": "EYB5VtlfFbrg"
      },
      "execution_count": null,
      "outputs": []
    },
    {
      "cell_type": "code",
      "source": [
        "X_train_navec = X_train.copy()\n",
        "X_test_navec = X_val.copy()\n",
        "\n",
        "X_train_navec['vectors'] = X_train['content_clean'].map(get_mean_navec_vector)\n",
        "X_test_navec['vectors'] = X_val['content_clean'].map(get_mean_navec_vector)"
      ],
      "metadata": {
        "id": "jX_OjqoKGYH9"
      },
      "execution_count": null,
      "outputs": []
    },
    {
      "cell_type": "code",
      "source": [
        "X_train_navec.head()"
      ],
      "metadata": {
        "colab": {
          "base_uri": "https://localhost:8080/",
          "height": 467
        },
        "id": "uCIngozfD-Yq",
        "outputId": "befa55cd-fb81-4f28-a466-394be07e0126"
      },
      "execution_count": null,
      "outputs": [
        {
          "output_type": "execute_result",
          "data": {
            "text/plain": [
              "                                                 content  \\\n",
              "26460  Кадр: @reecejames Николай Костюков Английский ...   \n",
              "36062  Фото: Министерство обороны РФ / РИА Новости Ни...   \n",
              "22197  Фото: Михаил Джапаридзе / ТАСС Алекса Аксакова...   \n",
              "29823  Фото: Pixabay Виктория Кондратьева В городе Ка...   \n",
              "16975  В Башкирии чиновник обматерил местного жителя,...   \n",
              "\n",
              "                                           content_clean  mean_w2v   max_w2v  \\\n",
              "26460  кадр reecejames николай костюков защитник челс... -0.012824  1.339583   \n",
              "36062  фото министерство оборона риа новость никита а... -0.041981  1.574258   \n",
              "22197  фото михаил джапаридзе тасс алекс аксаков милл... -0.020011  1.259819   \n",
              "29823  фото pixabay виктория кондратьев город качкана... -0.019750  1.335371   \n",
              "16975  башкирия чиновник обматерить местный житель пр...  0.004188  0.877347   \n",
              "\n",
              "        mean_tf    max_tf                                            vectors  \n",
              "26460 -0.071109  6.597387  [0.040373437, -0.044753682, -0.014275469, 0.20...  \n",
              "36062 -0.157066  6.142687  [-0.04654625, -0.18393707, -0.037581947, 0.068...  \n",
              "22197 -0.075489  5.312569  [-0.0076509984, -0.14936692, -0.09365584, 0.17...  \n",
              "29823 -0.096587  6.305456  [0.020762736, -0.12128142, -0.08194063, 0.0959...  \n",
              "16975  0.024898  3.505953  [0.026577257, -0.05295464, -0.006716688, 0.082...  "
            ],
            "text/html": [
              "\n",
              "  <div id=\"df-9a03540d-d7c0-4c92-a707-881c78a3f777\" class=\"colab-df-container\">\n",
              "    <div>\n",
              "<style scoped>\n",
              "    .dataframe tbody tr th:only-of-type {\n",
              "        vertical-align: middle;\n",
              "    }\n",
              "\n",
              "    .dataframe tbody tr th {\n",
              "        vertical-align: top;\n",
              "    }\n",
              "\n",
              "    .dataframe thead th {\n",
              "        text-align: right;\n",
              "    }\n",
              "</style>\n",
              "<table border=\"1\" class=\"dataframe\">\n",
              "  <thead>\n",
              "    <tr style=\"text-align: right;\">\n",
              "      <th></th>\n",
              "      <th>content</th>\n",
              "      <th>content_clean</th>\n",
              "      <th>mean_w2v</th>\n",
              "      <th>max_w2v</th>\n",
              "      <th>mean_tf</th>\n",
              "      <th>max_tf</th>\n",
              "      <th>vectors</th>\n",
              "    </tr>\n",
              "  </thead>\n",
              "  <tbody>\n",
              "    <tr>\n",
              "      <th>26460</th>\n",
              "      <td>Кадр: @reecejames Николай Костюков Английский ...</td>\n",
              "      <td>кадр reecejames николай костюков защитник челс...</td>\n",
              "      <td>-0.012824</td>\n",
              "      <td>1.339583</td>\n",
              "      <td>-0.071109</td>\n",
              "      <td>6.597387</td>\n",
              "      <td>[0.040373437, -0.044753682, -0.014275469, 0.20...</td>\n",
              "    </tr>\n",
              "    <tr>\n",
              "      <th>36062</th>\n",
              "      <td>Фото: Министерство обороны РФ / РИА Новости Ни...</td>\n",
              "      <td>фото министерство оборона риа новость никита а...</td>\n",
              "      <td>-0.041981</td>\n",
              "      <td>1.574258</td>\n",
              "      <td>-0.157066</td>\n",
              "      <td>6.142687</td>\n",
              "      <td>[-0.04654625, -0.18393707, -0.037581947, 0.068...</td>\n",
              "    </tr>\n",
              "    <tr>\n",
              "      <th>22197</th>\n",
              "      <td>Фото: Михаил Джапаридзе / ТАСС Алекса Аксакова...</td>\n",
              "      <td>фото михаил джапаридзе тасс алекс аксаков милл...</td>\n",
              "      <td>-0.020011</td>\n",
              "      <td>1.259819</td>\n",
              "      <td>-0.075489</td>\n",
              "      <td>5.312569</td>\n",
              "      <td>[-0.0076509984, -0.14936692, -0.09365584, 0.17...</td>\n",
              "    </tr>\n",
              "    <tr>\n",
              "      <th>29823</th>\n",
              "      <td>Фото: Pixabay Виктория Кондратьева В городе Ка...</td>\n",
              "      <td>фото pixabay виктория кондратьев город качкана...</td>\n",
              "      <td>-0.019750</td>\n",
              "      <td>1.335371</td>\n",
              "      <td>-0.096587</td>\n",
              "      <td>6.305456</td>\n",
              "      <td>[0.020762736, -0.12128142, -0.08194063, 0.0959...</td>\n",
              "    </tr>\n",
              "    <tr>\n",
              "      <th>16975</th>\n",
              "      <td>В Башкирии чиновник обматерил местного жителя,...</td>\n",
              "      <td>башкирия чиновник обматерить местный житель пр...</td>\n",
              "      <td>0.004188</td>\n",
              "      <td>0.877347</td>\n",
              "      <td>0.024898</td>\n",
              "      <td>3.505953</td>\n",
              "      <td>[0.026577257, -0.05295464, -0.006716688, 0.082...</td>\n",
              "    </tr>\n",
              "  </tbody>\n",
              "</table>\n",
              "</div>\n",
              "    <div class=\"colab-df-buttons\">\n",
              "\n",
              "  <div class=\"colab-df-container\">\n",
              "    <button class=\"colab-df-convert\" onclick=\"convertToInteractive('df-9a03540d-d7c0-4c92-a707-881c78a3f777')\"\n",
              "            title=\"Convert this dataframe to an interactive table.\"\n",
              "            style=\"display:none;\">\n",
              "\n",
              "  <svg xmlns=\"http://www.w3.org/2000/svg\" height=\"24px\" viewBox=\"0 -960 960 960\">\n",
              "    <path d=\"M120-120v-720h720v720H120Zm60-500h600v-160H180v160Zm220 220h160v-160H400v160Zm0 220h160v-160H400v160ZM180-400h160v-160H180v160Zm440 0h160v-160H620v160ZM180-180h160v-160H180v160Zm440 0h160v-160H620v160Z\"/>\n",
              "  </svg>\n",
              "    </button>\n",
              "\n",
              "  <style>\n",
              "    .colab-df-container {\n",
              "      display:flex;\n",
              "      gap: 12px;\n",
              "    }\n",
              "\n",
              "    .colab-df-convert {\n",
              "      background-color: #E8F0FE;\n",
              "      border: none;\n",
              "      border-radius: 50%;\n",
              "      cursor: pointer;\n",
              "      display: none;\n",
              "      fill: #1967D2;\n",
              "      height: 32px;\n",
              "      padding: 0 0 0 0;\n",
              "      width: 32px;\n",
              "    }\n",
              "\n",
              "    .colab-df-convert:hover {\n",
              "      background-color: #E2EBFA;\n",
              "      box-shadow: 0px 1px 2px rgba(60, 64, 67, 0.3), 0px 1px 3px 1px rgba(60, 64, 67, 0.15);\n",
              "      fill: #174EA6;\n",
              "    }\n",
              "\n",
              "    .colab-df-buttons div {\n",
              "      margin-bottom: 4px;\n",
              "    }\n",
              "\n",
              "    [theme=dark] .colab-df-convert {\n",
              "      background-color: #3B4455;\n",
              "      fill: #D2E3FC;\n",
              "    }\n",
              "\n",
              "    [theme=dark] .colab-df-convert:hover {\n",
              "      background-color: #434B5C;\n",
              "      box-shadow: 0px 1px 3px 1px rgba(0, 0, 0, 0.15);\n",
              "      filter: drop-shadow(0px 1px 2px rgba(0, 0, 0, 0.3));\n",
              "      fill: #FFFFFF;\n",
              "    }\n",
              "  </style>\n",
              "\n",
              "    <script>\n",
              "      const buttonEl =\n",
              "        document.querySelector('#df-9a03540d-d7c0-4c92-a707-881c78a3f777 button.colab-df-convert');\n",
              "      buttonEl.style.display =\n",
              "        google.colab.kernel.accessAllowed ? 'block' : 'none';\n",
              "\n",
              "      async function convertToInteractive(key) {\n",
              "        const element = document.querySelector('#df-9a03540d-d7c0-4c92-a707-881c78a3f777');\n",
              "        const dataTable =\n",
              "          await google.colab.kernel.invokeFunction('convertToInteractive',\n",
              "                                                    [key], {});\n",
              "        if (!dataTable) return;\n",
              "\n",
              "        const docLinkHtml = 'Like what you see? Visit the ' +\n",
              "          '<a target=\"_blank\" href=https://colab.research.google.com/notebooks/data_table.ipynb>data table notebook</a>'\n",
              "          + ' to learn more about interactive tables.';\n",
              "        element.innerHTML = '';\n",
              "        dataTable['output_type'] = 'display_data';\n",
              "        await google.colab.output.renderOutput(dataTable, element);\n",
              "        const docLink = document.createElement('div');\n",
              "        docLink.innerHTML = docLinkHtml;\n",
              "        element.appendChild(docLink);\n",
              "      }\n",
              "    </script>\n",
              "  </div>\n",
              "\n",
              "\n",
              "<div id=\"df-a9fba2b8-0d92-4cc3-aee4-05a30298db5b\">\n",
              "  <button class=\"colab-df-quickchart\" onclick=\"quickchart('df-a9fba2b8-0d92-4cc3-aee4-05a30298db5b')\"\n",
              "            title=\"Suggest charts\"\n",
              "            style=\"display:none;\">\n",
              "\n",
              "<svg xmlns=\"http://www.w3.org/2000/svg\" height=\"24px\"viewBox=\"0 0 24 24\"\n",
              "     width=\"24px\">\n",
              "    <g>\n",
              "        <path d=\"M19 3H5c-1.1 0-2 .9-2 2v14c0 1.1.9 2 2 2h14c1.1 0 2-.9 2-2V5c0-1.1-.9-2-2-2zM9 17H7v-7h2v7zm4 0h-2V7h2v10zm4 0h-2v-4h2v4z\"/>\n",
              "    </g>\n",
              "</svg>\n",
              "  </button>\n",
              "\n",
              "<style>\n",
              "  .colab-df-quickchart {\n",
              "      --bg-color: #E8F0FE;\n",
              "      --fill-color: #1967D2;\n",
              "      --hover-bg-color: #E2EBFA;\n",
              "      --hover-fill-color: #174EA6;\n",
              "      --disabled-fill-color: #AAA;\n",
              "      --disabled-bg-color: #DDD;\n",
              "  }\n",
              "\n",
              "  [theme=dark] .colab-df-quickchart {\n",
              "      --bg-color: #3B4455;\n",
              "      --fill-color: #D2E3FC;\n",
              "      --hover-bg-color: #434B5C;\n",
              "      --hover-fill-color: #FFFFFF;\n",
              "      --disabled-bg-color: #3B4455;\n",
              "      --disabled-fill-color: #666;\n",
              "  }\n",
              "\n",
              "  .colab-df-quickchart {\n",
              "    background-color: var(--bg-color);\n",
              "    border: none;\n",
              "    border-radius: 50%;\n",
              "    cursor: pointer;\n",
              "    display: none;\n",
              "    fill: var(--fill-color);\n",
              "    height: 32px;\n",
              "    padding: 0;\n",
              "    width: 32px;\n",
              "  }\n",
              "\n",
              "  .colab-df-quickchart:hover {\n",
              "    background-color: var(--hover-bg-color);\n",
              "    box-shadow: 0 1px 2px rgba(60, 64, 67, 0.3), 0 1px 3px 1px rgba(60, 64, 67, 0.15);\n",
              "    fill: var(--button-hover-fill-color);\n",
              "  }\n",
              "\n",
              "  .colab-df-quickchart-complete:disabled,\n",
              "  .colab-df-quickchart-complete:disabled:hover {\n",
              "    background-color: var(--disabled-bg-color);\n",
              "    fill: var(--disabled-fill-color);\n",
              "    box-shadow: none;\n",
              "  }\n",
              "\n",
              "  .colab-df-spinner {\n",
              "    border: 2px solid var(--fill-color);\n",
              "    border-color: transparent;\n",
              "    border-bottom-color: var(--fill-color);\n",
              "    animation:\n",
              "      spin 1s steps(1) infinite;\n",
              "  }\n",
              "\n",
              "  @keyframes spin {\n",
              "    0% {\n",
              "      border-color: transparent;\n",
              "      border-bottom-color: var(--fill-color);\n",
              "      border-left-color: var(--fill-color);\n",
              "    }\n",
              "    20% {\n",
              "      border-color: transparent;\n",
              "      border-left-color: var(--fill-color);\n",
              "      border-top-color: var(--fill-color);\n",
              "    }\n",
              "    30% {\n",
              "      border-color: transparent;\n",
              "      border-left-color: var(--fill-color);\n",
              "      border-top-color: var(--fill-color);\n",
              "      border-right-color: var(--fill-color);\n",
              "    }\n",
              "    40% {\n",
              "      border-color: transparent;\n",
              "      border-right-color: var(--fill-color);\n",
              "      border-top-color: var(--fill-color);\n",
              "    }\n",
              "    60% {\n",
              "      border-color: transparent;\n",
              "      border-right-color: var(--fill-color);\n",
              "    }\n",
              "    80% {\n",
              "      border-color: transparent;\n",
              "      border-right-color: var(--fill-color);\n",
              "      border-bottom-color: var(--fill-color);\n",
              "    }\n",
              "    90% {\n",
              "      border-color: transparent;\n",
              "      border-bottom-color: var(--fill-color);\n",
              "    }\n",
              "  }\n",
              "</style>\n",
              "\n",
              "  <script>\n",
              "    async function quickchart(key) {\n",
              "      const quickchartButtonEl =\n",
              "        document.querySelector('#' + key + ' button');\n",
              "      quickchartButtonEl.disabled = true;  // To prevent multiple clicks.\n",
              "      quickchartButtonEl.classList.add('colab-df-spinner');\n",
              "      try {\n",
              "        const charts = await google.colab.kernel.invokeFunction(\n",
              "            'suggestCharts', [key], {});\n",
              "      } catch (error) {\n",
              "        console.error('Error during call to suggestCharts:', error);\n",
              "      }\n",
              "      quickchartButtonEl.classList.remove('colab-df-spinner');\n",
              "      quickchartButtonEl.classList.add('colab-df-quickchart-complete');\n",
              "    }\n",
              "    (() => {\n",
              "      let quickchartButtonEl =\n",
              "        document.querySelector('#df-a9fba2b8-0d92-4cc3-aee4-05a30298db5b button');\n",
              "      quickchartButtonEl.style.display =\n",
              "        google.colab.kernel.accessAllowed ? 'block' : 'none';\n",
              "    })();\n",
              "  </script>\n",
              "</div>\n",
              "    </div>\n",
              "  </div>\n"
            ]
          },
          "metadata": {},
          "execution_count": 28
        }
      ]
    },
    {
      "cell_type": "code",
      "source": [
        "X_train_navec[NewCols] = pd.DataFrame(X_train_navec['vectors'].tolist(), index= X_train_navec.index)\n",
        "X_test_navec[NewCols] = pd.DataFrame(X_test_navec['vectors'].tolist(), index= X_test_navec.index)"
      ],
      "metadata": {
        "id": "8tYSKTbmHdoq"
      },
      "execution_count": null,
      "outputs": []
    },
    {
      "cell_type": "code",
      "source": [
        "X_train_navec.head()"
      ],
      "metadata": {
        "colab": {
          "base_uri": "https://localhost:8080/",
          "height": 603
        },
        "id": "7qMLTIDjHs64",
        "outputId": "9ee1d999-21d3-45c8-d580-5a9e63cae847"
      },
      "execution_count": null,
      "outputs": [
        {
          "output_type": "execute_result",
          "data": {
            "text/plain": [
              "                                                 content  \\\n",
              "26460  Кадр: @reecejames Николай Костюков Английский ...   \n",
              "36062  Фото: Министерство обороны РФ / РИА Новости Ни...   \n",
              "22197  Фото: Михаил Джапаридзе / ТАСС Алекса Аксакова...   \n",
              "29823  Фото: Pixabay Виктория Кондратьева В городе Ка...   \n",
              "16975  В Башкирии чиновник обматерил местного жителя,...   \n",
              "\n",
              "                                           content_clean  mean_w2v   max_w2v  \\\n",
              "26460  кадр reecejames николай костюков защитник челс... -0.012824  1.339583   \n",
              "36062  фото министерство оборона риа новость никита а... -0.041981  1.574258   \n",
              "22197  фото михаил джапаридзе тасс алекс аксаков милл... -0.020011  1.259819   \n",
              "29823  фото pixabay виктория кондратьев город качкана... -0.019750  1.335371   \n",
              "16975  башкирия чиновник обматерить местный житель пр...  0.004188  0.877347   \n",
              "\n",
              "        mean_tf    max_tf                                            vectors  \\\n",
              "26460 -0.071109  6.597387  [0.040373437, -0.044753682, -0.014275469, 0.20...   \n",
              "36062 -0.157066  6.142687  [-0.04654625, -0.18393707, -0.037581947, 0.068...   \n",
              "22197 -0.075489  5.312569  [-0.0076509984, -0.14936692, -0.09365584, 0.17...   \n",
              "29823 -0.096587  6.305456  [0.020762736, -0.12128142, -0.08194063, 0.0959...   \n",
              "16975  0.024898  3.505953  [0.026577257, -0.05295464, -0.006716688, 0.082...   \n",
              "\n",
              "           col0      col1      col2  ...    col290    col291    col292  \\\n",
              "26460  0.040373 -0.044754 -0.014275  ...  0.151177  0.267800 -0.014835   \n",
              "36062 -0.046546 -0.183937 -0.037582  ...  0.122373  0.112150 -0.086288   \n",
              "22197 -0.007651 -0.149367 -0.093656  ...  0.113310  0.149989 -0.116707   \n",
              "29823  0.020763 -0.121281 -0.081941  ...  0.155983  0.138679  0.056608   \n",
              "16975  0.026577 -0.052955 -0.006717  ...  0.167372  0.155685 -0.008896   \n",
              "\n",
              "         col293    col294    col295    col296    col297    col298    col299  \n",
              "26460  0.140306 -0.041970  0.003104  0.297582  0.113405  0.005165 -0.086479  \n",
              "36062  0.102340 -0.027085  0.096666  0.224928 -0.068760  0.072320 -0.132715  \n",
              "22197  0.104497 -0.034415  0.059256  0.196581  0.031802  0.035446 -0.135028  \n",
              "29823  0.069123 -0.109356  0.129159  0.173831  0.103273 -0.001785 -0.071128  \n",
              "16975  0.100504 -0.033962  0.041272  0.088022  0.068250  0.039063 -0.126219  \n",
              "\n",
              "[5 rows x 307 columns]"
            ],
            "text/html": [
              "\n",
              "  <div id=\"df-eded81b8-a523-4564-81d1-b4b479d11a56\" class=\"colab-df-container\">\n",
              "    <div>\n",
              "<style scoped>\n",
              "    .dataframe tbody tr th:only-of-type {\n",
              "        vertical-align: middle;\n",
              "    }\n",
              "\n",
              "    .dataframe tbody tr th {\n",
              "        vertical-align: top;\n",
              "    }\n",
              "\n",
              "    .dataframe thead th {\n",
              "        text-align: right;\n",
              "    }\n",
              "</style>\n",
              "<table border=\"1\" class=\"dataframe\">\n",
              "  <thead>\n",
              "    <tr style=\"text-align: right;\">\n",
              "      <th></th>\n",
              "      <th>content</th>\n",
              "      <th>content_clean</th>\n",
              "      <th>mean_w2v</th>\n",
              "      <th>max_w2v</th>\n",
              "      <th>mean_tf</th>\n",
              "      <th>max_tf</th>\n",
              "      <th>vectors</th>\n",
              "      <th>col0</th>\n",
              "      <th>col1</th>\n",
              "      <th>col2</th>\n",
              "      <th>...</th>\n",
              "      <th>col290</th>\n",
              "      <th>col291</th>\n",
              "      <th>col292</th>\n",
              "      <th>col293</th>\n",
              "      <th>col294</th>\n",
              "      <th>col295</th>\n",
              "      <th>col296</th>\n",
              "      <th>col297</th>\n",
              "      <th>col298</th>\n",
              "      <th>col299</th>\n",
              "    </tr>\n",
              "  </thead>\n",
              "  <tbody>\n",
              "    <tr>\n",
              "      <th>26460</th>\n",
              "      <td>Кадр: @reecejames Николай Костюков Английский ...</td>\n",
              "      <td>кадр reecejames николай костюков защитник челс...</td>\n",
              "      <td>-0.012824</td>\n",
              "      <td>1.339583</td>\n",
              "      <td>-0.071109</td>\n",
              "      <td>6.597387</td>\n",
              "      <td>[0.040373437, -0.044753682, -0.014275469, 0.20...</td>\n",
              "      <td>0.040373</td>\n",
              "      <td>-0.044754</td>\n",
              "      <td>-0.014275</td>\n",
              "      <td>...</td>\n",
              "      <td>0.151177</td>\n",
              "      <td>0.267800</td>\n",
              "      <td>-0.014835</td>\n",
              "      <td>0.140306</td>\n",
              "      <td>-0.041970</td>\n",
              "      <td>0.003104</td>\n",
              "      <td>0.297582</td>\n",
              "      <td>0.113405</td>\n",
              "      <td>0.005165</td>\n",
              "      <td>-0.086479</td>\n",
              "    </tr>\n",
              "    <tr>\n",
              "      <th>36062</th>\n",
              "      <td>Фото: Министерство обороны РФ / РИА Новости Ни...</td>\n",
              "      <td>фото министерство оборона риа новость никита а...</td>\n",
              "      <td>-0.041981</td>\n",
              "      <td>1.574258</td>\n",
              "      <td>-0.157066</td>\n",
              "      <td>6.142687</td>\n",
              "      <td>[-0.04654625, -0.18393707, -0.037581947, 0.068...</td>\n",
              "      <td>-0.046546</td>\n",
              "      <td>-0.183937</td>\n",
              "      <td>-0.037582</td>\n",
              "      <td>...</td>\n",
              "      <td>0.122373</td>\n",
              "      <td>0.112150</td>\n",
              "      <td>-0.086288</td>\n",
              "      <td>0.102340</td>\n",
              "      <td>-0.027085</td>\n",
              "      <td>0.096666</td>\n",
              "      <td>0.224928</td>\n",
              "      <td>-0.068760</td>\n",
              "      <td>0.072320</td>\n",
              "      <td>-0.132715</td>\n",
              "    </tr>\n",
              "    <tr>\n",
              "      <th>22197</th>\n",
              "      <td>Фото: Михаил Джапаридзе / ТАСС Алекса Аксакова...</td>\n",
              "      <td>фото михаил джапаридзе тасс алекс аксаков милл...</td>\n",
              "      <td>-0.020011</td>\n",
              "      <td>1.259819</td>\n",
              "      <td>-0.075489</td>\n",
              "      <td>5.312569</td>\n",
              "      <td>[-0.0076509984, -0.14936692, -0.09365584, 0.17...</td>\n",
              "      <td>-0.007651</td>\n",
              "      <td>-0.149367</td>\n",
              "      <td>-0.093656</td>\n",
              "      <td>...</td>\n",
              "      <td>0.113310</td>\n",
              "      <td>0.149989</td>\n",
              "      <td>-0.116707</td>\n",
              "      <td>0.104497</td>\n",
              "      <td>-0.034415</td>\n",
              "      <td>0.059256</td>\n",
              "      <td>0.196581</td>\n",
              "      <td>0.031802</td>\n",
              "      <td>0.035446</td>\n",
              "      <td>-0.135028</td>\n",
              "    </tr>\n",
              "    <tr>\n",
              "      <th>29823</th>\n",
              "      <td>Фото: Pixabay Виктория Кондратьева В городе Ка...</td>\n",
              "      <td>фото pixabay виктория кондратьев город качкана...</td>\n",
              "      <td>-0.019750</td>\n",
              "      <td>1.335371</td>\n",
              "      <td>-0.096587</td>\n",
              "      <td>6.305456</td>\n",
              "      <td>[0.020762736, -0.12128142, -0.08194063, 0.0959...</td>\n",
              "      <td>0.020763</td>\n",
              "      <td>-0.121281</td>\n",
              "      <td>-0.081941</td>\n",
              "      <td>...</td>\n",
              "      <td>0.155983</td>\n",
              "      <td>0.138679</td>\n",
              "      <td>0.056608</td>\n",
              "      <td>0.069123</td>\n",
              "      <td>-0.109356</td>\n",
              "      <td>0.129159</td>\n",
              "      <td>0.173831</td>\n",
              "      <td>0.103273</td>\n",
              "      <td>-0.001785</td>\n",
              "      <td>-0.071128</td>\n",
              "    </tr>\n",
              "    <tr>\n",
              "      <th>16975</th>\n",
              "      <td>В Башкирии чиновник обматерил местного жителя,...</td>\n",
              "      <td>башкирия чиновник обматерить местный житель пр...</td>\n",
              "      <td>0.004188</td>\n",
              "      <td>0.877347</td>\n",
              "      <td>0.024898</td>\n",
              "      <td>3.505953</td>\n",
              "      <td>[0.026577257, -0.05295464, -0.006716688, 0.082...</td>\n",
              "      <td>0.026577</td>\n",
              "      <td>-0.052955</td>\n",
              "      <td>-0.006717</td>\n",
              "      <td>...</td>\n",
              "      <td>0.167372</td>\n",
              "      <td>0.155685</td>\n",
              "      <td>-0.008896</td>\n",
              "      <td>0.100504</td>\n",
              "      <td>-0.033962</td>\n",
              "      <td>0.041272</td>\n",
              "      <td>0.088022</td>\n",
              "      <td>0.068250</td>\n",
              "      <td>0.039063</td>\n",
              "      <td>-0.126219</td>\n",
              "    </tr>\n",
              "  </tbody>\n",
              "</table>\n",
              "<p>5 rows × 307 columns</p>\n",
              "</div>\n",
              "    <div class=\"colab-df-buttons\">\n",
              "\n",
              "  <div class=\"colab-df-container\">\n",
              "    <button class=\"colab-df-convert\" onclick=\"convertToInteractive('df-eded81b8-a523-4564-81d1-b4b479d11a56')\"\n",
              "            title=\"Convert this dataframe to an interactive table.\"\n",
              "            style=\"display:none;\">\n",
              "\n",
              "  <svg xmlns=\"http://www.w3.org/2000/svg\" height=\"24px\" viewBox=\"0 -960 960 960\">\n",
              "    <path d=\"M120-120v-720h720v720H120Zm60-500h600v-160H180v160Zm220 220h160v-160H400v160Zm0 220h160v-160H400v160ZM180-400h160v-160H180v160Zm440 0h160v-160H620v160ZM180-180h160v-160H180v160Zm440 0h160v-160H620v160Z\"/>\n",
              "  </svg>\n",
              "    </button>\n",
              "\n",
              "  <style>\n",
              "    .colab-df-container {\n",
              "      display:flex;\n",
              "      gap: 12px;\n",
              "    }\n",
              "\n",
              "    .colab-df-convert {\n",
              "      background-color: #E8F0FE;\n",
              "      border: none;\n",
              "      border-radius: 50%;\n",
              "      cursor: pointer;\n",
              "      display: none;\n",
              "      fill: #1967D2;\n",
              "      height: 32px;\n",
              "      padding: 0 0 0 0;\n",
              "      width: 32px;\n",
              "    }\n",
              "\n",
              "    .colab-df-convert:hover {\n",
              "      background-color: #E2EBFA;\n",
              "      box-shadow: 0px 1px 2px rgba(60, 64, 67, 0.3), 0px 1px 3px 1px rgba(60, 64, 67, 0.15);\n",
              "      fill: #174EA6;\n",
              "    }\n",
              "\n",
              "    .colab-df-buttons div {\n",
              "      margin-bottom: 4px;\n",
              "    }\n",
              "\n",
              "    [theme=dark] .colab-df-convert {\n",
              "      background-color: #3B4455;\n",
              "      fill: #D2E3FC;\n",
              "    }\n",
              "\n",
              "    [theme=dark] .colab-df-convert:hover {\n",
              "      background-color: #434B5C;\n",
              "      box-shadow: 0px 1px 3px 1px rgba(0, 0, 0, 0.15);\n",
              "      filter: drop-shadow(0px 1px 2px rgba(0, 0, 0, 0.3));\n",
              "      fill: #FFFFFF;\n",
              "    }\n",
              "  </style>\n",
              "\n",
              "    <script>\n",
              "      const buttonEl =\n",
              "        document.querySelector('#df-eded81b8-a523-4564-81d1-b4b479d11a56 button.colab-df-convert');\n",
              "      buttonEl.style.display =\n",
              "        google.colab.kernel.accessAllowed ? 'block' : 'none';\n",
              "\n",
              "      async function convertToInteractive(key) {\n",
              "        const element = document.querySelector('#df-eded81b8-a523-4564-81d1-b4b479d11a56');\n",
              "        const dataTable =\n",
              "          await google.colab.kernel.invokeFunction('convertToInteractive',\n",
              "                                                    [key], {});\n",
              "        if (!dataTable) return;\n",
              "\n",
              "        const docLinkHtml = 'Like what you see? Visit the ' +\n",
              "          '<a target=\"_blank\" href=https://colab.research.google.com/notebooks/data_table.ipynb>data table notebook</a>'\n",
              "          + ' to learn more about interactive tables.';\n",
              "        element.innerHTML = '';\n",
              "        dataTable['output_type'] = 'display_data';\n",
              "        await google.colab.output.renderOutput(dataTable, element);\n",
              "        const docLink = document.createElement('div');\n",
              "        docLink.innerHTML = docLinkHtml;\n",
              "        element.appendChild(docLink);\n",
              "      }\n",
              "    </script>\n",
              "  </div>\n",
              "\n",
              "\n",
              "<div id=\"df-462a47b4-d0e4-4d42-be49-33f4bb7d9c8a\">\n",
              "  <button class=\"colab-df-quickchart\" onclick=\"quickchart('df-462a47b4-d0e4-4d42-be49-33f4bb7d9c8a')\"\n",
              "            title=\"Suggest charts\"\n",
              "            style=\"display:none;\">\n",
              "\n",
              "<svg xmlns=\"http://www.w3.org/2000/svg\" height=\"24px\"viewBox=\"0 0 24 24\"\n",
              "     width=\"24px\">\n",
              "    <g>\n",
              "        <path d=\"M19 3H5c-1.1 0-2 .9-2 2v14c0 1.1.9 2 2 2h14c1.1 0 2-.9 2-2V5c0-1.1-.9-2-2-2zM9 17H7v-7h2v7zm4 0h-2V7h2v10zm4 0h-2v-4h2v4z\"/>\n",
              "    </g>\n",
              "</svg>\n",
              "  </button>\n",
              "\n",
              "<style>\n",
              "  .colab-df-quickchart {\n",
              "      --bg-color: #E8F0FE;\n",
              "      --fill-color: #1967D2;\n",
              "      --hover-bg-color: #E2EBFA;\n",
              "      --hover-fill-color: #174EA6;\n",
              "      --disabled-fill-color: #AAA;\n",
              "      --disabled-bg-color: #DDD;\n",
              "  }\n",
              "\n",
              "  [theme=dark] .colab-df-quickchart {\n",
              "      --bg-color: #3B4455;\n",
              "      --fill-color: #D2E3FC;\n",
              "      --hover-bg-color: #434B5C;\n",
              "      --hover-fill-color: #FFFFFF;\n",
              "      --disabled-bg-color: #3B4455;\n",
              "      --disabled-fill-color: #666;\n",
              "  }\n",
              "\n",
              "  .colab-df-quickchart {\n",
              "    background-color: var(--bg-color);\n",
              "    border: none;\n",
              "    border-radius: 50%;\n",
              "    cursor: pointer;\n",
              "    display: none;\n",
              "    fill: var(--fill-color);\n",
              "    height: 32px;\n",
              "    padding: 0;\n",
              "    width: 32px;\n",
              "  }\n",
              "\n",
              "  .colab-df-quickchart:hover {\n",
              "    background-color: var(--hover-bg-color);\n",
              "    box-shadow: 0 1px 2px rgba(60, 64, 67, 0.3), 0 1px 3px 1px rgba(60, 64, 67, 0.15);\n",
              "    fill: var(--button-hover-fill-color);\n",
              "  }\n",
              "\n",
              "  .colab-df-quickchart-complete:disabled,\n",
              "  .colab-df-quickchart-complete:disabled:hover {\n",
              "    background-color: var(--disabled-bg-color);\n",
              "    fill: var(--disabled-fill-color);\n",
              "    box-shadow: none;\n",
              "  }\n",
              "\n",
              "  .colab-df-spinner {\n",
              "    border: 2px solid var(--fill-color);\n",
              "    border-color: transparent;\n",
              "    border-bottom-color: var(--fill-color);\n",
              "    animation:\n",
              "      spin 1s steps(1) infinite;\n",
              "  }\n",
              "\n",
              "  @keyframes spin {\n",
              "    0% {\n",
              "      border-color: transparent;\n",
              "      border-bottom-color: var(--fill-color);\n",
              "      border-left-color: var(--fill-color);\n",
              "    }\n",
              "    20% {\n",
              "      border-color: transparent;\n",
              "      border-left-color: var(--fill-color);\n",
              "      border-top-color: var(--fill-color);\n",
              "    }\n",
              "    30% {\n",
              "      border-color: transparent;\n",
              "      border-left-color: var(--fill-color);\n",
              "      border-top-color: var(--fill-color);\n",
              "      border-right-color: var(--fill-color);\n",
              "    }\n",
              "    40% {\n",
              "      border-color: transparent;\n",
              "      border-right-color: var(--fill-color);\n",
              "      border-top-color: var(--fill-color);\n",
              "    }\n",
              "    60% {\n",
              "      border-color: transparent;\n",
              "      border-right-color: var(--fill-color);\n",
              "    }\n",
              "    80% {\n",
              "      border-color: transparent;\n",
              "      border-right-color: var(--fill-color);\n",
              "      border-bottom-color: var(--fill-color);\n",
              "    }\n",
              "    90% {\n",
              "      border-color: transparent;\n",
              "      border-bottom-color: var(--fill-color);\n",
              "    }\n",
              "  }\n",
              "</style>\n",
              "\n",
              "  <script>\n",
              "    async function quickchart(key) {\n",
              "      const quickchartButtonEl =\n",
              "        document.querySelector('#' + key + ' button');\n",
              "      quickchartButtonEl.disabled = true;  // To prevent multiple clicks.\n",
              "      quickchartButtonEl.classList.add('colab-df-spinner');\n",
              "      try {\n",
              "        const charts = await google.colab.kernel.invokeFunction(\n",
              "            'suggestCharts', [key], {});\n",
              "      } catch (error) {\n",
              "        console.error('Error during call to suggestCharts:', error);\n",
              "      }\n",
              "      quickchartButtonEl.classList.remove('colab-df-spinner');\n",
              "      quickchartButtonEl.classList.add('colab-df-quickchart-complete');\n",
              "    }\n",
              "    (() => {\n",
              "      let quickchartButtonEl =\n",
              "        document.querySelector('#df-462a47b4-d0e4-4d42-be49-33f4bb7d9c8a button');\n",
              "      quickchartButtonEl.style.display =\n",
              "        google.colab.kernel.accessAllowed ? 'block' : 'none';\n",
              "    })();\n",
              "  </script>\n",
              "</div>\n",
              "    </div>\n",
              "  </div>\n"
            ]
          },
          "metadata": {},
          "execution_count": 30
        }
      ]
    },
    {
      "cell_type": "code",
      "source": [
        "X_train_navec.drop(['content','content_clean','vectors'], axis=1, inplace=True)\n",
        "X_test_navec.drop(['content','content_clean', 'vectors'], axis=1, inplace=True)"
      ],
      "metadata": {
        "id": "KvMl_D8lHpRd"
      },
      "execution_count": null,
      "outputs": []
    },
    {
      "cell_type": "code",
      "source": [
        "trainw2v.columns"
      ],
      "metadata": {
        "colab": {
          "base_uri": "https://localhost:8080/",
          "height": 322
        },
        "id": "AheqIaXhMELX",
        "outputId": "4f9ba89f-712f-4358-a775-cc8ab050d496"
      },
      "execution_count": null,
      "outputs": [
        {
          "output_type": "error",
          "ename": "TypeError",
          "evalue": "ignored",
          "traceback": [
            "\u001b[0;31m---------------------------------------------------------------------------\u001b[0m",
            "\u001b[0;31mTypeError\u001b[0m                                 Traceback (most recent call last)",
            "\u001b[0;32m<ipython-input-40-2d1c5bf2fb47>\u001b[0m in \u001b[0;36m<cell line: 1>\u001b[0;34m()\u001b[0m\n\u001b[0;32m----> 1\u001b[0;31m \u001b[0;34m~\u001b[0m\u001b[0mtrainw2v\u001b[0m\u001b[0;34m.\u001b[0m\u001b[0mcolumns\u001b[0m\u001b[0;34m\u001b[0m\u001b[0;34m\u001b[0m\u001b[0m\n\u001b[0m",
            "\u001b[0;32m/usr/local/lib/python3.10/dist-packages/pandas/core/indexes/base.py\u001b[0m in \u001b[0;36m__invert__\u001b[0;34m(self)\u001b[0m\n\u001b[1;32m   7023\u001b[0m     \u001b[0;32mdef\u001b[0m \u001b[0m__invert__\u001b[0m\u001b[0;34m(\u001b[0m\u001b[0mself\u001b[0m\u001b[0;34m)\u001b[0m \u001b[0;34m->\u001b[0m \u001b[0mIndex\u001b[0m\u001b[0;34m:\u001b[0m\u001b[0;34m\u001b[0m\u001b[0;34m\u001b[0m\u001b[0m\n\u001b[1;32m   7024\u001b[0m         \u001b[0;31m# GH#8875\u001b[0m\u001b[0;34m\u001b[0m\u001b[0;34m\u001b[0m\u001b[0m\n\u001b[0;32m-> 7025\u001b[0;31m         \u001b[0;32mreturn\u001b[0m \u001b[0mself\u001b[0m\u001b[0;34m.\u001b[0m\u001b[0m_unary_method\u001b[0m\u001b[0;34m(\u001b[0m\u001b[0moperator\u001b[0m\u001b[0;34m.\u001b[0m\u001b[0minv\u001b[0m\u001b[0;34m)\u001b[0m\u001b[0;34m\u001b[0m\u001b[0;34m\u001b[0m\u001b[0m\n\u001b[0m\u001b[1;32m   7026\u001b[0m \u001b[0;34m\u001b[0m\u001b[0m\n\u001b[1;32m   7027\u001b[0m     \u001b[0;31m# --------------------------------------------------------------------\u001b[0m\u001b[0;34m\u001b[0m\u001b[0;34m\u001b[0m\u001b[0m\n",
            "\u001b[0;32m/usr/local/lib/python3.10/dist-packages/pandas/core/indexes/base.py\u001b[0m in \u001b[0;36m_unary_method\u001b[0;34m(self, op)\u001b[0m\n\u001b[1;32m   7009\u001b[0m     \u001b[0;34m@\u001b[0m\u001b[0mfinal\u001b[0m\u001b[0;34m\u001b[0m\u001b[0;34m\u001b[0m\u001b[0m\n\u001b[1;32m   7010\u001b[0m     \u001b[0;32mdef\u001b[0m \u001b[0m_unary_method\u001b[0m\u001b[0;34m(\u001b[0m\u001b[0mself\u001b[0m\u001b[0;34m,\u001b[0m \u001b[0mop\u001b[0m\u001b[0;34m)\u001b[0m\u001b[0;34m:\u001b[0m\u001b[0;34m\u001b[0m\u001b[0;34m\u001b[0m\u001b[0m\n\u001b[0;32m-> 7011\u001b[0;31m         \u001b[0mresult\u001b[0m \u001b[0;34m=\u001b[0m \u001b[0mop\u001b[0m\u001b[0;34m(\u001b[0m\u001b[0mself\u001b[0m\u001b[0;34m.\u001b[0m\u001b[0m_values\u001b[0m\u001b[0;34m)\u001b[0m\u001b[0;34m\u001b[0m\u001b[0;34m\u001b[0m\u001b[0m\n\u001b[0m\u001b[1;32m   7012\u001b[0m         \u001b[0;32mreturn\u001b[0m \u001b[0mIndex\u001b[0m\u001b[0;34m(\u001b[0m\u001b[0mresult\u001b[0m\u001b[0;34m,\u001b[0m \u001b[0mname\u001b[0m\u001b[0;34m=\u001b[0m\u001b[0mself\u001b[0m\u001b[0;34m.\u001b[0m\u001b[0mname\u001b[0m\u001b[0;34m)\u001b[0m\u001b[0;34m\u001b[0m\u001b[0;34m\u001b[0m\u001b[0m\n\u001b[1;32m   7013\u001b[0m \u001b[0;34m\u001b[0m\u001b[0m\n",
            "\u001b[0;31mTypeError\u001b[0m: bad operand type for unary ~: 'str'"
          ]
        }
      ]
    },
    {
      "cell_type": "code",
      "source": [
        "trainw2v[['content', 'topic']]"
      ],
      "metadata": {
        "colab": {
          "base_uri": "https://localhost:8080/",
          "height": 424
        },
        "id": "VAHBnWnzLzvF",
        "outputId": "72b75e1b-2a17-499c-be6d-791b5f3f56b1"
      },
      "execution_count": null,
      "outputs": [
        {
          "output_type": "execute_result",
          "data": {
            "text/plain": [
              "                                                 content  topic\n",
              "0      Поклонники Гарри Поттера со всего мира смотрят...      0\n",
              "1      Египетский курорт засыпало градом 1 января. В ...      0\n",
              "2      Главное управление по Краснодарскому краю МЧС ...      0\n",
              "3      В новогоднюю ночь в родильных домах Петербурга...      0\n",
              "4      Договор с названием RCEP (Regional Comprehensi...      0\n",
              "...                                                  ...    ...\n",
              "39141  Фото: Григорий Сысоев / ТАСС Кристина Есикова ...      3\n",
              "39142  Фото: Александр Миридонов / Коммерсантъ Олеся ...      2\n",
              "39143  Фото: Unsplash Марина Черняк 47-летняя немецка...      7\n",
              "39144  Фото: Viacheslav Ratynskyi / Reuters Варвара Р...      0\n",
              "39145  Фото: Пресс-служба Президента Республики Белар...      3\n",
              "\n",
              "[39146 rows x 2 columns]"
            ],
            "text/html": [
              "\n",
              "  <div id=\"df-a2c4299c-fb6d-4894-892d-c92e22a7395a\" class=\"colab-df-container\">\n",
              "    <div>\n",
              "<style scoped>\n",
              "    .dataframe tbody tr th:only-of-type {\n",
              "        vertical-align: middle;\n",
              "    }\n",
              "\n",
              "    .dataframe tbody tr th {\n",
              "        vertical-align: top;\n",
              "    }\n",
              "\n",
              "    .dataframe thead th {\n",
              "        text-align: right;\n",
              "    }\n",
              "</style>\n",
              "<table border=\"1\" class=\"dataframe\">\n",
              "  <thead>\n",
              "    <tr style=\"text-align: right;\">\n",
              "      <th></th>\n",
              "      <th>content</th>\n",
              "      <th>topic</th>\n",
              "    </tr>\n",
              "  </thead>\n",
              "  <tbody>\n",
              "    <tr>\n",
              "      <th>0</th>\n",
              "      <td>Поклонники Гарри Поттера со всего мира смотрят...</td>\n",
              "      <td>0</td>\n",
              "    </tr>\n",
              "    <tr>\n",
              "      <th>1</th>\n",
              "      <td>Египетский курорт засыпало градом 1 января. В ...</td>\n",
              "      <td>0</td>\n",
              "    </tr>\n",
              "    <tr>\n",
              "      <th>2</th>\n",
              "      <td>Главное управление по Краснодарскому краю МЧС ...</td>\n",
              "      <td>0</td>\n",
              "    </tr>\n",
              "    <tr>\n",
              "      <th>3</th>\n",
              "      <td>В новогоднюю ночь в родильных домах Петербурга...</td>\n",
              "      <td>0</td>\n",
              "    </tr>\n",
              "    <tr>\n",
              "      <th>4</th>\n",
              "      <td>Договор с названием RCEP (Regional Comprehensi...</td>\n",
              "      <td>0</td>\n",
              "    </tr>\n",
              "    <tr>\n",
              "      <th>...</th>\n",
              "      <td>...</td>\n",
              "      <td>...</td>\n",
              "    </tr>\n",
              "    <tr>\n",
              "      <th>39141</th>\n",
              "      <td>Фото: Григорий Сысоев / ТАСС Кристина Есикова ...</td>\n",
              "      <td>3</td>\n",
              "    </tr>\n",
              "    <tr>\n",
              "      <th>39142</th>\n",
              "      <td>Фото: Александр Миридонов / Коммерсантъ Олеся ...</td>\n",
              "      <td>2</td>\n",
              "    </tr>\n",
              "    <tr>\n",
              "      <th>39143</th>\n",
              "      <td>Фото: Unsplash Марина Черняк 47-летняя немецка...</td>\n",
              "      <td>7</td>\n",
              "    </tr>\n",
              "    <tr>\n",
              "      <th>39144</th>\n",
              "      <td>Фото: Viacheslav Ratynskyi / Reuters Варвара Р...</td>\n",
              "      <td>0</td>\n",
              "    </tr>\n",
              "    <tr>\n",
              "      <th>39145</th>\n",
              "      <td>Фото: Пресс-служба Президента Республики Белар...</td>\n",
              "      <td>3</td>\n",
              "    </tr>\n",
              "  </tbody>\n",
              "</table>\n",
              "<p>39146 rows × 2 columns</p>\n",
              "</div>\n",
              "    <div class=\"colab-df-buttons\">\n",
              "\n",
              "  <div class=\"colab-df-container\">\n",
              "    <button class=\"colab-df-convert\" onclick=\"convertToInteractive('df-a2c4299c-fb6d-4894-892d-c92e22a7395a')\"\n",
              "            title=\"Convert this dataframe to an interactive table.\"\n",
              "            style=\"display:none;\">\n",
              "\n",
              "  <svg xmlns=\"http://www.w3.org/2000/svg\" height=\"24px\" viewBox=\"0 -960 960 960\">\n",
              "    <path d=\"M120-120v-720h720v720H120Zm60-500h600v-160H180v160Zm220 220h160v-160H400v160Zm0 220h160v-160H400v160ZM180-400h160v-160H180v160Zm440 0h160v-160H620v160ZM180-180h160v-160H180v160Zm440 0h160v-160H620v160Z\"/>\n",
              "  </svg>\n",
              "    </button>\n",
              "\n",
              "  <style>\n",
              "    .colab-df-container {\n",
              "      display:flex;\n",
              "      gap: 12px;\n",
              "    }\n",
              "\n",
              "    .colab-df-convert {\n",
              "      background-color: #E8F0FE;\n",
              "      border: none;\n",
              "      border-radius: 50%;\n",
              "      cursor: pointer;\n",
              "      display: none;\n",
              "      fill: #1967D2;\n",
              "      height: 32px;\n",
              "      padding: 0 0 0 0;\n",
              "      width: 32px;\n",
              "    }\n",
              "\n",
              "    .colab-df-convert:hover {\n",
              "      background-color: #E2EBFA;\n",
              "      box-shadow: 0px 1px 2px rgba(60, 64, 67, 0.3), 0px 1px 3px 1px rgba(60, 64, 67, 0.15);\n",
              "      fill: #174EA6;\n",
              "    }\n",
              "\n",
              "    .colab-df-buttons div {\n",
              "      margin-bottom: 4px;\n",
              "    }\n",
              "\n",
              "    [theme=dark] .colab-df-convert {\n",
              "      background-color: #3B4455;\n",
              "      fill: #D2E3FC;\n",
              "    }\n",
              "\n",
              "    [theme=dark] .colab-df-convert:hover {\n",
              "      background-color: #434B5C;\n",
              "      box-shadow: 0px 1px 3px 1px rgba(0, 0, 0, 0.15);\n",
              "      filter: drop-shadow(0px 1px 2px rgba(0, 0, 0, 0.3));\n",
              "      fill: #FFFFFF;\n",
              "    }\n",
              "  </style>\n",
              "\n",
              "    <script>\n",
              "      const buttonEl =\n",
              "        document.querySelector('#df-a2c4299c-fb6d-4894-892d-c92e22a7395a button.colab-df-convert');\n",
              "      buttonEl.style.display =\n",
              "        google.colab.kernel.accessAllowed ? 'block' : 'none';\n",
              "\n",
              "      async function convertToInteractive(key) {\n",
              "        const element = document.querySelector('#df-a2c4299c-fb6d-4894-892d-c92e22a7395a');\n",
              "        const dataTable =\n",
              "          await google.colab.kernel.invokeFunction('convertToInteractive',\n",
              "                                                    [key], {});\n",
              "        if (!dataTable) return;\n",
              "\n",
              "        const docLinkHtml = 'Like what you see? Visit the ' +\n",
              "          '<a target=\"_blank\" href=https://colab.research.google.com/notebooks/data_table.ipynb>data table notebook</a>'\n",
              "          + ' to learn more about interactive tables.';\n",
              "        element.innerHTML = '';\n",
              "        dataTable['output_type'] = 'display_data';\n",
              "        await google.colab.output.renderOutput(dataTable, element);\n",
              "        const docLink = document.createElement('div');\n",
              "        docLink.innerHTML = docLinkHtml;\n",
              "        element.appendChild(docLink);\n",
              "      }\n",
              "    </script>\n",
              "  </div>\n",
              "\n",
              "\n",
              "<div id=\"df-f2809081-3b2a-4764-90ee-44c6e4eb0e5d\">\n",
              "  <button class=\"colab-df-quickchart\" onclick=\"quickchart('df-f2809081-3b2a-4764-90ee-44c6e4eb0e5d')\"\n",
              "            title=\"Suggest charts\"\n",
              "            style=\"display:none;\">\n",
              "\n",
              "<svg xmlns=\"http://www.w3.org/2000/svg\" height=\"24px\"viewBox=\"0 0 24 24\"\n",
              "     width=\"24px\">\n",
              "    <g>\n",
              "        <path d=\"M19 3H5c-1.1 0-2 .9-2 2v14c0 1.1.9 2 2 2h14c1.1 0 2-.9 2-2V5c0-1.1-.9-2-2-2zM9 17H7v-7h2v7zm4 0h-2V7h2v10zm4 0h-2v-4h2v4z\"/>\n",
              "    </g>\n",
              "</svg>\n",
              "  </button>\n",
              "\n",
              "<style>\n",
              "  .colab-df-quickchart {\n",
              "      --bg-color: #E8F0FE;\n",
              "      --fill-color: #1967D2;\n",
              "      --hover-bg-color: #E2EBFA;\n",
              "      --hover-fill-color: #174EA6;\n",
              "      --disabled-fill-color: #AAA;\n",
              "      --disabled-bg-color: #DDD;\n",
              "  }\n",
              "\n",
              "  [theme=dark] .colab-df-quickchart {\n",
              "      --bg-color: #3B4455;\n",
              "      --fill-color: #D2E3FC;\n",
              "      --hover-bg-color: #434B5C;\n",
              "      --hover-fill-color: #FFFFFF;\n",
              "      --disabled-bg-color: #3B4455;\n",
              "      --disabled-fill-color: #666;\n",
              "  }\n",
              "\n",
              "  .colab-df-quickchart {\n",
              "    background-color: var(--bg-color);\n",
              "    border: none;\n",
              "    border-radius: 50%;\n",
              "    cursor: pointer;\n",
              "    display: none;\n",
              "    fill: var(--fill-color);\n",
              "    height: 32px;\n",
              "    padding: 0;\n",
              "    width: 32px;\n",
              "  }\n",
              "\n",
              "  .colab-df-quickchart:hover {\n",
              "    background-color: var(--hover-bg-color);\n",
              "    box-shadow: 0 1px 2px rgba(60, 64, 67, 0.3), 0 1px 3px 1px rgba(60, 64, 67, 0.15);\n",
              "    fill: var(--button-hover-fill-color);\n",
              "  }\n",
              "\n",
              "  .colab-df-quickchart-complete:disabled,\n",
              "  .colab-df-quickchart-complete:disabled:hover {\n",
              "    background-color: var(--disabled-bg-color);\n",
              "    fill: var(--disabled-fill-color);\n",
              "    box-shadow: none;\n",
              "  }\n",
              "\n",
              "  .colab-df-spinner {\n",
              "    border: 2px solid var(--fill-color);\n",
              "    border-color: transparent;\n",
              "    border-bottom-color: var(--fill-color);\n",
              "    animation:\n",
              "      spin 1s steps(1) infinite;\n",
              "  }\n",
              "\n",
              "  @keyframes spin {\n",
              "    0% {\n",
              "      border-color: transparent;\n",
              "      border-bottom-color: var(--fill-color);\n",
              "      border-left-color: var(--fill-color);\n",
              "    }\n",
              "    20% {\n",
              "      border-color: transparent;\n",
              "      border-left-color: var(--fill-color);\n",
              "      border-top-color: var(--fill-color);\n",
              "    }\n",
              "    30% {\n",
              "      border-color: transparent;\n",
              "      border-left-color: var(--fill-color);\n",
              "      border-top-color: var(--fill-color);\n",
              "      border-right-color: var(--fill-color);\n",
              "    }\n",
              "    40% {\n",
              "      border-color: transparent;\n",
              "      border-right-color: var(--fill-color);\n",
              "      border-top-color: var(--fill-color);\n",
              "    }\n",
              "    60% {\n",
              "      border-color: transparent;\n",
              "      border-right-color: var(--fill-color);\n",
              "    }\n",
              "    80% {\n",
              "      border-color: transparent;\n",
              "      border-right-color: var(--fill-color);\n",
              "      border-bottom-color: var(--fill-color);\n",
              "    }\n",
              "    90% {\n",
              "      border-color: transparent;\n",
              "      border-bottom-color: var(--fill-color);\n",
              "    }\n",
              "  }\n",
              "</style>\n",
              "\n",
              "  <script>\n",
              "    async function quickchart(key) {\n",
              "      const quickchartButtonEl =\n",
              "        document.querySelector('#' + key + ' button');\n",
              "      quickchartButtonEl.disabled = true;  // To prevent multiple clicks.\n",
              "      quickchartButtonEl.classList.add('colab-df-spinner');\n",
              "      try {\n",
              "        const charts = await google.colab.kernel.invokeFunction(\n",
              "            'suggestCharts', [key], {});\n",
              "      } catch (error) {\n",
              "        console.error('Error during call to suggestCharts:', error);\n",
              "      }\n",
              "      quickchartButtonEl.classList.remove('colab-df-spinner');\n",
              "      quickchartButtonEl.classList.add('colab-df-quickchart-complete');\n",
              "    }\n",
              "    (() => {\n",
              "      let quickchartButtonEl =\n",
              "        document.querySelector('#df-f2809081-3b2a-4764-90ee-44c6e4eb0e5d button');\n",
              "      quickchartButtonEl.style.display =\n",
              "        google.colab.kernel.accessAllowed ? 'block' : 'none';\n",
              "    })();\n",
              "  </script>\n",
              "</div>\n",
              "    </div>\n",
              "  </div>\n"
            ]
          },
          "metadata": {},
          "execution_count": 38
        }
      ]
    },
    {
      "cell_type": "code",
      "source": [
        "%%time\n",
        "pipe_log = Pipeline([('scaler', StandardScaler()),\n",
        "                     ('clf', LogisticRegression(random_state=RND_STATE,\n",
        "                                            max_iter=10000,\n",
        "                                            # class_weight='balanced'\n",
        "                                            ))])\n",
        "\n",
        "pipe_log.fit(X_train_navec, y_train)\n",
        "\n",
        "print(classification_report(y_val, pipe_log.predict(X_test_navec)))"
      ],
      "metadata": {
        "colab": {
          "base_uri": "https://localhost:8080/"
        },
        "id": "xhepn47eIR0N",
        "outputId": "ea7b5df5-3fea-4697-eb6c-ce97afa0886d"
      },
      "execution_count": null,
      "outputs": [
        {
          "output_type": "stream",
          "name": "stdout",
          "text": [
            "              precision    recall  f1-score   support\n",
            "\n",
            "           0       0.82      0.85      0.83      3374\n",
            "           1       0.79      0.81      0.80       924\n",
            "           2       0.82      0.74      0.78       568\n",
            "           3       0.82      0.82      0.82       938\n",
            "           4       0.97      0.97      0.97       835\n",
            "           5       0.51      0.43      0.47        46\n",
            "           6       0.92      0.95      0.94       193\n",
            "           7       0.82      0.77      0.80       412\n",
            "           8       0.84      0.77      0.81       540\n",
            "\n",
            "    accuracy                           0.84      7830\n",
            "   macro avg       0.81      0.79      0.80      7830\n",
            "weighted avg       0.84      0.84      0.83      7830\n",
            "\n",
            "CPU times: user 2min 14s, sys: 26.9 s, total: 2min 41s\n",
            "Wall time: 1min 45s\n"
          ]
        }
      ]
    },
    {
      "cell_type": "code",
      "source": [
        "%%time\n",
        "pipe_log = Pipeline([('scaler', StandardScaler()),\n",
        "                     ('clf', XGBClassifier(random_state=RND_STATE,\n",
        "                                            max_iter=10000,\n",
        "                                            # class_weight='balanced'\n",
        "                                            ))])\n",
        "\n",
        "pipe_log.fit(X_train_navec, y_train)\n",
        "\n",
        "print(classification_report(y_val, pipe_log.predict(X_test_navec)))"
      ],
      "metadata": {
        "colab": {
          "base_uri": "https://localhost:8080/"
        },
        "id": "5ZHym2uGJIt1",
        "outputId": "aa7597e0-11dc-4b19-94f2-0cc352770f74"
      },
      "execution_count": null,
      "outputs": [
        {
          "output_type": "stream",
          "name": "stdout",
          "text": [
            "              precision    recall  f1-score   support\n",
            "\n",
            "           0       0.82      0.87      0.84      3374\n",
            "           1       0.79      0.83      0.81       924\n",
            "           2       0.82      0.73      0.77       568\n",
            "           3       0.83      0.79      0.81       938\n",
            "           4       0.97      0.96      0.97       835\n",
            "           5       0.92      0.24      0.38        46\n",
            "           6       0.94      0.90      0.92       193\n",
            "           7       0.87      0.76      0.81       412\n",
            "           8       0.88      0.78      0.83       540\n",
            "\n",
            "    accuracy                           0.84      7830\n",
            "   macro avg       0.87      0.76      0.79      7830\n",
            "weighted avg       0.84      0.84      0.84      7830\n",
            "\n",
            "CPU times: user 4min 24s, sys: 994 ms, total: 4min 25s\n",
            "Wall time: 2min 42s\n"
          ]
        }
      ]
    },
    {
      "cell_type": "markdown",
      "source": [
        "# Transformers"
      ],
      "metadata": {
        "id": "rwyRi6qlA1mF"
      }
    },
    {
      "cell_type": "code",
      "source": [
        "import torch\n",
        "import transformers as ppb"
      ],
      "metadata": {
        "id": "qtt7A4nzBGiQ"
      },
      "execution_count": null,
      "outputs": []
    },
    {
      "cell_type": "code",
      "source": [
        "!pip install transformers -q"
      ],
      "metadata": {
        "id": "XwGs_qKPA31D"
      },
      "execution_count": null,
      "outputs": []
    },
    {
      "cell_type": "code",
      "source": [
        "# For DistilBERT:\n",
        "model_class, tokenizer_class, pretrained_weights = (ppb.DistilBertModel, ppb.DistilBertTokenizer, 'distilbert-base-uncased')\n",
        "\n",
        "## Want BERT instead of distilBERT? Uncomment the following line:\n",
        "#model_class, tokenizer_class, pretrained_weights = (ppb.BertModel, ppb.BertTokenizer, 'bert-base-uncased')\n",
        "\n",
        "# Load pretrained model/tokenizer\n",
        "tokenizer = tokenizer_class.from_pretrained(pretrained_weights)\n",
        "model = model_class.from_pretrained(pretrained_weights)"
      ],
      "metadata": {
        "colab": {
          "base_uri": "https://localhost:8080/",
          "height": 177,
          "referenced_widgets": [
            "697763b17f7b41f891b7baeeca72d60b",
            "88d48d831a7e4eca8cd97fb425780d19",
            "ae5e20738b934c45ae35cad6854f72bc",
            "75637b9d6b694d6bb37971235c8b9fce",
            "cce90830c2b24d8eb51f9b6a0bdb92f0",
            "1c8365c9549a45d98d825dfc5a68e96a",
            "5843dd200d4a474d9dbfe5e30efd2ca7",
            "6278e3d20dc94756870832cc53467053",
            "52043646134c4c5d890f1303b1457a81",
            "21c29ac2417a4a17a8400f68dcdb9fe9",
            "93865e0b1fcf4dd7b2ebf52b1836750b",
            "64f01a26ccb24e86806324af84184c31",
            "a6632b0cf90b42d5bda10308775f0377",
            "df53914dffa04ecf85e7341220060a8b",
            "ee78af8c77fa40028368d45f9d51d1cc",
            "ac1dc0a9826a48a0a8c67d804316300a",
            "2ea3e76dd664457387e1489801905587",
            "fad468bc08044ce9ac7c8e8e310e11e6",
            "baa9beda825a4918b81f323389605711",
            "aeaf45f74ffa46bc863876cae165b0e5",
            "a921b191557b4f7aa2438350c43e08c4",
            "77f74ac1d3154e49af077fcc364cdc55",
            "395d0b7648d0482f87d7ab9a0ff458e0",
            "7940fb121f994a1b87e883bfccf95274",
            "9dfde8ac81db4fcd87018b90015b80e5",
            "b0a4f90f47b44f8990a8d1a1e3ce5f2f",
            "bb24517d4edc4173803ff15199f51477",
            "afdead09ba734055bc8e61a1bbe64201",
            "5b69f89b66e4402e86617d708a06c678",
            "5824cb9002984ec2a278f8e4b8bab9a0",
            "9fb0a668bbe34a91b5a14c9f66be277a",
            "311b23083e0c4afa888946910cea696f",
            "21f9840c384d4656bf0c9ceac6efdbde",
            "45b352c350bf45718062dd3d21c3b2e8",
            "d8a06e6bd23b4812b7fb31c7141048b8",
            "694d930959254a4b94a98e3c75de8f51",
            "68189dfa32f84c878e696eb1cdb4fddd",
            "b6f2f0da2daf49bfa3b8e9a774e38d9d",
            "6a0e4403a4884235995528fa5dcf89b1",
            "b2bf1efcfea141f19644afda6ac1b572",
            "1eaabe4f89954cf3be8411f367d59cb8",
            "c3c60a989a2b4ce5afd01156d1f2b98e",
            "d2b65d3963d647c8aeb790ea347ce75b",
            "502d8e0fdfa24a16a65e8b0c348fd5f6",
            "e0d4f21feb4d45fc912c344b12487f96",
            "8b0ceec400be4698a8c35c77b2fd12ab",
            "1753bb0b60ef421eba7f8be330531d0c",
            "8cc2f1961ee54672978d0ce0c5c7d24a",
            "91fd1d2ddb6649a0852621416d25ffb1",
            "ed7166cb48ae402dbdafede4491e95a4",
            "6074be11f23f49eda62b258a232b3e7b",
            "42a87b1580f84580ab7148216059795d",
            "6d4c8fb024e34a29ab9da61a42ae3a1e",
            "fbc62d118d24464e877d0f483c9eb0a6",
            "86a0323056014b39b4250d7a173a3e26"
          ]
        },
        "id": "18wV4C9DA9b_",
        "outputId": "d6debd9e-ae14-4fcc-f45c-cb6d93b50bf4"
      },
      "execution_count": null,
      "outputs": [
        {
          "output_type": "display_data",
          "data": {
            "text/plain": [
              "tokenizer_config.json:   0%|          | 0.00/28.0 [00:00<?, ?B/s]"
            ],
            "application/vnd.jupyter.widget-view+json": {
              "version_major": 2,
              "version_minor": 0,
              "model_id": "697763b17f7b41f891b7baeeca72d60b"
            }
          },
          "metadata": {}
        },
        {
          "output_type": "display_data",
          "data": {
            "text/plain": [
              "vocab.txt:   0%|          | 0.00/232k [00:00<?, ?B/s]"
            ],
            "application/vnd.jupyter.widget-view+json": {
              "version_major": 2,
              "version_minor": 0,
              "model_id": "64f01a26ccb24e86806324af84184c31"
            }
          },
          "metadata": {}
        },
        {
          "output_type": "display_data",
          "data": {
            "text/plain": [
              "tokenizer.json:   0%|          | 0.00/466k [00:00<?, ?B/s]"
            ],
            "application/vnd.jupyter.widget-view+json": {
              "version_major": 2,
              "version_minor": 0,
              "model_id": "395d0b7648d0482f87d7ab9a0ff458e0"
            }
          },
          "metadata": {}
        },
        {
          "output_type": "display_data",
          "data": {
            "text/plain": [
              "config.json:   0%|          | 0.00/483 [00:00<?, ?B/s]"
            ],
            "application/vnd.jupyter.widget-view+json": {
              "version_major": 2,
              "version_minor": 0,
              "model_id": "45b352c350bf45718062dd3d21c3b2e8"
            }
          },
          "metadata": {}
        },
        {
          "output_type": "display_data",
          "data": {
            "text/plain": [
              "model.safetensors:   0%|          | 0.00/268M [00:00<?, ?B/s]"
            ],
            "application/vnd.jupyter.widget-view+json": {
              "version_major": 2,
              "version_minor": 0,
              "model_id": "e0d4f21feb4d45fc912c344b12487f96"
            }
          },
          "metadata": {}
        }
      ]
    },
    {
      "cell_type": "code",
      "source": [
        "# trainw2v.head()"
      ],
      "metadata": {
        "id": "PoTZz90fBe5b"
      },
      "execution_count": null,
      "outputs": []
    },
    {
      "cell_type": "code",
      "source": [
        "tokenized = trainw2v['content_clean'].apply((lambda x: tokenizer.encode(x, add_special_tokens=True)))"
      ],
      "metadata": {
        "colab": {
          "base_uri": "https://localhost:8080/"
        },
        "id": "FIteQZ7YB3my",
        "outputId": "11f2d6a4-aff9-4c42-b10e-004cc893ac76"
      },
      "execution_count": null,
      "outputs": [
        {
          "output_type": "stream",
          "name": "stderr",
          "text": [
            "Token indices sequence length is longer than the specified maximum sequence length for this model (936 > 512). Running this sequence through the model will result in indexing errors\n"
          ]
        }
      ]
    },
    {
      "cell_type": "code",
      "source": [
        "max_len = 0\n",
        "for i in tokenized.values:\n",
        "    if len(i) > max_len:\n",
        "        max_len = len(i)\n",
        "\n",
        "padded = np.array([i + [0]*(max_len-len(i)) for i in tokenized.values])"
      ],
      "metadata": {
        "id": "x_Qt9IL_CDvb"
      },
      "execution_count": null,
      "outputs": []
    },
    {
      "cell_type": "code",
      "source": [
        "attention_mask = np.where(padded != 0, 1, 0)\n",
        "attention_mask.shape"
      ],
      "metadata": {
        "id": "4OQgDBLYCHXO"
      },
      "execution_count": null,
      "outputs": []
    },
    {
      "cell_type": "code",
      "source": [
        "input_ids = torch.tensor(padded)\n",
        "attention_mask = torch.tensor(attention_mask)\n",
        "\n",
        "with torch.no_grad():\n",
        "    last_hidden_states = model(input_ids, attention_mask=attention_mask)"
      ],
      "metadata": {
        "id": "jVKygd-TCKOI"
      },
      "execution_count": null,
      "outputs": []
    },
    {
      "cell_type": "code",
      "source": [
        "features = last_hidden_states[0][:,0,:].numpy() # векторы текстов длины 768"
      ],
      "metadata": {
        "id": "i9dcJtweCP9a"
      },
      "execution_count": null,
      "outputs": []
    },
    {
      "cell_type": "code",
      "source": [
        "labels = trainw2v['topic']"
      ],
      "metadata": {
        "id": "-UErzaLWCZIv"
      },
      "execution_count": null,
      "outputs": []
    },
    {
      "cell_type": "code",
      "source": [
        "train_features, test_features, train_labels, test_labels = train_test_split(features, labels, random_state=42)"
      ],
      "metadata": {
        "id": "H92dDnTsCc_R"
      },
      "execution_count": null,
      "outputs": []
    },
    {
      "cell_type": "code",
      "source": [
        "lr_clf = LogisticRegression()\n",
        "lr_clf.fit(train_features, train_labels)"
      ],
      "metadata": {
        "id": "ptgANWIUCszG"
      },
      "execution_count": null,
      "outputs": []
    },
    {
      "cell_type": "code",
      "source": [
        "accuracy_score(train_labels, lr_clf.predict(train_features)), accuracy_score(test_labels, lr_clf.predict(test_features))"
      ],
      "metadata": {
        "id": "RoBcUzI9CuiS"
      },
      "execution_count": null,
      "outputs": []
    }
  ],
  "metadata": {
    "colab": {
      "collapsed_sections": [
        "TrANXjqRrf_R",
        "pWjC4mg6rk93",
        "eu7e9IHXGwRP"
      ],
      "provenance": [],
      "toc_visible": true
    },
    "kernelspec": {
      "display_name": "Python 3",
      "name": "python3"
    },
    "language_info": {
      "name": "python"
    },
    "widgets": {
      "application/vnd.jupyter.widget-state+json": {
        "1c9c2955a9ca4f4aa4dc33627b69c99e": {
          "model_module": "@jupyter-widgets/controls",
          "model_module_version": "1.5.0",
          "model_name": "DescriptionStyleModel",
          "state": {
            "_model_module": "@jupyter-widgets/controls",
            "_model_module_version": "1.5.0",
            "_model_name": "DescriptionStyleModel",
            "_view_count": null,
            "_view_module": "@jupyter-widgets/base",
            "_view_module_version": "1.2.0",
            "_view_name": "StyleView",
            "description_width": ""
          }
        },
        "27ead9acb2c04708950fc325d9d27302": {
          "model_module": "@jupyter-widgets/base",
          "model_module_version": "1.2.0",
          "model_name": "LayoutModel",
          "state": {
            "_model_module": "@jupyter-widgets/base",
            "_model_module_version": "1.2.0",
            "_model_name": "LayoutModel",
            "_view_count": null,
            "_view_module": "@jupyter-widgets/base",
            "_view_module_version": "1.2.0",
            "_view_name": "LayoutView",
            "align_content": null,
            "align_items": null,
            "align_self": null,
            "border": null,
            "bottom": null,
            "display": null,
            "flex": null,
            "flex_flow": null,
            "grid_area": null,
            "grid_auto_columns": null,
            "grid_auto_flow": null,
            "grid_auto_rows": null,
            "grid_column": null,
            "grid_gap": null,
            "grid_row": null,
            "grid_template_areas": null,
            "grid_template_columns": null,
            "grid_template_rows": null,
            "height": null,
            "justify_content": null,
            "justify_items": null,
            "left": null,
            "margin": null,
            "max_height": null,
            "max_width": null,
            "min_height": null,
            "min_width": null,
            "object_fit": null,
            "object_position": null,
            "order": null,
            "overflow": null,
            "overflow_x": null,
            "overflow_y": null,
            "padding": null,
            "right": null,
            "top": null,
            "visibility": null,
            "width": null
          }
        },
        "29e475e429b54883aceda5ab67308c2a": {
          "model_module": "@jupyter-widgets/controls",
          "model_module_version": "1.5.0",
          "model_name": "FloatProgressModel",
          "state": {
            "_dom_classes": [],
            "_model_module": "@jupyter-widgets/controls",
            "_model_module_version": "1.5.0",
            "_model_name": "FloatProgressModel",
            "_view_count": null,
            "_view_module": "@jupyter-widgets/controls",
            "_view_module_version": "1.5.0",
            "_view_name": "ProgressView",
            "bar_style": "danger",
            "description": "",
            "description_tooltip": null,
            "layout": "IPY_MODEL_a0e11c483c554d73a41c739168867798",
            "max": 10,
            "min": 0,
            "orientation": "horizontal",
            "style": "IPY_MODEL_b7db1ecb863d4a688f89b9e1b89f9cd2",
            "value": 0
          }
        },
        "52a21e6bf0774863b85960e7e51c14d7": {
          "model_module": "@jupyter-widgets/base",
          "model_module_version": "1.2.0",
          "model_name": "LayoutModel",
          "state": {
            "_model_module": "@jupyter-widgets/base",
            "_model_module_version": "1.2.0",
            "_model_name": "LayoutModel",
            "_view_count": null,
            "_view_module": "@jupyter-widgets/base",
            "_view_module_version": "1.2.0",
            "_view_name": "LayoutView",
            "align_content": null,
            "align_items": null,
            "align_self": null,
            "border": null,
            "bottom": null,
            "display": null,
            "flex": null,
            "flex_flow": null,
            "grid_area": null,
            "grid_auto_columns": null,
            "grid_auto_flow": null,
            "grid_auto_rows": null,
            "grid_column": null,
            "grid_gap": null,
            "grid_row": null,
            "grid_template_areas": null,
            "grid_template_columns": null,
            "grid_template_rows": null,
            "height": null,
            "justify_content": null,
            "justify_items": null,
            "left": null,
            "margin": null,
            "max_height": null,
            "max_width": null,
            "min_height": null,
            "min_width": null,
            "object_fit": null,
            "object_position": null,
            "order": null,
            "overflow": null,
            "overflow_x": null,
            "overflow_y": null,
            "padding": null,
            "right": null,
            "top": null,
            "visibility": null,
            "width": null
          }
        },
        "8c3d4745c29d49679d53fba216ee8c4d": {
          "model_module": "@jupyter-widgets/controls",
          "model_module_version": "1.5.0",
          "model_name": "HTMLModel",
          "state": {
            "_dom_classes": [],
            "_model_module": "@jupyter-widgets/controls",
            "_model_module_version": "1.5.0",
            "_model_name": "HTMLModel",
            "_view_count": null,
            "_view_module": "@jupyter-widgets/controls",
            "_view_module_version": "1.5.0",
            "_view_name": "HTMLView",
            "description": "",
            "description_tooltip": null,
            "layout": "IPY_MODEL_27ead9acb2c04708950fc325d9d27302",
            "placeholder": "​",
            "style": "IPY_MODEL_f485dc65c0c14d70b5321e681a651469",
            "value": " 0/10 [23:07&lt;?, ?it/s]"
          }
        },
        "a0e11c483c554d73a41c739168867798": {
          "model_module": "@jupyter-widgets/base",
          "model_module_version": "1.2.0",
          "model_name": "LayoutModel",
          "state": {
            "_model_module": "@jupyter-widgets/base",
            "_model_module_version": "1.2.0",
            "_model_name": "LayoutModel",
            "_view_count": null,
            "_view_module": "@jupyter-widgets/base",
            "_view_module_version": "1.2.0",
            "_view_name": "LayoutView",
            "align_content": null,
            "align_items": null,
            "align_self": null,
            "border": null,
            "bottom": null,
            "display": null,
            "flex": null,
            "flex_flow": null,
            "grid_area": null,
            "grid_auto_columns": null,
            "grid_auto_flow": null,
            "grid_auto_rows": null,
            "grid_column": null,
            "grid_gap": null,
            "grid_row": null,
            "grid_template_areas": null,
            "grid_template_columns": null,
            "grid_template_rows": null,
            "height": null,
            "justify_content": null,
            "justify_items": null,
            "left": null,
            "margin": null,
            "max_height": null,
            "max_width": null,
            "min_height": null,
            "min_width": null,
            "object_fit": null,
            "object_position": null,
            "order": null,
            "overflow": null,
            "overflow_x": null,
            "overflow_y": null,
            "padding": null,
            "right": null,
            "top": null,
            "visibility": null,
            "width": null
          }
        },
        "b7db1ecb863d4a688f89b9e1b89f9cd2": {
          "model_module": "@jupyter-widgets/controls",
          "model_module_version": "1.5.0",
          "model_name": "ProgressStyleModel",
          "state": {
            "_model_module": "@jupyter-widgets/controls",
            "_model_module_version": "1.5.0",
            "_model_name": "ProgressStyleModel",
            "_view_count": null,
            "_view_module": "@jupyter-widgets/base",
            "_view_module_version": "1.2.0",
            "_view_name": "StyleView",
            "bar_color": null,
            "description_width": ""
          }
        },
        "db30a7301bcf41e9be4bfd9c43de42dc": {
          "model_module": "@jupyter-widgets/controls",
          "model_module_version": "1.5.0",
          "model_name": "HTMLModel",
          "state": {
            "_dom_classes": [],
            "_model_module": "@jupyter-widgets/controls",
            "_model_module_version": "1.5.0",
            "_model_name": "HTMLModel",
            "_view_count": null,
            "_view_module": "@jupyter-widgets/controls",
            "_view_module_version": "1.5.0",
            "_view_name": "HTMLView",
            "description": "",
            "description_tooltip": null,
            "layout": "IPY_MODEL_52a21e6bf0774863b85960e7e51c14d7",
            "placeholder": "​",
            "style": "IPY_MODEL_1c9c2955a9ca4f4aa4dc33627b69c99e",
            "value": "  0%"
          }
        },
        "ddf32bad96114bd7a4da71e19bee117f": {
          "model_module": "@jupyter-widgets/controls",
          "model_module_version": "1.5.0",
          "model_name": "HBoxModel",
          "state": {
            "_dom_classes": [],
            "_model_module": "@jupyter-widgets/controls",
            "_model_module_version": "1.5.0",
            "_model_name": "HBoxModel",
            "_view_count": null,
            "_view_module": "@jupyter-widgets/controls",
            "_view_module_version": "1.5.0",
            "_view_name": "HBoxView",
            "box_style": "",
            "children": [
              "IPY_MODEL_db30a7301bcf41e9be4bfd9c43de42dc",
              "IPY_MODEL_29e475e429b54883aceda5ab67308c2a",
              "IPY_MODEL_8c3d4745c29d49679d53fba216ee8c4d"
            ],
            "layout": "IPY_MODEL_f0af9449764245e3bedd0fc388c29805"
          }
        },
        "f0af9449764245e3bedd0fc388c29805": {
          "model_module": "@jupyter-widgets/base",
          "model_module_version": "1.2.0",
          "model_name": "LayoutModel",
          "state": {
            "_model_module": "@jupyter-widgets/base",
            "_model_module_version": "1.2.0",
            "_model_name": "LayoutModel",
            "_view_count": null,
            "_view_module": "@jupyter-widgets/base",
            "_view_module_version": "1.2.0",
            "_view_name": "LayoutView",
            "align_content": null,
            "align_items": null,
            "align_self": null,
            "border": null,
            "bottom": null,
            "display": null,
            "flex": null,
            "flex_flow": null,
            "grid_area": null,
            "grid_auto_columns": null,
            "grid_auto_flow": null,
            "grid_auto_rows": null,
            "grid_column": null,
            "grid_gap": null,
            "grid_row": null,
            "grid_template_areas": null,
            "grid_template_columns": null,
            "grid_template_rows": null,
            "height": null,
            "justify_content": null,
            "justify_items": null,
            "left": null,
            "margin": null,
            "max_height": null,
            "max_width": null,
            "min_height": null,
            "min_width": null,
            "object_fit": null,
            "object_position": null,
            "order": null,
            "overflow": null,
            "overflow_x": null,
            "overflow_y": null,
            "padding": null,
            "right": null,
            "top": null,
            "visibility": null,
            "width": null
          }
        },
        "f485dc65c0c14d70b5321e681a651469": {
          "model_module": "@jupyter-widgets/controls",
          "model_module_version": "1.5.0",
          "model_name": "DescriptionStyleModel",
          "state": {
            "_model_module": "@jupyter-widgets/controls",
            "_model_module_version": "1.5.0",
            "_model_name": "DescriptionStyleModel",
            "_view_count": null,
            "_view_module": "@jupyter-widgets/base",
            "_view_module_version": "1.2.0",
            "_view_name": "StyleView",
            "description_width": ""
          }
        },
        "697763b17f7b41f891b7baeeca72d60b": {
          "model_module": "@jupyter-widgets/controls",
          "model_name": "HBoxModel",
          "model_module_version": "1.5.0",
          "state": {
            "_dom_classes": [],
            "_model_module": "@jupyter-widgets/controls",
            "_model_module_version": "1.5.0",
            "_model_name": "HBoxModel",
            "_view_count": null,
            "_view_module": "@jupyter-widgets/controls",
            "_view_module_version": "1.5.0",
            "_view_name": "HBoxView",
            "box_style": "",
            "children": [
              "IPY_MODEL_88d48d831a7e4eca8cd97fb425780d19",
              "IPY_MODEL_ae5e20738b934c45ae35cad6854f72bc",
              "IPY_MODEL_75637b9d6b694d6bb37971235c8b9fce"
            ],
            "layout": "IPY_MODEL_cce90830c2b24d8eb51f9b6a0bdb92f0"
          }
        },
        "88d48d831a7e4eca8cd97fb425780d19": {
          "model_module": "@jupyter-widgets/controls",
          "model_name": "HTMLModel",
          "model_module_version": "1.5.0",
          "state": {
            "_dom_classes": [],
            "_model_module": "@jupyter-widgets/controls",
            "_model_module_version": "1.5.0",
            "_model_name": "HTMLModel",
            "_view_count": null,
            "_view_module": "@jupyter-widgets/controls",
            "_view_module_version": "1.5.0",
            "_view_name": "HTMLView",
            "description": "",
            "description_tooltip": null,
            "layout": "IPY_MODEL_1c8365c9549a45d98d825dfc5a68e96a",
            "placeholder": "​",
            "style": "IPY_MODEL_5843dd200d4a474d9dbfe5e30efd2ca7",
            "value": "tokenizer_config.json: 100%"
          }
        },
        "ae5e20738b934c45ae35cad6854f72bc": {
          "model_module": "@jupyter-widgets/controls",
          "model_name": "FloatProgressModel",
          "model_module_version": "1.5.0",
          "state": {
            "_dom_classes": [],
            "_model_module": "@jupyter-widgets/controls",
            "_model_module_version": "1.5.0",
            "_model_name": "FloatProgressModel",
            "_view_count": null,
            "_view_module": "@jupyter-widgets/controls",
            "_view_module_version": "1.5.0",
            "_view_name": "ProgressView",
            "bar_style": "success",
            "description": "",
            "description_tooltip": null,
            "layout": "IPY_MODEL_6278e3d20dc94756870832cc53467053",
            "max": 28,
            "min": 0,
            "orientation": "horizontal",
            "style": "IPY_MODEL_52043646134c4c5d890f1303b1457a81",
            "value": 28
          }
        },
        "75637b9d6b694d6bb37971235c8b9fce": {
          "model_module": "@jupyter-widgets/controls",
          "model_name": "HTMLModel",
          "model_module_version": "1.5.0",
          "state": {
            "_dom_classes": [],
            "_model_module": "@jupyter-widgets/controls",
            "_model_module_version": "1.5.0",
            "_model_name": "HTMLModel",
            "_view_count": null,
            "_view_module": "@jupyter-widgets/controls",
            "_view_module_version": "1.5.0",
            "_view_name": "HTMLView",
            "description": "",
            "description_tooltip": null,
            "layout": "IPY_MODEL_21c29ac2417a4a17a8400f68dcdb9fe9",
            "placeholder": "​",
            "style": "IPY_MODEL_93865e0b1fcf4dd7b2ebf52b1836750b",
            "value": " 28.0/28.0 [00:00&lt;00:00, 289B/s]"
          }
        },
        "cce90830c2b24d8eb51f9b6a0bdb92f0": {
          "model_module": "@jupyter-widgets/base",
          "model_name": "LayoutModel",
          "model_module_version": "1.2.0",
          "state": {
            "_model_module": "@jupyter-widgets/base",
            "_model_module_version": "1.2.0",
            "_model_name": "LayoutModel",
            "_view_count": null,
            "_view_module": "@jupyter-widgets/base",
            "_view_module_version": "1.2.0",
            "_view_name": "LayoutView",
            "align_content": null,
            "align_items": null,
            "align_self": null,
            "border": null,
            "bottom": null,
            "display": null,
            "flex": null,
            "flex_flow": null,
            "grid_area": null,
            "grid_auto_columns": null,
            "grid_auto_flow": null,
            "grid_auto_rows": null,
            "grid_column": null,
            "grid_gap": null,
            "grid_row": null,
            "grid_template_areas": null,
            "grid_template_columns": null,
            "grid_template_rows": null,
            "height": null,
            "justify_content": null,
            "justify_items": null,
            "left": null,
            "margin": null,
            "max_height": null,
            "max_width": null,
            "min_height": null,
            "min_width": null,
            "object_fit": null,
            "object_position": null,
            "order": null,
            "overflow": null,
            "overflow_x": null,
            "overflow_y": null,
            "padding": null,
            "right": null,
            "top": null,
            "visibility": null,
            "width": null
          }
        },
        "1c8365c9549a45d98d825dfc5a68e96a": {
          "model_module": "@jupyter-widgets/base",
          "model_name": "LayoutModel",
          "model_module_version": "1.2.0",
          "state": {
            "_model_module": "@jupyter-widgets/base",
            "_model_module_version": "1.2.0",
            "_model_name": "LayoutModel",
            "_view_count": null,
            "_view_module": "@jupyter-widgets/base",
            "_view_module_version": "1.2.0",
            "_view_name": "LayoutView",
            "align_content": null,
            "align_items": null,
            "align_self": null,
            "border": null,
            "bottom": null,
            "display": null,
            "flex": null,
            "flex_flow": null,
            "grid_area": null,
            "grid_auto_columns": null,
            "grid_auto_flow": null,
            "grid_auto_rows": null,
            "grid_column": null,
            "grid_gap": null,
            "grid_row": null,
            "grid_template_areas": null,
            "grid_template_columns": null,
            "grid_template_rows": null,
            "height": null,
            "justify_content": null,
            "justify_items": null,
            "left": null,
            "margin": null,
            "max_height": null,
            "max_width": null,
            "min_height": null,
            "min_width": null,
            "object_fit": null,
            "object_position": null,
            "order": null,
            "overflow": null,
            "overflow_x": null,
            "overflow_y": null,
            "padding": null,
            "right": null,
            "top": null,
            "visibility": null,
            "width": null
          }
        },
        "5843dd200d4a474d9dbfe5e30efd2ca7": {
          "model_module": "@jupyter-widgets/controls",
          "model_name": "DescriptionStyleModel",
          "model_module_version": "1.5.0",
          "state": {
            "_model_module": "@jupyter-widgets/controls",
            "_model_module_version": "1.5.0",
            "_model_name": "DescriptionStyleModel",
            "_view_count": null,
            "_view_module": "@jupyter-widgets/base",
            "_view_module_version": "1.2.0",
            "_view_name": "StyleView",
            "description_width": ""
          }
        },
        "6278e3d20dc94756870832cc53467053": {
          "model_module": "@jupyter-widgets/base",
          "model_name": "LayoutModel",
          "model_module_version": "1.2.0",
          "state": {
            "_model_module": "@jupyter-widgets/base",
            "_model_module_version": "1.2.0",
            "_model_name": "LayoutModel",
            "_view_count": null,
            "_view_module": "@jupyter-widgets/base",
            "_view_module_version": "1.2.0",
            "_view_name": "LayoutView",
            "align_content": null,
            "align_items": null,
            "align_self": null,
            "border": null,
            "bottom": null,
            "display": null,
            "flex": null,
            "flex_flow": null,
            "grid_area": null,
            "grid_auto_columns": null,
            "grid_auto_flow": null,
            "grid_auto_rows": null,
            "grid_column": null,
            "grid_gap": null,
            "grid_row": null,
            "grid_template_areas": null,
            "grid_template_columns": null,
            "grid_template_rows": null,
            "height": null,
            "justify_content": null,
            "justify_items": null,
            "left": null,
            "margin": null,
            "max_height": null,
            "max_width": null,
            "min_height": null,
            "min_width": null,
            "object_fit": null,
            "object_position": null,
            "order": null,
            "overflow": null,
            "overflow_x": null,
            "overflow_y": null,
            "padding": null,
            "right": null,
            "top": null,
            "visibility": null,
            "width": null
          }
        },
        "52043646134c4c5d890f1303b1457a81": {
          "model_module": "@jupyter-widgets/controls",
          "model_name": "ProgressStyleModel",
          "model_module_version": "1.5.0",
          "state": {
            "_model_module": "@jupyter-widgets/controls",
            "_model_module_version": "1.5.0",
            "_model_name": "ProgressStyleModel",
            "_view_count": null,
            "_view_module": "@jupyter-widgets/base",
            "_view_module_version": "1.2.0",
            "_view_name": "StyleView",
            "bar_color": null,
            "description_width": ""
          }
        },
        "21c29ac2417a4a17a8400f68dcdb9fe9": {
          "model_module": "@jupyter-widgets/base",
          "model_name": "LayoutModel",
          "model_module_version": "1.2.0",
          "state": {
            "_model_module": "@jupyter-widgets/base",
            "_model_module_version": "1.2.0",
            "_model_name": "LayoutModel",
            "_view_count": null,
            "_view_module": "@jupyter-widgets/base",
            "_view_module_version": "1.2.0",
            "_view_name": "LayoutView",
            "align_content": null,
            "align_items": null,
            "align_self": null,
            "border": null,
            "bottom": null,
            "display": null,
            "flex": null,
            "flex_flow": null,
            "grid_area": null,
            "grid_auto_columns": null,
            "grid_auto_flow": null,
            "grid_auto_rows": null,
            "grid_column": null,
            "grid_gap": null,
            "grid_row": null,
            "grid_template_areas": null,
            "grid_template_columns": null,
            "grid_template_rows": null,
            "height": null,
            "justify_content": null,
            "justify_items": null,
            "left": null,
            "margin": null,
            "max_height": null,
            "max_width": null,
            "min_height": null,
            "min_width": null,
            "object_fit": null,
            "object_position": null,
            "order": null,
            "overflow": null,
            "overflow_x": null,
            "overflow_y": null,
            "padding": null,
            "right": null,
            "top": null,
            "visibility": null,
            "width": null
          }
        },
        "93865e0b1fcf4dd7b2ebf52b1836750b": {
          "model_module": "@jupyter-widgets/controls",
          "model_name": "DescriptionStyleModel",
          "model_module_version": "1.5.0",
          "state": {
            "_model_module": "@jupyter-widgets/controls",
            "_model_module_version": "1.5.0",
            "_model_name": "DescriptionStyleModel",
            "_view_count": null,
            "_view_module": "@jupyter-widgets/base",
            "_view_module_version": "1.2.0",
            "_view_name": "StyleView",
            "description_width": ""
          }
        },
        "64f01a26ccb24e86806324af84184c31": {
          "model_module": "@jupyter-widgets/controls",
          "model_name": "HBoxModel",
          "model_module_version": "1.5.0",
          "state": {
            "_dom_classes": [],
            "_model_module": "@jupyter-widgets/controls",
            "_model_module_version": "1.5.0",
            "_model_name": "HBoxModel",
            "_view_count": null,
            "_view_module": "@jupyter-widgets/controls",
            "_view_module_version": "1.5.0",
            "_view_name": "HBoxView",
            "box_style": "",
            "children": [
              "IPY_MODEL_a6632b0cf90b42d5bda10308775f0377",
              "IPY_MODEL_df53914dffa04ecf85e7341220060a8b",
              "IPY_MODEL_ee78af8c77fa40028368d45f9d51d1cc"
            ],
            "layout": "IPY_MODEL_ac1dc0a9826a48a0a8c67d804316300a"
          }
        },
        "a6632b0cf90b42d5bda10308775f0377": {
          "model_module": "@jupyter-widgets/controls",
          "model_name": "HTMLModel",
          "model_module_version": "1.5.0",
          "state": {
            "_dom_classes": [],
            "_model_module": "@jupyter-widgets/controls",
            "_model_module_version": "1.5.0",
            "_model_name": "HTMLModel",
            "_view_count": null,
            "_view_module": "@jupyter-widgets/controls",
            "_view_module_version": "1.5.0",
            "_view_name": "HTMLView",
            "description": "",
            "description_tooltip": null,
            "layout": "IPY_MODEL_2ea3e76dd664457387e1489801905587",
            "placeholder": "​",
            "style": "IPY_MODEL_fad468bc08044ce9ac7c8e8e310e11e6",
            "value": "vocab.txt: 100%"
          }
        },
        "df53914dffa04ecf85e7341220060a8b": {
          "model_module": "@jupyter-widgets/controls",
          "model_name": "FloatProgressModel",
          "model_module_version": "1.5.0",
          "state": {
            "_dom_classes": [],
            "_model_module": "@jupyter-widgets/controls",
            "_model_module_version": "1.5.0",
            "_model_name": "FloatProgressModel",
            "_view_count": null,
            "_view_module": "@jupyter-widgets/controls",
            "_view_module_version": "1.5.0",
            "_view_name": "ProgressView",
            "bar_style": "success",
            "description": "",
            "description_tooltip": null,
            "layout": "IPY_MODEL_baa9beda825a4918b81f323389605711",
            "max": 231508,
            "min": 0,
            "orientation": "horizontal",
            "style": "IPY_MODEL_aeaf45f74ffa46bc863876cae165b0e5",
            "value": 231508
          }
        },
        "ee78af8c77fa40028368d45f9d51d1cc": {
          "model_module": "@jupyter-widgets/controls",
          "model_name": "HTMLModel",
          "model_module_version": "1.5.0",
          "state": {
            "_dom_classes": [],
            "_model_module": "@jupyter-widgets/controls",
            "_model_module_version": "1.5.0",
            "_model_name": "HTMLModel",
            "_view_count": null,
            "_view_module": "@jupyter-widgets/controls",
            "_view_module_version": "1.5.0",
            "_view_name": "HTMLView",
            "description": "",
            "description_tooltip": null,
            "layout": "IPY_MODEL_a921b191557b4f7aa2438350c43e08c4",
            "placeholder": "​",
            "style": "IPY_MODEL_77f74ac1d3154e49af077fcc364cdc55",
            "value": " 232k/232k [00:00&lt;00:00, 2.09MB/s]"
          }
        },
        "ac1dc0a9826a48a0a8c67d804316300a": {
          "model_module": "@jupyter-widgets/base",
          "model_name": "LayoutModel",
          "model_module_version": "1.2.0",
          "state": {
            "_model_module": "@jupyter-widgets/base",
            "_model_module_version": "1.2.0",
            "_model_name": "LayoutModel",
            "_view_count": null,
            "_view_module": "@jupyter-widgets/base",
            "_view_module_version": "1.2.0",
            "_view_name": "LayoutView",
            "align_content": null,
            "align_items": null,
            "align_self": null,
            "border": null,
            "bottom": null,
            "display": null,
            "flex": null,
            "flex_flow": null,
            "grid_area": null,
            "grid_auto_columns": null,
            "grid_auto_flow": null,
            "grid_auto_rows": null,
            "grid_column": null,
            "grid_gap": null,
            "grid_row": null,
            "grid_template_areas": null,
            "grid_template_columns": null,
            "grid_template_rows": null,
            "height": null,
            "justify_content": null,
            "justify_items": null,
            "left": null,
            "margin": null,
            "max_height": null,
            "max_width": null,
            "min_height": null,
            "min_width": null,
            "object_fit": null,
            "object_position": null,
            "order": null,
            "overflow": null,
            "overflow_x": null,
            "overflow_y": null,
            "padding": null,
            "right": null,
            "top": null,
            "visibility": null,
            "width": null
          }
        },
        "2ea3e76dd664457387e1489801905587": {
          "model_module": "@jupyter-widgets/base",
          "model_name": "LayoutModel",
          "model_module_version": "1.2.0",
          "state": {
            "_model_module": "@jupyter-widgets/base",
            "_model_module_version": "1.2.0",
            "_model_name": "LayoutModel",
            "_view_count": null,
            "_view_module": "@jupyter-widgets/base",
            "_view_module_version": "1.2.0",
            "_view_name": "LayoutView",
            "align_content": null,
            "align_items": null,
            "align_self": null,
            "border": null,
            "bottom": null,
            "display": null,
            "flex": null,
            "flex_flow": null,
            "grid_area": null,
            "grid_auto_columns": null,
            "grid_auto_flow": null,
            "grid_auto_rows": null,
            "grid_column": null,
            "grid_gap": null,
            "grid_row": null,
            "grid_template_areas": null,
            "grid_template_columns": null,
            "grid_template_rows": null,
            "height": null,
            "justify_content": null,
            "justify_items": null,
            "left": null,
            "margin": null,
            "max_height": null,
            "max_width": null,
            "min_height": null,
            "min_width": null,
            "object_fit": null,
            "object_position": null,
            "order": null,
            "overflow": null,
            "overflow_x": null,
            "overflow_y": null,
            "padding": null,
            "right": null,
            "top": null,
            "visibility": null,
            "width": null
          }
        },
        "fad468bc08044ce9ac7c8e8e310e11e6": {
          "model_module": "@jupyter-widgets/controls",
          "model_name": "DescriptionStyleModel",
          "model_module_version": "1.5.0",
          "state": {
            "_model_module": "@jupyter-widgets/controls",
            "_model_module_version": "1.5.0",
            "_model_name": "DescriptionStyleModel",
            "_view_count": null,
            "_view_module": "@jupyter-widgets/base",
            "_view_module_version": "1.2.0",
            "_view_name": "StyleView",
            "description_width": ""
          }
        },
        "baa9beda825a4918b81f323389605711": {
          "model_module": "@jupyter-widgets/base",
          "model_name": "LayoutModel",
          "model_module_version": "1.2.0",
          "state": {
            "_model_module": "@jupyter-widgets/base",
            "_model_module_version": "1.2.0",
            "_model_name": "LayoutModel",
            "_view_count": null,
            "_view_module": "@jupyter-widgets/base",
            "_view_module_version": "1.2.0",
            "_view_name": "LayoutView",
            "align_content": null,
            "align_items": null,
            "align_self": null,
            "border": null,
            "bottom": null,
            "display": null,
            "flex": null,
            "flex_flow": null,
            "grid_area": null,
            "grid_auto_columns": null,
            "grid_auto_flow": null,
            "grid_auto_rows": null,
            "grid_column": null,
            "grid_gap": null,
            "grid_row": null,
            "grid_template_areas": null,
            "grid_template_columns": null,
            "grid_template_rows": null,
            "height": null,
            "justify_content": null,
            "justify_items": null,
            "left": null,
            "margin": null,
            "max_height": null,
            "max_width": null,
            "min_height": null,
            "min_width": null,
            "object_fit": null,
            "object_position": null,
            "order": null,
            "overflow": null,
            "overflow_x": null,
            "overflow_y": null,
            "padding": null,
            "right": null,
            "top": null,
            "visibility": null,
            "width": null
          }
        },
        "aeaf45f74ffa46bc863876cae165b0e5": {
          "model_module": "@jupyter-widgets/controls",
          "model_name": "ProgressStyleModel",
          "model_module_version": "1.5.0",
          "state": {
            "_model_module": "@jupyter-widgets/controls",
            "_model_module_version": "1.5.0",
            "_model_name": "ProgressStyleModel",
            "_view_count": null,
            "_view_module": "@jupyter-widgets/base",
            "_view_module_version": "1.2.0",
            "_view_name": "StyleView",
            "bar_color": null,
            "description_width": ""
          }
        },
        "a921b191557b4f7aa2438350c43e08c4": {
          "model_module": "@jupyter-widgets/base",
          "model_name": "LayoutModel",
          "model_module_version": "1.2.0",
          "state": {
            "_model_module": "@jupyter-widgets/base",
            "_model_module_version": "1.2.0",
            "_model_name": "LayoutModel",
            "_view_count": null,
            "_view_module": "@jupyter-widgets/base",
            "_view_module_version": "1.2.0",
            "_view_name": "LayoutView",
            "align_content": null,
            "align_items": null,
            "align_self": null,
            "border": null,
            "bottom": null,
            "display": null,
            "flex": null,
            "flex_flow": null,
            "grid_area": null,
            "grid_auto_columns": null,
            "grid_auto_flow": null,
            "grid_auto_rows": null,
            "grid_column": null,
            "grid_gap": null,
            "grid_row": null,
            "grid_template_areas": null,
            "grid_template_columns": null,
            "grid_template_rows": null,
            "height": null,
            "justify_content": null,
            "justify_items": null,
            "left": null,
            "margin": null,
            "max_height": null,
            "max_width": null,
            "min_height": null,
            "min_width": null,
            "object_fit": null,
            "object_position": null,
            "order": null,
            "overflow": null,
            "overflow_x": null,
            "overflow_y": null,
            "padding": null,
            "right": null,
            "top": null,
            "visibility": null,
            "width": null
          }
        },
        "77f74ac1d3154e49af077fcc364cdc55": {
          "model_module": "@jupyter-widgets/controls",
          "model_name": "DescriptionStyleModel",
          "model_module_version": "1.5.0",
          "state": {
            "_model_module": "@jupyter-widgets/controls",
            "_model_module_version": "1.5.0",
            "_model_name": "DescriptionStyleModel",
            "_view_count": null,
            "_view_module": "@jupyter-widgets/base",
            "_view_module_version": "1.2.0",
            "_view_name": "StyleView",
            "description_width": ""
          }
        },
        "395d0b7648d0482f87d7ab9a0ff458e0": {
          "model_module": "@jupyter-widgets/controls",
          "model_name": "HBoxModel",
          "model_module_version": "1.5.0",
          "state": {
            "_dom_classes": [],
            "_model_module": "@jupyter-widgets/controls",
            "_model_module_version": "1.5.0",
            "_model_name": "HBoxModel",
            "_view_count": null,
            "_view_module": "@jupyter-widgets/controls",
            "_view_module_version": "1.5.0",
            "_view_name": "HBoxView",
            "box_style": "",
            "children": [
              "IPY_MODEL_7940fb121f994a1b87e883bfccf95274",
              "IPY_MODEL_9dfde8ac81db4fcd87018b90015b80e5",
              "IPY_MODEL_b0a4f90f47b44f8990a8d1a1e3ce5f2f"
            ],
            "layout": "IPY_MODEL_bb24517d4edc4173803ff15199f51477"
          }
        },
        "7940fb121f994a1b87e883bfccf95274": {
          "model_module": "@jupyter-widgets/controls",
          "model_name": "HTMLModel",
          "model_module_version": "1.5.0",
          "state": {
            "_dom_classes": [],
            "_model_module": "@jupyter-widgets/controls",
            "_model_module_version": "1.5.0",
            "_model_name": "HTMLModel",
            "_view_count": null,
            "_view_module": "@jupyter-widgets/controls",
            "_view_module_version": "1.5.0",
            "_view_name": "HTMLView",
            "description": "",
            "description_tooltip": null,
            "layout": "IPY_MODEL_afdead09ba734055bc8e61a1bbe64201",
            "placeholder": "​",
            "style": "IPY_MODEL_5b69f89b66e4402e86617d708a06c678",
            "value": "tokenizer.json: 100%"
          }
        },
        "9dfde8ac81db4fcd87018b90015b80e5": {
          "model_module": "@jupyter-widgets/controls",
          "model_name": "FloatProgressModel",
          "model_module_version": "1.5.0",
          "state": {
            "_dom_classes": [],
            "_model_module": "@jupyter-widgets/controls",
            "_model_module_version": "1.5.0",
            "_model_name": "FloatProgressModel",
            "_view_count": null,
            "_view_module": "@jupyter-widgets/controls",
            "_view_module_version": "1.5.0",
            "_view_name": "ProgressView",
            "bar_style": "success",
            "description": "",
            "description_tooltip": null,
            "layout": "IPY_MODEL_5824cb9002984ec2a278f8e4b8bab9a0",
            "max": 466062,
            "min": 0,
            "orientation": "horizontal",
            "style": "IPY_MODEL_9fb0a668bbe34a91b5a14c9f66be277a",
            "value": 466062
          }
        },
        "b0a4f90f47b44f8990a8d1a1e3ce5f2f": {
          "model_module": "@jupyter-widgets/controls",
          "model_name": "HTMLModel",
          "model_module_version": "1.5.0",
          "state": {
            "_dom_classes": [],
            "_model_module": "@jupyter-widgets/controls",
            "_model_module_version": "1.5.0",
            "_model_name": "HTMLModel",
            "_view_count": null,
            "_view_module": "@jupyter-widgets/controls",
            "_view_module_version": "1.5.0",
            "_view_name": "HTMLView",
            "description": "",
            "description_tooltip": null,
            "layout": "IPY_MODEL_311b23083e0c4afa888946910cea696f",
            "placeholder": "​",
            "style": "IPY_MODEL_21f9840c384d4656bf0c9ceac6efdbde",
            "value": " 466k/466k [00:00&lt;00:00, 3.55MB/s]"
          }
        },
        "bb24517d4edc4173803ff15199f51477": {
          "model_module": "@jupyter-widgets/base",
          "model_name": "LayoutModel",
          "model_module_version": "1.2.0",
          "state": {
            "_model_module": "@jupyter-widgets/base",
            "_model_module_version": "1.2.0",
            "_model_name": "LayoutModel",
            "_view_count": null,
            "_view_module": "@jupyter-widgets/base",
            "_view_module_version": "1.2.0",
            "_view_name": "LayoutView",
            "align_content": null,
            "align_items": null,
            "align_self": null,
            "border": null,
            "bottom": null,
            "display": null,
            "flex": null,
            "flex_flow": null,
            "grid_area": null,
            "grid_auto_columns": null,
            "grid_auto_flow": null,
            "grid_auto_rows": null,
            "grid_column": null,
            "grid_gap": null,
            "grid_row": null,
            "grid_template_areas": null,
            "grid_template_columns": null,
            "grid_template_rows": null,
            "height": null,
            "justify_content": null,
            "justify_items": null,
            "left": null,
            "margin": null,
            "max_height": null,
            "max_width": null,
            "min_height": null,
            "min_width": null,
            "object_fit": null,
            "object_position": null,
            "order": null,
            "overflow": null,
            "overflow_x": null,
            "overflow_y": null,
            "padding": null,
            "right": null,
            "top": null,
            "visibility": null,
            "width": null
          }
        },
        "afdead09ba734055bc8e61a1bbe64201": {
          "model_module": "@jupyter-widgets/base",
          "model_name": "LayoutModel",
          "model_module_version": "1.2.0",
          "state": {
            "_model_module": "@jupyter-widgets/base",
            "_model_module_version": "1.2.0",
            "_model_name": "LayoutModel",
            "_view_count": null,
            "_view_module": "@jupyter-widgets/base",
            "_view_module_version": "1.2.0",
            "_view_name": "LayoutView",
            "align_content": null,
            "align_items": null,
            "align_self": null,
            "border": null,
            "bottom": null,
            "display": null,
            "flex": null,
            "flex_flow": null,
            "grid_area": null,
            "grid_auto_columns": null,
            "grid_auto_flow": null,
            "grid_auto_rows": null,
            "grid_column": null,
            "grid_gap": null,
            "grid_row": null,
            "grid_template_areas": null,
            "grid_template_columns": null,
            "grid_template_rows": null,
            "height": null,
            "justify_content": null,
            "justify_items": null,
            "left": null,
            "margin": null,
            "max_height": null,
            "max_width": null,
            "min_height": null,
            "min_width": null,
            "object_fit": null,
            "object_position": null,
            "order": null,
            "overflow": null,
            "overflow_x": null,
            "overflow_y": null,
            "padding": null,
            "right": null,
            "top": null,
            "visibility": null,
            "width": null
          }
        },
        "5b69f89b66e4402e86617d708a06c678": {
          "model_module": "@jupyter-widgets/controls",
          "model_name": "DescriptionStyleModel",
          "model_module_version": "1.5.0",
          "state": {
            "_model_module": "@jupyter-widgets/controls",
            "_model_module_version": "1.5.0",
            "_model_name": "DescriptionStyleModel",
            "_view_count": null,
            "_view_module": "@jupyter-widgets/base",
            "_view_module_version": "1.2.0",
            "_view_name": "StyleView",
            "description_width": ""
          }
        },
        "5824cb9002984ec2a278f8e4b8bab9a0": {
          "model_module": "@jupyter-widgets/base",
          "model_name": "LayoutModel",
          "model_module_version": "1.2.0",
          "state": {
            "_model_module": "@jupyter-widgets/base",
            "_model_module_version": "1.2.0",
            "_model_name": "LayoutModel",
            "_view_count": null,
            "_view_module": "@jupyter-widgets/base",
            "_view_module_version": "1.2.0",
            "_view_name": "LayoutView",
            "align_content": null,
            "align_items": null,
            "align_self": null,
            "border": null,
            "bottom": null,
            "display": null,
            "flex": null,
            "flex_flow": null,
            "grid_area": null,
            "grid_auto_columns": null,
            "grid_auto_flow": null,
            "grid_auto_rows": null,
            "grid_column": null,
            "grid_gap": null,
            "grid_row": null,
            "grid_template_areas": null,
            "grid_template_columns": null,
            "grid_template_rows": null,
            "height": null,
            "justify_content": null,
            "justify_items": null,
            "left": null,
            "margin": null,
            "max_height": null,
            "max_width": null,
            "min_height": null,
            "min_width": null,
            "object_fit": null,
            "object_position": null,
            "order": null,
            "overflow": null,
            "overflow_x": null,
            "overflow_y": null,
            "padding": null,
            "right": null,
            "top": null,
            "visibility": null,
            "width": null
          }
        },
        "9fb0a668bbe34a91b5a14c9f66be277a": {
          "model_module": "@jupyter-widgets/controls",
          "model_name": "ProgressStyleModel",
          "model_module_version": "1.5.0",
          "state": {
            "_model_module": "@jupyter-widgets/controls",
            "_model_module_version": "1.5.0",
            "_model_name": "ProgressStyleModel",
            "_view_count": null,
            "_view_module": "@jupyter-widgets/base",
            "_view_module_version": "1.2.0",
            "_view_name": "StyleView",
            "bar_color": null,
            "description_width": ""
          }
        },
        "311b23083e0c4afa888946910cea696f": {
          "model_module": "@jupyter-widgets/base",
          "model_name": "LayoutModel",
          "model_module_version": "1.2.0",
          "state": {
            "_model_module": "@jupyter-widgets/base",
            "_model_module_version": "1.2.0",
            "_model_name": "LayoutModel",
            "_view_count": null,
            "_view_module": "@jupyter-widgets/base",
            "_view_module_version": "1.2.0",
            "_view_name": "LayoutView",
            "align_content": null,
            "align_items": null,
            "align_self": null,
            "border": null,
            "bottom": null,
            "display": null,
            "flex": null,
            "flex_flow": null,
            "grid_area": null,
            "grid_auto_columns": null,
            "grid_auto_flow": null,
            "grid_auto_rows": null,
            "grid_column": null,
            "grid_gap": null,
            "grid_row": null,
            "grid_template_areas": null,
            "grid_template_columns": null,
            "grid_template_rows": null,
            "height": null,
            "justify_content": null,
            "justify_items": null,
            "left": null,
            "margin": null,
            "max_height": null,
            "max_width": null,
            "min_height": null,
            "min_width": null,
            "object_fit": null,
            "object_position": null,
            "order": null,
            "overflow": null,
            "overflow_x": null,
            "overflow_y": null,
            "padding": null,
            "right": null,
            "top": null,
            "visibility": null,
            "width": null
          }
        },
        "21f9840c384d4656bf0c9ceac6efdbde": {
          "model_module": "@jupyter-widgets/controls",
          "model_name": "DescriptionStyleModel",
          "model_module_version": "1.5.0",
          "state": {
            "_model_module": "@jupyter-widgets/controls",
            "_model_module_version": "1.5.0",
            "_model_name": "DescriptionStyleModel",
            "_view_count": null,
            "_view_module": "@jupyter-widgets/base",
            "_view_module_version": "1.2.0",
            "_view_name": "StyleView",
            "description_width": ""
          }
        },
        "45b352c350bf45718062dd3d21c3b2e8": {
          "model_module": "@jupyter-widgets/controls",
          "model_name": "HBoxModel",
          "model_module_version": "1.5.0",
          "state": {
            "_dom_classes": [],
            "_model_module": "@jupyter-widgets/controls",
            "_model_module_version": "1.5.0",
            "_model_name": "HBoxModel",
            "_view_count": null,
            "_view_module": "@jupyter-widgets/controls",
            "_view_module_version": "1.5.0",
            "_view_name": "HBoxView",
            "box_style": "",
            "children": [
              "IPY_MODEL_d8a06e6bd23b4812b7fb31c7141048b8",
              "IPY_MODEL_694d930959254a4b94a98e3c75de8f51",
              "IPY_MODEL_68189dfa32f84c878e696eb1cdb4fddd"
            ],
            "layout": "IPY_MODEL_b6f2f0da2daf49bfa3b8e9a774e38d9d"
          }
        },
        "d8a06e6bd23b4812b7fb31c7141048b8": {
          "model_module": "@jupyter-widgets/controls",
          "model_name": "HTMLModel",
          "model_module_version": "1.5.0",
          "state": {
            "_dom_classes": [],
            "_model_module": "@jupyter-widgets/controls",
            "_model_module_version": "1.5.0",
            "_model_name": "HTMLModel",
            "_view_count": null,
            "_view_module": "@jupyter-widgets/controls",
            "_view_module_version": "1.5.0",
            "_view_name": "HTMLView",
            "description": "",
            "description_tooltip": null,
            "layout": "IPY_MODEL_6a0e4403a4884235995528fa5dcf89b1",
            "placeholder": "​",
            "style": "IPY_MODEL_b2bf1efcfea141f19644afda6ac1b572",
            "value": "config.json: 100%"
          }
        },
        "694d930959254a4b94a98e3c75de8f51": {
          "model_module": "@jupyter-widgets/controls",
          "model_name": "FloatProgressModel",
          "model_module_version": "1.5.0",
          "state": {
            "_dom_classes": [],
            "_model_module": "@jupyter-widgets/controls",
            "_model_module_version": "1.5.0",
            "_model_name": "FloatProgressModel",
            "_view_count": null,
            "_view_module": "@jupyter-widgets/controls",
            "_view_module_version": "1.5.0",
            "_view_name": "ProgressView",
            "bar_style": "success",
            "description": "",
            "description_tooltip": null,
            "layout": "IPY_MODEL_1eaabe4f89954cf3be8411f367d59cb8",
            "max": 483,
            "min": 0,
            "orientation": "horizontal",
            "style": "IPY_MODEL_c3c60a989a2b4ce5afd01156d1f2b98e",
            "value": 483
          }
        },
        "68189dfa32f84c878e696eb1cdb4fddd": {
          "model_module": "@jupyter-widgets/controls",
          "model_name": "HTMLModel",
          "model_module_version": "1.5.0",
          "state": {
            "_dom_classes": [],
            "_model_module": "@jupyter-widgets/controls",
            "_model_module_version": "1.5.0",
            "_model_name": "HTMLModel",
            "_view_count": null,
            "_view_module": "@jupyter-widgets/controls",
            "_view_module_version": "1.5.0",
            "_view_name": "HTMLView",
            "description": "",
            "description_tooltip": null,
            "layout": "IPY_MODEL_d2b65d3963d647c8aeb790ea347ce75b",
            "placeholder": "​",
            "style": "IPY_MODEL_502d8e0fdfa24a16a65e8b0c348fd5f6",
            "value": " 483/483 [00:00&lt;00:00, 6.16kB/s]"
          }
        },
        "b6f2f0da2daf49bfa3b8e9a774e38d9d": {
          "model_module": "@jupyter-widgets/base",
          "model_name": "LayoutModel",
          "model_module_version": "1.2.0",
          "state": {
            "_model_module": "@jupyter-widgets/base",
            "_model_module_version": "1.2.0",
            "_model_name": "LayoutModel",
            "_view_count": null,
            "_view_module": "@jupyter-widgets/base",
            "_view_module_version": "1.2.0",
            "_view_name": "LayoutView",
            "align_content": null,
            "align_items": null,
            "align_self": null,
            "border": null,
            "bottom": null,
            "display": null,
            "flex": null,
            "flex_flow": null,
            "grid_area": null,
            "grid_auto_columns": null,
            "grid_auto_flow": null,
            "grid_auto_rows": null,
            "grid_column": null,
            "grid_gap": null,
            "grid_row": null,
            "grid_template_areas": null,
            "grid_template_columns": null,
            "grid_template_rows": null,
            "height": null,
            "justify_content": null,
            "justify_items": null,
            "left": null,
            "margin": null,
            "max_height": null,
            "max_width": null,
            "min_height": null,
            "min_width": null,
            "object_fit": null,
            "object_position": null,
            "order": null,
            "overflow": null,
            "overflow_x": null,
            "overflow_y": null,
            "padding": null,
            "right": null,
            "top": null,
            "visibility": null,
            "width": null
          }
        },
        "6a0e4403a4884235995528fa5dcf89b1": {
          "model_module": "@jupyter-widgets/base",
          "model_name": "LayoutModel",
          "model_module_version": "1.2.0",
          "state": {
            "_model_module": "@jupyter-widgets/base",
            "_model_module_version": "1.2.0",
            "_model_name": "LayoutModel",
            "_view_count": null,
            "_view_module": "@jupyter-widgets/base",
            "_view_module_version": "1.2.0",
            "_view_name": "LayoutView",
            "align_content": null,
            "align_items": null,
            "align_self": null,
            "border": null,
            "bottom": null,
            "display": null,
            "flex": null,
            "flex_flow": null,
            "grid_area": null,
            "grid_auto_columns": null,
            "grid_auto_flow": null,
            "grid_auto_rows": null,
            "grid_column": null,
            "grid_gap": null,
            "grid_row": null,
            "grid_template_areas": null,
            "grid_template_columns": null,
            "grid_template_rows": null,
            "height": null,
            "justify_content": null,
            "justify_items": null,
            "left": null,
            "margin": null,
            "max_height": null,
            "max_width": null,
            "min_height": null,
            "min_width": null,
            "object_fit": null,
            "object_position": null,
            "order": null,
            "overflow": null,
            "overflow_x": null,
            "overflow_y": null,
            "padding": null,
            "right": null,
            "top": null,
            "visibility": null,
            "width": null
          }
        },
        "b2bf1efcfea141f19644afda6ac1b572": {
          "model_module": "@jupyter-widgets/controls",
          "model_name": "DescriptionStyleModel",
          "model_module_version": "1.5.0",
          "state": {
            "_model_module": "@jupyter-widgets/controls",
            "_model_module_version": "1.5.0",
            "_model_name": "DescriptionStyleModel",
            "_view_count": null,
            "_view_module": "@jupyter-widgets/base",
            "_view_module_version": "1.2.0",
            "_view_name": "StyleView",
            "description_width": ""
          }
        },
        "1eaabe4f89954cf3be8411f367d59cb8": {
          "model_module": "@jupyter-widgets/base",
          "model_name": "LayoutModel",
          "model_module_version": "1.2.0",
          "state": {
            "_model_module": "@jupyter-widgets/base",
            "_model_module_version": "1.2.0",
            "_model_name": "LayoutModel",
            "_view_count": null,
            "_view_module": "@jupyter-widgets/base",
            "_view_module_version": "1.2.0",
            "_view_name": "LayoutView",
            "align_content": null,
            "align_items": null,
            "align_self": null,
            "border": null,
            "bottom": null,
            "display": null,
            "flex": null,
            "flex_flow": null,
            "grid_area": null,
            "grid_auto_columns": null,
            "grid_auto_flow": null,
            "grid_auto_rows": null,
            "grid_column": null,
            "grid_gap": null,
            "grid_row": null,
            "grid_template_areas": null,
            "grid_template_columns": null,
            "grid_template_rows": null,
            "height": null,
            "justify_content": null,
            "justify_items": null,
            "left": null,
            "margin": null,
            "max_height": null,
            "max_width": null,
            "min_height": null,
            "min_width": null,
            "object_fit": null,
            "object_position": null,
            "order": null,
            "overflow": null,
            "overflow_x": null,
            "overflow_y": null,
            "padding": null,
            "right": null,
            "top": null,
            "visibility": null,
            "width": null
          }
        },
        "c3c60a989a2b4ce5afd01156d1f2b98e": {
          "model_module": "@jupyter-widgets/controls",
          "model_name": "ProgressStyleModel",
          "model_module_version": "1.5.0",
          "state": {
            "_model_module": "@jupyter-widgets/controls",
            "_model_module_version": "1.5.0",
            "_model_name": "ProgressStyleModel",
            "_view_count": null,
            "_view_module": "@jupyter-widgets/base",
            "_view_module_version": "1.2.0",
            "_view_name": "StyleView",
            "bar_color": null,
            "description_width": ""
          }
        },
        "d2b65d3963d647c8aeb790ea347ce75b": {
          "model_module": "@jupyter-widgets/base",
          "model_name": "LayoutModel",
          "model_module_version": "1.2.0",
          "state": {
            "_model_module": "@jupyter-widgets/base",
            "_model_module_version": "1.2.0",
            "_model_name": "LayoutModel",
            "_view_count": null,
            "_view_module": "@jupyter-widgets/base",
            "_view_module_version": "1.2.0",
            "_view_name": "LayoutView",
            "align_content": null,
            "align_items": null,
            "align_self": null,
            "border": null,
            "bottom": null,
            "display": null,
            "flex": null,
            "flex_flow": null,
            "grid_area": null,
            "grid_auto_columns": null,
            "grid_auto_flow": null,
            "grid_auto_rows": null,
            "grid_column": null,
            "grid_gap": null,
            "grid_row": null,
            "grid_template_areas": null,
            "grid_template_columns": null,
            "grid_template_rows": null,
            "height": null,
            "justify_content": null,
            "justify_items": null,
            "left": null,
            "margin": null,
            "max_height": null,
            "max_width": null,
            "min_height": null,
            "min_width": null,
            "object_fit": null,
            "object_position": null,
            "order": null,
            "overflow": null,
            "overflow_x": null,
            "overflow_y": null,
            "padding": null,
            "right": null,
            "top": null,
            "visibility": null,
            "width": null
          }
        },
        "502d8e0fdfa24a16a65e8b0c348fd5f6": {
          "model_module": "@jupyter-widgets/controls",
          "model_name": "DescriptionStyleModel",
          "model_module_version": "1.5.0",
          "state": {
            "_model_module": "@jupyter-widgets/controls",
            "_model_module_version": "1.5.0",
            "_model_name": "DescriptionStyleModel",
            "_view_count": null,
            "_view_module": "@jupyter-widgets/base",
            "_view_module_version": "1.2.0",
            "_view_name": "StyleView",
            "description_width": ""
          }
        },
        "e0d4f21feb4d45fc912c344b12487f96": {
          "model_module": "@jupyter-widgets/controls",
          "model_name": "HBoxModel",
          "model_module_version": "1.5.0",
          "state": {
            "_dom_classes": [],
            "_model_module": "@jupyter-widgets/controls",
            "_model_module_version": "1.5.0",
            "_model_name": "HBoxModel",
            "_view_count": null,
            "_view_module": "@jupyter-widgets/controls",
            "_view_module_version": "1.5.0",
            "_view_name": "HBoxView",
            "box_style": "",
            "children": [
              "IPY_MODEL_8b0ceec400be4698a8c35c77b2fd12ab",
              "IPY_MODEL_1753bb0b60ef421eba7f8be330531d0c",
              "IPY_MODEL_8cc2f1961ee54672978d0ce0c5c7d24a"
            ],
            "layout": "IPY_MODEL_91fd1d2ddb6649a0852621416d25ffb1"
          }
        },
        "8b0ceec400be4698a8c35c77b2fd12ab": {
          "model_module": "@jupyter-widgets/controls",
          "model_name": "HTMLModel",
          "model_module_version": "1.5.0",
          "state": {
            "_dom_classes": [],
            "_model_module": "@jupyter-widgets/controls",
            "_model_module_version": "1.5.0",
            "_model_name": "HTMLModel",
            "_view_count": null,
            "_view_module": "@jupyter-widgets/controls",
            "_view_module_version": "1.5.0",
            "_view_name": "HTMLView",
            "description": "",
            "description_tooltip": null,
            "layout": "IPY_MODEL_ed7166cb48ae402dbdafede4491e95a4",
            "placeholder": "​",
            "style": "IPY_MODEL_6074be11f23f49eda62b258a232b3e7b",
            "value": "model.safetensors: 100%"
          }
        },
        "1753bb0b60ef421eba7f8be330531d0c": {
          "model_module": "@jupyter-widgets/controls",
          "model_name": "FloatProgressModel",
          "model_module_version": "1.5.0",
          "state": {
            "_dom_classes": [],
            "_model_module": "@jupyter-widgets/controls",
            "_model_module_version": "1.5.0",
            "_model_name": "FloatProgressModel",
            "_view_count": null,
            "_view_module": "@jupyter-widgets/controls",
            "_view_module_version": "1.5.0",
            "_view_name": "ProgressView",
            "bar_style": "success",
            "description": "",
            "description_tooltip": null,
            "layout": "IPY_MODEL_42a87b1580f84580ab7148216059795d",
            "max": 267954768,
            "min": 0,
            "orientation": "horizontal",
            "style": "IPY_MODEL_6d4c8fb024e34a29ab9da61a42ae3a1e",
            "value": 267954768
          }
        },
        "8cc2f1961ee54672978d0ce0c5c7d24a": {
          "model_module": "@jupyter-widgets/controls",
          "model_name": "HTMLModel",
          "model_module_version": "1.5.0",
          "state": {
            "_dom_classes": [],
            "_model_module": "@jupyter-widgets/controls",
            "_model_module_version": "1.5.0",
            "_model_name": "HTMLModel",
            "_view_count": null,
            "_view_module": "@jupyter-widgets/controls",
            "_view_module_version": "1.5.0",
            "_view_name": "HTMLView",
            "description": "",
            "description_tooltip": null,
            "layout": "IPY_MODEL_fbc62d118d24464e877d0f483c9eb0a6",
            "placeholder": "​",
            "style": "IPY_MODEL_86a0323056014b39b4250d7a173a3e26",
            "value": " 268M/268M [00:01&lt;00:00, 147MB/s]"
          }
        },
        "91fd1d2ddb6649a0852621416d25ffb1": {
          "model_module": "@jupyter-widgets/base",
          "model_name": "LayoutModel",
          "model_module_version": "1.2.0",
          "state": {
            "_model_module": "@jupyter-widgets/base",
            "_model_module_version": "1.2.0",
            "_model_name": "LayoutModel",
            "_view_count": null,
            "_view_module": "@jupyter-widgets/base",
            "_view_module_version": "1.2.0",
            "_view_name": "LayoutView",
            "align_content": null,
            "align_items": null,
            "align_self": null,
            "border": null,
            "bottom": null,
            "display": null,
            "flex": null,
            "flex_flow": null,
            "grid_area": null,
            "grid_auto_columns": null,
            "grid_auto_flow": null,
            "grid_auto_rows": null,
            "grid_column": null,
            "grid_gap": null,
            "grid_row": null,
            "grid_template_areas": null,
            "grid_template_columns": null,
            "grid_template_rows": null,
            "height": null,
            "justify_content": null,
            "justify_items": null,
            "left": null,
            "margin": null,
            "max_height": null,
            "max_width": null,
            "min_height": null,
            "min_width": null,
            "object_fit": null,
            "object_position": null,
            "order": null,
            "overflow": null,
            "overflow_x": null,
            "overflow_y": null,
            "padding": null,
            "right": null,
            "top": null,
            "visibility": null,
            "width": null
          }
        },
        "ed7166cb48ae402dbdafede4491e95a4": {
          "model_module": "@jupyter-widgets/base",
          "model_name": "LayoutModel",
          "model_module_version": "1.2.0",
          "state": {
            "_model_module": "@jupyter-widgets/base",
            "_model_module_version": "1.2.0",
            "_model_name": "LayoutModel",
            "_view_count": null,
            "_view_module": "@jupyter-widgets/base",
            "_view_module_version": "1.2.0",
            "_view_name": "LayoutView",
            "align_content": null,
            "align_items": null,
            "align_self": null,
            "border": null,
            "bottom": null,
            "display": null,
            "flex": null,
            "flex_flow": null,
            "grid_area": null,
            "grid_auto_columns": null,
            "grid_auto_flow": null,
            "grid_auto_rows": null,
            "grid_column": null,
            "grid_gap": null,
            "grid_row": null,
            "grid_template_areas": null,
            "grid_template_columns": null,
            "grid_template_rows": null,
            "height": null,
            "justify_content": null,
            "justify_items": null,
            "left": null,
            "margin": null,
            "max_height": null,
            "max_width": null,
            "min_height": null,
            "min_width": null,
            "object_fit": null,
            "object_position": null,
            "order": null,
            "overflow": null,
            "overflow_x": null,
            "overflow_y": null,
            "padding": null,
            "right": null,
            "top": null,
            "visibility": null,
            "width": null
          }
        },
        "6074be11f23f49eda62b258a232b3e7b": {
          "model_module": "@jupyter-widgets/controls",
          "model_name": "DescriptionStyleModel",
          "model_module_version": "1.5.0",
          "state": {
            "_model_module": "@jupyter-widgets/controls",
            "_model_module_version": "1.5.0",
            "_model_name": "DescriptionStyleModel",
            "_view_count": null,
            "_view_module": "@jupyter-widgets/base",
            "_view_module_version": "1.2.0",
            "_view_name": "StyleView",
            "description_width": ""
          }
        },
        "42a87b1580f84580ab7148216059795d": {
          "model_module": "@jupyter-widgets/base",
          "model_name": "LayoutModel",
          "model_module_version": "1.2.0",
          "state": {
            "_model_module": "@jupyter-widgets/base",
            "_model_module_version": "1.2.0",
            "_model_name": "LayoutModel",
            "_view_count": null,
            "_view_module": "@jupyter-widgets/base",
            "_view_module_version": "1.2.0",
            "_view_name": "LayoutView",
            "align_content": null,
            "align_items": null,
            "align_self": null,
            "border": null,
            "bottom": null,
            "display": null,
            "flex": null,
            "flex_flow": null,
            "grid_area": null,
            "grid_auto_columns": null,
            "grid_auto_flow": null,
            "grid_auto_rows": null,
            "grid_column": null,
            "grid_gap": null,
            "grid_row": null,
            "grid_template_areas": null,
            "grid_template_columns": null,
            "grid_template_rows": null,
            "height": null,
            "justify_content": null,
            "justify_items": null,
            "left": null,
            "margin": null,
            "max_height": null,
            "max_width": null,
            "min_height": null,
            "min_width": null,
            "object_fit": null,
            "object_position": null,
            "order": null,
            "overflow": null,
            "overflow_x": null,
            "overflow_y": null,
            "padding": null,
            "right": null,
            "top": null,
            "visibility": null,
            "width": null
          }
        },
        "6d4c8fb024e34a29ab9da61a42ae3a1e": {
          "model_module": "@jupyter-widgets/controls",
          "model_name": "ProgressStyleModel",
          "model_module_version": "1.5.0",
          "state": {
            "_model_module": "@jupyter-widgets/controls",
            "_model_module_version": "1.5.0",
            "_model_name": "ProgressStyleModel",
            "_view_count": null,
            "_view_module": "@jupyter-widgets/base",
            "_view_module_version": "1.2.0",
            "_view_name": "StyleView",
            "bar_color": null,
            "description_width": ""
          }
        },
        "fbc62d118d24464e877d0f483c9eb0a6": {
          "model_module": "@jupyter-widgets/base",
          "model_name": "LayoutModel",
          "model_module_version": "1.2.0",
          "state": {
            "_model_module": "@jupyter-widgets/base",
            "_model_module_version": "1.2.0",
            "_model_name": "LayoutModel",
            "_view_count": null,
            "_view_module": "@jupyter-widgets/base",
            "_view_module_version": "1.2.0",
            "_view_name": "LayoutView",
            "align_content": null,
            "align_items": null,
            "align_self": null,
            "border": null,
            "bottom": null,
            "display": null,
            "flex": null,
            "flex_flow": null,
            "grid_area": null,
            "grid_auto_columns": null,
            "grid_auto_flow": null,
            "grid_auto_rows": null,
            "grid_column": null,
            "grid_gap": null,
            "grid_row": null,
            "grid_template_areas": null,
            "grid_template_columns": null,
            "grid_template_rows": null,
            "height": null,
            "justify_content": null,
            "justify_items": null,
            "left": null,
            "margin": null,
            "max_height": null,
            "max_width": null,
            "min_height": null,
            "min_width": null,
            "object_fit": null,
            "object_position": null,
            "order": null,
            "overflow": null,
            "overflow_x": null,
            "overflow_y": null,
            "padding": null,
            "right": null,
            "top": null,
            "visibility": null,
            "width": null
          }
        },
        "86a0323056014b39b4250d7a173a3e26": {
          "model_module": "@jupyter-widgets/controls",
          "model_name": "DescriptionStyleModel",
          "model_module_version": "1.5.0",
          "state": {
            "_model_module": "@jupyter-widgets/controls",
            "_model_module_version": "1.5.0",
            "_model_name": "DescriptionStyleModel",
            "_view_count": null,
            "_view_module": "@jupyter-widgets/base",
            "_view_module_version": "1.2.0",
            "_view_name": "StyleView",
            "description_width": ""
          }
        }
      }
    }
  },
  "nbformat": 4,
  "nbformat_minor": 0
}